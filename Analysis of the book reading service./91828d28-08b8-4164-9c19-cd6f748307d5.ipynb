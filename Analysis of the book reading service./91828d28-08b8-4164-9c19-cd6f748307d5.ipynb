{
 "cells": [
  {
   "cell_type": "markdown",
   "metadata": {},
   "source": [
    "# Проект по SQL"
   ]
  },
  {
   "cell_type": "markdown",
   "metadata": {},
   "source": [
    "**ЦЕЛЬ:** проанализировать базу данных сервиса для чтения книг \n",
    "    \n",
    "**Задачи:**подготовить анализ о ĸоличестве ĸниг, отзывах, популярных изданиях и авторах\n",
    "\n",
    "**Ход работы**\n",
    "1. Исследование таблиц\n",
    "2. Посчитать, сколько книг вышло после 1 января 2000 года;\n",
    "3. Для каждой книги посчитайте количество обзоров и среднюю оценку;\n",
    "4. Определить издательство, которое выпустило наибольшее число книг толще 50 страниц;\n",
    "5. Определить автора с самой высокой средней оценкой книг(учитываются только книги с 50 и более оценками);\n",
    "6. Посчитать среднее количество обзоров от пользователей, которые поставили больше 48 оценок.\n",
    "\n",
    "**Описание данных**\n",
    "\n",
    "*Таблица books*\n",
    "\n",
    "Содержит данные о книгах:\n",
    "\n",
    "* book_id — идентификатор книги;\n",
    "* author_id — идентификатор автора;\n",
    "* title — название книги;\n",
    "* num_pages — количество страниц;\n",
    "* publication_date — дата публикации книги;\n",
    "* publisher_id — идентификатор издателя.\n",
    "\n",
    "*Таблица authors*\n",
    "\n",
    "Содержит данные об авторах:\n",
    "\n",
    "* author_id — идентификатор автора;\n",
    "* author — имя автора.\n",
    "\n",
    "*Таблица publishers*\n",
    "\n",
    "Содержит данные об издательствах:\n",
    "\n",
    "* publisher_id — идентификатор издательства;\n",
    "* publisher — название издательства.\n",
    "\n",
    "*Таблица ratings*\n",
    "\n",
    "Содержит данные о пользовательских оценках книг:\n",
    "\n",
    "* rating_id — идентификатор оценки;\n",
    "* book_id — идентификатор книги;\n",
    "* username — имя пользователя, оставившего оценку;\n",
    "* rating — оценка книги.\n",
    "\n",
    "*Таблица reviews*\n",
    "\n",
    "Содержит данные о пользовательских обзорах:\n",
    "\n",
    "* review_id — идентификатор обзора;\n",
    "* book_id — идентификатор книги;\n",
    "* username — имя автора обзора;\n",
    "* text — текст обзора."
   ]
  },
  {
   "cell_type": "markdown",
   "metadata": {},
   "source": [
    "## Исследование таблиц"
   ]
  },
  {
   "cell_type": "code",
   "execution_count": 1,
   "metadata": {},
   "outputs": [],
   "source": [
    "import pandas as pd\n",
    "from sqlalchemy import text, create_engine"
   ]
  },
  {
   "cell_type": "code",
   "execution_count": 2,
   "metadata": {},
   "outputs": [],
   "source": [
    "db_config = {'user': 'praktikum_student', # имя пользователя\n",
    "'pwd': 'Sdf4$2;d-d30pp', # пароль\n",
    "'host': 'rc1b-wcoijxj3yxfsf3fs.mdb.yandexcloud.net',\n",
    "'port': 6432, # порт подключения\n",
    "'db': 'data-analyst-final-project-db'} # название базы данных\n",
    "connection_string = 'postgresql://{user}:{pwd}@{host}:{port}/{db}'.format(**db_config)"
   ]
  },
  {
   "cell_type": "code",
   "execution_count": 3,
   "metadata": {},
   "outputs": [],
   "source": [
    "engine = create_engine(connection_string, connect_args={'sslmode':'require'})\n"
   ]
  },
  {
   "cell_type": "code",
   "execution_count": 4,
   "metadata": {},
   "outputs": [],
   "source": [
    "def all_table(table):\n",
    "    query = '''SELECT * FROM {} LIMIT 5'''.format(table)\n",
    "    df = pd.io.sql.read_sql(query, con = engine)\n",
    "    display (df)"
   ]
  },
  {
   "cell_type": "code",
   "execution_count": 5,
   "metadata": {},
   "outputs": [
    {
     "name": "stdout",
     "output_type": "stream",
     "text": [
      "\u001b[1mТаблица books\n"
     ]
    },
    {
     "data": {
      "text/html": [
       "<div>\n",
       "<style scoped>\n",
       "    .dataframe tbody tr th:only-of-type {\n",
       "        vertical-align: middle;\n",
       "    }\n",
       "\n",
       "    .dataframe tbody tr th {\n",
       "        vertical-align: top;\n",
       "    }\n",
       "\n",
       "    .dataframe thead th {\n",
       "        text-align: right;\n",
       "    }\n",
       "</style>\n",
       "<table border=\"1\" class=\"dataframe\">\n",
       "  <thead>\n",
       "    <tr style=\"text-align: right;\">\n",
       "      <th></th>\n",
       "      <th>book_id</th>\n",
       "      <th>author_id</th>\n",
       "      <th>title</th>\n",
       "      <th>num_pages</th>\n",
       "      <th>publication_date</th>\n",
       "      <th>publisher_id</th>\n",
       "    </tr>\n",
       "  </thead>\n",
       "  <tbody>\n",
       "    <tr>\n",
       "      <th>0</th>\n",
       "      <td>1</td>\n",
       "      <td>546</td>\n",
       "      <td>'Salem's Lot</td>\n",
       "      <td>594</td>\n",
       "      <td>2005-11-01</td>\n",
       "      <td>93</td>\n",
       "    </tr>\n",
       "    <tr>\n",
       "      <th>1</th>\n",
       "      <td>2</td>\n",
       "      <td>465</td>\n",
       "      <td>1 000 Places to See Before You Die</td>\n",
       "      <td>992</td>\n",
       "      <td>2003-05-22</td>\n",
       "      <td>336</td>\n",
       "    </tr>\n",
       "    <tr>\n",
       "      <th>2</th>\n",
       "      <td>3</td>\n",
       "      <td>407</td>\n",
       "      <td>13 Little Blue Envelopes (Little Blue Envelope...</td>\n",
       "      <td>322</td>\n",
       "      <td>2010-12-21</td>\n",
       "      <td>135</td>\n",
       "    </tr>\n",
       "    <tr>\n",
       "      <th>3</th>\n",
       "      <td>4</td>\n",
       "      <td>82</td>\n",
       "      <td>1491: New Revelations of the Americas Before C...</td>\n",
       "      <td>541</td>\n",
       "      <td>2006-10-10</td>\n",
       "      <td>309</td>\n",
       "    </tr>\n",
       "    <tr>\n",
       "      <th>4</th>\n",
       "      <td>5</td>\n",
       "      <td>125</td>\n",
       "      <td>1776</td>\n",
       "      <td>386</td>\n",
       "      <td>2006-07-04</td>\n",
       "      <td>268</td>\n",
       "    </tr>\n",
       "  </tbody>\n",
       "</table>\n",
       "</div>"
      ],
      "text/plain": [
       "   book_id  author_id                                              title  \\\n",
       "0        1        546                                       'Salem's Lot   \n",
       "1        2        465                 1 000 Places to See Before You Die   \n",
       "2        3        407  13 Little Blue Envelopes (Little Blue Envelope...   \n",
       "3        4         82  1491: New Revelations of the Americas Before C...   \n",
       "4        5        125                                               1776   \n",
       "\n",
       "   num_pages publication_date  publisher_id  \n",
       "0        594       2005-11-01            93  \n",
       "1        992       2003-05-22           336  \n",
       "2        322       2010-12-21           135  \n",
       "3        541       2006-10-10           309  \n",
       "4        386       2006-07-04           268  "
      ]
     },
     "metadata": {},
     "output_type": "display_data"
    },
    {
     "name": "stdout",
     "output_type": "stream",
     "text": [
      "\u001b[1mТаблица authors\n"
     ]
    },
    {
     "data": {
      "text/html": [
       "<div>\n",
       "<style scoped>\n",
       "    .dataframe tbody tr th:only-of-type {\n",
       "        vertical-align: middle;\n",
       "    }\n",
       "\n",
       "    .dataframe tbody tr th {\n",
       "        vertical-align: top;\n",
       "    }\n",
       "\n",
       "    .dataframe thead th {\n",
       "        text-align: right;\n",
       "    }\n",
       "</style>\n",
       "<table border=\"1\" class=\"dataframe\">\n",
       "  <thead>\n",
       "    <tr style=\"text-align: right;\">\n",
       "      <th></th>\n",
       "      <th>author_id</th>\n",
       "      <th>author</th>\n",
       "    </tr>\n",
       "  </thead>\n",
       "  <tbody>\n",
       "    <tr>\n",
       "      <th>0</th>\n",
       "      <td>1</td>\n",
       "      <td>A.S. Byatt</td>\n",
       "    </tr>\n",
       "    <tr>\n",
       "      <th>1</th>\n",
       "      <td>2</td>\n",
       "      <td>Aesop/Laura Harris/Laura Gibbs</td>\n",
       "    </tr>\n",
       "    <tr>\n",
       "      <th>2</th>\n",
       "      <td>3</td>\n",
       "      <td>Agatha Christie</td>\n",
       "    </tr>\n",
       "    <tr>\n",
       "      <th>3</th>\n",
       "      <td>4</td>\n",
       "      <td>Alan Brennert</td>\n",
       "    </tr>\n",
       "    <tr>\n",
       "      <th>4</th>\n",
       "      <td>5</td>\n",
       "      <td>Alan Moore/David   Lloyd</td>\n",
       "    </tr>\n",
       "  </tbody>\n",
       "</table>\n",
       "</div>"
      ],
      "text/plain": [
       "   author_id                          author\n",
       "0          1                      A.S. Byatt\n",
       "1          2  Aesop/Laura Harris/Laura Gibbs\n",
       "2          3                 Agatha Christie\n",
       "3          4                   Alan Brennert\n",
       "4          5        Alan Moore/David   Lloyd"
      ]
     },
     "metadata": {},
     "output_type": "display_data"
    },
    {
     "name": "stdout",
     "output_type": "stream",
     "text": [
      "\u001b[1mТаблица ratings\n"
     ]
    },
    {
     "data": {
      "text/html": [
       "<div>\n",
       "<style scoped>\n",
       "    .dataframe tbody tr th:only-of-type {\n",
       "        vertical-align: middle;\n",
       "    }\n",
       "\n",
       "    .dataframe tbody tr th {\n",
       "        vertical-align: top;\n",
       "    }\n",
       "\n",
       "    .dataframe thead th {\n",
       "        text-align: right;\n",
       "    }\n",
       "</style>\n",
       "<table border=\"1\" class=\"dataframe\">\n",
       "  <thead>\n",
       "    <tr style=\"text-align: right;\">\n",
       "      <th></th>\n",
       "      <th>rating_id</th>\n",
       "      <th>book_id</th>\n",
       "      <th>username</th>\n",
       "      <th>rating</th>\n",
       "    </tr>\n",
       "  </thead>\n",
       "  <tbody>\n",
       "    <tr>\n",
       "      <th>0</th>\n",
       "      <td>1</td>\n",
       "      <td>1</td>\n",
       "      <td>ryanfranco</td>\n",
       "      <td>4</td>\n",
       "    </tr>\n",
       "    <tr>\n",
       "      <th>1</th>\n",
       "      <td>2</td>\n",
       "      <td>1</td>\n",
       "      <td>grantpatricia</td>\n",
       "      <td>2</td>\n",
       "    </tr>\n",
       "    <tr>\n",
       "      <th>2</th>\n",
       "      <td>3</td>\n",
       "      <td>1</td>\n",
       "      <td>brandtandrea</td>\n",
       "      <td>5</td>\n",
       "    </tr>\n",
       "    <tr>\n",
       "      <th>3</th>\n",
       "      <td>4</td>\n",
       "      <td>2</td>\n",
       "      <td>lorichen</td>\n",
       "      <td>3</td>\n",
       "    </tr>\n",
       "    <tr>\n",
       "      <th>4</th>\n",
       "      <td>5</td>\n",
       "      <td>2</td>\n",
       "      <td>mariokeller</td>\n",
       "      <td>2</td>\n",
       "    </tr>\n",
       "  </tbody>\n",
       "</table>\n",
       "</div>"
      ],
      "text/plain": [
       "   rating_id  book_id       username  rating\n",
       "0          1        1     ryanfranco       4\n",
       "1          2        1  grantpatricia       2\n",
       "2          3        1   brandtandrea       5\n",
       "3          4        2       lorichen       3\n",
       "4          5        2    mariokeller       2"
      ]
     },
     "metadata": {},
     "output_type": "display_data"
    },
    {
     "name": "stdout",
     "output_type": "stream",
     "text": [
      "\u001b[1mТаблица reviews\n"
     ]
    },
    {
     "data": {
      "text/html": [
       "<div>\n",
       "<style scoped>\n",
       "    .dataframe tbody tr th:only-of-type {\n",
       "        vertical-align: middle;\n",
       "    }\n",
       "\n",
       "    .dataframe tbody tr th {\n",
       "        vertical-align: top;\n",
       "    }\n",
       "\n",
       "    .dataframe thead th {\n",
       "        text-align: right;\n",
       "    }\n",
       "</style>\n",
       "<table border=\"1\" class=\"dataframe\">\n",
       "  <thead>\n",
       "    <tr style=\"text-align: right;\">\n",
       "      <th></th>\n",
       "      <th>review_id</th>\n",
       "      <th>book_id</th>\n",
       "      <th>username</th>\n",
       "      <th>text</th>\n",
       "    </tr>\n",
       "  </thead>\n",
       "  <tbody>\n",
       "    <tr>\n",
       "      <th>0</th>\n",
       "      <td>1</td>\n",
       "      <td>1</td>\n",
       "      <td>brandtandrea</td>\n",
       "      <td>Mention society tell send professor analysis. ...</td>\n",
       "    </tr>\n",
       "    <tr>\n",
       "      <th>1</th>\n",
       "      <td>2</td>\n",
       "      <td>1</td>\n",
       "      <td>ryanfranco</td>\n",
       "      <td>Foot glass pretty audience hit themselves. Amo...</td>\n",
       "    </tr>\n",
       "    <tr>\n",
       "      <th>2</th>\n",
       "      <td>3</td>\n",
       "      <td>2</td>\n",
       "      <td>lorichen</td>\n",
       "      <td>Listen treat keep worry. Miss husband tax but ...</td>\n",
       "    </tr>\n",
       "    <tr>\n",
       "      <th>3</th>\n",
       "      <td>4</td>\n",
       "      <td>3</td>\n",
       "      <td>johnsonamanda</td>\n",
       "      <td>Finally month interesting blue could nature cu...</td>\n",
       "    </tr>\n",
       "    <tr>\n",
       "      <th>4</th>\n",
       "      <td>5</td>\n",
       "      <td>3</td>\n",
       "      <td>scotttamara</td>\n",
       "      <td>Nation purpose heavy give wait song will. List...</td>\n",
       "    </tr>\n",
       "  </tbody>\n",
       "</table>\n",
       "</div>"
      ],
      "text/plain": [
       "   review_id  book_id       username  \\\n",
       "0          1        1   brandtandrea   \n",
       "1          2        1     ryanfranco   \n",
       "2          3        2       lorichen   \n",
       "3          4        3  johnsonamanda   \n",
       "4          5        3    scotttamara   \n",
       "\n",
       "                                                text  \n",
       "0  Mention society tell send professor analysis. ...  \n",
       "1  Foot glass pretty audience hit themselves. Amo...  \n",
       "2  Listen treat keep worry. Miss husband tax but ...  \n",
       "3  Finally month interesting blue could nature cu...  \n",
       "4  Nation purpose heavy give wait song will. List...  "
      ]
     },
     "metadata": {},
     "output_type": "display_data"
    },
    {
     "name": "stdout",
     "output_type": "stream",
     "text": [
      "\u001b[1mТаблица publishers\n"
     ]
    },
    {
     "data": {
      "text/html": [
       "<div>\n",
       "<style scoped>\n",
       "    .dataframe tbody tr th:only-of-type {\n",
       "        vertical-align: middle;\n",
       "    }\n",
       "\n",
       "    .dataframe tbody tr th {\n",
       "        vertical-align: top;\n",
       "    }\n",
       "\n",
       "    .dataframe thead th {\n",
       "        text-align: right;\n",
       "    }\n",
       "</style>\n",
       "<table border=\"1\" class=\"dataframe\">\n",
       "  <thead>\n",
       "    <tr style=\"text-align: right;\">\n",
       "      <th></th>\n",
       "      <th>publisher_id</th>\n",
       "      <th>publisher</th>\n",
       "    </tr>\n",
       "  </thead>\n",
       "  <tbody>\n",
       "    <tr>\n",
       "      <th>0</th>\n",
       "      <td>1</td>\n",
       "      <td>Ace</td>\n",
       "    </tr>\n",
       "    <tr>\n",
       "      <th>1</th>\n",
       "      <td>2</td>\n",
       "      <td>Ace Book</td>\n",
       "    </tr>\n",
       "    <tr>\n",
       "      <th>2</th>\n",
       "      <td>3</td>\n",
       "      <td>Ace Books</td>\n",
       "    </tr>\n",
       "    <tr>\n",
       "      <th>3</th>\n",
       "      <td>4</td>\n",
       "      <td>Ace Hardcover</td>\n",
       "    </tr>\n",
       "    <tr>\n",
       "      <th>4</th>\n",
       "      <td>5</td>\n",
       "      <td>Addison Wesley Publishing Company</td>\n",
       "    </tr>\n",
       "  </tbody>\n",
       "</table>\n",
       "</div>"
      ],
      "text/plain": [
       "   publisher_id                          publisher\n",
       "0             1                                Ace\n",
       "1             2                           Ace Book\n",
       "2             3                          Ace Books\n",
       "3             4                      Ace Hardcover\n",
       "4             5  Addison Wesley Publishing Company"
      ]
     },
     "metadata": {},
     "output_type": "display_data"
    }
   ],
   "source": [
    "list = ['books','authors', 'ratings', 'reviews', 'publishers']\n",
    "for i in list:\n",
    "\n",
    "    print('\\033[1m' + \"Таблица\", i)\n",
    "    all_table(i)"
   ]
  },
  {
   "cell_type": "markdown",
   "metadata": {},
   "source": [
    "## Cколько книг вышло после 1 января 2000 года"
   ]
  },
  {
   "cell_type": "code",
   "execution_count": 6,
   "metadata": {},
   "outputs": [
    {
     "data": {
      "text/html": [
       "<div>\n",
       "<style scoped>\n",
       "    .dataframe tbody tr th:only-of-type {\n",
       "        vertical-align: middle;\n",
       "    }\n",
       "\n",
       "    .dataframe tbody tr th {\n",
       "        vertical-align: top;\n",
       "    }\n",
       "\n",
       "    .dataframe thead th {\n",
       "        text-align: right;\n",
       "    }\n",
       "</style>\n",
       "<table border=\"1\" class=\"dataframe\">\n",
       "  <thead>\n",
       "    <tr style=\"text-align: right;\">\n",
       "      <th></th>\n",
       "      <th>count</th>\n",
       "    </tr>\n",
       "  </thead>\n",
       "  <tbody>\n",
       "    <tr>\n",
       "      <th>0</th>\n",
       "      <td>819</td>\n",
       "    </tr>\n",
       "  </tbody>\n",
       "</table>\n",
       "</div>"
      ],
      "text/plain": [
       "   count\n",
       "0    819"
      ]
     },
     "execution_count": 6,
     "metadata": {},
     "output_type": "execute_result"
    }
   ],
   "source": [
    "books_count = '''\n",
    "SELECT \n",
    "    COUNT(book_id)\n",
    "    FROM books \n",
    "    WHERE publication_date >= '2000-01-02' '''\n",
    "pd.io.sql.read_sql(books_count, con = engine)"
   ]
  },
  {
   "cell_type": "markdown",
   "metadata": {},
   "source": [
    "**После 1 января 2000 года вышло 819 книг**"
   ]
  },
  {
   "cell_type": "markdown",
   "metadata": {},
   "source": [
    "## Количество обзоров и средняя оценку для каждой книги"
   ]
  },
  {
   "cell_type": "code",
   "execution_count": 7,
   "metadata": {},
   "outputs": [
    {
     "data": {
      "text/html": [
       "<div>\n",
       "<style scoped>\n",
       "    .dataframe tbody tr th:only-of-type {\n",
       "        vertical-align: middle;\n",
       "    }\n",
       "\n",
       "    .dataframe tbody tr th {\n",
       "        vertical-align: top;\n",
       "    }\n",
       "\n",
       "    .dataframe thead th {\n",
       "        text-align: right;\n",
       "    }\n",
       "</style>\n",
       "<table border=\"1\" class=\"dataframe\">\n",
       "  <thead>\n",
       "    <tr style=\"text-align: right;\">\n",
       "      <th></th>\n",
       "      <th>title</th>\n",
       "      <th>id</th>\n",
       "      <th>count_reviews</th>\n",
       "      <th>avg_rating</th>\n",
       "    </tr>\n",
       "  </thead>\n",
       "  <tbody>\n",
       "    <tr>\n",
       "      <th>0</th>\n",
       "      <td>Twilight (Twilight  #1)</td>\n",
       "      <td>948</td>\n",
       "      <td>7</td>\n",
       "      <td>3.7</td>\n",
       "    </tr>\n",
       "    <tr>\n",
       "      <th>1</th>\n",
       "      <td>The Road</td>\n",
       "      <td>854</td>\n",
       "      <td>6</td>\n",
       "      <td>3.8</td>\n",
       "    </tr>\n",
       "    <tr>\n",
       "      <th>2</th>\n",
       "      <td>The Book Thief</td>\n",
       "      <td>656</td>\n",
       "      <td>6</td>\n",
       "      <td>4.3</td>\n",
       "    </tr>\n",
       "    <tr>\n",
       "      <th>3</th>\n",
       "      <td>The Glass Castle</td>\n",
       "      <td>734</td>\n",
       "      <td>6</td>\n",
       "      <td>4.2</td>\n",
       "    </tr>\n",
       "    <tr>\n",
       "      <th>4</th>\n",
       "      <td>Water for Elephants</td>\n",
       "      <td>963</td>\n",
       "      <td>6</td>\n",
       "      <td>4.0</td>\n",
       "    </tr>\n",
       "    <tr>\n",
       "      <th>...</th>\n",
       "      <td>...</td>\n",
       "      <td>...</td>\n",
       "      <td>...</td>\n",
       "      <td>...</td>\n",
       "    </tr>\n",
       "    <tr>\n",
       "      <th>989</th>\n",
       "      <td>Naked Empire (Sword of Truth  #8)</td>\n",
       "      <td>465</td>\n",
       "      <td>1</td>\n",
       "      <td>3.5</td>\n",
       "    </tr>\n",
       "    <tr>\n",
       "      <th>990</th>\n",
       "      <td>Moo  Baa  La La La!</td>\n",
       "      <td>446</td>\n",
       "      <td>1</td>\n",
       "      <td>3.0</td>\n",
       "    </tr>\n",
       "    <tr>\n",
       "      <th>991</th>\n",
       "      <td>Merrick (The Vampire Chronicles #7)</td>\n",
       "      <td>431</td>\n",
       "      <td>1</td>\n",
       "      <td>4.0</td>\n",
       "    </tr>\n",
       "    <tr>\n",
       "      <th>992</th>\n",
       "      <td>Babyville</td>\n",
       "      <td>92</td>\n",
       "      <td>1</td>\n",
       "      <td>3.5</td>\n",
       "    </tr>\n",
       "    <tr>\n",
       "      <th>993</th>\n",
       "      <td>Lysistrata</td>\n",
       "      <td>413</td>\n",
       "      <td>1</td>\n",
       "      <td>4.0</td>\n",
       "    </tr>\n",
       "  </tbody>\n",
       "</table>\n",
       "<p>994 rows × 4 columns</p>\n",
       "</div>"
      ],
      "text/plain": [
       "                                   title   id  count_reviews  avg_rating\n",
       "0                Twilight (Twilight  #1)  948              7         3.7\n",
       "1                               The Road  854              6         3.8\n",
       "2                         The Book Thief  656              6         4.3\n",
       "3                       The Glass Castle  734              6         4.2\n",
       "4                    Water for Elephants  963              6         4.0\n",
       "..                                   ...  ...            ...         ...\n",
       "989    Naked Empire (Sword of Truth  #8)  465              1         3.5\n",
       "990                  Moo  Baa  La La La!  446              1         3.0\n",
       "991  Merrick (The Vampire Chronicles #7)  431              1         4.0\n",
       "992                            Babyville   92              1         3.5\n",
       "993                           Lysistrata  413              1         4.0\n",
       "\n",
       "[994 rows x 4 columns]"
      ]
     },
     "execution_count": 7,
     "metadata": {},
     "output_type": "execute_result"
    }
   ],
   "source": [
    "review_rating= '''\n",
    "SELECT \n",
    "    books.title AS title,\n",
    "    books.book_id AS id,\n",
    "    COUNT(DISTINCT reviews.text) AS count_reviews,\n",
    "    ROUND(AVG(ratings.rating),1) AS avg_rating\n",
    "FROM books\n",
    "INNER JOIN ratings ON ratings.book_id = books.book_id\n",
    "INNER JOIN reviews ON reviews.book_id = books.book_id\n",
    "GROUP BY books.title, books.book_id\n",
    "ORDER BY count_reviews  DESC \n",
    "'''\n",
    "pd.io.sql.read_sql(review_rating, con = engine)"
   ]
  },
  {
   "cell_type": "markdown",
   "metadata": {},
   "source": [
    "## Издательство, которое выпустило наибольшее число книг толще 50 страниц "
   ]
  },
  {
   "cell_type": "code",
   "execution_count": 8,
   "metadata": {},
   "outputs": [
    {
     "data": {
      "text/html": [
       "<div>\n",
       "<style scoped>\n",
       "    .dataframe tbody tr th:only-of-type {\n",
       "        vertical-align: middle;\n",
       "    }\n",
       "\n",
       "    .dataframe tbody tr th {\n",
       "        vertical-align: top;\n",
       "    }\n",
       "\n",
       "    .dataframe thead th {\n",
       "        text-align: right;\n",
       "    }\n",
       "</style>\n",
       "<table border=\"1\" class=\"dataframe\">\n",
       "  <thead>\n",
       "    <tr style=\"text-align: right;\">\n",
       "      <th></th>\n",
       "      <th>name</th>\n",
       "      <th>count_books</th>\n",
       "    </tr>\n",
       "  </thead>\n",
       "  <tbody>\n",
       "    <tr>\n",
       "      <th>0</th>\n",
       "      <td>Penguin Books</td>\n",
       "      <td>42</td>\n",
       "    </tr>\n",
       "  </tbody>\n",
       "</table>\n",
       "</div>"
      ],
      "text/plain": [
       "            name  count_books\n",
       "0  Penguin Books           42"
      ]
     },
     "execution_count": 8,
     "metadata": {},
     "output_type": "execute_result"
    }
   ],
   "source": [
    "publishers_50 = '''\n",
    "SELECT \n",
    "    publishers.publisher AS name, \n",
    "    COUNT(books.book_id) AS count_books\n",
    "FROM publishers \n",
    "INNER JOIN books ON books.publisher_id = publishers.publisher_id\n",
    "WHERE num_pages > 50\n",
    "GROUP BY name\n",
    "ORDER BY count_books DESC\n",
    "LIMIT 1\n",
    "'''\n",
    "pd.io.sql.read_sql(publishers_50, con = engine)"
   ]
  },
  {
   "cell_type": "markdown",
   "metadata": {},
   "source": [
    "**Издательство, которое выпустило наибольшее число книг толще 50 страниц - Penguin Books**"
   ]
  },
  {
   "cell_type": "markdown",
   "metadata": {},
   "source": [
    "## Автор с самой высокой средней оценкой книг"
   ]
  },
  {
   "cell_type": "code",
   "execution_count": 9,
   "metadata": {},
   "outputs": [
    {
     "data": {
      "text/html": [
       "<div>\n",
       "<style scoped>\n",
       "    .dataframe tbody tr th:only-of-type {\n",
       "        vertical-align: middle;\n",
       "    }\n",
       "\n",
       "    .dataframe tbody tr th {\n",
       "        vertical-align: top;\n",
       "    }\n",
       "\n",
       "    .dataframe thead th {\n",
       "        text-align: right;\n",
       "    }\n",
       "</style>\n",
       "<table border=\"1\" class=\"dataframe\">\n",
       "  <thead>\n",
       "    <tr style=\"text-align: right;\">\n",
       "      <th></th>\n",
       "      <th>author</th>\n",
       "      <th>avg_rating</th>\n",
       "    </tr>\n",
       "  </thead>\n",
       "  <tbody>\n",
       "    <tr>\n",
       "      <th>0</th>\n",
       "      <td>J.K. Rowling/Mary GrandPré</td>\n",
       "      <td>4.29</td>\n",
       "    </tr>\n",
       "  </tbody>\n",
       "</table>\n",
       "</div>"
      ],
      "text/plain": [
       "                       author  avg_rating\n",
       "0  J.K. Rowling/Mary GrandPré        4.29"
      ]
     },
     "execution_count": 9,
     "metadata": {},
     "output_type": "execute_result"
    }
   ],
   "source": [
    "best_autor = '''\n",
    "SELECT authors.author,\n",
    "       ROUND(AVG(ratings.rating),2) AS avg_rating\n",
    "FROM authors\n",
    "INNER JOIN books ON books.author_id = authors.author_id\n",
    "INNER JOIN ratings ON ratings.book_id = books.book_id\n",
    "WHERE books.book_id IN\n",
    "    (SELECT books.book_id\n",
    "     FROM books\n",
    "     INNER JOIN ratings ON ratings.book_id = books.book_id\n",
    "     GROUP BY books.book_id\n",
    "     HAVING COUNT(ratings.rating_id)>=50)\n",
    "GROUP BY authors.author\n",
    "ORDER BY avg_rating DESC\n",
    "\n",
    "LIMIT 1\n",
    "'''\n",
    "pd.io.sql.read_sql(best_autor, con = engine)"
   ]
  },
  {
   "cell_type": "markdown",
   "metadata": {},
   "source": [
    "**Авторки с самой высокой средней оценкой книг - Джоан Роулинг/Мэри Грандпре**"
   ]
  },
  {
   "cell_type": "markdown",
   "metadata": {},
   "source": [
    "##  Cреднее количество обзоров от пользователей, которые поставили больше 48 оценок"
   ]
  },
  {
   "cell_type": "code",
   "execution_count": 10,
   "metadata": {},
   "outputs": [
    {
     "data": {
      "text/html": [
       "<div>\n",
       "<style scoped>\n",
       "    .dataframe tbody tr th:only-of-type {\n",
       "        vertical-align: middle;\n",
       "    }\n",
       "\n",
       "    .dataframe tbody tr th {\n",
       "        vertical-align: top;\n",
       "    }\n",
       "\n",
       "    .dataframe thead th {\n",
       "        text-align: right;\n",
       "    }\n",
       "</style>\n",
       "<table border=\"1\" class=\"dataframe\">\n",
       "  <thead>\n",
       "    <tr style=\"text-align: right;\">\n",
       "      <th></th>\n",
       "      <th>avg</th>\n",
       "    </tr>\n",
       "  </thead>\n",
       "  <tbody>\n",
       "    <tr>\n",
       "      <th>0</th>\n",
       "      <td>24.0</td>\n",
       "    </tr>\n",
       "  </tbody>\n",
       "</table>\n",
       "</div>"
      ],
      "text/plain": [
       "    avg\n",
       "0  24.0"
      ]
     },
     "execution_count": 10,
     "metadata": {},
     "output_type": "execute_result"
    }
   ],
   "source": [
    "user_review = '''\n",
    "SELECT\n",
    "    AVG(u.count_reviews)\n",
    "FROM\n",
    "(SELECT \n",
    "    username,\n",
    "    COUNT(review_id) AS count_reviews\n",
    " FROM reviews\n",
    " WHERE username IN \n",
    " (SELECT \n",
    "    username\n",
    "FROM ratings\n",
    "GROUP BY username\n",
    "HAVING COUNT(rating_id)>48)\n",
    "GROUP BY username) AS u\n",
    "'''\n",
    "pd.io.sql.read_sql(user_review, con = engine)"
   ]
  },
  {
   "cell_type": "markdown",
   "metadata": {},
   "source": [
    "**Cреднее количество обзоров от пользователей, которые поставили больше 48 оценок- 24**"
   ]
  }
 ],
 "metadata": {
  "ExecuteTimeLog": [
   {
    "duration": 476,
    "start_time": "2023-12-05T04:30:19.608Z"
   },
   {
    "duration": 3,
    "start_time": "2023-12-05T04:30:32.388Z"
   },
   {
    "duration": 8288,
    "start_time": "2023-12-05T04:30:42.796Z"
   },
   {
    "duration": 234,
    "start_time": "2023-12-05T04:31:11.812Z"
   },
   {
    "duration": 137,
    "start_time": "2023-12-05T04:32:19.536Z"
   },
   {
    "duration": 283,
    "start_time": "2023-12-05T04:39:34.291Z"
   },
   {
    "duration": 138,
    "start_time": "2023-12-05T04:39:40.886Z"
   },
   {
    "duration": 2,
    "start_time": "2023-12-05T04:39:54.391Z"
   },
   {
    "duration": 2,
    "start_time": "2023-12-05T04:40:24.655Z"
   },
   {
    "duration": 3,
    "start_time": "2023-12-05T04:40:29.131Z"
   },
   {
    "duration": 54,
    "start_time": "2023-12-05T04:40:40.263Z"
   },
   {
    "duration": 420,
    "start_time": "2023-12-05T04:42:45.372Z"
   },
   {
    "duration": 3,
    "start_time": "2023-12-05T04:43:36.648Z"
   },
   {
    "duration": 419,
    "start_time": "2023-12-05T04:43:39.036Z"
   },
   {
    "duration": 9,
    "start_time": "2023-12-05T04:43:46.960Z"
   },
   {
    "duration": 74,
    "start_time": "2023-12-05T04:45:53.133Z"
   },
   {
    "duration": 75,
    "start_time": "2023-12-05T05:04:44.226Z"
   },
   {
    "duration": 88,
    "start_time": "2023-12-05T05:05:36.958Z"
   },
   {
    "duration": 471,
    "start_time": "2023-12-05T05:06:07.410Z"
   },
   {
    "duration": 3,
    "start_time": "2023-12-05T05:06:07.883Z"
   },
   {
    "duration": 8117,
    "start_time": "2023-12-05T05:06:07.887Z"
   },
   {
    "duration": 224,
    "start_time": "2023-12-05T05:06:16.006Z"
   },
   {
    "duration": 60,
    "start_time": "2023-12-05T05:06:16.232Z"
   },
   {
    "duration": 0,
    "start_time": "2023-12-05T05:06:16.293Z"
   },
   {
    "duration": 0,
    "start_time": "2023-12-05T05:06:16.294Z"
   },
   {
    "duration": 2,
    "start_time": "2023-12-05T05:06:26.298Z"
   },
   {
    "duration": 7,
    "start_time": "2023-12-05T05:06:28.190Z"
   },
   {
    "duration": 152,
    "start_time": "2023-12-05T05:06:44.043Z"
   },
   {
    "duration": 76,
    "start_time": "2023-12-05T05:07:27.831Z"
   },
   {
    "duration": 75,
    "start_time": "2023-12-05T05:08:45.711Z"
   },
   {
    "duration": 75,
    "start_time": "2023-12-05T05:09:28.475Z"
   },
   {
    "duration": 72,
    "start_time": "2023-12-05T05:11:02.043Z"
   },
   {
    "duration": 73,
    "start_time": "2023-12-05T05:11:07.352Z"
   },
   {
    "duration": 76,
    "start_time": "2023-12-05T05:11:54.328Z"
   },
   {
    "duration": 75,
    "start_time": "2023-12-05T05:12:16.221Z"
   },
   {
    "duration": 479,
    "start_time": "2023-12-05T05:14:07.660Z"
   },
   {
    "duration": 2,
    "start_time": "2023-12-05T05:14:08.141Z"
   },
   {
    "duration": 9493,
    "start_time": "2023-12-05T05:14:08.145Z"
   },
   {
    "duration": 233,
    "start_time": "2023-12-05T05:14:17.639Z"
   },
   {
    "duration": 148,
    "start_time": "2023-12-05T05:14:17.874Z"
   },
   {
    "duration": 52,
    "start_time": "2023-12-05T05:14:18.023Z"
   },
   {
    "duration": 72,
    "start_time": "2023-12-05T05:14:18.076Z"
   },
   {
    "duration": 74,
    "start_time": "2023-12-05T05:14:18.149Z"
   },
   {
    "duration": 74,
    "start_time": "2023-12-05T05:14:18.224Z"
   },
   {
    "duration": 62,
    "start_time": "2023-12-05T05:14:18.300Z"
   },
   {
    "duration": 508,
    "start_time": "2023-12-05T05:16:28.436Z"
   },
   {
    "duration": 6,
    "start_time": "2023-12-05T05:16:28.946Z"
   },
   {
    "duration": 8901,
    "start_time": "2023-12-05T05:16:28.953Z"
   },
   {
    "duration": 3,
    "start_time": "2023-12-05T05:16:37.856Z"
   },
   {
    "duration": 10,
    "start_time": "2023-12-05T05:16:37.861Z"
   },
   {
    "duration": 219,
    "start_time": "2023-12-05T05:16:37.872Z"
   },
   {
    "duration": 146,
    "start_time": "2023-12-05T05:16:38.093Z"
   },
   {
    "duration": 51,
    "start_time": "2023-12-05T05:16:38.240Z"
   },
   {
    "duration": 75,
    "start_time": "2023-12-05T05:16:38.292Z"
   },
   {
    "duration": 74,
    "start_time": "2023-12-05T05:16:38.369Z"
   },
   {
    "duration": 75,
    "start_time": "2023-12-05T05:16:38.444Z"
   },
   {
    "duration": 93,
    "start_time": "2023-12-05T05:16:38.521Z"
   },
   {
    "duration": 510,
    "start_time": "2023-12-05T05:18:06.316Z"
   },
   {
    "duration": 3,
    "start_time": "2023-12-05T05:18:06.827Z"
   },
   {
    "duration": 8453,
    "start_time": "2023-12-05T05:18:06.832Z"
   },
   {
    "duration": 4,
    "start_time": "2023-12-05T05:18:15.287Z"
   },
   {
    "duration": 553,
    "start_time": "2023-12-05T05:18:15.292Z"
   },
   {
    "duration": 44,
    "start_time": "2023-12-05T05:18:15.846Z"
   },
   {
    "duration": 153,
    "start_time": "2023-12-05T05:18:15.892Z"
   },
   {
    "duration": 54,
    "start_time": "2023-12-05T05:18:16.047Z"
   },
   {
    "duration": 74,
    "start_time": "2023-12-05T05:18:16.102Z"
   },
   {
    "duration": 73,
    "start_time": "2023-12-05T05:18:16.177Z"
   },
   {
    "duration": 76,
    "start_time": "2023-12-05T05:18:16.256Z"
   },
   {
    "duration": 79,
    "start_time": "2023-12-05T05:18:16.334Z"
   },
   {
    "duration": 4,
    "start_time": "2023-12-05T05:18:40.913Z"
   },
   {
    "duration": 369,
    "start_time": "2023-12-05T05:18:50.749Z"
   },
   {
    "duration": 369,
    "start_time": "2023-12-05T05:18:56.593Z"
   },
   {
    "duration": 80,
    "start_time": "2023-12-05T05:19:41.660Z"
   },
   {
    "duration": 3,
    "start_time": "2023-12-05T05:19:47.582Z"
   },
   {
    "duration": 6,
    "start_time": "2023-12-05T05:20:03.062Z"
   },
   {
    "duration": 10,
    "start_time": "2023-12-05T05:20:35.958Z"
   },
   {
    "duration": 3,
    "start_time": "2023-12-05T05:20:41.510Z"
   },
   {
    "duration": 5,
    "start_time": "2023-12-05T05:20:53.037Z"
   },
   {
    "duration": 7,
    "start_time": "2023-12-05T05:20:58.357Z"
   },
   {
    "duration": 103,
    "start_time": "2023-12-05T05:21:17.930Z"
   },
   {
    "duration": 2,
    "start_time": "2023-12-05T05:21:22.186Z"
   },
   {
    "duration": 369,
    "start_time": "2023-12-05T05:21:30.786Z"
   },
   {
    "duration": 2,
    "start_time": "2023-12-05T05:21:45.318Z"
   },
   {
    "duration": 367,
    "start_time": "2023-12-05T05:21:49.418Z"
   },
   {
    "duration": 374,
    "start_time": "2023-12-05T05:22:21.664Z"
   },
   {
    "duration": 8,
    "start_time": "2023-12-05T05:22:56.210Z"
   },
   {
    "duration": 3,
    "start_time": "2023-12-05T05:23:00.842Z"
   },
   {
    "duration": 373,
    "start_time": "2023-12-05T05:23:02.598Z"
   },
   {
    "duration": 384,
    "start_time": "2023-12-05T05:25:00.687Z"
   },
   {
    "duration": 492,
    "start_time": "2023-12-05T05:25:27.106Z"
   },
   {
    "duration": 3,
    "start_time": "2023-12-05T05:25:27.600Z"
   },
   {
    "duration": 8434,
    "start_time": "2023-12-05T05:25:27.605Z"
   },
   {
    "duration": 3,
    "start_time": "2023-12-05T05:25:36.041Z"
   },
   {
    "duration": 571,
    "start_time": "2023-12-05T05:25:36.045Z"
   },
   {
    "duration": 67,
    "start_time": "2023-12-05T05:25:36.617Z"
   },
   {
    "duration": 79,
    "start_time": "2023-12-05T05:27:16.635Z"
   },
   {
    "duration": 8,
    "start_time": "2023-12-05T05:27:33.035Z"
   },
   {
    "duration": 4,
    "start_time": "2023-12-05T05:28:24.771Z"
   },
   {
    "duration": 7,
    "start_time": "2023-12-05T05:28:49.308Z"
   },
   {
    "duration": 157,
    "start_time": "2023-12-05T05:29:16.396Z"
   },
   {
    "duration": 188,
    "start_time": "2023-12-05T05:29:30.120Z"
   },
   {
    "duration": 2,
    "start_time": "2023-12-05T05:30:36.972Z"
   },
   {
    "duration": 74,
    "start_time": "2023-12-05T05:30:38.680Z"
   },
   {
    "duration": 7,
    "start_time": "2023-12-05T05:33:49.433Z"
   },
   {
    "duration": 6,
    "start_time": "2023-12-05T05:34:05.981Z"
   },
   {
    "duration": 6,
    "start_time": "2023-12-05T05:34:45.709Z"
   },
   {
    "duration": 75,
    "start_time": "2023-12-05T05:36:20.897Z"
   },
   {
    "duration": 75,
    "start_time": "2023-12-05T05:36:25.033Z"
   },
   {
    "duration": 75,
    "start_time": "2023-12-05T05:36:37.299Z"
   },
   {
    "duration": 73,
    "start_time": "2023-12-05T05:36:41.386Z"
   },
   {
    "duration": 177,
    "start_time": "2023-12-05T05:43:53.635Z"
   },
   {
    "duration": 127,
    "start_time": "2023-12-05T05:44:14.783Z"
   },
   {
    "duration": 157,
    "start_time": "2023-12-05T05:44:46.787Z"
   },
   {
    "duration": 158,
    "start_time": "2023-12-05T05:49:37.748Z"
   },
   {
    "duration": 8,
    "start_time": "2023-12-05T05:50:45.036Z"
   },
   {
    "duration": 92,
    "start_time": "2023-12-05T05:50:53.868Z"
   },
   {
    "duration": 91,
    "start_time": "2023-12-05T05:51:44.590Z"
   },
   {
    "duration": 164,
    "start_time": "2023-12-05T05:52:09.152Z"
   },
   {
    "duration": 166,
    "start_time": "2023-12-05T05:52:16.721Z"
   },
   {
    "duration": 155,
    "start_time": "2023-12-05T05:52:25.888Z"
   },
   {
    "duration": 170,
    "start_time": "2023-12-05T05:52:32.592Z"
   },
   {
    "duration": 90,
    "start_time": "2023-12-05T05:52:45.313Z"
   },
   {
    "duration": 74,
    "start_time": "2023-12-05T05:53:41.476Z"
   },
   {
    "duration": 161,
    "start_time": "2023-12-05T05:53:59.141Z"
   },
   {
    "duration": 155,
    "start_time": "2023-12-05T05:54:23.253Z"
   },
   {
    "duration": 91,
    "start_time": "2023-12-05T05:54:36.189Z"
   },
   {
    "duration": 91,
    "start_time": "2023-12-05T05:54:48.297Z"
   },
   {
    "duration": 117,
    "start_time": "2023-12-05T05:55:00.524Z"
   },
   {
    "duration": 117,
    "start_time": "2023-12-05T05:55:58.345Z"
   },
   {
    "duration": 119,
    "start_time": "2023-12-05T05:56:05.017Z"
   },
   {
    "duration": 76,
    "start_time": "2023-12-05T06:00:24.498Z"
   },
   {
    "duration": 73,
    "start_time": "2023-12-05T06:00:45.763Z"
   },
   {
    "duration": 196,
    "start_time": "2023-12-05T06:01:10.426Z"
   },
   {
    "duration": 167,
    "start_time": "2023-12-05T06:01:37.230Z"
   },
   {
    "duration": 93,
    "start_time": "2023-12-05T06:01:59.550Z"
   },
   {
    "duration": 93,
    "start_time": "2023-12-05T06:03:46.555Z"
   },
   {
    "duration": 158,
    "start_time": "2023-12-05T06:05:34.523Z"
   },
   {
    "duration": 79,
    "start_time": "2023-12-05T06:05:57.479Z"
   },
   {
    "duration": 78,
    "start_time": "2023-12-05T06:06:54.357Z"
   },
   {
    "duration": 79,
    "start_time": "2023-12-05T06:07:17.847Z"
   },
   {
    "duration": 78,
    "start_time": "2023-12-05T06:07:29.819Z"
   },
   {
    "duration": 77,
    "start_time": "2023-12-05T06:07:48.899Z"
   },
   {
    "duration": 76,
    "start_time": "2023-12-05T06:08:58.816Z"
   },
   {
    "duration": 75,
    "start_time": "2023-12-05T06:09:14.516Z"
   },
   {
    "duration": 76,
    "start_time": "2023-12-05T06:09:58.136Z"
   },
   {
    "duration": 76,
    "start_time": "2023-12-05T06:10:02.020Z"
   },
   {
    "duration": 175,
    "start_time": "2023-12-05T06:13:36.797Z"
   },
   {
    "duration": 173,
    "start_time": "2023-12-05T06:18:29.535Z"
   },
   {
    "duration": 200,
    "start_time": "2023-12-05T06:18:52.043Z"
   },
   {
    "duration": 187,
    "start_time": "2023-12-05T06:19:06.387Z"
   },
   {
    "duration": 83,
    "start_time": "2023-12-05T06:19:12.915Z"
   },
   {
    "duration": 81,
    "start_time": "2023-12-05T06:19:34.943Z"
   },
   {
    "duration": 172,
    "start_time": "2023-12-05T06:20:07.258Z"
   },
   {
    "duration": 162,
    "start_time": "2023-12-05T06:20:21.315Z"
   },
   {
    "duration": 80,
    "start_time": "2023-12-05T06:21:06.364Z"
   },
   {
    "duration": 171,
    "start_time": "2023-12-05T06:22:09.032Z"
   },
   {
    "duration": 86,
    "start_time": "2023-12-05T06:22:19.580Z"
   },
   {
    "duration": 81,
    "start_time": "2023-12-05T06:22:26.216Z"
   },
   {
    "duration": 169,
    "start_time": "2023-12-05T06:24:41.158Z"
   },
   {
    "duration": 202,
    "start_time": "2023-12-05T06:25:07.837Z"
   },
   {
    "duration": 164,
    "start_time": "2023-12-05T06:25:30.566Z"
   },
   {
    "duration": 160,
    "start_time": "2023-12-05T06:26:25.737Z"
   },
   {
    "duration": 171,
    "start_time": "2023-12-05T06:26:48.164Z"
   },
   {
    "duration": 81,
    "start_time": "2023-12-05T06:26:53.002Z"
   },
   {
    "duration": 164,
    "start_time": "2023-12-05T06:27:18.242Z"
   },
   {
    "duration": 172,
    "start_time": "2023-12-05T06:27:36.746Z"
   },
   {
    "duration": 78,
    "start_time": "2023-12-05T06:29:24.070Z"
   },
   {
    "duration": 178,
    "start_time": "2023-12-05T06:32:15.979Z"
   },
   {
    "duration": 80,
    "start_time": "2023-12-05T06:33:03.764Z"
   },
   {
    "duration": 78,
    "start_time": "2023-12-05T06:33:55.173Z"
   },
   {
    "duration": 3,
    "start_time": "2023-12-05T06:37:40.937Z"
   },
   {
    "duration": 165,
    "start_time": "2023-12-05T06:37:55.253Z"
   },
   {
    "duration": 316,
    "start_time": "2023-12-05T06:38:03.589Z"
   },
   {
    "duration": 78,
    "start_time": "2023-12-05T06:40:27.360Z"
   },
   {
    "duration": 80,
    "start_time": "2023-12-05T06:45:55.703Z"
   },
   {
    "duration": 185,
    "start_time": "2023-12-05T06:48:54.565Z"
   },
   {
    "duration": 80,
    "start_time": "2023-12-05T06:49:26.961Z"
   },
   {
    "duration": 170,
    "start_time": "2023-12-05T06:50:24.268Z"
   },
   {
    "duration": 185,
    "start_time": "2023-12-05T06:51:39.120Z"
   },
   {
    "duration": 164,
    "start_time": "2023-12-05T06:58:45.850Z"
   },
   {
    "duration": 77,
    "start_time": "2023-12-05T06:59:21.438Z"
   },
   {
    "duration": 209,
    "start_time": "2023-12-05T07:00:03.570Z"
   },
   {
    "duration": 77,
    "start_time": "2023-12-05T07:00:22.198Z"
   },
   {
    "duration": 79,
    "start_time": "2023-12-05T07:00:51.762Z"
   },
   {
    "duration": 80,
    "start_time": "2023-12-05T07:01:14.510Z"
   },
   {
    "duration": 520,
    "start_time": "2023-12-05T07:05:31.551Z"
   },
   {
    "duration": 3,
    "start_time": "2023-12-05T07:05:32.073Z"
   },
   {
    "duration": 9798,
    "start_time": "2023-12-05T07:05:32.078Z"
   },
   {
    "duration": 3,
    "start_time": "2023-12-05T07:05:41.878Z"
   },
   {
    "duration": 552,
    "start_time": "2023-12-05T07:05:41.882Z"
   },
   {
    "duration": 70,
    "start_time": "2023-12-05T07:05:42.435Z"
   },
   {
    "duration": 0,
    "start_time": "2023-12-05T07:05:42.507Z"
   },
   {
    "duration": 0,
    "start_time": "2023-12-05T07:05:42.509Z"
   },
   {
    "duration": 0,
    "start_time": "2023-12-05T07:05:42.510Z"
   },
   {
    "duration": 0,
    "start_time": "2023-12-05T07:05:42.511Z"
   },
   {
    "duration": 0,
    "start_time": "2023-12-05T07:05:42.512Z"
   },
   {
    "duration": 1,
    "start_time": "2023-12-05T07:05:42.513Z"
   },
   {
    "duration": 121,
    "start_time": "2023-12-05T07:05:53.559Z"
   },
   {
    "duration": 75,
    "start_time": "2023-12-05T07:07:04.131Z"
   },
   {
    "duration": 79,
    "start_time": "2023-12-05T07:07:20.347Z"
   },
   {
    "duration": 77,
    "start_time": "2023-12-05T07:08:10.611Z"
   },
   {
    "duration": 75,
    "start_time": "2023-12-05T07:08:47.211Z"
   },
   {
    "duration": 522,
    "start_time": "2023-12-05T07:09:29.164Z"
   },
   {
    "duration": 3,
    "start_time": "2023-12-05T07:09:29.688Z"
   },
   {
    "duration": 10130,
    "start_time": "2023-12-05T07:09:29.692Z"
   },
   {
    "duration": 3,
    "start_time": "2023-12-05T07:09:39.824Z"
   },
   {
    "duration": 560,
    "start_time": "2023-12-05T07:09:39.828Z"
   },
   {
    "duration": 75,
    "start_time": "2023-12-05T07:09:40.389Z"
   },
   {
    "duration": 122,
    "start_time": "2023-12-05T07:09:40.467Z"
   },
   {
    "duration": 71,
    "start_time": "2023-12-05T07:09:40.590Z"
   },
   {
    "duration": 0,
    "start_time": "2023-12-05T07:09:40.665Z"
   },
   {
    "duration": 0,
    "start_time": "2023-12-05T07:09:40.667Z"
   },
   {
    "duration": 0,
    "start_time": "2023-12-05T07:09:40.668Z"
   },
   {
    "duration": 496,
    "start_time": "2023-12-05T07:10:53.265Z"
   },
   {
    "duration": 4,
    "start_time": "2023-12-05T07:10:53.766Z"
   },
   {
    "duration": 9048,
    "start_time": "2023-12-05T07:10:53.771Z"
   },
   {
    "duration": 3,
    "start_time": "2023-12-05T07:11:02.820Z"
   },
   {
    "duration": 597,
    "start_time": "2023-12-05T07:11:02.825Z"
   },
   {
    "duration": 73,
    "start_time": "2023-12-05T07:11:03.423Z"
   },
   {
    "duration": 115,
    "start_time": "2023-12-05T07:11:03.498Z"
   },
   {
    "duration": 75,
    "start_time": "2023-12-05T07:11:03.614Z"
   },
   {
    "duration": 98,
    "start_time": "2023-12-05T07:11:03.690Z"
   },
   {
    "duration": 77,
    "start_time": "2023-12-05T07:11:03.790Z"
   },
   {
    "duration": 128,
    "start_time": "2023-12-05T07:19:03.342Z"
   },
   {
    "duration": 117,
    "start_time": "2023-12-05T07:19:17.998Z"
   },
   {
    "duration": 115,
    "start_time": "2023-12-05T07:19:41.586Z"
   },
   {
    "duration": 95,
    "start_time": "2023-12-05T07:22:27.803Z"
   },
   {
    "duration": 91,
    "start_time": "2023-12-05T07:23:05.124Z"
   },
   {
    "duration": 116,
    "start_time": "2023-12-05T07:26:53.129Z"
   },
   {
    "duration": 515,
    "start_time": "2023-12-05T07:29:22.466Z"
   },
   {
    "duration": 3,
    "start_time": "2023-12-05T07:29:22.983Z"
   },
   {
    "duration": 9048,
    "start_time": "2023-12-05T07:29:22.988Z"
   },
   {
    "duration": 3,
    "start_time": "2023-12-05T07:29:32.038Z"
   },
   {
    "duration": 567,
    "start_time": "2023-12-05T07:29:32.042Z"
   },
   {
    "duration": 73,
    "start_time": "2023-12-05T07:29:32.610Z"
   },
   {
    "duration": 122,
    "start_time": "2023-12-05T07:29:32.685Z"
   },
   {
    "duration": 73,
    "start_time": "2023-12-05T07:29:32.809Z"
   },
   {
    "duration": 80,
    "start_time": "2023-12-05T07:29:32.884Z"
   },
   {
    "duration": 75,
    "start_time": "2023-12-05T07:29:32.967Z"
   }
  ],
  "kernelspec": {
   "display_name": "Python 3 (ipykernel)",
   "language": "python",
   "name": "python3"
  },
  "language_info": {
   "codemirror_mode": {
    "name": "ipython",
    "version": 3
   },
   "file_extension": ".py",
   "mimetype": "text/x-python",
   "name": "python",
   "nbconvert_exporter": "python",
   "pygments_lexer": "ipython3",
   "version": "3.9.5"
  },
  "toc": {
   "base_numbering": 1,
   "nav_menu": {},
   "number_sections": true,
   "sideBar": true,
   "skip_h1_title": true,
   "title_cell": "Table of Contents",
   "title_sidebar": "Contents",
   "toc_cell": false,
   "toc_position": {},
   "toc_section_display": true,
   "toc_window_display": false
  }
 },
 "nbformat": 4,
 "nbformat_minor": 2
}
