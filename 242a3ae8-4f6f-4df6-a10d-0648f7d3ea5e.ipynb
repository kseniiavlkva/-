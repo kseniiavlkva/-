{
 "cells": [
  {
   "cell_type": "markdown",
   "metadata": {},
   "source": [
    "# Исследование данных  о продажах игр"
   ]
  },
  {
   "cell_type": "markdown",
   "metadata": {},
   "source": [
    "**Цель исследования — выявить определяющие успешность игры закономерности**"
   ]
  },
  {
   "cell_type": "markdown",
   "metadata": {},
   "source": [
    "**Описание данных**\n",
    "- Name — название игры\n",
    "- Platform — платформа\n",
    "- Year_of_Release — год выпуска\n",
    "- Genre — жанр игры\n",
    "- NA_sales — продажи в Северной Америке (миллионы проданных копий)\n",
    "- EU_sales — продажи в Европе (миллионы проданных копий)\n",
    "- JP_sales — продажи в Японии (миллионы проданных копий)\n",
    "- Other_sales — продажи в других странах (миллионы проданных копий)\n",
    "- Critic_Score — оценка критиков (максимум 100)\n",
    "- User_Score — оценка пользователей (максимум 10)\n",
    "- Rating — рейтинг от организации ESRB (англ. Entertainment Software Rating Board). Эта ассоциация определяет рейтинг компьютерных игр и присваивает им подходящую возрастную категорию.\n",
    "\n",
    "**Ход исследования**\n",
    "- 1.Открытие файла и изучение общей информации.\n",
    "- 2. Подготовка данных.\n",
    "- 3. Исследовательский анализ данных.\n",
    "- 4. Составление портрета пользователя каждого региона.\n",
    "- 5. Проверка гипотез.\n",
    "- 6. Общий вывод"
   ]
  },
  {
   "cell_type": "markdown",
   "metadata": {},
   "source": [
    "#### Шаг  Изучение общей информации"
   ]
  },
  {
   "cell_type": "code",
   "execution_count": 1,
   "metadata": {},
   "outputs": [],
   "source": [
    "import pandas as pd\n",
    "import matplotlib.pyplot as plt\n",
    "import numpy as np\n",
    "from scipy import stats as st\n",
    "import seaborn as sns"
   ]
  },
  {
   "cell_type": "code",
   "execution_count": 2,
   "metadata": {},
   "outputs": [
    {
     "data": {
      "text/html": [
       "<div>\n",
       "<style scoped>\n",
       "    .dataframe tbody tr th:only-of-type {\n",
       "        vertical-align: middle;\n",
       "    }\n",
       "\n",
       "    .dataframe tbody tr th {\n",
       "        vertical-align: top;\n",
       "    }\n",
       "\n",
       "    .dataframe thead th {\n",
       "        text-align: right;\n",
       "    }\n",
       "</style>\n",
       "<table border=\"1\" class=\"dataframe\">\n",
       "  <thead>\n",
       "    <tr style=\"text-align: right;\">\n",
       "      <th></th>\n",
       "      <th>Name</th>\n",
       "      <th>Platform</th>\n",
       "      <th>Year_of_Release</th>\n",
       "      <th>Genre</th>\n",
       "      <th>NA_sales</th>\n",
       "      <th>EU_sales</th>\n",
       "      <th>JP_sales</th>\n",
       "      <th>Other_sales</th>\n",
       "      <th>Critic_Score</th>\n",
       "      <th>User_Score</th>\n",
       "      <th>Rating</th>\n",
       "    </tr>\n",
       "  </thead>\n",
       "  <tbody>\n",
       "    <tr>\n",
       "      <th>0</th>\n",
       "      <td>Wii Sports</td>\n",
       "      <td>Wii</td>\n",
       "      <td>2006.0</td>\n",
       "      <td>Sports</td>\n",
       "      <td>41.36</td>\n",
       "      <td>28.96</td>\n",
       "      <td>3.77</td>\n",
       "      <td>8.45</td>\n",
       "      <td>76.0</td>\n",
       "      <td>8</td>\n",
       "      <td>E</td>\n",
       "    </tr>\n",
       "    <tr>\n",
       "      <th>1</th>\n",
       "      <td>Super Mario Bros.</td>\n",
       "      <td>NES</td>\n",
       "      <td>1985.0</td>\n",
       "      <td>Platform</td>\n",
       "      <td>29.08</td>\n",
       "      <td>3.58</td>\n",
       "      <td>6.81</td>\n",
       "      <td>0.77</td>\n",
       "      <td>NaN</td>\n",
       "      <td>NaN</td>\n",
       "      <td>NaN</td>\n",
       "    </tr>\n",
       "    <tr>\n",
       "      <th>2</th>\n",
       "      <td>Mario Kart Wii</td>\n",
       "      <td>Wii</td>\n",
       "      <td>2008.0</td>\n",
       "      <td>Racing</td>\n",
       "      <td>15.68</td>\n",
       "      <td>12.76</td>\n",
       "      <td>3.79</td>\n",
       "      <td>3.29</td>\n",
       "      <td>82.0</td>\n",
       "      <td>8.3</td>\n",
       "      <td>E</td>\n",
       "    </tr>\n",
       "    <tr>\n",
       "      <th>3</th>\n",
       "      <td>Wii Sports Resort</td>\n",
       "      <td>Wii</td>\n",
       "      <td>2009.0</td>\n",
       "      <td>Sports</td>\n",
       "      <td>15.61</td>\n",
       "      <td>10.93</td>\n",
       "      <td>3.28</td>\n",
       "      <td>2.95</td>\n",
       "      <td>80.0</td>\n",
       "      <td>8</td>\n",
       "      <td>E</td>\n",
       "    </tr>\n",
       "    <tr>\n",
       "      <th>4</th>\n",
       "      <td>Pokemon Red/Pokemon Blue</td>\n",
       "      <td>GB</td>\n",
       "      <td>1996.0</td>\n",
       "      <td>Role-Playing</td>\n",
       "      <td>11.27</td>\n",
       "      <td>8.89</td>\n",
       "      <td>10.22</td>\n",
       "      <td>1.00</td>\n",
       "      <td>NaN</td>\n",
       "      <td>NaN</td>\n",
       "      <td>NaN</td>\n",
       "    </tr>\n",
       "  </tbody>\n",
       "</table>\n",
       "</div>"
      ],
      "text/plain": [
       "                       Name Platform  Year_of_Release         Genre  NA_sales  \\\n",
       "0                Wii Sports      Wii           2006.0        Sports     41.36   \n",
       "1         Super Mario Bros.      NES           1985.0      Platform     29.08   \n",
       "2            Mario Kart Wii      Wii           2008.0        Racing     15.68   \n",
       "3         Wii Sports Resort      Wii           2009.0        Sports     15.61   \n",
       "4  Pokemon Red/Pokemon Blue       GB           1996.0  Role-Playing     11.27   \n",
       "\n",
       "   EU_sales  JP_sales  Other_sales  Critic_Score User_Score Rating  \n",
       "0     28.96      3.77         8.45          76.0          8      E  \n",
       "1      3.58      6.81         0.77           NaN        NaN    NaN  \n",
       "2     12.76      3.79         3.29          82.0        8.3      E  \n",
       "3     10.93      3.28         2.95          80.0          8      E  \n",
       "4      8.89     10.22         1.00           NaN        NaN    NaN  "
      ]
     },
     "execution_count": 2,
     "metadata": {},
     "output_type": "execute_result"
    }
   ],
   "source": [
    "data = pd.read_csv('/datasets/games.csv')\n",
    "data.head()"
   ]
  },
  {
   "cell_type": "code",
   "execution_count": 3,
   "metadata": {},
   "outputs": [
    {
     "name": "stdout",
     "output_type": "stream",
     "text": [
      "<class 'pandas.core.frame.DataFrame'>\n",
      "RangeIndex: 16715 entries, 0 to 16714\n",
      "Data columns (total 11 columns):\n",
      " #   Column           Non-Null Count  Dtype  \n",
      "---  ------           --------------  -----  \n",
      " 0   Name             16713 non-null  object \n",
      " 1   Platform         16715 non-null  object \n",
      " 2   Year_of_Release  16446 non-null  float64\n",
      " 3   Genre            16713 non-null  object \n",
      " 4   NA_sales         16715 non-null  float64\n",
      " 5   EU_sales         16715 non-null  float64\n",
      " 6   JP_sales         16715 non-null  float64\n",
      " 7   Other_sales      16715 non-null  float64\n",
      " 8   Critic_Score     8137 non-null   float64\n",
      " 9   User_Score       10014 non-null  object \n",
      " 10  Rating           9949 non-null   object \n",
      "dtypes: float64(6), object(5)\n",
      "memory usage: 1.4+ MB\n"
     ]
    }
   ],
   "source": [
    "data.info()"
   ]
  },
  {
   "cell_type": "markdown",
   "metadata": {},
   "source": [
    "*Вывод*\n",
    "1. Следует привести название столбцов в нижний регистр\n",
    "2. Наблюдается наличие пропусков\n",
    "3. Необходимо поменять тип данных в столбце Year_of_Release к типу даных int, столбец User_Score к типу данных float64"
   ]
  },
  {
   "cell_type": "markdown",
   "metadata": {},
   "source": [
    "#### Шаг  Подготовка данных"
   ]
  },
  {
   "cell_type": "markdown",
   "metadata": {},
   "source": [
    "##### Предобработка"
   ]
  },
  {
   "cell_type": "code",
   "execution_count": 4,
   "metadata": {},
   "outputs": [],
   "source": [
    "data.columns = data.columns.str.lower()"
   ]
  },
  {
   "cell_type": "code",
   "execution_count": 5,
   "metadata": {},
   "outputs": [],
   "source": [
    "data['name'] = data.name.str.lower()\n",
    "data['platform'] = data.platform.str.lower()\n",
    "data['rating'] = data.rating.str.lower()"
   ]
  },
  {
   "cell_type": "code",
   "execution_count": 6,
   "metadata": {},
   "outputs": [
    {
     "data": {
      "text/html": [
       "<div>\n",
       "<style scoped>\n",
       "    .dataframe tbody tr th:only-of-type {\n",
       "        vertical-align: middle;\n",
       "    }\n",
       "\n",
       "    .dataframe tbody tr th {\n",
       "        vertical-align: top;\n",
       "    }\n",
       "\n",
       "    .dataframe thead th {\n",
       "        text-align: right;\n",
       "    }\n",
       "</style>\n",
       "<table border=\"1\" class=\"dataframe\">\n",
       "  <thead>\n",
       "    <tr style=\"text-align: right;\">\n",
       "      <th></th>\n",
       "      <th>name</th>\n",
       "      <th>platform</th>\n",
       "      <th>year_of_release</th>\n",
       "      <th>genre</th>\n",
       "      <th>na_sales</th>\n",
       "      <th>eu_sales</th>\n",
       "      <th>jp_sales</th>\n",
       "      <th>other_sales</th>\n",
       "      <th>critic_score</th>\n",
       "      <th>user_score</th>\n",
       "      <th>rating</th>\n",
       "    </tr>\n",
       "  </thead>\n",
       "  <tbody>\n",
       "    <tr>\n",
       "      <th>0</th>\n",
       "      <td>wii sports</td>\n",
       "      <td>wii</td>\n",
       "      <td>2006.0</td>\n",
       "      <td>Sports</td>\n",
       "      <td>41.36</td>\n",
       "      <td>28.96</td>\n",
       "      <td>3.77</td>\n",
       "      <td>8.45</td>\n",
       "      <td>76.0</td>\n",
       "      <td>8</td>\n",
       "      <td>e</td>\n",
       "    </tr>\n",
       "  </tbody>\n",
       "</table>\n",
       "</div>"
      ],
      "text/plain": [
       "         name platform  year_of_release   genre  na_sales  eu_sales  jp_sales  \\\n",
       "0  wii sports      wii           2006.0  Sports     41.36     28.96      3.77   \n",
       "\n",
       "   other_sales  critic_score user_score rating  \n",
       "0         8.45          76.0          8      e  "
      ]
     },
     "execution_count": 6,
     "metadata": {},
     "output_type": "execute_result"
    }
   ],
   "source": [
    "data.head(1)"
   ]
  },
  {
   "cell_type": "code",
   "execution_count": 7,
   "metadata": {},
   "outputs": [
    {
     "data": {
      "text/plain": [
       "name                  2\n",
       "platform              0\n",
       "year_of_release     269\n",
       "genre                 2\n",
       "na_sales              0\n",
       "eu_sales              0\n",
       "jp_sales              0\n",
       "other_sales           0\n",
       "critic_score       8578\n",
       "user_score         6701\n",
       "rating             6766\n",
       "dtype: int64"
      ]
     },
     "execution_count": 7,
     "metadata": {},
     "output_type": "execute_result"
    }
   ],
   "source": [
    "data.isna().sum()"
   ]
  },
  {
   "cell_type": "code",
   "execution_count": 10,
   "metadata": {},
   "outputs": [],
   "source": [
    "data['year_of_release'] = data['year_of_release'].astype('Int64')"
   ]
  },
  {
   "cell_type": "markdown",
   "metadata": {},
   "source": [
    "Не получалось изменить тип столбца user_score из-за наличия значения tbd, заменяю их на nan"
   ]
  },
  {
   "cell_type": "code",
   "execution_count": 11,
   "metadata": {},
   "outputs": [],
   "source": [
    "data['user_score']= data['user_score'].replace('tbd', np.nan)\n",
    "data['user_score'] = data['user_score'].astype('float64')"
   ]
  },
  {
   "cell_type": "code",
   "execution_count": 12,
   "metadata": {},
   "outputs": [
    {
     "data": {
      "text/html": [
       "<div>\n",
       "<style scoped>\n",
       "    .dataframe tbody tr th:only-of-type {\n",
       "        vertical-align: middle;\n",
       "    }\n",
       "\n",
       "    .dataframe tbody tr th {\n",
       "        vertical-align: top;\n",
       "    }\n",
       "\n",
       "    .dataframe thead th {\n",
       "        text-align: right;\n",
       "    }\n",
       "</style>\n",
       "<table border=\"1\" class=\"dataframe\">\n",
       "  <thead>\n",
       "    <tr style=\"text-align: right;\">\n",
       "      <th></th>\n",
       "      <th>name</th>\n",
       "      <th>platform</th>\n",
       "      <th>year_of_release</th>\n",
       "      <th>genre</th>\n",
       "      <th>na_sales</th>\n",
       "      <th>eu_sales</th>\n",
       "      <th>jp_sales</th>\n",
       "      <th>other_sales</th>\n",
       "      <th>critic_score</th>\n",
       "      <th>user_score</th>\n",
       "      <th>rating</th>\n",
       "    </tr>\n",
       "  </thead>\n",
       "  <tbody>\n",
       "    <tr>\n",
       "      <th>659</th>\n",
       "      <td>NaN</td>\n",
       "      <td>gen</td>\n",
       "      <td>1993</td>\n",
       "      <td>NaN</td>\n",
       "      <td>1.78</td>\n",
       "      <td>0.53</td>\n",
       "      <td>0.00</td>\n",
       "      <td>0.08</td>\n",
       "      <td>NaN</td>\n",
       "      <td>NaN</td>\n",
       "      <td>NaN</td>\n",
       "    </tr>\n",
       "    <tr>\n",
       "      <th>14244</th>\n",
       "      <td>NaN</td>\n",
       "      <td>gen</td>\n",
       "      <td>1993</td>\n",
       "      <td>NaN</td>\n",
       "      <td>0.00</td>\n",
       "      <td>0.00</td>\n",
       "      <td>0.03</td>\n",
       "      <td>0.00</td>\n",
       "      <td>NaN</td>\n",
       "      <td>NaN</td>\n",
       "      <td>NaN</td>\n",
       "    </tr>\n",
       "  </tbody>\n",
       "</table>\n",
       "</div>"
      ],
      "text/plain": [
       "      name platform  year_of_release genre  na_sales  eu_sales  jp_sales  \\\n",
       "659    NaN      gen             1993   NaN      1.78      0.53      0.00   \n",
       "14244  NaN      gen             1993   NaN      0.00      0.00      0.03   \n",
       "\n",
       "       other_sales  critic_score  user_score rating  \n",
       "659           0.08           NaN         NaN    NaN  \n",
       "14244         0.00           NaN         NaN    NaN  "
      ]
     },
     "execution_count": 12,
     "metadata": {},
     "output_type": "execute_result"
    }
   ],
   "source": [
    "data[data['name'].isna()]"
   ]
  },
  {
   "cell_type": "code",
   "execution_count": 13,
   "metadata": {},
   "outputs": [
    {
     "data": {
      "text/html": [
       "<div>\n",
       "<style scoped>\n",
       "    .dataframe tbody tr th:only-of-type {\n",
       "        vertical-align: middle;\n",
       "    }\n",
       "\n",
       "    .dataframe tbody tr th {\n",
       "        vertical-align: top;\n",
       "    }\n",
       "\n",
       "    .dataframe thead th {\n",
       "        text-align: right;\n",
       "    }\n",
       "</style>\n",
       "<table border=\"1\" class=\"dataframe\">\n",
       "  <thead>\n",
       "    <tr style=\"text-align: right;\">\n",
       "      <th></th>\n",
       "      <th>name</th>\n",
       "      <th>platform</th>\n",
       "      <th>year_of_release</th>\n",
       "      <th>genre</th>\n",
       "      <th>na_sales</th>\n",
       "      <th>eu_sales</th>\n",
       "      <th>jp_sales</th>\n",
       "      <th>other_sales</th>\n",
       "      <th>critic_score</th>\n",
       "      <th>user_score</th>\n",
       "      <th>rating</th>\n",
       "    </tr>\n",
       "  </thead>\n",
       "  <tbody>\n",
       "    <tr>\n",
       "      <th>183</th>\n",
       "      <td>madden nfl 2004</td>\n",
       "      <td>ps2</td>\n",
       "      <td>&lt;NA&gt;</td>\n",
       "      <td>Sports</td>\n",
       "      <td>4.26</td>\n",
       "      <td>0.26</td>\n",
       "      <td>0.01</td>\n",
       "      <td>0.71</td>\n",
       "      <td>94.0</td>\n",
       "      <td>8.5</td>\n",
       "      <td>e</td>\n",
       "    </tr>\n",
       "    <tr>\n",
       "      <th>377</th>\n",
       "      <td>fifa soccer 2004</td>\n",
       "      <td>ps2</td>\n",
       "      <td>&lt;NA&gt;</td>\n",
       "      <td>Sports</td>\n",
       "      <td>0.59</td>\n",
       "      <td>2.36</td>\n",
       "      <td>0.04</td>\n",
       "      <td>0.51</td>\n",
       "      <td>84.0</td>\n",
       "      <td>6.4</td>\n",
       "      <td>e</td>\n",
       "    </tr>\n",
       "    <tr>\n",
       "      <th>456</th>\n",
       "      <td>lego batman: the videogame</td>\n",
       "      <td>wii</td>\n",
       "      <td>&lt;NA&gt;</td>\n",
       "      <td>Action</td>\n",
       "      <td>1.80</td>\n",
       "      <td>0.97</td>\n",
       "      <td>0.00</td>\n",
       "      <td>0.29</td>\n",
       "      <td>74.0</td>\n",
       "      <td>7.9</td>\n",
       "      <td>e10+</td>\n",
       "    </tr>\n",
       "    <tr>\n",
       "      <th>475</th>\n",
       "      <td>wwe smackdown vs. raw 2006</td>\n",
       "      <td>ps2</td>\n",
       "      <td>&lt;NA&gt;</td>\n",
       "      <td>Fighting</td>\n",
       "      <td>1.57</td>\n",
       "      <td>1.02</td>\n",
       "      <td>0.00</td>\n",
       "      <td>0.41</td>\n",
       "      <td>NaN</td>\n",
       "      <td>NaN</td>\n",
       "      <td>NaN</td>\n",
       "    </tr>\n",
       "    <tr>\n",
       "      <th>609</th>\n",
       "      <td>space invaders</td>\n",
       "      <td>2600</td>\n",
       "      <td>&lt;NA&gt;</td>\n",
       "      <td>Shooter</td>\n",
       "      <td>2.36</td>\n",
       "      <td>0.14</td>\n",
       "      <td>0.00</td>\n",
       "      <td>0.03</td>\n",
       "      <td>NaN</td>\n",
       "      <td>NaN</td>\n",
       "      <td>NaN</td>\n",
       "    </tr>\n",
       "    <tr>\n",
       "      <th>...</th>\n",
       "      <td>...</td>\n",
       "      <td>...</td>\n",
       "      <td>...</td>\n",
       "      <td>...</td>\n",
       "      <td>...</td>\n",
       "      <td>...</td>\n",
       "      <td>...</td>\n",
       "      <td>...</td>\n",
       "      <td>...</td>\n",
       "      <td>...</td>\n",
       "      <td>...</td>\n",
       "    </tr>\n",
       "    <tr>\n",
       "      <th>16373</th>\n",
       "      <td>pdc world championship darts 2008</td>\n",
       "      <td>psp</td>\n",
       "      <td>&lt;NA&gt;</td>\n",
       "      <td>Sports</td>\n",
       "      <td>0.01</td>\n",
       "      <td>0.00</td>\n",
       "      <td>0.00</td>\n",
       "      <td>0.00</td>\n",
       "      <td>43.0</td>\n",
       "      <td>NaN</td>\n",
       "      <td>e10+</td>\n",
       "    </tr>\n",
       "    <tr>\n",
       "      <th>16405</th>\n",
       "      <td>freaky flyers</td>\n",
       "      <td>gc</td>\n",
       "      <td>&lt;NA&gt;</td>\n",
       "      <td>Racing</td>\n",
       "      <td>0.01</td>\n",
       "      <td>0.00</td>\n",
       "      <td>0.00</td>\n",
       "      <td>0.00</td>\n",
       "      <td>69.0</td>\n",
       "      <td>6.5</td>\n",
       "      <td>t</td>\n",
       "    </tr>\n",
       "    <tr>\n",
       "      <th>16448</th>\n",
       "      <td>inversion</td>\n",
       "      <td>pc</td>\n",
       "      <td>&lt;NA&gt;</td>\n",
       "      <td>Shooter</td>\n",
       "      <td>0.01</td>\n",
       "      <td>0.00</td>\n",
       "      <td>0.00</td>\n",
       "      <td>0.00</td>\n",
       "      <td>59.0</td>\n",
       "      <td>6.7</td>\n",
       "      <td>m</td>\n",
       "    </tr>\n",
       "    <tr>\n",
       "      <th>16458</th>\n",
       "      <td>hakuouki: shinsengumi kitan</td>\n",
       "      <td>ps3</td>\n",
       "      <td>&lt;NA&gt;</td>\n",
       "      <td>Adventure</td>\n",
       "      <td>0.01</td>\n",
       "      <td>0.00</td>\n",
       "      <td>0.00</td>\n",
       "      <td>0.00</td>\n",
       "      <td>NaN</td>\n",
       "      <td>NaN</td>\n",
       "      <td>NaN</td>\n",
       "    </tr>\n",
       "    <tr>\n",
       "      <th>16522</th>\n",
       "      <td>virtua quest</td>\n",
       "      <td>gc</td>\n",
       "      <td>&lt;NA&gt;</td>\n",
       "      <td>Role-Playing</td>\n",
       "      <td>0.01</td>\n",
       "      <td>0.00</td>\n",
       "      <td>0.00</td>\n",
       "      <td>0.00</td>\n",
       "      <td>55.0</td>\n",
       "      <td>5.5</td>\n",
       "      <td>t</td>\n",
       "    </tr>\n",
       "  </tbody>\n",
       "</table>\n",
       "<p>269 rows × 11 columns</p>\n",
       "</div>"
      ],
      "text/plain": [
       "                                    name platform  year_of_release  \\\n",
       "183                      madden nfl 2004      ps2             <NA>   \n",
       "377                     fifa soccer 2004      ps2             <NA>   \n",
       "456           lego batman: the videogame      wii             <NA>   \n",
       "475           wwe smackdown vs. raw 2006      ps2             <NA>   \n",
       "609                       space invaders     2600             <NA>   \n",
       "...                                  ...      ...              ...   \n",
       "16373  pdc world championship darts 2008      psp             <NA>   \n",
       "16405                      freaky flyers       gc             <NA>   \n",
       "16448                          inversion       pc             <NA>   \n",
       "16458        hakuouki: shinsengumi kitan      ps3             <NA>   \n",
       "16522                       virtua quest       gc             <NA>   \n",
       "\n",
       "              genre  na_sales  eu_sales  jp_sales  other_sales  critic_score  \\\n",
       "183          Sports      4.26      0.26      0.01         0.71          94.0   \n",
       "377          Sports      0.59      2.36      0.04         0.51          84.0   \n",
       "456          Action      1.80      0.97      0.00         0.29          74.0   \n",
       "475        Fighting      1.57      1.02      0.00         0.41           NaN   \n",
       "609         Shooter      2.36      0.14      0.00         0.03           NaN   \n",
       "...             ...       ...       ...       ...          ...           ...   \n",
       "16373        Sports      0.01      0.00      0.00         0.00          43.0   \n",
       "16405        Racing      0.01      0.00      0.00         0.00          69.0   \n",
       "16448       Shooter      0.01      0.00      0.00         0.00          59.0   \n",
       "16458     Adventure      0.01      0.00      0.00         0.00           NaN   \n",
       "16522  Role-Playing      0.01      0.00      0.00         0.00          55.0   \n",
       "\n",
       "       user_score rating  \n",
       "183           8.5      e  \n",
       "377           6.4      e  \n",
       "456           7.9   e10+  \n",
       "475           NaN    NaN  \n",
       "609           NaN    NaN  \n",
       "...           ...    ...  \n",
       "16373         NaN   e10+  \n",
       "16405         6.5      t  \n",
       "16448         6.7      m  \n",
       "16458         NaN    NaN  \n",
       "16522         5.5      t  \n",
       "\n",
       "[269 rows x 11 columns]"
      ]
     },
     "execution_count": 13,
     "metadata": {},
     "output_type": "execute_result"
    }
   ],
   "source": [
    "data[data['year_of_release'].isna()]"
   ]
  },
  {
   "cell_type": "code",
   "execution_count": 14,
   "metadata": {},
   "outputs": [],
   "source": [
    "year= data[data['year_of_release'].isna()]"
   ]
  },
  {
   "cell_type": "code",
   "execution_count": 15,
   "metadata": {},
   "outputs": [
    {
     "data": {
      "text/html": [
       "<div>\n",
       "<style scoped>\n",
       "    .dataframe tbody tr th:only-of-type {\n",
       "        vertical-align: middle;\n",
       "    }\n",
       "\n",
       "    .dataframe tbody tr th {\n",
       "        vertical-align: top;\n",
       "    }\n",
       "\n",
       "    .dataframe thead th {\n",
       "        text-align: right;\n",
       "    }\n",
       "</style>\n",
       "<table border=\"1\" class=\"dataframe\">\n",
       "  <thead>\n",
       "    <tr style=\"text-align: right;\">\n",
       "      <th></th>\n",
       "      <th>name</th>\n",
       "      <th>platform</th>\n",
       "      <th>year_of_release</th>\n",
       "      <th>genre</th>\n",
       "      <th>na_sales</th>\n",
       "      <th>eu_sales</th>\n",
       "      <th>jp_sales</th>\n",
       "      <th>other_sales</th>\n",
       "      <th>critic_score</th>\n",
       "      <th>user_score</th>\n",
       "      <th>rating</th>\n",
       "    </tr>\n",
       "  </thead>\n",
       "  <tbody>\n",
       "    <tr>\n",
       "      <th>659</th>\n",
       "      <td>NaN</td>\n",
       "      <td>gen</td>\n",
       "      <td>1993</td>\n",
       "      <td>NaN</td>\n",
       "      <td>1.78</td>\n",
       "      <td>0.53</td>\n",
       "      <td>0.00</td>\n",
       "      <td>0.08</td>\n",
       "      <td>NaN</td>\n",
       "      <td>NaN</td>\n",
       "      <td>NaN</td>\n",
       "    </tr>\n",
       "    <tr>\n",
       "      <th>14244</th>\n",
       "      <td>NaN</td>\n",
       "      <td>gen</td>\n",
       "      <td>1993</td>\n",
       "      <td>NaN</td>\n",
       "      <td>0.00</td>\n",
       "      <td>0.00</td>\n",
       "      <td>0.03</td>\n",
       "      <td>0.00</td>\n",
       "      <td>NaN</td>\n",
       "      <td>NaN</td>\n",
       "      <td>NaN</td>\n",
       "    </tr>\n",
       "  </tbody>\n",
       "</table>\n",
       "</div>"
      ],
      "text/plain": [
       "      name platform  year_of_release genre  na_sales  eu_sales  jp_sales  \\\n",
       "659    NaN      gen             1993   NaN      1.78      0.53      0.00   \n",
       "14244  NaN      gen             1993   NaN      0.00      0.00      0.03   \n",
       "\n",
       "       other_sales  critic_score  user_score rating  \n",
       "659           0.08           NaN         NaN    NaN  \n",
       "14244         0.00           NaN         NaN    NaN  "
      ]
     },
     "execution_count": 15,
     "metadata": {},
     "output_type": "execute_result"
    }
   ],
   "source": [
    "data[data['genre'].isna()]"
   ]
  },
  {
   "cell_type": "code",
   "execution_count": 16,
   "metadata": {},
   "outputs": [],
   "source": [
    "data.dropna(subset=['genre','name', 'year_of_release'],inplace=True)"
   ]
  },
  {
   "cell_type": "code",
   "execution_count": 17,
   "metadata": {},
   "outputs": [
    {
     "data": {
      "text/plain": [
       "1"
      ]
     },
     "execution_count": 17,
     "metadata": {},
     "output_type": "execute_result"
    }
   ],
   "source": [
    "data.duplicated(['name', 'platform', 'year_of_release']).sum()"
   ]
  },
  {
   "cell_type": "code",
   "execution_count": 18,
   "metadata": {},
   "outputs": [],
   "source": [
    "data = data.drop_duplicates(subset=['name', 'platform', 'year_of_release'])"
   ]
  },
  {
   "cell_type": "code",
   "execution_count": 19,
   "metadata": {},
   "outputs": [
    {
     "data": {
      "text/plain": [
       "array(['e', nan, 'm', 't', 'e10+', 'k-a', 'ao', 'ec', 'rp'], dtype=object)"
      ]
     },
     "execution_count": 19,
     "metadata": {},
     "output_type": "execute_result"
    }
   ],
   "source": [
    "data['rating'].unique()"
   ]
  },
  {
   "cell_type": "markdown",
   "metadata": {},
   "source": [
    "'K-A' и 'E10+' - это два значения носящие один и тот же смысл "
   ]
  },
  {
   "cell_type": "code",
   "execution_count": 20,
   "metadata": {},
   "outputs": [],
   "source": [
    "data['rating'] = data['rating']. replace ('k-a','e10+')"
   ]
  },
  {
   "cell_type": "code",
   "execution_count": 21,
   "metadata": {},
   "outputs": [],
   "source": [
    "data['rating'] = data['rating'].fillna('nr')"
   ]
  },
  {
   "cell_type": "code",
   "execution_count": 22,
   "metadata": {},
   "outputs": [
    {
     "data": {
      "text/plain": [
       "name                  0\n",
       "platform              0\n",
       "year_of_release       0\n",
       "genre                 0\n",
       "na_sales              0\n",
       "eu_sales              0\n",
       "jp_sales              0\n",
       "other_sales           0\n",
       "critic_score       8461\n",
       "user_score         8981\n",
       "rating                0\n",
       "dtype: int64"
      ]
     },
     "execution_count": 22,
     "metadata": {},
     "output_type": "execute_result"
    }
   ],
   "source": [
    "data.isna().sum()"
   ]
  },
  {
   "cell_type": "markdown",
   "metadata": {},
   "source": [
    "*Вывод*\n",
    "1. Привели название столбцов и данных в нижний регистр\n",
    "2. поменяли тип данных в столбце Year_of_Release на int, столбец User_Score на float64 для удобства работы\n",
    "3. удалили пропуски в столбцах year_of_release, genre,name их было мало, большое количество продаж они не принесли и заменить каким-либо другим значением невозможно\n",
    "4. большое количество пропусков было в столбце critic_score, user_score заменить их нет возможноси, поэтому отсавили без изменений\n",
    "5. удалили дубликат\n",
    "6. Заменили K-A на E10+ в столбце рейтинг, так как это обозначение одного и того же, заменили nan на nr- без рейтинга \n",
    "\n",
    "Пропуски в исходных данных могут возникнуть по техническому и человеческому фактору, на этапе загрузки и выгрузки данных или объединение таблиц"
   ]
  },
  {
   "cell_type": "markdown",
   "metadata": {},
   "source": [
    "##### Добавление нового стобца с  суммарными продажами во всех регионах"
   ]
  },
  {
   "cell_type": "code",
   "execution_count": 23,
   "metadata": {},
   "outputs": [],
   "source": [
    "data['total_sales'] = data['na_sales'] +data['eu_sales'] + data['jp_sales'] +data['other_sales']"
   ]
  },
  {
   "cell_type": "code",
   "execution_count": 24,
   "metadata": {
    "scrolled": true
   },
   "outputs": [
    {
     "data": {
      "text/html": [
       "<div>\n",
       "<style scoped>\n",
       "    .dataframe tbody tr th:only-of-type {\n",
       "        vertical-align: middle;\n",
       "    }\n",
       "\n",
       "    .dataframe tbody tr th {\n",
       "        vertical-align: top;\n",
       "    }\n",
       "\n",
       "    .dataframe thead th {\n",
       "        text-align: right;\n",
       "    }\n",
       "</style>\n",
       "<table border=\"1\" class=\"dataframe\">\n",
       "  <thead>\n",
       "    <tr style=\"text-align: right;\">\n",
       "      <th></th>\n",
       "      <th>name</th>\n",
       "      <th>platform</th>\n",
       "      <th>year_of_release</th>\n",
       "      <th>genre</th>\n",
       "      <th>na_sales</th>\n",
       "      <th>eu_sales</th>\n",
       "      <th>jp_sales</th>\n",
       "      <th>other_sales</th>\n",
       "      <th>critic_score</th>\n",
       "      <th>user_score</th>\n",
       "      <th>rating</th>\n",
       "      <th>total_sales</th>\n",
       "    </tr>\n",
       "  </thead>\n",
       "  <tbody>\n",
       "    <tr>\n",
       "      <th>0</th>\n",
       "      <td>wii sports</td>\n",
       "      <td>wii</td>\n",
       "      <td>2006</td>\n",
       "      <td>Sports</td>\n",
       "      <td>41.36</td>\n",
       "      <td>28.96</td>\n",
       "      <td>3.77</td>\n",
       "      <td>8.45</td>\n",
       "      <td>76.0</td>\n",
       "      <td>8.0</td>\n",
       "      <td>e</td>\n",
       "      <td>82.54</td>\n",
       "    </tr>\n",
       "    <tr>\n",
       "      <th>1</th>\n",
       "      <td>super mario bros.</td>\n",
       "      <td>nes</td>\n",
       "      <td>1985</td>\n",
       "      <td>Platform</td>\n",
       "      <td>29.08</td>\n",
       "      <td>3.58</td>\n",
       "      <td>6.81</td>\n",
       "      <td>0.77</td>\n",
       "      <td>NaN</td>\n",
       "      <td>NaN</td>\n",
       "      <td>nr</td>\n",
       "      <td>40.24</td>\n",
       "    </tr>\n",
       "    <tr>\n",
       "      <th>2</th>\n",
       "      <td>mario kart wii</td>\n",
       "      <td>wii</td>\n",
       "      <td>2008</td>\n",
       "      <td>Racing</td>\n",
       "      <td>15.68</td>\n",
       "      <td>12.76</td>\n",
       "      <td>3.79</td>\n",
       "      <td>3.29</td>\n",
       "      <td>82.0</td>\n",
       "      <td>8.3</td>\n",
       "      <td>e</td>\n",
       "      <td>35.52</td>\n",
       "    </tr>\n",
       "    <tr>\n",
       "      <th>3</th>\n",
       "      <td>wii sports resort</td>\n",
       "      <td>wii</td>\n",
       "      <td>2009</td>\n",
       "      <td>Sports</td>\n",
       "      <td>15.61</td>\n",
       "      <td>10.93</td>\n",
       "      <td>3.28</td>\n",
       "      <td>2.95</td>\n",
       "      <td>80.0</td>\n",
       "      <td>8.0</td>\n",
       "      <td>e</td>\n",
       "      <td>32.77</td>\n",
       "    </tr>\n",
       "    <tr>\n",
       "      <th>4</th>\n",
       "      <td>pokemon red/pokemon blue</td>\n",
       "      <td>gb</td>\n",
       "      <td>1996</td>\n",
       "      <td>Role-Playing</td>\n",
       "      <td>11.27</td>\n",
       "      <td>8.89</td>\n",
       "      <td>10.22</td>\n",
       "      <td>1.00</td>\n",
       "      <td>NaN</td>\n",
       "      <td>NaN</td>\n",
       "      <td>nr</td>\n",
       "      <td>31.38</td>\n",
       "    </tr>\n",
       "  </tbody>\n",
       "</table>\n",
       "</div>"
      ],
      "text/plain": [
       "                       name platform  year_of_release         genre  na_sales  \\\n",
       "0                wii sports      wii             2006        Sports     41.36   \n",
       "1         super mario bros.      nes             1985      Platform     29.08   \n",
       "2            mario kart wii      wii             2008        Racing     15.68   \n",
       "3         wii sports resort      wii             2009        Sports     15.61   \n",
       "4  pokemon red/pokemon blue       gb             1996  Role-Playing     11.27   \n",
       "\n",
       "   eu_sales  jp_sales  other_sales  critic_score  user_score rating  \\\n",
       "0     28.96      3.77         8.45          76.0         8.0      e   \n",
       "1      3.58      6.81         0.77           NaN         NaN     nr   \n",
       "2     12.76      3.79         3.29          82.0         8.3      e   \n",
       "3     10.93      3.28         2.95          80.0         8.0      e   \n",
       "4      8.89     10.22         1.00           NaN         NaN     nr   \n",
       "\n",
       "   total_sales  \n",
       "0        82.54  \n",
       "1        40.24  \n",
       "2        35.52  \n",
       "3        32.77  \n",
       "4        31.38  "
      ]
     },
     "execution_count": 24,
     "metadata": {},
     "output_type": "execute_result"
    }
   ],
   "source": [
    "data.head()"
   ]
  },
  {
   "cell_type": "code",
   "execution_count": 25,
   "metadata": {},
   "outputs": [
    {
     "name": "stdout",
     "output_type": "stream",
     "text": [
      "<class 'pandas.core.frame.DataFrame'>\n",
      "Int64Index: 16443 entries, 0 to 16714\n",
      "Data columns (total 12 columns):\n",
      " #   Column           Non-Null Count  Dtype  \n",
      "---  ------           --------------  -----  \n",
      " 0   name             16443 non-null  object \n",
      " 1   platform         16443 non-null  object \n",
      " 2   year_of_release  16443 non-null  Int64  \n",
      " 3   genre            16443 non-null  object \n",
      " 4   na_sales         16443 non-null  float64\n",
      " 5   eu_sales         16443 non-null  float64\n",
      " 6   jp_sales         16443 non-null  float64\n",
      " 7   other_sales      16443 non-null  float64\n",
      " 8   critic_score     7982 non-null   float64\n",
      " 9   user_score       7462 non-null   float64\n",
      " 10  rating           16443 non-null  object \n",
      " 11  total_sales      16443 non-null  float64\n",
      "dtypes: Int64(1), float64(7), object(4)\n",
      "memory usage: 1.6+ MB\n"
     ]
    }
   ],
   "source": [
    "# check\n",
    "data.info()"
   ]
  },
  {
   "cell_type": "markdown",
   "metadata": {},
   "source": [
    "#### Шаг  Исследовательский анализ данных"
   ]
  },
  {
   "cell_type": "markdown",
   "metadata": {},
   "source": [
    "##### Cколько игр выпускалось в разные годы"
   ]
  },
  {
   "cell_type": "code",
   "execution_count": 26,
   "metadata": {},
   "outputs": [
    {
     "data": {
      "text/plain": [
       "Text(0, 0.5, 'Количество')"
      ]
     },
     "execution_count": 26,
     "metadata": {},
     "output_type": "execute_result"
    },
    {
     "data": {
      "image/png": "[encoded data removed]",
      "text/plain": [
       "<Figure size 1080x360 with 1 Axes>"
      ]
     },
     "metadata": {
      "needs_background": "light"
     },
     "output_type": "display_data"
    }
   ],
   "source": [
    "data.groupby('year_of_release')['name'].count().plot(kind='bar', \n",
    "                                                     title='Количество игр, выпущенных в разные годы', \n",
    "                                                     figsize=(15, 5))\n",
    "plt.xlabel('Года')\n",
    "plt.ylabel('Количество')"
   ]
  },
  {
   "cell_type": "markdown",
   "metadata": {},
   "source": [
    "В период с 1980 по 1993 игры почти не выпускались"
   ]
  },
  {
   "cell_type": "markdown",
   "metadata": {},
   "source": [
    "##### Как менялись продажи по платформам"
   ]
  },
  {
   "cell_type": "code",
   "execution_count": 27,
   "metadata": {},
   "outputs": [
    {
     "data": {
      "text/plain": [
       "Text(0, 0.5, 'суммарнрые продажи')"
      ]
     },
     "execution_count": 27,
     "metadata": {},
     "output_type": "execute_result"
    },
    {
     "data": {
      "image/png": "[encoded data removed]",
      "text/plain": [
       "<Figure size 1080x360 with 1 Axes>"
      ]
     },
     "metadata": {
      "needs_background": "light"
     },
     "output_type": "display_data"
    }
   ],
   "source": [
    "data.groupby('platform')['total_sales'].sum().sort_values(ascending=False).plot.bar(figsize = (15,5),\n",
    "                                                                                    title='Суммарные продажи платформ')\n",
    "plt.xlabel('название платформы')\n",
    "plt.ylabel('суммарнрые продажи')"
   ]
  },
  {
   "cell_type": "markdown",
   "metadata": {},
   "source": [
    "6 лидеров : PS2, X360, PS3, Wii, DS, PS"
   ]
  },
  {
   "cell_type": "code",
   "execution_count": 28,
   "metadata": {},
   "outputs": [],
   "source": [
    "platforms = data.pivot_table(index = 'platform', \n",
    "                             values = 'total_sales', \n",
    "                             aggfunc = 'sum').sort_values(by = 'total_sales', ascending = False)\n",
    "top_6_platforms = platforms.reset_index()\n",
    "iloc = top_6_platforms.iloc[0:6]\n",
    "top_6_platforms = iloc['platform'].unique()"
   ]
  },
  {
   "cell_type": "code",
   "execution_count": 29,
   "metadata": {},
   "outputs": [
    {
     "data": {
      "image/png": "[encoded data removed]",
      "text/plain": [
       "<Figure size 1080x360 with 1 Axes>"
      ]
     },
     "metadata": {
      "needs_background": "light"
     },
     "output_type": "display_data"
    },
    {
     "data": {
      "image/png": "[encoded data removed]",
      "text/plain": [
       "<Figure size 1080x360 with 1 Axes>"
      ]
     },
     "metadata": {
      "needs_background": "light"
     },
     "output_type": "display_data"
    },
    {
     "data": {
      "image/png": "[encoded data removed]",
      "text/plain": [
       "<Figure size 1080x360 with 1 Axes>"
      ]
     },
     "metadata": {
      "needs_background": "light"
     },
     "output_type": "display_data"
    },
    {
     "data": {
      "image/png": "[encoded data removed]",
      "text/plain": [
       "<Figure size 1080x360 with 1 Axes>"
      ]
     },
     "metadata": {
      "needs_background": "light"
     },
     "output_type": "display_data"
    },
    {
     "data": {
      "image/png": "[encoded data removed]",
      "text/plain": [
       "<Figure size 1080x360 with 1 Axes>"
      ]
     },
     "metadata": {
      "needs_background": "light"
     },
     "output_type": "display_data"
    },
    {
     "data": {
      "image/png": "[encoded data removed]",
      "text/plain": [
       "<Figure size 1080x360 with 1 Axes>"
      ]
     },
     "metadata": {
      "needs_background": "light"
     },
     "output_type": "display_data"
    }
   ],
   "source": [
    "for platform in top_6_platforms:\n",
    "    ppivot = data[data['platform'] == platform].pivot_table(index = 'year_of_release',\n",
    "                                                   values = 'total_sales', aggfunc = 'sum').plot.bar(figsize = (15,5),\n",
    "                                                                                      title='Суммарные продажи платформ')\n",
    "    plt.title(platform)\n",
    "    plt.xlabel('год')\n",
    "    plt.ylabel('количество')"
   ]
  },
  {
   "cell_type": "markdown",
   "metadata": {},
   "source": [
    "Консоль DS была выпущена в 2004 году. Удаляем анамальные значения"
   ]
  },
  {
   "cell_type": "code",
   "execution_count": 30,
   "metadata": {},
   "outputs": [
    {
     "data": {
      "text/html": [
       "<div>\n",
       "<style scoped>\n",
       "    .dataframe tbody tr th:only-of-type {\n",
       "        vertical-align: middle;\n",
       "    }\n",
       "\n",
       "    .dataframe tbody tr th {\n",
       "        vertical-align: top;\n",
       "    }\n",
       "\n",
       "    .dataframe thead th {\n",
       "        text-align: right;\n",
       "    }\n",
       "</style>\n",
       "<table border=\"1\" class=\"dataframe\">\n",
       "  <thead>\n",
       "    <tr style=\"text-align: right;\">\n",
       "      <th></th>\n",
       "      <th>name</th>\n",
       "      <th>platform</th>\n",
       "      <th>year_of_release</th>\n",
       "      <th>genre</th>\n",
       "      <th>na_sales</th>\n",
       "      <th>eu_sales</th>\n",
       "      <th>jp_sales</th>\n",
       "      <th>other_sales</th>\n",
       "      <th>critic_score</th>\n",
       "      <th>user_score</th>\n",
       "      <th>rating</th>\n",
       "      <th>total_sales</th>\n",
       "    </tr>\n",
       "  </thead>\n",
       "  <tbody>\n",
       "    <tr>\n",
       "      <th>15957</th>\n",
       "      <td>strongest tokyo university shogi ds</td>\n",
       "      <td>ds</td>\n",
       "      <td>1985</td>\n",
       "      <td>Action</td>\n",
       "      <td>0.0</td>\n",
       "      <td>0.0</td>\n",
       "      <td>0.02</td>\n",
       "      <td>0.0</td>\n",
       "      <td>NaN</td>\n",
       "      <td>NaN</td>\n",
       "      <td>nr</td>\n",
       "      <td>0.02</td>\n",
       "    </tr>\n",
       "  </tbody>\n",
       "</table>\n",
       "</div>"
      ],
      "text/plain": [
       "                                      name platform  year_of_release   genre  \\\n",
       "15957  strongest tokyo university shogi ds       ds             1985  Action   \n",
       "\n",
       "       na_sales  eu_sales  jp_sales  other_sales  critic_score  user_score  \\\n",
       "15957       0.0       0.0      0.02          0.0           NaN         NaN   \n",
       "\n",
       "      rating  total_sales  \n",
       "15957     nr         0.02  "
      ]
     },
     "execution_count": 30,
     "metadata": {},
     "output_type": "execute_result"
    }
   ],
   "source": [
    "data.loc[((data['platform'] == 'ds') &(data['year_of_release' ] == 1985))]"
   ]
  },
  {
   "cell_type": "code",
   "execution_count": 31,
   "metadata": {},
   "outputs": [],
   "source": [
    "data = data.drop (index= 15957)"
   ]
  },
  {
   "cell_type": "markdown",
   "metadata": {},
   "source": [
    "Больше всего продаж:\n",
    "- PS2 в 2002, 2004 год\n",
    "- X360 в 2008, 2010, 2011 год\n",
    "- PS3 с 2008-2011 года \n",
    "- Wii с 2006- 2009 года\n",
    "- DS 2005, 2007, 2008 год\n",
    "- PS с 1997-1999 год\n",
    "\n",
    "Срок, за который появляются и исчезают новые платформы - 10-12 лет. \n",
    "Актуальность сохраняется 2-4 года\n",
    "\n",
    "*Вывод*\n",
    "\n",
    "Данные с 2014 года могут помочь построить прогноз на 2017 год"
   ]
  },
  {
   "cell_type": "markdown",
   "metadata": {},
   "source": [
    "##### Актуальный период для прогноза"
   ]
  },
  {
   "cell_type": "code",
   "execution_count": 32,
   "metadata": {},
   "outputs": [],
   "source": [
    "actual = data.query('year_of_release >= 2014')"
   ]
  },
  {
   "cell_type": "markdown",
   "metadata": {},
   "source": [
    "##### Какие платформы лидируют по продажам в актуальный период"
   ]
  },
  {
   "cell_type": "code",
   "execution_count": 33,
   "metadata": {},
   "outputs": [
    {
     "data": {
      "text/plain": [
       "Text(0, 0.5, 'суммарнрые продажи')"
      ]
     },
     "execution_count": 33,
     "metadata": {},
     "output_type": "execute_result"
    },
    {
     "data": {
      "image/png": "[encoded data removed]",
      "text/plain": [
       "<Figure size 1080x360 with 1 Axes>"
      ]
     },
     "metadata": {
      "needs_background": "light"
     },
     "output_type": "display_data"
    }
   ],
   "source": [
    "actual.groupby('platform')['total_sales'].sum().sort_values(ascending=False).plot.bar(figsize = (15,5),\n",
    "                                                                                      title='Суммарные продажи платформ', )\n",
    "plt.xlabel('название платформы')\n",
    "plt.ylabel('суммарнрые продажи')"
   ]
  },
  {
   "cell_type": "markdown",
   "metadata": {},
   "source": [
    "В топе появились новые платформы: PS4,3DS, XOne"
   ]
  },
  {
   "cell_type": "markdown",
   "metadata": {},
   "source": [
    "Рассмотрим платформы, составляюших ТОП-6 (PS4, XOne, 3DS, PS3, X360, WiiU) отдельно "
   ]
  },
  {
   "cell_type": "code",
   "execution_count": 34,
   "metadata": {},
   "outputs": [],
   "source": [
    "ttop_6 = (actual.pivot_table(index='platform', values='total_sales', aggfunc='sum')\n",
    "    .sort_values('total_sales', ascending=False))"
   ]
  },
  {
   "cell_type": "code",
   "execution_count": 35,
   "metadata": {},
   "outputs": [
    {
     "name": "stdout",
     "output_type": "stream",
     "text": [
      "ps4\n"
     ]
    },
    {
     "data": {
      "image/png": "[encoded data removed]",
      "text/plain": [
       "<Figure size 432x288 with 1 Axes>"
      ]
     },
     "metadata": {
      "needs_background": "light"
     },
     "output_type": "display_data"
    },
    {
     "name": "stdout",
     "output_type": "stream",
     "text": [
      "xone\n"
     ]
    },
    {
     "data": {
      "image/png": "[encoded data removed]",
      "text/plain": [
       "<Figure size 432x288 with 1 Axes>"
      ]
     },
     "metadata": {
      "needs_background": "light"
     },
     "output_type": "display_data"
    },
    {
     "name": "stdout",
     "output_type": "stream",
     "text": [
      "3ds\n"
     ]
    },
    {
     "data": {
      "image/png": "[encoded data removed]",
      "text/plain": [
       "<Figure size 432x288 with 1 Axes>"
      ]
     },
     "metadata": {
      "needs_background": "light"
     },
     "output_type": "display_data"
    },
    {
     "name": "stdout",
     "output_type": "stream",
     "text": [
      "ps3\n"
     ]
    },
    {
     "data": {
      "image/png": "[encoded data removed]",
      "text/plain": [
       "<Figure size 432x288 with 1 Axes>"
      ]
     },
     "metadata": {
      "needs_background": "light"
     },
     "output_type": "display_data"
    },
    {
     "name": "stdout",
     "output_type": "stream",
     "text": [
      "x360\n"
     ]
    },
    {
     "data": {
      "image/png": "[encoded data removed]",
      "text/plain": [
       "<Figure size 432x288 with 1 Axes>"
      ]
     },
     "metadata": {
      "needs_background": "light"
     },
     "output_type": "display_data"
    },
    {
     "name": "stdout",
     "output_type": "stream",
     "text": [
      "wiiu\n"
     ]
    },
    {
     "data": {
      "image/png": "[encoded data removed]",
      "text/plain": [
       "<Figure size 432x288 with 1 Axes>"
      ]
     },
     "metadata": {
      "needs_background": "light"
     },
     "output_type": "display_data"
    }
   ],
   "source": [
    "for platform in ttop_6.index[:6]:\n",
    "    print(platform)\n",
    "    (actual\n",
    "     .query('platform == @platform')\n",
    "     .pivot_table(index='year_of_release', values='total_sales', aggfunc='sum')\n",
    "     .plot(kind='bar')\n",
    "    )\n",
    "    \n",
    "    plt.xlabel('год')\n",
    "    plt.ylabel('суммарнрые продажи')\n",
    "    plt.show() "
   ]
  },
  {
   "cell_type": "markdown",
   "metadata": {},
   "source": [
    "Показатели всех платформ опускаются, но данные за 2016 год могут быть неполными"
   ]
  },
  {
   "cell_type": "markdown",
   "metadata": {},
   "source": [
    "##### График «ящик с усами» по глобальным продажам игр в разбивке по платформам"
   ]
  },
  {
   "cell_type": "code",
   "execution_count": 36,
   "metadata": {},
   "outputs": [
    {
     "data": {
      "image/png": "[encoded data removed]",
      "text/plain": [
       "<Figure size 1440x720 with 1 Axes>"
      ]
     },
     "metadata": {
      "needs_background": "light"
     },
     "output_type": "display_data"
    }
   ],
   "source": [
    "plt.figure(figsize=(20, 10))\n",
    "\n",
    "sns.boxplot(data=actual, x='platform', y='total_sales')\n",
    "\n",
    "plt.ylim(0, 2)\n",
    "\n",
    "plt.title('Диограмма размаха продаж игр')\n",
    "plt.xlabel('продажи')\n",
    "plt.ylabel('платформы')\n",
    "\n",
    "plt.show()"
   ]
  },
  {
   "cell_type": "markdown",
   "metadata": {},
   "source": [
    "Платформы с самым большим диапозоном значений: Wii\n",
    "Платформы с самым большим размахам: PS4, X360 Wii WiiU XOne PS3"
   ]
  },
  {
   "cell_type": "markdown",
   "metadata": {},
   "source": [
    "Потенциально прибыльные платформы:PS4, WiiU, XOne, 3DS"
   ]
  },
  {
   "cell_type": "markdown",
   "metadata": {},
   "source": [
    "##### Влияние на продажи  отзывы пользователей и критиков"
   ]
  },
  {
   "cell_type": "code",
   "execution_count": 37,
   "metadata": {},
   "outputs": [
    {
     "name": "stdout",
     "output_type": "stream",
     "text": [
      "Влияние на продажи PS4\n",
      "Корреляция между отзывами критиков и продажами: 0.4\n",
      "Корреляция между отзывами пользователей и продажами: -0.0\n"
     ]
    },
    {
     "data": {
      "image/png": "[encoded data removed]",
      "text/plain": [
       "<Figure size 432x288 with 1 Axes>"
      ]
     },
     "metadata": {
      "needs_background": "light"
     },
     "output_type": "display_data"
    },
    {
     "data": {
      "image/png": "[encoded data removed]",
      "text/plain": [
       "<Figure size 432x288 with 1 Axes>"
      ]
     },
     "metadata": {
      "needs_background": "light"
     },
     "output_type": "display_data"
    }
   ],
   "source": [
    "print('Влияние на продажи PS4')\n",
    "actual.query('platform == \"ps4\"').plot(x='critic_score', y='total_sales', kind='scatter')\n",
    "plt.xlabel('оценка критиков')\n",
    "plt.ylabel('продажи')\n",
    "plt.show\n",
    "actual.query('platform == \"ps4\"').plot(x='user_score', y='total_sales', kind='scatter')\n",
    "plt.xlabel('оценка пользователей')\n",
    "plt.ylabel('продажи')\n",
    "ps4c= actual.query('platform == \"ps4\"')['critic_score'].corr(actual.query('platform == \"ps4\"')['total_sales'])\n",
    "ps4u = actual.query('platform == \"ps4\"')['user_score'].corr(actual.query('platform == \"ps4\"')['total_sales'])\n",
    "print('Корреляция между отзывами критиков и продажами:', round(ps4c, 1))\n",
    "print('Корреляция между отзывами пользователей и продажами:', round(ps4u, 1))"
   ]
  },
  {
   "cell_type": "markdown",
   "metadata": {},
   "source": [
    "Из графиков видно, что корреляция между пользовательсикими оценками и продажами отсутсвует, корреляция между оценкой критиков слабая - 40%"
   ]
  },
  {
   "cell_type": "code",
   "execution_count": 38,
   "metadata": {},
   "outputs": [
    {
     "name": "stdout",
     "output_type": "stream",
     "text": [
      "Влияние на продажи XOne\n",
      "Корреляция между отзывами критиков и продажами: 0.4\n",
      "Корреляция между отзывами пользователей и продажами: -0.1\n"
     ]
    },
    {
     "data": {
      "image/png": "[encoded data removed]",
      "text/plain": [
       "<Figure size 432x288 with 1 Axes>"
      ]
     },
     "metadata": {
      "needs_background": "light"
     },
     "output_type": "display_data"
    },
    {
     "data": {
      "image/png": "[encoded data removed]",
      "text/plain": [
       "<Figure size 432x288 with 1 Axes>"
      ]
     },
     "metadata": {
      "needs_background": "light"
     },
     "output_type": "display_data"
    }
   ],
   "source": [
    "print('Влияние на продажи XOne')\n",
    "actual.query('platform == \"xone\"').plot(x='critic_score', y='total_sales', kind='scatter')\n",
    "plt.xlabel('оценка критиков')\n",
    "plt.ylabel('продажи')\n",
    "plt.show\n",
    "actual.query('platform == \"xone\"').plot(x='user_score', y='total_sales', kind='scatter')\n",
    "plt.xlabel('оценка пользователей')\n",
    "plt.ylabel('продажи')\n",
    "xonec= actual.query('platform == \"xone\"')['critic_score'].corr(actual.query('platform == \"xone\"')['total_sales'])\n",
    "xoneu = actual.query('platform == \"xone\"')['user_score'].corr(actual.query('platform == \"xone\"')['total_sales'])\n",
    "print('Корреляция между отзывами критиков и продажами:', round(xonec, 1))\n",
    "print('Корреляция между отзывами пользователей и продажами:', round(xoneu, 1))"
   ]
  },
  {
   "cell_type": "markdown",
   "metadata": {},
   "source": [
    "Замечаем наличие очень слабой отрицательной корреляции между отзывами пользователей и продажами.\n",
    "Корреляция между оценкой критиков такая же, как и у PS4 - 40%"
   ]
  },
  {
   "cell_type": "code",
   "execution_count": 39,
   "metadata": {},
   "outputs": [
    {
     "name": "stdout",
     "output_type": "stream",
     "text": [
      "Влияние на продажи WiiU\n",
      "Корреляция между отзывами критиков и продажами: 0.4\n",
      "Корреляция между отзывами пользователей и продажами: 0.4\n"
     ]
    },
    {
     "data": {
      "image/png": "[encoded data removed]",
      "text/plain": [
       "<Figure size 432x288 with 1 Axes>"
      ]
     },
     "metadata": {
      "needs_background": "light"
     },
     "output_type": "display_data"
    },
    {
     "data": {
      "image/png": "[encoded data removed]",
      "text/plain": [
       "<Figure size 432x288 with 1 Axes>"
      ]
     },
     "metadata": {
      "needs_background": "light"
     },
     "output_type": "display_data"
    }
   ],
   "source": [
    "print('Влияние на продажи WiiU')\n",
    "actual.query('platform == \"wiiu\"').plot(x='critic_score', y='total_sales', kind='scatter')\n",
    "plt.xlabel('оценка критиков')\n",
    "plt.ylabel('продажи')\n",
    "plt.show\n",
    "actual.query('platform == \"wiiu\"').plot(x='user_score', y='total_sales', kind='scatter')\n",
    "plt.xlabel('оценка пользователей')\n",
    "plt.ylabel('продажи')\n",
    "wiiuc= actual.query('platform == \"wiiu\"')['critic_score'].corr(actual.query('platform == \"wiiu\"')['total_sales'])\n",
    "wiiuu = actual.query('platform == \"wiiu\"')['user_score'].corr(actual.query('platform == \"wiiu\"')['total_sales'])\n",
    "print('Корреляция между отзывами критиков и продажами:', round(wiiuc, 1))\n",
    "print('Корреляция между отзывами пользователей и продажами:', round(wiiuu, 1))"
   ]
  },
  {
   "cell_type": "markdown",
   "metadata": {},
   "source": [
    "Корреляция между отзывами критиков и отзывами пользователей одинаковая - 40%"
   ]
  },
  {
   "cell_type": "code",
   "execution_count": 40,
   "metadata": {},
   "outputs": [
    {
     "name": "stdout",
     "output_type": "stream",
     "text": [
      "Влияние на продажи 3DS\n",
      "Корреляция между отзывами критиков и продажами: 0.3\n",
      "Корреляция между отзывами пользователей и продажами: 0.2\n"
     ]
    },
    {
     "data": {
      "image/png": "[encoded data removed]",
      "text/plain": [
       "<Figure size 432x288 with 1 Axes>"
      ]
     },
     "metadata": {
      "needs_background": "light"
     },
     "output_type": "display_data"
    },
    {
     "data": {
      "image/png": "[encoded data removed]",
      "text/plain": [
       "<Figure size 432x288 with 1 Axes>"
      ]
     },
     "metadata": {
      "needs_background": "light"
     },
     "output_type": "display_data"
    }
   ],
   "source": [
    "print('Влияние на продажи 3DS')\n",
    "actual.query('platform == \"3ds\"').plot(x='critic_score', y='total_sales', kind='scatter')\n",
    "plt.xlabel('оценка критиков')\n",
    "plt.ylabel('продажи')\n",
    "plt.show\n",
    "actual.query('platform == \"3ds\"').plot(x='user_score', y='total_sales', kind='scatter')\n",
    "plt.xlabel('оценка пользователей')\n",
    "plt.ylabel('продажи')\n",
    "dsc= actual.query('platform == \"3ds\"')['critic_score'].corr(actual.query('platform == \"3ds\"')['total_sales'])\n",
    "dsu = actual.query('platform == \"3ds\"')['user_score'].corr(actual.query('platform == \"3ds\"')['total_sales'])\n",
    "print('Корреляция между отзывами критиков и продажами:', round(dsc, 1))\n",
    "print('Корреляция между отзывами пользователей и продажами:', round(dsu, 1))"
   ]
  },
  {
   "cell_type": "markdown",
   "metadata": {},
   "source": [
    "Видим слабую корреляцию между отзывами критиков и отзывами пользователей"
   ]
  },
  {
   "cell_type": "markdown",
   "metadata": {},
   "source": [
    "##### Общее распределение игр по жанрам"
   ]
  },
  {
   "cell_type": "code",
   "execution_count": 41,
   "metadata": {},
   "outputs": [
    {
     "data": {
      "image/png": "[encoded data removed]",
      "text/plain": [
       "<Figure size 1080x360 with 1 Axes>"
      ]
     },
     "metadata": {
      "needs_background": "light"
     },
     "output_type": "display_data"
    }
   ],
   "source": [
    "plt.figure(figsize=(15, 5))\n",
    "\n",
    "sns.boxplot(data=actual, x='genre', y='total_sales')\n",
    "\n",
    "plt.ylim(0, 2)\n",
    "\n",
    "plt.title('Диограмма размаха по прибыльности жанров ')\n",
    "plt.xlabel('платформы')\n",
    "plt.ylabel('продажи')\n",
    "\n",
    "plt.show()"
   ]
  },
  {
   "cell_type": "code",
   "execution_count": 42,
   "metadata": {},
   "outputs": [
    {
     "data": {
      "image/png": "[encoded data removed]",
      "text/plain": [
       "<Figure size 1080x360 with 1 Axes>"
      ]
     },
     "metadata": {
      "needs_background": "light"
     },
     "output_type": "display_data"
    }
   ],
   "source": [
    "plt.figure(figsize=(15, 5))\n",
    "\n",
    "sns.boxplot(data=actual, x='genre', y='total_sales')\n",
    "\n",
    "\n",
    "plt.title('Диограмма размаха по прибыльности жанров ')\n",
    "plt.xlabel('платформы')\n",
    "plt.ylabel('продажи')\n",
    "\n",
    "plt.show()"
   ]
  },
  {
   "cell_type": "markdown",
   "metadata": {},
   "source": [
    "*Вывод*\n",
    "Shooter имеет самые выскоие медианные продажи, у остальных паказатели похожи. \n",
    "Более стабильные жанры: Shooter, Sports, Platform.\n",
    "Самые высокие продажи: Shooter, Action, Role-Playing\n"
   ]
  },
  {
   "cell_type": "markdown",
   "metadata": {},
   "source": [
    "#### Шаг Составьте портрет пользователя каждого региона"
   ]
  },
  {
   "cell_type": "code",
   "execution_count": 43,
   "metadata": {},
   "outputs": [],
   "source": [
    "regions = actual.columns[4:7]"
   ]
  },
  {
   "cell_type": "markdown",
   "metadata": {},
   "source": [
    "##### Самые популярные жанры (топ-5)"
   ]
  },
  {
   "cell_type": "code",
   "execution_count": 44,
   "metadata": {},
   "outputs": [
    {
     "data": {
      "image/png": "[encoded data removed]",
      "text/plain": [
       "<Figure size 1224x504 with 3 Axes>"
      ]
     },
     "metadata": {},
     "output_type": "display_data"
    }
   ],
   "source": [
    "fig, axs = plt.subplots(1, 3, figsize=(17, 7))\n",
    "fig.suptitle('Обзор рынка жанров (портрет покупателя)', size = 20)\n",
    "for i in range(3):\n",
    "    gen = (actual.groupby('genre')[regions[i]].sum().\n",
    "             reset_index().\n",
    "             sort_values(regions[i], ascending = False, ignore_index = True).\n",
    "             head(5))\n",
    "    \n",
    "    gen = gen.append({'genre': 'other', regions[i]: actual[regions[i]].sum() - gen[regions[i]].sum()}, ignore_index= True)\n",
    "    axs[i].pie(gen[regions[i]], labels = gen['genre'])\n",
    "    axs[i].pie(gen[regions[i]], labels = gen['genre'], autopct='%1.1f%%',wedgeprops = {\"edgecolor\" : \"white\",\n",
    "                      'linewidth': 2,\n",
    "                      'antialiased': True})\n",
    "    \n",
    "    axs[0].set_title('Популярность платформ в Северной Америке')\n",
    "    axs[1].set_title('Популярность плфтформ в Европе')\n",
    "    axs[2].set_title('Популярность платформ в Японии')\n",
    "    \n",
    "plt.show()"
   ]
  },
  {
   "cell_type": "markdown",
   "metadata": {},
   "source": [
    "*Вывод:* - Замечаем, что в Северной Америке и Европе  распределение почти одинакого. В обоих регионах самые востребованными жанрами были: Action,Shooter и Sports\n",
    "        - В Японии большой процент занимают игры жанра Action и Role-Playing"
   ]
  },
  {
   "cell_type": "markdown",
   "metadata": {},
   "source": [
    "##### Самые популярные платформы (топ-5)"
   ]
  },
  {
   "cell_type": "code",
   "execution_count": 45,
   "metadata": {},
   "outputs": [
    {
     "data": {
      "image/png": "[encoded data removed]",
      "text/plain": [
       "<Figure size 1224x504 with 3 Axes>"
      ]
     },
     "metadata": {},
     "output_type": "display_data"
    }
   ],
   "source": [
    "fig, axs = plt.subplots(1, 3, figsize=(17, 7))\n",
    "fig.suptitle('Обзор рынка платформ (портрет покупателя)',size = 20)\n",
    "for i in range(3):\n",
    "    pl = (actual.groupby('platform')[regions[i]].sum().\n",
    "             reset_index().\n",
    "             sort_values(regions[i], ascending = False, ignore_index = True).\n",
    "             head(5))\n",
    "    pl = pl.append({'platform': 'other', regions[i]: actual[regions[i]].sum() - pl[regions[i]].sum()},\n",
    "                   ignore_index= True)\n",
    "    axs[i].pie(pl[regions[i]], labels = pl['platform'])\n",
    "    axs[i].pie(pl[regions[i]], labels = pl['platform'], autopct='%1.1f%%',wedgeprops = {\"edgecolor\" : \"white\",\n",
    "                      'linewidth': 2,\n",
    "                      'antialiased': True})\n",
    "\n",
    "    axs[0].set_title('Популярность платформ в Северной Америке')\n",
    "    axs[1].set_title('Популярность платформ в Европе')\n",
    "    axs[2].set_title('Популярность платформ в Японии')\n",
    "    \n",
    "plt.show()\n",
    "plt.show()"
   ]
  },
  {
   "cell_type": "markdown",
   "metadata": {},
   "source": [
    "*Вывод:* - В Северной Америке и Европе видим почти одинаковое распределение. Преоблают плтформы: PS4 и XOne\n",
    "        - В Японии отличается распределение по другим платформам, не вошедшим в топ-5, лидеры - 3DS и PS4"
   ]
  },
  {
   "cell_type": "code",
   "execution_count": 46,
   "metadata": {},
   "outputs": [
    {
     "data": {
      "image/png": "[encoded data removed]",
      "text/plain": [
       "<Figure size 1224x504 with 3 Axes>"
      ]
     },
     "metadata": {},
     "output_type": "display_data"
    }
   ],
   "source": [
    "fig, axs = plt.subplots(1, 3, figsize=(17, 7))\n",
    "fig.suptitle('Обзор влияния рейтинга', size = 20)\n",
    "for i in range(3):\n",
    "    rat = (actual.groupby('rating')[regions[i]].sum().\n",
    "             reset_index().\n",
    "             sort_values(regions[i], ascending = False, ignore_index = True).\n",
    "             head(5))\n",
    "    axs[i].pie(rat[regions[i]], labels = rat['rating'])\n",
    "    axs[i].pie(rat[regions[i]], labels = rat['rating'], autopct='%1.1f%%',wedgeprops = {\"edgecolor\" : \"white\",\n",
    "                      'linewidth': 2,\n",
    "                      'antialiased': True})\n",
    "    axs[0].set_title('Рейтинг в Северной Америке')\n",
    "    axs[1].set_title('Рейтинг в Европе')\n",
    "    axs[2].set_title('Рейтинг в Японии')\n",
    "    \n",
    "plt.show()"
   ]
  },
  {
   "cell_type": "markdown",
   "metadata": {},
   "source": [
    "Распределение среди рейтингов в Северной Америке и Европе снова примерно одинаковое, преобладают игры с рейтингом М - \"Для взрослых\"\n",
    "В Японии преобладают игры без рейтинга ESRB"
   ]
  },
  {
   "cell_type": "markdown",
   "metadata": {},
   "source": [
    "Средние пользовательские рейтинги платформ Xbox One и PC одинаковые"
   ]
  },
  {
   "cell_type": "markdown",
   "metadata": {},
   "source": [
    "- H0=  средний пользовательский  рейтинг платформы Xbox One равен среднему рейтинг платформы PC\n",
    "- H1 = средний пользовательский рейтинг платформы Xbox One не равен среднему рейтинг платформы PC"
   ]
  },
  {
   "cell_type": "code",
   "execution_count": 47,
   "metadata": {},
   "outputs": [],
   "source": [
    "Xbox = actual[actual['platform']==\"xone\"]['user_score'].dropna() # Оценки пользователей Xbox One\n",
    "PC = actual[actual['platform']==\"pc\"]['user_score'].dropna()"
   ]
  },
  {
   "cell_type": "code",
   "execution_count": 48,
   "metadata": {},
   "outputs": [
    {
     "name": "stdout",
     "output_type": "stream",
     "text": [
      "p-значение: 0.11601398086668832\n",
      "Не получилось отвергнуть нулевую гипотезу\n",
      "средний пользовательский  рейтинг платформы Xbox One 6.594545454545454\n",
      "средний пользовательский  рейтинг платформы PC  6.298360655737704\n"
     ]
    }
   ],
   "source": [
    "alpha = 0.05\n",
    "results = st.ttest_ind(Xbox, PC, equal_var=False)\n",
    "print('p-значение:', results.pvalue)\n",
    "\n",
    "if results.pvalue < alpha:\n",
    "    print('Отвергаем нулевую гипотезу')\n",
    "else:\n",
    "    print('Не получилось отвергнуть нулевую гипотезу')\n",
    "print('средний пользовательский  рейтинг платформы Xbox One', actual.query('platform == \"xone\"')['user_score'].mean())\n",
    "print('средний пользовательский  рейтинг платформы PC ',actual.query('platform == \"pc\"')['user_score'].mean())   "
   ]
  },
  {
   "cell_type": "markdown",
   "metadata": {},
   "source": [
    "Полученное значение p-value говорит о том, что с вероятностью в почти 12%  средний пользовательский рейтинг платформы Xbox One может быть равен среднему рейтингу платформы PC"
   ]
  },
  {
   "cell_type": "code",
   "execution_count": 49,
   "metadata": {},
   "outputs": [
    {
     "name": "stdout",
     "output_type": "stream",
     "text": [
      "p-значение: 0.1912450522572209\n",
      "Не получилось отвергнуть нулевую гипотезу\n"
     ]
    }
   ],
   "source": [
    "# Приведены два датасета: сумма покупок, совершённых за месяц посетителями ...\n",
    "\n",
    "sample_1 = [3071, 3636, 3454, 3151, 2185, 3259, 1727, 2263, 2015,\n",
    "2582, 4815, 633, 3186, 887, 2028, 3589, 2564, 1422, 1785,\n",
    "3180, 1770, 2716, 2546, 1848, 4644, 3134, 475, 2686,\n",
    "1838, 3352]\n",
    "sample_2 = [1211, 1228, 2157, 3699, 600, 1898, 1688, 1420, 5048, 3007,\n",
    "509, 3777, 5583, 3949, 121, 1674, 4300, 1338, 3066,\n",
    "3562, 1010, 2311, 462, 863, 2021, 528, 1849, 255,\n",
    "1740, 2596]\n",
    "alpha = .05 # критический уровень статистической значимости\n",
    "# если p-value окажется меньше него - отвергнем гипотезу\n",
    "results = st.ttest_ind(\n",
    "sample_1,\n",
    "sample_2)\n",
    "print('p-значение:', results.pvalue)\n",
    "if (results.pvalue < alpha):\n",
    "    print(\"Отвергаем нулевую гипотезу\")\n",
    "else:\n",
    "\n",
    "    print(\"Не получилось отвергнуть нулевую гипотезу\")"
   ]
  },
  {
   "cell_type": "markdown",
   "metadata": {},
   "source": [
    "*Вывод*: средний пользовательский рейтинг платформы Xbox One может быть равен среднему рейтинг платформы PC"
   ]
  },
  {
   "cell_type": "markdown",
   "metadata": {},
   "source": [
    "Средние пользовательские рейтинги жанров Action (англ. «действие», экшен-игры) и Sports (англ. «спортивные соревнования») разные"
   ]
  },
  {
   "cell_type": "markdown",
   "metadata": {},
   "source": [
    "- H0= Средние пользовательские рейтинги жанров Action равен среднему показателю пользовательского рейтинга жанра Sports\n",
    "- H1 = Средние пользовательские рейтинги жанров Action не равен среднему показателю пользовательского рейтинга жанра Sports"
   ]
  },
  {
   "cell_type": "code",
   "execution_count": 50,
   "metadata": {},
   "outputs": [],
   "source": [
    "Action = actual[actual['genre']==\"Action\"]['user_score'].dropna()\n",
    "Sports = actual[actual['genre']==\"Sports\"]['user_score'].dropna()"
   ]
  },
  {
   "cell_type": "code",
   "execution_count": 51,
   "metadata": {},
   "outputs": [
    {
     "name": "stdout",
     "output_type": "stream",
     "text": [
      "p-значение: 0.1912450522572209\n",
      "Отвергаем нулевую гипотезу\n",
      "средний пользовательский  рейтинг жанра Action 6.760606060606061\n",
      "средний пользовательский  рейтинг жанра Sports  5.225196850393701\n"
     ]
    }
   ],
   "source": [
    "alpha = 0.05\n",
    "results_1 = st.ttest_ind(Action, Sports, equal_var=False)\n",
    "print('p-значение:', results.pvalue)\n",
    "\n",
    "if results_1.pvalue < alpha:\n",
    "    print('Отвергаем нулевую гипотезу')\n",
    "else:\n",
    "    print('Не получилось отвергнуть нулевую гипотезу')\n",
    "print('средний пользовательский  рейтинг жанра Action', actual.query('genre == \"Action\"')['user_score'].mean())\n",
    "print('средний пользовательский  рейтинг жанра Sports ',actual.query('genre == \"Sports\"')['user_score'].mean())   "
   ]
  },
  {
   "cell_type": "markdown",
   "metadata": {},
   "source": [
    "*Вывод:* средний пользовательский рейтинги жанров Action не равен среднему показателю пользовательского рейтинга жанра Sports с вероятностью ошибки в 19%   "
   ]
  },
  {
   "cell_type": "markdown",
   "metadata": {},
   "source": [
    "####  Шаг  Общий вывод"
   ]
  },
  {
   "cell_type": "markdown",
   "metadata": {},
   "source": [
    "1. Изучили общую информацию и подготовили данные:\n",
    "-  привели название столбцов и данных в нижний регистр\n",
    "-  поменяли тип данных в столбце Year_of_Release на int, столбец User_Score на float64 для удобства работы\n",
    "- удалили пропуски в столбцах year_of_release, genre,name их было мало, большое количество продаж они не принесли и заменить каким-либо другим значением невозможно\n",
    "- большое количество пропусков было в столбце critic_score, user_score заменить их нет возможности, поэтому оставили без изменений\n",
    "- удалили дубликаты\n",
    "- Заменили K-A на E10+ в столбце рейтинг, так как эти обозначение одного и того же, заменили nan на nr- без рейтинга\n",
    "2.Провели исследовательский анализ данных и обнаружили:\n",
    "- В период с 1980 по 1993 игры почти не выпускались.\n",
    "- За всё время лидеры среди платформ:  PS2, X360, PS3, Wii, DS, PS\n",
    "- Больше всего продаж:\n",
    " -  \tPS2 в 2002, 2004 год\n",
    " - \tX360 в 2008, 2010, 2011 год\n",
    " -\tPS3 с 2008-2011 года\n",
    " -\tWii с 2006- 2009 года\n",
    " -\tDS 2005, 2007, 2008 год\n",
    " -\tPS с 1997-1999 год\n",
    "\n",
    "- Срок, за который появляются и исчезают новые платформы - 10-12 лет. Актуальность сохраняется 2-4 года.  \n",
    "Вывод: Анализировать весь массив данных необязательно. \n",
    "- Создали новый датасет за промежуток времени 2014-2016 год. Дальнейшее исследование проводилось на его базе. \n",
    "- Снова произвели анализ платформ и заметили разницу.\n",
    "- В топе появились новые платформы: PS4,3DS, XOne, PC. Осталась и поднялась в топе PS3. На той же позиции осталась X360.\n",
    "-Построили  график «ящик с усами» по глобальным продажам игр в разбивке по платформам.  \n",
    "-Вывели на его основе  список потенциально прибыльных платформ: :PS4, WiiU, XOne, 3DS\n",
    "Проанализировали, как влияют на продажи внутри одной популярной платформы отзывы пользователей и критиков.\n",
    "- Для PS4: корреляция между пользовательсикими оценками и продажами отсутсвует, корреляция между оценкой критиков слабая - 40%\n",
    "- Для XOne : очень слабая отрицательной корреляция между отзывами пользователей и продажами. Корреляция между оценкой критиков такая же, как и у PS4 - 40%\n",
    "- Для WiiU: Корреляция между отзывами критиков и отзывами пользователей одинаковая - 40%\n",
    "- Для 3DS:  слабая корреляцию между отзывами критиков и отзывами пользователей\n",
    "\n",
    "Рассмотрели общее распределение игр по жанрам.\n",
    "Можно отметить следующие жанры:\n",
    "\n",
    "-\tShooter \n",
    "-\tAction \n",
    "-\tSports\n",
    "жанры с низкими продажами: Strategy, Puzzle\n",
    "4. Провели анализ по регионам (Северная Америка, Европа, Япония)\n",
    "- В Северной Америке и Европе спросом пользуются жанры Action и Shooter, в Японии - Role-Playing и Action . Самая популярна платформа в Северной Америке и в Европе PS4, в Японии - 3DS\n",
    "- Проверили, влияет ли рейтинг ESRB на продажи в отдельном регионе.\n",
    "- Распределение среди рейтингов в Северной Америке и Европе снова примерно одинаковое, преобладают игры с рейтингом М - \"Для взрослых\"\n",
    "В Японии преобладают игры без рейтинга ESRB\n",
    "5. Проверили гипотезы.\n",
    "Проверьте гипотезы\n",
    "- Средний пользовательский рейтинг платформы Xbox One может быть равен среднему рейтингу платформы PC с вероятностью в почти 12%\n",
    "- Средний пользовательский рейтинг  жанров Action не равен среднему показателю пользовательского рейтинга жанра Sports с вероятностью ошибки в 19%\n",
    "\n",
    " **ИТОГ**\n",
    "\n",
    "Потенциально популярный продукт- компьютерная игра в жанре Action, Shooter, Role-Playing на платформе-PS4,  3DS\n",
    "Потенциальная группа пользователей-  взрослые люди от  17 лет \n"
   ]
  }
 ],
 "metadata": {
  "ExecuteTimeLog": [
   {
    "duration": 1382,
    "start_time": "2023-07-20T07:33:19.418Z"
   },
   {
    "duration": 179,
    "start_time": "2023-07-20T07:33:55.809Z"
   },
   {
    "duration": 71,
    "start_time": "2023-07-20T07:34:16.044Z"
   },
   {
    "duration": 15,
    "start_time": "2023-07-20T07:34:32.704Z"
   },
   {
    "duration": 98,
    "start_time": "2023-07-20T07:36:17.079Z"
   },
   {
    "duration": 10,
    "start_time": "2023-07-20T07:36:47.942Z"
   },
   {
    "duration": 9,
    "start_time": "2023-07-20T07:38:26.344Z"
   },
   {
    "duration": 3,
    "start_time": "2023-07-20T07:42:43.005Z"
   },
   {
    "duration": 22,
    "start_time": "2023-07-20T07:42:52.148Z"
   },
   {
    "duration": 12,
    "start_time": "2023-07-20T07:43:22.251Z"
   },
   {
    "duration": 2023,
    "start_time": "2023-07-20T08:04:48.875Z"
   },
   {
    "duration": 16,
    "start_time": "2023-07-20T08:05:04.778Z"
   },
   {
    "duration": 14,
    "start_time": "2023-07-20T08:06:12.217Z"
   },
   {
    "duration": 15,
    "start_time": "2023-07-20T08:06:21.977Z"
   },
   {
    "duration": 18,
    "start_time": "2023-07-20T08:07:28.272Z"
   },
   {
    "duration": 15,
    "start_time": "2023-07-20T08:12:37.262Z"
   },
   {
    "duration": 10,
    "start_time": "2023-07-20T08:13:11.244Z"
   },
   {
    "duration": 2124,
    "start_time": "2023-07-20T08:14:11.942Z"
   },
   {
    "duration": 8,
    "start_time": "2023-07-20T08:14:22.804Z"
   },
   {
    "duration": 2172,
    "start_time": "2023-07-20T08:15:10.613Z"
   },
   {
    "duration": 6,
    "start_time": "2023-07-20T08:15:55.203Z"
   },
   {
    "duration": 61,
    "start_time": "2023-07-20T08:18:58.275Z"
   },
   {
    "duration": 1179,
    "start_time": "2023-07-20T08:19:11.594Z"
   },
   {
    "duration": 67,
    "start_time": "2023-07-20T08:19:12.775Z"
   },
   {
    "duration": 15,
    "start_time": "2023-07-20T08:19:12.844Z"
   },
   {
    "duration": 21,
    "start_time": "2023-07-20T08:19:12.861Z"
   },
   {
    "duration": 19,
    "start_time": "2023-07-20T08:19:12.883Z"
   },
   {
    "duration": 9,
    "start_time": "2023-07-20T08:19:12.903Z"
   },
   {
    "duration": 17,
    "start_time": "2023-07-20T08:19:12.913Z"
   },
   {
    "duration": 635,
    "start_time": "2023-07-20T08:19:12.931Z"
   },
   {
    "duration": 69,
    "start_time": "2023-07-20T08:19:17.098Z"
   },
   {
    "duration": 14,
    "start_time": "2023-07-20T08:19:19.431Z"
   },
   {
    "duration": 3,
    "start_time": "2023-07-20T08:19:22.291Z"
   },
   {
    "duration": 14,
    "start_time": "2023-07-20T08:19:24.524Z"
   },
   {
    "duration": 10,
    "start_time": "2023-07-20T08:19:30.638Z"
   },
   {
    "duration": 4,
    "start_time": "2023-07-20T08:19:33.016Z"
   },
   {
    "duration": 562,
    "start_time": "2023-07-20T08:19:34.891Z"
   },
   {
    "duration": 565,
    "start_time": "2023-07-20T08:19:48.312Z"
   },
   {
    "duration": 15,
    "start_time": "2023-07-20T08:23:15.912Z"
   },
   {
    "duration": 13,
    "start_time": "2023-07-20T08:23:34.816Z"
   },
   {
    "duration": 2076,
    "start_time": "2023-07-20T08:24:24.412Z"
   },
   {
    "duration": 5,
    "start_time": "2023-07-20T08:24:39.705Z"
   },
   {
    "duration": 570,
    "start_time": "2023-07-20T08:25:03.792Z"
   },
   {
    "duration": 502,
    "start_time": "2023-07-20T08:25:13.335Z"
   },
   {
    "duration": 513,
    "start_time": "2023-07-20T08:25:38.805Z"
   },
   {
    "duration": 4,
    "start_time": "2023-07-20T08:26:26.645Z"
   },
   {
    "duration": 17,
    "start_time": "2023-07-20T08:29:15.445Z"
   },
   {
    "duration": 2083,
    "start_time": "2023-07-20T08:30:37.538Z"
   },
   {
    "duration": 7,
    "start_time": "2023-07-20T08:30:53.645Z"
   },
   {
    "duration": 9,
    "start_time": "2023-07-20T08:36:02.999Z"
   },
   {
    "duration": 1178,
    "start_time": "2023-07-20T08:36:27.504Z"
   },
   {
    "duration": 69,
    "start_time": "2023-07-20T08:36:28.684Z"
   },
   {
    "duration": 15,
    "start_time": "2023-07-20T08:36:28.754Z"
   },
   {
    "duration": 19,
    "start_time": "2023-07-20T08:36:28.771Z"
   },
   {
    "duration": 29,
    "start_time": "2023-07-20T08:36:28.792Z"
   },
   {
    "duration": 17,
    "start_time": "2023-07-20T08:36:28.823Z"
   },
   {
    "duration": 20,
    "start_time": "2023-07-20T08:36:28.841Z"
   },
   {
    "duration": 7,
    "start_time": "2023-07-20T08:36:28.863Z"
   },
   {
    "duration": 30,
    "start_time": "2023-07-20T08:36:28.872Z"
   },
   {
    "duration": 97,
    "start_time": "2023-07-20T08:36:28.905Z"
   },
   {
    "duration": 9,
    "start_time": "2023-07-20T08:37:07.137Z"
   },
   {
    "duration": 9,
    "start_time": "2023-07-20T08:38:11.537Z"
   },
   {
    "duration": 10,
    "start_time": "2023-07-20T08:38:17.917Z"
   },
   {
    "duration": 792,
    "start_time": "2023-07-20T08:38:24.641Z"
   },
   {
    "duration": 10,
    "start_time": "2023-07-20T08:57:03.558Z"
   },
   {
    "duration": 933,
    "start_time": "2023-07-20T08:58:07.549Z"
   },
   {
    "duration": 19,
    "start_time": "2023-07-20T09:01:44.900Z"
   },
   {
    "duration": 17,
    "start_time": "2023-07-20T09:02:07.390Z"
   },
   {
    "duration": 1164,
    "start_time": "2023-07-20T09:02:58.816Z"
   },
   {
    "duration": 74,
    "start_time": "2023-07-20T09:02:59.982Z"
   },
   {
    "duration": 20,
    "start_time": "2023-07-20T09:03:00.058Z"
   },
   {
    "duration": 21,
    "start_time": "2023-07-20T09:03:00.081Z"
   },
   {
    "duration": 52,
    "start_time": "2023-07-20T09:03:00.104Z"
   },
   {
    "duration": 26,
    "start_time": "2023-07-20T09:03:00.158Z"
   },
   {
    "duration": 32,
    "start_time": "2023-07-20T09:03:00.186Z"
   },
   {
    "duration": 22,
    "start_time": "2023-07-20T09:03:00.220Z"
   },
   {
    "duration": 56,
    "start_time": "2023-07-20T09:03:00.243Z"
   },
   {
    "duration": 6,
    "start_time": "2023-07-20T09:04:07.561Z"
   },
   {
    "duration": 6,
    "start_time": "2023-07-20T09:04:18.519Z"
   },
   {
    "duration": 640,
    "start_time": "2023-07-20T09:05:38.746Z"
   },
   {
    "duration": 592,
    "start_time": "2023-07-20T09:05:53.678Z"
   },
   {
    "duration": 521,
    "start_time": "2023-07-20T09:09:38.350Z"
   },
   {
    "duration": 6,
    "start_time": "2023-07-20T09:10:04.159Z"
   },
   {
    "duration": 858,
    "start_time": "2023-07-20T09:12:24.260Z"
   },
   {
    "duration": 994,
    "start_time": "2023-07-20T09:13:00.018Z"
   },
   {
    "duration": 7,
    "start_time": "2023-07-20T09:16:33.945Z"
   },
   {
    "duration": 748,
    "start_time": "2023-07-20T09:16:42.921Z"
   },
   {
    "duration": 18,
    "start_time": "2023-07-20T09:21:52.265Z"
   },
   {
    "duration": 15,
    "start_time": "2023-07-20T09:23:47.022Z"
   },
   {
    "duration": 5,
    "start_time": "2023-07-20T09:23:53.007Z"
   },
   {
    "duration": 12,
    "start_time": "2023-07-20T09:24:22.392Z"
   },
   {
    "duration": 7,
    "start_time": "2023-07-20T09:24:26.774Z"
   },
   {
    "duration": 9,
    "start_time": "2023-07-20T09:25:22.722Z"
   },
   {
    "duration": 16,
    "start_time": "2023-07-20T09:27:33.638Z"
   },
   {
    "duration": 8,
    "start_time": "2023-07-20T09:27:38.755Z"
   },
   {
    "duration": 956,
    "start_time": "2023-07-20T09:28:44.597Z"
   },
   {
    "duration": 19,
    "start_time": "2023-07-20T09:28:56.042Z"
   },
   {
    "duration": 22,
    "start_time": "2023-07-20T09:29:02.509Z"
   },
   {
    "duration": 26,
    "start_time": "2023-07-20T09:29:10.738Z"
   },
   {
    "duration": 770,
    "start_time": "2023-07-20T09:29:18.100Z"
   },
   {
    "duration": 1277,
    "start_time": "2023-07-20T09:29:33.417Z"
   },
   {
    "duration": 68,
    "start_time": "2023-07-20T09:29:34.696Z"
   },
   {
    "duration": 14,
    "start_time": "2023-07-20T09:29:34.766Z"
   },
   {
    "duration": 4,
    "start_time": "2023-07-20T09:29:34.783Z"
   },
   {
    "duration": 32,
    "start_time": "2023-07-20T09:29:34.789Z"
   },
   {
    "duration": 11,
    "start_time": "2023-07-20T09:29:34.823Z"
   },
   {
    "duration": 4,
    "start_time": "2023-07-20T09:29:34.836Z"
   },
   {
    "duration": 23,
    "start_time": "2023-07-20T09:29:34.841Z"
   },
   {
    "duration": 32,
    "start_time": "2023-07-20T09:29:34.866Z"
   },
   {
    "duration": 27,
    "start_time": "2023-07-20T09:29:34.900Z"
   },
   {
    "duration": 829,
    "start_time": "2023-07-20T09:29:34.928Z"
   },
   {
    "duration": 1200,
    "start_time": "2023-07-20T09:29:48.375Z"
   },
   {
    "duration": 67,
    "start_time": "2023-07-20T09:29:49.577Z"
   },
   {
    "duration": 19,
    "start_time": "2023-07-20T09:29:49.646Z"
   },
   {
    "duration": 6,
    "start_time": "2023-07-20T09:29:49.667Z"
   },
   {
    "duration": 37,
    "start_time": "2023-07-20T09:29:49.674Z"
   },
   {
    "duration": 19,
    "start_time": "2023-07-20T09:29:49.713Z"
   },
   {
    "duration": 20,
    "start_time": "2023-07-20T09:29:49.734Z"
   },
   {
    "duration": 22,
    "start_time": "2023-07-20T09:29:49.756Z"
   },
   {
    "duration": 38,
    "start_time": "2023-07-20T09:29:49.779Z"
   },
   {
    "duration": 29,
    "start_time": "2023-07-20T09:29:49.819Z"
   },
   {
    "duration": 34,
    "start_time": "2023-07-20T09:29:49.850Z"
   },
   {
    "duration": 19,
    "start_time": "2023-07-20T09:31:10.038Z"
   },
   {
    "duration": 97,
    "start_time": "2023-07-20T09:35:43.423Z"
   },
   {
    "duration": 25,
    "start_time": "2023-07-20T09:35:57.600Z"
   },
   {
    "duration": 19,
    "start_time": "2023-07-20T09:36:44.018Z"
   },
   {
    "duration": 13,
    "start_time": "2023-07-20T09:37:16.799Z"
   },
   {
    "duration": 624,
    "start_time": "2023-07-20T09:39:49.307Z"
   },
   {
    "duration": 1144,
    "start_time": "2023-07-20T09:40:20.692Z"
   },
   {
    "duration": 67,
    "start_time": "2023-07-20T09:40:21.838Z"
   },
   {
    "duration": 13,
    "start_time": "2023-07-20T09:40:21.907Z"
   },
   {
    "duration": 26,
    "start_time": "2023-07-20T09:40:21.922Z"
   },
   {
    "duration": 25,
    "start_time": "2023-07-20T09:40:21.949Z"
   },
   {
    "duration": 8,
    "start_time": "2023-07-20T09:40:21.976Z"
   },
   {
    "duration": 27,
    "start_time": "2023-07-20T09:40:21.986Z"
   },
   {
    "duration": 5,
    "start_time": "2023-07-20T09:40:22.015Z"
   },
   {
    "duration": 23,
    "start_time": "2023-07-20T09:40:22.021Z"
   },
   {
    "duration": 19,
    "start_time": "2023-07-20T09:40:22.047Z"
   },
   {
    "duration": 1345,
    "start_time": "2023-07-20T09:42:33.436Z"
   },
   {
    "duration": 68,
    "start_time": "2023-07-20T09:42:34.782Z"
   },
   {
    "duration": 16,
    "start_time": "2023-07-20T09:42:34.851Z"
   },
   {
    "duration": 4,
    "start_time": "2023-07-20T09:42:34.869Z"
   },
   {
    "duration": 16,
    "start_time": "2023-07-20T09:42:34.874Z"
   },
   {
    "duration": 139,
    "start_time": "2023-07-20T09:42:34.892Z"
   },
   {
    "duration": 0,
    "start_time": "2023-07-20T09:42:35.032Z"
   },
   {
    "duration": 0,
    "start_time": "2023-07-20T09:42:35.034Z"
   },
   {
    "duration": 0,
    "start_time": "2023-07-20T09:42:35.034Z"
   },
   {
    "duration": 0,
    "start_time": "2023-07-20T09:42:35.035Z"
   },
   {
    "duration": 0,
    "start_time": "2023-07-20T09:42:35.036Z"
   },
   {
    "duration": 1236,
    "start_time": "2023-07-20T09:43:35.458Z"
   },
   {
    "duration": 70,
    "start_time": "2023-07-20T09:43:36.695Z"
   },
   {
    "duration": 17,
    "start_time": "2023-07-20T09:43:36.766Z"
   },
   {
    "duration": 23,
    "start_time": "2023-07-20T09:43:36.785Z"
   },
   {
    "duration": 13,
    "start_time": "2023-07-20T09:43:36.810Z"
   },
   {
    "duration": 100,
    "start_time": "2023-07-20T09:43:36.825Z"
   },
   {
    "duration": 0,
    "start_time": "2023-07-20T09:43:36.927Z"
   },
   {
    "duration": 0,
    "start_time": "2023-07-20T09:43:36.928Z"
   },
   {
    "duration": 0,
    "start_time": "2023-07-20T09:43:36.929Z"
   },
   {
    "duration": 0,
    "start_time": "2023-07-20T09:43:36.930Z"
   },
   {
    "duration": 1202,
    "start_time": "2023-07-20T09:44:41.572Z"
   },
   {
    "duration": 66,
    "start_time": "2023-07-20T09:44:42.776Z"
   },
   {
    "duration": 14,
    "start_time": "2023-07-20T09:44:42.844Z"
   },
   {
    "duration": 28,
    "start_time": "2023-07-20T09:44:42.861Z"
   },
   {
    "duration": 21,
    "start_time": "2023-07-20T09:44:42.891Z"
   },
   {
    "duration": 619,
    "start_time": "2023-07-20T09:44:42.913Z"
   },
   {
    "duration": 0,
    "start_time": "2023-07-20T09:44:43.534Z"
   },
   {
    "duration": 0,
    "start_time": "2023-07-20T09:44:43.535Z"
   },
   {
    "duration": 0,
    "start_time": "2023-07-20T09:44:43.536Z"
   },
   {
    "duration": 0,
    "start_time": "2023-07-20T09:44:43.537Z"
   },
   {
    "duration": 1179,
    "start_time": "2023-07-20T09:45:20.305Z"
   },
   {
    "duration": 68,
    "start_time": "2023-07-20T09:45:21.487Z"
   },
   {
    "duration": 15,
    "start_time": "2023-07-20T09:45:21.557Z"
   },
   {
    "duration": 10,
    "start_time": "2023-07-20T09:45:21.574Z"
   },
   {
    "duration": 16,
    "start_time": "2023-07-20T09:45:21.586Z"
   },
   {
    "duration": 8,
    "start_time": "2023-07-20T09:45:21.604Z"
   },
   {
    "duration": 18,
    "start_time": "2023-07-20T09:45:21.614Z"
   },
   {
    "duration": 5,
    "start_time": "2023-07-20T09:45:21.635Z"
   },
   {
    "duration": 24,
    "start_time": "2023-07-20T09:45:21.642Z"
   },
   {
    "duration": 19,
    "start_time": "2023-07-20T09:45:21.668Z"
   },
   {
    "duration": 1183,
    "start_time": "2023-07-20T09:46:49.388Z"
   },
   {
    "duration": 67,
    "start_time": "2023-07-20T09:46:50.574Z"
   },
   {
    "duration": 13,
    "start_time": "2023-07-20T09:46:50.642Z"
   },
   {
    "duration": 17,
    "start_time": "2023-07-20T09:46:50.657Z"
   },
   {
    "duration": 17,
    "start_time": "2023-07-20T09:46:50.676Z"
   },
   {
    "duration": 96,
    "start_time": "2023-07-20T09:46:50.694Z"
   },
   {
    "duration": 0,
    "start_time": "2023-07-20T09:46:50.792Z"
   },
   {
    "duration": 0,
    "start_time": "2023-07-20T09:46:50.793Z"
   },
   {
    "duration": 0,
    "start_time": "2023-07-20T09:46:50.794Z"
   },
   {
    "duration": 0,
    "start_time": "2023-07-20T09:46:50.795Z"
   },
   {
    "duration": 1234,
    "start_time": "2023-07-20T09:47:04.156Z"
   },
   {
    "duration": 68,
    "start_time": "2023-07-20T09:47:05.392Z"
   },
   {
    "duration": 13,
    "start_time": "2023-07-20T09:47:05.461Z"
   },
   {
    "duration": 18,
    "start_time": "2023-07-20T09:47:05.476Z"
   },
   {
    "duration": 13,
    "start_time": "2023-07-20T09:47:05.496Z"
   },
   {
    "duration": 0,
    "start_time": "2023-07-20T09:47:20.831Z"
   },
   {
    "duration": 0,
    "start_time": "2023-07-20T09:47:20.832Z"
   },
   {
    "duration": 0,
    "start_time": "2023-07-20T09:47:20.833Z"
   },
   {
    "duration": 0,
    "start_time": "2023-07-20T09:47:20.834Z"
   },
   {
    "duration": 0,
    "start_time": "2023-07-20T09:47:20.836Z"
   },
   {
    "duration": 1235,
    "start_time": "2023-07-20T09:47:24.021Z"
   },
   {
    "duration": 1250,
    "start_time": "2023-07-20T09:49:23.446Z"
   },
   {
    "duration": 65,
    "start_time": "2023-07-20T09:49:24.698Z"
   },
   {
    "duration": 13,
    "start_time": "2023-07-20T09:49:24.765Z"
   },
   {
    "duration": 3,
    "start_time": "2023-07-20T09:49:24.780Z"
   },
   {
    "duration": 26,
    "start_time": "2023-07-20T09:49:24.784Z"
   },
   {
    "duration": 9,
    "start_time": "2023-07-20T09:49:24.812Z"
   },
   {
    "duration": 18,
    "start_time": "2023-07-20T09:49:24.822Z"
   },
   {
    "duration": 4,
    "start_time": "2023-07-20T09:49:24.842Z"
   },
   {
    "duration": 16,
    "start_time": "2023-07-20T09:49:24.848Z"
   },
   {
    "duration": 22,
    "start_time": "2023-07-20T09:49:24.866Z"
   },
   {
    "duration": 50,
    "start_time": "2023-07-21T06:14:47.459Z"
   },
   {
    "duration": 1444,
    "start_time": "2023-07-21T06:14:54.194Z"
   },
   {
    "duration": 123,
    "start_time": "2023-07-21T06:14:55.641Z"
   },
   {
    "duration": 19,
    "start_time": "2023-07-21T06:14:55.767Z"
   },
   {
    "duration": 12,
    "start_time": "2023-07-21T06:14:55.788Z"
   },
   {
    "duration": 22,
    "start_time": "2023-07-21T06:14:55.802Z"
   },
   {
    "duration": 15,
    "start_time": "2023-07-21T06:14:55.825Z"
   },
   {
    "duration": 38,
    "start_time": "2023-07-21T06:14:55.842Z"
   },
   {
    "duration": 7,
    "start_time": "2023-07-21T06:14:55.882Z"
   },
   {
    "duration": 13,
    "start_time": "2023-07-21T06:14:55.891Z"
   },
   {
    "duration": 1697,
    "start_time": "2023-07-21T06:14:55.907Z"
   },
   {
    "duration": 0,
    "start_time": "2023-07-21T06:14:57.606Z"
   },
   {
    "duration": 11,
    "start_time": "2023-07-21T06:15:09.120Z"
   },
   {
    "duration": 22,
    "start_time": "2023-07-21T06:15:37.318Z"
   },
   {
    "duration": 97,
    "start_time": "2023-07-21T06:16:21.931Z"
   },
   {
    "duration": 20,
    "start_time": "2023-07-21T06:16:31.039Z"
   },
   {
    "duration": 10,
    "start_time": "2023-07-21T06:17:12.562Z"
   },
   {
    "duration": 10,
    "start_time": "2023-07-21T06:17:20.108Z"
   },
   {
    "duration": 7,
    "start_time": "2023-07-21T06:17:25.822Z"
   },
   {
    "duration": 13,
    "start_time": "2023-07-21T06:17:47.677Z"
   },
   {
    "duration": 121,
    "start_time": "2023-07-21T06:18:53.413Z"
   },
   {
    "duration": 1146,
    "start_time": "2023-07-21T06:20:04.071Z"
   },
   {
    "duration": 69,
    "start_time": "2023-07-21T06:20:05.219Z"
   },
   {
    "duration": 16,
    "start_time": "2023-07-21T06:20:05.290Z"
   },
   {
    "duration": 14,
    "start_time": "2023-07-21T06:20:05.309Z"
   },
   {
    "duration": 12,
    "start_time": "2023-07-21T06:20:05.325Z"
   },
   {
    "duration": 50,
    "start_time": "2023-07-21T06:20:05.339Z"
   },
   {
    "duration": 41,
    "start_time": "2023-07-21T06:20:05.391Z"
   },
   {
    "duration": 38,
    "start_time": "2023-07-21T06:20:05.434Z"
   },
   {
    "duration": 21,
    "start_time": "2023-07-21T06:20:05.473Z"
   },
   {
    "duration": 20,
    "start_time": "2023-07-21T06:20:45.914Z"
   },
   {
    "duration": 1469,
    "start_time": "2023-07-21T06:21:01.692Z"
   },
   {
    "duration": 16,
    "start_time": "2023-07-21T06:21:12.794Z"
   },
   {
    "duration": 4,
    "start_time": "2023-07-21T06:23:24.671Z"
   },
   {
    "duration": 332,
    "start_time": "2023-07-21T06:23:51.298Z"
   },
   {
    "duration": 291,
    "start_time": "2023-07-21T06:26:12.162Z"
   },
   {
    "duration": 11,
    "start_time": "2023-07-21T06:26:57.256Z"
   },
   {
    "duration": 10,
    "start_time": "2023-07-21T06:27:03.575Z"
   },
   {
    "duration": 11,
    "start_time": "2023-07-21T06:29:03.320Z"
   },
   {
    "duration": 60,
    "start_time": "2023-07-21T06:33:11.386Z"
   },
   {
    "duration": 9,
    "start_time": "2023-07-21T06:33:16.305Z"
   },
   {
    "duration": 1160,
    "start_time": "2023-07-21T06:33:45.720Z"
   },
   {
    "duration": 70,
    "start_time": "2023-07-21T06:33:46.882Z"
   },
   {
    "duration": 19,
    "start_time": "2023-07-21T06:33:46.953Z"
   },
   {
    "duration": 5,
    "start_time": "2023-07-21T06:33:46.975Z"
   },
   {
    "duration": 33,
    "start_time": "2023-07-21T06:33:46.982Z"
   },
   {
    "duration": 3,
    "start_time": "2023-07-21T06:33:47.017Z"
   },
   {
    "duration": 5,
    "start_time": "2023-07-21T06:33:47.023Z"
   },
   {
    "duration": 22,
    "start_time": "2023-07-21T06:33:47.030Z"
   },
   {
    "duration": 14,
    "start_time": "2023-07-21T06:33:47.054Z"
   },
   {
    "duration": 31,
    "start_time": "2023-07-21T06:33:47.071Z"
   },
   {
    "duration": 5,
    "start_time": "2023-07-21T06:36:44.579Z"
   },
   {
    "duration": 100,
    "start_time": "2023-07-21T06:39:18.666Z"
   },
   {
    "duration": 4,
    "start_time": "2023-07-21T06:39:34.628Z"
   },
   {
    "duration": 12,
    "start_time": "2023-07-21T06:40:19.463Z"
   },
   {
    "duration": 19,
    "start_time": "2023-07-21T06:40:37.415Z"
   },
   {
    "duration": 1208,
    "start_time": "2023-07-21T06:43:49.135Z"
   },
   {
    "duration": 71,
    "start_time": "2023-07-21T06:43:50.345Z"
   },
   {
    "duration": 16,
    "start_time": "2023-07-21T06:43:50.418Z"
   },
   {
    "duration": 16,
    "start_time": "2023-07-21T06:43:50.437Z"
   },
   {
    "duration": 26,
    "start_time": "2023-07-21T06:43:50.463Z"
   },
   {
    "duration": 9,
    "start_time": "2023-07-21T06:43:50.494Z"
   },
   {
    "duration": 7,
    "start_time": "2023-07-21T06:43:50.505Z"
   },
   {
    "duration": 9,
    "start_time": "2023-07-21T06:43:50.513Z"
   },
   {
    "duration": 17,
    "start_time": "2023-07-21T06:43:50.523Z"
   },
   {
    "duration": 37,
    "start_time": "2023-07-21T06:43:50.542Z"
   },
   {
    "duration": 12,
    "start_time": "2023-07-21T06:43:50.580Z"
   },
   {
    "duration": 23,
    "start_time": "2023-07-21T06:44:14.367Z"
   },
   {
    "duration": 14,
    "start_time": "2023-07-21T06:44:22.967Z"
   },
   {
    "duration": 12,
    "start_time": "2023-07-21T06:44:33.039Z"
   },
   {
    "duration": 13,
    "start_time": "2023-07-21T06:45:47.071Z"
   },
   {
    "duration": 1238,
    "start_time": "2023-07-21T06:46:45.164Z"
   },
   {
    "duration": 71,
    "start_time": "2023-07-21T06:46:46.404Z"
   },
   {
    "duration": 15,
    "start_time": "2023-07-21T06:46:46.477Z"
   },
   {
    "duration": 95,
    "start_time": "2023-07-21T06:46:46.495Z"
   },
   {
    "duration": 0,
    "start_time": "2023-07-21T06:46:46.592Z"
   },
   {
    "duration": 0,
    "start_time": "2023-07-21T06:46:46.594Z"
   },
   {
    "duration": 0,
    "start_time": "2023-07-21T06:46:46.595Z"
   },
   {
    "duration": 0,
    "start_time": "2023-07-21T06:46:46.597Z"
   },
   {
    "duration": 0,
    "start_time": "2023-07-21T06:46:46.599Z"
   },
   {
    "duration": 0,
    "start_time": "2023-07-21T06:46:46.600Z"
   },
   {
    "duration": 0,
    "start_time": "2023-07-21T06:46:46.602Z"
   },
   {
    "duration": 0,
    "start_time": "2023-07-21T06:46:46.603Z"
   },
   {
    "duration": 1177,
    "start_time": "2023-07-21T06:47:01.888Z"
   },
   {
    "duration": 69,
    "start_time": "2023-07-21T06:47:03.067Z"
   },
   {
    "duration": 14,
    "start_time": "2023-07-21T06:47:03.137Z"
   },
   {
    "duration": 17,
    "start_time": "2023-07-21T06:47:03.153Z"
   },
   {
    "duration": 16,
    "start_time": "2023-07-21T06:47:03.172Z"
   },
   {
    "duration": 20,
    "start_time": "2023-07-21T06:47:03.190Z"
   },
   {
    "duration": 19,
    "start_time": "2023-07-21T06:47:03.211Z"
   },
   {
    "duration": 60,
    "start_time": "2023-07-21T06:47:03.232Z"
   },
   {
    "duration": 55,
    "start_time": "2023-07-21T06:47:03.294Z"
   },
   {
    "duration": 46,
    "start_time": "2023-07-21T06:47:03.352Z"
   },
   {
    "duration": 25,
    "start_time": "2023-07-21T06:47:03.400Z"
   },
   {
    "duration": 5,
    "start_time": "2023-07-21T07:02:01.380Z"
   },
   {
    "duration": 14,
    "start_time": "2023-07-21T07:02:05.837Z"
   },
   {
    "duration": 1253,
    "start_time": "2023-07-21T07:02:19.621Z"
   },
   {
    "duration": 66,
    "start_time": "2023-07-21T07:02:20.877Z"
   },
   {
    "duration": 13,
    "start_time": "2023-07-21T07:02:20.945Z"
   },
   {
    "duration": 51,
    "start_time": "2023-07-21T07:02:20.960Z"
   },
   {
    "duration": 49,
    "start_time": "2023-07-21T07:02:21.013Z"
   },
   {
    "duration": 25,
    "start_time": "2023-07-21T07:02:21.064Z"
   },
   {
    "duration": 21,
    "start_time": "2023-07-21T07:02:21.091Z"
   },
   {
    "duration": 52,
    "start_time": "2023-07-21T07:02:21.114Z"
   },
   {
    "duration": 12,
    "start_time": "2023-07-21T07:02:21.168Z"
   },
   {
    "duration": 27,
    "start_time": "2023-07-21T07:02:21.182Z"
   },
   {
    "duration": 882,
    "start_time": "2023-07-21T07:03:10.105Z"
   },
   {
    "duration": 1165,
    "start_time": "2023-07-21T07:04:38.726Z"
   },
   {
    "duration": 64,
    "start_time": "2023-07-21T07:04:39.894Z"
   },
   {
    "duration": 15,
    "start_time": "2023-07-21T07:04:39.960Z"
   },
   {
    "duration": 7,
    "start_time": "2023-07-21T07:04:39.977Z"
   },
   {
    "duration": 16,
    "start_time": "2023-07-21T07:04:39.986Z"
   },
   {
    "duration": 48,
    "start_time": "2023-07-21T07:04:40.003Z"
   },
   {
    "duration": 26,
    "start_time": "2023-07-21T07:04:40.054Z"
   },
   {
    "duration": 22,
    "start_time": "2023-07-21T07:04:40.082Z"
   },
   {
    "duration": 18,
    "start_time": "2023-07-21T07:04:40.106Z"
   },
   {
    "duration": 17,
    "start_time": "2023-07-21T07:04:40.126Z"
   },
   {
    "duration": 12,
    "start_time": "2023-07-21T07:06:36.759Z"
   },
   {
    "duration": 5,
    "start_time": "2023-07-21T07:07:07.223Z"
   },
   {
    "duration": 16,
    "start_time": "2023-07-21T07:07:10.111Z"
   },
   {
    "duration": 12,
    "start_time": "2023-07-21T07:07:14.138Z"
   },
   {
    "duration": 1309,
    "start_time": "2023-07-21T07:07:52.145Z"
   },
   {
    "duration": 87,
    "start_time": "2023-07-21T07:07:53.456Z"
   },
   {
    "duration": 16,
    "start_time": "2023-07-21T07:07:53.544Z"
   },
   {
    "duration": 7,
    "start_time": "2023-07-21T07:07:53.563Z"
   },
   {
    "duration": 42,
    "start_time": "2023-07-21T07:07:53.572Z"
   },
   {
    "duration": 31,
    "start_time": "2023-07-21T07:07:53.615Z"
   },
   {
    "duration": 31,
    "start_time": "2023-07-21T07:07:53.648Z"
   },
   {
    "duration": 64,
    "start_time": "2023-07-21T07:07:53.681Z"
   },
   {
    "duration": 39,
    "start_time": "2023-07-21T07:07:53.747Z"
   },
   {
    "duration": 10,
    "start_time": "2023-07-21T07:07:53.788Z"
   },
   {
    "duration": 47,
    "start_time": "2023-07-21T07:07:53.800Z"
   },
   {
    "duration": 46,
    "start_time": "2023-07-21T07:07:53.849Z"
   },
   {
    "duration": 7,
    "start_time": "2023-07-21T07:21:32.898Z"
   },
   {
    "duration": 10,
    "start_time": "2023-07-21T07:21:41.409Z"
   },
   {
    "duration": 8,
    "start_time": "2023-07-21T07:23:34.395Z"
   },
   {
    "duration": 830,
    "start_time": "2023-07-21T07:24:18.857Z"
   },
   {
    "duration": 718,
    "start_time": "2023-07-21T07:24:38.659Z"
   },
   {
    "duration": 8,
    "start_time": "2023-07-21T07:25:25.941Z"
   },
   {
    "duration": 594,
    "start_time": "2023-07-21T07:25:50.917Z"
   },
   {
    "duration": 781,
    "start_time": "2023-07-21T07:25:58.119Z"
   },
   {
    "duration": 633,
    "start_time": "2023-07-21T07:26:02.204Z"
   },
   {
    "duration": 1200,
    "start_time": "2023-07-21T07:27:19.998Z"
   },
   {
    "duration": 70,
    "start_time": "2023-07-21T07:27:21.200Z"
   },
   {
    "duration": 16,
    "start_time": "2023-07-21T07:27:21.271Z"
   },
   {
    "duration": 18,
    "start_time": "2023-07-21T07:27:21.289Z"
   },
   {
    "duration": 22,
    "start_time": "2023-07-21T07:27:21.309Z"
   },
   {
    "duration": 28,
    "start_time": "2023-07-21T07:27:21.332Z"
   },
   {
    "duration": 4,
    "start_time": "2023-07-21T07:27:21.362Z"
   },
   {
    "duration": 37,
    "start_time": "2023-07-21T07:27:21.368Z"
   },
   {
    "duration": 9,
    "start_time": "2023-07-21T07:27:21.407Z"
   },
   {
    "duration": 838,
    "start_time": "2023-07-21T07:27:21.418Z"
   },
   {
    "duration": 16,
    "start_time": "2023-07-21T07:27:50.148Z"
   },
   {
    "duration": 1240,
    "start_time": "2023-07-21T07:31:31.203Z"
   },
   {
    "duration": 71,
    "start_time": "2023-07-21T07:31:32.445Z"
   },
   {
    "duration": 19,
    "start_time": "2023-07-21T07:31:32.518Z"
   },
   {
    "duration": 22,
    "start_time": "2023-07-21T07:31:32.539Z"
   },
   {
    "duration": 34,
    "start_time": "2023-07-21T07:31:32.562Z"
   },
   {
    "duration": 27,
    "start_time": "2023-07-21T07:31:32.598Z"
   },
   {
    "duration": 18,
    "start_time": "2023-07-21T07:31:32.627Z"
   },
   {
    "duration": 34,
    "start_time": "2023-07-21T07:31:32.649Z"
   },
   {
    "duration": 8,
    "start_time": "2023-07-21T07:31:32.685Z"
   },
   {
    "duration": 49,
    "start_time": "2023-07-21T07:31:32.696Z"
   },
   {
    "duration": 21,
    "start_time": "2023-07-21T07:31:32.746Z"
   },
   {
    "duration": 39,
    "start_time": "2023-07-21T07:31:32.769Z"
   },
   {
    "duration": 17,
    "start_time": "2023-07-21T07:31:32.810Z"
   },
   {
    "duration": 36,
    "start_time": "2023-07-21T07:31:32.829Z"
   },
   {
    "duration": 729,
    "start_time": "2023-07-21T07:31:32.867Z"
   },
   {
    "duration": 3,
    "start_time": "2023-07-21T07:31:33.598Z"
   },
   {
    "duration": 828,
    "start_time": "2023-07-21T07:38:21.304Z"
   },
   {
    "duration": 853,
    "start_time": "2023-07-21T07:38:42.465Z"
   },
   {
    "duration": 1281,
    "start_time": "2023-07-21T07:39:15.064Z"
   },
   {
    "duration": 88,
    "start_time": "2023-07-21T07:39:16.348Z"
   },
   {
    "duration": 15,
    "start_time": "2023-07-21T07:39:16.438Z"
   },
   {
    "duration": 6,
    "start_time": "2023-07-21T07:39:16.456Z"
   },
   {
    "duration": 30,
    "start_time": "2023-07-21T07:39:16.464Z"
   },
   {
    "duration": 38,
    "start_time": "2023-07-21T07:39:16.496Z"
   },
   {
    "duration": 25,
    "start_time": "2023-07-21T07:39:16.536Z"
   },
   {
    "duration": 31,
    "start_time": "2023-07-21T07:39:16.563Z"
   },
   {
    "duration": 20,
    "start_time": "2023-07-21T07:39:16.596Z"
   },
   {
    "duration": 23,
    "start_time": "2023-07-21T07:39:16.619Z"
   },
   {
    "duration": 27,
    "start_time": "2023-07-21T07:39:16.645Z"
   },
   {
    "duration": 864,
    "start_time": "2023-07-21T07:39:16.674Z"
   },
   {
    "duration": 836,
    "start_time": "2023-07-21T07:39:29.820Z"
   },
   {
    "duration": 1243,
    "start_time": "2023-07-21T07:41:24.557Z"
   },
   {
    "duration": 70,
    "start_time": "2023-07-21T07:41:25.803Z"
   },
   {
    "duration": 15,
    "start_time": "2023-07-21T07:41:25.875Z"
   },
   {
    "duration": 5,
    "start_time": "2023-07-21T07:41:25.892Z"
   },
   {
    "duration": 20,
    "start_time": "2023-07-21T07:41:25.899Z"
   },
   {
    "duration": 34,
    "start_time": "2023-07-21T07:41:25.921Z"
   },
   {
    "duration": 14,
    "start_time": "2023-07-21T07:41:25.958Z"
   },
   {
    "duration": 6,
    "start_time": "2023-07-21T07:41:25.975Z"
   },
   {
    "duration": 20,
    "start_time": "2023-07-21T07:41:25.982Z"
   },
   {
    "duration": 5,
    "start_time": "2023-07-21T07:41:26.005Z"
   },
   {
    "duration": 17,
    "start_time": "2023-07-21T07:41:26.012Z"
   },
   {
    "duration": 40,
    "start_time": "2023-07-21T07:41:26.032Z"
   },
   {
    "duration": 1424,
    "start_time": "2023-07-21T07:41:55.374Z"
   },
   {
    "duration": 87,
    "start_time": "2023-07-21T07:41:56.802Z"
   },
   {
    "duration": 363,
    "start_time": "2023-07-21T07:41:56.892Z"
   },
   {
    "duration": 119,
    "start_time": "2023-07-21T07:41:57.257Z"
   },
   {
    "duration": 43,
    "start_time": "2023-07-21T07:41:57.378Z"
   },
   {
    "duration": 23,
    "start_time": "2023-07-21T07:41:57.424Z"
   },
   {
    "duration": 19,
    "start_time": "2023-07-21T07:41:57.449Z"
   },
   {
    "duration": 37,
    "start_time": "2023-07-21T07:41:57.469Z"
   },
   {
    "duration": 9,
    "start_time": "2023-07-21T07:41:57.508Z"
   },
   {
    "duration": 91,
    "start_time": "2023-07-21T07:41:57.520Z"
   },
   {
    "duration": 148,
    "start_time": "2023-07-21T07:41:57.613Z"
   },
   {
    "duration": 51,
    "start_time": "2023-07-21T07:41:57.764Z"
   },
   {
    "duration": 1322,
    "start_time": "2023-07-21T07:42:19.788Z"
   },
   {
    "duration": 80,
    "start_time": "2023-07-21T07:42:21.112Z"
   },
   {
    "duration": 15,
    "start_time": "2023-07-21T07:42:21.194Z"
   },
   {
    "duration": 12,
    "start_time": "2023-07-21T07:42:21.211Z"
   },
   {
    "duration": 31,
    "start_time": "2023-07-21T07:42:21.224Z"
   },
   {
    "duration": 25,
    "start_time": "2023-07-21T07:42:21.258Z"
   },
   {
    "duration": 9,
    "start_time": "2023-07-21T07:42:21.285Z"
   },
   {
    "duration": 9,
    "start_time": "2023-07-21T07:42:21.296Z"
   },
   {
    "duration": 36,
    "start_time": "2023-07-21T07:42:21.307Z"
   },
   {
    "duration": 4,
    "start_time": "2023-07-21T07:42:21.346Z"
   },
   {
    "duration": 32,
    "start_time": "2023-07-21T07:42:21.351Z"
   },
   {
    "duration": 35,
    "start_time": "2023-07-21T07:42:21.385Z"
   },
   {
    "duration": 1816,
    "start_time": "2023-07-21T07:42:40.653Z"
   },
   {
    "duration": 71,
    "start_time": "2023-07-21T07:42:42.471Z"
   },
   {
    "duration": 136,
    "start_time": "2023-07-21T07:42:42.544Z"
   },
   {
    "duration": 28,
    "start_time": "2023-07-21T07:42:42.682Z"
   },
   {
    "duration": 26,
    "start_time": "2023-07-21T07:42:42.712Z"
   },
   {
    "duration": 46,
    "start_time": "2023-07-21T07:42:42.740Z"
   },
   {
    "duration": 35,
    "start_time": "2023-07-21T07:42:42.788Z"
   },
   {
    "duration": 14,
    "start_time": "2023-07-21T07:42:42.825Z"
   },
   {
    "duration": 22,
    "start_time": "2023-07-21T07:42:42.841Z"
   },
   {
    "duration": 21,
    "start_time": "2023-07-21T07:42:42.866Z"
   },
   {
    "duration": 1458,
    "start_time": "2023-07-21T07:42:42.889Z"
   },
   {
    "duration": 18,
    "start_time": "2023-07-21T07:42:44.351Z"
   },
   {
    "duration": 3,
    "start_time": "2023-07-21T07:43:27.182Z"
   },
   {
    "duration": 72,
    "start_time": "2023-07-21T07:43:27.187Z"
   },
   {
    "duration": 15,
    "start_time": "2023-07-21T07:43:27.260Z"
   },
   {
    "duration": 15,
    "start_time": "2023-07-21T07:43:27.278Z"
   },
   {
    "duration": 26,
    "start_time": "2023-07-21T07:43:27.295Z"
   },
   {
    "duration": 14,
    "start_time": "2023-07-21T07:43:27.323Z"
   },
   {
    "duration": 16,
    "start_time": "2023-07-21T07:43:27.339Z"
   },
   {
    "duration": 9,
    "start_time": "2023-07-21T07:43:27.357Z"
   },
   {
    "duration": 12,
    "start_time": "2023-07-21T07:43:27.368Z"
   },
   {
    "duration": 1244,
    "start_time": "2023-07-21T07:43:38.551Z"
   },
   {
    "duration": 67,
    "start_time": "2023-07-21T07:43:39.797Z"
   },
   {
    "duration": 15,
    "start_time": "2023-07-21T07:43:39.866Z"
   },
   {
    "duration": 10,
    "start_time": "2023-07-21T07:43:39.884Z"
   },
   {
    "duration": 28,
    "start_time": "2023-07-21T07:43:39.896Z"
   },
   {
    "duration": 29,
    "start_time": "2023-07-21T07:43:39.926Z"
   },
   {
    "duration": 5,
    "start_time": "2023-07-21T07:43:39.957Z"
   },
   {
    "duration": 12,
    "start_time": "2023-07-21T07:43:39.964Z"
   },
   {
    "duration": 14,
    "start_time": "2023-07-21T07:43:39.978Z"
   },
   {
    "duration": 24,
    "start_time": "2023-07-21T07:43:39.994Z"
   },
   {
    "duration": 1051,
    "start_time": "2023-07-21T07:43:40.020Z"
   },
   {
    "duration": 1355,
    "start_time": "2023-07-21T07:44:17.056Z"
   },
   {
    "duration": 101,
    "start_time": "2023-07-21T07:44:18.414Z"
   },
   {
    "duration": 26,
    "start_time": "2023-07-21T07:44:18.517Z"
   },
   {
    "duration": 31,
    "start_time": "2023-07-21T07:44:18.551Z"
   },
   {
    "duration": 59,
    "start_time": "2023-07-21T07:44:18.584Z"
   },
   {
    "duration": 51,
    "start_time": "2023-07-21T07:44:18.645Z"
   },
   {
    "duration": 37,
    "start_time": "2023-07-21T07:44:18.699Z"
   },
   {
    "duration": 30,
    "start_time": "2023-07-21T07:44:18.738Z"
   },
   {
    "duration": 25,
    "start_time": "2023-07-21T07:44:18.770Z"
   },
   {
    "duration": 1161,
    "start_time": "2023-07-21T07:44:18.798Z"
   },
   {
    "duration": 18,
    "start_time": "2023-07-21T07:44:19.960Z"
   },
   {
    "duration": 1292,
    "start_time": "2023-07-21T07:45:52.495Z"
   },
   {
    "duration": 95,
    "start_time": "2023-07-21T07:45:53.790Z"
   },
   {
    "duration": 22,
    "start_time": "2023-07-21T07:45:53.887Z"
   },
   {
    "duration": 10,
    "start_time": "2023-07-21T07:45:53.912Z"
   },
   {
    "duration": 29,
    "start_time": "2023-07-21T07:45:53.926Z"
   },
   {
    "duration": 18,
    "start_time": "2023-07-21T07:45:53.957Z"
   },
   {
    "duration": 8,
    "start_time": "2023-07-21T07:45:53.978Z"
   },
   {
    "duration": 27,
    "start_time": "2023-07-21T07:45:53.988Z"
   },
   {
    "duration": 11,
    "start_time": "2023-07-21T07:45:54.018Z"
   },
   {
    "duration": 121,
    "start_time": "2023-07-21T07:45:54.031Z"
   },
   {
    "duration": 0,
    "start_time": "2023-07-21T07:45:54.153Z"
   },
   {
    "duration": 0,
    "start_time": "2023-07-21T07:45:54.155Z"
   },
   {
    "duration": 1126,
    "start_time": "2023-07-21T07:46:06.773Z"
   },
   {
    "duration": 67,
    "start_time": "2023-07-21T07:46:07.901Z"
   },
   {
    "duration": 15,
    "start_time": "2023-07-21T07:46:07.969Z"
   },
   {
    "duration": 4,
    "start_time": "2023-07-21T07:46:07.987Z"
   },
   {
    "duration": 17,
    "start_time": "2023-07-21T07:46:07.992Z"
   },
   {
    "duration": 27,
    "start_time": "2023-07-21T07:46:08.010Z"
   },
   {
    "duration": 34,
    "start_time": "2023-07-21T07:46:08.039Z"
   },
   {
    "duration": 18,
    "start_time": "2023-07-21T07:46:08.076Z"
   },
   {
    "duration": 27,
    "start_time": "2023-07-21T07:46:08.096Z"
   },
   {
    "duration": 36,
    "start_time": "2023-07-21T07:46:08.126Z"
   },
   {
    "duration": 27,
    "start_time": "2023-07-21T07:46:08.164Z"
   },
   {
    "duration": 1529,
    "start_time": "2023-07-21T07:46:08.193Z"
   },
   {
    "duration": 1196,
    "start_time": "2023-07-21T07:48:49.796Z"
   },
   {
    "duration": 68,
    "start_time": "2023-07-21T07:48:50.994Z"
   },
   {
    "duration": 14,
    "start_time": "2023-07-21T07:48:51.064Z"
   },
   {
    "duration": 16,
    "start_time": "2023-07-21T07:48:51.080Z"
   },
   {
    "duration": 17,
    "start_time": "2023-07-21T07:48:51.099Z"
   },
   {
    "duration": 28,
    "start_time": "2023-07-21T07:48:51.117Z"
   },
   {
    "duration": 8,
    "start_time": "2023-07-21T07:48:51.147Z"
   },
   {
    "duration": 19,
    "start_time": "2023-07-21T07:48:51.156Z"
   },
   {
    "duration": 6,
    "start_time": "2023-07-21T07:48:51.177Z"
   },
   {
    "duration": 15,
    "start_time": "2023-07-21T07:48:51.185Z"
   },
   {
    "duration": 23,
    "start_time": "2023-07-21T07:48:51.202Z"
   },
   {
    "duration": 248,
    "start_time": "2023-07-21T07:48:51.227Z"
   },
   {
    "duration": 1175,
    "start_time": "2023-07-21T07:49:15.812Z"
   },
   {
    "duration": 74,
    "start_time": "2023-07-21T07:49:16.990Z"
   },
   {
    "duration": 16,
    "start_time": "2023-07-21T07:49:17.066Z"
   },
   {
    "duration": 45,
    "start_time": "2023-07-21T07:49:17.084Z"
   },
   {
    "duration": 35,
    "start_time": "2023-07-21T07:49:17.132Z"
   },
   {
    "duration": 20,
    "start_time": "2023-07-21T07:49:17.168Z"
   },
   {
    "duration": 24,
    "start_time": "2023-07-21T07:49:17.190Z"
   },
   {
    "duration": 30,
    "start_time": "2023-07-21T07:49:17.216Z"
   },
   {
    "duration": 16,
    "start_time": "2023-07-21T07:49:17.248Z"
   },
   {
    "duration": 14,
    "start_time": "2023-07-21T07:49:17.266Z"
   },
   {
    "duration": 22,
    "start_time": "2023-07-21T07:49:17.282Z"
   },
   {
    "duration": 2484,
    "start_time": "2023-07-21T07:49:17.306Z"
   },
   {
    "duration": 377,
    "start_time": "2023-07-21T07:49:56.100Z"
   },
   {
    "duration": 79,
    "start_time": "2023-07-21T07:49:56.479Z"
   },
   {
    "duration": 16,
    "start_time": "2023-07-21T07:49:56.559Z"
   },
   {
    "duration": 13,
    "start_time": "2023-07-21T07:49:56.577Z"
   },
   {
    "duration": 30,
    "start_time": "2023-07-21T07:49:56.592Z"
   },
   {
    "duration": 42,
    "start_time": "2023-07-21T07:49:56.623Z"
   },
   {
    "duration": 29,
    "start_time": "2023-07-21T07:49:56.667Z"
   },
   {
    "duration": 19,
    "start_time": "2023-07-21T07:49:56.698Z"
   },
   {
    "duration": 17,
    "start_time": "2023-07-21T07:49:56.719Z"
   },
   {
    "duration": 21,
    "start_time": "2023-07-21T07:49:56.739Z"
   },
   {
    "duration": 50,
    "start_time": "2023-07-21T07:49:56.762Z"
   },
   {
    "duration": 1060,
    "start_time": "2023-07-21T07:49:56.813Z"
   },
   {
    "duration": 465,
    "start_time": "2023-07-21T07:50:28.540Z"
   },
   {
    "duration": 74,
    "start_time": "2023-07-21T07:50:29.007Z"
   },
   {
    "duration": 13,
    "start_time": "2023-07-21T07:50:29.083Z"
   },
   {
    "duration": 19,
    "start_time": "2023-07-21T07:50:29.099Z"
   },
   {
    "duration": 28,
    "start_time": "2023-07-21T07:50:29.120Z"
   },
   {
    "duration": 19,
    "start_time": "2023-07-21T07:50:29.150Z"
   },
   {
    "duration": 13,
    "start_time": "2023-07-21T07:50:29.171Z"
   },
   {
    "duration": 11,
    "start_time": "2023-07-21T07:50:29.187Z"
   },
   {
    "duration": 16,
    "start_time": "2023-07-21T07:50:29.200Z"
   },
   {
    "duration": 18,
    "start_time": "2023-07-21T07:50:29.219Z"
   },
   {
    "duration": 39,
    "start_time": "2023-07-21T07:50:29.238Z"
   },
   {
    "duration": 1075,
    "start_time": "2023-07-21T07:50:29.279Z"
   },
   {
    "duration": 366,
    "start_time": "2023-07-21T07:56:04.702Z"
   },
   {
    "duration": 70,
    "start_time": "2023-07-21T07:56:05.071Z"
   },
   {
    "duration": 16,
    "start_time": "2023-07-21T07:56:05.143Z"
   },
   {
    "duration": 5,
    "start_time": "2023-07-21T07:56:05.162Z"
   },
   {
    "duration": 19,
    "start_time": "2023-07-21T07:56:05.169Z"
   },
   {
    "duration": 14,
    "start_time": "2023-07-21T07:56:05.190Z"
   },
   {
    "duration": 28,
    "start_time": "2023-07-21T07:56:05.206Z"
   },
   {
    "duration": 74,
    "start_time": "2023-07-21T07:56:05.236Z"
   },
   {
    "duration": 0,
    "start_time": "2023-07-21T07:56:05.313Z"
   },
   {
    "duration": 0,
    "start_time": "2023-07-21T07:56:05.314Z"
   },
   {
    "duration": 0,
    "start_time": "2023-07-21T07:56:05.315Z"
   },
   {
    "duration": 413,
    "start_time": "2023-07-21T07:56:16.551Z"
   },
   {
    "duration": 70,
    "start_time": "2023-07-21T07:56:16.966Z"
   },
   {
    "duration": 16,
    "start_time": "2023-07-21T07:56:17.037Z"
   },
   {
    "duration": 12,
    "start_time": "2023-07-21T07:56:17.055Z"
   },
   {
    "duration": 23,
    "start_time": "2023-07-21T07:56:17.069Z"
   },
   {
    "duration": 15,
    "start_time": "2023-07-21T07:56:17.093Z"
   },
   {
    "duration": 29,
    "start_time": "2023-07-21T07:56:17.110Z"
   },
   {
    "duration": 46,
    "start_time": "2023-07-21T07:56:17.141Z"
   },
   {
    "duration": 5,
    "start_time": "2023-07-21T07:56:17.189Z"
   },
   {
    "duration": 38,
    "start_time": "2023-07-21T07:56:17.196Z"
   },
   {
    "duration": 17,
    "start_time": "2023-07-21T07:56:17.236Z"
   },
   {
    "duration": 70,
    "start_time": "2023-07-21T07:59:36.529Z"
   },
   {
    "duration": 14,
    "start_time": "2023-07-21T07:59:47.299Z"
   },
   {
    "duration": 73,
    "start_time": "2023-07-21T08:00:15.228Z"
   },
   {
    "duration": 476,
    "start_time": "2023-07-21T08:00:30.749Z"
   },
   {
    "duration": 77,
    "start_time": "2023-07-21T08:00:31.227Z"
   },
   {
    "duration": 14,
    "start_time": "2023-07-21T08:00:31.306Z"
   },
   {
    "duration": 54,
    "start_time": "2023-07-21T08:00:31.323Z"
   },
   {
    "duration": 47,
    "start_time": "2023-07-21T08:00:31.379Z"
   },
   {
    "duration": 56,
    "start_time": "2023-07-21T08:00:31.428Z"
   },
   {
    "duration": 39,
    "start_time": "2023-07-21T08:00:31.485Z"
   },
   {
    "duration": 64,
    "start_time": "2023-07-21T08:00:31.526Z"
   },
   {
    "duration": 27,
    "start_time": "2023-07-21T08:00:31.592Z"
   },
   {
    "duration": 44,
    "start_time": "2023-07-21T08:00:31.621Z"
   },
   {
    "duration": 37,
    "start_time": "2023-07-21T08:00:31.667Z"
   },
   {
    "duration": 45,
    "start_time": "2023-07-21T08:00:31.706Z"
   },
   {
    "duration": 16,
    "start_time": "2023-07-21T08:00:36.779Z"
   },
   {
    "duration": 5,
    "start_time": "2023-07-21T08:01:45.445Z"
   },
   {
    "duration": 16,
    "start_time": "2023-07-21T08:01:47.294Z"
   },
   {
    "duration": 432,
    "start_time": "2023-07-21T08:07:21.135Z"
   },
   {
    "duration": 68,
    "start_time": "2023-07-21T08:07:21.569Z"
   },
   {
    "duration": 14,
    "start_time": "2023-07-21T08:07:21.639Z"
   },
   {
    "duration": 22,
    "start_time": "2023-07-21T08:07:21.655Z"
   },
   {
    "duration": 28,
    "start_time": "2023-07-21T08:07:21.678Z"
   },
   {
    "duration": 12,
    "start_time": "2023-07-21T08:07:21.707Z"
   },
   {
    "duration": 15,
    "start_time": "2023-07-21T08:07:21.720Z"
   },
   {
    "duration": 18,
    "start_time": "2023-07-21T08:07:21.736Z"
   },
   {
    "duration": 34,
    "start_time": "2023-07-21T08:07:21.756Z"
   },
   {
    "duration": 26,
    "start_time": "2023-07-21T08:07:21.793Z"
   },
   {
    "duration": 6,
    "start_time": "2023-07-21T08:07:21.821Z"
   },
   {
    "duration": 21,
    "start_time": "2023-07-21T08:07:21.828Z"
   },
   {
    "duration": 2,
    "start_time": "2023-07-21T08:09:15.932Z"
   },
   {
    "duration": 65,
    "start_time": "2023-07-21T08:19:04.575Z"
   },
   {
    "duration": 392,
    "start_time": "2023-07-21T08:19:38.471Z"
   },
   {
    "duration": 69,
    "start_time": "2023-07-21T08:19:38.865Z"
   },
   {
    "duration": 14,
    "start_time": "2023-07-21T08:19:38.936Z"
   },
   {
    "duration": 3,
    "start_time": "2023-07-21T08:19:38.952Z"
   },
   {
    "duration": 23,
    "start_time": "2023-07-21T08:19:38.956Z"
   },
   {
    "duration": 13,
    "start_time": "2023-07-21T08:19:38.980Z"
   },
   {
    "duration": 7,
    "start_time": "2023-07-21T08:19:38.995Z"
   },
   {
    "duration": 5,
    "start_time": "2023-07-21T08:19:39.003Z"
   },
   {
    "duration": 13,
    "start_time": "2023-07-21T08:19:39.009Z"
   },
   {
    "duration": 35,
    "start_time": "2023-07-21T08:19:39.024Z"
   },
   {
    "duration": 13,
    "start_time": "2023-07-21T08:19:39.061Z"
   },
   {
    "duration": 38,
    "start_time": "2023-07-21T08:19:39.076Z"
   },
   {
    "duration": 109,
    "start_time": "2023-07-21T08:19:39.115Z"
   },
   {
    "duration": 0,
    "start_time": "2023-07-21T08:19:39.226Z"
   },
   {
    "duration": 419,
    "start_time": "2023-07-21T08:19:51.143Z"
   },
   {
    "duration": 68,
    "start_time": "2023-07-21T08:19:51.564Z"
   },
   {
    "duration": 14,
    "start_time": "2023-07-21T08:19:51.634Z"
   },
   {
    "duration": 4,
    "start_time": "2023-07-21T08:19:51.650Z"
   },
   {
    "duration": 27,
    "start_time": "2023-07-21T08:19:51.656Z"
   },
   {
    "duration": 33,
    "start_time": "2023-07-21T08:19:51.684Z"
   },
   {
    "duration": 19,
    "start_time": "2023-07-21T08:19:51.719Z"
   },
   {
    "duration": 7,
    "start_time": "2023-07-21T08:19:51.740Z"
   },
   {
    "duration": 31,
    "start_time": "2023-07-21T08:19:51.748Z"
   },
   {
    "duration": 17,
    "start_time": "2023-07-21T08:19:51.781Z"
   },
   {
    "duration": 11,
    "start_time": "2023-07-21T08:19:51.800Z"
   },
   {
    "duration": 23,
    "start_time": "2023-07-21T08:19:51.813Z"
   },
   {
    "duration": 945,
    "start_time": "2023-07-21T08:19:51.837Z"
   },
   {
    "duration": 109,
    "start_time": "2023-07-21T08:20:38.481Z"
   },
   {
    "duration": 16,
    "start_time": "2023-07-21T08:21:49.818Z"
   },
   {
    "duration": 378,
    "start_time": "2023-07-21T08:26:56.784Z"
   },
   {
    "duration": 69,
    "start_time": "2023-07-21T08:26:57.164Z"
   },
   {
    "duration": 13,
    "start_time": "2023-07-21T08:26:57.235Z"
   },
   {
    "duration": 3,
    "start_time": "2023-07-21T08:26:57.250Z"
   },
   {
    "duration": 16,
    "start_time": "2023-07-21T08:26:57.254Z"
   },
   {
    "duration": 11,
    "start_time": "2023-07-21T08:26:57.272Z"
   },
   {
    "duration": 10,
    "start_time": "2023-07-21T08:26:57.285Z"
   },
   {
    "duration": 16,
    "start_time": "2023-07-21T08:26:57.296Z"
   },
   {
    "duration": 12,
    "start_time": "2023-07-21T08:26:57.314Z"
   },
   {
    "duration": 25,
    "start_time": "2023-07-21T08:26:57.329Z"
   },
   {
    "duration": 6,
    "start_time": "2023-07-21T08:26:57.356Z"
   },
   {
    "duration": 26,
    "start_time": "2023-07-21T08:26:57.364Z"
   },
   {
    "duration": 18,
    "start_time": "2023-07-21T08:26:57.391Z"
   },
   {
    "duration": 71,
    "start_time": "2023-07-21T08:30:57.869Z"
   },
   {
    "duration": 668,
    "start_time": "2023-07-21T08:31:34.318Z"
   },
   {
    "duration": 67,
    "start_time": "2023-07-21T08:31:34.988Z"
   },
   {
    "duration": 14,
    "start_time": "2023-07-21T08:31:35.057Z"
   },
   {
    "duration": 3,
    "start_time": "2023-07-21T08:31:35.073Z"
   },
   {
    "duration": 25,
    "start_time": "2023-07-21T08:31:35.078Z"
   },
   {
    "duration": 22,
    "start_time": "2023-07-21T08:31:35.104Z"
   },
   {
    "duration": 27,
    "start_time": "2023-07-21T08:31:35.128Z"
   },
   {
    "duration": 13,
    "start_time": "2023-07-21T08:31:35.157Z"
   },
   {
    "duration": 14,
    "start_time": "2023-07-21T08:31:35.171Z"
   },
   {
    "duration": 24,
    "start_time": "2023-07-21T08:31:35.187Z"
   },
   {
    "duration": 8,
    "start_time": "2023-07-21T08:31:35.212Z"
   },
   {
    "duration": 35,
    "start_time": "2023-07-21T08:31:35.221Z"
   },
   {
    "duration": 26,
    "start_time": "2023-07-21T08:31:35.258Z"
   },
   {
    "duration": 88,
    "start_time": "2023-07-21T08:31:35.286Z"
   },
   {
    "duration": 1141,
    "start_time": "2023-07-21T08:32:21.742Z"
   },
   {
    "duration": 67,
    "start_time": "2023-07-21T08:32:22.885Z"
   },
   {
    "duration": 13,
    "start_time": "2023-07-21T08:32:22.954Z"
   },
   {
    "duration": 20,
    "start_time": "2023-07-21T08:32:22.970Z"
   },
   {
    "duration": 37,
    "start_time": "2023-07-21T08:32:22.992Z"
   },
   {
    "duration": 19,
    "start_time": "2023-07-21T08:32:23.031Z"
   },
   {
    "duration": 31,
    "start_time": "2023-07-21T08:32:23.051Z"
   },
   {
    "duration": 14,
    "start_time": "2023-07-21T08:32:23.084Z"
   },
   {
    "duration": 23,
    "start_time": "2023-07-21T08:32:23.100Z"
   },
   {
    "duration": 17,
    "start_time": "2023-07-21T08:32:23.126Z"
   },
   {
    "duration": 43,
    "start_time": "2023-07-21T08:32:23.145Z"
   },
   {
    "duration": 51,
    "start_time": "2023-07-21T08:32:23.190Z"
   },
   {
    "duration": 30,
    "start_time": "2023-07-21T08:32:23.243Z"
   },
   {
    "duration": 98,
    "start_time": "2023-07-21T08:32:23.274Z"
   },
   {
    "duration": 11,
    "start_time": "2023-07-21T08:34:22.067Z"
   },
   {
    "duration": 1455,
    "start_time": "2023-07-21T08:35:06.521Z"
   },
   {
    "duration": 68,
    "start_time": "2023-07-21T08:35:07.978Z"
   },
   {
    "duration": 16,
    "start_time": "2023-07-21T08:35:08.047Z"
   },
   {
    "duration": 17,
    "start_time": "2023-07-21T08:35:08.066Z"
   },
   {
    "duration": 33,
    "start_time": "2023-07-21T08:35:08.085Z"
   },
   {
    "duration": 98,
    "start_time": "2023-07-21T08:35:08.120Z"
   },
   {
    "duration": 17,
    "start_time": "2023-07-21T08:35:08.220Z"
   },
   {
    "duration": 4,
    "start_time": "2023-07-21T08:35:08.244Z"
   },
   {
    "duration": 18,
    "start_time": "2023-07-21T08:35:08.250Z"
   },
   {
    "duration": 18,
    "start_time": "2023-07-21T08:35:08.270Z"
   },
   {
    "duration": 5,
    "start_time": "2023-07-21T08:35:08.291Z"
   },
   {
    "duration": 27,
    "start_time": "2023-07-21T08:35:08.298Z"
   },
   {
    "duration": 41,
    "start_time": "2023-07-21T08:35:08.327Z"
   },
   {
    "duration": 145,
    "start_time": "2023-07-21T08:35:08.370Z"
   },
   {
    "duration": 13,
    "start_time": "2023-07-21T08:35:38.358Z"
   },
   {
    "duration": 10,
    "start_time": "2023-07-21T08:37:17.982Z"
   },
   {
    "duration": 19,
    "start_time": "2023-07-21T08:39:26.472Z"
   },
   {
    "duration": 17,
    "start_time": "2023-07-21T08:39:47.720Z"
   },
   {
    "duration": 478,
    "start_time": "2023-07-21T08:40:33.991Z"
   },
   {
    "duration": 340,
    "start_time": "2023-07-21T08:40:54.818Z"
   },
   {
    "duration": 422,
    "start_time": "2023-07-21T08:41:53.966Z"
   },
   {
    "duration": 429,
    "start_time": "2023-07-21T08:42:23.280Z"
   },
   {
    "duration": 18,
    "start_time": "2023-07-21T08:46:55.652Z"
   },
   {
    "duration": 16,
    "start_time": "2023-07-21T08:47:13.523Z"
   },
   {
    "duration": 443,
    "start_time": "2023-07-21T08:47:24.323Z"
   },
   {
    "duration": 387,
    "start_time": "2023-07-21T08:47:46.025Z"
   },
   {
    "duration": 505126,
    "start_time": "2023-07-21T08:51:07.721Z"
   },
   {
    "duration": 76,
    "start_time": "2023-07-21T08:59:32.849Z"
   },
   {
    "duration": 289,
    "start_time": "2023-07-21T09:00:37.021Z"
   },
   {
    "duration": 137,
    "start_time": "2023-07-21T09:01:17.182Z"
   },
   {
    "duration": 339,
    "start_time": "2023-07-21T09:01:35.994Z"
   },
   {
    "duration": 348,
    "start_time": "2023-07-21T09:01:48.894Z"
   },
   {
    "duration": 352,
    "start_time": "2023-07-21T09:02:33.961Z"
   },
   {
    "duration": 363,
    "start_time": "2023-07-21T09:03:17.452Z"
   },
   {
    "duration": 340,
    "start_time": "2023-07-21T09:03:34.979Z"
   },
   {
    "duration": 1163,
    "start_time": "2023-07-21T09:04:11.472Z"
   },
   {
    "duration": 68,
    "start_time": "2023-07-21T09:04:12.637Z"
   },
   {
    "duration": 14,
    "start_time": "2023-07-21T09:04:12.707Z"
   },
   {
    "duration": 3,
    "start_time": "2023-07-21T09:04:12.723Z"
   },
   {
    "duration": 15,
    "start_time": "2023-07-21T09:04:12.728Z"
   },
   {
    "duration": 10,
    "start_time": "2023-07-21T09:04:12.752Z"
   },
   {
    "duration": 14,
    "start_time": "2023-07-21T09:04:12.763Z"
   },
   {
    "duration": 7,
    "start_time": "2023-07-21T09:04:12.779Z"
   },
   {
    "duration": 21,
    "start_time": "2023-07-21T09:04:12.788Z"
   },
   {
    "duration": 40,
    "start_time": "2023-07-21T09:04:12.812Z"
   },
   {
    "duration": 7,
    "start_time": "2023-07-21T09:04:12.854Z"
   },
   {
    "duration": 27,
    "start_time": "2023-07-21T09:04:12.863Z"
   },
   {
    "duration": 419,
    "start_time": "2023-07-21T09:04:12.892Z"
   },
   {
    "duration": 313,
    "start_time": "2023-07-21T09:06:54.595Z"
   },
   {
    "duration": 291,
    "start_time": "2023-07-21T09:07:37.318Z"
   },
   {
    "duration": 35048,
    "start_time": "2023-07-21T09:07:44.557Z"
   },
   {
    "duration": 104,
    "start_time": "2023-07-21T09:10:13.898Z"
   },
   {
    "duration": 12,
    "start_time": "2023-07-21T09:10:21.728Z"
   },
   {
    "duration": 901,
    "start_time": "2023-07-21T09:10:27.992Z"
   },
   {
    "duration": 9,
    "start_time": "2023-07-21T09:10:47.161Z"
   },
   {
    "duration": 152,
    "start_time": "2023-07-21T09:11:01.024Z"
   },
   {
    "duration": 1096,
    "start_time": "2023-07-21T09:12:42.662Z"
   },
   {
    "duration": 65,
    "start_time": "2023-07-21T09:12:43.760Z"
   },
   {
    "duration": 15,
    "start_time": "2023-07-21T09:12:43.826Z"
   },
   {
    "duration": 3,
    "start_time": "2023-07-21T09:12:43.843Z"
   },
   {
    "duration": 16,
    "start_time": "2023-07-21T09:12:43.847Z"
   },
   {
    "duration": 15,
    "start_time": "2023-07-21T09:12:43.864Z"
   },
   {
    "duration": 15,
    "start_time": "2023-07-21T09:12:43.881Z"
   },
   {
    "duration": 7,
    "start_time": "2023-07-21T09:12:43.898Z"
   },
   {
    "duration": 12,
    "start_time": "2023-07-21T09:12:43.907Z"
   },
   {
    "duration": 14,
    "start_time": "2023-07-21T09:12:43.921Z"
   },
   {
    "duration": 18,
    "start_time": "2023-07-21T09:12:43.936Z"
   },
   {
    "duration": 24,
    "start_time": "2023-07-21T09:12:43.956Z"
   },
   {
    "duration": 344,
    "start_time": "2023-07-21T09:12:43.982Z"
   },
   {
    "duration": 196900,
    "start_time": "2023-07-21T09:12:44.327Z"
   },
   {
    "duration": 204393,
    "start_time": "2023-07-21T09:19:25.921Z"
   },
   {
    "duration": 101,
    "start_time": "2023-07-21T09:23:30.022Z"
   },
   {
    "duration": 28921,
    "start_time": "2023-07-21T09:23:37.361Z"
   },
   {
    "duration": 176,
    "start_time": "2023-07-21T09:25:26.084Z"
   },
   {
    "duration": 199,
    "start_time": "2023-07-21T09:25:45.239Z"
   },
   {
    "duration": 27422,
    "start_time": "2023-07-21T09:26:04.266Z"
   },
   {
    "duration": 30306,
    "start_time": "2023-07-21T09:27:19.193Z"
   },
   {
    "duration": 16,
    "start_time": "2023-07-21T09:28:48.110Z"
   },
   {
    "duration": 28636,
    "start_time": "2023-07-21T09:29:04.142Z"
   },
   {
    "duration": 28097,
    "start_time": "2023-07-21T09:30:38.606Z"
   },
   {
    "duration": 28108,
    "start_time": "2023-07-21T09:32:08.036Z"
   },
   {
    "duration": 26850,
    "start_time": "2023-07-21T09:33:28.482Z"
   },
   {
    "duration": 156,
    "start_time": "2023-07-21T09:37:41.290Z"
   },
   {
    "duration": 32546,
    "start_time": "2023-07-21T09:37:52.689Z"
   },
   {
    "duration": 210987,
    "start_time": "2023-07-21T09:39:34.887Z"
   },
   {
    "duration": 324,
    "start_time": "2023-07-21T09:43:14.895Z"
   },
   {
    "duration": 13,
    "start_time": "2023-07-21T09:44:08.610Z"
   },
   {
    "duration": 12,
    "start_time": "2023-07-21T09:44:19.898Z"
   },
   {
    "duration": 296,
    "start_time": "2023-07-21T09:44:42.750Z"
   },
   {
    "duration": 95,
    "start_time": "2023-07-21T09:47:31.735Z"
   },
   {
    "duration": 257,
    "start_time": "2023-07-21T09:47:54.479Z"
   },
   {
    "duration": 291,
    "start_time": "2023-07-21T09:48:02.229Z"
   },
   {
    "duration": 289,
    "start_time": "2023-07-21T09:49:24.499Z"
   },
   {
    "duration": 329,
    "start_time": "2023-07-21T09:55:20.049Z"
   },
   {
    "duration": 69,
    "start_time": "2023-07-21T09:55:23.896Z"
   },
   {
    "duration": 12,
    "start_time": "2023-07-21T09:55:39.335Z"
   },
   {
    "duration": 22,
    "start_time": "2023-07-21T09:55:49.952Z"
   },
   {
    "duration": 31,
    "start_time": "2023-07-21T09:56:15.805Z"
   },
   {
    "duration": 145,
    "start_time": "2023-07-21T09:58:14.712Z"
   },
   {
    "duration": 138,
    "start_time": "2023-07-21T09:58:57.695Z"
   },
   {
    "duration": 1302,
    "start_time": "2023-07-23T05:06:33.978Z"
   },
   {
    "duration": 129,
    "start_time": "2023-07-23T05:06:35.282Z"
   },
   {
    "duration": 15,
    "start_time": "2023-07-23T05:06:35.412Z"
   },
   {
    "duration": 3,
    "start_time": "2023-07-23T05:06:35.430Z"
   },
   {
    "duration": 25,
    "start_time": "2023-07-23T05:06:35.435Z"
   },
   {
    "duration": 22,
    "start_time": "2023-07-23T05:06:35.462Z"
   },
   {
    "duration": 9,
    "start_time": "2023-07-23T05:06:35.485Z"
   },
   {
    "duration": 24,
    "start_time": "2023-07-23T05:06:35.496Z"
   },
   {
    "duration": 14,
    "start_time": "2023-07-23T05:06:35.521Z"
   },
   {
    "duration": 21,
    "start_time": "2023-07-23T05:06:35.537Z"
   },
   {
    "duration": 5,
    "start_time": "2023-07-23T05:06:35.559Z"
   },
   {
    "duration": 27,
    "start_time": "2023-07-23T05:06:35.565Z"
   },
   {
    "duration": 336,
    "start_time": "2023-07-23T05:06:35.594Z"
   },
   {
    "duration": 299,
    "start_time": "2023-07-23T05:06:35.931Z"
   },
   {
    "duration": 242,
    "start_time": "2023-07-23T05:06:36.232Z"
   },
   {
    "duration": 3,
    "start_time": "2023-07-23T05:10:56.778Z"
   },
   {
    "duration": 67,
    "start_time": "2023-07-23T05:11:06.794Z"
   },
   {
    "duration": 32,
    "start_time": "2023-07-23T05:11:22.630Z"
   },
   {
    "duration": 46,
    "start_time": "2023-07-23T05:11:37.322Z"
   },
   {
    "duration": 16,
    "start_time": "2023-07-23T05:12:49.473Z"
   },
   {
    "duration": 22,
    "start_time": "2023-07-23T05:13:19.939Z"
   },
   {
    "duration": 165,
    "start_time": "2023-07-23T05:14:53.948Z"
   },
   {
    "duration": 138,
    "start_time": "2023-07-23T05:15:17.975Z"
   },
   {
    "duration": 11,
    "start_time": "2023-07-23T05:16:10.359Z"
   },
   {
    "duration": 15,
    "start_time": "2023-07-23T05:17:02.336Z"
   },
   {
    "duration": 4,
    "start_time": "2023-07-23T05:17:55.771Z"
   },
   {
    "duration": 4,
    "start_time": "2023-07-23T05:17:59.560Z"
   },
   {
    "duration": 4,
    "start_time": "2023-07-23T05:18:04.879Z"
   },
   {
    "duration": 369,
    "start_time": "2023-07-23T05:18:49.174Z"
   },
   {
    "duration": 10,
    "start_time": "2023-07-23T05:21:23.107Z"
   },
   {
    "duration": 9,
    "start_time": "2023-07-23T05:23:42.519Z"
   },
   {
    "duration": 197,
    "start_time": "2023-07-23T05:23:54.672Z"
   },
   {
    "duration": 19,
    "start_time": "2023-07-23T05:24:45.485Z"
   },
   {
    "duration": 216,
    "start_time": "2023-07-23T05:25:18.420Z"
   },
   {
    "duration": 4,
    "start_time": "2023-07-23T05:26:14.085Z"
   },
   {
    "duration": 3,
    "start_time": "2023-07-23T05:26:18.081Z"
   },
   {
    "duration": 90,
    "start_time": "2023-07-23T05:26:25.690Z"
   },
   {
    "duration": 4,
    "start_time": "2023-07-23T05:27:10.849Z"
   },
   {
    "duration": 10,
    "start_time": "2023-07-23T05:27:14.970Z"
   },
   {
    "duration": 11,
    "start_time": "2023-07-23T05:27:34.965Z"
   },
   {
    "duration": 16,
    "start_time": "2023-07-23T05:28:01.310Z"
   },
   {
    "duration": 273,
    "start_time": "2023-07-23T05:28:24.922Z"
   },
   {
    "duration": 138,
    "start_time": "2023-07-23T05:29:06.958Z"
   },
   {
    "duration": 186,
    "start_time": "2023-07-23T05:29:38.290Z"
   },
   {
    "duration": 1387,
    "start_time": "2023-07-23T05:31:20.245Z"
   },
   {
    "duration": 84,
    "start_time": "2023-07-23T05:31:21.634Z"
   },
   {
    "duration": 16,
    "start_time": "2023-07-23T05:31:21.719Z"
   },
   {
    "duration": 4,
    "start_time": "2023-07-23T05:31:21.738Z"
   },
   {
    "duration": 49,
    "start_time": "2023-07-23T05:31:21.744Z"
   },
   {
    "duration": 19,
    "start_time": "2023-07-23T05:31:21.795Z"
   },
   {
    "duration": 11,
    "start_time": "2023-07-23T05:31:21.815Z"
   },
   {
    "duration": 4,
    "start_time": "2023-07-23T05:31:21.827Z"
   },
   {
    "duration": 13,
    "start_time": "2023-07-23T05:31:21.833Z"
   },
   {
    "duration": 30,
    "start_time": "2023-07-23T05:31:21.848Z"
   },
   {
    "duration": 12,
    "start_time": "2023-07-23T05:31:21.880Z"
   },
   {
    "duration": 20,
    "start_time": "2023-07-23T05:31:21.893Z"
   },
   {
    "duration": 403,
    "start_time": "2023-07-23T05:31:21.915Z"
   },
   {
    "duration": 320,
    "start_time": "2023-07-23T05:31:22.319Z"
   },
   {
    "duration": 338,
    "start_time": "2023-07-23T05:31:22.642Z"
   },
   {
    "duration": 243,
    "start_time": "2023-07-23T05:31:22.982Z"
   },
   {
    "duration": 277,
    "start_time": "2023-07-23T05:32:42.797Z"
   },
   {
    "duration": 298,
    "start_time": "2023-07-23T05:33:01.994Z"
   },
   {
    "duration": 349,
    "start_time": "2023-07-23T05:34:17.646Z"
   },
   {
    "duration": 7,
    "start_time": "2023-07-23T05:36:33.338Z"
   },
   {
    "duration": 6,
    "start_time": "2023-07-23T05:36:40.022Z"
   },
   {
    "duration": 7,
    "start_time": "2023-07-23T05:36:51.386Z"
   },
   {
    "duration": 7,
    "start_time": "2023-07-23T05:36:53.806Z"
   },
   {
    "duration": 114,
    "start_time": "2023-07-23T05:38:23.390Z"
   },
   {
    "duration": 26,
    "start_time": "2023-07-23T05:39:15.391Z"
   },
   {
    "duration": 23,
    "start_time": "2023-07-23T05:40:17.091Z"
   },
   {
    "duration": 75,
    "start_time": "2023-07-23T05:40:55.120Z"
   },
   {
    "duration": 19,
    "start_time": "2023-07-23T05:41:19.419Z"
   },
   {
    "duration": 22,
    "start_time": "2023-07-23T05:41:42.900Z"
   },
   {
    "duration": 7,
    "start_time": "2023-07-23T05:42:41.784Z"
   },
   {
    "duration": 244,
    "start_time": "2023-07-23T05:43:30.936Z"
   },
   {
    "duration": 219,
    "start_time": "2023-07-23T05:43:55.753Z"
   },
   {
    "duration": 204,
    "start_time": "2023-07-23T05:44:03.624Z"
   },
   {
    "duration": 20,
    "start_time": "2023-07-23T05:45:56.885Z"
   },
   {
    "duration": 16,
    "start_time": "2023-07-23T05:49:19.565Z"
   },
   {
    "duration": 23,
    "start_time": "2023-07-23T05:49:25.885Z"
   },
   {
    "duration": 5,
    "start_time": "2023-07-23T05:49:54.640Z"
   },
   {
    "duration": 13,
    "start_time": "2023-07-23T05:50:13.325Z"
   },
   {
    "duration": 6,
    "start_time": "2023-07-23T05:50:25.348Z"
   },
   {
    "duration": 92,
    "start_time": "2023-07-23T05:52:33.313Z"
   },
   {
    "duration": 71,
    "start_time": "2023-07-23T05:52:40.014Z"
   },
   {
    "duration": 1204,
    "start_time": "2023-07-23T05:54:04.227Z"
   },
   {
    "duration": 81,
    "start_time": "2023-07-23T05:54:05.433Z"
   },
   {
    "duration": 16,
    "start_time": "2023-07-23T05:54:05.516Z"
   },
   {
    "duration": 12,
    "start_time": "2023-07-23T05:54:05.534Z"
   },
   {
    "duration": 43,
    "start_time": "2023-07-23T05:54:05.549Z"
   },
   {
    "duration": 17,
    "start_time": "2023-07-23T05:54:05.594Z"
   },
   {
    "duration": 12,
    "start_time": "2023-07-23T05:54:05.613Z"
   },
   {
    "duration": 4,
    "start_time": "2023-07-23T05:54:05.627Z"
   },
   {
    "duration": 45,
    "start_time": "2023-07-23T05:54:05.633Z"
   },
   {
    "duration": 17,
    "start_time": "2023-07-23T05:54:05.680Z"
   },
   {
    "duration": 6,
    "start_time": "2023-07-23T05:54:05.698Z"
   },
   {
    "duration": 26,
    "start_time": "2023-07-23T05:54:05.705Z"
   },
   {
    "duration": 382,
    "start_time": "2023-07-23T05:54:05.733Z"
   },
   {
    "duration": 327,
    "start_time": "2023-07-23T05:54:06.119Z"
   },
   {
    "duration": 348,
    "start_time": "2023-07-23T05:54:06.452Z"
   },
   {
    "duration": 10,
    "start_time": "2023-07-23T05:54:06.802Z"
   },
   {
    "duration": 29,
    "start_time": "2023-07-23T05:54:06.813Z"
   },
   {
    "duration": 134,
    "start_time": "2023-07-23T05:54:06.844Z"
   },
   {
    "duration": 0,
    "start_time": "2023-07-23T05:54:06.979Z"
   },
   {
    "duration": 0,
    "start_time": "2023-07-23T05:54:06.980Z"
   },
   {
    "duration": 207,
    "start_time": "2023-07-23T05:54:25.683Z"
   },
   {
    "duration": 1365,
    "start_time": "2023-07-23T06:06:27.074Z"
   },
   {
    "duration": 94,
    "start_time": "2023-07-23T06:06:28.442Z"
   },
   {
    "duration": 20,
    "start_time": "2023-07-23T06:06:28.538Z"
   },
   {
    "duration": 28,
    "start_time": "2023-07-23T06:06:28.560Z"
   },
   {
    "duration": 33,
    "start_time": "2023-07-23T06:06:28.592Z"
   },
   {
    "duration": 31,
    "start_time": "2023-07-23T06:06:28.628Z"
   },
   {
    "duration": 27,
    "start_time": "2023-07-23T06:06:28.662Z"
   },
   {
    "duration": 49,
    "start_time": "2023-07-23T06:06:28.692Z"
   },
   {
    "duration": 32,
    "start_time": "2023-07-23T06:06:28.744Z"
   },
   {
    "duration": 20,
    "start_time": "2023-07-23T06:06:28.783Z"
   },
   {
    "duration": 7,
    "start_time": "2023-07-23T06:06:28.805Z"
   },
   {
    "duration": 19,
    "start_time": "2023-07-23T06:06:28.815Z"
   },
   {
    "duration": 381,
    "start_time": "2023-07-23T06:06:28.836Z"
   },
   {
    "duration": 387,
    "start_time": "2023-07-23T06:06:29.220Z"
   },
   {
    "duration": 368,
    "start_time": "2023-07-23T06:06:29.610Z"
   },
   {
    "duration": 8,
    "start_time": "2023-07-23T06:06:29.981Z"
   },
   {
    "duration": 9,
    "start_time": "2023-07-23T06:06:29.991Z"
   },
   {
    "duration": 444,
    "start_time": "2023-07-23T06:06:30.002Z"
   },
   {
    "duration": 0,
    "start_time": "2023-07-23T06:06:30.448Z"
   },
   {
    "duration": 0,
    "start_time": "2023-07-23T06:06:30.450Z"
   },
   {
    "duration": 1506,
    "start_time": "2023-07-23T06:06:42.672Z"
   },
   {
    "duration": 91,
    "start_time": "2023-07-23T06:06:44.181Z"
   },
   {
    "duration": 24,
    "start_time": "2023-07-23T06:06:44.275Z"
   },
   {
    "duration": 16,
    "start_time": "2023-07-23T06:06:44.303Z"
   },
   {
    "duration": 36,
    "start_time": "2023-07-23T06:06:44.321Z"
   },
   {
    "duration": 58,
    "start_time": "2023-07-23T06:06:44.362Z"
   },
   {
    "duration": 20,
    "start_time": "2023-07-23T06:06:44.422Z"
   },
   {
    "duration": 5,
    "start_time": "2023-07-23T06:06:44.445Z"
   },
   {
    "duration": 50,
    "start_time": "2023-07-23T06:06:44.456Z"
   },
   {
    "duration": 22,
    "start_time": "2023-07-23T06:06:44.510Z"
   },
   {
    "duration": 6,
    "start_time": "2023-07-23T06:06:44.534Z"
   },
   {
    "duration": 63,
    "start_time": "2023-07-23T06:06:44.542Z"
   },
   {
    "duration": 581,
    "start_time": "2023-07-23T06:06:44.608Z"
   },
   {
    "duration": 510,
    "start_time": "2023-07-23T06:06:45.193Z"
   },
   {
    "duration": 388,
    "start_time": "2023-07-23T06:06:45.705Z"
   },
   {
    "duration": 7,
    "start_time": "2023-07-23T06:06:46.095Z"
   },
   {
    "duration": 13,
    "start_time": "2023-07-23T06:06:46.104Z"
   },
   {
    "duration": 242,
    "start_time": "2023-07-23T06:06:46.119Z"
   },
   {
    "duration": 224,
    "start_time": "2023-07-23T06:06:46.367Z"
   },
   {
    "duration": 391,
    "start_time": "2023-07-23T06:06:46.593Z"
   },
   {
    "duration": 249,
    "start_time": "2023-07-23T06:17:41.324Z"
   },
   {
    "duration": 351,
    "start_time": "2023-07-23T06:18:59.300Z"
   },
   {
    "duration": 471,
    "start_time": "2023-07-23T06:19:14.444Z"
   },
   {
    "duration": 572,
    "start_time": "2023-07-23T06:19:27.132Z"
   },
   {
    "duration": 741,
    "start_time": "2023-07-23T06:19:34.717Z"
   },
   {
    "duration": 606,
    "start_time": "2023-07-23T06:19:49.780Z"
   },
   {
    "duration": 406,
    "start_time": "2023-07-23T06:20:55.380Z"
   },
   {
    "duration": 105,
    "start_time": "2023-07-23T06:21:22.844Z"
   },
   {
    "duration": 488,
    "start_time": "2023-07-23T06:22:49.728Z"
   },
   {
    "duration": 104,
    "start_time": "2023-07-23T06:48:02.002Z"
   },
   {
    "duration": 113,
    "start_time": "2023-07-23T06:48:12.806Z"
   },
   {
    "duration": 92,
    "start_time": "2023-07-23T06:48:29.092Z"
   },
   {
    "duration": 106,
    "start_time": "2023-07-23T06:48:48.451Z"
   },
   {
    "duration": 60,
    "start_time": "2023-07-23T06:48:56.190Z"
   },
   {
    "duration": 250,
    "start_time": "2023-07-23T06:49:04.898Z"
   },
   {
    "duration": 70,
    "start_time": "2023-07-23T06:51:45.679Z"
   },
   {
    "duration": 795,
    "start_time": "2023-07-23T06:52:01.227Z"
   },
   {
    "duration": 648,
    "start_time": "2023-07-23T06:52:10.379Z"
   },
   {
    "duration": 758,
    "start_time": "2023-07-23T06:52:23.378Z"
   },
   {
    "duration": 85,
    "start_time": "2023-07-23T06:52:35.031Z"
   },
   {
    "duration": 137,
    "start_time": "2023-07-23T06:52:46.871Z"
   },
   {
    "duration": 781,
    "start_time": "2023-07-23T06:52:49.879Z"
   },
   {
    "duration": 79,
    "start_time": "2023-07-23T06:59:44.555Z"
   },
   {
    "duration": 93,
    "start_time": "2023-07-23T06:59:59.664Z"
   },
   {
    "duration": 535,
    "start_time": "2023-07-23T07:03:26.789Z"
   },
   {
    "duration": 633,
    "start_time": "2023-07-23T07:03:31.746Z"
   },
   {
    "duration": 611,
    "start_time": "2023-07-23T07:03:49.938Z"
   },
   {
    "duration": 553,
    "start_time": "2023-07-23T07:03:56.091Z"
   },
   {
    "duration": 5,
    "start_time": "2023-07-23T07:04:44.298Z"
   },
   {
    "duration": 450,
    "start_time": "2023-07-23T07:04:46.762Z"
   },
   {
    "duration": 612,
    "start_time": "2023-07-23T07:05:09.458Z"
   },
   {
    "duration": 244,
    "start_time": "2023-07-23T07:05:32.058Z"
   },
   {
    "duration": 75,
    "start_time": "2023-07-23T07:09:44.136Z"
   },
   {
    "duration": 96,
    "start_time": "2023-07-23T07:10:27.075Z"
   },
   {
    "duration": 102,
    "start_time": "2023-07-23T07:10:38.807Z"
   },
   {
    "duration": 170,
    "start_time": "2023-07-23T07:11:19.851Z"
   },
   {
    "duration": 1398,
    "start_time": "2023-07-23T07:13:55.771Z"
   },
   {
    "duration": 103,
    "start_time": "2023-07-23T07:13:57.172Z"
   },
   {
    "duration": 16,
    "start_time": "2023-07-23T07:13:57.283Z"
   },
   {
    "duration": 17,
    "start_time": "2023-07-23T07:13:57.302Z"
   },
   {
    "duration": 21,
    "start_time": "2023-07-23T07:13:57.321Z"
   },
   {
    "duration": 28,
    "start_time": "2023-07-23T07:13:57.344Z"
   },
   {
    "duration": 26,
    "start_time": "2023-07-23T07:13:57.374Z"
   },
   {
    "duration": 6,
    "start_time": "2023-07-23T07:13:57.403Z"
   },
   {
    "duration": 25,
    "start_time": "2023-07-23T07:13:57.411Z"
   },
   {
    "duration": 29,
    "start_time": "2023-07-23T07:13:57.440Z"
   },
   {
    "duration": 10,
    "start_time": "2023-07-23T07:13:57.472Z"
   },
   {
    "duration": 25,
    "start_time": "2023-07-23T07:13:57.484Z"
   },
   {
    "duration": 394,
    "start_time": "2023-07-23T07:13:57.511Z"
   },
   {
    "duration": 387,
    "start_time": "2023-07-23T07:13:57.907Z"
   },
   {
    "duration": 14,
    "start_time": "2023-07-23T07:13:58.296Z"
   },
   {
    "duration": 321,
    "start_time": "2023-07-23T07:13:58.312Z"
   },
   {
    "duration": 344,
    "start_time": "2023-07-23T07:13:58.635Z"
   },
   {
    "duration": 288,
    "start_time": "2023-07-23T07:13:58.981Z"
   },
   {
    "duration": 292,
    "start_time": "2023-07-23T07:13:59.271Z"
   },
   {
    "duration": 328,
    "start_time": "2023-07-23T07:13:59.565Z"
   },
   {
    "duration": 236,
    "start_time": "2023-07-23T07:13:59.895Z"
   },
   {
    "duration": 1266,
    "start_time": "2023-07-23T07:38:13.723Z"
   },
   {
    "duration": 72,
    "start_time": "2023-07-23T07:38:14.991Z"
   },
   {
    "duration": 16,
    "start_time": "2023-07-23T07:38:15.067Z"
   },
   {
    "duration": 4,
    "start_time": "2023-07-23T07:38:15.085Z"
   },
   {
    "duration": 20,
    "start_time": "2023-07-23T07:38:15.091Z"
   },
   {
    "duration": 15,
    "start_time": "2023-07-23T07:38:15.113Z"
   },
   {
    "duration": 43,
    "start_time": "2023-07-23T07:38:15.130Z"
   },
   {
    "duration": 33,
    "start_time": "2023-07-23T07:38:15.175Z"
   },
   {
    "duration": 21,
    "start_time": "2023-07-23T07:38:15.210Z"
   },
   {
    "duration": 16,
    "start_time": "2023-07-23T07:38:15.235Z"
   },
   {
    "duration": 23,
    "start_time": "2023-07-23T07:38:15.253Z"
   },
   {
    "duration": 25,
    "start_time": "2023-07-23T07:38:15.278Z"
   },
   {
    "duration": 395,
    "start_time": "2023-07-23T07:38:15.305Z"
   },
   {
    "duration": 306,
    "start_time": "2023-07-23T07:38:15.701Z"
   },
   {
    "duration": 9,
    "start_time": "2023-07-23T07:38:16.010Z"
   },
   {
    "duration": 227,
    "start_time": "2023-07-23T07:38:16.021Z"
   },
   {
    "duration": 227,
    "start_time": "2023-07-23T07:38:16.251Z"
   },
   {
    "duration": 216,
    "start_time": "2023-07-23T07:38:16.480Z"
   },
   {
    "duration": 215,
    "start_time": "2023-07-23T07:38:16.699Z"
   },
   {
    "duration": 297,
    "start_time": "2023-07-23T07:38:16.916Z"
   },
   {
    "duration": 255,
    "start_time": "2023-07-23T07:38:17.215Z"
   },
   {
    "duration": 135,
    "start_time": "2023-07-23T07:38:17.472Z"
   },
   {
    "duration": 0,
    "start_time": "2023-07-23T07:38:17.610Z"
   },
   {
    "duration": 0,
    "start_time": "2023-07-23T07:38:17.611Z"
   },
   {
    "duration": 9,
    "start_time": "2023-07-23T07:38:35.185Z"
   },
   {
    "duration": 191,
    "start_time": "2023-07-23T07:38:38.739Z"
   },
   {
    "duration": 11,
    "start_time": "2023-07-23T07:39:57.660Z"
   },
   {
    "duration": 7,
    "start_time": "2023-07-23T07:40:33.572Z"
   },
   {
    "duration": 7,
    "start_time": "2023-07-23T07:43:27.603Z"
   },
   {
    "duration": 9,
    "start_time": "2023-07-23T07:43:38.719Z"
   },
   {
    "duration": 195,
    "start_time": "2023-07-23T07:46:44.157Z"
   },
   {
    "duration": 170,
    "start_time": "2023-07-23T07:47:10.932Z"
   },
   {
    "duration": 194,
    "start_time": "2023-07-23T07:47:41.320Z"
   },
   {
    "duration": 129,
    "start_time": "2023-07-23T07:57:26.895Z"
   },
   {
    "duration": 305,
    "start_time": "2023-07-23T07:58:19.531Z"
   },
   {
    "duration": 289,
    "start_time": "2023-07-23T07:58:26.998Z"
   },
   {
    "duration": 374,
    "start_time": "2023-07-23T07:58:53.410Z"
   },
   {
    "duration": 371,
    "start_time": "2023-07-23T07:59:03.134Z"
   },
   {
    "duration": 7,
    "start_time": "2023-07-23T08:04:38.671Z"
   },
   {
    "duration": 25,
    "start_time": "2023-07-23T08:04:45.519Z"
   },
   {
    "duration": 132,
    "start_time": "2023-07-23T08:05:02.904Z"
   },
   {
    "duration": 311,
    "start_time": "2023-07-23T08:08:18.487Z"
   },
   {
    "duration": 263,
    "start_time": "2023-07-23T08:09:07.935Z"
   },
   {
    "duration": 276,
    "start_time": "2023-07-23T08:09:36.257Z"
   },
   {
    "duration": 391,
    "start_time": "2023-07-23T08:09:59.015Z"
   },
   {
    "duration": 271,
    "start_time": "2023-07-23T08:10:09.094Z"
   },
   {
    "duration": 289,
    "start_time": "2023-07-23T08:10:16.917Z"
   },
   {
    "duration": 381,
    "start_time": "2023-07-23T08:10:38.245Z"
   },
   {
    "duration": 99,
    "start_time": "2023-07-23T08:13:55.313Z"
   },
   {
    "duration": 280,
    "start_time": "2023-07-23T08:14:04.901Z"
   },
   {
    "duration": 1301,
    "start_time": "2023-07-23T08:14:54.480Z"
   },
   {
    "duration": 76,
    "start_time": "2023-07-23T08:14:55.783Z"
   },
   {
    "duration": 19,
    "start_time": "2023-07-23T08:14:55.865Z"
   },
   {
    "duration": 4,
    "start_time": "2023-07-23T08:14:55.886Z"
   },
   {
    "duration": 37,
    "start_time": "2023-07-23T08:14:55.893Z"
   },
   {
    "duration": 18,
    "start_time": "2023-07-23T08:14:55.932Z"
   },
   {
    "duration": 18,
    "start_time": "2023-07-23T08:14:55.954Z"
   },
   {
    "duration": 10,
    "start_time": "2023-07-23T08:14:55.977Z"
   },
   {
    "duration": 19,
    "start_time": "2023-07-23T08:14:55.989Z"
   },
   {
    "duration": 16,
    "start_time": "2023-07-23T08:14:56.011Z"
   },
   {
    "duration": 6,
    "start_time": "2023-07-23T08:14:56.029Z"
   },
   {
    "duration": 38,
    "start_time": "2023-07-23T08:14:56.037Z"
   },
   {
    "duration": 388,
    "start_time": "2023-07-23T08:14:56.078Z"
   },
   {
    "duration": 305,
    "start_time": "2023-07-23T08:14:56.472Z"
   },
   {
    "duration": 11,
    "start_time": "2023-07-23T08:14:56.779Z"
   },
   {
    "duration": 223,
    "start_time": "2023-07-23T08:14:56.791Z"
   },
   {
    "duration": 227,
    "start_time": "2023-07-23T08:14:57.017Z"
   },
   {
    "duration": 223,
    "start_time": "2023-07-23T08:14:57.252Z"
   },
   {
    "duration": 210,
    "start_time": "2023-07-23T08:14:57.477Z"
   },
   {
    "duration": 302,
    "start_time": "2023-07-23T08:14:57.689Z"
   },
   {
    "duration": 215,
    "start_time": "2023-07-23T08:14:57.993Z"
   },
   {
    "duration": 9,
    "start_time": "2023-07-23T08:14:58.215Z"
   },
   {
    "duration": 45,
    "start_time": "2023-07-23T08:14:58.227Z"
   },
   {
    "duration": 286,
    "start_time": "2023-07-23T08:14:58.274Z"
   },
   {
    "duration": 18,
    "start_time": "2023-07-23T08:14:58.563Z"
   },
   {
    "duration": 35,
    "start_time": "2023-07-23T08:14:58.589Z"
   },
   {
    "duration": 196,
    "start_time": "2023-07-23T08:14:58.627Z"
   },
   {
    "duration": 185,
    "start_time": "2023-07-23T08:14:58.824Z"
   },
   {
    "duration": 184,
    "start_time": "2023-07-23T08:14:59.011Z"
   },
   {
    "duration": 74,
    "start_time": "2023-07-23T08:14:59.198Z"
   },
   {
    "duration": 0,
    "start_time": "2023-07-23T08:14:59.274Z"
   },
   {
    "duration": 299,
    "start_time": "2023-07-23T08:15:07.398Z"
   },
   {
    "duration": 184,
    "start_time": "2023-07-23T08:16:12.875Z"
   },
   {
    "duration": 322,
    "start_time": "2023-07-23T08:17:39.146Z"
   },
   {
    "duration": 8,
    "start_time": "2023-07-23T08:20:49.709Z"
   },
   {
    "duration": 392,
    "start_time": "2023-07-23T08:21:12.751Z"
   },
   {
    "duration": 168,
    "start_time": "2023-07-23T08:23:12.031Z"
   },
   {
    "duration": 191,
    "start_time": "2023-07-23T08:23:24.019Z"
   },
   {
    "duration": 216,
    "start_time": "2023-07-23T08:28:23.222Z"
   },
   {
    "duration": 167,
    "start_time": "2023-07-23T08:28:39.119Z"
   },
   {
    "duration": 20,
    "start_time": "2023-07-23T08:29:23.001Z"
   },
   {
    "duration": 12,
    "start_time": "2023-07-23T08:30:42.599Z"
   },
   {
    "duration": 26,
    "start_time": "2023-07-23T08:31:35.024Z"
   },
   {
    "duration": 19,
    "start_time": "2023-07-23T08:32:52.008Z"
   },
   {
    "duration": 16,
    "start_time": "2023-07-23T08:34:03.604Z"
   },
   {
    "duration": 7,
    "start_time": "2023-07-23T08:34:45.101Z"
   },
   {
    "duration": 23,
    "start_time": "2023-07-23T08:34:52.842Z"
   },
   {
    "duration": 1341,
    "start_time": "2023-07-23T08:35:14.107Z"
   },
   {
    "duration": 94,
    "start_time": "2023-07-23T08:35:15.450Z"
   },
   {
    "duration": 22,
    "start_time": "2023-07-23T08:35:15.546Z"
   },
   {
    "duration": 5,
    "start_time": "2023-07-23T08:35:15.571Z"
   },
   {
    "duration": 34,
    "start_time": "2023-07-23T08:35:15.581Z"
   },
   {
    "duration": 19,
    "start_time": "2023-07-23T08:35:15.617Z"
   },
   {
    "duration": 24,
    "start_time": "2023-07-23T08:35:15.638Z"
   },
   {
    "duration": 5,
    "start_time": "2023-07-23T08:35:15.665Z"
   },
   {
    "duration": 20,
    "start_time": "2023-07-23T08:35:15.672Z"
   },
   {
    "duration": 23,
    "start_time": "2023-07-23T08:35:15.695Z"
   },
   {
    "duration": 36,
    "start_time": "2023-07-23T08:35:15.720Z"
   },
   {
    "duration": 37,
    "start_time": "2023-07-23T08:35:15.758Z"
   },
   {
    "duration": 437,
    "start_time": "2023-07-23T08:35:15.797Z"
   },
   {
    "duration": 396,
    "start_time": "2023-07-23T08:35:16.240Z"
   },
   {
    "duration": 23,
    "start_time": "2023-07-23T08:35:16.639Z"
   },
   {
    "duration": 329,
    "start_time": "2023-07-23T08:35:16.665Z"
   },
   {
    "duration": 311,
    "start_time": "2023-07-23T08:35:16.996Z"
   },
   {
    "duration": 323,
    "start_time": "2023-07-23T08:35:17.310Z"
   },
   {
    "duration": 263,
    "start_time": "2023-07-23T08:35:17.636Z"
   },
   {
    "duration": 382,
    "start_time": "2023-07-23T08:35:17.901Z"
   },
   {
    "duration": 314,
    "start_time": "2023-07-23T08:35:18.286Z"
   },
   {
    "duration": 13,
    "start_time": "2023-07-23T08:35:18.602Z"
   },
   {
    "duration": 66,
    "start_time": "2023-07-23T08:35:18.619Z"
   },
   {
    "duration": 89,
    "start_time": "2023-07-23T08:35:18.690Z"
   },
   {
    "duration": 0,
    "start_time": "2023-07-23T08:35:18.781Z"
   },
   {
    "duration": 0,
    "start_time": "2023-07-23T08:35:18.784Z"
   },
   {
    "duration": 0,
    "start_time": "2023-07-23T08:35:18.786Z"
   },
   {
    "duration": 0,
    "start_time": "2023-07-23T08:35:18.788Z"
   },
   {
    "duration": 0,
    "start_time": "2023-07-23T08:35:18.789Z"
   },
   {
    "duration": 0,
    "start_time": "2023-07-23T08:35:18.791Z"
   },
   {
    "duration": 0,
    "start_time": "2023-07-23T08:35:18.793Z"
   },
   {
    "duration": 0,
    "start_time": "2023-07-23T08:35:18.795Z"
   },
   {
    "duration": 1370,
    "start_time": "2023-07-23T08:35:36.431Z"
   },
   {
    "duration": 78,
    "start_time": "2023-07-23T08:35:37.803Z"
   },
   {
    "duration": 23,
    "start_time": "2023-07-23T08:35:37.883Z"
   },
   {
    "duration": 3,
    "start_time": "2023-07-23T08:35:37.909Z"
   },
   {
    "duration": 40,
    "start_time": "2023-07-23T08:35:37.914Z"
   },
   {
    "duration": 12,
    "start_time": "2023-07-23T08:35:37.957Z"
   },
   {
    "duration": 17,
    "start_time": "2023-07-23T08:35:37.972Z"
   },
   {
    "duration": 5,
    "start_time": "2023-07-23T08:35:37.991Z"
   },
   {
    "duration": 20,
    "start_time": "2023-07-23T08:35:37.998Z"
   },
   {
    "duration": 50,
    "start_time": "2023-07-23T08:35:38.021Z"
   },
   {
    "duration": 9,
    "start_time": "2023-07-23T08:35:38.074Z"
   },
   {
    "duration": 29,
    "start_time": "2023-07-23T08:35:38.086Z"
   },
   {
    "duration": 505,
    "start_time": "2023-07-23T08:35:38.117Z"
   },
   {
    "duration": 470,
    "start_time": "2023-07-23T08:35:38.625Z"
   },
   {
    "duration": 12,
    "start_time": "2023-07-23T08:35:39.097Z"
   },
   {
    "duration": 331,
    "start_time": "2023-07-23T08:35:39.111Z"
   },
   {
    "duration": 259,
    "start_time": "2023-07-23T08:35:39.445Z"
   },
   {
    "duration": 275,
    "start_time": "2023-07-23T08:35:39.707Z"
   },
   {
    "duration": 259,
    "start_time": "2023-07-23T08:35:39.985Z"
   },
   {
    "duration": 382,
    "start_time": "2023-07-23T08:35:40.251Z"
   },
   {
    "duration": 246,
    "start_time": "2023-07-23T08:35:40.634Z"
   },
   {
    "duration": 13,
    "start_time": "2023-07-23T08:35:40.883Z"
   },
   {
    "duration": 10,
    "start_time": "2023-07-23T08:35:40.898Z"
   },
   {
    "duration": 252,
    "start_time": "2023-07-23T08:35:40.911Z"
   },
   {
    "duration": 16,
    "start_time": "2023-07-23T08:35:41.166Z"
   },
   {
    "duration": 10,
    "start_time": "2023-07-23T08:35:41.185Z"
   },
   {
    "duration": 213,
    "start_time": "2023-07-23T08:35:41.197Z"
   },
   {
    "duration": 213,
    "start_time": "2023-07-23T08:35:41.415Z"
   },
   {
    "duration": 232,
    "start_time": "2023-07-23T08:35:41.630Z"
   },
   {
    "duration": 369,
    "start_time": "2023-07-23T08:35:41.865Z"
   },
   {
    "duration": 203,
    "start_time": "2023-07-23T08:35:42.236Z"
   },
   {
    "duration": 139,
    "start_time": "2023-07-23T08:37:21.903Z"
   },
   {
    "duration": 32,
    "start_time": "2023-07-23T08:37:58.203Z"
   },
   {
    "duration": 17,
    "start_time": "2023-07-23T08:38:14.204Z"
   },
   {
    "duration": 15,
    "start_time": "2023-07-23T08:40:29.272Z"
   },
   {
    "duration": 15,
    "start_time": "2023-07-23T08:40:48.300Z"
   },
   {
    "duration": 11,
    "start_time": "2023-07-23T08:40:58.741Z"
   },
   {
    "duration": 92,
    "start_time": "2023-07-23T08:42:37.664Z"
   },
   {
    "duration": 73,
    "start_time": "2023-07-23T08:43:06.224Z"
   },
   {
    "duration": 14,
    "start_time": "2023-07-23T08:43:17.328Z"
   },
   {
    "duration": 14,
    "start_time": "2023-07-23T08:43:23.964Z"
   },
   {
    "duration": 4320,
    "start_time": "2023-07-23T08:44:00.956Z"
   },
   {
    "duration": 3333,
    "start_time": "2023-07-23T08:44:12.807Z"
   },
   {
    "duration": 31,
    "start_time": "2023-07-23T08:44:22.439Z"
   },
   {
    "duration": 14,
    "start_time": "2023-07-23T08:48:43.901Z"
   },
   {
    "duration": 192,
    "start_time": "2023-07-23T08:48:55.250Z"
   },
   {
    "duration": 213,
    "start_time": "2023-07-23T08:49:28.310Z"
   },
   {
    "duration": 179,
    "start_time": "2023-07-23T08:49:31.121Z"
   },
   {
    "duration": 84,
    "start_time": "2023-07-23T08:51:59.175Z"
   },
   {
    "duration": 323,
    "start_time": "2023-07-23T08:52:49.114Z"
   },
   {
    "duration": 158,
    "start_time": "2023-07-23T08:53:23.992Z"
   },
   {
    "duration": 205,
    "start_time": "2023-07-23T08:53:41.532Z"
   },
   {
    "duration": 381,
    "start_time": "2023-07-23T08:54:30.198Z"
   },
   {
    "duration": 183,
    "start_time": "2023-07-23T08:54:43.987Z"
   },
   {
    "duration": 16,
    "start_time": "2023-07-23T08:55:36.003Z"
   },
   {
    "duration": 6,
    "start_time": "2023-07-23T08:56:41.710Z"
   },
   {
    "duration": 6,
    "start_time": "2023-07-23T08:57:02.043Z"
   },
   {
    "duration": 6,
    "start_time": "2023-07-23T08:57:12.003Z"
   },
   {
    "duration": 258,
    "start_time": "2023-07-23T08:57:17.259Z"
   },
   {
    "duration": 5,
    "start_time": "2023-07-23T08:57:35.700Z"
   },
   {
    "duration": 6,
    "start_time": "2023-07-23T08:57:40.476Z"
   },
   {
    "duration": 2745,
    "start_time": "2023-07-23T08:58:01.463Z"
   },
   {
    "duration": 2315,
    "start_time": "2023-07-23T08:58:25.284Z"
   },
   {
    "duration": 16,
    "start_time": "2023-07-23T08:58:33.596Z"
   },
   {
    "duration": 329,
    "start_time": "2023-07-23T08:59:18.544Z"
   },
   {
    "duration": 211,
    "start_time": "2023-07-23T08:59:42.300Z"
   },
   {
    "duration": 1084,
    "start_time": "2023-07-23T09:00:02.277Z"
   },
   {
    "duration": 177,
    "start_time": "2023-07-23T09:00:19.316Z"
   },
   {
    "duration": 25,
    "start_time": "2023-07-23T09:00:28.744Z"
   },
   {
    "duration": 1414,
    "start_time": "2023-07-23T09:02:51.850Z"
   },
   {
    "duration": 83,
    "start_time": "2023-07-23T09:02:53.268Z"
   },
   {
    "duration": 26,
    "start_time": "2023-07-23T09:02:53.354Z"
   },
   {
    "duration": 36,
    "start_time": "2023-07-23T09:02:53.387Z"
   },
   {
    "duration": 24,
    "start_time": "2023-07-23T09:02:53.426Z"
   },
   {
    "duration": 37,
    "start_time": "2023-07-23T09:02:53.453Z"
   },
   {
    "duration": 13,
    "start_time": "2023-07-23T09:02:53.492Z"
   },
   {
    "duration": 5,
    "start_time": "2023-07-23T09:02:53.508Z"
   },
   {
    "duration": 21,
    "start_time": "2023-07-23T09:02:53.515Z"
   },
   {
    "duration": 31,
    "start_time": "2023-07-23T09:02:53.540Z"
   },
   {
    "duration": 17,
    "start_time": "2023-07-23T09:02:53.574Z"
   },
   {
    "duration": 32,
    "start_time": "2023-07-23T09:02:53.593Z"
   },
   {
    "duration": 461,
    "start_time": "2023-07-23T09:02:53.627Z"
   },
   {
    "duration": 328,
    "start_time": "2023-07-23T09:02:54.090Z"
   },
   {
    "duration": 11,
    "start_time": "2023-07-23T09:02:54.421Z"
   },
   {
    "duration": 292,
    "start_time": "2023-07-23T09:02:54.434Z"
   },
   {
    "duration": 267,
    "start_time": "2023-07-23T09:02:54.728Z"
   },
   {
    "duration": 244,
    "start_time": "2023-07-23T09:02:54.997Z"
   },
   {
    "duration": 257,
    "start_time": "2023-07-23T09:02:55.243Z"
   },
   {
    "duration": 414,
    "start_time": "2023-07-23T09:02:55.502Z"
   },
   {
    "duration": 263,
    "start_time": "2023-07-23T09:02:55.918Z"
   },
   {
    "duration": 11,
    "start_time": "2023-07-23T09:02:56.183Z"
   },
   {
    "duration": 14,
    "start_time": "2023-07-23T09:02:56.197Z"
   },
   {
    "duration": 387,
    "start_time": "2023-07-23T09:02:56.214Z"
   },
   {
    "duration": 0,
    "start_time": "2023-07-23T09:02:56.604Z"
   },
   {
    "duration": 0,
    "start_time": "2023-07-23T09:02:56.606Z"
   },
   {
    "duration": 0,
    "start_time": "2023-07-23T09:02:56.608Z"
   },
   {
    "duration": 0,
    "start_time": "2023-07-23T09:02:56.609Z"
   },
   {
    "duration": 0,
    "start_time": "2023-07-23T09:02:56.611Z"
   },
   {
    "duration": 0,
    "start_time": "2023-07-23T09:02:56.612Z"
   },
   {
    "duration": 0,
    "start_time": "2023-07-23T09:02:56.613Z"
   },
   {
    "duration": 0,
    "start_time": "2023-07-23T09:02:56.615Z"
   },
   {
    "duration": 0,
    "start_time": "2023-07-23T09:02:56.617Z"
   },
   {
    "duration": 0,
    "start_time": "2023-07-23T09:02:56.618Z"
   },
   {
    "duration": 1336,
    "start_time": "2023-07-23T09:03:11.192Z"
   },
   {
    "duration": 99,
    "start_time": "2023-07-23T09:03:12.530Z"
   },
   {
    "duration": 27,
    "start_time": "2023-07-23T09:03:12.631Z"
   },
   {
    "duration": 23,
    "start_time": "2023-07-23T09:03:12.662Z"
   },
   {
    "duration": 37,
    "start_time": "2023-07-23T09:03:12.687Z"
   },
   {
    "duration": 19,
    "start_time": "2023-07-23T09:03:12.726Z"
   },
   {
    "duration": 49,
    "start_time": "2023-07-23T09:03:12.747Z"
   },
   {
    "duration": 94,
    "start_time": "2023-07-23T09:03:12.799Z"
   },
   {
    "duration": 39,
    "start_time": "2023-07-23T09:03:12.896Z"
   },
   {
    "duration": 70,
    "start_time": "2023-07-23T09:03:12.939Z"
   },
   {
    "duration": 10,
    "start_time": "2023-07-23T09:03:13.011Z"
   },
   {
    "duration": 113,
    "start_time": "2023-07-23T09:03:13.023Z"
   },
   {
    "duration": 488,
    "start_time": "2023-07-23T09:03:13.138Z"
   },
   {
    "duration": 350,
    "start_time": "2023-07-23T09:03:13.628Z"
   },
   {
    "duration": 9,
    "start_time": "2023-07-23T09:03:13.980Z"
   },
   {
    "duration": 240,
    "start_time": "2023-07-23T09:03:13.991Z"
   },
   {
    "duration": 249,
    "start_time": "2023-07-23T09:03:14.233Z"
   },
   {
    "duration": 227,
    "start_time": "2023-07-23T09:03:14.484Z"
   },
   {
    "duration": 232,
    "start_time": "2023-07-23T09:03:14.712Z"
   },
   {
    "duration": 326,
    "start_time": "2023-07-23T09:03:14.951Z"
   },
   {
    "duration": 238,
    "start_time": "2023-07-23T09:03:15.278Z"
   },
   {
    "duration": 9,
    "start_time": "2023-07-23T09:03:15.518Z"
   },
   {
    "duration": 19,
    "start_time": "2023-07-23T09:03:15.529Z"
   },
   {
    "duration": 213,
    "start_time": "2023-07-23T09:03:15.550Z"
   },
   {
    "duration": 11,
    "start_time": "2023-07-23T09:03:15.768Z"
   },
   {
    "duration": 11,
    "start_time": "2023-07-23T09:03:15.781Z"
   },
   {
    "duration": 180,
    "start_time": "2023-07-23T09:03:15.794Z"
   },
   {
    "duration": 179,
    "start_time": "2023-07-23T09:03:15.979Z"
   },
   {
    "duration": 184,
    "start_time": "2023-07-23T09:03:16.159Z"
   },
   {
    "duration": 443,
    "start_time": "2023-07-23T09:03:16.345Z"
   },
   {
    "duration": 223,
    "start_time": "2023-07-23T09:03:16.791Z"
   },
   {
    "duration": 167,
    "start_time": "2023-07-23T09:03:17.018Z"
   },
   {
    "duration": 19,
    "start_time": "2023-07-23T09:03:17.188Z"
   },
   {
    "duration": 376,
    "start_time": "2023-07-23T09:05:24.600Z"
   },
   {
    "duration": 303,
    "start_time": "2023-07-23T09:05:37.217Z"
   },
   {
    "duration": 437,
    "start_time": "2023-07-23T09:06:22.692Z"
   },
   {
    "duration": 352,
    "start_time": "2023-07-23T09:07:40.246Z"
   },
   {
    "duration": 1427,
    "start_time": "2023-07-23T09:09:07.604Z"
   },
   {
    "duration": 79,
    "start_time": "2023-07-23T09:09:09.033Z"
   },
   {
    "duration": 21,
    "start_time": "2023-07-23T09:09:09.114Z"
   },
   {
    "duration": 19,
    "start_time": "2023-07-23T09:09:09.138Z"
   },
   {
    "duration": 41,
    "start_time": "2023-07-23T09:09:09.163Z"
   },
   {
    "duration": 24,
    "start_time": "2023-07-23T09:09:09.206Z"
   },
   {
    "duration": 13,
    "start_time": "2023-07-23T09:09:09.232Z"
   },
   {
    "duration": 29,
    "start_time": "2023-07-23T09:09:09.247Z"
   },
   {
    "duration": 20,
    "start_time": "2023-07-23T09:09:09.278Z"
   },
   {
    "duration": 29,
    "start_time": "2023-07-23T09:09:09.303Z"
   },
   {
    "duration": 7,
    "start_time": "2023-07-23T09:09:09.334Z"
   },
   {
    "duration": 59,
    "start_time": "2023-07-23T09:09:09.344Z"
   },
   {
    "duration": 371,
    "start_time": "2023-07-23T09:09:09.405Z"
   },
   {
    "duration": 339,
    "start_time": "2023-07-23T09:09:09.778Z"
   },
   {
    "duration": 9,
    "start_time": "2023-07-23T09:09:10.118Z"
   },
   {
    "duration": 243,
    "start_time": "2023-07-23T09:09:10.129Z"
   },
   {
    "duration": 232,
    "start_time": "2023-07-23T09:09:10.374Z"
   },
   {
    "duration": 219,
    "start_time": "2023-07-23T09:09:10.608Z"
   },
   {
    "duration": 228,
    "start_time": "2023-07-23T09:09:10.829Z"
   },
   {
    "duration": 304,
    "start_time": "2023-07-23T09:09:11.059Z"
   },
   {
    "duration": 213,
    "start_time": "2023-07-23T09:09:11.367Z"
   },
   {
    "duration": 8,
    "start_time": "2023-07-23T09:09:11.581Z"
   },
   {
    "duration": 12,
    "start_time": "2023-07-23T09:09:11.590Z"
   },
   {
    "duration": 95,
    "start_time": "2023-07-23T09:09:11.603Z"
   },
   {
    "duration": 0,
    "start_time": "2023-07-23T09:09:11.701Z"
   },
   {
    "duration": 0,
    "start_time": "2023-07-23T09:09:11.702Z"
   },
   {
    "duration": 0,
    "start_time": "2023-07-23T09:09:11.704Z"
   },
   {
    "duration": 0,
    "start_time": "2023-07-23T09:09:11.705Z"
   },
   {
    "duration": 0,
    "start_time": "2023-07-23T09:09:11.707Z"
   },
   {
    "duration": 0,
    "start_time": "2023-07-23T09:09:11.708Z"
   },
   {
    "duration": 0,
    "start_time": "2023-07-23T09:09:11.710Z"
   },
   {
    "duration": 0,
    "start_time": "2023-07-23T09:09:11.712Z"
   },
   {
    "duration": 0,
    "start_time": "2023-07-23T09:09:11.713Z"
   },
   {
    "duration": 0,
    "start_time": "2023-07-23T09:09:11.715Z"
   },
   {
    "duration": 0,
    "start_time": "2023-07-23T09:09:11.716Z"
   },
   {
    "duration": 0,
    "start_time": "2023-07-23T09:09:11.718Z"
   },
   {
    "duration": 0,
    "start_time": "2023-07-23T09:09:11.719Z"
   },
   {
    "duration": 1208,
    "start_time": "2023-07-23T09:09:31.771Z"
   },
   {
    "duration": 65,
    "start_time": "2023-07-23T09:09:32.980Z"
   },
   {
    "duration": 17,
    "start_time": "2023-07-23T09:09:33.047Z"
   },
   {
    "duration": 12,
    "start_time": "2023-07-23T09:09:33.066Z"
   },
   {
    "duration": 36,
    "start_time": "2023-07-23T09:09:33.080Z"
   },
   {
    "duration": 20,
    "start_time": "2023-07-23T09:09:33.118Z"
   },
   {
    "duration": 26,
    "start_time": "2023-07-23T09:09:33.140Z"
   },
   {
    "duration": 10,
    "start_time": "2023-07-23T09:09:33.169Z"
   },
   {
    "duration": 16,
    "start_time": "2023-07-23T09:09:33.181Z"
   },
   {
    "duration": 28,
    "start_time": "2023-07-23T09:09:33.200Z"
   },
   {
    "duration": 9,
    "start_time": "2023-07-23T09:09:33.229Z"
   },
   {
    "duration": 28,
    "start_time": "2023-07-23T09:09:33.239Z"
   },
   {
    "duration": 374,
    "start_time": "2023-07-23T09:09:33.270Z"
   },
   {
    "duration": 294,
    "start_time": "2023-07-23T09:09:33.646Z"
   },
   {
    "duration": 23,
    "start_time": "2023-07-23T09:09:33.942Z"
   },
   {
    "duration": 235,
    "start_time": "2023-07-23T09:09:33.968Z"
   },
   {
    "duration": 206,
    "start_time": "2023-07-23T09:09:34.205Z"
   },
   {
    "duration": 212,
    "start_time": "2023-07-23T09:09:34.413Z"
   },
   {
    "duration": 220,
    "start_time": "2023-07-23T09:09:34.627Z"
   },
   {
    "duration": 315,
    "start_time": "2023-07-23T09:09:34.851Z"
   },
   {
    "duration": 215,
    "start_time": "2023-07-23T09:09:35.168Z"
   },
   {
    "duration": 8,
    "start_time": "2023-07-23T09:09:35.384Z"
   },
   {
    "duration": 285,
    "start_time": "2023-07-23T09:09:35.394Z"
   },
   {
    "duration": 9,
    "start_time": "2023-07-23T09:09:35.680Z"
   },
   {
    "duration": 9,
    "start_time": "2023-07-23T09:09:35.690Z"
   },
   {
    "duration": 180,
    "start_time": "2023-07-23T09:09:35.701Z"
   },
   {
    "duration": 180,
    "start_time": "2023-07-23T09:09:35.882Z"
   },
   {
    "duration": 168,
    "start_time": "2023-07-23T09:09:36.072Z"
   },
   {
    "duration": 333,
    "start_time": "2023-07-23T09:09:36.242Z"
   },
   {
    "duration": 170,
    "start_time": "2023-07-23T09:09:36.576Z"
   },
   {
    "duration": 137,
    "start_time": "2023-07-23T09:09:36.747Z"
   },
   {
    "duration": 16,
    "start_time": "2023-07-23T09:09:36.886Z"
   },
   {
    "duration": 12,
    "start_time": "2023-07-23T09:09:36.904Z"
   },
   {
    "duration": 49,
    "start_time": "2023-07-23T09:09:36.918Z"
   },
   {
    "duration": 24,
    "start_time": "2023-07-23T09:09:36.968Z"
   },
   {
    "duration": 422,
    "start_time": "2023-07-23T09:10:31.448Z"
   },
   {
    "duration": 218,
    "start_time": "2023-07-23T09:14:30.089Z"
   },
   {
    "duration": 115,
    "start_time": "2023-07-23T09:29:02.517Z"
   },
   {
    "duration": 182,
    "start_time": "2023-07-23T09:31:08.701Z"
   },
   {
    "duration": 104,
    "start_time": "2023-07-23T09:32:45.445Z"
   },
   {
    "duration": 103,
    "start_time": "2023-07-23T09:32:53.564Z"
   },
   {
    "duration": 270,
    "start_time": "2023-07-23T09:33:07.146Z"
   },
   {
    "duration": 164,
    "start_time": "2023-07-23T09:33:51.582Z"
   },
   {
    "duration": 11,
    "start_time": "2023-07-23T09:36:22.015Z"
   },
   {
    "duration": 241,
    "start_time": "2023-07-23T09:42:59.577Z"
   },
   {
    "duration": 244,
    "start_time": "2023-07-23T09:43:20.468Z"
   },
   {
    "duration": 5,
    "start_time": "2023-07-23T09:43:30.444Z"
   },
   {
    "duration": 285,
    "start_time": "2023-07-23T09:43:38.021Z"
   },
   {
    "duration": 240,
    "start_time": "2023-07-23T09:43:44.300Z"
   },
   {
    "duration": 288,
    "start_time": "2023-07-23T09:43:59.293Z"
   },
   {
    "duration": 272,
    "start_time": "2023-07-23T09:44:06.871Z"
   },
   {
    "duration": 472,
    "start_time": "2023-07-23T09:44:14.072Z"
   },
   {
    "duration": 403,
    "start_time": "2023-07-23T09:44:34.593Z"
   },
   {
    "duration": 356,
    "start_time": "2023-07-23T09:46:54.253Z"
   },
   {
    "duration": 408,
    "start_time": "2023-07-23T09:47:00.399Z"
   },
   {
    "duration": 404,
    "start_time": "2023-07-23T09:49:01.273Z"
   },
   {
    "duration": 426,
    "start_time": "2023-07-23T09:49:30.465Z"
   },
   {
    "duration": 291,
    "start_time": "2023-07-23T09:54:36.366Z"
   },
   {
    "duration": 74,
    "start_time": "2023-07-23T09:56:12.668Z"
   },
   {
    "duration": 506,
    "start_time": "2023-07-23T09:56:35.700Z"
   },
   {
    "duration": 89,
    "start_time": "2023-07-23T09:58:51.368Z"
   },
   {
    "duration": 379,
    "start_time": "2023-07-23T09:59:37.264Z"
   },
   {
    "duration": 353,
    "start_time": "2023-07-23T10:00:01.170Z"
   },
   {
    "duration": 280,
    "start_time": "2023-07-23T10:00:47.448Z"
   },
   {
    "duration": 329,
    "start_time": "2023-07-23T10:01:38.969Z"
   },
   {
    "duration": 330,
    "start_time": "2023-07-23T10:01:45.759Z"
   },
   {
    "duration": 13,
    "start_time": "2023-07-23T10:02:35.873Z"
   },
   {
    "duration": 7,
    "start_time": "2023-07-23T10:02:55.246Z"
   },
   {
    "duration": 10,
    "start_time": "2023-07-23T10:03:01.998Z"
   },
   {
    "duration": 215,
    "start_time": "2023-07-23T10:03:49.846Z"
   },
   {
    "duration": 254,
    "start_time": "2023-07-23T10:05:41.855Z"
   },
   {
    "duration": 320,
    "start_time": "2023-07-23T10:06:00.572Z"
   },
   {
    "duration": 254,
    "start_time": "2023-07-23T10:06:46.887Z"
   },
   {
    "duration": 297,
    "start_time": "2023-07-23T10:09:38.103Z"
   },
   {
    "duration": 4224,
    "start_time": "2023-07-23T10:09:44.875Z"
   },
   {
    "duration": 230,
    "start_time": "2023-07-23T10:10:20.885Z"
   },
   {
    "duration": 1376,
    "start_time": "2023-07-24T03:05:54.954Z"
   },
   {
    "duration": 202,
    "start_time": "2023-07-24T03:05:56.332Z"
   },
   {
    "duration": 14,
    "start_time": "2023-07-24T03:05:56.536Z"
   },
   {
    "duration": 3,
    "start_time": "2023-07-24T03:05:56.552Z"
   },
   {
    "duration": 13,
    "start_time": "2023-07-24T03:05:56.556Z"
   },
   {
    "duration": 16,
    "start_time": "2023-07-24T03:05:56.571Z"
   },
   {
    "duration": 8,
    "start_time": "2023-07-24T03:05:56.588Z"
   },
   {
    "duration": 16,
    "start_time": "2023-07-24T03:05:56.597Z"
   },
   {
    "duration": 14,
    "start_time": "2023-07-24T03:05:56.615Z"
   },
   {
    "duration": 14,
    "start_time": "2023-07-24T03:05:56.631Z"
   },
   {
    "duration": 5,
    "start_time": "2023-07-24T03:05:56.646Z"
   },
   {
    "duration": 17,
    "start_time": "2023-07-24T03:05:56.652Z"
   },
   {
    "duration": 356,
    "start_time": "2023-07-24T03:05:56.670Z"
   },
   {
    "duration": 305,
    "start_time": "2023-07-24T03:05:57.029Z"
   },
   {
    "duration": 10,
    "start_time": "2023-07-24T03:05:57.336Z"
   },
   {
    "duration": 223,
    "start_time": "2023-07-24T03:05:57.348Z"
   },
   {
    "duration": 216,
    "start_time": "2023-07-24T03:05:57.572Z"
   },
   {
    "duration": 218,
    "start_time": "2023-07-24T03:05:57.790Z"
   },
   {
    "duration": 285,
    "start_time": "2023-07-24T03:05:58.010Z"
   },
   {
    "duration": 195,
    "start_time": "2023-07-24T03:05:58.297Z"
   },
   {
    "duration": 200,
    "start_time": "2023-07-24T03:05:58.494Z"
   },
   {
    "duration": 7,
    "start_time": "2023-07-24T03:05:58.696Z"
   },
   {
    "duration": 358,
    "start_time": "2023-07-24T03:05:58.704Z"
   },
   {
    "duration": 8,
    "start_time": "2023-07-24T03:05:59.063Z"
   },
   {
    "duration": 30,
    "start_time": "2023-07-24T03:05:59.073Z"
   },
   {
    "duration": 156,
    "start_time": "2023-07-24T03:05:59.104Z"
   },
   {
    "duration": 165,
    "start_time": "2023-07-24T03:05:59.262Z"
   },
   {
    "duration": 174,
    "start_time": "2023-07-24T03:05:59.429Z"
   },
   {
    "duration": 333,
    "start_time": "2023-07-24T03:05:59.605Z"
   },
   {
    "duration": 164,
    "start_time": "2023-07-24T03:05:59.940Z"
   },
   {
    "duration": 144,
    "start_time": "2023-07-24T03:06:00.106Z"
   },
   {
    "duration": 16,
    "start_time": "2023-07-24T03:06:00.252Z"
   },
   {
    "duration": 676,
    "start_time": "2023-07-24T03:06:00.270Z"
   },
   {
    "duration": 56,
    "start_time": "2023-07-24T03:06:00.948Z"
   },
   {
    "duration": 58,
    "start_time": "2023-07-24T03:06:01.006Z"
   },
   {
    "duration": 337,
    "start_time": "2023-07-24T03:06:01.066Z"
   },
   {
    "duration": 137,
    "start_time": "2023-07-24T03:06:01.404Z"
   },
   {
    "duration": 0,
    "start_time": "2023-07-24T03:06:01.543Z"
   },
   {
    "duration": 11,
    "start_time": "2023-07-24T03:07:44.098Z"
   },
   {
    "duration": 17,
    "start_time": "2023-07-24T03:07:54.385Z"
   },
   {
    "duration": 8,
    "start_time": "2023-07-24T03:10:07.784Z"
   },
   {
    "duration": 104,
    "start_time": "2023-07-24T03:15:13.292Z"
   },
   {
    "duration": 279,
    "start_time": "2023-07-24T03:15:49.893Z"
   },
   {
    "duration": 278,
    "start_time": "2023-07-24T03:16:55.900Z"
   },
   {
    "duration": 132,
    "start_time": "2023-07-24T03:19:30.854Z"
   },
   {
    "duration": 119,
    "start_time": "2023-07-24T03:21:22.361Z"
   },
   {
    "duration": 269,
    "start_time": "2023-07-24T03:21:35.426Z"
   },
   {
    "duration": 129,
    "start_time": "2023-07-24T03:21:46.461Z"
   },
   {
    "duration": 127,
    "start_time": "2023-07-24T03:21:49.286Z"
   },
   {
    "duration": 278,
    "start_time": "2023-07-24T03:21:53.474Z"
   },
   {
    "duration": 292,
    "start_time": "2023-07-24T03:22:18.046Z"
   },
   {
    "duration": 305,
    "start_time": "2023-07-24T03:22:37.930Z"
   },
   {
    "duration": 528,
    "start_time": "2023-07-24T03:23:20.419Z"
   },
   {
    "duration": 654,
    "start_time": "2023-07-24T03:25:49.978Z"
   },
   {
    "duration": 165,
    "start_time": "2023-07-24T03:26:08.742Z"
   },
   {
    "duration": 293,
    "start_time": "2023-07-24T03:26:32.250Z"
   },
   {
    "duration": 651,
    "start_time": "2023-07-24T03:26:36.274Z"
   },
   {
    "duration": 690,
    "start_time": "2023-07-24T03:26:57.999Z"
   },
   {
    "duration": 149,
    "start_time": "2023-07-24T03:27:54.606Z"
   },
   {
    "duration": 8,
    "start_time": "2023-07-24T03:28:01.607Z"
   },
   {
    "duration": 11,
    "start_time": "2023-07-24T03:28:08.095Z"
   },
   {
    "duration": 10,
    "start_time": "2023-07-24T03:28:11.174Z"
   },
   {
    "duration": 192,
    "start_time": "2023-07-24T03:29:11.910Z"
   },
   {
    "duration": 10,
    "start_time": "2023-07-24T03:30:53.802Z"
   },
   {
    "duration": 242,
    "start_time": "2023-07-24T03:33:30.599Z"
   },
   {
    "duration": 99,
    "start_time": "2023-07-24T03:35:12.760Z"
   },
   {
    "duration": 1995,
    "start_time": "2023-07-24T03:35:34.203Z"
   },
   {
    "duration": 20,
    "start_time": "2023-07-24T03:39:04.626Z"
   },
   {
    "duration": 29,
    "start_time": "2023-07-24T03:39:09.969Z"
   },
   {
    "duration": 100,
    "start_time": "2023-07-24T03:41:07.258Z"
   },
   {
    "duration": 6,
    "start_time": "2023-07-24T03:44:10.393Z"
   },
   {
    "duration": 10,
    "start_time": "2023-07-24T03:44:18.992Z"
   },
   {
    "duration": 761,
    "start_time": "2023-07-24T03:44:58.912Z"
   },
   {
    "duration": 273,
    "start_time": "2023-07-24T03:45:11.757Z"
   },
   {
    "duration": 733,
    "start_time": "2023-07-24T03:45:17.823Z"
   },
   {
    "duration": 301,
    "start_time": "2023-07-24T03:45:36.824Z"
   },
   {
    "duration": 321,
    "start_time": "2023-07-24T03:49:13.708Z"
   },
   {
    "duration": 3,
    "start_time": "2023-07-24T03:49:48.275Z"
   },
   {
    "duration": 457,
    "start_time": "2023-07-24T03:49:59.023Z"
   },
   {
    "duration": 293,
    "start_time": "2023-07-24T03:50:06.954Z"
   },
   {
    "duration": 760,
    "start_time": "2023-07-24T03:50:13.238Z"
   },
   {
    "duration": 336,
    "start_time": "2023-07-24T03:51:25.488Z"
   },
   {
    "duration": 2692,
    "start_time": "2023-07-24T03:51:46.754Z"
   },
   {
    "duration": 2636,
    "start_time": "2023-07-24T03:52:14.071Z"
   },
   {
    "duration": 327,
    "start_time": "2023-07-24T03:52:25.454Z"
   },
   {
    "duration": 317,
    "start_time": "2023-07-24T03:57:21.691Z"
   },
   {
    "duration": 304,
    "start_time": "2023-07-24T04:07:21.702Z"
   },
   {
    "duration": 157,
    "start_time": "2023-07-24T04:07:37.347Z"
   },
   {
    "duration": 169,
    "start_time": "2023-07-24T04:08:18.600Z"
   },
   {
    "duration": 176,
    "start_time": "2023-07-24T04:11:13.275Z"
   },
   {
    "duration": 12,
    "start_time": "2023-07-24T04:16:35.892Z"
   },
   {
    "duration": 0,
    "start_time": "2023-07-24T04:18:16.699Z"
   },
   {
    "duration": 2351,
    "start_time": "2023-07-24T04:18:18.911Z"
   },
   {
    "duration": 159,
    "start_time": "2023-07-24T04:18:42.945Z"
   },
   {
    "duration": 217,
    "start_time": "2023-07-24T04:19:50.889Z"
   },
   {
    "duration": 20,
    "start_time": "2023-07-24T04:23:34.712Z"
   },
   {
    "duration": 21,
    "start_time": "2023-07-24T04:23:41.411Z"
   },
   {
    "duration": 19,
    "start_time": "2023-07-24T04:25:31.112Z"
   },
   {
    "duration": 26,
    "start_time": "2023-07-24T04:25:37.405Z"
   },
   {
    "duration": 137,
    "start_time": "2023-07-24T04:27:10.249Z"
   },
   {
    "duration": 148,
    "start_time": "2023-07-24T04:27:42.806Z"
   },
   {
    "duration": 171,
    "start_time": "2023-07-24T04:29:11.845Z"
   },
   {
    "duration": 141,
    "start_time": "2023-07-24T04:32:24.737Z"
   },
   {
    "duration": 299,
    "start_time": "2023-07-24T04:34:52.050Z"
   },
   {
    "duration": 184,
    "start_time": "2023-07-24T04:35:11.193Z"
   },
   {
    "duration": 298,
    "start_time": "2023-07-24T04:35:17.577Z"
   },
   {
    "duration": 235,
    "start_time": "2023-07-24T04:36:16.350Z"
   },
   {
    "duration": 290,
    "start_time": "2023-07-24T04:36:26.675Z"
   },
   {
    "duration": 283,
    "start_time": "2023-07-24T04:36:41.377Z"
   },
   {
    "duration": 239,
    "start_time": "2023-07-24T04:37:15.766Z"
   },
   {
    "duration": 455,
    "start_time": "2023-07-24T04:37:24.792Z"
   },
   {
    "duration": 299,
    "start_time": "2023-07-24T04:37:30.792Z"
   },
   {
    "duration": 6,
    "start_time": "2023-07-24T04:38:21.600Z"
   },
   {
    "duration": 9,
    "start_time": "2023-07-24T04:38:24.078Z"
   },
   {
    "duration": 293,
    "start_time": "2023-07-24T04:39:11.377Z"
   },
   {
    "duration": 150,
    "start_time": "2023-07-24T04:39:34.802Z"
   },
   {
    "duration": 164,
    "start_time": "2023-07-24T04:40:26.803Z"
   },
   {
    "duration": 166,
    "start_time": "2023-07-24T04:40:52.671Z"
   },
   {
    "duration": 344,
    "start_time": "2023-07-24T04:41:02.285Z"
   },
   {
    "duration": 413,
    "start_time": "2023-07-24T04:41:25.279Z"
   },
   {
    "duration": 408,
    "start_time": "2023-07-24T04:42:20.289Z"
   },
   {
    "duration": 309,
    "start_time": "2023-07-24T04:42:55.885Z"
   },
   {
    "duration": 458,
    "start_time": "2023-07-24T04:43:12.988Z"
   },
   {
    "duration": 269,
    "start_time": "2023-07-24T04:43:22.434Z"
   },
   {
    "duration": 315,
    "start_time": "2023-07-24T04:48:33.040Z"
   },
   {
    "duration": 468,
    "start_time": "2023-07-24T04:49:36.580Z"
   },
   {
    "duration": 17,
    "start_time": "2023-07-24T05:47:09.174Z"
   },
   {
    "duration": 120,
    "start_time": "2023-07-24T05:47:21.907Z"
   },
   {
    "duration": 245,
    "start_time": "2023-07-24T05:47:53.008Z"
   },
   {
    "duration": 133,
    "start_time": "2023-07-24T05:48:02.666Z"
   },
   {
    "duration": 131,
    "start_time": "2023-07-24T05:48:18.971Z"
   },
   {
    "duration": 222,
    "start_time": "2023-07-24T05:49:33.051Z"
   },
   {
    "duration": 125,
    "start_time": "2023-07-24T05:50:31.172Z"
   },
   {
    "duration": 21,
    "start_time": "2023-07-24T05:51:09.955Z"
   },
   {
    "duration": 16,
    "start_time": "2023-07-24T05:51:25.775Z"
   },
   {
    "duration": 134,
    "start_time": "2023-07-24T05:51:32.593Z"
   },
   {
    "duration": 226,
    "start_time": "2023-07-24T05:52:27.807Z"
   },
   {
    "duration": 175,
    "start_time": "2023-07-24T05:52:39.767Z"
   },
   {
    "duration": 133,
    "start_time": "2023-07-24T05:53:21.454Z"
   },
   {
    "duration": 126,
    "start_time": "2023-07-24T05:53:25.896Z"
   },
   {
    "duration": 156,
    "start_time": "2023-07-24T05:54:58.086Z"
   },
   {
    "duration": 146,
    "start_time": "2023-07-24T05:55:05.998Z"
   },
   {
    "duration": 132,
    "start_time": "2023-07-24T05:56:03.294Z"
   },
   {
    "duration": 119,
    "start_time": "2023-07-24T05:56:10.182Z"
   },
   {
    "duration": 132,
    "start_time": "2023-07-24T05:57:53.850Z"
   },
   {
    "duration": 17,
    "start_time": "2023-07-24T05:58:31.246Z"
   },
   {
    "duration": 178,
    "start_time": "2023-07-24T06:03:36.905Z"
   },
   {
    "duration": 9,
    "start_time": "2023-07-24T06:05:47.954Z"
   },
   {
    "duration": 216,
    "start_time": "2023-07-24T06:07:25.839Z"
   },
   {
    "duration": 210,
    "start_time": "2023-07-24T06:08:14.292Z"
   },
   {
    "duration": 228,
    "start_time": "2023-07-24T06:08:18.830Z"
   },
   {
    "duration": 231,
    "start_time": "2023-07-24T06:08:39.359Z"
   },
   {
    "duration": 155,
    "start_time": "2023-07-24T06:09:17.567Z"
   },
   {
    "duration": 125,
    "start_time": "2023-07-24T06:09:35.854Z"
   },
   {
    "duration": 9,
    "start_time": "2023-07-24T06:10:24.466Z"
   },
   {
    "duration": 2208,
    "start_time": "2023-07-24T06:10:37.598Z"
   },
   {
    "duration": 234,
    "start_time": "2023-07-24T06:10:51.271Z"
   },
   {
    "duration": 211,
    "start_time": "2023-07-24T06:11:37.031Z"
   },
   {
    "duration": 729,
    "start_time": "2023-07-24T06:12:09.155Z"
   },
   {
    "duration": 361,
    "start_time": "2023-07-24T06:12:34.200Z"
   },
   {
    "duration": 423,
    "start_time": "2023-07-24T06:14:06.966Z"
   },
   {
    "duration": 281,
    "start_time": "2023-07-24T06:14:39.500Z"
   },
   {
    "duration": 365,
    "start_time": "2023-07-24T06:16:24.988Z"
   },
   {
    "duration": 363,
    "start_time": "2023-07-24T06:18:28.058Z"
   },
   {
    "duration": 254,
    "start_time": "2023-07-24T06:19:36.203Z"
   },
   {
    "duration": 365,
    "start_time": "2023-07-24T06:19:52.458Z"
   },
   {
    "duration": 353,
    "start_time": "2023-07-24T06:20:34.316Z"
   },
   {
    "duration": 341,
    "start_time": "2023-07-24T06:20:39.250Z"
   },
   {
    "duration": 1328,
    "start_time": "2023-07-24T06:25:44.889Z"
   },
   {
    "duration": 77,
    "start_time": "2023-07-24T06:25:46.219Z"
   },
   {
    "duration": 18,
    "start_time": "2023-07-24T06:25:46.298Z"
   },
   {
    "duration": 7,
    "start_time": "2023-07-24T06:25:46.326Z"
   },
   {
    "duration": 16,
    "start_time": "2023-07-24T06:25:46.335Z"
   },
   {
    "duration": 10,
    "start_time": "2023-07-24T06:25:46.353Z"
   },
   {
    "duration": 11,
    "start_time": "2023-07-24T06:25:46.365Z"
   },
   {
    "duration": 4,
    "start_time": "2023-07-24T06:25:46.377Z"
   },
   {
    "duration": 12,
    "start_time": "2023-07-24T06:25:46.383Z"
   },
   {
    "duration": 23,
    "start_time": "2023-07-24T06:25:46.414Z"
   },
   {
    "duration": 6,
    "start_time": "2023-07-24T06:25:46.439Z"
   },
   {
    "duration": 17,
    "start_time": "2023-07-24T06:25:46.451Z"
   },
   {
    "duration": 416,
    "start_time": "2023-07-24T06:25:46.470Z"
   },
   {
    "duration": 353,
    "start_time": "2023-07-24T06:25:46.888Z"
   },
   {
    "duration": 11,
    "start_time": "2023-07-24T06:25:47.243Z"
   },
   {
    "duration": 232,
    "start_time": "2023-07-24T06:25:47.257Z"
   },
   {
    "duration": 270,
    "start_time": "2023-07-24T06:25:47.491Z"
   },
   {
    "duration": 226,
    "start_time": "2023-07-24T06:25:47.763Z"
   },
   {
    "duration": 253,
    "start_time": "2023-07-24T06:25:47.991Z"
   },
   {
    "duration": 331,
    "start_time": "2023-07-24T06:25:48.250Z"
   },
   {
    "duration": 226,
    "start_time": "2023-07-24T06:25:48.584Z"
   },
   {
    "duration": 8,
    "start_time": "2023-07-24T06:25:48.814Z"
   },
   {
    "duration": 236,
    "start_time": "2023-07-24T06:25:48.823Z"
   },
   {
    "duration": 8,
    "start_time": "2023-07-24T06:25:49.061Z"
   },
   {
    "duration": 71,
    "start_time": "2023-07-24T06:25:49.071Z"
   },
   {
    "duration": 164,
    "start_time": "2023-07-24T06:25:49.145Z"
   },
   {
    "duration": 193,
    "start_time": "2023-07-24T06:25:49.310Z"
   },
   {
    "duration": 205,
    "start_time": "2023-07-24T06:25:49.519Z"
   },
   {
    "duration": 398,
    "start_time": "2023-07-24T06:25:49.732Z"
   },
   {
    "duration": 186,
    "start_time": "2023-07-24T06:25:50.132Z"
   },
   {
    "duration": 154,
    "start_time": "2023-07-24T06:25:50.320Z"
   },
   {
    "duration": 15,
    "start_time": "2023-07-24T06:25:50.475Z"
   },
   {
    "duration": 38,
    "start_time": "2023-07-24T06:25:50.492Z"
   },
   {
    "duration": 26,
    "start_time": "2023-07-24T06:25:50.532Z"
   },
   {
    "duration": 22,
    "start_time": "2023-07-24T06:25:50.560Z"
   },
   {
    "duration": 217,
    "start_time": "2023-07-24T06:25:50.584Z"
   },
   {
    "duration": 484,
    "start_time": "2023-07-24T06:25:50.803Z"
   },
   {
    "duration": 376,
    "start_time": "2023-07-24T06:25:51.289Z"
   },
   {
    "duration": 362,
    "start_time": "2023-07-24T06:25:51.667Z"
   },
   {
    "duration": 198,
    "start_time": "2023-07-24T06:31:28.947Z"
   },
   {
    "duration": 1476,
    "start_time": "2023-07-24T06:38:27.463Z"
   },
   {
    "duration": 13,
    "start_time": "2023-07-24T06:43:35.258Z"
   },
   {
    "duration": 12,
    "start_time": "2023-07-24T06:43:43.645Z"
   },
   {
    "duration": 14,
    "start_time": "2023-07-24T06:44:54.283Z"
   },
   {
    "duration": 1212,
    "start_time": "2023-07-24T06:45:37.830Z"
   },
   {
    "duration": 1155,
    "start_time": "2023-07-24T06:45:49.242Z"
   },
   {
    "duration": 2450,
    "start_time": "2023-07-24T06:47:19.138Z"
   },
   {
    "duration": 133,
    "start_time": "2023-07-24T06:52:06.035Z"
   },
   {
    "duration": 233,
    "start_time": "2023-07-24T06:54:03.417Z"
   },
   {
    "duration": 232,
    "start_time": "2023-07-24T06:55:04.262Z"
   },
   {
    "duration": 171,
    "start_time": "2023-07-24T06:55:35.781Z"
   },
   {
    "duration": 152,
    "start_time": "2023-07-24T06:56:58.188Z"
   },
   {
    "duration": 147,
    "start_time": "2023-07-24T06:57:54.755Z"
   },
   {
    "duration": 6,
    "start_time": "2023-07-24T08:16:52.417Z"
   },
   {
    "duration": 123,
    "start_time": "2023-07-24T08:22:15.711Z"
   },
   {
    "duration": 153,
    "start_time": "2023-07-24T08:22:55.099Z"
   },
   {
    "duration": 23,
    "start_time": "2023-07-24T08:30:28.579Z"
   },
   {
    "duration": 2077,
    "start_time": "2023-07-24T08:30:43.273Z"
   },
   {
    "duration": 15,
    "start_time": "2023-07-24T08:46:34.124Z"
   },
   {
    "duration": 22,
    "start_time": "2023-07-24T08:46:55.092Z"
   },
   {
    "duration": 326,
    "start_time": "2023-07-24T08:52:17.546Z"
   },
   {
    "duration": 24,
    "start_time": "2023-07-24T08:52:53.450Z"
   },
   {
    "duration": 25,
    "start_time": "2023-07-24T08:54:18.736Z"
   },
   {
    "duration": 22,
    "start_time": "2023-07-24T08:55:07.216Z"
   },
   {
    "duration": 12,
    "start_time": "2023-07-24T08:55:52.993Z"
   },
   {
    "duration": 20,
    "start_time": "2023-07-24T08:59:21.190Z"
   },
   {
    "duration": 17,
    "start_time": "2023-07-24T09:00:08.920Z"
   },
   {
    "duration": 192,
    "start_time": "2023-07-24T09:00:50.826Z"
   },
   {
    "duration": 15,
    "start_time": "2023-07-24T09:01:04.124Z"
   },
   {
    "duration": 19,
    "start_time": "2023-07-24T09:01:18.025Z"
   },
   {
    "duration": 16,
    "start_time": "2023-07-24T09:01:53.149Z"
   },
   {
    "duration": 11,
    "start_time": "2023-07-24T09:02:46.162Z"
   },
   {
    "duration": 16,
    "start_time": "2023-07-24T09:04:04.530Z"
   },
   {
    "duration": 11,
    "start_time": "2023-07-24T09:04:06.399Z"
   },
   {
    "duration": 16,
    "start_time": "2023-07-24T09:04:34.858Z"
   },
   {
    "duration": 12,
    "start_time": "2023-07-24T09:04:37.955Z"
   },
   {
    "duration": 11,
    "start_time": "2023-07-24T09:06:50.289Z"
   },
   {
    "duration": 14,
    "start_time": "2023-07-24T09:09:59.695Z"
   },
   {
    "duration": 11,
    "start_time": "2023-07-24T09:10:06.431Z"
   },
   {
    "duration": 14,
    "start_time": "2023-07-24T09:16:32.524Z"
   },
   {
    "duration": 15,
    "start_time": "2023-07-24T09:16:42.364Z"
   },
   {
    "duration": 12,
    "start_time": "2023-07-24T09:16:44.040Z"
   },
   {
    "duration": 13,
    "start_time": "2023-07-24T09:17:32.988Z"
   },
   {
    "duration": 12,
    "start_time": "2023-07-24T09:18:35.021Z"
   },
   {
    "duration": 220,
    "start_time": "2023-07-24T09:26:25.998Z"
   },
   {
    "duration": 1222,
    "start_time": "2023-07-24T09:31:15.796Z"
   },
   {
    "duration": 66,
    "start_time": "2023-07-24T09:31:17.020Z"
   },
   {
    "duration": 14,
    "start_time": "2023-07-24T09:31:17.087Z"
   },
   {
    "duration": 15,
    "start_time": "2023-07-24T09:31:17.103Z"
   },
   {
    "duration": 27,
    "start_time": "2023-07-24T09:31:17.120Z"
   },
   {
    "duration": 42,
    "start_time": "2023-07-24T09:31:17.149Z"
   },
   {
    "duration": 24,
    "start_time": "2023-07-24T09:31:17.193Z"
   },
   {
    "duration": 14,
    "start_time": "2023-07-24T09:31:17.220Z"
   },
   {
    "duration": 41,
    "start_time": "2023-07-24T09:31:17.236Z"
   },
   {
    "duration": 29,
    "start_time": "2023-07-24T09:31:17.279Z"
   },
   {
    "duration": 39,
    "start_time": "2023-07-24T09:31:17.310Z"
   },
   {
    "duration": 31,
    "start_time": "2023-07-24T09:31:17.350Z"
   },
   {
    "duration": 385,
    "start_time": "2023-07-24T09:31:17.383Z"
   },
   {
    "duration": 289,
    "start_time": "2023-07-24T09:31:17.771Z"
   },
   {
    "duration": 8,
    "start_time": "2023-07-24T09:31:18.062Z"
   },
   {
    "duration": 258,
    "start_time": "2023-07-24T09:31:18.071Z"
   },
   {
    "duration": 202,
    "start_time": "2023-07-24T09:31:18.330Z"
   },
   {
    "duration": 206,
    "start_time": "2023-07-24T09:31:18.534Z"
   },
   {
    "duration": 202,
    "start_time": "2023-07-24T09:31:18.742Z"
   },
   {
    "duration": 272,
    "start_time": "2023-07-24T09:31:18.946Z"
   },
   {
    "duration": 197,
    "start_time": "2023-07-24T09:31:19.219Z"
   },
   {
    "duration": 7,
    "start_time": "2023-07-24T09:31:19.417Z"
   },
   {
    "duration": 210,
    "start_time": "2023-07-24T09:31:19.426Z"
   },
   {
    "duration": 10,
    "start_time": "2023-07-24T09:31:19.639Z"
   },
   {
    "duration": 18,
    "start_time": "2023-07-24T09:31:19.651Z"
   },
   {
    "duration": 201,
    "start_time": "2023-07-24T09:31:19.671Z"
   },
   {
    "duration": 172,
    "start_time": "2023-07-24T09:31:19.874Z"
   },
   {
    "duration": 160,
    "start_time": "2023-07-24T09:31:20.048Z"
   },
   {
    "duration": 284,
    "start_time": "2023-07-24T09:31:20.210Z"
   },
   {
    "duration": 165,
    "start_time": "2023-07-24T09:31:20.495Z"
   },
   {
    "duration": 135,
    "start_time": "2023-07-24T09:31:20.662Z"
   },
   {
    "duration": 22,
    "start_time": "2023-07-24T09:31:20.798Z"
   },
   {
    "duration": 58,
    "start_time": "2023-07-24T09:31:20.821Z"
   },
   {
    "duration": 36,
    "start_time": "2023-07-24T09:31:20.881Z"
   },
   {
    "duration": 49,
    "start_time": "2023-07-24T09:31:20.919Z"
   },
   {
    "duration": 195,
    "start_time": "2023-07-24T09:31:20.970Z"
   },
   {
    "duration": 399,
    "start_time": "2023-07-24T09:31:21.167Z"
   },
   {
    "duration": 323,
    "start_time": "2023-07-24T09:31:21.568Z"
   },
   {
    "duration": 292,
    "start_time": "2023-07-24T09:31:21.893Z"
   },
   {
    "duration": 138,
    "start_time": "2023-07-24T09:31:22.187Z"
   },
   {
    "duration": 143,
    "start_time": "2023-07-24T09:31:22.329Z"
   },
   {
    "duration": 141,
    "start_time": "2023-07-24T09:31:22.474Z"
   },
   {
    "duration": 133,
    "start_time": "2023-07-24T09:31:22.616Z"
   },
   {
    "duration": 0,
    "start_time": "2023-07-24T09:31:22.750Z"
   },
   {
    "duration": 0,
    "start_time": "2023-07-24T09:31:22.752Z"
   },
   {
    "duration": 0,
    "start_time": "2023-07-24T09:31:22.752Z"
   },
   {
    "duration": 0,
    "start_time": "2023-07-24T09:31:22.753Z"
   },
   {
    "duration": 0,
    "start_time": "2023-07-24T09:31:22.754Z"
   },
   {
    "duration": 1202,
    "start_time": "2023-07-24T09:31:57.025Z"
   },
   {
    "duration": 67,
    "start_time": "2023-07-24T09:31:58.230Z"
   },
   {
    "duration": 14,
    "start_time": "2023-07-24T09:31:58.299Z"
   },
   {
    "duration": 3,
    "start_time": "2023-07-24T09:31:58.316Z"
   },
   {
    "duration": 37,
    "start_time": "2023-07-24T09:31:58.321Z"
   },
   {
    "duration": 35,
    "start_time": "2023-07-24T09:31:58.360Z"
   },
   {
    "duration": 36,
    "start_time": "2023-07-24T09:31:58.397Z"
   },
   {
    "duration": 8,
    "start_time": "2023-07-24T09:31:58.435Z"
   },
   {
    "duration": 27,
    "start_time": "2023-07-24T09:31:58.444Z"
   },
   {
    "duration": 21,
    "start_time": "2023-07-24T09:31:58.474Z"
   },
   {
    "duration": 5,
    "start_time": "2023-07-24T09:31:58.497Z"
   },
   {
    "duration": 22,
    "start_time": "2023-07-24T09:31:58.504Z"
   },
   {
    "duration": 343,
    "start_time": "2023-07-24T09:31:58.528Z"
   },
   {
    "duration": 294,
    "start_time": "2023-07-24T09:31:58.873Z"
   },
   {
    "duration": 7,
    "start_time": "2023-07-24T09:31:59.169Z"
   },
   {
    "duration": 207,
    "start_time": "2023-07-24T09:31:59.178Z"
   },
   {
    "duration": 205,
    "start_time": "2023-07-24T09:31:59.387Z"
   },
   {
    "duration": 261,
    "start_time": "2023-07-24T09:31:59.594Z"
   },
   {
    "duration": 213,
    "start_time": "2023-07-24T09:31:59.858Z"
   },
   {
    "duration": 284,
    "start_time": "2023-07-24T09:32:00.073Z"
   },
   {
    "duration": 218,
    "start_time": "2023-07-24T09:32:00.359Z"
   },
   {
    "duration": 8,
    "start_time": "2023-07-24T09:32:00.578Z"
   },
   {
    "duration": 208,
    "start_time": "2023-07-24T09:32:00.587Z"
   },
   {
    "duration": 16,
    "start_time": "2023-07-24T09:32:00.797Z"
   },
   {
    "duration": 65,
    "start_time": "2023-07-24T09:32:00.815Z"
   },
   {
    "duration": 193,
    "start_time": "2023-07-24T09:32:00.881Z"
   },
   {
    "duration": 179,
    "start_time": "2023-07-24T09:32:01.076Z"
   },
   {
    "duration": 174,
    "start_time": "2023-07-24T09:32:01.259Z"
   },
   {
    "duration": 316,
    "start_time": "2023-07-24T09:32:01.435Z"
   },
   {
    "duration": 162,
    "start_time": "2023-07-24T09:32:01.753Z"
   },
   {
    "duration": 399,
    "start_time": "2023-07-24T09:32:01.917Z"
   },
   {
    "duration": 16,
    "start_time": "2023-07-24T09:32:02.318Z"
   },
   {
    "duration": 96,
    "start_time": "2023-07-24T09:32:02.336Z"
   },
   {
    "duration": 37,
    "start_time": "2023-07-24T09:32:02.434Z"
   },
   {
    "duration": 38,
    "start_time": "2023-07-24T09:32:02.473Z"
   },
   {
    "duration": 257,
    "start_time": "2023-07-24T09:32:02.515Z"
   },
   {
    "duration": 403,
    "start_time": "2023-07-24T09:32:02.773Z"
   },
   {
    "duration": 322,
    "start_time": "2023-07-24T09:32:03.178Z"
   },
   {
    "duration": 318,
    "start_time": "2023-07-24T09:32:03.502Z"
   },
   {
    "duration": 171,
    "start_time": "2023-07-24T09:32:03.822Z"
   },
   {
    "duration": 135,
    "start_time": "2023-07-24T09:32:03.995Z"
   },
   {
    "duration": 155,
    "start_time": "2023-07-24T09:32:04.132Z"
   },
   {
    "duration": 24,
    "start_time": "2023-07-24T09:32:04.289Z"
   },
   {
    "duration": 38,
    "start_time": "2023-07-24T09:32:04.315Z"
   },
   {
    "duration": 42,
    "start_time": "2023-07-24T09:32:04.355Z"
   },
   {
    "duration": 32,
    "start_time": "2023-07-24T09:32:04.399Z"
   },
   {
    "duration": 122,
    "start_time": "2023-07-24T09:34:21.562Z"
   },
   {
    "duration": 1261,
    "start_time": "2023-07-24T09:40:13.538Z"
   },
   {
    "duration": 83,
    "start_time": "2023-07-24T09:40:14.801Z"
   },
   {
    "duration": 15,
    "start_time": "2023-07-24T09:40:14.886Z"
   },
   {
    "duration": 19,
    "start_time": "2023-07-24T09:40:14.903Z"
   },
   {
    "duration": 31,
    "start_time": "2023-07-24T09:40:14.924Z"
   },
   {
    "duration": 14,
    "start_time": "2023-07-24T09:40:14.957Z"
   },
   {
    "duration": 11,
    "start_time": "2023-07-24T09:40:14.973Z"
   },
   {
    "duration": 4,
    "start_time": "2023-07-24T09:40:14.986Z"
   },
   {
    "duration": 49,
    "start_time": "2023-07-24T09:40:14.992Z"
   },
   {
    "duration": 39,
    "start_time": "2023-07-24T09:40:15.044Z"
   },
   {
    "duration": 22,
    "start_time": "2023-07-24T09:40:15.085Z"
   },
   {
    "duration": 23,
    "start_time": "2023-07-24T09:40:15.109Z"
   },
   {
    "duration": 367,
    "start_time": "2023-07-24T09:40:15.134Z"
   },
   {
    "duration": 300,
    "start_time": "2023-07-24T09:40:15.503Z"
   },
   {
    "duration": 14,
    "start_time": "2023-07-24T09:40:15.805Z"
   },
   {
    "duration": 229,
    "start_time": "2023-07-24T09:40:15.820Z"
   },
   {
    "duration": 218,
    "start_time": "2023-07-24T09:40:16.050Z"
   },
   {
    "duration": 207,
    "start_time": "2023-07-24T09:40:16.270Z"
   },
   {
    "duration": 213,
    "start_time": "2023-07-24T09:40:16.479Z"
   },
   {
    "duration": 287,
    "start_time": "2023-07-24T09:40:16.694Z"
   },
   {
    "duration": 202,
    "start_time": "2023-07-24T09:40:16.983Z"
   },
   {
    "duration": 7,
    "start_time": "2023-07-24T09:40:17.187Z"
   },
   {
    "duration": 206,
    "start_time": "2023-07-24T09:40:17.195Z"
   },
   {
    "duration": 11,
    "start_time": "2023-07-24T09:40:17.403Z"
   },
   {
    "duration": 10,
    "start_time": "2023-07-24T09:40:17.416Z"
   },
   {
    "duration": 170,
    "start_time": "2023-07-24T09:40:17.428Z"
   },
   {
    "duration": 174,
    "start_time": "2023-07-24T09:40:17.600Z"
   },
   {
    "duration": 190,
    "start_time": "2023-07-24T09:40:17.778Z"
   },
   {
    "duration": 307,
    "start_time": "2023-07-24T09:40:17.970Z"
   },
   {
    "duration": 169,
    "start_time": "2023-07-24T09:40:18.279Z"
   },
   {
    "duration": 153,
    "start_time": "2023-07-24T09:40:18.450Z"
   },
   {
    "duration": 20,
    "start_time": "2023-07-24T09:40:18.605Z"
   },
   {
    "duration": 89,
    "start_time": "2023-07-24T09:40:18.627Z"
   },
   {
    "duration": 279,
    "start_time": "2023-07-24T09:40:18.718Z"
   },
   {
    "duration": 112,
    "start_time": "2023-07-24T09:40:18.999Z"
   },
   {
    "duration": 213,
    "start_time": "2023-07-24T09:40:19.112Z"
   },
   {
    "duration": 482,
    "start_time": "2023-07-24T09:40:19.327Z"
   },
   {
    "duration": 369,
    "start_time": "2023-07-24T09:40:19.813Z"
   },
   {
    "duration": 318,
    "start_time": "2023-07-24T09:40:20.183Z"
   },
   {
    "duration": 143,
    "start_time": "2023-07-24T09:40:20.503Z"
   },
   {
    "duration": 153,
    "start_time": "2023-07-24T09:40:20.647Z"
   },
   {
    "duration": 143,
    "start_time": "2023-07-24T09:40:20.802Z"
   },
   {
    "duration": 16,
    "start_time": "2023-07-24T09:40:20.947Z"
   },
   {
    "duration": 43,
    "start_time": "2023-07-24T09:40:20.965Z"
   },
   {
    "duration": 19,
    "start_time": "2023-07-24T09:40:21.010Z"
   },
   {
    "duration": 13,
    "start_time": "2023-07-24T09:40:21.031Z"
   },
   {
    "duration": 3,
    "start_time": "2023-07-24T09:44:11.963Z"
   },
   {
    "duration": 1250,
    "start_time": "2023-07-24T11:40:21.819Z"
   },
   {
    "duration": 68,
    "start_time": "2023-07-24T11:40:23.071Z"
   },
   {
    "duration": 15,
    "start_time": "2023-07-24T11:40:23.140Z"
   },
   {
    "duration": 39,
    "start_time": "2023-07-24T11:40:23.158Z"
   },
   {
    "duration": 25,
    "start_time": "2023-07-24T11:40:23.199Z"
   },
   {
    "duration": 23,
    "start_time": "2023-07-24T11:40:23.226Z"
   },
   {
    "duration": 21,
    "start_time": "2023-07-24T11:40:23.251Z"
   },
   {
    "duration": 10,
    "start_time": "2023-07-24T11:40:23.274Z"
   },
   {
    "duration": 14,
    "start_time": "2023-07-24T11:40:23.285Z"
   },
   {
    "duration": 37,
    "start_time": "2023-07-24T11:40:23.302Z"
   },
   {
    "duration": 5,
    "start_time": "2023-07-24T11:40:23.342Z"
   },
   {
    "duration": 28,
    "start_time": "2023-07-24T11:40:23.348Z"
   },
   {
    "duration": 383,
    "start_time": "2023-07-24T11:40:23.378Z"
   },
   {
    "duration": 313,
    "start_time": "2023-07-24T11:40:23.763Z"
   },
   {
    "duration": 8,
    "start_time": "2023-07-24T11:40:24.077Z"
   },
   {
    "duration": 227,
    "start_time": "2023-07-24T11:40:24.086Z"
   },
   {
    "duration": 205,
    "start_time": "2023-07-24T11:40:24.315Z"
   },
   {
    "duration": 201,
    "start_time": "2023-07-24T11:40:24.522Z"
   },
   {
    "duration": 196,
    "start_time": "2023-07-24T11:40:24.725Z"
   },
   {
    "duration": 261,
    "start_time": "2023-07-24T11:40:24.923Z"
   },
   {
    "duration": 182,
    "start_time": "2023-07-24T11:40:25.186Z"
   },
   {
    "duration": 6,
    "start_time": "2023-07-24T11:40:25.369Z"
   },
   {
    "duration": 190,
    "start_time": "2023-07-24T11:40:25.376Z"
   },
   {
    "duration": 7,
    "start_time": "2023-07-24T11:40:25.567Z"
   },
   {
    "duration": 21,
    "start_time": "2023-07-24T11:40:25.575Z"
   },
   {
    "duration": 169,
    "start_time": "2023-07-24T11:40:25.597Z"
   },
   {
    "duration": 150,
    "start_time": "2023-07-24T11:40:25.767Z"
   },
   {
    "duration": 146,
    "start_time": "2023-07-24T11:40:25.920Z"
   },
   {
    "duration": 257,
    "start_time": "2023-07-24T11:40:26.067Z"
   },
   {
    "duration": 138,
    "start_time": "2023-07-24T11:40:26.325Z"
   },
   {
    "duration": 127,
    "start_time": "2023-07-24T11:40:26.464Z"
   },
   {
    "duration": 23,
    "start_time": "2023-07-24T11:40:26.593Z"
   },
   {
    "duration": 26,
    "start_time": "2023-07-24T11:40:26.618Z"
   },
   {
    "duration": 29,
    "start_time": "2023-07-24T11:40:26.646Z"
   },
   {
    "duration": 35,
    "start_time": "2023-07-24T11:40:26.676Z"
   },
   {
    "duration": 191,
    "start_time": "2023-07-24T11:40:26.713Z"
   },
   {
    "duration": 361,
    "start_time": "2023-07-24T11:40:26.906Z"
   },
   {
    "duration": 283,
    "start_time": "2023-07-24T11:40:27.269Z"
   },
   {
    "duration": 279,
    "start_time": "2023-07-24T11:40:27.554Z"
   },
   {
    "duration": 115,
    "start_time": "2023-07-24T11:40:27.834Z"
   },
   {
    "duration": 129,
    "start_time": "2023-07-24T11:40:27.951Z"
   },
   {
    "duration": 116,
    "start_time": "2023-07-24T11:40:28.082Z"
   },
   {
    "duration": 27,
    "start_time": "2023-07-24T11:40:28.200Z"
   },
   {
    "duration": 90,
    "start_time": "2023-07-24T11:40:28.228Z"
   },
   {
    "duration": 48,
    "start_time": "2023-07-24T11:40:28.320Z"
   },
   {
    "duration": 18,
    "start_time": "2023-07-24T11:40:28.370Z"
   },
   {
    "duration": 42,
    "start_time": "2023-07-24T17:26:08.041Z"
   },
   {
    "duration": 2274,
    "start_time": "2023-07-24T17:26:16.564Z"
   },
   {
    "duration": 174,
    "start_time": "2023-07-24T17:26:18.841Z"
   },
   {
    "duration": 19,
    "start_time": "2023-07-24T17:26:19.017Z"
   },
   {
    "duration": 75,
    "start_time": "2023-07-24T17:26:19.039Z"
   },
   {
    "duration": 128,
    "start_time": "2023-07-24T17:26:19.116Z"
   },
   {
    "duration": 75,
    "start_time": "2023-07-24T17:26:19.248Z"
   },
   {
    "duration": 91,
    "start_time": "2023-07-24T17:26:19.325Z"
   },
   {
    "duration": 7,
    "start_time": "2023-07-24T17:26:19.418Z"
   },
   {
    "duration": 27,
    "start_time": "2023-07-24T17:26:19.427Z"
   },
   {
    "duration": 67,
    "start_time": "2023-07-24T17:26:19.459Z"
   },
   {
    "duration": 6,
    "start_time": "2023-07-24T17:26:19.533Z"
   },
   {
    "duration": 90,
    "start_time": "2023-07-24T17:26:19.541Z"
   },
   {
    "duration": 22,
    "start_time": "2023-07-24T17:26:19.635Z"
   },
   {
    "duration": 980,
    "start_time": "2023-07-24T17:26:19.661Z"
   },
   {
    "duration": 605,
    "start_time": "2023-07-24T17:26:20.643Z"
   },
   {
    "duration": 10,
    "start_time": "2023-07-24T17:26:21.251Z"
   },
   {
    "duration": 348,
    "start_time": "2023-07-24T17:26:21.313Z"
   },
   {
    "duration": 491,
    "start_time": "2023-07-24T17:26:21.665Z"
   },
   {
    "duration": 382,
    "start_time": "2023-07-24T17:26:22.158Z"
   },
   {
    "duration": 321,
    "start_time": "2023-07-24T17:26:22.542Z"
   },
   {
    "duration": 410,
    "start_time": "2023-07-24T17:26:22.865Z"
   },
   {
    "duration": 353,
    "start_time": "2023-07-24T17:26:23.277Z"
   },
   {
    "duration": 9,
    "start_time": "2023-07-24T17:26:23.639Z"
   },
   {
    "duration": 420,
    "start_time": "2023-07-24T17:26:23.651Z"
   },
   {
    "duration": 10,
    "start_time": "2023-07-24T17:26:24.073Z"
   },
   {
    "duration": 48,
    "start_time": "2023-07-24T17:26:24.085Z"
   },
   {
    "duration": 293,
    "start_time": "2023-07-24T17:26:24.138Z"
   },
   {
    "duration": 214,
    "start_time": "2023-07-24T17:26:24.437Z"
   },
   {
    "duration": 267,
    "start_time": "2023-07-24T17:26:24.653Z"
   },
   {
    "duration": 371,
    "start_time": "2023-07-24T17:26:24.924Z"
   },
   {
    "duration": 439,
    "start_time": "2023-07-24T17:26:25.297Z"
   },
   {
    "duration": 383,
    "start_time": "2023-07-24T17:26:25.738Z"
   },
   {
    "duration": 27,
    "start_time": "2023-07-24T17:26:26.123Z"
   },
   {
    "duration": 136,
    "start_time": "2023-07-24T17:26:26.152Z"
   },
   {
    "duration": 40,
    "start_time": "2023-07-24T17:26:26.315Z"
   },
   {
    "duration": 76,
    "start_time": "2023-07-24T17:26:26.357Z"
   },
   {
    "duration": 616,
    "start_time": "2023-07-24T17:26:26.437Z"
   },
   {
    "duration": 1034,
    "start_time": "2023-07-24T17:26:27.055Z"
   },
   {
    "duration": 710,
    "start_time": "2023-07-24T17:26:28.117Z"
   },
   {
    "duration": 428,
    "start_time": "2023-07-24T17:26:28.830Z"
   },
   {
    "duration": 275,
    "start_time": "2023-07-24T17:26:29.261Z"
   },
   {
    "duration": 255,
    "start_time": "2023-07-24T17:26:29.539Z"
   },
   {
    "duration": 349,
    "start_time": "2023-07-24T17:26:29.797Z"
   },
   {
    "duration": 80,
    "start_time": "2023-07-24T17:26:30.148Z"
   },
   {
    "duration": 16,
    "start_time": "2023-07-24T17:26:30.234Z"
   },
   {
    "duration": 81,
    "start_time": "2023-07-24T17:26:30.252Z"
   },
   {
    "duration": 16,
    "start_time": "2023-07-24T17:26:30.336Z"
   },
   {
    "duration": 16,
    "start_time": "2023-07-24T17:49:44.275Z"
   },
   {
    "duration": 22,
    "start_time": "2023-07-24T17:50:18.884Z"
   },
   {
    "duration": 31,
    "start_time": "2023-07-24T17:50:34.688Z"
   },
   {
    "duration": 1206,
    "start_time": "2023-07-24T17:56:00.739Z"
   },
   {
    "duration": 93,
    "start_time": "2023-07-24T17:56:01.947Z"
   },
   {
    "duration": 25,
    "start_time": "2023-07-24T17:56:02.042Z"
   },
   {
    "duration": 61,
    "start_time": "2023-07-24T17:56:02.069Z"
   },
   {
    "duration": 53,
    "start_time": "2023-07-24T17:56:02.133Z"
   },
   {
    "duration": 37,
    "start_time": "2023-07-24T17:56:02.188Z"
   },
   {
    "duration": 15,
    "start_time": "2023-07-24T17:56:02.227Z"
   },
   {
    "duration": 235,
    "start_time": "2023-07-24T17:56:02.244Z"
   },
   {
    "duration": 9,
    "start_time": "2023-07-24T17:56:02.482Z"
   },
   {
    "duration": 17,
    "start_time": "2023-07-24T17:56:02.494Z"
   },
   {
    "duration": 27,
    "start_time": "2023-07-24T17:56:02.513Z"
   },
   {
    "duration": 27,
    "start_time": "2023-07-24T17:56:02.542Z"
   },
   {
    "duration": 24,
    "start_time": "2023-07-24T17:56:02.571Z"
   },
   {
    "duration": 32,
    "start_time": "2023-07-24T17:56:02.600Z"
   },
   {
    "duration": 31,
    "start_time": "2023-07-24T17:56:02.634Z"
   },
   {
    "duration": 327,
    "start_time": "2023-07-24T17:56:02.667Z"
   },
   {
    "duration": 294,
    "start_time": "2023-07-24T17:56:02.995Z"
   },
   {
    "duration": 9,
    "start_time": "2023-07-24T17:56:03.291Z"
   },
   {
    "duration": 211,
    "start_time": "2023-07-24T17:56:03.301Z"
   },
   {
    "duration": 252,
    "start_time": "2023-07-24T17:56:03.514Z"
   },
   {
    "duration": 210,
    "start_time": "2023-07-24T17:56:03.767Z"
   },
   {
    "duration": 279,
    "start_time": "2023-07-24T17:56:03.979Z"
   },
   {
    "duration": 197,
    "start_time": "2023-07-24T17:56:04.260Z"
   },
   {
    "duration": 184,
    "start_time": "2023-07-24T17:56:04.459Z"
   },
   {
    "duration": 8,
    "start_time": "2023-07-24T17:56:04.644Z"
   },
   {
    "duration": 248,
    "start_time": "2023-07-24T17:56:04.653Z"
   },
   {
    "duration": 17,
    "start_time": "2023-07-24T17:56:04.903Z"
   },
   {
    "duration": 40,
    "start_time": "2023-07-24T17:56:04.929Z"
   },
   {
    "duration": 266,
    "start_time": "2023-07-24T17:56:04.971Z"
   },
   {
    "duration": 147,
    "start_time": "2023-07-24T17:56:05.240Z"
   },
   {
    "duration": 192,
    "start_time": "2023-07-24T17:56:05.389Z"
   },
   {
    "duration": 303,
    "start_time": "2023-07-24T17:56:05.583Z"
   },
   {
    "duration": 189,
    "start_time": "2023-07-24T17:56:05.889Z"
   },
   {
    "duration": 171,
    "start_time": "2023-07-24T17:56:06.080Z"
   },
   {
    "duration": 16,
    "start_time": "2023-07-24T17:56:06.254Z"
   },
   {
    "duration": 32,
    "start_time": "2023-07-24T17:56:06.274Z"
   },
   {
    "duration": 60,
    "start_time": "2023-07-24T17:56:06.308Z"
   },
   {
    "duration": 19,
    "start_time": "2023-07-24T17:56:06.371Z"
   },
   {
    "duration": 323,
    "start_time": "2023-07-24T17:56:06.392Z"
   },
   {
    "duration": 339,
    "start_time": "2023-07-24T17:56:06.717Z"
   },
   {
    "duration": 347,
    "start_time": "2023-07-24T17:56:07.060Z"
   },
   {
    "duration": 374,
    "start_time": "2023-07-24T17:56:07.413Z"
   },
   {
    "duration": 135,
    "start_time": "2023-07-24T17:56:07.794Z"
   },
   {
    "duration": 189,
    "start_time": "2023-07-24T17:56:07.931Z"
   },
   {
    "duration": 190,
    "start_time": "2023-07-24T17:56:08.122Z"
   },
   {
    "duration": 26,
    "start_time": "2023-07-24T17:56:08.314Z"
   },
   {
    "duration": 56,
    "start_time": "2023-07-24T17:56:08.344Z"
   },
   {
    "duration": 51,
    "start_time": "2023-07-24T17:56:08.402Z"
   },
   {
    "duration": 23,
    "start_time": "2023-07-24T17:56:08.455Z"
   },
   {
    "duration": 30,
    "start_time": "2023-07-24T17:56:08.481Z"
   },
   {
    "duration": 1532,
    "start_time": "2023-07-25T08:32:48.335Z"
   },
   {
    "duration": 121,
    "start_time": "2023-07-25T08:32:49.870Z"
   },
   {
    "duration": 16,
    "start_time": "2023-07-25T08:32:49.992Z"
   },
   {
    "duration": 29,
    "start_time": "2023-07-25T08:32:50.011Z"
   },
   {
    "duration": 52,
    "start_time": "2023-07-25T08:32:50.043Z"
   },
   {
    "duration": 47,
    "start_time": "2023-07-25T08:32:50.097Z"
   },
   {
    "duration": 26,
    "start_time": "2023-07-25T08:32:50.146Z"
   },
   {
    "duration": 244,
    "start_time": "2023-07-25T08:32:50.175Z"
   },
   {
    "duration": 13,
    "start_time": "2023-07-25T08:32:50.421Z"
   },
   {
    "duration": 32,
    "start_time": "2023-07-25T08:32:50.437Z"
   },
   {
    "duration": 50,
    "start_time": "2023-07-25T08:32:50.471Z"
   },
   {
    "duration": 33,
    "start_time": "2023-07-25T08:32:50.523Z"
   },
   {
    "duration": 28,
    "start_time": "2023-07-25T08:32:50.558Z"
   },
   {
    "duration": 47,
    "start_time": "2023-07-25T08:32:50.590Z"
   },
   {
    "duration": 414,
    "start_time": "2023-07-25T08:32:50.639Z"
   },
   {
    "duration": 348,
    "start_time": "2023-07-25T08:32:51.055Z"
   },
   {
    "duration": 11,
    "start_time": "2023-07-25T08:32:51.406Z"
   },
   {
    "duration": 313,
    "start_time": "2023-07-25T08:32:51.420Z"
   },
   {
    "duration": 278,
    "start_time": "2023-07-25T08:32:51.735Z"
   },
   {
    "duration": 259,
    "start_time": "2023-07-25T08:32:52.015Z"
   },
   {
    "duration": 330,
    "start_time": "2023-07-25T08:32:52.278Z"
   },
   {
    "duration": 242,
    "start_time": "2023-07-25T08:32:52.610Z"
   },
   {
    "duration": 223,
    "start_time": "2023-07-25T08:32:52.854Z"
   },
   {
    "duration": 7,
    "start_time": "2023-07-25T08:32:53.079Z"
   },
   {
    "duration": 278,
    "start_time": "2023-07-25T08:32:53.087Z"
   },
   {
    "duration": 10,
    "start_time": "2023-07-25T08:32:53.367Z"
   },
   {
    "duration": 31,
    "start_time": "2023-07-25T08:32:53.379Z"
   },
   {
    "duration": 172,
    "start_time": "2023-07-25T08:32:53.411Z"
   },
   {
    "duration": 175,
    "start_time": "2023-07-25T08:32:53.585Z"
   },
   {
    "duration": 165,
    "start_time": "2023-07-25T08:32:53.763Z"
   },
   {
    "duration": 292,
    "start_time": "2023-07-25T08:32:53.930Z"
   },
   {
    "duration": 171,
    "start_time": "2023-07-25T08:32:54.224Z"
   },
   {
    "duration": 166,
    "start_time": "2023-07-25T08:32:54.397Z"
   },
   {
    "duration": 15,
    "start_time": "2023-07-25T08:32:54.565Z"
   },
   {
    "duration": 35,
    "start_time": "2023-07-25T08:32:54.582Z"
   },
   {
    "duration": 49,
    "start_time": "2023-07-25T08:32:54.619Z"
   },
   {
    "duration": 19,
    "start_time": "2023-07-25T08:32:54.670Z"
   },
   {
    "duration": 309,
    "start_time": "2023-07-25T08:32:54.691Z"
   },
   {
    "duration": 354,
    "start_time": "2023-07-25T08:32:55.001Z"
   },
   {
    "duration": 339,
    "start_time": "2023-07-25T08:32:55.358Z"
   },
   {
    "duration": 326,
    "start_time": "2023-07-25T08:32:55.702Z"
   },
   {
    "duration": 135,
    "start_time": "2023-07-25T08:32:56.030Z"
   },
   {
    "duration": 152,
    "start_time": "2023-07-25T08:32:56.168Z"
   },
   {
    "duration": 145,
    "start_time": "2023-07-25T08:32:56.322Z"
   },
   {
    "duration": 18,
    "start_time": "2023-07-25T08:32:56.469Z"
   },
   {
    "duration": 15,
    "start_time": "2023-07-25T08:32:56.489Z"
   },
   {
    "duration": 14,
    "start_time": "2023-07-25T08:32:56.506Z"
   },
   {
    "duration": 41,
    "start_time": "2023-07-25T08:32:56.522Z"
   },
   {
    "duration": 19,
    "start_time": "2023-07-25T08:32:56.565Z"
   },
   {
    "duration": 4,
    "start_time": "2023-07-25T08:33:42.701Z"
   },
   {
    "duration": 10,
    "start_time": "2023-07-25T08:35:09.901Z"
   },
   {
    "duration": 4,
    "start_time": "2023-07-25T08:35:39.789Z"
   },
   {
    "duration": 65,
    "start_time": "2023-07-25T08:35:41.895Z"
   },
   {
    "duration": 4,
    "start_time": "2023-07-25T08:35:46.706Z"
   },
   {
    "duration": 18,
    "start_time": "2023-07-25T08:35:48.417Z"
   },
   {
    "duration": 11,
    "start_time": "2023-07-25T08:35:51.904Z"
   },
   {
    "duration": 5,
    "start_time": "2023-07-25T08:35:55.500Z"
   },
   {
    "duration": 7,
    "start_time": "2023-07-25T08:35:57.329Z"
   },
   {
    "duration": 24,
    "start_time": "2023-07-25T08:36:00.336Z"
   },
   {
    "duration": 23,
    "start_time": "2023-07-25T08:36:26.520Z"
   },
   {
    "duration": 5,
    "start_time": "2023-07-25T08:41:50.596Z"
   },
   {
    "duration": 6,
    "start_time": "2023-07-25T08:44:33.741Z"
   },
   {
    "duration": 24,
    "start_time": "2023-07-25T08:45:34.388Z"
   },
   {
    "duration": 4,
    "start_time": "2023-07-25T08:48:55.683Z"
   },
   {
    "duration": 5,
    "start_time": "2023-07-25T08:49:16.605Z"
   },
   {
    "duration": 25,
    "start_time": "2023-07-25T08:49:19.347Z"
   },
   {
    "duration": 19,
    "start_time": "2023-07-25T08:50:08.353Z"
   },
   {
    "duration": 69,
    "start_time": "2023-07-25T08:59:06.232Z"
   },
   {
    "duration": 99,
    "start_time": "2023-07-25T08:59:17.485Z"
   },
   {
    "duration": 58,
    "start_time": "2023-07-25T08:59:22.021Z"
   },
   {
    "duration": 55,
    "start_time": "2023-07-25T08:59:42.805Z"
   },
   {
    "duration": 4,
    "start_time": "2023-07-25T08:59:55.041Z"
   },
   {
    "duration": 4,
    "start_time": "2023-07-25T09:00:14.764Z"
   },
   {
    "duration": 4,
    "start_time": "2023-07-25T09:00:44.573Z"
   },
   {
    "duration": 105,
    "start_time": "2023-07-25T09:05:54.095Z"
   },
   {
    "duration": 65,
    "start_time": "2023-07-25T09:06:02.041Z"
   },
   {
    "duration": 64,
    "start_time": "2023-07-25T09:06:05.241Z"
   },
   {
    "duration": 3,
    "start_time": "2023-07-25T09:06:09.562Z"
   },
   {
    "duration": 4,
    "start_time": "2023-07-25T09:06:17.291Z"
   },
   {
    "duration": 5,
    "start_time": "2023-07-25T09:12:37.523Z"
   },
   {
    "duration": 23,
    "start_time": "2023-07-25T09:12:40.061Z"
   },
   {
    "duration": 73,
    "start_time": "2023-07-25T09:14:42.595Z"
   },
   {
    "duration": 107,
    "start_time": "2023-07-25T09:14:54.660Z"
   },
   {
    "duration": 188,
    "start_time": "2023-07-25T09:15:21.732Z"
   },
   {
    "duration": 5,
    "start_time": "2023-07-25T09:16:16.012Z"
   },
   {
    "duration": 16,
    "start_time": "2023-07-25T09:17:45.355Z"
   },
   {
    "duration": 4,
    "start_time": "2023-07-25T09:24:05.022Z"
   },
   {
    "duration": 13,
    "start_time": "2023-07-25T09:25:41.023Z"
   },
   {
    "duration": 8,
    "start_time": "2023-07-25T09:25:58.022Z"
   },
   {
    "duration": 22,
    "start_time": "2023-07-25T09:26:04.721Z"
   },
   {
    "duration": 100,
    "start_time": "2023-07-25T09:28:13.801Z"
   },
   {
    "duration": 8,
    "start_time": "2023-07-25T09:28:26.300Z"
   },
   {
    "duration": 23,
    "start_time": "2023-07-25T09:32:31.351Z"
   },
   {
    "duration": 28,
    "start_time": "2023-07-25T09:32:35.388Z"
   },
   {
    "duration": 30,
    "start_time": "2023-07-25T09:37:09.300Z"
   },
   {
    "duration": 4,
    "start_time": "2023-07-25T09:37:29.994Z"
   },
   {
    "duration": 87,
    "start_time": "2023-07-25T09:37:32.234Z"
   },
   {
    "duration": 19,
    "start_time": "2023-07-25T09:37:35.129Z"
   },
   {
    "duration": 5,
    "start_time": "2023-07-25T09:37:38.385Z"
   },
   {
    "duration": 7,
    "start_time": "2023-07-25T09:37:43.971Z"
   },
   {
    "duration": 10,
    "start_time": "2023-07-25T09:37:48.893Z"
   },
   {
    "duration": 19,
    "start_time": "2023-07-25T09:37:54.297Z"
   },
   {
    "duration": 26,
    "start_time": "2023-07-25T09:37:57.418Z"
   },
   {
    "duration": 40,
    "start_time": "2023-07-25T09:38:03.588Z"
   },
   {
    "duration": 3,
    "start_time": "2023-07-25T09:40:31.946Z"
   },
   {
    "duration": 12,
    "start_time": "2023-07-25T09:40:50.808Z"
   },
   {
    "duration": 10,
    "start_time": "2023-07-25T09:43:40.847Z"
   },
   {
    "duration": 6,
    "start_time": "2023-07-25T09:45:18.741Z"
   },
   {
    "duration": 24,
    "start_time": "2023-07-25T09:45:31.005Z"
   },
   {
    "duration": 75,
    "start_time": "2023-07-26T06:53:45.051Z"
   },
   {
    "duration": 1705,
    "start_time": "2023-07-26T06:53:59.917Z"
   },
   {
    "duration": 284,
    "start_time": "2023-07-26T06:54:02.926Z"
   },
   {
    "duration": 11,
    "start_time": "2023-07-26T06:54:09.988Z"
   },
   {
    "duration": 22,
    "start_time": "2023-07-26T06:54:12.038Z"
   },
   {
    "duration": 12,
    "start_time": "2023-07-26T06:54:14.540Z"
   },
   {
    "duration": 6,
    "start_time": "2023-07-26T06:54:19.389Z"
   },
   {
    "duration": 9,
    "start_time": "2023-07-26T06:54:23.050Z"
   },
   {
    "duration": 18,
    "start_time": "2023-07-26T06:54:25.998Z"
   },
   {
    "duration": 32,
    "start_time": "2023-07-26T06:54:28.097Z"
   },
   {
    "duration": 6,
    "start_time": "2023-07-26T06:54:31.517Z"
   },
   {
    "duration": 16,
    "start_time": "2023-07-26T06:54:34.004Z"
   },
   {
    "duration": 12,
    "start_time": "2023-07-26T06:54:37.429Z"
   },
   {
    "duration": 18,
    "start_time": "2023-07-26T06:54:40.708Z"
   },
   {
    "duration": 7,
    "start_time": "2023-07-26T06:54:45.027Z"
   },
   {
    "duration": 25,
    "start_time": "2023-07-26T06:55:00.318Z"
   },
   {
    "duration": 51,
    "start_time": "2023-07-26T06:55:04.350Z"
   },
   {
    "duration": 128,
    "start_time": "2023-07-26T06:55:06.642Z"
   },
   {
    "duration": 10,
    "start_time": "2023-07-26T06:55:39.054Z"
   },
   {
    "duration": 9,
    "start_time": "2023-07-26T06:56:03.400Z"
   },
   {
    "duration": 521,
    "start_time": "2023-07-26T06:56:18.646Z"
   },
   {
    "duration": 168,
    "start_time": "2023-07-26T06:57:22.517Z"
   },
   {
    "duration": 458,
    "start_time": "2023-07-26T06:57:26.996Z"
   },
   {
    "duration": 19,
    "start_time": "2023-07-26T07:01:04.721Z"
   },
   {
    "duration": 27,
    "start_time": "2023-07-26T07:04:18.244Z"
   },
   {
    "duration": 9,
    "start_time": "2023-07-26T07:04:22.948Z"
   },
   {
    "duration": 13,
    "start_time": "2023-07-26T07:04:34.336Z"
   },
   {
    "duration": 12,
    "start_time": "2023-07-26T07:04:48.589Z"
   },
   {
    "duration": 8,
    "start_time": "2023-07-26T07:05:04.876Z"
   },
   {
    "duration": 81,
    "start_time": "2023-07-26T07:05:06.551Z"
   },
   {
    "duration": 22,
    "start_time": "2023-07-26T07:05:09.674Z"
   },
   {
    "duration": 4,
    "start_time": "2023-07-26T07:05:13.197Z"
   },
   {
    "duration": 13,
    "start_time": "2023-07-26T07:05:14.811Z"
   },
   {
    "duration": 17,
    "start_time": "2023-07-26T07:05:17.556Z"
   },
   {
    "duration": 7,
    "start_time": "2023-07-26T07:05:23.692Z"
   },
   {
    "duration": 7,
    "start_time": "2023-07-26T07:05:25.819Z"
   },
   {
    "duration": 16,
    "start_time": "2023-07-26T07:05:29.019Z"
   },
   {
    "duration": 22,
    "start_time": "2023-07-26T07:05:31.396Z"
   },
   {
    "duration": 7,
    "start_time": "2023-07-26T07:05:39.481Z"
   },
   {
    "duration": 16,
    "start_time": "2023-07-26T07:05:41.284Z"
   },
   {
    "duration": 12,
    "start_time": "2023-07-26T07:05:44.230Z"
   },
   {
    "duration": 22,
    "start_time": "2023-07-26T07:05:47.548Z"
   },
   {
    "duration": 6,
    "start_time": "2023-07-26T07:05:51.937Z"
   },
   {
    "duration": 44,
    "start_time": "2023-07-26T07:05:54.652Z"
   },
   {
    "duration": 42,
    "start_time": "2023-07-26T07:06:01.568Z"
   },
   {
    "duration": 10,
    "start_time": "2023-07-26T07:06:05.355Z"
   },
   {
    "duration": 17,
    "start_time": "2023-07-26T07:06:07.073Z"
   },
   {
    "duration": 367,
    "start_time": "2023-07-26T07:06:10.784Z"
   },
   {
    "duration": 353,
    "start_time": "2023-07-26T07:06:15.396Z"
   },
   {
    "duration": 19,
    "start_time": "2023-07-26T07:06:18.854Z"
   },
   {
    "duration": 1812,
    "start_time": "2023-07-26T07:06:21.815Z"
   },
   {
    "duration": 29,
    "start_time": "2023-07-26T07:07:46.452Z"
   },
   {
    "duration": 32,
    "start_time": "2023-07-26T07:10:30.651Z"
   },
   {
    "duration": 26,
    "start_time": "2023-07-26T07:12:00.322Z"
   },
   {
    "duration": 4,
    "start_time": "2023-07-26T07:23:00.889Z"
   },
   {
    "duration": 95,
    "start_time": "2023-07-26T07:23:02.475Z"
   },
   {
    "duration": 32,
    "start_time": "2023-07-26T07:23:04.688Z"
   },
   {
    "duration": 15,
    "start_time": "2023-07-26T07:23:07.501Z"
   },
   {
    "duration": 21,
    "start_time": "2023-07-26T07:23:09.348Z"
   },
   {
    "duration": 6,
    "start_time": "2023-07-26T07:23:16.515Z"
   },
   {
    "duration": 10,
    "start_time": "2023-07-26T07:23:18.612Z"
   },
   {
    "duration": 26,
    "start_time": "2023-07-26T07:23:21.103Z"
   },
   {
    "duration": 36,
    "start_time": "2023-07-26T07:23:22.895Z"
   },
   {
    "duration": 8,
    "start_time": "2023-07-26T07:23:25.426Z"
   },
   {
    "duration": 25,
    "start_time": "2023-07-26T07:23:26.976Z"
   },
   {
    "duration": 15,
    "start_time": "2023-07-26T07:23:29.886Z"
   },
   {
    "duration": 31,
    "start_time": "2023-07-26T07:23:31.988Z"
   },
   {
    "duration": 6,
    "start_time": "2023-07-26T07:23:35.530Z"
   },
   {
    "duration": 41,
    "start_time": "2023-07-26T07:23:40.784Z"
   },
   {
    "duration": 7,
    "start_time": "2023-07-26T07:23:43.348Z"
   },
   {
    "duration": 19,
    "start_time": "2023-07-26T07:23:45.331Z"
   },
   {
    "duration": 594,
    "start_time": "2023-07-26T07:23:49.457Z"
   },
   {
    "duration": 464,
    "start_time": "2023-07-26T07:23:59.390Z"
   },
   {
    "duration": 18,
    "start_time": "2023-07-26T07:24:14.073Z"
   },
   {
    "duration": 25,
    "start_time": "2023-07-26T07:24:23.774Z"
   },
   {
    "duration": 3591,
    "start_time": "2023-07-26T07:24:59.466Z"
   },
   {
    "duration": 3139,
    "start_time": "2023-07-26T07:25:13.491Z"
   },
   {
    "duration": 19,
    "start_time": "2023-07-26T07:27:23.797Z"
   },
   {
    "duration": 2306,
    "start_time": "2023-07-26T07:28:03.543Z"
   },
   {
    "duration": 24,
    "start_time": "2023-07-26T07:30:43.885Z"
   },
   {
    "duration": 14,
    "start_time": "2023-07-26T07:33:53.106Z"
   },
   {
    "duration": 22,
    "start_time": "2023-07-26T07:34:58.796Z"
   },
   {
    "duration": 11,
    "start_time": "2023-07-26T07:35:02.534Z"
   },
   {
    "duration": 4,
    "start_time": "2023-07-26T07:35:29.016Z"
   },
   {
    "duration": 73,
    "start_time": "2023-07-26T07:35:31.085Z"
   },
   {
    "duration": 30,
    "start_time": "2023-07-26T07:35:33.386Z"
   },
   {
    "duration": 5,
    "start_time": "2023-07-26T07:35:37.017Z"
   },
   {
    "duration": 21,
    "start_time": "2023-07-26T07:35:40.925Z"
   },
   {
    "duration": 8,
    "start_time": "2023-07-26T07:35:47.317Z"
   },
   {
    "duration": 9,
    "start_time": "2023-07-26T07:35:49.220Z"
   },
   {
    "duration": 34,
    "start_time": "2023-07-26T07:35:52.052Z"
   },
   {
    "duration": 19,
    "start_time": "2023-07-26T07:35:58.796Z"
   },
   {
    "duration": 20,
    "start_time": "2023-07-26T07:36:01.019Z"
   },
   {
    "duration": 9,
    "start_time": "2023-07-26T07:36:04.458Z"
   },
   {
    "duration": 6,
    "start_time": "2023-07-26T07:36:10.775Z"
   },
   {
    "duration": 551,
    "start_time": "2023-07-26T07:36:14.040Z"
   },
   {
    "duration": 476,
    "start_time": "2023-07-26T07:36:17.920Z"
   },
   {
    "duration": 31,
    "start_time": "2023-07-26T07:36:53.152Z"
   },
   {
    "duration": 57,
    "start_time": "2023-07-26T07:36:58.583Z"
   },
   {
    "duration": 25,
    "start_time": "2023-07-26T07:37:49.700Z"
   },
   {
    "duration": 31,
    "start_time": "2023-07-26T07:37:55.954Z"
   },
   {
    "duration": 33,
    "start_time": "2023-07-26T07:37:58.221Z"
   },
   {
    "duration": 34,
    "start_time": "2023-07-26T07:38:11.211Z"
   },
   {
    "duration": 34,
    "start_time": "2023-07-26T07:38:28.311Z"
   },
   {
    "duration": 40,
    "start_time": "2023-07-26T07:38:44.386Z"
   },
   {
    "duration": 25,
    "start_time": "2023-07-26T07:39:54.010Z"
   },
   {
    "duration": 35,
    "start_time": "2023-07-26T07:40:05.285Z"
   },
   {
    "duration": 234,
    "start_time": "2023-07-26T07:41:03.869Z"
   },
   {
    "duration": 0,
    "start_time": "2023-07-26T08:03:06.246Z"
   },
   {
    "duration": 57,
    "start_time": "2023-07-26T08:03:09.057Z"
   },
   {
    "duration": 364,
    "start_time": "2023-07-26T08:03:34.399Z"
   },
   {
    "duration": 50,
    "start_time": "2023-07-26T08:06:16.456Z"
   },
   {
    "duration": 40,
    "start_time": "2023-07-26T08:06:40.866Z"
   },
   {
    "duration": 29,
    "start_time": "2023-07-26T08:08:44.519Z"
   },
   {
    "duration": 3003,
    "start_time": "2023-07-26T08:09:20.617Z"
   },
   {
    "duration": 31,
    "start_time": "2023-07-26T08:11:13.685Z"
   },
   {
    "duration": 22,
    "start_time": "2023-07-26T08:11:37.437Z"
   },
   {
    "duration": 3250,
    "start_time": "2023-07-26T08:11:43.087Z"
   },
   {
    "duration": 23,
    "start_time": "2023-07-26T08:13:07.461Z"
   },
   {
    "duration": 17,
    "start_time": "2023-07-26T08:13:25.040Z"
   },
   {
    "duration": 23,
    "start_time": "2023-07-26T08:16:47.974Z"
   },
   {
    "duration": 38,
    "start_time": "2023-07-26T08:18:25.535Z"
   },
   {
    "duration": 26,
    "start_time": "2023-07-26T08:23:16.504Z"
   },
   {
    "duration": 16,
    "start_time": "2023-07-26T08:25:03.839Z"
   },
   {
    "duration": 2720,
    "start_time": "2023-07-26T08:25:26.942Z"
   },
   {
    "duration": 1897,
    "start_time": "2023-07-26T08:25:58.510Z"
   },
   {
    "duration": 31,
    "start_time": "2023-07-26T08:26:33.060Z"
   },
   {
    "duration": 18,
    "start_time": "2023-07-26T08:26:42.879Z"
   },
   {
    "duration": 1578,
    "start_time": "2023-07-26T08:27:29.122Z"
   },
   {
    "duration": 1597,
    "start_time": "2023-07-26T08:27:47.154Z"
   },
   {
    "duration": 1791,
    "start_time": "2023-07-26T08:28:16.755Z"
   },
   {
    "duration": 1895,
    "start_time": "2023-07-26T08:28:23.477Z"
   },
   {
    "duration": 329,
    "start_time": "2023-07-26T08:30:05.260Z"
   },
   {
    "duration": 144,
    "start_time": "2023-07-26T08:38:10.455Z"
   },
   {
    "duration": 22,
    "start_time": "2023-07-26T08:39:12.613Z"
   },
   {
    "duration": 174,
    "start_time": "2023-07-26T08:39:54.104Z"
   },
   {
    "duration": 36,
    "start_time": "2023-07-26T08:48:32.496Z"
   },
   {
    "duration": 28,
    "start_time": "2023-07-26T08:49:34.907Z"
   },
   {
    "duration": 8,
    "start_time": "2023-07-26T08:50:47.647Z"
   },
   {
    "duration": 6,
    "start_time": "2023-07-26T08:55:30.044Z"
   },
   {
    "duration": 5,
    "start_time": "2023-07-26T08:57:28.940Z"
   },
   {
    "duration": 6,
    "start_time": "2023-07-26T08:57:37.900Z"
   },
   {
    "duration": 8,
    "start_time": "2023-07-26T09:03:33.394Z"
   },
   {
    "duration": 166,
    "start_time": "2023-07-26T09:03:47.369Z"
   },
   {
    "duration": 8,
    "start_time": "2023-07-26T09:04:07.962Z"
   },
   {
    "duration": 30,
    "start_time": "2023-07-26T09:04:16.069Z"
   },
   {
    "duration": 3,
    "start_time": "2023-07-26T09:04:26.224Z"
   },
   {
    "duration": 76,
    "start_time": "2023-07-26T09:04:28.448Z"
   },
   {
    "duration": 3,
    "start_time": "2023-07-26T09:04:32.696Z"
   },
   {
    "duration": 6,
    "start_time": "2023-07-26T09:04:39.072Z"
   },
   {
    "duration": 8,
    "start_time": "2023-07-26T09:04:40.975Z"
   },
   {
    "duration": 16,
    "start_time": "2023-07-26T09:04:43.608Z"
   },
   {
    "duration": 10,
    "start_time": "2023-07-26T09:04:50.726Z"
   },
   {
    "duration": 6,
    "start_time": "2023-07-26T09:04:58.561Z"
   },
   {
    "duration": 6,
    "start_time": "2023-07-26T09:05:04.511Z"
   },
   {
    "duration": 6,
    "start_time": "2023-07-26T09:05:08.097Z"
   },
   {
    "duration": 8,
    "start_time": "2023-07-26T09:05:12.447Z"
   },
   {
    "duration": 16,
    "start_time": "2023-07-26T09:05:17.797Z"
   },
   {
    "duration": 369,
    "start_time": "2023-07-26T09:05:25.616Z"
   },
   {
    "duration": 460,
    "start_time": "2023-07-26T09:05:28.839Z"
   },
   {
    "duration": 20,
    "start_time": "2023-07-26T09:05:34.656Z"
   },
   {
    "duration": 1253,
    "start_time": "2023-07-26T09:05:36.696Z"
   },
   {
    "duration": 278,
    "start_time": "2023-07-26T09:05:52.353Z"
   },
   {
    "duration": 9,
    "start_time": "2023-07-26T09:05:57.143Z"
   },
   {
    "duration": 226,
    "start_time": "2023-07-26T09:06:00.814Z"
   },
   {
    "duration": 8,
    "start_time": "2023-07-26T09:06:42.183Z"
   },
   {
    "duration": 208,
    "start_time": "2023-07-26T09:07:02.991Z"
   },
   {
    "duration": 37,
    "start_time": "2023-07-26T09:08:42.118Z"
   },
   {
    "duration": 4,
    "start_time": "2023-07-26T09:08:58.293Z"
   },
   {
    "duration": 79,
    "start_time": "2023-07-26T09:09:00.050Z"
   },
   {
    "duration": 25,
    "start_time": "2023-07-26T09:09:02.901Z"
   },
   {
    "duration": 5,
    "start_time": "2023-07-26T09:09:06.918Z"
   },
   {
    "duration": 14,
    "start_time": "2023-07-26T09:09:08.941Z"
   },
   {
    "duration": 12,
    "start_time": "2023-07-26T09:09:11.380Z"
   },
   {
    "duration": 6,
    "start_time": "2023-07-26T09:09:15.156Z"
   },
   {
    "duration": 8,
    "start_time": "2023-07-26T09:09:17.316Z"
   },
   {
    "duration": 17,
    "start_time": "2023-07-26T09:09:20.124Z"
   },
   {
    "duration": 43,
    "start_time": "2023-07-26T09:09:22.510Z"
   },
   {
    "duration": 5,
    "start_time": "2023-07-26T09:09:25.180Z"
   },
   {
    "duration": 25,
    "start_time": "2023-07-26T09:09:27.150Z"
   },
   {
    "duration": 24,
    "start_time": "2023-07-26T09:09:29.422Z"
   },
   {
    "duration": 6,
    "start_time": "2023-07-26T09:09:32.548Z"
   },
   {
    "duration": 23,
    "start_time": "2023-07-26T09:09:35.654Z"
   },
   {
    "duration": 50,
    "start_time": "2023-07-26T09:09:39.045Z"
   },
   {
    "duration": 8,
    "start_time": "2023-07-26T09:09:41.740Z"
   },
   {
    "duration": 6,
    "start_time": "2023-07-26T09:09:44.082Z"
   },
   {
    "duration": 7,
    "start_time": "2023-07-26T09:09:46.554Z"
   },
   {
    "duration": 374,
    "start_time": "2023-07-26T09:09:49.754Z"
   },
   {
    "duration": 414,
    "start_time": "2023-07-26T09:09:52.845Z"
   },
   {
    "duration": 13,
    "start_time": "2023-07-26T09:09:56.471Z"
   },
   {
    "duration": 1601,
    "start_time": "2023-07-26T09:09:58.932Z"
   },
   {
    "duration": 267,
    "start_time": "2023-07-26T09:10:20.043Z"
   },
   {
    "duration": 173,
    "start_time": "2023-07-26T09:17:42.092Z"
   },
   {
    "duration": 8,
    "start_time": "2023-07-26T09:17:49.057Z"
   },
   {
    "duration": 197,
    "start_time": "2023-07-26T09:17:58.492Z"
   },
   {
    "duration": 270,
    "start_time": "2023-07-26T09:18:10.202Z"
   },
   {
    "duration": 237,
    "start_time": "2023-07-26T09:18:13.103Z"
   },
   {
    "duration": 236,
    "start_time": "2023-07-26T09:18:15.907Z"
   },
   {
    "duration": 15,
    "start_time": "2023-07-26T09:21:12.439Z"
   },
   {
    "duration": 349,
    "start_time": "2023-07-26T09:21:25.903Z"
   },
   {
    "duration": 524,
    "start_time": "2023-07-26T09:22:09.462Z"
   },
   {
    "duration": 11,
    "start_time": "2023-07-26T09:29:13.029Z"
   },
   {
    "duration": 47,
    "start_time": "2023-07-26T09:29:18.011Z"
   },
   {
    "duration": 41,
    "start_time": "2023-07-26T09:29:41.888Z"
   },
   {
    "duration": 315,
    "start_time": "2023-07-26T09:30:54.323Z"
   },
   {
    "duration": 24,
    "start_time": "2023-07-26T09:31:11.004Z"
   },
   {
    "duration": 15,
    "start_time": "2023-07-26T09:31:18.866Z"
   },
   {
    "duration": 5,
    "start_time": "2023-07-26T09:32:48.902Z"
   },
   {
    "duration": 166,
    "start_time": "2023-07-26T09:33:01.689Z"
   },
   {
    "duration": 92,
    "start_time": "2023-07-26T09:33:26.241Z"
   },
   {
    "duration": 112,
    "start_time": "2023-07-26T09:33:33.928Z"
   },
   {
    "duration": 219,
    "start_time": "2023-07-26T09:33:37.848Z"
   },
   {
    "duration": 268,
    "start_time": "2023-07-26T09:34:05.690Z"
   },
   {
    "duration": 81,
    "start_time": "2023-07-26T09:34:35.288Z"
   },
   {
    "duration": 3519,
    "start_time": "2023-07-26T09:36:31.407Z"
   },
   {
    "duration": 147,
    "start_time": "2023-07-26T09:36:34.929Z"
   },
   {
    "duration": 30,
    "start_time": "2023-07-26T09:36:35.079Z"
   },
   {
    "duration": 5,
    "start_time": "2023-07-26T09:36:35.112Z"
   },
   {
    "duration": 26,
    "start_time": "2023-07-26T09:36:35.119Z"
   },
   {
    "duration": 35,
    "start_time": "2023-07-26T09:36:35.148Z"
   },
   {
    "duration": 5,
    "start_time": "2023-07-26T09:36:35.185Z"
   },
   {
    "duration": 235,
    "start_time": "2023-07-26T09:36:35.192Z"
   },
   {
    "duration": 5,
    "start_time": "2023-07-26T09:36:35.429Z"
   },
   {
    "duration": 16,
    "start_time": "2023-07-26T09:36:35.436Z"
   },
   {
    "duration": 27,
    "start_time": "2023-07-26T09:36:35.463Z"
   },
   {
    "duration": 32,
    "start_time": "2023-07-26T09:36:35.492Z"
   },
   {
    "duration": 5,
    "start_time": "2023-07-26T09:36:35.526Z"
   },
   {
    "duration": 44,
    "start_time": "2023-07-26T09:36:35.533Z"
   },
   {
    "duration": 31,
    "start_time": "2023-07-26T09:36:35.579Z"
   },
   {
    "duration": 37,
    "start_time": "2023-07-26T09:36:35.613Z"
   },
   {
    "duration": 7,
    "start_time": "2023-07-26T09:36:35.653Z"
   },
   {
    "duration": 34,
    "start_time": "2023-07-26T09:36:35.663Z"
   },
   {
    "duration": 31,
    "start_time": "2023-07-26T09:36:35.699Z"
   },
   {
    "duration": 25,
    "start_time": "2023-07-26T09:36:35.732Z"
   },
   {
    "duration": 14,
    "start_time": "2023-07-26T09:36:35.758Z"
   },
   {
    "duration": 102,
    "start_time": "2023-07-26T09:36:35.773Z"
   },
   {
    "duration": 0,
    "start_time": "2023-07-26T09:36:35.878Z"
   },
   {
    "duration": 0,
    "start_time": "2023-07-26T09:36:35.881Z"
   },
   {
    "duration": 0,
    "start_time": "2023-07-26T09:36:35.882Z"
   },
   {
    "duration": 0,
    "start_time": "2023-07-26T09:36:35.885Z"
   },
   {
    "duration": 0,
    "start_time": "2023-07-26T09:36:35.887Z"
   },
   {
    "duration": 0,
    "start_time": "2023-07-26T09:36:35.889Z"
   },
   {
    "duration": 0,
    "start_time": "2023-07-26T09:36:35.891Z"
   },
   {
    "duration": 0,
    "start_time": "2023-07-26T09:36:35.893Z"
   },
   {
    "duration": 0,
    "start_time": "2023-07-26T09:36:35.895Z"
   },
   {
    "duration": 0,
    "start_time": "2023-07-26T09:36:35.897Z"
   },
   {
    "duration": 0,
    "start_time": "2023-07-26T09:36:35.899Z"
   },
   {
    "duration": 0,
    "start_time": "2023-07-26T09:36:35.900Z"
   },
   {
    "duration": 0,
    "start_time": "2023-07-26T09:36:35.901Z"
   },
   {
    "duration": 0,
    "start_time": "2023-07-26T09:36:35.902Z"
   },
   {
    "duration": 0,
    "start_time": "2023-07-26T09:36:35.903Z"
   },
   {
    "duration": 1,
    "start_time": "2023-07-26T09:36:35.904Z"
   },
   {
    "duration": 0,
    "start_time": "2023-07-26T09:36:35.905Z"
   },
   {
    "duration": 0,
    "start_time": "2023-07-26T09:36:35.907Z"
   },
   {
    "duration": 0,
    "start_time": "2023-07-26T09:36:35.908Z"
   },
   {
    "duration": 0,
    "start_time": "2023-07-26T09:36:35.909Z"
   },
   {
    "duration": 0,
    "start_time": "2023-07-26T09:36:35.910Z"
   },
   {
    "duration": 0,
    "start_time": "2023-07-26T09:36:35.911Z"
   },
   {
    "duration": 0,
    "start_time": "2023-07-26T09:36:35.912Z"
   },
   {
    "duration": 1338,
    "start_time": "2023-07-26T09:37:03.786Z"
   },
   {
    "duration": 74,
    "start_time": "2023-07-26T09:37:05.126Z"
   },
   {
    "duration": 17,
    "start_time": "2023-07-26T09:37:05.202Z"
   },
   {
    "duration": 4,
    "start_time": "2023-07-26T09:37:05.221Z"
   },
   {
    "duration": 46,
    "start_time": "2023-07-26T09:37:05.227Z"
   },
   {
    "duration": 24,
    "start_time": "2023-07-26T09:37:05.276Z"
   },
   {
    "duration": 26,
    "start_time": "2023-07-26T09:37:05.302Z"
   },
   {
    "duration": 242,
    "start_time": "2023-07-26T09:37:05.330Z"
   },
   {
    "duration": 7,
    "start_time": "2023-07-26T09:37:05.578Z"
   },
   {
    "duration": 52,
    "start_time": "2023-07-26T09:37:05.588Z"
   },
   {
    "duration": 40,
    "start_time": "2023-07-26T09:37:05.642Z"
   },
   {
    "duration": 34,
    "start_time": "2023-07-26T09:37:05.685Z"
   },
   {
    "duration": 11,
    "start_time": "2023-07-26T09:37:05.721Z"
   },
   {
    "duration": 33,
    "start_time": "2023-07-26T09:37:05.734Z"
   },
   {
    "duration": 17,
    "start_time": "2023-07-26T09:37:05.769Z"
   },
   {
    "duration": 20,
    "start_time": "2023-07-26T09:37:05.787Z"
   },
   {
    "duration": 5,
    "start_time": "2023-07-26T09:37:05.809Z"
   },
   {
    "duration": 38,
    "start_time": "2023-07-26T09:37:05.816Z"
   },
   {
    "duration": 43,
    "start_time": "2023-07-26T09:37:05.855Z"
   },
   {
    "duration": 36,
    "start_time": "2023-07-26T09:37:05.900Z"
   },
   {
    "duration": 10,
    "start_time": "2023-07-26T09:37:05.938Z"
   },
   {
    "duration": 25,
    "start_time": "2023-07-26T09:37:05.950Z"
   },
   {
    "duration": 21,
    "start_time": "2023-07-26T09:37:05.978Z"
   },
   {
    "duration": 46,
    "start_time": "2023-07-26T09:37:06.001Z"
   },
   {
    "duration": 398,
    "start_time": "2023-07-26T09:37:06.050Z"
   },
   {
    "duration": 339,
    "start_time": "2023-07-26T09:37:06.450Z"
   },
   {
    "duration": 14,
    "start_time": "2023-07-26T09:37:06.792Z"
   },
   {
    "duration": 1389,
    "start_time": "2023-07-26T09:37:06.810Z"
   },
   {
    "duration": 215,
    "start_time": "2023-07-26T09:37:08.201Z"
   },
   {
    "duration": 7,
    "start_time": "2023-07-26T09:37:08.419Z"
   },
   {
    "duration": 252,
    "start_time": "2023-07-26T09:37:08.429Z"
   },
   {
    "duration": 13,
    "start_time": "2023-07-26T09:37:08.685Z"
   },
   {
    "duration": 246,
    "start_time": "2023-07-26T09:37:08.700Z"
   },
   {
    "duration": 0,
    "start_time": "2023-07-26T09:37:08.948Z"
   },
   {
    "duration": 0,
    "start_time": "2023-07-26T09:37:08.951Z"
   },
   {
    "duration": 0,
    "start_time": "2023-07-26T09:37:08.953Z"
   },
   {
    "duration": 0,
    "start_time": "2023-07-26T09:37:08.955Z"
   },
   {
    "duration": 0,
    "start_time": "2023-07-26T09:37:08.967Z"
   },
   {
    "duration": 0,
    "start_time": "2023-07-26T09:37:08.969Z"
   },
   {
    "duration": 0,
    "start_time": "2023-07-26T09:37:08.972Z"
   },
   {
    "duration": 0,
    "start_time": "2023-07-26T09:37:08.974Z"
   },
   {
    "duration": 0,
    "start_time": "2023-07-26T09:37:08.976Z"
   },
   {
    "duration": 0,
    "start_time": "2023-07-26T09:37:08.978Z"
   },
   {
    "duration": 0,
    "start_time": "2023-07-26T09:37:08.981Z"
   },
   {
    "duration": 1812,
    "start_time": "2023-07-26T09:37:28.515Z"
   },
   {
    "duration": 87,
    "start_time": "2023-07-26T09:37:30.329Z"
   },
   {
    "duration": 16,
    "start_time": "2023-07-26T09:37:30.417Z"
   },
   {
    "duration": 32,
    "start_time": "2023-07-26T09:37:30.435Z"
   },
   {
    "duration": 55,
    "start_time": "2023-07-26T09:37:30.477Z"
   },
   {
    "duration": 64,
    "start_time": "2023-07-26T09:37:30.534Z"
   },
   {
    "duration": 54,
    "start_time": "2023-07-26T09:37:30.600Z"
   },
   {
    "duration": 298,
    "start_time": "2023-07-26T09:37:30.656Z"
   },
   {
    "duration": 5,
    "start_time": "2023-07-26T09:37:30.956Z"
   },
   {
    "duration": 31,
    "start_time": "2023-07-26T09:37:30.965Z"
   },
   {
    "duration": 54,
    "start_time": "2023-07-26T09:37:30.998Z"
   },
   {
    "duration": 54,
    "start_time": "2023-07-26T09:37:31.054Z"
   },
   {
    "duration": 46,
    "start_time": "2023-07-26T09:37:31.110Z"
   },
   {
    "duration": 46,
    "start_time": "2023-07-26T09:37:31.159Z"
   },
   {
    "duration": 32,
    "start_time": "2023-07-26T09:37:31.207Z"
   },
   {
    "duration": 52,
    "start_time": "2023-07-26T09:37:31.241Z"
   },
   {
    "duration": 15,
    "start_time": "2023-07-26T09:37:31.295Z"
   },
   {
    "duration": 66,
    "start_time": "2023-07-26T09:37:31.313Z"
   },
   {
    "duration": 44,
    "start_time": "2023-07-26T09:37:31.382Z"
   },
   {
    "duration": 57,
    "start_time": "2023-07-26T09:37:31.428Z"
   },
   {
    "duration": 6,
    "start_time": "2023-07-26T09:37:31.487Z"
   },
   {
    "duration": 38,
    "start_time": "2023-07-26T09:37:31.496Z"
   },
   {
    "duration": 65,
    "start_time": "2023-07-26T09:37:31.537Z"
   },
   {
    "duration": 41,
    "start_time": "2023-07-26T09:37:31.604Z"
   },
   {
    "duration": 457,
    "start_time": "2023-07-26T09:37:31.647Z"
   },
   {
    "duration": 459,
    "start_time": "2023-07-26T09:37:32.107Z"
   },
   {
    "duration": 29,
    "start_time": "2023-07-26T09:37:32.568Z"
   },
   {
    "duration": 1510,
    "start_time": "2023-07-26T09:37:32.603Z"
   },
   {
    "duration": 252,
    "start_time": "2023-07-26T09:37:34.116Z"
   },
   {
    "duration": 8,
    "start_time": "2023-07-26T09:37:34.370Z"
   },
   {
    "duration": 235,
    "start_time": "2023-07-26T09:37:34.381Z"
   },
   {
    "duration": 9,
    "start_time": "2023-07-26T09:37:34.618Z"
   },
   {
    "duration": 175,
    "start_time": "2023-07-26T09:37:34.628Z"
   },
   {
    "duration": 172,
    "start_time": "2023-07-26T09:37:34.805Z"
   },
   {
    "duration": 185,
    "start_time": "2023-07-26T09:37:34.979Z"
   },
   {
    "duration": 369,
    "start_time": "2023-07-26T09:37:35.166Z"
   },
   {
    "duration": 186,
    "start_time": "2023-07-26T09:37:35.538Z"
   },
   {
    "duration": 179,
    "start_time": "2023-07-26T09:37:35.726Z"
   },
   {
    "duration": 141,
    "start_time": "2023-07-26T09:37:35.908Z"
   },
   {
    "duration": 0,
    "start_time": "2023-07-26T09:37:36.052Z"
   },
   {
    "duration": 0,
    "start_time": "2023-07-26T09:37:36.056Z"
   },
   {
    "duration": 0,
    "start_time": "2023-07-26T09:37:36.058Z"
   },
   {
    "duration": 0,
    "start_time": "2023-07-26T09:37:36.060Z"
   },
   {
    "duration": 16,
    "start_time": "2023-07-26T09:38:20.674Z"
   },
   {
    "duration": 91,
    "start_time": "2023-07-26T09:38:41.990Z"
   },
   {
    "duration": 127,
    "start_time": "2023-07-26T09:38:49.253Z"
   },
   {
    "duration": 117,
    "start_time": "2023-07-26T09:38:54.865Z"
   },
   {
    "duration": 283,
    "start_time": "2023-07-26T09:38:59.712Z"
   },
   {
    "duration": 20,
    "start_time": "2023-07-26T09:39:04.148Z"
   },
   {
    "duration": 17,
    "start_time": "2023-07-26T09:39:13.197Z"
   },
   {
    "duration": 6,
    "start_time": "2023-07-26T09:39:59.294Z"
   },
   {
    "duration": 20,
    "start_time": "2023-07-26T09:40:01.365Z"
   },
   {
    "duration": 16,
    "start_time": "2023-07-26T09:40:11.141Z"
   },
   {
    "duration": 18,
    "start_time": "2023-07-26T09:40:15.533Z"
   },
   {
    "duration": 21,
    "start_time": "2023-07-26T09:40:36.844Z"
   },
   {
    "duration": 84,
    "start_time": "2023-07-26T09:42:24.885Z"
   },
   {
    "duration": 1786,
    "start_time": "2023-07-26T09:42:30.187Z"
   },
   {
    "duration": 19,
    "start_time": "2023-07-26T09:42:41.340Z"
   },
   {
    "duration": 17,
    "start_time": "2023-07-26T09:42:54.504Z"
   },
   {
    "duration": 6,
    "start_time": "2023-07-26T09:43:17.083Z"
   },
   {
    "duration": 12,
    "start_time": "2023-07-26T09:43:19.276Z"
   },
   {
    "duration": 13,
    "start_time": "2023-07-26T09:43:23.196Z"
   },
   {
    "duration": 15,
    "start_time": "2023-07-26T09:43:36.035Z"
   },
   {
    "duration": 163,
    "start_time": "2023-07-26T09:45:32.460Z"
   },
   {
    "duration": 10,
    "start_time": "2023-07-26T09:45:38.573Z"
   },
   {
    "duration": 17,
    "start_time": "2023-07-26T09:45:53.611Z"
   },
   {
    "duration": 17,
    "start_time": "2023-07-26T09:46:01.313Z"
   },
   {
    "duration": 4,
    "start_time": "2023-07-26T09:46:03.779Z"
   },
   {
    "duration": 21,
    "start_time": "2023-07-26T09:46:26.851Z"
   },
   {
    "duration": 338,
    "start_time": "2023-07-26T09:50:18.955Z"
   },
   {
    "duration": 297,
    "start_time": "2023-07-26T09:50:54.619Z"
   },
   {
    "duration": 474,
    "start_time": "2023-07-26T09:52:27.979Z"
   },
   {
    "duration": 1392,
    "start_time": "2023-07-26T10:45:25.907Z"
   },
   {
    "duration": 89,
    "start_time": "2023-07-26T10:45:27.302Z"
   },
   {
    "duration": 21,
    "start_time": "2023-07-26T10:45:27.394Z"
   },
   {
    "duration": 4,
    "start_time": "2023-07-26T10:45:27.417Z"
   },
   {
    "duration": 21,
    "start_time": "2023-07-26T10:45:27.423Z"
   },
   {
    "duration": 30,
    "start_time": "2023-07-26T10:45:27.446Z"
   },
   {
    "duration": 7,
    "start_time": "2023-07-26T10:45:27.479Z"
   },
   {
    "duration": 221,
    "start_time": "2023-07-26T10:45:27.489Z"
   },
   {
    "duration": 7,
    "start_time": "2023-07-26T10:45:27.712Z"
   },
   {
    "duration": 9,
    "start_time": "2023-07-26T10:45:27.723Z"
   },
   {
    "duration": 39,
    "start_time": "2023-07-26T10:45:27.734Z"
   },
   {
    "duration": 23,
    "start_time": "2023-07-26T10:45:27.775Z"
   },
   {
    "duration": 27,
    "start_time": "2023-07-26T10:45:27.799Z"
   },
   {
    "duration": 34,
    "start_time": "2023-07-26T10:45:27.828Z"
   },
   {
    "duration": 15,
    "start_time": "2023-07-26T10:45:27.864Z"
   },
   {
    "duration": 18,
    "start_time": "2023-07-26T10:45:27.881Z"
   },
   {
    "duration": 6,
    "start_time": "2023-07-26T10:45:27.901Z"
   },
   {
    "duration": 52,
    "start_time": "2023-07-26T10:45:27.909Z"
   },
   {
    "duration": 53,
    "start_time": "2023-07-26T10:45:27.964Z"
   },
   {
    "duration": 41,
    "start_time": "2023-07-26T10:45:28.020Z"
   },
   {
    "duration": 9,
    "start_time": "2023-07-26T10:45:28.063Z"
   },
   {
    "duration": 16,
    "start_time": "2023-07-26T10:45:28.074Z"
   },
   {
    "duration": 9,
    "start_time": "2023-07-26T10:45:28.092Z"
   },
   {
    "duration": 35,
    "start_time": "2023-07-26T10:45:28.104Z"
   },
   {
    "duration": 400,
    "start_time": "2023-07-26T10:45:28.142Z"
   },
   {
    "duration": 307,
    "start_time": "2023-07-26T10:45:28.544Z"
   },
   {
    "duration": 23,
    "start_time": "2023-07-26T10:45:28.853Z"
   },
   {
    "duration": 1367,
    "start_time": "2023-07-26T10:45:28.881Z"
   },
   {
    "duration": 233,
    "start_time": "2023-07-26T10:45:30.250Z"
   },
   {
    "duration": 9,
    "start_time": "2023-07-26T10:45:30.485Z"
   },
   {
    "duration": 270,
    "start_time": "2023-07-26T10:45:30.495Z"
   },
   {
    "duration": 10,
    "start_time": "2023-07-26T10:45:30.767Z"
   },
   {
    "duration": 204,
    "start_time": "2023-07-26T10:45:30.780Z"
   },
   {
    "duration": 205,
    "start_time": "2023-07-26T10:45:30.986Z"
   },
   {
    "duration": 187,
    "start_time": "2023-07-26T10:45:31.194Z"
   },
   {
    "duration": 363,
    "start_time": "2023-07-26T10:45:31.383Z"
   },
   {
    "duration": 354,
    "start_time": "2023-07-26T10:45:31.748Z"
   },
   {
    "duration": 26,
    "start_time": "2023-07-26T10:45:32.104Z"
   },
   {
    "duration": 402,
    "start_time": "2023-07-26T10:45:32.132Z"
   },
   {
    "duration": 28,
    "start_time": "2023-07-26T10:45:32.537Z"
   },
   {
    "duration": 33,
    "start_time": "2023-07-26T10:45:32.568Z"
   },
   {
    "duration": 33,
    "start_time": "2023-07-26T10:45:32.604Z"
   },
   {
    "duration": 254,
    "start_time": "2023-07-26T10:45:32.638Z"
   },
   {
    "duration": 523,
    "start_time": "2023-07-26T10:45:32.894Z"
   },
   {
    "duration": 14,
    "start_time": "2023-07-26T10:46:45.083Z"
   },
   {
    "duration": 140,
    "start_time": "2023-07-26T10:47:29.963Z"
   },
   {
    "duration": 28,
    "start_time": "2023-07-26T10:47:48.119Z"
   },
   {
    "duration": 18,
    "start_time": "2023-07-26T10:47:57.551Z"
   },
   {
    "duration": 6,
    "start_time": "2023-07-26T10:48:55.808Z"
   },
   {
    "duration": 194,
    "start_time": "2023-07-26T10:49:03.408Z"
   },
   {
    "duration": 8,
    "start_time": "2023-07-26T10:49:11.116Z"
   },
   {
    "duration": 195,
    "start_time": "2023-07-26T10:49:14.985Z"
   },
   {
    "duration": 10,
    "start_time": "2023-07-26T10:49:19.744Z"
   },
   {
    "duration": 18,
    "start_time": "2023-07-26T10:54:24.665Z"
   },
   {
    "duration": 6,
    "start_time": "2023-07-26T11:11:54.450Z"
   },
   {
    "duration": 1188,
    "start_time": "2023-07-26T11:14:17.904Z"
   },
   {
    "duration": 71,
    "start_time": "2023-07-26T11:14:19.096Z"
   },
   {
    "duration": 17,
    "start_time": "2023-07-26T11:14:19.170Z"
   },
   {
    "duration": 14,
    "start_time": "2023-07-26T11:14:19.189Z"
   },
   {
    "duration": 27,
    "start_time": "2023-07-26T11:14:19.205Z"
   },
   {
    "duration": 37,
    "start_time": "2023-07-26T11:14:19.233Z"
   },
   {
    "duration": 11,
    "start_time": "2023-07-26T11:14:19.272Z"
   },
   {
    "duration": 204,
    "start_time": "2023-07-26T11:14:19.285Z"
   },
   {
    "duration": 6,
    "start_time": "2023-07-26T11:14:19.490Z"
   },
   {
    "duration": 15,
    "start_time": "2023-07-26T11:14:19.498Z"
   },
   {
    "duration": 38,
    "start_time": "2023-07-26T11:14:19.515Z"
   },
   {
    "duration": 22,
    "start_time": "2023-07-26T11:14:19.555Z"
   },
   {
    "duration": 10,
    "start_time": "2023-07-26T11:14:19.578Z"
   },
   {
    "duration": 20,
    "start_time": "2023-07-26T11:14:19.590Z"
   },
   {
    "duration": 16,
    "start_time": "2023-07-26T11:14:19.612Z"
   },
   {
    "duration": 47,
    "start_time": "2023-07-26T11:14:19.629Z"
   },
   {
    "duration": 5,
    "start_time": "2023-07-26T11:14:19.678Z"
   },
   {
    "duration": 40,
    "start_time": "2023-07-26T11:14:19.685Z"
   },
   {
    "duration": 31,
    "start_time": "2023-07-26T11:14:19.727Z"
   },
   {
    "duration": 30,
    "start_time": "2023-07-26T11:14:19.760Z"
   },
   {
    "duration": 5,
    "start_time": "2023-07-26T11:14:19.791Z"
   },
   {
    "duration": 12,
    "start_time": "2023-07-26T11:14:19.798Z"
   },
   {
    "duration": 18,
    "start_time": "2023-07-26T11:14:19.812Z"
   },
   {
    "duration": 45,
    "start_time": "2023-07-26T11:14:19.832Z"
   },
   {
    "duration": 361,
    "start_time": "2023-07-26T11:14:19.879Z"
   },
   {
    "duration": 300,
    "start_time": "2023-07-26T11:14:20.242Z"
   },
   {
    "duration": 112,
    "start_time": "2023-07-26T11:14:20.544Z"
   },
   {
    "duration": 0,
    "start_time": "2023-07-26T11:14:20.659Z"
   },
   {
    "duration": 0,
    "start_time": "2023-07-26T11:14:20.661Z"
   },
   {
    "duration": 0,
    "start_time": "2023-07-26T11:14:20.663Z"
   },
   {
    "duration": 0,
    "start_time": "2023-07-26T11:14:20.664Z"
   },
   {
    "duration": 0,
    "start_time": "2023-07-26T11:14:20.666Z"
   },
   {
    "duration": 0,
    "start_time": "2023-07-26T11:14:20.668Z"
   },
   {
    "duration": 0,
    "start_time": "2023-07-26T11:14:20.671Z"
   },
   {
    "duration": 0,
    "start_time": "2023-07-26T11:14:20.672Z"
   },
   {
    "duration": 0,
    "start_time": "2023-07-26T11:14:20.673Z"
   },
   {
    "duration": 0,
    "start_time": "2023-07-26T11:14:20.675Z"
   },
   {
    "duration": 0,
    "start_time": "2023-07-26T11:14:20.676Z"
   },
   {
    "duration": 0,
    "start_time": "2023-07-26T11:14:20.677Z"
   },
   {
    "duration": 0,
    "start_time": "2023-07-26T11:14:20.678Z"
   },
   {
    "duration": 0,
    "start_time": "2023-07-26T11:14:20.679Z"
   },
   {
    "duration": 0,
    "start_time": "2023-07-26T11:14:20.681Z"
   },
   {
    "duration": 0,
    "start_time": "2023-07-26T11:14:20.683Z"
   },
   {
    "duration": 1,
    "start_time": "2023-07-26T11:14:20.684Z"
   },
   {
    "duration": 0,
    "start_time": "2023-07-26T11:14:20.687Z"
   },
   {
    "duration": 0,
    "start_time": "2023-07-26T11:14:20.688Z"
   },
   {
    "duration": 100,
    "start_time": "2023-07-26T11:14:57.641Z"
   },
   {
    "duration": 11,
    "start_time": "2023-07-26T11:15:06.586Z"
   },
   {
    "duration": 12,
    "start_time": "2023-07-26T11:15:09.469Z"
   },
   {
    "duration": 10,
    "start_time": "2023-07-26T11:15:16.421Z"
   },
   {
    "duration": 12,
    "start_time": "2023-07-26T11:15:40.426Z"
   },
   {
    "duration": 1208,
    "start_time": "2023-07-26T11:15:42.084Z"
   },
   {
    "duration": 237,
    "start_time": "2023-07-26T11:16:41.466Z"
   },
   {
    "duration": 140,
    "start_time": "2023-07-26T11:16:58.870Z"
   },
   {
    "duration": 1175,
    "start_time": "2023-07-26T11:17:06.634Z"
   },
   {
    "duration": 127,
    "start_time": "2023-07-26T11:17:24.683Z"
   },
   {
    "duration": 142,
    "start_time": "2023-07-26T11:17:35.470Z"
   },
   {
    "duration": 16,
    "start_time": "2023-07-26T11:17:50.350Z"
   },
   {
    "duration": 183,
    "start_time": "2023-07-26T11:18:11.334Z"
   },
   {
    "duration": 90,
    "start_time": "2023-07-26T11:18:26.127Z"
   },
   {
    "duration": 94,
    "start_time": "2023-07-26T11:18:35.190Z"
   },
   {
    "duration": 265,
    "start_time": "2023-07-26T11:18:50.406Z"
   },
   {
    "duration": 1245,
    "start_time": "2023-07-26T11:21:20.423Z"
   },
   {
    "duration": 70,
    "start_time": "2023-07-26T11:21:21.671Z"
   },
   {
    "duration": 15,
    "start_time": "2023-07-26T11:21:21.743Z"
   },
   {
    "duration": 20,
    "start_time": "2023-07-26T11:21:21.761Z"
   },
   {
    "duration": 35,
    "start_time": "2023-07-26T11:21:21.783Z"
   },
   {
    "duration": 19,
    "start_time": "2023-07-26T11:21:21.820Z"
   },
   {
    "duration": 7,
    "start_time": "2023-07-26T11:21:21.841Z"
   },
   {
    "duration": 223,
    "start_time": "2023-07-26T11:21:21.850Z"
   },
   {
    "duration": 6,
    "start_time": "2023-07-26T11:21:22.075Z"
   },
   {
    "duration": 8,
    "start_time": "2023-07-26T11:21:22.084Z"
   },
   {
    "duration": 19,
    "start_time": "2023-07-26T11:21:22.093Z"
   },
   {
    "duration": 58,
    "start_time": "2023-07-26T11:21:22.114Z"
   },
   {
    "duration": 5,
    "start_time": "2023-07-26T11:21:22.174Z"
   },
   {
    "duration": 15,
    "start_time": "2023-07-26T11:21:22.181Z"
   },
   {
    "duration": 10,
    "start_time": "2023-07-26T11:21:22.198Z"
   },
   {
    "duration": 50,
    "start_time": "2023-07-26T11:21:22.210Z"
   },
   {
    "duration": 5,
    "start_time": "2023-07-26T11:21:22.262Z"
   },
   {
    "duration": 19,
    "start_time": "2023-07-26T11:21:22.268Z"
   },
   {
    "duration": 22,
    "start_time": "2023-07-26T11:21:22.289Z"
   },
   {
    "duration": 51,
    "start_time": "2023-07-26T11:21:22.313Z"
   },
   {
    "duration": 5,
    "start_time": "2023-07-26T11:21:22.365Z"
   },
   {
    "duration": 10,
    "start_time": "2023-07-26T11:21:22.372Z"
   },
   {
    "duration": 26,
    "start_time": "2023-07-26T11:21:22.383Z"
   },
   {
    "duration": 11,
    "start_time": "2023-07-26T11:21:22.410Z"
   },
   {
    "duration": 353,
    "start_time": "2023-07-26T11:21:22.423Z"
   },
   {
    "duration": 307,
    "start_time": "2023-07-26T11:21:22.778Z"
   },
   {
    "duration": 14,
    "start_time": "2023-07-26T11:21:23.087Z"
   },
   {
    "duration": 1326,
    "start_time": "2023-07-26T11:21:23.106Z"
   },
   {
    "duration": 205,
    "start_time": "2023-07-26T11:21:24.434Z"
   },
   {
    "duration": 24,
    "start_time": "2023-07-26T11:21:24.642Z"
   },
   {
    "duration": 20,
    "start_time": "2023-07-26T11:21:24.668Z"
   },
   {
    "duration": 6,
    "start_time": "2023-07-26T11:21:24.690Z"
   },
   {
    "duration": 189,
    "start_time": "2023-07-26T11:21:24.698Z"
   },
   {
    "duration": 7,
    "start_time": "2023-07-26T11:21:24.889Z"
   },
   {
    "duration": 169,
    "start_time": "2023-07-26T11:21:24.898Z"
   },
   {
    "duration": 161,
    "start_time": "2023-07-26T11:21:25.069Z"
   },
   {
    "duration": 171,
    "start_time": "2023-07-26T11:21:25.232Z"
   },
   {
    "duration": 369,
    "start_time": "2023-07-26T11:21:25.405Z"
   },
   {
    "duration": 330,
    "start_time": "2023-07-26T11:21:25.776Z"
   },
   {
    "duration": 15,
    "start_time": "2023-07-26T11:21:26.108Z"
   },
   {
    "duration": 314,
    "start_time": "2023-07-26T11:21:26.125Z"
   },
   {
    "duration": 26,
    "start_time": "2023-07-26T11:21:26.441Z"
   },
   {
    "duration": 21,
    "start_time": "2023-07-26T11:21:26.469Z"
   },
   {
    "duration": 24,
    "start_time": "2023-07-26T11:21:26.492Z"
   },
   {
    "duration": 244,
    "start_time": "2023-07-26T11:21:26.518Z"
   },
   {
    "duration": 467,
    "start_time": "2023-07-26T11:21:26.764Z"
   },
   {
    "duration": 791,
    "start_time": "2023-07-26T11:24:56.312Z"
   },
   {
    "duration": 846,
    "start_time": "2023-07-26T11:25:40.440Z"
   },
   {
    "duration": 901,
    "start_time": "2023-07-26T11:26:06.189Z"
   },
   {
    "duration": 98,
    "start_time": "2023-07-26T11:27:01.316Z"
   },
   {
    "duration": 895,
    "start_time": "2023-07-26T11:27:08.556Z"
   },
   {
    "duration": 869,
    "start_time": "2023-07-26T11:27:43.100Z"
   },
   {
    "duration": 1031,
    "start_time": "2023-07-26T11:28:00.513Z"
   },
   {
    "duration": 927,
    "start_time": "2023-07-26T11:28:06.538Z"
   },
   {
    "duration": 2037,
    "start_time": "2023-07-26T11:29:20.069Z"
   },
   {
    "duration": 1493,
    "start_time": "2023-07-26T11:29:36.849Z"
   },
   {
    "duration": 3523,
    "start_time": "2023-07-26T11:29:48.688Z"
   },
   {
    "duration": 3641,
    "start_time": "2023-07-26T11:30:22.683Z"
   },
   {
    "duration": 825,
    "start_time": "2023-07-26T11:30:37.221Z"
   },
   {
    "duration": 1595,
    "start_time": "2023-07-26T11:31:17.546Z"
   },
   {
    "duration": 76,
    "start_time": "2023-07-26T11:31:19.144Z"
   },
   {
    "duration": 15,
    "start_time": "2023-07-26T11:31:19.222Z"
   },
   {
    "duration": 3,
    "start_time": "2023-07-26T11:31:19.239Z"
   },
   {
    "duration": 32,
    "start_time": "2023-07-26T11:31:19.244Z"
   },
   {
    "duration": 19,
    "start_time": "2023-07-26T11:31:19.278Z"
   },
   {
    "duration": 5,
    "start_time": "2023-07-26T11:31:19.299Z"
   },
   {
    "duration": 214,
    "start_time": "2023-07-26T11:31:19.306Z"
   },
   {
    "duration": 5,
    "start_time": "2023-07-26T11:31:19.522Z"
   },
   {
    "duration": 12,
    "start_time": "2023-07-26T11:31:19.529Z"
   },
   {
    "duration": 30,
    "start_time": "2023-07-26T11:31:19.543Z"
   },
   {
    "duration": 24,
    "start_time": "2023-07-26T11:31:19.575Z"
   },
   {
    "duration": 3,
    "start_time": "2023-07-26T11:31:19.601Z"
   },
   {
    "duration": 17,
    "start_time": "2023-07-26T11:31:19.607Z"
   },
   {
    "duration": 33,
    "start_time": "2023-07-26T11:31:19.626Z"
   },
   {
    "duration": 19,
    "start_time": "2023-07-26T11:31:19.662Z"
   },
   {
    "duration": 6,
    "start_time": "2023-07-26T11:31:19.683Z"
   },
   {
    "duration": 25,
    "start_time": "2023-07-26T11:31:19.690Z"
   },
   {
    "duration": 17,
    "start_time": "2023-07-26T11:31:19.716Z"
   },
   {
    "duration": 57,
    "start_time": "2023-07-26T11:31:19.734Z"
   },
   {
    "duration": 5,
    "start_time": "2023-07-26T11:31:19.793Z"
   },
   {
    "duration": 5,
    "start_time": "2023-07-26T11:31:19.800Z"
   },
   {
    "duration": 5,
    "start_time": "2023-07-26T11:31:19.807Z"
   },
   {
    "duration": 10,
    "start_time": "2023-07-26T11:31:19.814Z"
   },
   {
    "duration": 397,
    "start_time": "2023-07-26T11:31:19.825Z"
   },
   {
    "duration": 305,
    "start_time": "2023-07-26T11:31:20.223Z"
   },
   {
    "duration": 12,
    "start_time": "2023-07-26T11:31:20.530Z"
   },
   {
    "duration": 1261,
    "start_time": "2023-07-26T11:31:20.544Z"
   },
   {
    "duration": 210,
    "start_time": "2023-07-26T11:31:21.807Z"
   },
   {
    "duration": 22,
    "start_time": "2023-07-26T11:31:22.019Z"
   },
   {
    "duration": 6,
    "start_time": "2023-07-26T11:31:22.060Z"
   },
   {
    "duration": 32,
    "start_time": "2023-07-26T11:31:22.068Z"
   },
   {
    "duration": 181,
    "start_time": "2023-07-26T11:31:22.102Z"
   },
   {
    "duration": 114,
    "start_time": "2023-07-26T11:31:22.285Z"
   },
   {
    "duration": 0,
    "start_time": "2023-07-26T11:31:22.402Z"
   },
   {
    "duration": 1,
    "start_time": "2023-07-26T11:31:22.403Z"
   },
   {
    "duration": 0,
    "start_time": "2023-07-26T11:31:22.405Z"
   },
   {
    "duration": 0,
    "start_time": "2023-07-26T11:31:22.407Z"
   },
   {
    "duration": 0,
    "start_time": "2023-07-26T11:31:22.409Z"
   },
   {
    "duration": 0,
    "start_time": "2023-07-26T11:31:22.410Z"
   },
   {
    "duration": 0,
    "start_time": "2023-07-26T11:31:22.412Z"
   },
   {
    "duration": 0,
    "start_time": "2023-07-26T11:31:22.414Z"
   },
   {
    "duration": 0,
    "start_time": "2023-07-26T11:31:22.415Z"
   },
   {
    "duration": 0,
    "start_time": "2023-07-26T11:31:22.417Z"
   },
   {
    "duration": 0,
    "start_time": "2023-07-26T11:31:22.418Z"
   },
   {
    "duration": 0,
    "start_time": "2023-07-26T11:31:22.419Z"
   },
   {
    "duration": 0,
    "start_time": "2023-07-26T11:31:22.421Z"
   },
   {
    "duration": 104,
    "start_time": "2023-07-26T11:32:02.889Z"
   },
   {
    "duration": 188,
    "start_time": "2023-07-26T11:32:15.595Z"
   },
   {
    "duration": 177,
    "start_time": "2023-07-26T11:32:20.434Z"
   },
   {
    "duration": 190,
    "start_time": "2023-07-26T11:32:26.138Z"
   },
   {
    "duration": 107,
    "start_time": "2023-07-26T11:32:37.495Z"
   },
   {
    "duration": 35,
    "start_time": "2023-07-26T11:33:47.889Z"
   },
   {
    "duration": 19,
    "start_time": "2023-07-26T11:34:01.796Z"
   },
   {
    "duration": 847,
    "start_time": "2023-07-26T11:34:15.095Z"
   },
   {
    "duration": 443,
    "start_time": "2023-07-26T11:35:05.232Z"
   },
   {
    "duration": 326,
    "start_time": "2023-07-26T11:35:15.895Z"
   },
   {
    "duration": 16,
    "start_time": "2023-07-26T11:37:45.232Z"
   },
   {
    "duration": 315,
    "start_time": "2023-07-26T11:38:25.406Z"
   },
   {
    "duration": 423,
    "start_time": "2023-07-26T11:39:54.216Z"
   },
   {
    "duration": 356,
    "start_time": "2023-07-26T11:40:34.248Z"
   },
   {
    "duration": 89,
    "start_time": "2023-07-26T11:43:18.442Z"
   },
   {
    "duration": 322,
    "start_time": "2023-07-26T11:43:21.462Z"
   },
   {
    "duration": 340,
    "start_time": "2023-07-26T11:43:27.798Z"
   },
   {
    "duration": 403,
    "start_time": "2023-07-26T11:43:36.598Z"
   },
   {
    "duration": 17,
    "start_time": "2023-07-26T11:45:14.642Z"
   },
   {
    "duration": 529,
    "start_time": "2023-07-26T11:46:36.334Z"
   },
   {
    "duration": 213,
    "start_time": "2023-07-26T11:48:09.643Z"
   },
   {
    "duration": 513,
    "start_time": "2023-07-26T11:48:29.572Z"
   },
   {
    "duration": 304,
    "start_time": "2023-07-26T11:48:34.711Z"
   },
   {
    "duration": 298,
    "start_time": "2023-07-26T11:48:49.619Z"
   },
   {
    "duration": 301,
    "start_time": "2023-07-26T11:49:14.543Z"
   },
   {
    "duration": 312,
    "start_time": "2023-07-26T11:53:15.293Z"
   },
   {
    "duration": 443,
    "start_time": "2023-07-26T11:55:12.334Z"
   },
   {
    "duration": 1613,
    "start_time": "2023-07-27T03:53:36.960Z"
   },
   {
    "duration": 171,
    "start_time": "2023-07-27T03:53:38.579Z"
   },
   {
    "duration": 23,
    "start_time": "2023-07-27T03:53:38.752Z"
   },
   {
    "duration": 33,
    "start_time": "2023-07-27T03:53:38.779Z"
   },
   {
    "duration": 43,
    "start_time": "2023-07-27T03:53:38.814Z"
   },
   {
    "duration": 21,
    "start_time": "2023-07-27T03:53:38.859Z"
   },
   {
    "duration": 7,
    "start_time": "2023-07-27T03:53:38.882Z"
   },
   {
    "duration": 275,
    "start_time": "2023-07-27T03:53:38.893Z"
   },
   {
    "duration": 7,
    "start_time": "2023-07-27T03:53:39.170Z"
   },
   {
    "duration": 22,
    "start_time": "2023-07-27T03:53:39.180Z"
   },
   {
    "duration": 42,
    "start_time": "2023-07-27T03:53:39.204Z"
   },
   {
    "duration": 53,
    "start_time": "2023-07-27T03:53:39.247Z"
   },
   {
    "duration": 16,
    "start_time": "2023-07-27T03:53:39.303Z"
   },
   {
    "duration": 44,
    "start_time": "2023-07-27T03:53:39.321Z"
   },
   {
    "duration": 13,
    "start_time": "2023-07-27T03:53:39.369Z"
   },
   {
    "duration": 56,
    "start_time": "2023-07-27T03:53:39.384Z"
   },
   {
    "duration": 5,
    "start_time": "2023-07-27T03:53:39.444Z"
   },
   {
    "duration": 31,
    "start_time": "2023-07-27T03:53:39.451Z"
   },
   {
    "duration": 30,
    "start_time": "2023-07-27T03:53:39.484Z"
   },
   {
    "duration": 40,
    "start_time": "2023-07-27T03:53:39.516Z"
   },
   {
    "duration": 8,
    "start_time": "2023-07-27T03:53:39.558Z"
   },
   {
    "duration": 11,
    "start_time": "2023-07-27T03:53:39.568Z"
   },
   {
    "duration": 21,
    "start_time": "2023-07-27T03:53:39.581Z"
   },
   {
    "duration": 45,
    "start_time": "2023-07-27T03:53:39.605Z"
   },
   {
    "duration": 432,
    "start_time": "2023-07-27T03:53:39.652Z"
   },
   {
    "duration": 335,
    "start_time": "2023-07-27T03:53:40.086Z"
   },
   {
    "duration": 32,
    "start_time": "2023-07-27T03:53:40.423Z"
   },
   {
    "duration": 1372,
    "start_time": "2023-07-27T03:53:40.461Z"
   },
   {
    "duration": 257,
    "start_time": "2023-07-27T03:53:41.835Z"
   },
   {
    "duration": 27,
    "start_time": "2023-07-27T03:53:42.095Z"
   },
   {
    "duration": 19,
    "start_time": "2023-07-27T03:53:42.124Z"
   },
   {
    "duration": 17,
    "start_time": "2023-07-27T03:53:42.151Z"
   },
   {
    "duration": 281,
    "start_time": "2023-07-27T03:53:42.171Z"
   },
   {
    "duration": 36,
    "start_time": "2023-07-27T03:53:42.454Z"
   },
   {
    "duration": 1245,
    "start_time": "2023-07-27T03:53:42.492Z"
   },
   {
    "duration": 403,
    "start_time": "2023-07-27T03:53:43.740Z"
   },
   {
    "duration": 508,
    "start_time": "2023-07-27T03:53:44.145Z"
   },
   {
    "duration": 495,
    "start_time": "2023-07-27T03:53:44.656Z"
   },
   {
    "duration": 23,
    "start_time": "2023-07-27T03:53:45.153Z"
   },
   {
    "duration": 27,
    "start_time": "2023-07-27T03:53:45.179Z"
   },
   {
    "duration": 45,
    "start_time": "2023-07-27T03:53:45.208Z"
   },
   {
    "duration": 22,
    "start_time": "2023-07-27T03:53:45.256Z"
   },
   {
    "duration": 28,
    "start_time": "2023-07-27T03:53:45.281Z"
   },
   {
    "duration": 627,
    "start_time": "2023-07-27T03:53:45.315Z"
   },
   {
    "duration": 1375,
    "start_time": "2023-07-27T04:03:40.895Z"
   },
   {
    "duration": 101,
    "start_time": "2023-07-27T04:03:42.272Z"
   },
   {
    "duration": 19,
    "start_time": "2023-07-27T04:03:42.376Z"
   },
   {
    "duration": 4,
    "start_time": "2023-07-27T04:03:42.398Z"
   },
   {
    "duration": 23,
    "start_time": "2023-07-27T04:03:42.403Z"
   },
   {
    "duration": 32,
    "start_time": "2023-07-27T04:03:42.428Z"
   },
   {
    "duration": 26,
    "start_time": "2023-07-27T04:03:42.461Z"
   },
   {
    "duration": 304,
    "start_time": "2023-07-27T04:03:42.489Z"
   },
   {
    "duration": 6,
    "start_time": "2023-07-27T04:03:42.796Z"
   },
   {
    "duration": 22,
    "start_time": "2023-07-27T04:03:42.806Z"
   },
   {
    "duration": 45,
    "start_time": "2023-07-27T04:03:42.830Z"
   },
   {
    "duration": 32,
    "start_time": "2023-07-27T04:03:42.877Z"
   },
   {
    "duration": 6,
    "start_time": "2023-07-27T04:03:42.911Z"
   },
   {
    "duration": 38,
    "start_time": "2023-07-27T04:03:42.919Z"
   },
   {
    "duration": 38,
    "start_time": "2023-07-27T04:03:42.958Z"
   },
   {
    "duration": 43,
    "start_time": "2023-07-27T04:03:42.998Z"
   },
   {
    "duration": 45,
    "start_time": "2023-07-27T04:03:43.043Z"
   },
   {
    "duration": 26,
    "start_time": "2023-07-27T04:03:43.091Z"
   },
   {
    "duration": 23,
    "start_time": "2023-07-27T04:03:43.119Z"
   },
   {
    "duration": 36,
    "start_time": "2023-07-27T04:03:43.143Z"
   },
   {
    "duration": 15,
    "start_time": "2023-07-27T04:03:43.181Z"
   },
   {
    "duration": 15,
    "start_time": "2023-07-27T04:03:43.198Z"
   },
   {
    "duration": 25,
    "start_time": "2023-07-27T04:03:43.215Z"
   },
   {
    "duration": 40,
    "start_time": "2023-07-27T04:03:43.242Z"
   },
   {
    "duration": 420,
    "start_time": "2023-07-27T04:03:43.284Z"
   },
   {
    "duration": 364,
    "start_time": "2023-07-27T04:03:43.706Z"
   },
   {
    "duration": 24,
    "start_time": "2023-07-27T04:03:44.073Z"
   },
   {
    "duration": 1617,
    "start_time": "2023-07-27T04:03:44.101Z"
   },
   {
    "duration": 275,
    "start_time": "2023-07-27T04:03:45.720Z"
   },
   {
    "duration": 18,
    "start_time": "2023-07-27T04:03:45.997Z"
   },
   {
    "duration": 18,
    "start_time": "2023-07-27T04:03:46.017Z"
   },
   {
    "duration": 22,
    "start_time": "2023-07-27T04:03:46.038Z"
   },
   {
    "duration": 286,
    "start_time": "2023-07-27T04:03:46.062Z"
   },
   {
    "duration": 24,
    "start_time": "2023-07-27T04:03:46.349Z"
   },
   {
    "duration": 1052,
    "start_time": "2023-07-27T04:03:46.378Z"
   },
   {
    "duration": 369,
    "start_time": "2023-07-27T04:03:47.432Z"
   },
   {
    "duration": 373,
    "start_time": "2023-07-27T04:03:47.803Z"
   },
   {
    "duration": 400,
    "start_time": "2023-07-27T04:03:48.178Z"
   },
   {
    "duration": 22,
    "start_time": "2023-07-27T04:03:48.582Z"
   },
   {
    "duration": 37,
    "start_time": "2023-07-27T04:03:48.607Z"
   },
   {
    "duration": 46,
    "start_time": "2023-07-27T04:03:48.656Z"
   },
   {
    "duration": 25,
    "start_time": "2023-07-27T04:03:48.706Z"
   },
   {
    "duration": 18,
    "start_time": "2023-07-27T04:03:48.734Z"
   },
   {
    "duration": 548,
    "start_time": "2023-07-27T04:03:48.758Z"
   },
   {
    "duration": 10,
    "start_time": "2023-07-27T04:04:38.540Z"
   },
   {
    "duration": 120,
    "start_time": "2023-07-27T04:06:40.595Z"
   },
   {
    "duration": 12,
    "start_time": "2023-07-27T04:06:58.132Z"
   },
   {
    "duration": 6,
    "start_time": "2023-07-27T04:13:24.858Z"
   },
   {
    "duration": 71,
    "start_time": "2023-07-27T04:13:26.598Z"
   },
   {
    "duration": 28,
    "start_time": "2023-07-27T04:13:28.588Z"
   },
   {
    "duration": 10,
    "start_time": "2023-07-27T04:13:31.951Z"
   },
   {
    "duration": 17,
    "start_time": "2023-07-27T04:13:33.710Z"
   },
   {
    "duration": 31,
    "start_time": "2023-07-27T04:13:36.260Z"
   },
   {
    "duration": 28,
    "start_time": "2023-07-27T04:13:38.350Z"
   },
   {
    "duration": 11,
    "start_time": "2023-07-27T04:13:48.006Z"
   },
   {
    "duration": 6,
    "start_time": "2023-07-27T04:13:52.835Z"
   },
   {
    "duration": 8,
    "start_time": "2023-07-27T04:13:54.422Z"
   },
   {
    "duration": 16,
    "start_time": "2023-07-27T04:13:59.079Z"
   },
   {
    "duration": 35,
    "start_time": "2023-07-27T04:14:03.151Z"
   },
   {
    "duration": 5,
    "start_time": "2023-07-27T04:14:07.167Z"
   },
   {
    "duration": 18,
    "start_time": "2023-07-27T04:14:10.364Z"
   },
   {
    "duration": 13,
    "start_time": "2023-07-27T04:14:13.318Z"
   },
   {
    "duration": 2783,
    "start_time": "2023-07-27T04:14:32.421Z"
   },
   {
    "duration": 26,
    "start_time": "2023-07-27T04:16:31.335Z"
   },
   {
    "duration": 11,
    "start_time": "2023-07-27T04:16:49.611Z"
   },
   {
    "duration": 9,
    "start_time": "2023-07-27T04:17:04.181Z"
   },
   {
    "duration": 14,
    "start_time": "2023-07-27T04:18:56.214Z"
   },
   {
    "duration": 20,
    "start_time": "2023-07-27T04:21:46.071Z"
   },
   {
    "duration": 7,
    "start_time": "2023-07-27T04:22:23.818Z"
   },
   {
    "duration": 26,
    "start_time": "2023-07-27T04:22:26.926Z"
   },
   {
    "duration": 42,
    "start_time": "2023-07-27T04:22:32.490Z"
   },
   {
    "duration": 9,
    "start_time": "2023-07-27T04:22:37.224Z"
   },
   {
    "duration": 6,
    "start_time": "2023-07-27T04:23:00.241Z"
   },
   {
    "duration": 9,
    "start_time": "2023-07-27T04:23:02.835Z"
   },
   {
    "duration": 15,
    "start_time": "2023-07-27T04:23:05.522Z"
   },
   {
    "duration": 442,
    "start_time": "2023-07-27T04:24:09.898Z"
   },
   {
    "duration": 404,
    "start_time": "2023-07-27T04:24:14.080Z"
   },
   {
    "duration": 15,
    "start_time": "2023-07-27T04:24:26.112Z"
   },
   {
    "duration": 1627,
    "start_time": "2023-07-27T04:24:31.291Z"
   },
   {
    "duration": 289,
    "start_time": "2023-07-27T04:25:22.352Z"
   },
   {
    "duration": 222,
    "start_time": "2023-07-27T04:25:50.111Z"
   },
   {
    "duration": 17,
    "start_time": "2023-07-27T04:25:54.625Z"
   },
   {
    "duration": 17,
    "start_time": "2023-07-27T04:26:19.927Z"
   },
   {
    "duration": 9,
    "start_time": "2023-07-27T04:26:24.480Z"
   },
   {
    "duration": 9,
    "start_time": "2023-07-27T04:26:59.910Z"
   },
   {
    "duration": 386,
    "start_time": "2023-07-27T04:27:16.928Z"
   },
   {
    "duration": 16,
    "start_time": "2023-07-27T04:28:25.296Z"
   },
   {
    "duration": 1127,
    "start_time": "2023-07-27T04:28:27.879Z"
   },
   {
    "duration": 375,
    "start_time": "2023-07-27T04:28:54.570Z"
   },
   {
    "duration": 147,
    "start_time": "2023-07-27T04:36:50.810Z"
   },
   {
    "duration": 8,
    "start_time": "2023-07-27T04:37:02.089Z"
   },
   {
    "duration": 25,
    "start_time": "2023-07-27T04:37:09.109Z"
   },
   {
    "duration": 16,
    "start_time": "2023-07-27T04:40:26.114Z"
   },
   {
    "duration": 327,
    "start_time": "2023-07-27T04:40:41.408Z"
   },
   {
    "duration": 346,
    "start_time": "2023-07-27T04:41:36.832Z"
   },
   {
    "duration": 16,
    "start_time": "2023-07-27T04:45:00.101Z"
   },
   {
    "duration": 333,
    "start_time": "2023-07-27T04:46:23.668Z"
   },
   {
    "duration": 343,
    "start_time": "2023-07-27T04:46:48.639Z"
   },
   {
    "duration": 12,
    "start_time": "2023-07-27T04:47:36.924Z"
   },
   {
    "duration": 395,
    "start_time": "2023-07-27T04:47:43.444Z"
   },
   {
    "duration": 518,
    "start_time": "2023-07-27T04:52:05.219Z"
   },
   {
    "duration": 79,
    "start_time": "2023-07-27T04:54:46.537Z"
   },
   {
    "duration": 12,
    "start_time": "2023-07-27T06:08:03.136Z"
   },
   {
    "duration": 49,
    "start_time": "2023-07-27T06:08:48.370Z"
   },
   {
    "duration": 30,
    "start_time": "2023-07-27T06:09:38.810Z"
   },
   {
    "duration": 13,
    "start_time": "2023-07-27T06:10:29.582Z"
   },
   {
    "duration": 44,
    "start_time": "2023-07-27T06:10:34.719Z"
   },
   {
    "duration": 13,
    "start_time": "2023-07-27T06:10:36.850Z"
   },
   {
    "duration": 31,
    "start_time": "2023-07-27T06:10:46.615Z"
   },
   {
    "duration": 14,
    "start_time": "2023-07-27T06:10:52.503Z"
   },
   {
    "duration": 12,
    "start_time": "2023-07-27T06:11:52.283Z"
   },
   {
    "duration": 1282,
    "start_time": "2023-07-27T06:13:26.719Z"
   },
   {
    "duration": 77,
    "start_time": "2023-07-27T06:13:28.004Z"
   },
   {
    "duration": 252,
    "start_time": "2023-07-27T06:13:28.083Z"
   },
   {
    "duration": 171,
    "start_time": "2023-07-27T06:13:28.339Z"
   },
   {
    "duration": 150,
    "start_time": "2023-07-27T06:13:28.513Z"
   },
   {
    "duration": 238,
    "start_time": "2023-07-27T06:13:28.665Z"
   },
   {
    "duration": 187,
    "start_time": "2023-07-27T06:13:28.905Z"
   },
   {
    "duration": 97,
    "start_time": "2023-07-27T06:13:29.094Z"
   },
   {
    "duration": 342,
    "start_time": "2023-07-27T06:13:29.193Z"
   },
   {
    "duration": 5,
    "start_time": "2023-07-27T06:13:29.538Z"
   },
   {
    "duration": 186,
    "start_time": "2023-07-27T06:13:29.551Z"
   },
   {
    "duration": 267,
    "start_time": "2023-07-27T06:13:29.739Z"
   },
   {
    "duration": 258,
    "start_time": "2023-07-27T06:13:30.007Z"
   },
   {
    "duration": 255,
    "start_time": "2023-07-27T06:13:30.267Z"
   },
   {
    "duration": 315,
    "start_time": "2023-07-27T06:13:30.525Z"
   },
   {
    "duration": 301,
    "start_time": "2023-07-27T06:13:30.842Z"
   },
   {
    "duration": 303,
    "start_time": "2023-07-27T06:13:31.145Z"
   },
   {
    "duration": 227,
    "start_time": "2023-07-27T06:13:31.455Z"
   },
   {
    "duration": 222,
    "start_time": "2023-07-27T06:13:31.685Z"
   },
   {
    "duration": 295,
    "start_time": "2023-07-27T06:13:31.909Z"
   },
   {
    "duration": 354,
    "start_time": "2023-07-27T06:13:32.206Z"
   },
   {
    "duration": 268,
    "start_time": "2023-07-27T06:13:32.562Z"
   },
   {
    "duration": 161,
    "start_time": "2023-07-27T06:13:32.832Z"
   },
   {
    "duration": 217,
    "start_time": "2023-07-27T06:13:32.995Z"
   },
   {
    "duration": 226,
    "start_time": "2023-07-27T06:13:33.214Z"
   },
   {
    "duration": 233,
    "start_time": "2023-07-27T06:13:33.442Z"
   },
   {
    "duration": 572,
    "start_time": "2023-07-27T06:13:33.677Z"
   },
   {
    "duration": 335,
    "start_time": "2023-07-27T06:13:34.253Z"
   },
   {
    "duration": 13,
    "start_time": "2023-07-27T06:13:34.595Z"
   },
   {
    "duration": 1611,
    "start_time": "2023-07-27T06:13:34.609Z"
   },
   {
    "duration": 33,
    "start_time": "2023-07-27T06:13:36.222Z"
   },
   {
    "duration": 272,
    "start_time": "2023-07-27T06:13:36.258Z"
   },
   {
    "duration": 321,
    "start_time": "2023-07-27T06:13:36.532Z"
   },
   {
    "duration": 506,
    "start_time": "2023-07-27T06:13:36.861Z"
   },
   {
    "duration": 162,
    "start_time": "2023-07-27T06:13:37.375Z"
   },
   {
    "duration": 1331,
    "start_time": "2023-07-27T06:13:37.539Z"
   },
   {
    "duration": 339,
    "start_time": "2023-07-27T06:13:38.872Z"
   },
   {
    "duration": 7,
    "start_time": "2023-07-27T06:13:39.212Z"
   },
   {
    "duration": 551,
    "start_time": "2023-07-27T06:13:39.220Z"
   },
   {
    "duration": 346,
    "start_time": "2023-07-27T06:13:39.774Z"
   },
   {
    "duration": 518,
    "start_time": "2023-07-27T06:13:40.122Z"
   },
   {
    "duration": 11,
    "start_time": "2023-07-27T06:15:53.430Z"
   },
   {
    "duration": 12,
    "start_time": "2023-07-27T06:16:00.198Z"
   },
   {
    "duration": 1306,
    "start_time": "2023-07-27T06:16:12.597Z"
   },
   {
    "duration": 77,
    "start_time": "2023-07-27T06:16:13.905Z"
   },
   {
    "duration": 288,
    "start_time": "2023-07-27T06:16:13.984Z"
   },
   {
    "duration": 203,
    "start_time": "2023-07-27T06:16:14.275Z"
   },
   {
    "duration": 161,
    "start_time": "2023-07-27T06:16:14.480Z"
   },
   {
    "duration": 152,
    "start_time": "2023-07-27T06:16:14.643Z"
   },
   {
    "duration": 222,
    "start_time": "2023-07-27T06:16:14.797Z"
   },
   {
    "duration": 191,
    "start_time": "2023-07-27T06:16:15.021Z"
   },
   {
    "duration": 567,
    "start_time": "2023-07-27T06:16:15.214Z"
   },
   {
    "duration": 87,
    "start_time": "2023-07-27T06:16:15.784Z"
   },
   {
    "duration": 302,
    "start_time": "2023-07-27T06:16:15.872Z"
   },
   {
    "duration": 268,
    "start_time": "2023-07-27T06:16:16.176Z"
   },
   {
    "duration": 246,
    "start_time": "2023-07-27T06:16:16.446Z"
   },
   {
    "duration": 179,
    "start_time": "2023-07-27T06:16:16.693Z"
   },
   {
    "duration": 188,
    "start_time": "2023-07-27T06:16:16.874Z"
   },
   {
    "duration": 393,
    "start_time": "2023-07-27T06:16:17.064Z"
   },
   {
    "duration": 236,
    "start_time": "2023-07-27T06:16:17.459Z"
   },
   {
    "duration": 173,
    "start_time": "2023-07-27T06:16:17.697Z"
   },
   {
    "duration": 102,
    "start_time": "2023-07-27T06:16:17.872Z"
   },
   {
    "duration": 288,
    "start_time": "2023-07-27T06:16:17.976Z"
   },
   {
    "duration": 311,
    "start_time": "2023-07-27T06:16:18.266Z"
   },
   {
    "duration": 185,
    "start_time": "2023-07-27T06:16:18.581Z"
   },
   {
    "duration": 184,
    "start_time": "2023-07-27T06:16:18.773Z"
   },
   {
    "duration": 234,
    "start_time": "2023-07-27T06:16:18.960Z"
   },
   {
    "duration": 187,
    "start_time": "2023-07-27T06:16:19.196Z"
   },
   {
    "duration": 159,
    "start_time": "2023-07-27T06:16:19.386Z"
   },
   {
    "duration": 568,
    "start_time": "2023-07-27T06:16:19.547Z"
   },
   {
    "duration": 386,
    "start_time": "2023-07-27T06:16:20.121Z"
   },
   {
    "duration": 20,
    "start_time": "2023-07-27T06:16:20.510Z"
   },
   {
    "duration": 1742,
    "start_time": "2023-07-27T06:16:20.533Z"
   },
   {
    "duration": 20,
    "start_time": "2023-07-27T06:16:22.278Z"
   },
   {
    "duration": 240,
    "start_time": "2023-07-27T06:16:22.300Z"
   },
   {
    "duration": 147,
    "start_time": "2023-07-27T06:16:22.541Z"
   },
   {
    "duration": 403,
    "start_time": "2023-07-27T06:16:22.690Z"
   },
   {
    "duration": 12,
    "start_time": "2023-07-27T06:16:23.095Z"
   },
   {
    "duration": 1332,
    "start_time": "2023-07-27T06:16:23.109Z"
   },
   {
    "duration": 355,
    "start_time": "2023-07-27T06:16:24.455Z"
   },
   {
    "duration": 7,
    "start_time": "2023-07-27T06:16:24.812Z"
   },
   {
    "duration": 477,
    "start_time": "2023-07-27T06:16:24.821Z"
   },
   {
    "duration": 418,
    "start_time": "2023-07-27T06:16:25.300Z"
   },
   {
    "duration": 521,
    "start_time": "2023-07-27T06:16:25.719Z"
   },
   {
    "duration": 351,
    "start_time": "2023-07-27T06:19:49.461Z"
   },
   {
    "duration": 355,
    "start_time": "2023-07-27T06:26:56.104Z"
   },
   {
    "duration": 358,
    "start_time": "2023-07-27T06:27:05.342Z"
   },
   {
    "duration": 369,
    "start_time": "2023-07-27T06:27:12.175Z"
   },
   {
    "duration": 305,
    "start_time": "2023-07-27T06:27:19.528Z"
   },
   {
    "duration": 433,
    "start_time": "2023-07-27T06:27:29.592Z"
   },
   {
    "duration": 302,
    "start_time": "2023-07-27T06:27:45.585Z"
   },
   {
    "duration": 443,
    "start_time": "2023-07-27T06:27:53.347Z"
   },
   {
    "duration": 336,
    "start_time": "2023-07-27T06:30:24.663Z"
   },
   {
    "duration": 439,
    "start_time": "2023-07-27T06:30:38.287Z"
   },
   {
    "duration": 434,
    "start_time": "2023-07-27T06:30:42.894Z"
   },
   {
    "duration": 353,
    "start_time": "2023-07-27T06:30:54.395Z"
   },
   {
    "duration": 319,
    "start_time": "2023-07-27T06:31:04.525Z"
   },
   {
    "duration": 319,
    "start_time": "2023-07-27T06:31:21.309Z"
   },
   {
    "duration": 332,
    "start_time": "2023-07-27T06:31:28.453Z"
   },
   {
    "duration": 110,
    "start_time": "2023-07-27T06:34:40.277Z"
   },
   {
    "duration": 18,
    "start_time": "2023-07-27T06:35:20.166Z"
   },
   {
    "duration": 408,
    "start_time": "2023-07-27T06:37:32.855Z"
   },
   {
    "duration": 445,
    "start_time": "2023-07-27T06:39:01.755Z"
   },
   {
    "duration": 347,
    "start_time": "2023-07-27T06:39:19.730Z"
   },
   {
    "duration": 313,
    "start_time": "2023-07-27T06:39:31.586Z"
   },
   {
    "duration": 288,
    "start_time": "2023-07-27T06:39:53.745Z"
   },
   {
    "duration": 306,
    "start_time": "2023-07-27T06:40:07.553Z"
   },
   {
    "duration": 488,
    "start_time": "2023-07-27T06:41:01.632Z"
   },
   {
    "duration": 4,
    "start_time": "2023-07-27T06:45:59.318Z"
   },
   {
    "duration": 4,
    "start_time": "2023-07-27T06:46:05.646Z"
   },
   {
    "duration": 5,
    "start_time": "2023-07-27T06:46:09.902Z"
   },
   {
    "duration": 4,
    "start_time": "2023-07-27T06:46:48.464Z"
   },
   {
    "duration": 6,
    "start_time": "2023-07-27T06:49:07.068Z"
   },
   {
    "duration": 3,
    "start_time": "2023-07-27T07:02:49.933Z"
   },
   {
    "duration": 5,
    "start_time": "2023-07-27T07:02:52.485Z"
   },
   {
    "duration": 69,
    "start_time": "2023-07-27T07:02:54.316Z"
   },
   {
    "duration": 9,
    "start_time": "2023-07-27T07:03:27.291Z"
   },
   {
    "duration": 29,
    "start_time": "2023-07-27T07:05:32.891Z"
   },
   {
    "duration": 18,
    "start_time": "2023-07-27T07:05:42.667Z"
   },
   {
    "duration": 7,
    "start_time": "2023-07-27T07:10:08.754Z"
   },
   {
    "duration": 5,
    "start_time": "2023-07-27T07:12:54.494Z"
   },
   {
    "duration": 5,
    "start_time": "2023-07-27T07:13:03.470Z"
   },
   {
    "duration": 20,
    "start_time": "2023-07-27T07:14:09.502Z"
   },
   {
    "duration": 20,
    "start_time": "2023-07-27T07:14:13.998Z"
   },
   {
    "duration": 24,
    "start_time": "2023-07-27T07:14:30.736Z"
   },
   {
    "duration": 21,
    "start_time": "2023-07-27T07:14:35.394Z"
   },
   {
    "duration": 6,
    "start_time": "2023-07-27T07:15:18.231Z"
   },
   {
    "duration": 10,
    "start_time": "2023-07-27T07:15:26.113Z"
   },
   {
    "duration": 8,
    "start_time": "2023-07-27T07:18:14.060Z"
   },
   {
    "duration": 15,
    "start_time": "2023-07-27T07:18:20.396Z"
   },
   {
    "duration": 12,
    "start_time": "2023-07-27T07:18:38.871Z"
   },
   {
    "duration": 11,
    "start_time": "2023-07-27T07:19:17.476Z"
   },
   {
    "duration": 34,
    "start_time": "2023-07-27T07:19:38.619Z"
   },
   {
    "duration": 27,
    "start_time": "2023-07-27T07:19:43.620Z"
   },
   {
    "duration": 14,
    "start_time": "2023-07-27T07:19:47.295Z"
   },
   {
    "duration": 8,
    "start_time": "2023-07-27T07:20:31.781Z"
   },
   {
    "duration": 10,
    "start_time": "2023-07-27T07:20:38.170Z"
   },
   {
    "duration": 7,
    "start_time": "2023-07-27T07:21:37.075Z"
   },
   {
    "duration": 12,
    "start_time": "2023-07-27T07:33:34.788Z"
   },
   {
    "duration": 23,
    "start_time": "2023-07-27T07:33:46.163Z"
   },
   {
    "duration": 21,
    "start_time": "2023-07-27T07:35:05.363Z"
   },
   {
    "duration": 33,
    "start_time": "2023-07-27T07:35:09.756Z"
   },
   {
    "duration": 9,
    "start_time": "2023-07-27T07:36:46.452Z"
   },
   {
    "duration": 9,
    "start_time": "2023-07-27T07:36:53.236Z"
   },
   {
    "duration": 199,
    "start_time": "2023-07-27T07:42:02.849Z"
   },
   {
    "duration": 288,
    "start_time": "2023-07-27T07:42:11.951Z"
   },
   {
    "duration": 11,
    "start_time": "2023-07-27T07:42:22.584Z"
   },
   {
    "duration": 11,
    "start_time": "2023-07-27T07:42:34.159Z"
   },
   {
    "duration": 11,
    "start_time": "2023-07-27T07:42:46.372Z"
   },
   {
    "duration": 22,
    "start_time": "2023-07-27T07:43:00.174Z"
   },
   {
    "duration": 133,
    "start_time": "2023-07-27T07:45:22.727Z"
   },
   {
    "duration": 474,
    "start_time": "2023-07-27T07:47:48.036Z"
   },
   {
    "duration": 20,
    "start_time": "2023-07-27T07:48:15.646Z"
   },
   {
    "duration": 12,
    "start_time": "2023-07-27T07:48:19.443Z"
   },
   {
    "duration": 140,
    "start_time": "2023-07-27T07:49:29.739Z"
   },
   {
    "duration": 20,
    "start_time": "2023-07-27T07:50:10.371Z"
   },
   {
    "duration": 14,
    "start_time": "2023-07-27T07:50:19.155Z"
   },
   {
    "duration": 113,
    "start_time": "2023-07-27T07:51:48.692Z"
   },
   {
    "duration": 179,
    "start_time": "2023-07-27T07:52:05.291Z"
   },
   {
    "duration": 17,
    "start_time": "2023-07-27T07:52:47.505Z"
   },
   {
    "duration": 1291,
    "start_time": "2023-07-27T07:53:13.850Z"
   },
   {
    "duration": 103,
    "start_time": "2023-07-27T07:53:15.144Z"
   },
   {
    "duration": 16,
    "start_time": "2023-07-27T07:53:15.249Z"
   },
   {
    "duration": 36,
    "start_time": "2023-07-27T07:53:15.267Z"
   },
   {
    "duration": 75,
    "start_time": "2023-07-27T07:53:15.305Z"
   },
   {
    "duration": 25,
    "start_time": "2023-07-27T07:53:15.383Z"
   },
   {
    "duration": 22,
    "start_time": "2023-07-27T07:53:15.411Z"
   },
   {
    "duration": 30,
    "start_time": "2023-07-27T07:53:15.436Z"
   },
   {
    "duration": 224,
    "start_time": "2023-07-27T07:53:15.469Z"
   },
   {
    "duration": 5,
    "start_time": "2023-07-27T07:53:15.697Z"
   },
   {
    "duration": 28,
    "start_time": "2023-07-27T07:53:15.704Z"
   },
   {
    "duration": 65,
    "start_time": "2023-07-27T07:53:15.734Z"
   },
   {
    "duration": 26,
    "start_time": "2023-07-27T07:53:15.801Z"
   },
   {
    "duration": 14,
    "start_time": "2023-07-27T07:53:15.829Z"
   },
   {
    "duration": 29,
    "start_time": "2023-07-27T07:53:15.845Z"
   },
   {
    "duration": 13,
    "start_time": "2023-07-27T07:53:15.876Z"
   },
   {
    "duration": 17,
    "start_time": "2023-07-27T07:53:15.890Z"
   },
   {
    "duration": 15,
    "start_time": "2023-07-27T07:53:15.910Z"
   },
   {
    "duration": 7,
    "start_time": "2023-07-27T07:53:15.927Z"
   },
   {
    "duration": 36,
    "start_time": "2023-07-27T07:53:15.937Z"
   },
   {
    "duration": 26,
    "start_time": "2023-07-27T07:53:15.976Z"
   },
   {
    "duration": 49,
    "start_time": "2023-07-27T07:53:16.004Z"
   },
   {
    "duration": 6,
    "start_time": "2023-07-27T07:53:16.056Z"
   },
   {
    "duration": 20,
    "start_time": "2023-07-27T07:53:16.064Z"
   },
   {
    "duration": 26,
    "start_time": "2023-07-27T07:53:16.086Z"
   },
   {
    "duration": 17,
    "start_time": "2023-07-27T07:53:16.115Z"
   },
   {
    "duration": 360,
    "start_time": "2023-07-27T07:53:16.134Z"
   },
   {
    "duration": 308,
    "start_time": "2023-07-27T07:53:16.498Z"
   },
   {
    "duration": 13,
    "start_time": "2023-07-27T07:53:16.808Z"
   },
   {
    "duration": 1301,
    "start_time": "2023-07-27T07:53:16.823Z"
   },
   {
    "duration": 27,
    "start_time": "2023-07-27T07:53:18.126Z"
   },
   {
    "duration": 7,
    "start_time": "2023-07-27T07:53:18.156Z"
   },
   {
    "duration": 8,
    "start_time": "2023-07-27T07:53:18.165Z"
   },
   {
    "duration": 274,
    "start_time": "2023-07-27T07:53:18.175Z"
   },
   {
    "duration": 16,
    "start_time": "2023-07-27T07:53:18.451Z"
   },
   {
    "duration": 947,
    "start_time": "2023-07-27T07:53:18.469Z"
   },
   {
    "duration": 346,
    "start_time": "2023-07-27T07:53:19.418Z"
   },
   {
    "duration": 119,
    "start_time": "2023-07-27T07:53:19.766Z"
   },
   {
    "duration": 0,
    "start_time": "2023-07-27T07:53:19.887Z"
   },
   {
    "duration": 0,
    "start_time": "2023-07-27T07:53:19.889Z"
   },
   {
    "duration": 0,
    "start_time": "2023-07-27T07:53:19.890Z"
   },
   {
    "duration": 0,
    "start_time": "2023-07-27T07:53:19.891Z"
   },
   {
    "duration": 0,
    "start_time": "2023-07-27T07:53:19.892Z"
   },
   {
    "duration": 364,
    "start_time": "2023-07-27T07:54:00.820Z"
   },
   {
    "duration": 477,
    "start_time": "2023-07-27T07:54:30.880Z"
   },
   {
    "duration": 15,
    "start_time": "2023-07-27T07:54:36.135Z"
   },
   {
    "duration": 15,
    "start_time": "2023-07-27T07:54:56.487Z"
   },
   {
    "duration": 16,
    "start_time": "2023-07-27T07:55:05.002Z"
   },
   {
    "duration": 12,
    "start_time": "2023-07-27T07:55:09.866Z"
   },
   {
    "duration": 142,
    "start_time": "2023-07-27T07:55:36.224Z"
   },
   {
    "duration": 130,
    "start_time": "2023-07-27T07:55:44.784Z"
   },
   {
    "duration": 129,
    "start_time": "2023-07-27T07:56:07.624Z"
   },
   {
    "duration": 23,
    "start_time": "2023-07-27T07:58:59.655Z"
   },
   {
    "duration": 18,
    "start_time": "2023-07-27T07:59:12.911Z"
   },
   {
    "duration": 393,
    "start_time": "2023-07-27T08:00:04.452Z"
   },
   {
    "duration": 16,
    "start_time": "2023-07-27T08:00:49.389Z"
   },
   {
    "duration": 7,
    "start_time": "2023-07-27T08:04:47.987Z"
   },
   {
    "duration": 13,
    "start_time": "2023-07-27T08:05:30.848Z"
   },
   {
    "duration": 17,
    "start_time": "2023-07-27T08:06:00.043Z"
   },
   {
    "duration": 6,
    "start_time": "2023-07-27T08:08:09.306Z"
   },
   {
    "duration": 12,
    "start_time": "2023-07-27T08:08:29.728Z"
   },
   {
    "duration": 15,
    "start_time": "2023-07-27T08:09:45.569Z"
   },
   {
    "duration": 16,
    "start_time": "2023-07-27T08:11:55.151Z"
   },
   {
    "duration": 17,
    "start_time": "2023-07-27T08:12:04.601Z"
   },
   {
    "duration": 1279,
    "start_time": "2023-07-27T08:13:22.658Z"
   },
   {
    "duration": 72,
    "start_time": "2023-07-27T08:13:23.940Z"
   },
   {
    "duration": 17,
    "start_time": "2023-07-27T08:13:24.014Z"
   },
   {
    "duration": 12,
    "start_time": "2023-07-27T08:13:24.033Z"
   },
   {
    "duration": 27,
    "start_time": "2023-07-27T08:13:24.047Z"
   },
   {
    "duration": 16,
    "start_time": "2023-07-27T08:13:24.077Z"
   },
   {
    "duration": 21,
    "start_time": "2023-07-27T08:13:24.095Z"
   },
   {
    "duration": 6,
    "start_time": "2023-07-27T08:13:24.119Z"
   },
   {
    "duration": 216,
    "start_time": "2023-07-27T08:13:24.127Z"
   },
   {
    "duration": 8,
    "start_time": "2023-07-27T08:13:24.346Z"
   },
   {
    "duration": 39,
    "start_time": "2023-07-27T08:13:24.355Z"
   },
   {
    "duration": 46,
    "start_time": "2023-07-27T08:13:24.395Z"
   },
   {
    "duration": 38,
    "start_time": "2023-07-27T08:13:24.443Z"
   },
   {
    "duration": 5,
    "start_time": "2023-07-27T08:13:24.482Z"
   },
   {
    "duration": 22,
    "start_time": "2023-07-27T08:13:24.489Z"
   },
   {
    "duration": 34,
    "start_time": "2023-07-27T08:13:24.513Z"
   },
   {
    "duration": 17,
    "start_time": "2023-07-27T08:13:24.549Z"
   },
   {
    "duration": 38,
    "start_time": "2023-07-27T08:13:24.568Z"
   },
   {
    "duration": 7,
    "start_time": "2023-07-27T08:13:24.608Z"
   },
   {
    "duration": 20,
    "start_time": "2023-07-27T08:13:24.617Z"
   },
   {
    "duration": 19,
    "start_time": "2023-07-27T08:13:24.639Z"
   },
   {
    "duration": 26,
    "start_time": "2023-07-27T08:13:24.661Z"
   },
   {
    "duration": 6,
    "start_time": "2023-07-27T08:13:24.690Z"
   },
   {
    "duration": 14,
    "start_time": "2023-07-27T08:13:24.698Z"
   },
   {
    "duration": 11,
    "start_time": "2023-07-27T08:13:24.714Z"
   },
   {
    "duration": 30,
    "start_time": "2023-07-27T08:13:24.727Z"
   },
   {
    "duration": 369,
    "start_time": "2023-07-27T08:13:24.760Z"
   },
   {
    "duration": 334,
    "start_time": "2023-07-27T08:13:25.134Z"
   },
   {
    "duration": 19,
    "start_time": "2023-07-27T08:13:25.471Z"
   },
   {
    "duration": 1336,
    "start_time": "2023-07-27T08:13:25.493Z"
   },
   {
    "duration": 24,
    "start_time": "2023-07-27T08:13:26.831Z"
   },
   {
    "duration": 16,
    "start_time": "2023-07-27T08:13:26.857Z"
   },
   {
    "duration": 15,
    "start_time": "2023-07-27T08:13:26.875Z"
   },
   {
    "duration": 196,
    "start_time": "2023-07-27T08:13:26.892Z"
   },
   {
    "duration": 12,
    "start_time": "2023-07-27T08:13:27.090Z"
   },
   {
    "duration": 921,
    "start_time": "2023-07-27T08:13:27.103Z"
   },
   {
    "duration": 379,
    "start_time": "2023-07-27T08:13:28.027Z"
   },
   {
    "duration": 375,
    "start_time": "2023-07-27T08:13:28.409Z"
   },
   {
    "duration": 451,
    "start_time": "2023-07-27T08:13:28.785Z"
   },
   {
    "duration": 25,
    "start_time": "2023-07-27T08:13:29.238Z"
   },
   {
    "duration": 7,
    "start_time": "2023-07-27T08:13:29.264Z"
   },
   {
    "duration": 18,
    "start_time": "2023-07-27T08:13:29.273Z"
   },
   {
    "duration": 12,
    "start_time": "2023-07-27T08:13:29.293Z"
   },
   {
    "duration": 45,
    "start_time": "2023-07-27T08:13:29.307Z"
   },
   {
    "duration": 524,
    "start_time": "2023-07-27T08:19:16.005Z"
   },
   {
    "duration": 57,
    "start_time": "2023-07-27T08:41:05.451Z"
   },
   {
    "duration": 45,
    "start_time": "2023-07-27T08:41:58.582Z"
   },
   {
    "duration": 24,
    "start_time": "2023-07-27T08:42:00.049Z"
   },
   {
    "duration": 28,
    "start_time": "2023-07-27T08:42:21.321Z"
   },
   {
    "duration": 17,
    "start_time": "2023-07-27T08:42:24.111Z"
   },
   {
    "duration": 1474,
    "start_time": "2023-07-27T08:42:36.450Z"
   },
   {
    "duration": 102,
    "start_time": "2023-07-27T08:42:37.928Z"
   },
   {
    "duration": 35,
    "start_time": "2023-07-27T08:42:38.033Z"
   },
   {
    "duration": 5,
    "start_time": "2023-07-27T08:42:38.070Z"
   },
   {
    "duration": 55,
    "start_time": "2023-07-27T08:42:38.079Z"
   },
   {
    "duration": 28,
    "start_time": "2023-07-27T08:42:38.137Z"
   },
   {
    "duration": 28,
    "start_time": "2023-07-27T08:42:38.168Z"
   },
   {
    "duration": 63,
    "start_time": "2023-07-27T08:42:38.198Z"
   },
   {
    "duration": 300,
    "start_time": "2023-07-27T08:42:38.264Z"
   },
   {
    "duration": 7,
    "start_time": "2023-07-27T08:42:38.566Z"
   },
   {
    "duration": 70,
    "start_time": "2023-07-27T08:42:38.576Z"
   },
   {
    "duration": 55,
    "start_time": "2023-07-27T08:42:38.648Z"
   },
   {
    "duration": 25,
    "start_time": "2023-07-27T08:42:38.705Z"
   },
   {
    "duration": 14,
    "start_time": "2023-07-27T08:42:38.736Z"
   },
   {
    "duration": 32,
    "start_time": "2023-07-27T08:42:38.753Z"
   },
   {
    "duration": 30,
    "start_time": "2023-07-27T08:42:38.787Z"
   },
   {
    "duration": 35,
    "start_time": "2023-07-27T08:42:38.819Z"
   },
   {
    "duration": 21,
    "start_time": "2023-07-27T08:42:38.857Z"
   },
   {
    "duration": 19,
    "start_time": "2023-07-27T08:42:38.881Z"
   },
   {
    "duration": 35,
    "start_time": "2023-07-27T08:42:38.902Z"
   },
   {
    "duration": 55,
    "start_time": "2023-07-27T08:42:38.939Z"
   },
   {
    "duration": 32,
    "start_time": "2023-07-27T08:42:38.996Z"
   },
   {
    "duration": 6,
    "start_time": "2023-07-27T08:42:39.030Z"
   },
   {
    "duration": 41,
    "start_time": "2023-07-27T08:42:39.039Z"
   },
   {
    "duration": 11,
    "start_time": "2023-07-27T08:42:39.083Z"
   },
   {
    "duration": 27,
    "start_time": "2023-07-27T08:42:39.096Z"
   },
   {
    "duration": 440,
    "start_time": "2023-07-27T08:42:39.126Z"
   },
   {
    "duration": 362,
    "start_time": "2023-07-27T08:42:39.569Z"
   },
   {
    "duration": 30,
    "start_time": "2023-07-27T08:42:39.935Z"
   },
   {
    "duration": 1705,
    "start_time": "2023-07-27T08:42:39.968Z"
   },
   {
    "duration": 27,
    "start_time": "2023-07-27T08:42:41.676Z"
   },
   {
    "duration": 8,
    "start_time": "2023-07-27T08:42:41.706Z"
   },
   {
    "duration": 67,
    "start_time": "2023-07-27T08:42:41.717Z"
   },
   {
    "duration": 226,
    "start_time": "2023-07-27T08:42:41.786Z"
   },
   {
    "duration": 12,
    "start_time": "2023-07-27T08:42:42.014Z"
   },
   {
    "duration": 941,
    "start_time": "2023-07-27T08:42:42.028Z"
   },
   {
    "duration": 443,
    "start_time": "2023-07-27T08:42:42.972Z"
   },
   {
    "duration": 420,
    "start_time": "2023-07-27T08:42:43.417Z"
   },
   {
    "duration": 562,
    "start_time": "2023-07-27T08:42:43.840Z"
   },
   {
    "duration": 21,
    "start_time": "2023-07-27T08:42:44.404Z"
   },
   {
    "duration": 26,
    "start_time": "2023-07-27T08:42:44.430Z"
   },
   {
    "duration": 14,
    "start_time": "2023-07-27T08:42:44.459Z"
   },
   {
    "duration": 23,
    "start_time": "2023-07-27T08:42:44.475Z"
   },
   {
    "duration": 18,
    "start_time": "2023-07-27T08:42:44.501Z"
   },
   {
    "duration": 341,
    "start_time": "2023-07-27T08:49:17.232Z"
   },
   {
    "duration": 111,
    "start_time": "2023-07-27T08:50:18.948Z"
   },
   {
    "duration": 12,
    "start_time": "2023-07-27T09:00:07.458Z"
   },
   {
    "duration": 6,
    "start_time": "2023-07-27T09:00:49.027Z"
   },
   {
    "duration": 36,
    "start_time": "2023-07-27T09:01:08.692Z"
   },
   {
    "duration": 0,
    "start_time": "2023-07-27T09:01:54.121Z"
   },
   {
    "duration": 169,
    "start_time": "2023-07-27T09:06:47.189Z"
   },
   {
    "duration": 164,
    "start_time": "2023-07-27T09:08:41.948Z"
   },
   {
    "duration": 156,
    "start_time": "2023-07-27T09:09:01.546Z"
   },
   {
    "duration": 139,
    "start_time": "2023-07-27T09:09:13.411Z"
   },
   {
    "duration": 135,
    "start_time": "2023-07-27T09:09:47.192Z"
   },
   {
    "duration": 4,
    "start_time": "2023-07-27T09:10:39.879Z"
   },
   {
    "duration": 453,
    "start_time": "2023-07-27T09:12:13.544Z"
   },
   {
    "duration": 304,
    "start_time": "2023-07-27T09:12:24.831Z"
   },
   {
    "duration": 5,
    "start_time": "2023-07-27T09:12:40.359Z"
   },
   {
    "duration": 4,
    "start_time": "2023-07-27T09:12:46.334Z"
   },
   {
    "duration": 431,
    "start_time": "2023-07-27T09:14:18.447Z"
   },
   {
    "duration": 134,
    "start_time": "2023-07-27T09:14:23.462Z"
   },
   {
    "duration": 36,
    "start_time": "2023-07-27T09:19:30.742Z"
   },
   {
    "duration": 362,
    "start_time": "2023-07-27T09:22:21.673Z"
   },
   {
    "duration": 315,
    "start_time": "2023-07-27T09:22:29.915Z"
   },
   {
    "duration": 550,
    "start_time": "2023-07-27T09:22:50.195Z"
   },
   {
    "duration": 347,
    "start_time": "2023-07-27T09:23:38.747Z"
   },
   {
    "duration": 320,
    "start_time": "2023-07-27T09:24:37.794Z"
   },
   {
    "duration": 350,
    "start_time": "2023-07-27T09:24:46.001Z"
   },
   {
    "duration": 438,
    "start_time": "2023-07-27T09:24:54.544Z"
   },
   {
    "duration": 249,
    "start_time": "2023-07-27T09:28:05.533Z"
   },
   {
    "duration": 531,
    "start_time": "2023-07-27T09:28:17.694Z"
   },
   {
    "duration": 488,
    "start_time": "2023-07-27T09:28:28.084Z"
   },
   {
    "duration": 1110,
    "start_time": "2023-07-27T09:28:42.620Z"
   },
   {
    "duration": 512,
    "start_time": "2023-07-27T09:29:16.438Z"
   },
   {
    "duration": 1400,
    "start_time": "2023-07-27T09:29:31.221Z"
   },
   {
    "duration": 89,
    "start_time": "2023-07-27T09:29:39.366Z"
   },
   {
    "duration": 179,
    "start_time": "2023-07-27T09:29:46.254Z"
   },
   {
    "duration": 175,
    "start_time": "2023-07-27T09:30:17.958Z"
   },
   {
    "duration": 5,
    "start_time": "2023-07-27T09:30:44.810Z"
   },
   {
    "duration": 179,
    "start_time": "2023-07-27T09:30:50.245Z"
   },
   {
    "duration": 13,
    "start_time": "2023-07-27T09:33:47.067Z"
   },
   {
    "duration": 249,
    "start_time": "2023-07-27T09:34:45.148Z"
   },
   {
    "duration": 283,
    "start_time": "2023-07-27T09:35:54.435Z"
   },
   {
    "duration": 519,
    "start_time": "2023-07-27T09:36:01.675Z"
   },
   {
    "duration": 273,
    "start_time": "2023-07-27T09:37:38.970Z"
   },
   {
    "duration": 279,
    "start_time": "2023-07-27T09:38:12.106Z"
   },
   {
    "duration": 473,
    "start_time": "2023-07-27T09:38:52.851Z"
   },
   {
    "duration": 248,
    "start_time": "2023-07-27T09:39:09.313Z"
   },
   {
    "duration": 294,
    "start_time": "2023-07-27T09:39:14.601Z"
   },
   {
    "duration": 442,
    "start_time": "2023-07-27T09:39:55.848Z"
   },
   {
    "duration": 15,
    "start_time": "2023-07-27T09:40:03.352Z"
   },
   {
    "duration": 0,
    "start_time": "2023-07-27T09:40:33.593Z"
   },
   {
    "duration": 0,
    "start_time": "2023-07-27T09:40:33.594Z"
   },
   {
    "duration": 0,
    "start_time": "2023-07-27T09:40:33.596Z"
   },
   {
    "duration": 0,
    "start_time": "2023-07-27T09:40:33.597Z"
   },
   {
    "duration": 0,
    "start_time": "2023-07-27T09:40:33.598Z"
   },
   {
    "duration": 0,
    "start_time": "2023-07-27T09:40:33.599Z"
   },
   {
    "duration": 0,
    "start_time": "2023-07-27T09:40:33.600Z"
   },
   {
    "duration": 0,
    "start_time": "2023-07-27T09:40:33.602Z"
   },
   {
    "duration": 0,
    "start_time": "2023-07-27T09:40:33.603Z"
   },
   {
    "duration": 0,
    "start_time": "2023-07-27T09:40:33.604Z"
   },
   {
    "duration": 0,
    "start_time": "2023-07-27T09:40:33.606Z"
   },
   {
    "duration": 0,
    "start_time": "2023-07-27T09:40:33.607Z"
   },
   {
    "duration": 0,
    "start_time": "2023-07-27T09:40:33.609Z"
   },
   {
    "duration": 0,
    "start_time": "2023-07-27T09:40:33.652Z"
   },
   {
    "duration": 0,
    "start_time": "2023-07-27T09:40:33.655Z"
   },
   {
    "duration": 0,
    "start_time": "2023-07-27T09:40:33.656Z"
   },
   {
    "duration": 0,
    "start_time": "2023-07-27T09:40:33.657Z"
   },
   {
    "duration": 0,
    "start_time": "2023-07-27T09:40:33.658Z"
   },
   {
    "duration": 0,
    "start_time": "2023-07-27T09:40:33.659Z"
   },
   {
    "duration": 0,
    "start_time": "2023-07-27T09:40:33.661Z"
   },
   {
    "duration": 0,
    "start_time": "2023-07-27T09:40:33.662Z"
   },
   {
    "duration": 0,
    "start_time": "2023-07-27T09:40:33.663Z"
   },
   {
    "duration": 0,
    "start_time": "2023-07-27T09:40:33.665Z"
   },
   {
    "duration": 0,
    "start_time": "2023-07-27T09:40:33.665Z"
   },
   {
    "duration": 0,
    "start_time": "2023-07-27T09:40:33.666Z"
   },
   {
    "duration": 0,
    "start_time": "2023-07-27T09:40:33.668Z"
   },
   {
    "duration": 0,
    "start_time": "2023-07-27T09:40:33.669Z"
   },
   {
    "duration": 0,
    "start_time": "2023-07-27T09:40:33.670Z"
   },
   {
    "duration": 0,
    "start_time": "2023-07-27T09:40:33.671Z"
   },
   {
    "duration": 0,
    "start_time": "2023-07-27T09:40:33.672Z"
   },
   {
    "duration": 0,
    "start_time": "2023-07-27T09:40:33.673Z"
   },
   {
    "duration": 0,
    "start_time": "2023-07-27T09:40:33.674Z"
   },
   {
    "duration": 0,
    "start_time": "2023-07-27T09:40:33.675Z"
   },
   {
    "duration": 0,
    "start_time": "2023-07-27T09:40:33.676Z"
   },
   {
    "duration": 0,
    "start_time": "2023-07-27T09:40:33.677Z"
   },
   {
    "duration": 0,
    "start_time": "2023-07-27T09:40:33.678Z"
   },
   {
    "duration": 0,
    "start_time": "2023-07-27T09:40:33.679Z"
   },
   {
    "duration": 0,
    "start_time": "2023-07-27T09:40:33.680Z"
   },
   {
    "duration": 0,
    "start_time": "2023-07-27T09:40:33.681Z"
   },
   {
    "duration": 0,
    "start_time": "2023-07-27T09:40:33.682Z"
   },
   {
    "duration": 0,
    "start_time": "2023-07-27T09:40:33.683Z"
   },
   {
    "duration": 0,
    "start_time": "2023-07-27T09:40:33.684Z"
   },
   {
    "duration": 0,
    "start_time": "2023-07-27T09:40:33.684Z"
   },
   {
    "duration": 0,
    "start_time": "2023-07-27T09:40:33.686Z"
   },
   {
    "duration": 0,
    "start_time": "2023-07-27T09:40:33.687Z"
   },
   {
    "duration": 1252,
    "start_time": "2023-07-27T09:40:55.072Z"
   },
   {
    "duration": 69,
    "start_time": "2023-07-27T09:40:56.326Z"
   },
   {
    "duration": 16,
    "start_time": "2023-07-27T09:40:56.397Z"
   },
   {
    "duration": 3,
    "start_time": "2023-07-27T09:40:56.415Z"
   },
   {
    "duration": 41,
    "start_time": "2023-07-27T09:40:56.421Z"
   },
   {
    "duration": 14,
    "start_time": "2023-07-27T09:40:56.464Z"
   },
   {
    "duration": 14,
    "start_time": "2023-07-27T09:40:56.479Z"
   },
   {
    "duration": 7,
    "start_time": "2023-07-27T09:40:56.495Z"
   },
   {
    "duration": 203,
    "start_time": "2023-07-27T09:40:56.504Z"
   },
   {
    "duration": 5,
    "start_time": "2023-07-27T09:40:56.709Z"
   },
   {
    "duration": 9,
    "start_time": "2023-07-27T09:40:56.716Z"
   },
   {
    "duration": 31,
    "start_time": "2023-07-27T09:40:56.726Z"
   },
   {
    "duration": 24,
    "start_time": "2023-07-27T09:40:56.759Z"
   },
   {
    "duration": 4,
    "start_time": "2023-07-27T09:40:56.787Z"
   },
   {
    "duration": 19,
    "start_time": "2023-07-27T09:40:56.793Z"
   },
   {
    "duration": 38,
    "start_time": "2023-07-27T09:40:56.814Z"
   },
   {
    "duration": 12,
    "start_time": "2023-07-27T09:40:56.854Z"
   },
   {
    "duration": 11,
    "start_time": "2023-07-27T09:40:56.868Z"
   },
   {
    "duration": 5,
    "start_time": "2023-07-27T09:40:56.880Z"
   },
   {
    "duration": 16,
    "start_time": "2023-07-27T09:40:56.887Z"
   },
   {
    "duration": 16,
    "start_time": "2023-07-27T09:40:56.905Z"
   },
   {
    "duration": 26,
    "start_time": "2023-07-27T09:40:56.953Z"
   },
   {
    "duration": 6,
    "start_time": "2023-07-27T09:40:56.982Z"
   },
   {
    "duration": 61,
    "start_time": "2023-07-27T09:40:56.989Z"
   },
   {
    "duration": 43,
    "start_time": "2023-07-27T09:40:57.053Z"
   },
   {
    "duration": 52,
    "start_time": "2023-07-27T09:40:57.098Z"
   },
   {
    "duration": 367,
    "start_time": "2023-07-27T09:40:57.152Z"
   },
   {
    "duration": 320,
    "start_time": "2023-07-27T09:40:57.521Z"
   },
   {
    "duration": 20,
    "start_time": "2023-07-27T09:40:57.843Z"
   },
   {
    "duration": 1337,
    "start_time": "2023-07-27T09:40:57.865Z"
   },
   {
    "duration": 16,
    "start_time": "2023-07-27T09:40:59.204Z"
   },
   {
    "duration": 16,
    "start_time": "2023-07-27T09:40:59.221Z"
   },
   {
    "duration": 17,
    "start_time": "2023-07-27T09:40:59.238Z"
   },
   {
    "duration": 185,
    "start_time": "2023-07-27T09:40:59.257Z"
   },
   {
    "duration": 15,
    "start_time": "2023-07-27T09:40:59.444Z"
   },
   {
    "duration": 844,
    "start_time": "2023-07-27T09:40:59.461Z"
   },
   {
    "duration": 351,
    "start_time": "2023-07-27T09:41:00.308Z"
   },
   {
    "duration": 347,
    "start_time": "2023-07-27T09:41:00.661Z"
   },
   {
    "duration": 119,
    "start_time": "2023-07-27T09:41:01.009Z"
   },
   {
    "duration": 0,
    "start_time": "2023-07-27T09:41:01.131Z"
   },
   {
    "duration": 0,
    "start_time": "2023-07-27T09:41:01.133Z"
   },
   {
    "duration": 0,
    "start_time": "2023-07-27T09:41:01.135Z"
   },
   {
    "duration": 0,
    "start_time": "2023-07-27T09:41:01.136Z"
   },
   {
    "duration": 0,
    "start_time": "2023-07-27T09:41:01.137Z"
   },
   {
    "duration": 0,
    "start_time": "2023-07-27T09:41:01.138Z"
   },
   {
    "duration": 431,
    "start_time": "2023-07-27T09:41:11.982Z"
   },
   {
    "duration": 326,
    "start_time": "2023-07-27T09:41:59.543Z"
   },
   {
    "duration": 19,
    "start_time": "2023-07-27T09:42:09.950Z"
   },
   {
    "duration": 10,
    "start_time": "2023-07-27T09:42:54.863Z"
   },
   {
    "duration": 15,
    "start_time": "2023-07-27T09:42:58.198Z"
   },
   {
    "duration": 7,
    "start_time": "2023-07-27T09:43:34.654Z"
   },
   {
    "duration": 16,
    "start_time": "2023-07-27T09:43:38.381Z"
   },
   {
    "duration": 1311,
    "start_time": "2023-07-27T20:54:25.844Z"
   },
   {
    "duration": 87,
    "start_time": "2023-07-27T20:54:27.158Z"
   },
   {
    "duration": 15,
    "start_time": "2023-07-27T20:54:27.247Z"
   },
   {
    "duration": 16,
    "start_time": "2023-07-27T20:54:27.264Z"
   },
   {
    "duration": 45,
    "start_time": "2023-07-27T20:54:27.283Z"
   },
   {
    "duration": 15,
    "start_time": "2023-07-27T20:54:27.330Z"
   },
   {
    "duration": 32,
    "start_time": "2023-07-27T20:54:27.346Z"
   },
   {
    "duration": 11,
    "start_time": "2023-07-27T20:54:27.381Z"
   },
   {
    "duration": 221,
    "start_time": "2023-07-27T20:54:27.394Z"
   },
   {
    "duration": 6,
    "start_time": "2023-07-27T20:54:27.617Z"
   },
   {
    "duration": 14,
    "start_time": "2023-07-27T20:54:27.625Z"
   },
   {
    "duration": 41,
    "start_time": "2023-07-27T20:54:27.641Z"
   },
   {
    "duration": 27,
    "start_time": "2023-07-27T20:54:27.686Z"
   },
   {
    "duration": 5,
    "start_time": "2023-07-27T20:54:27.716Z"
   },
   {
    "duration": 20,
    "start_time": "2023-07-27T20:54:27.723Z"
   },
   {
    "duration": 24,
    "start_time": "2023-07-27T20:54:27.745Z"
   },
   {
    "duration": 29,
    "start_time": "2023-07-27T20:54:27.771Z"
   },
   {
    "duration": 11,
    "start_time": "2023-07-27T20:54:27.802Z"
   },
   {
    "duration": 6,
    "start_time": "2023-07-27T20:54:27.815Z"
   },
   {
    "duration": 24,
    "start_time": "2023-07-27T20:54:27.823Z"
   },
   {
    "duration": 39,
    "start_time": "2023-07-27T20:54:27.850Z"
   },
   {
    "duration": 29,
    "start_time": "2023-07-27T20:54:27.896Z"
   },
   {
    "duration": 6,
    "start_time": "2023-07-27T20:54:27.927Z"
   },
   {
    "duration": 13,
    "start_time": "2023-07-27T20:54:27.934Z"
   },
   {
    "duration": 31,
    "start_time": "2023-07-27T20:54:27.948Z"
   },
   {
    "duration": 27,
    "start_time": "2023-07-27T20:54:27.981Z"
   },
   {
    "duration": 374,
    "start_time": "2023-07-27T20:54:28.010Z"
   },
   {
    "duration": 348,
    "start_time": "2023-07-27T20:54:28.385Z"
   },
   {
    "duration": 14,
    "start_time": "2023-07-27T20:54:28.735Z"
   },
   {
    "duration": 1481,
    "start_time": "2023-07-27T20:54:28.750Z"
   },
   {
    "duration": 17,
    "start_time": "2023-07-27T20:54:30.233Z"
   },
   {
    "duration": 43,
    "start_time": "2023-07-27T20:54:30.252Z"
   },
   {
    "duration": 81,
    "start_time": "2023-07-27T20:54:30.297Z"
   },
   {
    "duration": 226,
    "start_time": "2023-07-27T20:54:30.389Z"
   },
   {
    "duration": 11,
    "start_time": "2023-07-27T20:54:30.617Z"
   },
   {
    "duration": 1003,
    "start_time": "2023-07-27T20:54:30.630Z"
   },
   {
    "duration": 373,
    "start_time": "2023-07-27T20:54:31.635Z"
   },
   {
    "duration": 431,
    "start_time": "2023-07-27T20:54:32.010Z"
   },
   {
    "duration": 512,
    "start_time": "2023-07-27T20:54:32.444Z"
   },
   {
    "duration": 29,
    "start_time": "2023-07-27T20:54:32.958Z"
   },
   {
    "duration": 25,
    "start_time": "2023-07-27T20:54:32.991Z"
   },
   {
    "duration": 34,
    "start_time": "2023-07-27T20:54:33.018Z"
   },
   {
    "duration": 28,
    "start_time": "2023-07-27T20:54:33.054Z"
   },
   {
    "duration": 15,
    "start_time": "2023-07-27T20:54:33.092Z"
   },
   {
    "duration": 359,
    "start_time": "2023-07-27T21:02:42.547Z"
   },
   {
    "duration": 193,
    "start_time": "2023-07-27T21:04:34.501Z"
   },
   {
    "duration": 15,
    "start_time": "2023-07-27T21:06:48.198Z"
   },
   {
    "duration": 1305,
    "start_time": "2023-07-27T21:10:20.959Z"
   },
   {
    "duration": 83,
    "start_time": "2023-07-27T21:10:22.267Z"
   },
   {
    "duration": 23,
    "start_time": "2023-07-27T21:10:22.352Z"
   },
   {
    "duration": 6,
    "start_time": "2023-07-27T21:10:22.384Z"
   },
   {
    "duration": 50,
    "start_time": "2023-07-27T21:10:22.393Z"
   },
   {
    "duration": 20,
    "start_time": "2023-07-27T21:10:22.445Z"
   },
   {
    "duration": 24,
    "start_time": "2023-07-27T21:10:22.471Z"
   },
   {
    "duration": 25,
    "start_time": "2023-07-27T21:10:22.497Z"
   },
   {
    "duration": 233,
    "start_time": "2023-07-27T21:10:22.524Z"
   },
   {
    "duration": 16,
    "start_time": "2023-07-27T21:10:22.759Z"
   },
   {
    "duration": 10,
    "start_time": "2023-07-27T21:10:22.780Z"
   },
   {
    "duration": 35,
    "start_time": "2023-07-27T21:10:22.792Z"
   },
   {
    "duration": 44,
    "start_time": "2023-07-27T21:10:22.830Z"
   },
   {
    "duration": 14,
    "start_time": "2023-07-27T21:10:22.878Z"
   },
   {
    "duration": 23,
    "start_time": "2023-07-27T21:10:22.895Z"
   },
   {
    "duration": 17,
    "start_time": "2023-07-27T21:10:22.920Z"
   },
   {
    "duration": 16,
    "start_time": "2023-07-27T21:10:22.939Z"
   },
   {
    "duration": 12,
    "start_time": "2023-07-27T21:10:22.956Z"
   },
   {
    "duration": 8,
    "start_time": "2023-07-27T21:10:22.970Z"
   },
   {
    "duration": 22,
    "start_time": "2023-07-27T21:10:22.979Z"
   },
   {
    "duration": 13,
    "start_time": "2023-07-27T21:10:23.003Z"
   },
   {
    "duration": 24,
    "start_time": "2023-07-27T21:10:23.018Z"
   },
   {
    "duration": 35,
    "start_time": "2023-07-27T21:10:23.044Z"
   },
   {
    "duration": 11,
    "start_time": "2023-07-27T21:10:23.082Z"
   },
   {
    "duration": 15,
    "start_time": "2023-07-27T21:10:23.095Z"
   },
   {
    "duration": 13,
    "start_time": "2023-07-27T21:10:23.112Z"
   },
   {
    "duration": 391,
    "start_time": "2023-07-27T21:10:23.127Z"
   },
   {
    "duration": 329,
    "start_time": "2023-07-27T21:10:23.520Z"
   },
   {
    "duration": 28,
    "start_time": "2023-07-27T21:10:23.851Z"
   },
   {
    "duration": 1467,
    "start_time": "2023-07-27T21:10:23.881Z"
   },
   {
    "duration": 31,
    "start_time": "2023-07-27T21:10:25.350Z"
   },
   {
    "duration": 9,
    "start_time": "2023-07-27T21:10:25.382Z"
   },
   {
    "duration": 8,
    "start_time": "2023-07-27T21:10:25.393Z"
   },
   {
    "duration": 205,
    "start_time": "2023-07-27T21:10:25.403Z"
   },
   {
    "duration": 15,
    "start_time": "2023-07-27T21:10:25.611Z"
   },
   {
    "duration": 918,
    "start_time": "2023-07-27T21:10:25.628Z"
   },
   {
    "duration": 355,
    "start_time": "2023-07-27T21:10:26.548Z"
   },
   {
    "duration": 397,
    "start_time": "2023-07-27T21:10:26.905Z"
   },
   {
    "duration": 497,
    "start_time": "2023-07-27T21:10:27.304Z"
   },
   {
    "duration": 17,
    "start_time": "2023-07-27T21:10:27.803Z"
   },
   {
    "duration": 207,
    "start_time": "2023-07-27T21:10:27.824Z"
   },
   {
    "duration": 8,
    "start_time": "2023-07-27T21:10:28.033Z"
   },
   {
    "duration": 32,
    "start_time": "2023-07-27T21:10:28.042Z"
   },
   {
    "duration": 9,
    "start_time": "2023-07-27T21:10:28.076Z"
   },
   {
    "duration": 10,
    "start_time": "2023-07-27T21:10:28.087Z"
   },
   {
    "duration": 35,
    "start_time": "2023-07-27T21:10:28.099Z"
   },
   {
    "duration": 1310,
    "start_time": "2023-07-28T02:11:53.582Z"
   },
   {
    "duration": 112,
    "start_time": "2023-07-28T02:11:55.797Z"
   },
   {
    "duration": 14,
    "start_time": "2023-07-28T02:11:58.378Z"
   },
   {
    "duration": 3,
    "start_time": "2023-07-28T02:12:01.314Z"
   },
   {
    "duration": 18,
    "start_time": "2023-07-28T02:12:02.955Z"
   },
   {
    "duration": 13,
    "start_time": "2023-07-28T02:12:05.122Z"
   },
   {
    "duration": 9,
    "start_time": "2023-07-28T02:12:07.334Z"
   },
   {
    "duration": 5,
    "start_time": "2023-07-28T02:12:13.705Z"
   },
   {
    "duration": 7,
    "start_time": "2023-07-28T02:12:17.114Z"
   },
   {
    "duration": 15,
    "start_time": "2023-07-28T02:12:24.203Z"
   },
   {
    "duration": 20,
    "start_time": "2023-07-28T02:12:26.571Z"
   },
   {
    "duration": 4,
    "start_time": "2023-07-28T02:12:32.233Z"
   },
   {
    "duration": 14,
    "start_time": "2023-07-28T02:12:34.497Z"
   },
   {
    "duration": 11,
    "start_time": "2023-07-28T02:12:50.226Z"
   },
   {
    "duration": 10,
    "start_time": "2023-07-28T02:12:57.460Z"
   },
   {
    "duration": 9,
    "start_time": "2023-07-28T02:12:59.618Z"
   },
   {
    "duration": 6,
    "start_time": "2023-07-28T02:13:12.937Z"
   },
   {
    "duration": 15,
    "start_time": "2023-07-28T02:13:15.583Z"
   },
   {
    "duration": 13,
    "start_time": "2023-07-28T02:13:21.735Z"
   },
   {
    "duration": 22,
    "start_time": "2023-07-28T02:13:30.858Z"
   },
   {
    "duration": 5,
    "start_time": "2023-07-28T02:13:38.073Z"
   },
   {
    "duration": 4,
    "start_time": "2023-07-28T02:13:40.368Z"
   },
   {
    "duration": 5,
    "start_time": "2023-07-28T02:13:43.432Z"
   },
   {
    "duration": 9,
    "start_time": "2023-07-28T02:13:45.947Z"
   },
   {
    "duration": 317,
    "start_time": "2023-07-28T02:13:57.713Z"
   },
   {
    "duration": 267,
    "start_time": "2023-07-28T02:14:03.465Z"
   },
   {
    "duration": 194,
    "start_time": "2023-07-28T02:16:28.216Z"
   },
   {
    "duration": 13,
    "start_time": "2023-07-28T02:16:36.094Z"
   },
   {
    "duration": 301,
    "start_time": "2023-07-28T02:16:38.237Z"
   },
   {
    "duration": 391,
    "start_time": "2023-07-28T02:17:41.000Z"
   },
   {
    "duration": 418,
    "start_time": "2023-07-28T02:17:51.703Z"
   },
   {
    "duration": 419,
    "start_time": "2023-07-28T02:18:00.207Z"
   },
   {
    "duration": 419,
    "start_time": "2023-07-28T02:18:07.286Z"
   },
   {
    "duration": 435,
    "start_time": "2023-07-28T02:18:12.478Z"
   },
   {
    "duration": 12,
    "start_time": "2023-07-28T02:19:00.728Z"
   },
   {
    "duration": 349,
    "start_time": "2023-07-28T02:19:35.502Z"
   },
   {
    "duration": 563,
    "start_time": "2023-07-28T02:19:46.214Z"
   },
   {
    "duration": 485,
    "start_time": "2023-07-28T02:21:20.397Z"
   },
   {
    "duration": 414,
    "start_time": "2023-07-28T02:29:23.340Z"
   },
   {
    "duration": 9,
    "start_time": "2023-07-28T02:29:30.565Z"
   },
   {
    "duration": 7,
    "start_time": "2023-07-28T02:29:55.713Z"
   },
   {
    "duration": 174,
    "start_time": "2023-07-28T02:29:57.655Z"
   },
   {
    "duration": 10,
    "start_time": "2023-07-28T02:30:00.649Z"
   },
   {
    "duration": 426,
    "start_time": "2023-07-28T02:30:03.410Z"
   },
   {
    "duration": 526,
    "start_time": "2023-07-28T02:30:11.748Z"
   },
   {
    "duration": 170,
    "start_time": "2023-07-28T02:31:04.546Z"
   },
   {
    "duration": 177,
    "start_time": "2023-07-28T02:31:24.721Z"
   },
   {
    "duration": 729,
    "start_time": "2023-07-28T02:32:19.425Z"
   },
   {
    "duration": 454,
    "start_time": "2023-07-28T02:39:37.233Z"
   },
   {
    "duration": 16,
    "start_time": "2023-07-28T02:42:12.651Z"
   },
   {
    "duration": 13,
    "start_time": "2023-07-28T02:44:48.591Z"
   },
   {
    "duration": 16,
    "start_time": "2023-07-28T02:45:26.228Z"
   },
   {
    "duration": 12,
    "start_time": "2023-07-28T02:45:33.537Z"
   },
   {
    "duration": 1111,
    "start_time": "2023-07-28T02:45:57.585Z"
   },
   {
    "duration": 195,
    "start_time": "2023-07-28T02:49:38.935Z"
   },
   {
    "duration": 1001,
    "start_time": "2023-07-28T02:51:32.135Z"
   },
   {
    "duration": 255,
    "start_time": "2023-07-28T02:52:32.869Z"
   },
   {
    "duration": 248,
    "start_time": "2023-07-28T02:53:05.681Z"
   },
   {
    "duration": 274,
    "start_time": "2023-07-28T02:54:12.341Z"
   },
   {
    "duration": 375,
    "start_time": "2023-07-28T02:54:32.908Z"
   },
   {
    "duration": 252,
    "start_time": "2023-07-28T02:54:46.881Z"
   },
   {
    "duration": 277,
    "start_time": "2023-07-28T02:54:53.858Z"
   },
   {
    "duration": 288,
    "start_time": "2023-07-28T02:55:02.325Z"
   },
   {
    "duration": 6,
    "start_time": "2023-07-28T06:33:22.453Z"
   },
   {
    "duration": 17,
    "start_time": "2023-07-28T06:33:33.948Z"
   },
   {
    "duration": 3833,
    "start_time": "2023-07-28T06:33:48.321Z"
   },
   {
    "duration": 191,
    "start_time": "2023-07-28T06:34:15.863Z"
   },
   {
    "duration": 543,
    "start_time": "2023-07-28T06:34:53.210Z"
   },
   {
    "duration": 688,
    "start_time": "2023-07-28T06:35:07.570Z"
   },
   {
    "duration": 657,
    "start_time": "2023-07-28T06:35:51.571Z"
   },
   {
    "duration": 290,
    "start_time": "2023-07-28T06:41:35.337Z"
   },
   {
    "duration": 657,
    "start_time": "2023-07-28T06:42:30.040Z"
   },
   {
    "duration": 568,
    "start_time": "2023-07-28T06:42:45.201Z"
   },
   {
    "duration": 549,
    "start_time": "2023-07-28T06:43:03.093Z"
   },
   {
    "duration": 608,
    "start_time": "2023-07-28T06:43:25.650Z"
   },
   {
    "duration": 546,
    "start_time": "2023-07-28T06:45:30.200Z"
   },
   {
    "duration": 450,
    "start_time": "2023-07-28T06:45:38.279Z"
   },
   {
    "duration": 384,
    "start_time": "2023-07-28T06:50:22.638Z"
   },
   {
    "duration": 446,
    "start_time": "2023-07-28T06:50:33.620Z"
   },
   {
    "duration": 489,
    "start_time": "2023-07-28T06:50:40.951Z"
   },
   {
    "duration": 638,
    "start_time": "2023-07-28T06:50:57.400Z"
   },
   {
    "duration": 447,
    "start_time": "2023-07-28T06:51:11.093Z"
   },
   {
    "duration": 650,
    "start_time": "2023-07-28T06:51:22.354Z"
   },
   {
    "duration": 665,
    "start_time": "2023-07-28T06:52:32.359Z"
   },
   {
    "duration": 620,
    "start_time": "2023-07-28T06:53:17.089Z"
   },
   {
    "duration": 546,
    "start_time": "2023-07-28T06:53:36.147Z"
   },
   {
    "duration": 762,
    "start_time": "2023-07-28T06:53:46.241Z"
   },
   {
    "duration": 8,
    "start_time": "2023-07-28T06:54:49.285Z"
   },
   {
    "duration": 488,
    "start_time": "2023-07-28T06:54:54.458Z"
   },
   {
    "duration": 492,
    "start_time": "2023-07-28T06:55:45.457Z"
   },
   {
    "duration": 487,
    "start_time": "2023-07-28T06:56:17.795Z"
   },
   {
    "duration": 543,
    "start_time": "2023-07-28T06:56:33.545Z"
   },
   {
    "duration": 773,
    "start_time": "2023-07-28T06:56:52.040Z"
   },
   {
    "duration": 22,
    "start_time": "2023-07-28T07:01:17.878Z"
   },
   {
    "duration": 201,
    "start_time": "2023-07-28T07:01:46.318Z"
   },
   {
    "duration": 4924,
    "start_time": "2023-07-28T07:05:11.410Z"
   },
   {
    "duration": 3982,
    "start_time": "2023-07-28T07:05:25.119Z"
   },
   {
    "duration": 442,
    "start_time": "2023-07-28T07:05:37.914Z"
   },
   {
    "duration": 696,
    "start_time": "2023-07-28T07:06:19.508Z"
   },
   {
    "duration": 536,
    "start_time": "2023-07-28T07:07:38.710Z"
   },
   {
    "duration": 631,
    "start_time": "2023-07-28T07:07:49.594Z"
   },
   {
    "duration": 541,
    "start_time": "2023-07-28T07:08:26.631Z"
   },
   {
    "duration": 416,
    "start_time": "2023-07-28T07:13:45.307Z"
   },
   {
    "duration": 3058,
    "start_time": "2023-07-28T07:14:38.304Z"
   },
   {
    "duration": 338,
    "start_time": "2023-07-28T07:15:20.446Z"
   },
   {
    "duration": 289,
    "start_time": "2023-07-28T07:15:33.551Z"
   },
   {
    "duration": 341,
    "start_time": "2023-07-28T07:16:18.923Z"
   },
   {
    "duration": 511,
    "start_time": "2023-07-28T07:16:56.750Z"
   },
   {
    "duration": 419,
    "start_time": "2023-07-28T07:17:26.709Z"
   },
   {
    "duration": 341,
    "start_time": "2023-07-28T07:17:50.110Z"
   },
   {
    "duration": 336,
    "start_time": "2023-07-28T07:18:48.010Z"
   },
   {
    "duration": 309,
    "start_time": "2023-07-28T07:19:11.547Z"
   },
   {
    "duration": 369,
    "start_time": "2023-07-28T07:19:26.158Z"
   },
   {
    "duration": 24,
    "start_time": "2023-07-28T07:23:06.461Z"
   },
   {
    "duration": 26,
    "start_time": "2023-07-28T07:23:38.473Z"
   },
   {
    "duration": 25,
    "start_time": "2023-07-28T07:23:52.669Z"
   },
   {
    "duration": 219,
    "start_time": "2023-07-28T07:25:56.858Z"
   },
   {
    "duration": 67,
    "start_time": "2023-07-28T07:26:34.468Z"
   },
   {
    "duration": 221,
    "start_time": "2023-07-28T07:26:41.092Z"
   },
   {
    "duration": 211,
    "start_time": "2023-07-28T07:26:55.218Z"
   },
   {
    "duration": 319,
    "start_time": "2023-07-28T07:27:07.699Z"
   },
   {
    "duration": 205,
    "start_time": "2023-07-28T07:27:33.313Z"
   },
   {
    "duration": 297,
    "start_time": "2023-07-28T07:27:46.469Z"
   },
   {
    "duration": 208,
    "start_time": "2023-07-28T07:27:58.291Z"
   },
   {
    "duration": 192,
    "start_time": "2023-07-28T07:28:23.550Z"
   },
   {
    "duration": 186,
    "start_time": "2023-07-28T07:29:55.148Z"
   },
   {
    "duration": 320,
    "start_time": "2023-07-28T07:32:18.075Z"
   },
   {
    "duration": 256,
    "start_time": "2023-07-28T07:32:40.695Z"
   },
   {
    "duration": 186,
    "start_time": "2023-07-28T07:32:59.415Z"
   },
   {
    "duration": 156,
    "start_time": "2023-07-28T07:33:34.051Z"
   },
   {
    "duration": 150,
    "start_time": "2023-07-28T07:34:26.909Z"
   },
   {
    "duration": 462,
    "start_time": "2023-07-28T07:36:39.431Z"
   },
   {
    "duration": 239,
    "start_time": "2023-07-28T07:36:44.909Z"
   },
   {
    "duration": 219,
    "start_time": "2023-07-28T07:36:52.997Z"
   },
   {
    "duration": 252,
    "start_time": "2023-07-28T07:37:29.593Z"
   },
   {
    "duration": 147,
    "start_time": "2023-07-28T07:37:42.069Z"
   },
   {
    "duration": 246,
    "start_time": "2023-07-28T07:37:50.246Z"
   },
   {
    "duration": 208,
    "start_time": "2023-07-28T07:39:50.388Z"
   },
   {
    "duration": 223,
    "start_time": "2023-07-28T07:40:48.198Z"
   },
   {
    "duration": 275,
    "start_time": "2023-07-28T07:40:55.639Z"
   },
   {
    "duration": 273,
    "start_time": "2023-07-28T07:42:15.985Z"
   },
   {
    "duration": 283,
    "start_time": "2023-07-28T07:43:16.442Z"
   },
   {
    "duration": 268,
    "start_time": "2023-07-28T07:43:29.097Z"
   },
   {
    "duration": 204,
    "start_time": "2023-07-28T07:43:44.422Z"
   },
   {
    "duration": 175,
    "start_time": "2023-07-28T07:44:47.613Z"
   },
   {
    "duration": 255,
    "start_time": "2023-07-28T07:44:59.120Z"
   },
   {
    "duration": 458,
    "start_time": "2023-07-28T07:45:10.464Z"
   },
   {
    "duration": 252,
    "start_time": "2023-07-28T07:45:18.698Z"
   },
   {
    "duration": 211,
    "start_time": "2023-07-28T07:46:24.016Z"
   },
   {
    "duration": 206,
    "start_time": "2023-07-28T07:48:21.959Z"
   },
   {
    "duration": 173,
    "start_time": "2023-07-28T07:48:52.710Z"
   },
   {
    "duration": 287,
    "start_time": "2023-07-28T07:49:17.028Z"
   },
   {
    "duration": 265,
    "start_time": "2023-07-28T07:50:24.399Z"
   },
   {
    "duration": 550,
    "start_time": "2023-07-28T07:50:49.471Z"
   },
   {
    "duration": 262,
    "start_time": "2023-07-28T07:50:57.887Z"
   },
   {
    "duration": 348,
    "start_time": "2023-07-28T07:51:54.831Z"
   },
   {
    "duration": 304,
    "start_time": "2023-07-28T07:52:14.045Z"
   },
   {
    "duration": 328,
    "start_time": "2023-07-28T07:52:22.564Z"
   },
   {
    "duration": 520,
    "start_time": "2023-07-28T07:55:47.945Z"
   },
   {
    "duration": 527,
    "start_time": "2023-07-28T07:57:15.602Z"
   },
   {
    "duration": 585,
    "start_time": "2023-07-28T07:58:30.191Z"
   },
   {
    "duration": 519,
    "start_time": "2023-07-28T07:58:54.824Z"
   },
   {
    "duration": 615,
    "start_time": "2023-07-28T07:59:11.701Z"
   },
   {
    "duration": 96,
    "start_time": "2023-07-28T08:09:26.705Z"
   },
   {
    "duration": 1277,
    "start_time": "2023-07-28T08:09:31.619Z"
   },
   {
    "duration": 234,
    "start_time": "2023-07-28T08:09:46.395Z"
   },
   {
    "duration": 272,
    "start_time": "2023-07-28T08:10:17.858Z"
   },
   {
    "duration": 248,
    "start_time": "2023-07-28T08:10:48.196Z"
   },
   {
    "duration": 10,
    "start_time": "2023-07-28T08:10:55.520Z"
   },
   {
    "duration": 507,
    "start_time": "2023-07-28T08:11:06.258Z"
   },
   {
    "duration": 624,
    "start_time": "2023-07-28T08:11:11.737Z"
   },
   {
    "duration": 808,
    "start_time": "2023-07-28T08:12:35.231Z"
   },
   {
    "duration": 762,
    "start_time": "2023-07-28T08:13:03.898Z"
   },
   {
    "duration": 768,
    "start_time": "2023-07-28T08:13:26.446Z"
   },
   {
    "duration": 2371,
    "start_time": "2023-07-28T08:20:44.493Z"
   },
   {
    "duration": 280,
    "start_time": "2023-07-28T08:21:37.147Z"
   },
   {
    "duration": 585,
    "start_time": "2023-07-28T08:21:43.330Z"
   },
   {
    "duration": 3003,
    "start_time": "2023-07-28T08:22:04.946Z"
   },
   {
    "duration": 226,
    "start_time": "2023-07-28T08:29:56.560Z"
   },
   {
    "duration": 1506,
    "start_time": "2023-07-28T08:30:03.828Z"
   },
   {
    "duration": 30,
    "start_time": "2023-07-28T08:34:40.617Z"
   },
   {
    "duration": 849,
    "start_time": "2023-07-28T08:34:55.396Z"
   },
   {
    "duration": 638,
    "start_time": "2023-07-28T08:35:31.057Z"
   },
   {
    "duration": 27,
    "start_time": "2023-07-28T08:39:29.649Z"
   },
   {
    "duration": 16,
    "start_time": "2023-07-28T08:40:28.032Z"
   },
   {
    "duration": 2418,
    "start_time": "2023-07-28T08:40:40.736Z"
   },
   {
    "duration": 1901,
    "start_time": "2023-07-28T08:40:59.921Z"
   },
   {
    "duration": 267,
    "start_time": "2023-07-28T08:58:14.996Z"
   },
   {
    "duration": 1741,
    "start_time": "2023-07-28T09:03:21.302Z"
   },
   {
    "duration": 190,
    "start_time": "2023-07-28T09:03:23.049Z"
   },
   {
    "duration": 17,
    "start_time": "2023-07-28T09:03:23.242Z"
   },
   {
    "duration": 73,
    "start_time": "2023-07-28T09:03:23.261Z"
   },
   {
    "duration": 23,
    "start_time": "2023-07-28T09:03:23.336Z"
   },
   {
    "duration": 50,
    "start_time": "2023-07-28T09:03:23.361Z"
   },
   {
    "duration": 42,
    "start_time": "2023-07-28T09:03:23.412Z"
   },
   {
    "duration": 66,
    "start_time": "2023-07-28T09:03:23.456Z"
   },
   {
    "duration": 346,
    "start_time": "2023-07-28T09:03:23.531Z"
   },
   {
    "duration": 22,
    "start_time": "2023-07-28T09:03:23.884Z"
   },
   {
    "duration": 47,
    "start_time": "2023-07-28T09:03:23.908Z"
   },
   {
    "duration": 30,
    "start_time": "2023-07-28T09:03:23.958Z"
   },
   {
    "duration": 97,
    "start_time": "2023-07-28T09:03:23.990Z"
   },
   {
    "duration": 41,
    "start_time": "2023-07-28T09:03:24.092Z"
   },
   {
    "duration": 27,
    "start_time": "2023-07-28T09:03:24.135Z"
   },
   {
    "duration": 33,
    "start_time": "2023-07-28T09:03:24.165Z"
   },
   {
    "duration": 47,
    "start_time": "2023-07-28T09:03:24.204Z"
   },
   {
    "duration": 26,
    "start_time": "2023-07-28T09:03:24.254Z"
   },
   {
    "duration": 45,
    "start_time": "2023-07-28T09:03:24.290Z"
   },
   {
    "duration": 27,
    "start_time": "2023-07-28T09:03:24.338Z"
   },
   {
    "duration": 52,
    "start_time": "2023-07-28T09:03:24.368Z"
   },
   {
    "duration": 45,
    "start_time": "2023-07-28T09:03:24.423Z"
   },
   {
    "duration": 9,
    "start_time": "2023-07-28T09:03:24.470Z"
   },
   {
    "duration": 78,
    "start_time": "2023-07-28T09:03:24.484Z"
   },
   {
    "duration": 23,
    "start_time": "2023-07-28T09:03:24.564Z"
   },
   {
    "duration": 62,
    "start_time": "2023-07-28T09:03:24.589Z"
   },
   {
    "duration": 504,
    "start_time": "2023-07-28T09:03:24.653Z"
   },
   {
    "duration": 390,
    "start_time": "2023-07-28T09:03:25.159Z"
   },
   {
    "duration": 17,
    "start_time": "2023-07-28T09:03:25.551Z"
   },
   {
    "duration": 1844,
    "start_time": "2023-07-28T09:03:25.575Z"
   },
   {
    "duration": 30,
    "start_time": "2023-07-28T09:03:27.428Z"
   },
   {
    "duration": 57,
    "start_time": "2023-07-28T09:03:27.460Z"
   },
   {
    "duration": 31,
    "start_time": "2023-07-28T09:03:27.528Z"
   },
   {
    "duration": 338,
    "start_time": "2023-07-28T09:03:27.563Z"
   },
   {
    "duration": 23,
    "start_time": "2023-07-28T09:03:27.906Z"
   },
   {
    "duration": 1052,
    "start_time": "2023-07-28T09:03:27.934Z"
   },
   {
    "duration": 522,
    "start_time": "2023-07-28T09:03:28.996Z"
   },
   {
    "duration": 364,
    "start_time": "2023-07-28T09:03:29.526Z"
   },
   {
    "duration": 388,
    "start_time": "2023-07-28T09:03:29.892Z"
   },
   {
    "duration": 515,
    "start_time": "2023-07-28T09:03:30.284Z"
   },
   {
    "duration": 384,
    "start_time": "2023-07-28T09:03:30.808Z"
   },
   {
    "duration": 597,
    "start_time": "2023-07-28T09:03:31.197Z"
   },
   {
    "duration": 574,
    "start_time": "2023-07-28T09:03:31.798Z"
   },
   {
    "duration": 551,
    "start_time": "2023-07-28T09:03:32.385Z"
   },
   {
    "duration": 10,
    "start_time": "2023-07-28T09:03:32.946Z"
   },
   {
    "duration": 104,
    "start_time": "2023-07-28T09:03:32.957Z"
   },
   {
    "duration": 89,
    "start_time": "2023-07-28T09:03:33.065Z"
   },
   {
    "duration": 84,
    "start_time": "2023-07-28T09:03:33.156Z"
   },
   {
    "duration": 15,
    "start_time": "2023-07-28T09:03:33.242Z"
   },
   {
    "duration": 17,
    "start_time": "2023-07-28T09:14:20.389Z"
   },
   {
    "duration": 6,
    "start_time": "2023-07-28T09:14:53.826Z"
   },
   {
    "duration": 6,
    "start_time": "2023-07-28T09:16:45.499Z"
   },
   {
    "duration": 4,
    "start_time": "2023-07-28T09:17:21.951Z"
   },
   {
    "duration": 386,
    "start_time": "2023-07-28T09:21:40.418Z"
   },
   {
    "duration": 383,
    "start_time": "2023-07-28T09:24:32.385Z"
   },
   {
    "duration": 376,
    "start_time": "2023-07-28T09:24:50.631Z"
   },
   {
    "duration": 557,
    "start_time": "2023-07-28T09:26:16.705Z"
   },
   {
    "duration": 566,
    "start_time": "2023-07-28T09:28:48.494Z"
   },
   {
    "duration": 520,
    "start_time": "2023-07-28T09:29:17.833Z"
   },
   {
    "duration": 457,
    "start_time": "2023-07-28T09:29:26.251Z"
   },
   {
    "duration": 446,
    "start_time": "2023-07-28T09:31:25.551Z"
   },
   {
    "duration": 406,
    "start_time": "2023-07-28T09:33:39.968Z"
   },
   {
    "duration": 399,
    "start_time": "2023-07-28T09:34:32.342Z"
   },
   {
    "duration": 421,
    "start_time": "2023-07-28T09:35:19.445Z"
   },
   {
    "duration": 568,
    "start_time": "2023-07-28T09:36:37.253Z"
   },
   {
    "duration": 3,
    "start_time": "2023-07-28T09:39:33.733Z"
   },
   {
    "duration": 730,
    "start_time": "2023-07-28T09:40:30.634Z"
   },
   {
    "duration": 302,
    "start_time": "2023-07-28T09:43:25.456Z"
   },
   {
    "duration": 1781,
    "start_time": "2023-07-28T11:16:31.600Z"
   },
   {
    "duration": 130,
    "start_time": "2023-07-28T11:16:33.384Z"
   },
   {
    "duration": 22,
    "start_time": "2023-07-28T11:16:33.517Z"
   },
   {
    "duration": 4,
    "start_time": "2023-07-28T11:16:33.541Z"
   },
   {
    "duration": 39,
    "start_time": "2023-07-28T11:16:33.548Z"
   },
   {
    "duration": 45,
    "start_time": "2023-07-28T11:16:33.590Z"
   },
   {
    "duration": 18,
    "start_time": "2023-07-28T11:16:33.637Z"
   },
   {
    "duration": 9,
    "start_time": "2023-07-28T11:16:33.656Z"
   },
   {
    "duration": 254,
    "start_time": "2023-07-28T11:16:33.667Z"
   },
   {
    "duration": 6,
    "start_time": "2023-07-28T11:16:33.923Z"
   },
   {
    "duration": 20,
    "start_time": "2023-07-28T11:16:33.932Z"
   },
   {
    "duration": 32,
    "start_time": "2023-07-28T11:16:33.954Z"
   },
   {
    "duration": 55,
    "start_time": "2023-07-28T11:16:33.991Z"
   },
   {
    "duration": 7,
    "start_time": "2023-07-28T11:16:34.049Z"
   },
   {
    "duration": 36,
    "start_time": "2023-07-28T11:16:34.057Z"
   },
   {
    "duration": 37,
    "start_time": "2023-07-28T11:16:34.100Z"
   },
   {
    "duration": 19,
    "start_time": "2023-07-28T11:16:34.139Z"
   },
   {
    "duration": 40,
    "start_time": "2023-07-28T11:16:34.160Z"
   },
   {
    "duration": 29,
    "start_time": "2023-07-28T11:16:34.207Z"
   },
   {
    "duration": 17,
    "start_time": "2023-07-28T11:16:34.238Z"
   },
   {
    "duration": 18,
    "start_time": "2023-07-28T11:16:34.258Z"
   },
   {
    "duration": 15,
    "start_time": "2023-07-28T11:16:34.278Z"
   },
   {
    "duration": 44,
    "start_time": "2023-07-28T11:16:34.295Z"
   },
   {
    "duration": 27,
    "start_time": "2023-07-28T11:16:34.341Z"
   },
   {
    "duration": 62,
    "start_time": "2023-07-28T11:16:34.370Z"
   },
   {
    "duration": 416,
    "start_time": "2023-07-28T11:16:34.434Z"
   },
   {
    "duration": 461,
    "start_time": "2023-07-28T11:16:34.852Z"
   },
   {
    "duration": 19,
    "start_time": "2023-07-28T11:16:35.318Z"
   },
   {
    "duration": 1728,
    "start_time": "2023-07-28T11:16:35.339Z"
   },
   {
    "duration": 23,
    "start_time": "2023-07-28T11:16:37.069Z"
   },
   {
    "duration": 135,
    "start_time": "2023-07-28T11:16:37.094Z"
   },
   {
    "duration": 14,
    "start_time": "2023-07-28T11:16:37.231Z"
   },
   {
    "duration": 304,
    "start_time": "2023-07-28T11:16:37.248Z"
   },
   {
    "duration": 31,
    "start_time": "2023-07-28T11:16:37.554Z"
   },
   {
    "duration": 1060,
    "start_time": "2023-07-28T11:16:37.591Z"
   },
   {
    "duration": 423,
    "start_time": "2023-07-28T11:16:38.654Z"
   },
   {
    "duration": 389,
    "start_time": "2023-07-28T11:16:39.079Z"
   },
   {
    "duration": 387,
    "start_time": "2023-07-28T11:16:39.470Z"
   },
   {
    "duration": 441,
    "start_time": "2023-07-28T11:16:39.859Z"
   },
   {
    "duration": 512,
    "start_time": "2023-07-28T11:16:40.306Z"
   },
   {
    "duration": 458,
    "start_time": "2023-07-28T11:16:40.826Z"
   },
   {
    "duration": 355,
    "start_time": "2023-07-28T11:16:41.289Z"
   },
   {
    "duration": 505,
    "start_time": "2023-07-28T11:16:41.647Z"
   },
   {
    "duration": 0,
    "start_time": "2023-07-28T11:16:42.154Z"
   },
   {
    "duration": 0,
    "start_time": "2023-07-28T11:16:42.156Z"
   },
   {
    "duration": 0,
    "start_time": "2023-07-28T11:16:42.157Z"
   },
   {
    "duration": 0,
    "start_time": "2023-07-28T11:16:42.175Z"
   },
   {
    "duration": 0,
    "start_time": "2023-07-28T11:16:42.176Z"
   },
   {
    "duration": 0,
    "start_time": "2023-07-28T11:16:42.177Z"
   },
   {
    "duration": 0,
    "start_time": "2023-07-28T11:16:42.178Z"
   },
   {
    "duration": 164,
    "start_time": "2023-07-28T11:19:06.759Z"
   },
   {
    "duration": 5,
    "start_time": "2023-07-28T11:21:52.618Z"
   },
   {
    "duration": 1533,
    "start_time": "2023-07-28T11:22:02.800Z"
   },
   {
    "duration": 103,
    "start_time": "2023-07-28T11:22:04.335Z"
   },
   {
    "duration": 23,
    "start_time": "2023-07-28T11:22:04.440Z"
   },
   {
    "duration": 14,
    "start_time": "2023-07-28T11:22:04.466Z"
   },
   {
    "duration": 75,
    "start_time": "2023-07-28T11:22:04.483Z"
   },
   {
    "duration": 23,
    "start_time": "2023-07-28T11:22:04.561Z"
   },
   {
    "duration": 46,
    "start_time": "2023-07-28T11:22:04.587Z"
   },
   {
    "duration": 8,
    "start_time": "2023-07-28T11:22:04.635Z"
   },
   {
    "duration": 264,
    "start_time": "2023-07-28T11:22:04.645Z"
   },
   {
    "duration": 8,
    "start_time": "2023-07-28T11:22:04.912Z"
   },
   {
    "duration": 29,
    "start_time": "2023-07-28T11:22:04.922Z"
   },
   {
    "duration": 95,
    "start_time": "2023-07-28T11:22:04.952Z"
   },
   {
    "duration": 40,
    "start_time": "2023-07-28T11:22:05.049Z"
   },
   {
    "duration": 46,
    "start_time": "2023-07-28T11:22:05.093Z"
   },
   {
    "duration": 44,
    "start_time": "2023-07-28T11:22:05.141Z"
   },
   {
    "duration": 68,
    "start_time": "2023-07-28T11:22:05.192Z"
   },
   {
    "duration": 61,
    "start_time": "2023-07-28T11:22:05.263Z"
   },
   {
    "duration": 40,
    "start_time": "2023-07-28T11:22:05.326Z"
   },
   {
    "duration": 71,
    "start_time": "2023-07-28T11:22:05.369Z"
   },
   {
    "duration": 25,
    "start_time": "2023-07-28T11:22:05.443Z"
   },
   {
    "duration": 63,
    "start_time": "2023-07-28T11:22:05.470Z"
   },
   {
    "duration": 30,
    "start_time": "2023-07-28T11:22:05.535Z"
   },
   {
    "duration": 25,
    "start_time": "2023-07-28T11:22:05.567Z"
   },
   {
    "duration": 82,
    "start_time": "2023-07-28T11:22:05.596Z"
   },
   {
    "duration": 87,
    "start_time": "2023-07-28T11:22:05.680Z"
   },
   {
    "duration": 601,
    "start_time": "2023-07-28T11:22:05.769Z"
   },
   {
    "duration": 451,
    "start_time": "2023-07-28T11:22:06.382Z"
   },
   {
    "duration": 17,
    "start_time": "2023-07-28T11:22:06.844Z"
   },
   {
    "duration": 1879,
    "start_time": "2023-07-28T11:22:06.867Z"
   },
   {
    "duration": 61,
    "start_time": "2023-07-28T11:22:08.748Z"
   },
   {
    "duration": 18,
    "start_time": "2023-07-28T11:22:08.812Z"
   },
   {
    "duration": 37,
    "start_time": "2023-07-28T11:22:08.832Z"
   },
   {
    "duration": 321,
    "start_time": "2023-07-28T11:22:08.874Z"
   },
   {
    "duration": 15,
    "start_time": "2023-07-28T11:22:09.198Z"
   },
   {
    "duration": 1215,
    "start_time": "2023-07-28T11:22:09.217Z"
   },
   {
    "duration": 374,
    "start_time": "2023-07-28T11:22:10.434Z"
   },
   {
    "duration": 385,
    "start_time": "2023-07-28T11:22:10.811Z"
   },
   {
    "duration": 345,
    "start_time": "2023-07-28T11:22:11.204Z"
   },
   {
    "duration": 369,
    "start_time": "2023-07-28T11:22:11.551Z"
   },
   {
    "duration": 485,
    "start_time": "2023-07-28T11:22:11.923Z"
   },
   {
    "duration": 370,
    "start_time": "2023-07-28T11:22:12.410Z"
   },
   {
    "duration": 344,
    "start_time": "2023-07-28T11:22:12.805Z"
   },
   {
    "duration": 3,
    "start_time": "2023-07-28T11:22:13.151Z"
   },
   {
    "duration": 560,
    "start_time": "2023-07-28T11:22:13.156Z"
   },
   {
    "duration": 522,
    "start_time": "2023-07-28T11:22:13.719Z"
   },
   {
    "duration": 487,
    "start_time": "2023-07-28T11:22:14.243Z"
   },
   {
    "duration": 8,
    "start_time": "2023-07-28T11:22:14.733Z"
   },
   {
    "duration": 45,
    "start_time": "2023-07-28T11:22:14.743Z"
   },
   {
    "duration": 130,
    "start_time": "2023-07-28T11:22:14.794Z"
   },
   {
    "duration": 35,
    "start_time": "2023-07-28T11:22:14.926Z"
   },
   {
    "duration": 33,
    "start_time": "2023-07-28T11:22:14.963Z"
   },
   {
    "duration": 1185,
    "start_time": "2023-07-28T23:19:38.730Z"
   },
   {
    "duration": 75,
    "start_time": "2023-07-28T23:19:39.918Z"
   },
   {
    "duration": 16,
    "start_time": "2023-07-28T23:19:39.995Z"
   },
   {
    "duration": 31,
    "start_time": "2023-07-28T23:19:40.013Z"
   },
   {
    "duration": 45,
    "start_time": "2023-07-28T23:19:40.046Z"
   },
   {
    "duration": 16,
    "start_time": "2023-07-28T23:19:40.093Z"
   },
   {
    "duration": 38,
    "start_time": "2023-07-28T23:19:40.111Z"
   },
   {
    "duration": 7,
    "start_time": "2023-07-28T23:19:40.151Z"
   },
   {
    "duration": 208,
    "start_time": "2023-07-28T23:19:40.160Z"
   },
   {
    "duration": 5,
    "start_time": "2023-07-28T23:19:40.370Z"
   },
   {
    "duration": 31,
    "start_time": "2023-07-28T23:19:40.377Z"
   },
   {
    "duration": 25,
    "start_time": "2023-07-28T23:19:40.410Z"
   },
   {
    "duration": 25,
    "start_time": "2023-07-28T23:19:40.437Z"
   },
   {
    "duration": 7,
    "start_time": "2023-07-28T23:19:40.466Z"
   },
   {
    "duration": 38,
    "start_time": "2023-07-28T23:19:40.475Z"
   },
   {
    "duration": 18,
    "start_time": "2023-07-28T23:19:40.515Z"
   },
   {
    "duration": 14,
    "start_time": "2023-07-28T23:19:40.535Z"
   },
   {
    "duration": 10,
    "start_time": "2023-07-28T23:19:40.551Z"
   },
   {
    "duration": 5,
    "start_time": "2023-07-28T23:19:40.563Z"
   },
   {
    "duration": 8,
    "start_time": "2023-07-28T23:19:40.570Z"
   },
   {
    "duration": 13,
    "start_time": "2023-07-28T23:19:40.580Z"
   },
   {
    "duration": 17,
    "start_time": "2023-07-28T23:19:40.595Z"
   },
   {
    "duration": 4,
    "start_time": "2023-07-28T23:19:40.614Z"
   },
   {
    "duration": 24,
    "start_time": "2023-07-28T23:19:40.620Z"
   },
   {
    "duration": 36,
    "start_time": "2023-07-28T23:19:40.645Z"
   },
   {
    "duration": 332,
    "start_time": "2023-07-28T23:19:40.683Z"
   },
   {
    "duration": 296,
    "start_time": "2023-07-28T23:19:41.017Z"
   },
   {
    "duration": 16,
    "start_time": "2023-07-28T23:19:41.315Z"
   },
   {
    "duration": 1375,
    "start_time": "2023-07-28T23:19:41.333Z"
   },
   {
    "duration": 17,
    "start_time": "2023-07-28T23:19:42.710Z"
   },
   {
    "duration": 7,
    "start_time": "2023-07-28T23:19:42.729Z"
   },
   {
    "duration": 22,
    "start_time": "2023-07-28T23:19:42.737Z"
   },
   {
    "duration": 197,
    "start_time": "2023-07-28T23:19:42.761Z"
   },
   {
    "duration": 11,
    "start_time": "2023-07-28T23:19:42.967Z"
   },
   {
    "duration": 844,
    "start_time": "2023-07-28T23:19:42.980Z"
   },
   {
    "duration": 356,
    "start_time": "2023-07-28T23:19:43.826Z"
   },
   {
    "duration": 313,
    "start_time": "2023-07-28T23:19:44.184Z"
   },
   {
    "duration": 310,
    "start_time": "2023-07-28T23:19:44.499Z"
   },
   {
    "duration": 372,
    "start_time": "2023-07-28T23:19:44.811Z"
   },
   {
    "duration": 501,
    "start_time": "2023-07-28T23:19:45.185Z"
   },
   {
    "duration": 313,
    "start_time": "2023-07-28T23:19:45.690Z"
   },
   {
    "duration": 297,
    "start_time": "2023-07-28T23:19:46.005Z"
   },
   {
    "duration": 3,
    "start_time": "2023-07-28T23:19:46.304Z"
   },
   {
    "duration": 460,
    "start_time": "2023-07-28T23:19:46.308Z"
   },
   {
    "duration": 450,
    "start_time": "2023-07-28T23:19:46.770Z"
   },
   {
    "duration": 383,
    "start_time": "2023-07-28T23:19:47.223Z"
   },
   {
    "duration": 8,
    "start_time": "2023-07-28T23:19:47.608Z"
   },
   {
    "duration": 14,
    "start_time": "2023-07-28T23:19:47.618Z"
   },
   {
    "duration": 145,
    "start_time": "2023-07-28T23:19:47.634Z"
   },
   {
    "duration": 9,
    "start_time": "2023-07-28T23:19:47.781Z"
   },
   {
    "duration": 12,
    "start_time": "2023-07-28T23:19:47.792Z"
   },
   {
    "duration": 1323,
    "start_time": "2023-07-28T23:38:08.036Z"
   },
   {
    "duration": 76,
    "start_time": "2023-07-28T23:38:09.361Z"
   },
   {
    "duration": 15,
    "start_time": "2023-07-28T23:38:09.439Z"
   },
   {
    "duration": 3,
    "start_time": "2023-07-28T23:38:09.456Z"
   },
   {
    "duration": 27,
    "start_time": "2023-07-28T23:38:09.461Z"
   },
   {
    "duration": 12,
    "start_time": "2023-07-28T23:38:09.490Z"
   },
   {
    "duration": 12,
    "start_time": "2023-07-28T23:38:09.504Z"
   },
   {
    "duration": 4,
    "start_time": "2023-07-28T23:38:09.518Z"
   },
   {
    "duration": 209,
    "start_time": "2023-07-28T23:38:09.524Z"
   },
   {
    "duration": 5,
    "start_time": "2023-07-28T23:38:09.735Z"
   },
   {
    "duration": 7,
    "start_time": "2023-07-28T23:38:09.742Z"
   },
   {
    "duration": 17,
    "start_time": "2023-07-28T23:38:09.766Z"
   },
   {
    "duration": 23,
    "start_time": "2023-07-28T23:38:09.785Z"
   },
   {
    "duration": 4,
    "start_time": "2023-07-28T23:38:09.811Z"
   },
   {
    "duration": 25,
    "start_time": "2023-07-28T23:38:09.817Z"
   },
   {
    "duration": 40,
    "start_time": "2023-07-28T23:38:09.844Z"
   },
   {
    "duration": 13,
    "start_time": "2023-07-28T23:38:09.886Z"
   },
   {
    "duration": 10,
    "start_time": "2023-07-28T23:38:09.901Z"
   },
   {
    "duration": 6,
    "start_time": "2023-07-28T23:38:09.912Z"
   },
   {
    "duration": 9,
    "start_time": "2023-07-28T23:38:09.919Z"
   },
   {
    "duration": 7,
    "start_time": "2023-07-28T23:38:09.930Z"
   },
   {
    "duration": 10,
    "start_time": "2023-07-28T23:38:09.939Z"
   },
   {
    "duration": 19,
    "start_time": "2023-07-28T23:38:09.951Z"
   },
   {
    "duration": 24,
    "start_time": "2023-07-28T23:38:09.972Z"
   },
   {
    "duration": 26,
    "start_time": "2023-07-28T23:38:09.997Z"
   },
   {
    "duration": 343,
    "start_time": "2023-07-28T23:38:10.025Z"
   },
   {
    "duration": 301,
    "start_time": "2023-07-28T23:38:10.370Z"
   },
   {
    "duration": 14,
    "start_time": "2023-07-28T23:38:10.673Z"
   },
   {
    "duration": 1387,
    "start_time": "2023-07-28T23:38:10.689Z"
   },
   {
    "duration": 18,
    "start_time": "2023-07-28T23:38:12.078Z"
   },
   {
    "duration": 9,
    "start_time": "2023-07-28T23:38:12.098Z"
   },
   {
    "duration": 7,
    "start_time": "2023-07-28T23:38:12.109Z"
   },
   {
    "duration": 228,
    "start_time": "2023-07-28T23:38:12.117Z"
   },
   {
    "duration": 21,
    "start_time": "2023-07-28T23:38:12.346Z"
   },
   {
    "duration": 842,
    "start_time": "2023-07-28T23:38:12.369Z"
   },
   {
    "duration": 328,
    "start_time": "2023-07-28T23:38:13.213Z"
   },
   {
    "duration": 327,
    "start_time": "2023-07-28T23:38:13.543Z"
   },
   {
    "duration": 343,
    "start_time": "2023-07-28T23:38:13.872Z"
   },
   {
    "duration": 316,
    "start_time": "2023-07-28T23:38:14.217Z"
   },
   {
    "duration": 456,
    "start_time": "2023-07-28T23:38:14.534Z"
   },
   {
    "duration": 317,
    "start_time": "2023-07-28T23:38:14.995Z"
   },
   {
    "duration": 310,
    "start_time": "2023-07-28T23:38:15.315Z"
   },
   {
    "duration": 4,
    "start_time": "2023-07-28T23:38:15.627Z"
   },
   {
    "duration": 496,
    "start_time": "2023-07-28T23:38:15.633Z"
   },
   {
    "duration": 457,
    "start_time": "2023-07-28T23:38:16.131Z"
   },
   {
    "duration": 395,
    "start_time": "2023-07-28T23:38:16.590Z"
   },
   {
    "duration": 7,
    "start_time": "2023-07-28T23:38:16.987Z"
   },
   {
    "duration": 24,
    "start_time": "2023-07-28T23:38:16.996Z"
   },
   {
    "duration": 137,
    "start_time": "2023-07-28T23:38:17.022Z"
   },
   {
    "duration": 11,
    "start_time": "2023-07-28T23:38:17.167Z"
   },
   {
    "duration": 18,
    "start_time": "2023-07-28T23:38:17.180Z"
   },
   {
    "duration": 74,
    "start_time": "2023-07-28T23:38:17.199Z"
   },
   {
    "duration": 3,
    "start_time": "2023-07-28T23:38:17.275Z"
   },
   {
    "duration": 20,
    "start_time": "2023-07-28T23:38:17.280Z"
   },
   {
    "duration": 14,
    "start_time": "2023-07-28T23:38:17.301Z"
   },
   {
    "duration": 14,
    "start_time": "2023-07-28T23:38:17.316Z"
   },
   {
    "duration": 21,
    "start_time": "2023-07-28T23:38:17.332Z"
   },
   {
    "duration": 12,
    "start_time": "2023-07-28T23:38:17.355Z"
   },
   {
    "duration": 677,
    "start_time": "2023-07-28T23:38:17.369Z"
   },
   {
    "duration": 616,
    "start_time": "2023-07-28T23:38:18.047Z"
   },
   {
    "duration": 675,
    "start_time": "2023-07-28T23:38:18.664Z"
   }
  ],
  "kernelspec": {
   "display_name": "Python 3 (ipykernel)",
   "language": "python",
   "name": "python3"
  },
  "language_info": {
   "codemirror_mode": {
    "name": "ipython",
    "version": 3
   },
   "file_extension": ".py",
   "mimetype": "text/x-python",
   "name": "python",
   "nbconvert_exporter": "python",
   "pygments_lexer": "ipython3",
   "version": "3.9.5"
  },
  "toc": {
   "base_numbering": 1,
   "nav_menu": {},
   "number_sections": true,
   "sideBar": true,
   "skip_h1_title": true,
   "title_cell": "Table of Contents",
   "title_sidebar": "Contents",
   "toc_cell": false,
   "toc_position": {},
   "toc_section_display": true,
   "toc_window_display": true
  }
 },
 "nbformat": 4,
 "nbformat_minor": 2
}
