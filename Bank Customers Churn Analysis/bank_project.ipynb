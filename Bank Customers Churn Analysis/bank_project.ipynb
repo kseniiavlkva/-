{
 "cells": [
  {
   "cell_type": "markdown",
   "metadata": {},
   "source": [
    "# Материалы"
   ]
  },
  {
   "cell_type": "markdown",
   "metadata": {},
   "source": [
    "[Дашборд](https://public.tableau.com/views/_17007427607740/sheet1?:language=ko-KR&publish=yes&:display_count=n&:origin=viz_share_link)\n",
    "\n",
    "[Презентация](https://drive.google.com/file/d/153_sE_QaBgLckDovPekWCtKvi58CubEl/view?usp=sharing)"
   ]
  },
  {
   "cell_type": "markdown",
   "metadata": {},
   "source": [
    "# Анализ оттока клиентов"
   ]
  },
  {
   "cell_type": "markdown",
   "metadata": {},
   "source": [
    "**Цель:** провести анализ оттока клиентов\n",
    "    \n",
    "**Задачи:**\n",
    "\n",
    "    1. Определить все значимые признаки отточности\n",
    "    2. Сформулировать и проверить сатистические гипотезы\n",
    "    3. Сформировать сегменты\n",
    "    4. Сделать выводы и дать рекомендации\n",
    "    \n",
    "**Ход работы**\n",
    "1. Загрузить данные и изучить общую информацию\n",
    "2. Выполнить предобработку данных\n",
    "- проверить на наличие пропусков, дубликатов, выбросов\n",
    "- преобразовать категориальные переменные, создать новые столбцы\n",
    "3. Анализ данных\n",
    "* построение графиков с распределением признаков в т.ч. в разрезе оттока,\n",
    "* сравнение портретов клиентов \n",
    "* корреляционный анализ\n",
    "4. Проверка гипотез\n",
    "* гипотеза различия дохода между теми клиентами, которые ушли и теми, которые остались\n",
    "* гипотеза о наличии кредитной карты у клиентов, которые ушли и тех, кто остался\n",
    "5. Сегментация на основе показателей \n",
    "* вывить сегменты пользователей \n",
    "* посчитать метрики для каждого сегмента: объём, количество отточных клиентов, уровень отточности\n",
    "6. Сделать вывод и дать рекомендации по каждому сегменту\n",
    "7. Сделать презентацию "
   ]
  },
  {
   "cell_type": "markdown",
   "metadata": {},
   "source": [
    "**Описание данных**\n",
    "* user_id— идентификатор пользователя,\n",
    "* score — баллы кредитного скоринга,\n",
    "* city — город,\n",
    "* gender — пол,\n",
    "* age — возраст,\n",
    "* equity — количество баллов собственности\n",
    "* balance — баланс на счёте,\n",
    "* products — количество продуктов, которыми пользуется клиент,\n",
    "* credit_card — есть ли кредитная карта,\n",
    "* last_activity — активный клиент,\n",
    "* est_salary — оценочный доход клиента,\n",
    "*сhurn — признак оттока."
   ]
  },
  {
   "cell_type": "code",
   "execution_count": 1,
   "metadata": {},
   "outputs": [],
   "source": [
    "import os\n",
    "import pandas as pd\n",
    "import numpy as np\n",
    "import seaborn as sns\n",
    "import matplotlib.pyplot as plt\n",
    "from scipy import stats as st"
   ]
  },
  {
   "cell_type": "markdown",
   "metadata": {},
   "source": [
    "## Изучение общей информации"
   ]
  },
  {
   "cell_type": "code",
   "execution_count": 2,
   "metadata": {},
   "outputs": [],
   "source": [
    "pth1 = '/datasets/bank_scrooge.csv'\n",
    "pth2 = 'https://code.s3.yandex.net/datasets/bank_scrooge.csv'\n",
    "\n",
    "if os.path.exists(pth1):\n",
    "    data = pd.read_csv(pth1)\n",
    "elif os.path.exists(pth2):\n",
    "    data = pd.read_csv(pth2)\n",
    "else:\n",
    "    print('Something is wrong') "
   ]
  },
  {
   "cell_type": "code",
   "execution_count": 3,
   "metadata": {},
   "outputs": [
    {
     "data": {
      "text/html": [
       "<div>\n",
       "<style scoped>\n",
       "    .dataframe tbody tr th:only-of-type {\n",
       "        vertical-align: middle;\n",
       "    }\n",
       "\n",
       "    .dataframe tbody tr th {\n",
       "        vertical-align: top;\n",
       "    }\n",
       "\n",
       "    .dataframe thead th {\n",
       "        text-align: right;\n",
       "    }\n",
       "</style>\n",
       "<table border=\"1\" class=\"dataframe\">\n",
       "  <thead>\n",
       "    <tr style=\"text-align: right;\">\n",
       "      <th></th>\n",
       "      <th>USERID</th>\n",
       "      <th>score</th>\n",
       "      <th>city</th>\n",
       "      <th>gender</th>\n",
       "      <th>age</th>\n",
       "      <th>equity</th>\n",
       "      <th>balance</th>\n",
       "      <th>products</th>\n",
       "      <th>credit_card</th>\n",
       "      <th>last_activity</th>\n",
       "      <th>EST_SALARY</th>\n",
       "      <th>churn</th>\n",
       "    </tr>\n",
       "  </thead>\n",
       "  <tbody>\n",
       "    <tr>\n",
       "      <th>0</th>\n",
       "      <td>183012</td>\n",
       "      <td>850.0</td>\n",
       "      <td>Рыбинск</td>\n",
       "      <td>Ж</td>\n",
       "      <td>25.0</td>\n",
       "      <td>1</td>\n",
       "      <td>59214.82</td>\n",
       "      <td>2</td>\n",
       "      <td>0</td>\n",
       "      <td>1</td>\n",
       "      <td>75719.14</td>\n",
       "      <td>1</td>\n",
       "    </tr>\n",
       "    <tr>\n",
       "      <th>1</th>\n",
       "      <td>146556</td>\n",
       "      <td>861.0</td>\n",
       "      <td>Рыбинск</td>\n",
       "      <td>Ж</td>\n",
       "      <td>37.0</td>\n",
       "      <td>5</td>\n",
       "      <td>850594.33</td>\n",
       "      <td>3</td>\n",
       "      <td>1</td>\n",
       "      <td>0</td>\n",
       "      <td>86621.77</td>\n",
       "      <td>0</td>\n",
       "    </tr>\n",
       "    <tr>\n",
       "      <th>2</th>\n",
       "      <td>120722</td>\n",
       "      <td>892.0</td>\n",
       "      <td>Рыбинск</td>\n",
       "      <td>Ж</td>\n",
       "      <td>30.0</td>\n",
       "      <td>0</td>\n",
       "      <td>NaN</td>\n",
       "      <td>1</td>\n",
       "      <td>1</td>\n",
       "      <td>1</td>\n",
       "      <td>107683.34</td>\n",
       "      <td>0</td>\n",
       "    </tr>\n",
       "    <tr>\n",
       "      <th>3</th>\n",
       "      <td>225363</td>\n",
       "      <td>866.0</td>\n",
       "      <td>Ярославль</td>\n",
       "      <td>Ж</td>\n",
       "      <td>51.0</td>\n",
       "      <td>5</td>\n",
       "      <td>1524746.26</td>\n",
       "      <td>2</td>\n",
       "      <td>0</td>\n",
       "      <td>1</td>\n",
       "      <td>174423.53</td>\n",
       "      <td>1</td>\n",
       "    </tr>\n",
       "    <tr>\n",
       "      <th>4</th>\n",
       "      <td>157978</td>\n",
       "      <td>730.0</td>\n",
       "      <td>Ярославль</td>\n",
       "      <td>М</td>\n",
       "      <td>34.0</td>\n",
       "      <td>5</td>\n",
       "      <td>174.00</td>\n",
       "      <td>1</td>\n",
       "      <td>1</td>\n",
       "      <td>0</td>\n",
       "      <td>67353.16</td>\n",
       "      <td>1</td>\n",
       "    </tr>\n",
       "  </tbody>\n",
       "</table>\n",
       "</div>"
      ],
      "text/plain": [
       "   USERID  score       city gender   age  equity     balance  products  \\\n",
       "0  183012  850.0    Рыбинск      Ж  25.0       1    59214.82         2   \n",
       "1  146556  861.0    Рыбинск      Ж  37.0       5   850594.33         3   \n",
       "2  120722  892.0    Рыбинск      Ж  30.0       0         NaN         1   \n",
       "3  225363  866.0  Ярославль      Ж  51.0       5  1524746.26         2   \n",
       "4  157978  730.0  Ярославль      М  34.0       5      174.00         1   \n",
       "\n",
       "   credit_card  last_activity  EST_SALARY  churn  \n",
       "0            0              1    75719.14      1  \n",
       "1            1              0    86621.77      0  \n",
       "2            1              1   107683.34      0  \n",
       "3            0              1   174423.53      1  \n",
       "4            1              0    67353.16      1  "
      ]
     },
     "execution_count": 3,
     "metadata": {},
     "output_type": "execute_result"
    }
   ],
   "source": [
    "data.head()"
   ]
  },
  {
   "cell_type": "code",
   "execution_count": 4,
   "metadata": {},
   "outputs": [
    {
     "name": "stdout",
     "output_type": "stream",
     "text": [
      "<class 'pandas.core.frame.DataFrame'>\n",
      "RangeIndex: 10000 entries, 0 to 9999\n",
      "Data columns (total 12 columns):\n",
      " #   Column         Non-Null Count  Dtype  \n",
      "---  ------         --------------  -----  \n",
      " 0   USERID         10000 non-null  int64  \n",
      " 1   score          10000 non-null  float64\n",
      " 2   city           10000 non-null  object \n",
      " 3   gender         10000 non-null  object \n",
      " 4   age            9974 non-null   float64\n",
      " 5   equity         10000 non-null  int64  \n",
      " 6   balance        7705 non-null   float64\n",
      " 7   products       10000 non-null  int64  \n",
      " 8   credit_card    10000 non-null  int64  \n",
      " 9   last_activity  10000 non-null  int64  \n",
      " 10  EST_SALARY     10000 non-null  float64\n",
      " 11  churn          10000 non-null  int64  \n",
      "dtypes: float64(4), int64(6), object(2)\n",
      "memory usage: 937.6+ KB\n"
     ]
    }
   ],
   "source": [
    "data.info()"
   ]
  },
  {
   "cell_type": "code",
   "execution_count": 5,
   "metadata": {},
   "outputs": [
    {
     "data": {
      "text/plain": [
       "USERID              0\n",
       "score               0\n",
       "city                0\n",
       "gender              0\n",
       "age                26\n",
       "equity              0\n",
       "balance          2295\n",
       "products            0\n",
       "credit_card         0\n",
       "last_activity       0\n",
       "EST_SALARY          0\n",
       "churn               0\n",
       "dtype: int64"
      ]
     },
     "execution_count": 5,
     "metadata": {},
     "output_type": "execute_result"
    }
   ],
   "source": [
    "data.isnull().sum()"
   ]
  },
  {
   "cell_type": "code",
   "execution_count": 6,
   "metadata": {},
   "outputs": [
    {
     "name": "stdout",
     "output_type": "stream",
     "text": [
      "Объём датасета: 10000\n"
     ]
    }
   ],
   "source": [
    "total = len(data)\n",
    "print('Объём датасета:', total)"
   ]
  },
  {
   "cell_type": "markdown",
   "metadata": {},
   "source": [
    "**ВЫВОД**\n",
    "\n",
    "После изучения общей информации было выявлено: \n",
    "* некорректное название столбцов USERID и EST_SALARY\n",
    "* пропуски в столбцах age  и balance\n",
    "* неподходящий тип данных в столбцe age"
   ]
  },
  {
   "cell_type": "markdown",
   "metadata": {},
   "source": [
    "## Подготовка данных"
   ]
  },
  {
   "cell_type": "markdown",
   "metadata": {},
   "source": [
    "###  Замените названия столбцов"
   ]
  },
  {
   "cell_type": "code",
   "execution_count": 7,
   "metadata": {},
   "outputs": [
    {
     "data": {
      "text/html": [
       "<div>\n",
       "<style scoped>\n",
       "    .dataframe tbody tr th:only-of-type {\n",
       "        vertical-align: middle;\n",
       "    }\n",
       "\n",
       "    .dataframe tbody tr th {\n",
       "        vertical-align: top;\n",
       "    }\n",
       "\n",
       "    .dataframe thead th {\n",
       "        text-align: right;\n",
       "    }\n",
       "</style>\n",
       "<table border=\"1\" class=\"dataframe\">\n",
       "  <thead>\n",
       "    <tr style=\"text-align: right;\">\n",
       "      <th></th>\n",
       "      <th>user_id</th>\n",
       "      <th>score</th>\n",
       "      <th>city</th>\n",
       "      <th>gender</th>\n",
       "      <th>age</th>\n",
       "      <th>equity</th>\n",
       "      <th>balance</th>\n",
       "      <th>products</th>\n",
       "      <th>credit_card</th>\n",
       "      <th>last_activity</th>\n",
       "      <th>est_salary</th>\n",
       "      <th>churn</th>\n",
       "    </tr>\n",
       "  </thead>\n",
       "  <tbody>\n",
       "    <tr>\n",
       "      <th>0</th>\n",
       "      <td>183012</td>\n",
       "      <td>850.0</td>\n",
       "      <td>Рыбинск</td>\n",
       "      <td>Ж</td>\n",
       "      <td>25.0</td>\n",
       "      <td>1</td>\n",
       "      <td>59214.82</td>\n",
       "      <td>2</td>\n",
       "      <td>0</td>\n",
       "      <td>1</td>\n",
       "      <td>75719.14</td>\n",
       "      <td>1</td>\n",
       "    </tr>\n",
       "    <tr>\n",
       "      <th>1</th>\n",
       "      <td>146556</td>\n",
       "      <td>861.0</td>\n",
       "      <td>Рыбинск</td>\n",
       "      <td>Ж</td>\n",
       "      <td>37.0</td>\n",
       "      <td>5</td>\n",
       "      <td>850594.33</td>\n",
       "      <td>3</td>\n",
       "      <td>1</td>\n",
       "      <td>0</td>\n",
       "      <td>86621.77</td>\n",
       "      <td>0</td>\n",
       "    </tr>\n",
       "    <tr>\n",
       "      <th>2</th>\n",
       "      <td>120722</td>\n",
       "      <td>892.0</td>\n",
       "      <td>Рыбинск</td>\n",
       "      <td>Ж</td>\n",
       "      <td>30.0</td>\n",
       "      <td>0</td>\n",
       "      <td>NaN</td>\n",
       "      <td>1</td>\n",
       "      <td>1</td>\n",
       "      <td>1</td>\n",
       "      <td>107683.34</td>\n",
       "      <td>0</td>\n",
       "    </tr>\n",
       "    <tr>\n",
       "      <th>3</th>\n",
       "      <td>225363</td>\n",
       "      <td>866.0</td>\n",
       "      <td>Ярославль</td>\n",
       "      <td>Ж</td>\n",
       "      <td>51.0</td>\n",
       "      <td>5</td>\n",
       "      <td>1524746.26</td>\n",
       "      <td>2</td>\n",
       "      <td>0</td>\n",
       "      <td>1</td>\n",
       "      <td>174423.53</td>\n",
       "      <td>1</td>\n",
       "    </tr>\n",
       "    <tr>\n",
       "      <th>4</th>\n",
       "      <td>157978</td>\n",
       "      <td>730.0</td>\n",
       "      <td>Ярославль</td>\n",
       "      <td>М</td>\n",
       "      <td>34.0</td>\n",
       "      <td>5</td>\n",
       "      <td>174.00</td>\n",
       "      <td>1</td>\n",
       "      <td>1</td>\n",
       "      <td>0</td>\n",
       "      <td>67353.16</td>\n",
       "      <td>1</td>\n",
       "    </tr>\n",
       "  </tbody>\n",
       "</table>\n",
       "</div>"
      ],
      "text/plain": [
       "   user_id  score       city gender   age  equity     balance  products  \\\n",
       "0   183012  850.0    Рыбинск      Ж  25.0       1    59214.82         2   \n",
       "1   146556  861.0    Рыбинск      Ж  37.0       5   850594.33         3   \n",
       "2   120722  892.0    Рыбинск      Ж  30.0       0         NaN         1   \n",
       "3   225363  866.0  Ярославль      Ж  51.0       5  1524746.26         2   \n",
       "4   157978  730.0  Ярославль      М  34.0       5      174.00         1   \n",
       "\n",
       "   credit_card  last_activity  est_salary  churn  \n",
       "0            0              1    75719.14      1  \n",
       "1            1              0    86621.77      0  \n",
       "2            1              1   107683.34      0  \n",
       "3            0              1   174423.53      1  \n",
       "4            1              0    67353.16      1  "
      ]
     },
     "execution_count": 7,
     "metadata": {},
     "output_type": "execute_result"
    }
   ],
   "source": [
    "# Замена названия столбцов\n",
    "data = data.rename(columns={'USERID': 'user_id', 'EST_SALARY': 'est_salary'}) \n",
    "data.head()"
   ]
  },
  {
   "cell_type": "markdown",
   "metadata": {},
   "source": [
    "### Изучение дубликатов и пропусков"
   ]
  },
  {
   "cell_type": "code",
   "execution_count": 8,
   "metadata": {},
   "outputs": [
    {
     "data": {
      "text/html": [
       "<div>\n",
       "<style scoped>\n",
       "    .dataframe tbody tr th:only-of-type {\n",
       "        vertical-align: middle;\n",
       "    }\n",
       "\n",
       "    .dataframe tbody tr th {\n",
       "        vertical-align: top;\n",
       "    }\n",
       "\n",
       "    .dataframe thead th {\n",
       "        text-align: right;\n",
       "    }\n",
       "</style>\n",
       "<table border=\"1\" class=\"dataframe\">\n",
       "  <thead>\n",
       "    <tr style=\"text-align: right;\">\n",
       "      <th></th>\n",
       "      <th>user_id</th>\n",
       "      <th>score</th>\n",
       "      <th>city</th>\n",
       "      <th>gender</th>\n",
       "      <th>age</th>\n",
       "      <th>equity</th>\n",
       "      <th>balance</th>\n",
       "      <th>products</th>\n",
       "      <th>credit_card</th>\n",
       "      <th>last_activity</th>\n",
       "      <th>est_salary</th>\n",
       "      <th>churn</th>\n",
       "    </tr>\n",
       "  </thead>\n",
       "  <tbody>\n",
       "    <tr>\n",
       "      <th>1247</th>\n",
       "      <td>228075</td>\n",
       "      <td>932.0</td>\n",
       "      <td>Ярославль</td>\n",
       "      <td>М</td>\n",
       "      <td>NaN</td>\n",
       "      <td>5</td>\n",
       "      <td>7601719.20</td>\n",
       "      <td>2</td>\n",
       "      <td>1</td>\n",
       "      <td>1</td>\n",
       "      <td>408121.16</td>\n",
       "      <td>0</td>\n",
       "    </tr>\n",
       "    <tr>\n",
       "      <th>2165</th>\n",
       "      <td>187635</td>\n",
       "      <td>692.0</td>\n",
       "      <td>Рыбинск</td>\n",
       "      <td>Ж</td>\n",
       "      <td>NaN</td>\n",
       "      <td>0</td>\n",
       "      <td>NaN</td>\n",
       "      <td>1</td>\n",
       "      <td>1</td>\n",
       "      <td>1</td>\n",
       "      <td>160368.82</td>\n",
       "      <td>0</td>\n",
       "    </tr>\n",
       "    <tr>\n",
       "      <th>2444</th>\n",
       "      <td>221156</td>\n",
       "      <td>913.0</td>\n",
       "      <td>Ярославль</td>\n",
       "      <td>М</td>\n",
       "      <td>NaN</td>\n",
       "      <td>0</td>\n",
       "      <td>NaN</td>\n",
       "      <td>1</td>\n",
       "      <td>1</td>\n",
       "      <td>1</td>\n",
       "      <td>135693.24</td>\n",
       "      <td>0</td>\n",
       "    </tr>\n",
       "    <tr>\n",
       "      <th>3091</th>\n",
       "      <td>138660</td>\n",
       "      <td>836.0</td>\n",
       "      <td>Ростов</td>\n",
       "      <td>Ж</td>\n",
       "      <td>NaN</td>\n",
       "      <td>5</td>\n",
       "      <td>294315.53</td>\n",
       "      <td>2</td>\n",
       "      <td>0</td>\n",
       "      <td>1</td>\n",
       "      <td>63310.22</td>\n",
       "      <td>1</td>\n",
       "    </tr>\n",
       "    <tr>\n",
       "      <th>4912</th>\n",
       "      <td>210674</td>\n",
       "      <td>834.0</td>\n",
       "      <td>Рыбинск</td>\n",
       "      <td>М</td>\n",
       "      <td>NaN</td>\n",
       "      <td>1</td>\n",
       "      <td>238330.52</td>\n",
       "      <td>2</td>\n",
       "      <td>0</td>\n",
       "      <td>1</td>\n",
       "      <td>93775.06</td>\n",
       "      <td>0</td>\n",
       "    </tr>\n",
       "    <tr>\n",
       "      <th>5470</th>\n",
       "      <td>218868</td>\n",
       "      <td>827.0</td>\n",
       "      <td>Рыбинск</td>\n",
       "      <td>Ж</td>\n",
       "      <td>NaN</td>\n",
       "      <td>4</td>\n",
       "      <td>448959.07</td>\n",
       "      <td>2</td>\n",
       "      <td>1</td>\n",
       "      <td>1</td>\n",
       "      <td>67835.95</td>\n",
       "      <td>0</td>\n",
       "    </tr>\n",
       "    <tr>\n",
       "      <th>5495</th>\n",
       "      <td>151662</td>\n",
       "      <td>884.0</td>\n",
       "      <td>Рыбинск</td>\n",
       "      <td>Ж</td>\n",
       "      <td>NaN</td>\n",
       "      <td>0</td>\n",
       "      <td>NaN</td>\n",
       "      <td>1</td>\n",
       "      <td>1</td>\n",
       "      <td>1</td>\n",
       "      <td>137500.77</td>\n",
       "      <td>0</td>\n",
       "    </tr>\n",
       "    <tr>\n",
       "      <th>7236</th>\n",
       "      <td>210135</td>\n",
       "      <td>908.0</td>\n",
       "      <td>Рыбинск</td>\n",
       "      <td>Ж</td>\n",
       "      <td>NaN</td>\n",
       "      <td>4</td>\n",
       "      <td>1120340.31</td>\n",
       "      <td>3</td>\n",
       "      <td>1</td>\n",
       "      <td>1</td>\n",
       "      <td>85002.15</td>\n",
       "      <td>0</td>\n",
       "    </tr>\n",
       "    <tr>\n",
       "      <th>7248</th>\n",
       "      <td>219343</td>\n",
       "      <td>920.0</td>\n",
       "      <td>Рыбинск</td>\n",
       "      <td>Ж</td>\n",
       "      <td>NaN</td>\n",
       "      <td>0</td>\n",
       "      <td>NaN</td>\n",
       "      <td>1</td>\n",
       "      <td>1</td>\n",
       "      <td>0</td>\n",
       "      <td>159248.67</td>\n",
       "      <td>0</td>\n",
       "    </tr>\n",
       "    <tr>\n",
       "      <th>7345</th>\n",
       "      <td>184913</td>\n",
       "      <td>829.0</td>\n",
       "      <td>Ярославль</td>\n",
       "      <td>Ж</td>\n",
       "      <td>NaN</td>\n",
       "      <td>3</td>\n",
       "      <td>188648.77</td>\n",
       "      <td>2</td>\n",
       "      <td>0</td>\n",
       "      <td>1</td>\n",
       "      <td>75206.90</td>\n",
       "      <td>0</td>\n",
       "    </tr>\n",
       "    <tr>\n",
       "      <th>7409</th>\n",
       "      <td>214031</td>\n",
       "      <td>777.0</td>\n",
       "      <td>Ярославль</td>\n",
       "      <td>М</td>\n",
       "      <td>NaN</td>\n",
       "      <td>2</td>\n",
       "      <td>171510.23</td>\n",
       "      <td>1</td>\n",
       "      <td>1</td>\n",
       "      <td>1</td>\n",
       "      <td>75409.63</td>\n",
       "      <td>0</td>\n",
       "    </tr>\n",
       "    <tr>\n",
       "      <th>8015</th>\n",
       "      <td>198635</td>\n",
       "      <td>670.0</td>\n",
       "      <td>Ярославль</td>\n",
       "      <td>Ж</td>\n",
       "      <td>NaN</td>\n",
       "      <td>0</td>\n",
       "      <td>NaN</td>\n",
       "      <td>1</td>\n",
       "      <td>1</td>\n",
       "      <td>1</td>\n",
       "      <td>168699.33</td>\n",
       "      <td>0</td>\n",
       "    </tr>\n",
       "    <tr>\n",
       "      <th>8070</th>\n",
       "      <td>226550</td>\n",
       "      <td>940.0</td>\n",
       "      <td>Рыбинск</td>\n",
       "      <td>М</td>\n",
       "      <td>NaN</td>\n",
       "      <td>0</td>\n",
       "      <td>NaN</td>\n",
       "      <td>1</td>\n",
       "      <td>0</td>\n",
       "      <td>1</td>\n",
       "      <td>147696.95</td>\n",
       "      <td>0</td>\n",
       "    </tr>\n",
       "    <tr>\n",
       "      <th>8293</th>\n",
       "      <td>216848</td>\n",
       "      <td>930.0</td>\n",
       "      <td>Ярославль</td>\n",
       "      <td>М</td>\n",
       "      <td>NaN</td>\n",
       "      <td>0</td>\n",
       "      <td>NaN</td>\n",
       "      <td>1</td>\n",
       "      <td>1</td>\n",
       "      <td>1</td>\n",
       "      <td>199542.51</td>\n",
       "      <td>0</td>\n",
       "    </tr>\n",
       "    <tr>\n",
       "      <th>8385</th>\n",
       "      <td>206759</td>\n",
       "      <td>915.0</td>\n",
       "      <td>Рыбинск</td>\n",
       "      <td>М</td>\n",
       "      <td>NaN</td>\n",
       "      <td>0</td>\n",
       "      <td>NaN</td>\n",
       "      <td>1</td>\n",
       "      <td>1</td>\n",
       "      <td>0</td>\n",
       "      <td>71179.53</td>\n",
       "      <td>0</td>\n",
       "    </tr>\n",
       "    <tr>\n",
       "      <th>8449</th>\n",
       "      <td>210898</td>\n",
       "      <td>805.0</td>\n",
       "      <td>Ярославль</td>\n",
       "      <td>Ж</td>\n",
       "      <td>NaN</td>\n",
       "      <td>0</td>\n",
       "      <td>NaN</td>\n",
       "      <td>1</td>\n",
       "      <td>0</td>\n",
       "      <td>1</td>\n",
       "      <td>922080.25</td>\n",
       "      <td>0</td>\n",
       "    </tr>\n",
       "    <tr>\n",
       "      <th>8632</th>\n",
       "      <td>221197</td>\n",
       "      <td>893.0</td>\n",
       "      <td>Ярославль</td>\n",
       "      <td>М</td>\n",
       "      <td>NaN</td>\n",
       "      <td>0</td>\n",
       "      <td>NaN</td>\n",
       "      <td>1</td>\n",
       "      <td>1</td>\n",
       "      <td>0</td>\n",
       "      <td>173929.92</td>\n",
       "      <td>0</td>\n",
       "    </tr>\n",
       "    <tr>\n",
       "      <th>8785</th>\n",
       "      <td>127440</td>\n",
       "      <td>663.0</td>\n",
       "      <td>Ярославль</td>\n",
       "      <td>М</td>\n",
       "      <td>NaN</td>\n",
       "      <td>0</td>\n",
       "      <td>NaN</td>\n",
       "      <td>1</td>\n",
       "      <td>1</td>\n",
       "      <td>1</td>\n",
       "      <td>117197.56</td>\n",
       "      <td>0</td>\n",
       "    </tr>\n",
       "    <tr>\n",
       "      <th>9104</th>\n",
       "      <td>222480</td>\n",
       "      <td>776.0</td>\n",
       "      <td>Рыбинск</td>\n",
       "      <td>Ж</td>\n",
       "      <td>NaN</td>\n",
       "      <td>5</td>\n",
       "      <td>796735.09</td>\n",
       "      <td>1</td>\n",
       "      <td>1</td>\n",
       "      <td>1</td>\n",
       "      <td>55073.63</td>\n",
       "      <td>0</td>\n",
       "    </tr>\n",
       "    <tr>\n",
       "      <th>9301</th>\n",
       "      <td>202983</td>\n",
       "      <td>942.0</td>\n",
       "      <td>Рыбинск</td>\n",
       "      <td>Ж</td>\n",
       "      <td>NaN</td>\n",
       "      <td>0</td>\n",
       "      <td>NaN</td>\n",
       "      <td>1</td>\n",
       "      <td>1</td>\n",
       "      <td>1</td>\n",
       "      <td>163804.73</td>\n",
       "      <td>0</td>\n",
       "    </tr>\n",
       "    <tr>\n",
       "      <th>9380</th>\n",
       "      <td>187459</td>\n",
       "      <td>894.0</td>\n",
       "      <td>Рыбинск</td>\n",
       "      <td>М</td>\n",
       "      <td>NaN</td>\n",
       "      <td>0</td>\n",
       "      <td>NaN</td>\n",
       "      <td>1</td>\n",
       "      <td>1</td>\n",
       "      <td>0</td>\n",
       "      <td>178012.28</td>\n",
       "      <td>0</td>\n",
       "    </tr>\n",
       "    <tr>\n",
       "      <th>9457</th>\n",
       "      <td>141945</td>\n",
       "      <td>929.0</td>\n",
       "      <td>Ярославль</td>\n",
       "      <td>М</td>\n",
       "      <td>NaN</td>\n",
       "      <td>0</td>\n",
       "      <td>NaN</td>\n",
       "      <td>1</td>\n",
       "      <td>1</td>\n",
       "      <td>0</td>\n",
       "      <td>381868.89</td>\n",
       "      <td>0</td>\n",
       "    </tr>\n",
       "    <tr>\n",
       "      <th>9632</th>\n",
       "      <td>185829</td>\n",
       "      <td>927.0</td>\n",
       "      <td>Ярославль</td>\n",
       "      <td>М</td>\n",
       "      <td>NaN</td>\n",
       "      <td>0</td>\n",
       "      <td>NaN</td>\n",
       "      <td>1</td>\n",
       "      <td>1</td>\n",
       "      <td>0</td>\n",
       "      <td>231254.86</td>\n",
       "      <td>0</td>\n",
       "    </tr>\n",
       "    <tr>\n",
       "      <th>9634</th>\n",
       "      <td>221809</td>\n",
       "      <td>917.0</td>\n",
       "      <td>Ярославль</td>\n",
       "      <td>М</td>\n",
       "      <td>NaN</td>\n",
       "      <td>0</td>\n",
       "      <td>NaN</td>\n",
       "      <td>1</td>\n",
       "      <td>1</td>\n",
       "      <td>1</td>\n",
       "      <td>192644.15</td>\n",
       "      <td>0</td>\n",
       "    </tr>\n",
       "    <tr>\n",
       "      <th>9667</th>\n",
       "      <td>163657</td>\n",
       "      <td>849.0</td>\n",
       "      <td>Ярославль</td>\n",
       "      <td>М</td>\n",
       "      <td>NaN</td>\n",
       "      <td>4</td>\n",
       "      <td>1254013.85</td>\n",
       "      <td>2</td>\n",
       "      <td>1</td>\n",
       "      <td>1</td>\n",
       "      <td>119106.67</td>\n",
       "      <td>0</td>\n",
       "    </tr>\n",
       "    <tr>\n",
       "      <th>9819</th>\n",
       "      <td>140934</td>\n",
       "      <td>832.0</td>\n",
       "      <td>Рыбинск</td>\n",
       "      <td>Ж</td>\n",
       "      <td>NaN</td>\n",
       "      <td>3</td>\n",
       "      <td>385763.16</td>\n",
       "      <td>2</td>\n",
       "      <td>0</td>\n",
       "      <td>1</td>\n",
       "      <td>59651.35</td>\n",
       "      <td>0</td>\n",
       "    </tr>\n",
       "  </tbody>\n",
       "</table>\n",
       "</div>"
      ],
      "text/plain": [
       "      user_id  score       city gender  age  equity     balance  products  \\\n",
       "1247   228075  932.0  Ярославль      М  NaN       5  7601719.20         2   \n",
       "2165   187635  692.0    Рыбинск      Ж  NaN       0         NaN         1   \n",
       "2444   221156  913.0  Ярославль      М  NaN       0         NaN         1   \n",
       "3091   138660  836.0     Ростов      Ж  NaN       5   294315.53         2   \n",
       "4912   210674  834.0    Рыбинск      М  NaN       1   238330.52         2   \n",
       "5470   218868  827.0    Рыбинск      Ж  NaN       4   448959.07         2   \n",
       "5495   151662  884.0    Рыбинск      Ж  NaN       0         NaN         1   \n",
       "7236   210135  908.0    Рыбинск      Ж  NaN       4  1120340.31         3   \n",
       "7248   219343  920.0    Рыбинск      Ж  NaN       0         NaN         1   \n",
       "7345   184913  829.0  Ярославль      Ж  NaN       3   188648.77         2   \n",
       "7409   214031  777.0  Ярославль      М  NaN       2   171510.23         1   \n",
       "8015   198635  670.0  Ярославль      Ж  NaN       0         NaN         1   \n",
       "8070   226550  940.0    Рыбинск      М  NaN       0         NaN         1   \n",
       "8293   216848  930.0  Ярославль      М  NaN       0         NaN         1   \n",
       "8385   206759  915.0    Рыбинск      М  NaN       0         NaN         1   \n",
       "8449   210898  805.0  Ярославль      Ж  NaN       0         NaN         1   \n",
       "8632   221197  893.0  Ярославль      М  NaN       0         NaN         1   \n",
       "8785   127440  663.0  Ярославль      М  NaN       0         NaN         1   \n",
       "9104   222480  776.0    Рыбинск      Ж  NaN       5   796735.09         1   \n",
       "9301   202983  942.0    Рыбинск      Ж  NaN       0         NaN         1   \n",
       "9380   187459  894.0    Рыбинск      М  NaN       0         NaN         1   \n",
       "9457   141945  929.0  Ярославль      М  NaN       0         NaN         1   \n",
       "9632   185829  927.0  Ярославль      М  NaN       0         NaN         1   \n",
       "9634   221809  917.0  Ярославль      М  NaN       0         NaN         1   \n",
       "9667   163657  849.0  Ярославль      М  NaN       4  1254013.85         2   \n",
       "9819   140934  832.0    Рыбинск      Ж  NaN       3   385763.16         2   \n",
       "\n",
       "      credit_card  last_activity  est_salary  churn  \n",
       "1247            1              1   408121.16      0  \n",
       "2165            1              1   160368.82      0  \n",
       "2444            1              1   135693.24      0  \n",
       "3091            0              1    63310.22      1  \n",
       "4912            0              1    93775.06      0  \n",
       "5470            1              1    67835.95      0  \n",
       "5495            1              1   137500.77      0  \n",
       "7236            1              1    85002.15      0  \n",
       "7248            1              0   159248.67      0  \n",
       "7345            0              1    75206.90      0  \n",
       "7409            1              1    75409.63      0  \n",
       "8015            1              1   168699.33      0  \n",
       "8070            0              1   147696.95      0  \n",
       "8293            1              1   199542.51      0  \n",
       "8385            1              0    71179.53      0  \n",
       "8449            0              1   922080.25      0  \n",
       "8632            1              0   173929.92      0  \n",
       "8785            1              1   117197.56      0  \n",
       "9104            1              1    55073.63      0  \n",
       "9301            1              1   163804.73      0  \n",
       "9380            1              0   178012.28      0  \n",
       "9457            1              0   381868.89      0  \n",
       "9632            1              0   231254.86      0  \n",
       "9634            1              1   192644.15      0  \n",
       "9667            1              1   119106.67      0  \n",
       "9819            0              1    59651.35      0  "
      ]
     },
     "execution_count": 8,
     "metadata": {},
     "output_type": "execute_result"
    }
   ],
   "source": [
    "#Изучение пропусков \n",
    "data[data['age'].isnull()]"
   ]
  },
  {
   "cell_type": "code",
   "execution_count": 9,
   "metadata": {},
   "outputs": [
    {
     "name": "stdout",
     "output_type": "stream",
     "text": [
      "Процент от общего числа: 0.26 %\n"
     ]
    }
   ],
   "source": [
    "print('Процент от общего числа:', data['age'].isnull().sum()*100/total, '%')"
   ]
  },
  {
   "cell_type": "markdown",
   "metadata": {},
   "source": [
    "*Никаких закономерностей не выявлено. Доля пропусков всего 0.26%, эти пропуски можно удалить*"
   ]
  },
  {
   "cell_type": "code",
   "execution_count": 10,
   "metadata": {},
   "outputs": [],
   "source": [
    "data = data.dropna(subset=['age'])"
   ]
  },
  {
   "cell_type": "code",
   "execution_count": 11,
   "metadata": {},
   "outputs": [
    {
     "data": {
      "text/html": [
       "<div>\n",
       "<style scoped>\n",
       "    .dataframe tbody tr th:only-of-type {\n",
       "        vertical-align: middle;\n",
       "    }\n",
       "\n",
       "    .dataframe tbody tr th {\n",
       "        vertical-align: top;\n",
       "    }\n",
       "\n",
       "    .dataframe thead th {\n",
       "        text-align: right;\n",
       "    }\n",
       "</style>\n",
       "<table border=\"1\" class=\"dataframe\">\n",
       "  <thead>\n",
       "    <tr style=\"text-align: right;\">\n",
       "      <th></th>\n",
       "      <th>user_id</th>\n",
       "      <th>score</th>\n",
       "      <th>city</th>\n",
       "      <th>gender</th>\n",
       "      <th>age</th>\n",
       "      <th>equity</th>\n",
       "      <th>balance</th>\n",
       "      <th>products</th>\n",
       "      <th>credit_card</th>\n",
       "      <th>last_activity</th>\n",
       "      <th>est_salary</th>\n",
       "      <th>churn</th>\n",
       "    </tr>\n",
       "  </thead>\n",
       "  <tbody>\n",
       "    <tr>\n",
       "      <th>2</th>\n",
       "      <td>120722</td>\n",
       "      <td>892.0</td>\n",
       "      <td>Рыбинск</td>\n",
       "      <td>Ж</td>\n",
       "      <td>30.0</td>\n",
       "      <td>0</td>\n",
       "      <td>NaN</td>\n",
       "      <td>1</td>\n",
       "      <td>1</td>\n",
       "      <td>1</td>\n",
       "      <td>107683.34</td>\n",
       "      <td>0</td>\n",
       "    </tr>\n",
       "    <tr>\n",
       "      <th>9</th>\n",
       "      <td>133130</td>\n",
       "      <td>906.0</td>\n",
       "      <td>Ярославль</td>\n",
       "      <td>Ж</td>\n",
       "      <td>67.0</td>\n",
       "      <td>0</td>\n",
       "      <td>NaN</td>\n",
       "      <td>1</td>\n",
       "      <td>0</td>\n",
       "      <td>1</td>\n",
       "      <td>238055.53</td>\n",
       "      <td>0</td>\n",
       "    </tr>\n",
       "    <tr>\n",
       "      <th>10</th>\n",
       "      <td>148929</td>\n",
       "      <td>927.0</td>\n",
       "      <td>Ростов</td>\n",
       "      <td>М</td>\n",
       "      <td>52.0</td>\n",
       "      <td>0</td>\n",
       "      <td>NaN</td>\n",
       "      <td>1</td>\n",
       "      <td>1</td>\n",
       "      <td>1</td>\n",
       "      <td>196820.07</td>\n",
       "      <td>0</td>\n",
       "    </tr>\n",
       "    <tr>\n",
       "      <th>11</th>\n",
       "      <td>172184</td>\n",
       "      <td>921.0</td>\n",
       "      <td>Ростов</td>\n",
       "      <td>М</td>\n",
       "      <td>41.0</td>\n",
       "      <td>0</td>\n",
       "      <td>NaN</td>\n",
       "      <td>1</td>\n",
       "      <td>1</td>\n",
       "      <td>1</td>\n",
       "      <td>217469.48</td>\n",
       "      <td>0</td>\n",
       "    </tr>\n",
       "    <tr>\n",
       "      <th>19</th>\n",
       "      <td>127034</td>\n",
       "      <td>922.0</td>\n",
       "      <td>Рыбинск</td>\n",
       "      <td>Ж</td>\n",
       "      <td>53.0</td>\n",
       "      <td>0</td>\n",
       "      <td>NaN</td>\n",
       "      <td>1</td>\n",
       "      <td>0</td>\n",
       "      <td>0</td>\n",
       "      <td>147094.82</td>\n",
       "      <td>0</td>\n",
       "    </tr>\n",
       "    <tr>\n",
       "      <th>...</th>\n",
       "      <td>...</td>\n",
       "      <td>...</td>\n",
       "      <td>...</td>\n",
       "      <td>...</td>\n",
       "      <td>...</td>\n",
       "      <td>...</td>\n",
       "      <td>...</td>\n",
       "      <td>...</td>\n",
       "      <td>...</td>\n",
       "      <td>...</td>\n",
       "      <td>...</td>\n",
       "      <td>...</td>\n",
       "    </tr>\n",
       "    <tr>\n",
       "      <th>9976</th>\n",
       "      <td>208085</td>\n",
       "      <td>876.0</td>\n",
       "      <td>Ростов</td>\n",
       "      <td>М</td>\n",
       "      <td>38.0</td>\n",
       "      <td>0</td>\n",
       "      <td>NaN</td>\n",
       "      <td>1</td>\n",
       "      <td>0</td>\n",
       "      <td>0</td>\n",
       "      <td>171763.69</td>\n",
       "      <td>0</td>\n",
       "    </tr>\n",
       "    <tr>\n",
       "      <th>9984</th>\n",
       "      <td>125941</td>\n",
       "      <td>729.0</td>\n",
       "      <td>Ярославль</td>\n",
       "      <td>Ж</td>\n",
       "      <td>42.0</td>\n",
       "      <td>0</td>\n",
       "      <td>NaN</td>\n",
       "      <td>1</td>\n",
       "      <td>1</td>\n",
       "      <td>1</td>\n",
       "      <td>687538.70</td>\n",
       "      <td>0</td>\n",
       "    </tr>\n",
       "    <tr>\n",
       "      <th>9993</th>\n",
       "      <td>219924</td>\n",
       "      <td>884.0</td>\n",
       "      <td>Рыбинск</td>\n",
       "      <td>Ж</td>\n",
       "      <td>36.0</td>\n",
       "      <td>0</td>\n",
       "      <td>NaN</td>\n",
       "      <td>1</td>\n",
       "      <td>1</td>\n",
       "      <td>1</td>\n",
       "      <td>169844.88</td>\n",
       "      <td>0</td>\n",
       "    </tr>\n",
       "    <tr>\n",
       "      <th>9996</th>\n",
       "      <td>139170</td>\n",
       "      <td>894.0</td>\n",
       "      <td>Ярославль</td>\n",
       "      <td>М</td>\n",
       "      <td>46.0</td>\n",
       "      <td>0</td>\n",
       "      <td>NaN</td>\n",
       "      <td>1</td>\n",
       "      <td>1</td>\n",
       "      <td>0</td>\n",
       "      <td>196898.29</td>\n",
       "      <td>0</td>\n",
       "    </tr>\n",
       "    <tr>\n",
       "      <th>9997</th>\n",
       "      <td>115639</td>\n",
       "      <td>903.0</td>\n",
       "      <td>Ярославль</td>\n",
       "      <td>М</td>\n",
       "      <td>24.0</td>\n",
       "      <td>0</td>\n",
       "      <td>NaN</td>\n",
       "      <td>2</td>\n",
       "      <td>1</td>\n",
       "      <td>1</td>\n",
       "      <td>108905.09</td>\n",
       "      <td>0</td>\n",
       "    </tr>\n",
       "  </tbody>\n",
       "</table>\n",
       "<p>2279 rows × 12 columns</p>\n",
       "</div>"
      ],
      "text/plain": [
       "      user_id  score       city gender   age  equity  balance  products  \\\n",
       "2      120722  892.0    Рыбинск      Ж  30.0       0      NaN         1   \n",
       "9      133130  906.0  Ярославль      Ж  67.0       0      NaN         1   \n",
       "10     148929  927.0     Ростов      М  52.0       0      NaN         1   \n",
       "11     172184  921.0     Ростов      М  41.0       0      NaN         1   \n",
       "19     127034  922.0    Рыбинск      Ж  53.0       0      NaN         1   \n",
       "...       ...    ...        ...    ...   ...     ...      ...       ...   \n",
       "9976   208085  876.0     Ростов      М  38.0       0      NaN         1   \n",
       "9984   125941  729.0  Ярославль      Ж  42.0       0      NaN         1   \n",
       "9993   219924  884.0    Рыбинск      Ж  36.0       0      NaN         1   \n",
       "9996   139170  894.0  Ярославль      М  46.0       0      NaN         1   \n",
       "9997   115639  903.0  Ярославль      М  24.0       0      NaN         2   \n",
       "\n",
       "      credit_card  last_activity  est_salary  churn  \n",
       "2               1              1   107683.34      0  \n",
       "9               0              1   238055.53      0  \n",
       "10              1              1   196820.07      0  \n",
       "11              1              1   217469.48      0  \n",
       "19              0              0   147094.82      0  \n",
       "...           ...            ...         ...    ...  \n",
       "9976            0              0   171763.69      0  \n",
       "9984            1              1   687538.70      0  \n",
       "9993            1              1   169844.88      0  \n",
       "9996            1              0   196898.29      0  \n",
       "9997            1              1   108905.09      0  \n",
       "\n",
       "[2279 rows x 12 columns]"
      ]
     },
     "execution_count": 11,
     "metadata": {},
     "output_type": "execute_result"
    }
   ],
   "source": [
    "#Изучение пропусков в balance\n",
    "data[data['balance'].isnull()]"
   ]
  },
  {
   "cell_type": "code",
   "execution_count": 12,
   "metadata": {},
   "outputs": [],
   "source": [
    "balance_na = data.query('balance.isna()')"
   ]
  },
  {
   "cell_type": "code",
   "execution_count": 13,
   "metadata": {},
   "outputs": [
    {
     "name": "stdout",
     "output_type": "stream",
     "text": [
      "\u001b[1mcity\u001b[0m\n",
      "Ярославль    1458\n",
      "Рыбинск       586\n",
      "Ростов        235\n",
      "Name: city, dtype: int64\n",
      "\n",
      "\u001b[1mgender\u001b[0m\n",
      "М    1272\n",
      "Ж    1007\n",
      "Name: gender, dtype: int64\n",
      "\n",
      "\u001b[1mequity\u001b[0m\n",
      "0    2164\n",
      "1     114\n",
      "3       1\n",
      "Name: equity, dtype: int64\n",
      "\n",
      "\u001b[1mproducts\u001b[0m\n",
      "1    1934\n",
      "2     315\n",
      "3      29\n",
      "0       1\n",
      "Name: products, dtype: int64\n",
      "\n",
      "\u001b[1mcredit_card\u001b[0m\n",
      "1    1858\n",
      "0     421\n",
      "Name: credit_card, dtype: int64\n",
      "\n",
      "\u001b[1mlast_activity\u001b[0m\n",
      "1    1251\n",
      "0    1028\n",
      "Name: last_activity, dtype: int64\n",
      "\n",
      "\u001b[1mchurn\u001b[0m\n",
      "0    2266\n",
      "1      13\n",
      "Name: churn, dtype: int64\n",
      "\n"
     ]
    }
   ],
   "source": [
    "# рассмотрим в срезе других показателей\n",
    "for column in ['city', 'gender', 'equity', 'products', 'credit_card', 'last_activity','churn']:\n",
    "    print('\\033[1m' + column + '\\033[0m')\n",
    "    print(balance_na[column].value_counts())\n",
    "    print()  "
   ]
  },
  {
   "cell_type": "markdown",
   "metadata": {},
   "source": [
    "*Возможно, что какая-та часть пропусков в столбце- это нулевые значения, которые не заполнили. Но заменять все значения на 0 рисковано*"
   ]
  },
  {
   "cell_type": "code",
   "execution_count": 14,
   "metadata": {},
   "outputs": [
    {
     "name": "stdout",
     "output_type": "stream",
     "text": [
      "Процент от общего числа: 22.79 %\n"
     ]
    }
   ],
   "source": [
    "print('Процент от общего числа:', data['balance'].isnull().sum()*100/total, '%')"
   ]
  },
  {
   "cell_type": "markdown",
   "metadata": {},
   "source": [
    "*Удалять и заменять некорректно, оставляем без изменений*"
   ]
  },
  {
   "cell_type": "code",
   "execution_count": 15,
   "metadata": {},
   "outputs": [],
   "source": [
    "#Изменение типа данных\n",
    "data['age'] = data['age'].astype (int)\n",
    "data['est_salary'] = data['est_salary'].astype (int)\n",
    "data['score'] = data['score'].astype (int)"
   ]
  },
  {
   "cell_type": "code",
   "execution_count": 16,
   "metadata": {},
   "outputs": [
    {
     "name": "stdout",
     "output_type": "stream",
     "text": [
      "<class 'pandas.core.frame.DataFrame'>\n",
      "Int64Index: 9974 entries, 0 to 9999\n",
      "Data columns (total 12 columns):\n",
      " #   Column         Non-Null Count  Dtype  \n",
      "---  ------         --------------  -----  \n",
      " 0   user_id        9974 non-null   int64  \n",
      " 1   score          9974 non-null   int64  \n",
      " 2   city           9974 non-null   object \n",
      " 3   gender         9974 non-null   object \n",
      " 4   age            9974 non-null   int64  \n",
      " 5   equity         9974 non-null   int64  \n",
      " 6   balance        7695 non-null   float64\n",
      " 7   products       9974 non-null   int64  \n",
      " 8   credit_card    9974 non-null   int64  \n",
      " 9   last_activity  9974 non-null   int64  \n",
      " 10  est_salary     9974 non-null   int64  \n",
      " 11  churn          9974 non-null   int64  \n",
      "dtypes: float64(1), int64(9), object(2)\n",
      "memory usage: 1013.0+ KB\n"
     ]
    }
   ],
   "source": [
    "data.info()"
   ]
  },
  {
   "cell_type": "code",
   "execution_count": 17,
   "metadata": {},
   "outputs": [
    {
     "data": {
      "text/plain": [
       "0"
      ]
     },
     "execution_count": 17,
     "metadata": {},
     "output_type": "execute_result"
    }
   ],
   "source": [
    "#проверка на наличие дубликатов во всеём датасете\n",
    "data.duplicated().sum()"
   ]
  },
  {
   "cell_type": "code",
   "execution_count": 18,
   "metadata": {},
   "outputs": [
    {
     "data": {
      "text/plain": [
       "50"
      ]
     },
     "execution_count": 18,
     "metadata": {},
     "output_type": "execute_result"
    }
   ],
   "source": [
    "#проверка на наличие дубликатов в стобце user_id\n",
    "data.duplicated(subset='user_id').sum()"
   ]
  },
  {
   "cell_type": "code",
   "execution_count": 19,
   "metadata": {},
   "outputs": [
    {
     "data": {
      "text/html": [
       "<div>\n",
       "<style scoped>\n",
       "    .dataframe tbody tr th:only-of-type {\n",
       "        vertical-align: middle;\n",
       "    }\n",
       "\n",
       "    .dataframe tbody tr th {\n",
       "        vertical-align: top;\n",
       "    }\n",
       "\n",
       "    .dataframe thead th {\n",
       "        text-align: right;\n",
       "    }\n",
       "</style>\n",
       "<table border=\"1\" class=\"dataframe\">\n",
       "  <thead>\n",
       "    <tr style=\"text-align: right;\">\n",
       "      <th></th>\n",
       "      <th>user_id</th>\n",
       "      <th>score</th>\n",
       "      <th>city</th>\n",
       "      <th>gender</th>\n",
       "      <th>age</th>\n",
       "      <th>equity</th>\n",
       "      <th>balance</th>\n",
       "      <th>products</th>\n",
       "      <th>credit_card</th>\n",
       "      <th>last_activity</th>\n",
       "      <th>est_salary</th>\n",
       "      <th>churn</th>\n",
       "    </tr>\n",
       "  </thead>\n",
       "  <tbody>\n",
       "    <tr>\n",
       "      <th>1893</th>\n",
       "      <td>116540</td>\n",
       "      <td>883</td>\n",
       "      <td>Рыбинск</td>\n",
       "      <td>Ж</td>\n",
       "      <td>55</td>\n",
       "      <td>1</td>\n",
       "      <td>362756.49</td>\n",
       "      <td>3</td>\n",
       "      <td>0</td>\n",
       "      <td>1</td>\n",
       "      <td>175920</td>\n",
       "      <td>1</td>\n",
       "    </tr>\n",
       "    <tr>\n",
       "      <th>7694</th>\n",
       "      <td>116540</td>\n",
       "      <td>887</td>\n",
       "      <td>Ярославль</td>\n",
       "      <td>Ж</td>\n",
       "      <td>38</td>\n",
       "      <td>0</td>\n",
       "      <td>NaN</td>\n",
       "      <td>1</td>\n",
       "      <td>0</td>\n",
       "      <td>1</td>\n",
       "      <td>119247</td>\n",
       "      <td>0</td>\n",
       "    </tr>\n",
       "    <tr>\n",
       "      <th>4866</th>\n",
       "      <td>117943</td>\n",
       "      <td>855</td>\n",
       "      <td>Рыбинск</td>\n",
       "      <td>Ж</td>\n",
       "      <td>32</td>\n",
       "      <td>6</td>\n",
       "      <td>1036832.93</td>\n",
       "      <td>4</td>\n",
       "      <td>1</td>\n",
       "      <td>1</td>\n",
       "      <td>107792</td>\n",
       "      <td>1</td>\n",
       "    </tr>\n",
       "    <tr>\n",
       "      <th>7542</th>\n",
       "      <td>117943</td>\n",
       "      <td>880</td>\n",
       "      <td>Ярославль</td>\n",
       "      <td>Ж</td>\n",
       "      <td>40</td>\n",
       "      <td>0</td>\n",
       "      <td>NaN</td>\n",
       "      <td>1</td>\n",
       "      <td>1</td>\n",
       "      <td>0</td>\n",
       "      <td>137718</td>\n",
       "      <td>0</td>\n",
       "    </tr>\n",
       "    <tr>\n",
       "      <th>5863</th>\n",
       "      <td>120258</td>\n",
       "      <td>908</td>\n",
       "      <td>Рыбинск</td>\n",
       "      <td>Ж</td>\n",
       "      <td>38</td>\n",
       "      <td>4</td>\n",
       "      <td>2213581.63</td>\n",
       "      <td>2</td>\n",
       "      <td>0</td>\n",
       "      <td>1</td>\n",
       "      <td>160327</td>\n",
       "      <td>1</td>\n",
       "    </tr>\n",
       "    <tr>\n",
       "      <th>...</th>\n",
       "      <td>...</td>\n",
       "      <td>...</td>\n",
       "      <td>...</td>\n",
       "      <td>...</td>\n",
       "      <td>...</td>\n",
       "      <td>...</td>\n",
       "      <td>...</td>\n",
       "      <td>...</td>\n",
       "      <td>...</td>\n",
       "      <td>...</td>\n",
       "      <td>...</td>\n",
       "      <td>...</td>\n",
       "    </tr>\n",
       "    <tr>\n",
       "      <th>2302</th>\n",
       "      <td>220816</td>\n",
       "      <td>934</td>\n",
       "      <td>Рыбинск</td>\n",
       "      <td>Ж</td>\n",
       "      <td>74</td>\n",
       "      <td>5</td>\n",
       "      <td>1294285.39</td>\n",
       "      <td>3</td>\n",
       "      <td>1</td>\n",
       "      <td>0</td>\n",
       "      <td>95606</td>\n",
       "      <td>0</td>\n",
       "    </tr>\n",
       "    <tr>\n",
       "      <th>2597</th>\n",
       "      <td>226719</td>\n",
       "      <td>990</td>\n",
       "      <td>Ярославль</td>\n",
       "      <td>М</td>\n",
       "      <td>37</td>\n",
       "      <td>4</td>\n",
       "      <td>14648692.14</td>\n",
       "      <td>2</td>\n",
       "      <td>0</td>\n",
       "      <td>0</td>\n",
       "      <td>934412</td>\n",
       "      <td>1</td>\n",
       "    </tr>\n",
       "    <tr>\n",
       "      <th>4216</th>\n",
       "      <td>226719</td>\n",
       "      <td>903</td>\n",
       "      <td>Рыбинск</td>\n",
       "      <td>Ж</td>\n",
       "      <td>63</td>\n",
       "      <td>0</td>\n",
       "      <td>NaN</td>\n",
       "      <td>1</td>\n",
       "      <td>1</td>\n",
       "      <td>0</td>\n",
       "      <td>138582</td>\n",
       "      <td>0</td>\n",
       "    </tr>\n",
       "    <tr>\n",
       "      <th>8205</th>\n",
       "      <td>227795</td>\n",
       "      <td>840</td>\n",
       "      <td>Рыбинск</td>\n",
       "      <td>М</td>\n",
       "      <td>34</td>\n",
       "      <td>2</td>\n",
       "      <td>350768.03</td>\n",
       "      <td>1</td>\n",
       "      <td>1</td>\n",
       "      <td>0</td>\n",
       "      <td>102036</td>\n",
       "      <td>1</td>\n",
       "    </tr>\n",
       "    <tr>\n",
       "      <th>8497</th>\n",
       "      <td>227795</td>\n",
       "      <td>839</td>\n",
       "      <td>Ярославль</td>\n",
       "      <td>М</td>\n",
       "      <td>34</td>\n",
       "      <td>2</td>\n",
       "      <td>326593.14</td>\n",
       "      <td>2</td>\n",
       "      <td>1</td>\n",
       "      <td>0</td>\n",
       "      <td>103314</td>\n",
       "      <td>0</td>\n",
       "    </tr>\n",
       "  </tbody>\n",
       "</table>\n",
       "<p>100 rows × 12 columns</p>\n",
       "</div>"
      ],
      "text/plain": [
       "      user_id  score       city gender  age  equity      balance  products  \\\n",
       "1893   116540    883    Рыбинск      Ж   55       1    362756.49         3   \n",
       "7694   116540    887  Ярославль      Ж   38       0          NaN         1   \n",
       "4866   117943    855    Рыбинск      Ж   32       6   1036832.93         4   \n",
       "7542   117943    880  Ярославль      Ж   40       0          NaN         1   \n",
       "5863   120258    908    Рыбинск      Ж   38       4   2213581.63         2   \n",
       "...       ...    ...        ...    ...  ...     ...          ...       ...   \n",
       "2302   220816    934    Рыбинск      Ж   74       5   1294285.39         3   \n",
       "2597   226719    990  Ярославль      М   37       4  14648692.14         2   \n",
       "4216   226719    903    Рыбинск      Ж   63       0          NaN         1   \n",
       "8205   227795    840    Рыбинск      М   34       2    350768.03         1   \n",
       "8497   227795    839  Ярославль      М   34       2    326593.14         2   \n",
       "\n",
       "      credit_card  last_activity  est_salary  churn  \n",
       "1893            0              1      175920      1  \n",
       "7694            0              1      119247      0  \n",
       "4866            1              1      107792      1  \n",
       "7542            1              0      137718      0  \n",
       "5863            0              1      160327      1  \n",
       "...           ...            ...         ...    ...  \n",
       "2302            1              0       95606      0  \n",
       "2597            0              0      934412      1  \n",
       "4216            1              0      138582      0  \n",
       "8205            1              0      102036      1  \n",
       "8497            1              0      103314      0  \n",
       "\n",
       "[100 rows x 12 columns]"
      ]
     },
     "execution_count": 19,
     "metadata": {},
     "output_type": "execute_result"
    }
   ],
   "source": [
    "#изучение дубликатов\n",
    "data[data.duplicated(subset='user_id', keep=False)].sort_values(by='user_id')"
   ]
  },
  {
   "cell_type": "code",
   "execution_count": 20,
   "metadata": {},
   "outputs": [
    {
     "name": "stdout",
     "output_type": "stream",
     "text": [
      "Процент от общего числа: 0.5 %\n"
     ]
    }
   ],
   "source": [
    "print('Процент от общего числа:', data.duplicated(subset='user_id').sum()*100/total, '%')"
   ]
  },
  {
   "cell_type": "markdown",
   "metadata": {},
   "source": [
    "*Никаких закономерностей не выявлено. Доля пропусков  0.5%, эти дубликаты можно удалить*"
   ]
  },
  {
   "cell_type": "code",
   "execution_count": 21,
   "metadata": {},
   "outputs": [],
   "source": [
    "data = data.drop_duplicates(subset = 'user_id').reset_index(drop=True)"
   ]
  },
  {
   "cell_type": "code",
   "execution_count": 22,
   "metadata": {},
   "outputs": [
    {
     "data": {
      "text/plain": [
       "count    9924.000000\n",
       "mean       42.728839\n",
       "std        12.176452\n",
       "min        18.000000\n",
       "25%        33.000000\n",
       "50%        40.000000\n",
       "75%        51.000000\n",
       "max        86.000000\n",
       "Name: age, dtype: float64"
      ]
     },
     "execution_count": 22,
     "metadata": {},
     "output_type": "execute_result"
    },
    {
     "data": {
      "image/png": "[encoded data removed]",
      "text/plain": [
       "<Figure size 432x288 with 1 Axes>"
      ]
     },
     "metadata": {
      "needs_background": "light"
     },
     "output_type": "display_data"
    }
   ],
   "source": [
    "#проверка на наличие выбросов\n",
    "data.boxplot(column='age')\n",
    "data['age'].describe()"
   ]
  },
  {
   "cell_type": "code",
   "execution_count": 23,
   "metadata": {},
   "outputs": [
    {
     "name": "stdout",
     "output_type": "stream",
     "text": [
      "Процент от общего числа: 0.22 %\n"
     ]
    }
   ],
   "source": [
    "print('Процент от общего числа:', len(data.query('age >= 79'))*100/total, '%')"
   ]
  },
  {
   "cell_type": "code",
   "execution_count": 24,
   "metadata": {},
   "outputs": [],
   "source": [
    "#удаление пользователей стрше 79 лет\n",
    "data = data.query('age <= 79')"
   ]
  },
  {
   "cell_type": "code",
   "execution_count": 25,
   "metadata": {},
   "outputs": [
    {
     "data": {
      "text/plain": [
       "Text(0, 0.5, 'Количество клиентов')"
      ]
     },
     "execution_count": 25,
     "metadata": {},
     "output_type": "execute_result"
    },
    {
     "data": {
      "image/png": "[encoded data removed]",
      "text/plain": [
       "<Figure size 864x432 with 1 Axes>"
      ]
     },
     "metadata": {
      "needs_background": "light"
     },
     "output_type": "display_data"
    }
   ],
   "source": [
    "\n",
    "fig, ax = plt.subplots(figsize=(12,6))\n",
    "sns.histplot(data=data, x='est_salary', bins=40, color = \"#407692\" )\n",
    "plt.title('Распрделение по средней заработной плате')\n",
    "plt.xlabel('Средняя заработная плата')\n",
    "plt.ylabel('Количество клиентов')\n"
   ]
  },
  {
   "cell_type": "code",
   "execution_count": 26,
   "metadata": {},
   "outputs": [],
   "source": [
    "# удалям пользователей с зп меньше МРОТ\n",
    "data = data.query('est_salary >= 16000')"
   ]
  },
  {
   "cell_type": "code",
   "execution_count": 27,
   "metadata": {},
   "outputs": [
    {
     "data": {
      "text/plain": [
       "count    9834.000000\n",
       "mean      849.002339\n",
       "std        65.403995\n",
       "min       642.000000\n",
       "25%       802.000000\n",
       "50%       853.000000\n",
       "75%       900.000000\n",
       "max      1000.000000\n",
       "Name: score, dtype: float64"
      ]
     },
     "execution_count": 27,
     "metadata": {},
     "output_type": "execute_result"
    },
    {
     "data": {
      "image/png": "[encoded data removed]",
      "text/plain": [
       "<Figure size 432x288 with 1 Axes>"
      ]
     },
     "metadata": {
      "needs_background": "light"
     },
     "output_type": "display_data"
    }
   ],
   "source": [
    "data.boxplot(column='score')\n",
    "data['score'].describe()"
   ]
  },
  {
   "cell_type": "code",
   "execution_count": 28,
   "metadata": {},
   "outputs": [
    {
     "data": {
      "text/html": [
       "<div>\n",
       "<style scoped>\n",
       "    .dataframe tbody tr th:only-of-type {\n",
       "        vertical-align: middle;\n",
       "    }\n",
       "\n",
       "    .dataframe tbody tr th {\n",
       "        vertical-align: top;\n",
       "    }\n",
       "\n",
       "    .dataframe thead th {\n",
       "        text-align: right;\n",
       "    }\n",
       "</style>\n",
       "<table border=\"1\" class=\"dataframe\">\n",
       "  <thead>\n",
       "    <tr style=\"text-align: right;\">\n",
       "      <th></th>\n",
       "      <th>user_id</th>\n",
       "      <th>score</th>\n",
       "      <th>city</th>\n",
       "      <th>gender</th>\n",
       "      <th>age</th>\n",
       "      <th>equity</th>\n",
       "      <th>balance</th>\n",
       "      <th>products</th>\n",
       "      <th>credit_card</th>\n",
       "      <th>last_activity</th>\n",
       "      <th>est_salary</th>\n",
       "      <th>churn</th>\n",
       "    </tr>\n",
       "  </thead>\n",
       "  <tbody>\n",
       "    <tr>\n",
       "      <th>265</th>\n",
       "      <td>157448</td>\n",
       "      <td>649</td>\n",
       "      <td>Рыбинск</td>\n",
       "      <td>М</td>\n",
       "      <td>37</td>\n",
       "      <td>0</td>\n",
       "      <td>NaN</td>\n",
       "      <td>1</td>\n",
       "      <td>1</td>\n",
       "      <td>1</td>\n",
       "      <td>81942</td>\n",
       "      <td>0</td>\n",
       "    </tr>\n",
       "    <tr>\n",
       "      <th>533</th>\n",
       "      <td>146648</td>\n",
       "      <td>649</td>\n",
       "      <td>Ярославль</td>\n",
       "      <td>М</td>\n",
       "      <td>33</td>\n",
       "      <td>0</td>\n",
       "      <td>NaN</td>\n",
       "      <td>1</td>\n",
       "      <td>1</td>\n",
       "      <td>1</td>\n",
       "      <td>149318</td>\n",
       "      <td>0</td>\n",
       "    </tr>\n",
       "    <tr>\n",
       "      <th>921</th>\n",
       "      <td>179302</td>\n",
       "      <td>646</td>\n",
       "      <td>Ярославль</td>\n",
       "      <td>М</td>\n",
       "      <td>37</td>\n",
       "      <td>0</td>\n",
       "      <td>NaN</td>\n",
       "      <td>1</td>\n",
       "      <td>1</td>\n",
       "      <td>1</td>\n",
       "      <td>148297</td>\n",
       "      <td>0</td>\n",
       "    </tr>\n",
       "    <tr>\n",
       "      <th>2494</th>\n",
       "      <td>208801</td>\n",
       "      <td>650</td>\n",
       "      <td>Ярославль</td>\n",
       "      <td>М</td>\n",
       "      <td>56</td>\n",
       "      <td>0</td>\n",
       "      <td>NaN</td>\n",
       "      <td>1</td>\n",
       "      <td>1</td>\n",
       "      <td>0</td>\n",
       "      <td>119643</td>\n",
       "      <td>0</td>\n",
       "    </tr>\n",
       "    <tr>\n",
       "      <th>2525</th>\n",
       "      <td>151179</td>\n",
       "      <td>642</td>\n",
       "      <td>Рыбинск</td>\n",
       "      <td>М</td>\n",
       "      <td>69</td>\n",
       "      <td>0</td>\n",
       "      <td>NaN</td>\n",
       "      <td>1</td>\n",
       "      <td>1</td>\n",
       "      <td>1</td>\n",
       "      <td>35917</td>\n",
       "      <td>0</td>\n",
       "    </tr>\n",
       "    <tr>\n",
       "      <th>3157</th>\n",
       "      <td>173067</td>\n",
       "      <td>649</td>\n",
       "      <td>Ярославль</td>\n",
       "      <td>М</td>\n",
       "      <td>46</td>\n",
       "      <td>0</td>\n",
       "      <td>NaN</td>\n",
       "      <td>1</td>\n",
       "      <td>1</td>\n",
       "      <td>1</td>\n",
       "      <td>121654</td>\n",
       "      <td>0</td>\n",
       "    </tr>\n",
       "    <tr>\n",
       "      <th>4059</th>\n",
       "      <td>164000</td>\n",
       "      <td>648</td>\n",
       "      <td>Ярославль</td>\n",
       "      <td>М</td>\n",
       "      <td>28</td>\n",
       "      <td>0</td>\n",
       "      <td>NaN</td>\n",
       "      <td>1</td>\n",
       "      <td>1</td>\n",
       "      <td>0</td>\n",
       "      <td>27790</td>\n",
       "      <td>0</td>\n",
       "    </tr>\n",
       "    <tr>\n",
       "      <th>4676</th>\n",
       "      <td>135725</td>\n",
       "      <td>648</td>\n",
       "      <td>Ярославль</td>\n",
       "      <td>Ж</td>\n",
       "      <td>59</td>\n",
       "      <td>0</td>\n",
       "      <td>NaN</td>\n",
       "      <td>1</td>\n",
       "      <td>1</td>\n",
       "      <td>1</td>\n",
       "      <td>50326</td>\n",
       "      <td>0</td>\n",
       "    </tr>\n",
       "    <tr>\n",
       "      <th>5115</th>\n",
       "      <td>213745</td>\n",
       "      <td>646</td>\n",
       "      <td>Рыбинск</td>\n",
       "      <td>Ж</td>\n",
       "      <td>25</td>\n",
       "      <td>0</td>\n",
       "      <td>NaN</td>\n",
       "      <td>2</td>\n",
       "      <td>1</td>\n",
       "      <td>0</td>\n",
       "      <td>60562</td>\n",
       "      <td>0</td>\n",
       "    </tr>\n",
       "    <tr>\n",
       "      <th>6426</th>\n",
       "      <td>169067</td>\n",
       "      <td>649</td>\n",
       "      <td>Ярославль</td>\n",
       "      <td>М</td>\n",
       "      <td>55</td>\n",
       "      <td>0</td>\n",
       "      <td>NaN</td>\n",
       "      <td>1</td>\n",
       "      <td>1</td>\n",
       "      <td>1</td>\n",
       "      <td>130672</td>\n",
       "      <td>0</td>\n",
       "    </tr>\n",
       "    <tr>\n",
       "      <th>6723</th>\n",
       "      <td>182172</td>\n",
       "      <td>649</td>\n",
       "      <td>Ярославль</td>\n",
       "      <td>М</td>\n",
       "      <td>38</td>\n",
       "      <td>0</td>\n",
       "      <td>NaN</td>\n",
       "      <td>1</td>\n",
       "      <td>1</td>\n",
       "      <td>1</td>\n",
       "      <td>170288</td>\n",
       "      <td>0</td>\n",
       "    </tr>\n",
       "    <tr>\n",
       "      <th>7036</th>\n",
       "      <td>187450</td>\n",
       "      <td>642</td>\n",
       "      <td>Ростов</td>\n",
       "      <td>Ж</td>\n",
       "      <td>64</td>\n",
       "      <td>0</td>\n",
       "      <td>NaN</td>\n",
       "      <td>1</td>\n",
       "      <td>1</td>\n",
       "      <td>0</td>\n",
       "      <td>26429</td>\n",
       "      <td>0</td>\n",
       "    </tr>\n",
       "    <tr>\n",
       "      <th>7039</th>\n",
       "      <td>155677</td>\n",
       "      <td>650</td>\n",
       "      <td>Ярославль</td>\n",
       "      <td>Ж</td>\n",
       "      <td>65</td>\n",
       "      <td>0</td>\n",
       "      <td>NaN</td>\n",
       "      <td>1</td>\n",
       "      <td>1</td>\n",
       "      <td>1</td>\n",
       "      <td>29850</td>\n",
       "      <td>0</td>\n",
       "    </tr>\n",
       "    <tr>\n",
       "      <th>9269</th>\n",
       "      <td>196787</td>\n",
       "      <td>649</td>\n",
       "      <td>Ярославль</td>\n",
       "      <td>Ж</td>\n",
       "      <td>32</td>\n",
       "      <td>0</td>\n",
       "      <td>NaN</td>\n",
       "      <td>1</td>\n",
       "      <td>1</td>\n",
       "      <td>1</td>\n",
       "      <td>102880</td>\n",
       "      <td>0</td>\n",
       "    </tr>\n",
       "    <tr>\n",
       "      <th>9753</th>\n",
       "      <td>174930</td>\n",
       "      <td>649</td>\n",
       "      <td>Рыбинск</td>\n",
       "      <td>Ж</td>\n",
       "      <td>60</td>\n",
       "      <td>0</td>\n",
       "      <td>NaN</td>\n",
       "      <td>1</td>\n",
       "      <td>1</td>\n",
       "      <td>0</td>\n",
       "      <td>64781</td>\n",
       "      <td>0</td>\n",
       "    </tr>\n",
       "  </tbody>\n",
       "</table>\n",
       "</div>"
      ],
      "text/plain": [
       "      user_id  score       city gender  age  equity  balance  products  \\\n",
       "265    157448    649    Рыбинск      М   37       0      NaN         1   \n",
       "533    146648    649  Ярославль      М   33       0      NaN         1   \n",
       "921    179302    646  Ярославль      М   37       0      NaN         1   \n",
       "2494   208801    650  Ярославль      М   56       0      NaN         1   \n",
       "2525   151179    642    Рыбинск      М   69       0      NaN         1   \n",
       "3157   173067    649  Ярославль      М   46       0      NaN         1   \n",
       "4059   164000    648  Ярославль      М   28       0      NaN         1   \n",
       "4676   135725    648  Ярославль      Ж   59       0      NaN         1   \n",
       "5115   213745    646    Рыбинск      Ж   25       0      NaN         2   \n",
       "6426   169067    649  Ярославль      М   55       0      NaN         1   \n",
       "6723   182172    649  Ярославль      М   38       0      NaN         1   \n",
       "7036   187450    642     Ростов      Ж   64       0      NaN         1   \n",
       "7039   155677    650  Ярославль      Ж   65       0      NaN         1   \n",
       "9269   196787    649  Ярославль      Ж   32       0      NaN         1   \n",
       "9753   174930    649    Рыбинск      Ж   60       0      NaN         1   \n",
       "\n",
       "      credit_card  last_activity  est_salary  churn  \n",
       "265             1              1       81942      0  \n",
       "533             1              1      149318      0  \n",
       "921             1              1      148297      0  \n",
       "2494            1              0      119643      0  \n",
       "2525            1              1       35917      0  \n",
       "3157            1              1      121654      0  \n",
       "4059            1              0       27790      0  \n",
       "4676            1              1       50326      0  \n",
       "5115            1              0       60562      0  \n",
       "6426            1              1      130672      0  \n",
       "6723            1              1      170288      0  \n",
       "7036            1              0       26429      0  \n",
       "7039            1              1       29850      0  \n",
       "9269            1              1      102880      0  \n",
       "9753            1              0       64781      0  "
      ]
     },
     "execution_count": 28,
     "metadata": {},
     "output_type": "execute_result"
    }
   ],
   "source": [
    "data.query('score <= 650')"
   ]
  },
  {
   "cell_type": "code",
   "execution_count": 29,
   "metadata": {},
   "outputs": [
    {
     "name": "stdout",
     "output_type": "stream",
     "text": [
      "Процент от общего числа: 0.15 %\n"
     ]
    }
   ],
   "source": [
    "print('Процент от общего числа:', len(data.query('score <= 650'))*100/total, '%')"
   ]
  },
  {
   "cell_type": "code",
   "execution_count": 30,
   "metadata": {},
   "outputs": [],
   "source": [
    "# удалям пользователей с баллом меньше 650\n",
    "data = data.query('score >= 650')"
   ]
  },
  {
   "cell_type": "code",
   "execution_count": 31,
   "metadata": {},
   "outputs": [
    {
     "data": {
      "text/plain": [
       "count        7580.000000\n",
       "mean       833324.221813\n",
       "std       1994145.431642\n",
       "min             0.000000\n",
       "25%        298225.737500\n",
       "50%        528339.950000\n",
       "75%        984733.202500\n",
       "max     119113552.010000\n",
       "Name: balance, dtype: float64"
      ]
     },
     "execution_count": 31,
     "metadata": {},
     "output_type": "execute_result"
    },
    {
     "data": {
      "image/png": "[encoded data removed]",
      "text/plain": [
       "<Figure size 432x288 with 1 Axes>"
      ]
     },
     "metadata": {
      "needs_background": "light"
     },
     "output_type": "display_data"
    }
   ],
   "source": [
    "pd.set_option('float_format', '{:f}'.format)\n",
    "data.boxplot(column='balance')\n",
    "data['balance'].describe()"
   ]
  },
  {
   "cell_type": "code",
   "execution_count": 32,
   "metadata": {},
   "outputs": [
    {
     "data": {
      "text/html": [
       "<div>\n",
       "<style scoped>\n",
       "    .dataframe tbody tr th:only-of-type {\n",
       "        vertical-align: middle;\n",
       "    }\n",
       "\n",
       "    .dataframe tbody tr th {\n",
       "        vertical-align: top;\n",
       "    }\n",
       "\n",
       "    .dataframe thead th {\n",
       "        text-align: right;\n",
       "    }\n",
       "</style>\n",
       "<table border=\"1\" class=\"dataframe\">\n",
       "  <thead>\n",
       "    <tr style=\"text-align: right;\">\n",
       "      <th></th>\n",
       "      <th>user_id</th>\n",
       "      <th>score</th>\n",
       "      <th>city</th>\n",
       "      <th>gender</th>\n",
       "      <th>age</th>\n",
       "      <th>equity</th>\n",
       "      <th>balance</th>\n",
       "      <th>products</th>\n",
       "      <th>credit_card</th>\n",
       "      <th>last_activity</th>\n",
       "      <th>est_salary</th>\n",
       "      <th>churn</th>\n",
       "    </tr>\n",
       "  </thead>\n",
       "  <tbody>\n",
       "    <tr>\n",
       "      <th>7560</th>\n",
       "      <td>156149</td>\n",
       "      <td>900</td>\n",
       "      <td>Ярославль</td>\n",
       "      <td>М</td>\n",
       "      <td>62</td>\n",
       "      <td>5</td>\n",
       "      <td>119113552.010000</td>\n",
       "      <td>2</td>\n",
       "      <td>1</td>\n",
       "      <td>1</td>\n",
       "      <td>138041</td>\n",
       "      <td>0</td>\n",
       "    </tr>\n",
       "  </tbody>\n",
       "</table>\n",
       "</div>"
      ],
      "text/plain": [
       "      user_id  score       city gender  age  equity          balance  \\\n",
       "7560   156149    900  Ярославль      М   62       5 119113552.010000   \n",
       "\n",
       "      products  credit_card  last_activity  est_salary  churn  \n",
       "7560         2            1              1      138041      0  "
      ]
     },
     "execution_count": 32,
     "metadata": {},
     "output_type": "execute_result"
    }
   ],
   "source": [
    "#посмотрим на пользователя с 0 продуктов\n",
    "data[data['balance']==119113552.010000]"
   ]
  },
  {
   "cell_type": "code",
   "execution_count": 33,
   "metadata": {},
   "outputs": [],
   "source": [
    "#похоже на ошибку, удалям его\n",
    "data = data.drop (index= 7560)"
   ]
  },
  {
   "cell_type": "code",
   "execution_count": 34,
   "metadata": {},
   "outputs": [
    {
     "data": {
      "text/html": [
       "<div>\n",
       "<style scoped>\n",
       "    .dataframe tbody tr th:only-of-type {\n",
       "        vertical-align: middle;\n",
       "    }\n",
       "\n",
       "    .dataframe tbody tr th {\n",
       "        vertical-align: top;\n",
       "    }\n",
       "\n",
       "    .dataframe thead th {\n",
       "        text-align: right;\n",
       "    }\n",
       "</style>\n",
       "<table border=\"1\" class=\"dataframe\">\n",
       "  <thead>\n",
       "    <tr style=\"text-align: right;\">\n",
       "      <th></th>\n",
       "      <th>user_id</th>\n",
       "      <th>score</th>\n",
       "      <th>city</th>\n",
       "      <th>gender</th>\n",
       "      <th>age</th>\n",
       "      <th>equity</th>\n",
       "      <th>balance</th>\n",
       "      <th>products</th>\n",
       "      <th>credit_card</th>\n",
       "      <th>last_activity</th>\n",
       "      <th>est_salary</th>\n",
       "      <th>churn</th>\n",
       "    </tr>\n",
       "  </thead>\n",
       "  <tbody>\n",
       "    <tr>\n",
       "      <th>8902</th>\n",
       "      <td>147837</td>\n",
       "      <td>962</td>\n",
       "      <td>Рыбинск</td>\n",
       "      <td>Ж</td>\n",
       "      <td>79</td>\n",
       "      <td>3</td>\n",
       "      <td>NaN</td>\n",
       "      <td>0</td>\n",
       "      <td>0</td>\n",
       "      <td>0</td>\n",
       "      <td>25063</td>\n",
       "      <td>1</td>\n",
       "    </tr>\n",
       "  </tbody>\n",
       "</table>\n",
       "</div>"
      ],
      "text/plain": [
       "      user_id  score     city gender  age  equity  balance  products  \\\n",
       "8902   147837    962  Рыбинск      Ж   79       3      NaN         0   \n",
       "\n",
       "      credit_card  last_activity  est_salary  churn  \n",
       "8902            0              0       25063      1  "
      ]
     },
     "execution_count": 34,
     "metadata": {},
     "output_type": "execute_result"
    }
   ],
   "source": [
    "# проверим, есть ли пользователь с 0 продуктов\n",
    "data[data['products']==0]"
   ]
  },
  {
   "cell_type": "code",
   "execution_count": 35,
   "metadata": {},
   "outputs": [],
   "source": [
    "#удалям его, т.к. продуктов должно быть минимум 1\n",
    "data = data.drop (index= 8902)"
   ]
  },
  {
   "cell_type": "code",
   "execution_count": 36,
   "metadata": {},
   "outputs": [
    {
     "name": "stdout",
     "output_type": "stream",
     "text": [
      "Количество потерь: 181\n",
      "Процент потерь: 1.81%\n"
     ]
    }
   ],
   "source": [
    "print('Количество потерь:', total- len(data))\n",
    "print(f'Процент потерь:','{0:.2%}'.format(((total- len(data))/total)))"
   ]
  },
  {
   "cell_type": "markdown",
   "metadata": {},
   "source": [
    " ### Создание новых столбцов"
   ]
  },
  {
   "cell_type": "code",
   "execution_count": 37,
   "metadata": {},
   "outputs": [
    {
     "data": {
      "text/html": [
       "<div>\n",
       "<style scoped>\n",
       "    .dataframe tbody tr th:only-of-type {\n",
       "        vertical-align: middle;\n",
       "    }\n",
       "\n",
       "    .dataframe tbody tr th {\n",
       "        vertical-align: top;\n",
       "    }\n",
       "\n",
       "    .dataframe thead th {\n",
       "        text-align: right;\n",
       "    }\n",
       "</style>\n",
       "<table border=\"1\" class=\"dataframe\">\n",
       "  <thead>\n",
       "    <tr style=\"text-align: right;\">\n",
       "      <th></th>\n",
       "      <th>user_id</th>\n",
       "      <th>score</th>\n",
       "      <th>age</th>\n",
       "      <th>equity</th>\n",
       "      <th>balance</th>\n",
       "      <th>products</th>\n",
       "      <th>credit_card</th>\n",
       "      <th>last_activity</th>\n",
       "      <th>est_salary</th>\n",
       "      <th>churn</th>\n",
       "      <th>n_gender</th>\n",
       "      <th>gender_Ж</th>\n",
       "      <th>gender_М</th>\n",
       "      <th>n_city</th>\n",
       "      <th>city_Ростов</th>\n",
       "      <th>city_Рыбинск</th>\n",
       "      <th>city_Ярославль</th>\n",
       "    </tr>\n",
       "  </thead>\n",
       "  <tbody>\n",
       "    <tr>\n",
       "      <th>0</th>\n",
       "      <td>183012</td>\n",
       "      <td>850</td>\n",
       "      <td>25</td>\n",
       "      <td>1</td>\n",
       "      <td>59214.820000</td>\n",
       "      <td>2</td>\n",
       "      <td>0</td>\n",
       "      <td>1</td>\n",
       "      <td>75719</td>\n",
       "      <td>1</td>\n",
       "      <td>Ж</td>\n",
       "      <td>1</td>\n",
       "      <td>0</td>\n",
       "      <td>Рыбинск</td>\n",
       "      <td>0</td>\n",
       "      <td>1</td>\n",
       "      <td>0</td>\n",
       "    </tr>\n",
       "    <tr>\n",
       "      <th>1</th>\n",
       "      <td>146556</td>\n",
       "      <td>861</td>\n",
       "      <td>37</td>\n",
       "      <td>5</td>\n",
       "      <td>850594.330000</td>\n",
       "      <td>3</td>\n",
       "      <td>1</td>\n",
       "      <td>0</td>\n",
       "      <td>86621</td>\n",
       "      <td>0</td>\n",
       "      <td>Ж</td>\n",
       "      <td>1</td>\n",
       "      <td>0</td>\n",
       "      <td>Рыбинск</td>\n",
       "      <td>0</td>\n",
       "      <td>1</td>\n",
       "      <td>0</td>\n",
       "    </tr>\n",
       "    <tr>\n",
       "      <th>2</th>\n",
       "      <td>120722</td>\n",
       "      <td>892</td>\n",
       "      <td>30</td>\n",
       "      <td>0</td>\n",
       "      <td>NaN</td>\n",
       "      <td>1</td>\n",
       "      <td>1</td>\n",
       "      <td>1</td>\n",
       "      <td>107683</td>\n",
       "      <td>0</td>\n",
       "      <td>Ж</td>\n",
       "      <td>1</td>\n",
       "      <td>0</td>\n",
       "      <td>Рыбинск</td>\n",
       "      <td>0</td>\n",
       "      <td>1</td>\n",
       "      <td>0</td>\n",
       "    </tr>\n",
       "    <tr>\n",
       "      <th>3</th>\n",
       "      <td>225363</td>\n",
       "      <td>866</td>\n",
       "      <td>51</td>\n",
       "      <td>5</td>\n",
       "      <td>1524746.260000</td>\n",
       "      <td>2</td>\n",
       "      <td>0</td>\n",
       "      <td>1</td>\n",
       "      <td>174423</td>\n",
       "      <td>1</td>\n",
       "      <td>Ж</td>\n",
       "      <td>1</td>\n",
       "      <td>0</td>\n",
       "      <td>Ярославль</td>\n",
       "      <td>0</td>\n",
       "      <td>0</td>\n",
       "      <td>1</td>\n",
       "    </tr>\n",
       "    <tr>\n",
       "      <th>4</th>\n",
       "      <td>157978</td>\n",
       "      <td>730</td>\n",
       "      <td>34</td>\n",
       "      <td>5</td>\n",
       "      <td>174.000000</td>\n",
       "      <td>1</td>\n",
       "      <td>1</td>\n",
       "      <td>0</td>\n",
       "      <td>67353</td>\n",
       "      <td>1</td>\n",
       "      <td>М</td>\n",
       "      <td>0</td>\n",
       "      <td>1</td>\n",
       "      <td>Ярославль</td>\n",
       "      <td>0</td>\n",
       "      <td>0</td>\n",
       "      <td>1</td>\n",
       "    </tr>\n",
       "  </tbody>\n",
       "</table>\n",
       "</div>"
      ],
      "text/plain": [
       "   user_id  score  age  equity        balance  products  credit_card  \\\n",
       "0   183012    850   25       1   59214.820000         2            0   \n",
       "1   146556    861   37       5  850594.330000         3            1   \n",
       "2   120722    892   30       0            NaN         1            1   \n",
       "3   225363    866   51       5 1524746.260000         2            0   \n",
       "4   157978    730   34       5     174.000000         1            1   \n",
       "\n",
       "   last_activity  est_salary  churn n_gender  gender_Ж  gender_М     n_city  \\\n",
       "0              1       75719      1        Ж         1         0    Рыбинск   \n",
       "1              0       86621      0        Ж         1         0    Рыбинск   \n",
       "2              1      107683      0        Ж         1         0    Рыбинск   \n",
       "3              1      174423      1        Ж         1         0  Ярославль   \n",
       "4              0       67353      1        М         0         1  Ярославль   \n",
       "\n",
       "   city_Ростов  city_Рыбинск  city_Ярославль  \n",
       "0            0             1               0  \n",
       "1            0             1               0  \n",
       "2            0             1               0  \n",
       "3            0             0               1  \n",
       "4            0             0               1  "
      ]
     },
     "execution_count": 37,
     "metadata": {},
     "output_type": "execute_result"
    }
   ],
   "source": [
    "#создание новых столбцов для корреляции\n",
    "data['n_gender'] = data['gender']\n",
    "data = pd.get_dummies(data, columns=['gender'])\n",
    "data['n_city'] = data['city']\n",
    "data = pd.get_dummies(data, columns=['city'])\n",
    "data.head()"
   ]
  },
  {
   "cell_type": "markdown",
   "metadata": {},
   "source": [
    "**ВЫВОД**\n",
    "\n",
    "В ходе предоработке были изменины названия столбцов и  типов данных, удалалены дубликаты и выбросы, потзователь с 0 продуктов, пользователи с заработной платой меньше 16 000"
   ]
  },
  {
   "cell_type": "markdown",
   "metadata": {},
   "source": [
    "## Анализ данных"
   ]
  },
  {
   "cell_type": "code",
   "execution_count": 38,
   "metadata": {},
   "outputs": [
    {
     "data": {
      "image/png": "[encoded data removed]",
      "text/plain": [
       "<Figure size 864x432 with 2 Axes>"
      ]
     },
     "metadata": {
      "needs_background": "light"
     },
     "output_type": "display_data"
    }
   ],
   "source": [
    "data_gen= data['n_gender'].value_counts().reset_index()\n",
    "\n",
    "fig, axes = plt.subplots(1, 2, figsize=(12, 6))\n",
    "fig.suptitle('Распределение по полу', size = 20)\n",
    "\n",
    "\n",
    "sns.countplot(data=data, x=\"n_gender\", hue=\"churn\", palette='crest', ax=axes[0])\n",
    "axes[0].set_title(\"В срезе отточности\")\n",
    "axes[0].legend(['неотточные', 'отточные'])\n",
    "axes[0].set_ylabel(\"Количество клиентов\")\n",
    "axes[0].set_xlabel(\"Пол\")\n",
    "\n",
    "\n",
    "\n",
    "\n",
    "colors = [\"#a5c6d9\", \"#407692\"]\n",
    "plt.pie(data=data_gen, labels= data_gen['index'], x= data_gen['n_gender'], autopct='%.1f%%',colors = colors)\n",
    "axes[1].set_title(\"Все пользователи\")\n",
    "\n",
    "plt.show()"
   ]
  },
  {
   "cell_type": "markdown",
   "metadata": {},
   "source": [
    "**Среди всех клиентов мужчины и женщины распределены поровну. У отточных клиентов больше мужчин, у неотточных- женщин**  "
   ]
  },
  {
   "cell_type": "code",
   "execution_count": 39,
   "metadata": {},
   "outputs": [
    {
     "data": {
      "image/png": "[encoded data removed]",
      "text/plain": [
       "<Figure size 864x432 with 2 Axes>"
      ]
     },
     "metadata": {
      "needs_background": "light"
     },
     "output_type": "display_data"
    }
   ],
   "source": [
    "data_city= data['n_city'].value_counts().reset_index()\n",
    "\n",
    "fig, axes = plt.subplots(1, 2, figsize=(12, 6))\n",
    "fig.suptitle('Распределение по городам', size = 20)\n",
    "\n",
    "\n",
    "sns.countplot(data=data, x=\"n_city\", hue=\"churn\", palette='crest', ax=axes[0])\n",
    "axes[0].set_title(\"В срезе отточности\")\n",
    "axes[0].legend(['неотточные', 'отточные'])\n",
    "axes[0].set_ylabel(\"Количество клиентов\")\n",
    "axes[0].set_xlabel(\"Город\")\n",
    "\n",
    "\n",
    "colors = [\"#a5c6d9\", \"#407692\", \"#6ba1bd\"]\n",
    "plt.pie(data=data_city, labels= data_city['index'], x= data_city['n_city'], autopct='%.1f%%',colors = colors)\n",
    "axes[1].set_title(\"Все пользователи\")\n",
    "\n",
    "plt.show()"
   ]
  },
  {
   "cell_type": "markdown",
   "metadata": {},
   "source": [
    "**Город Ярославль лидирует среди всех пользователей, у отточных и неотточных**"
   ]
  },
  {
   "cell_type": "code",
   "execution_count": 40,
   "metadata": {},
   "outputs": [
    {
     "data": {
      "image/png": "[encoded data removed]",
      "text/plain": [
       "<Figure size 864x432 with 2 Axes>"
      ]
     },
     "metadata": {
      "needs_background": "light"
     },
     "output_type": "display_data"
    }
   ],
   "source": [
    "data_cr= data['credit_card'].value_counts().reset_index()\n",
    "\n",
    "fig, axes = plt.subplots(1, 2, figsize=(12, 6))\n",
    "fig.suptitle('Распределение по наличию кредитной карты', size = 20) \n",
    "\n",
    "\n",
    "colors = [\"#ABB9C2\", \"#5E7B8B\"]\n",
    "sns.countplot(data=data, x=\"credit_card\", hue=\"churn\", palette='crest', ax=axes[0])\n",
    "axes[0].set_title(\"В срезе отточности\")\n",
    "axes[0].legend(['неотточные', 'отточные'])\n",
    "axes[0].set_ylabel(\"Количество клиентов\")\n",
    "axes[0].set_xlabel(\"Наличие кредитной карты\")\n",
    "\n",
    "\n",
    "colors = [\"#a5c6d9\", \"#407692\", \"#1a3f59\"]\n",
    "plt.pie(data=data_city, labels= data_cr['index'], x= data_cr['credit_card'], autopct='%.1f%%',colors = colors)\n",
    "axes[1].set_title(\"Все пользователи\")\n",
    "axes[1].legend(['1-есть', '0-нет'])\n",
    "\n",
    "plt.show()"
   ]
  },
  {
   "cell_type": "markdown",
   "metadata": {},
   "source": [
    "**Среди всех клиентов у большинства есть кредитная карта, то же самое и у неотточных клиентов, у неотточных- среднее количества клиентов с картой и без неё почти одинаково** "
   ]
  },
  {
   "cell_type": "code",
   "execution_count": 41,
   "metadata": {},
   "outputs": [
    {
     "data": {
      "image/png": "[encoded data removed]",
      "text/plain": [
       "<Figure size 864x432 with 2 Axes>"
      ]
     },
     "metadata": {
      "needs_background": "light"
     },
     "output_type": "display_data"
    }
   ],
   "source": [
    "\n",
    "data_la= data['last_activity'].value_counts().reset_index()\n",
    "\n",
    "fig, axes = plt.subplots(1, 2, figsize=(12, 6))\n",
    "fig.suptitle('Распределение по активности', size = 20) \n",
    "\n",
    "\n",
    "colors = [\"#ABB9C2\", \"#5E7B8B\"]\n",
    "sns.countplot(data=data, x=\"last_activity\", hue=\"churn\", palette='crest', ax=axes[0])\n",
    "axes[0].set_title(\"В срезе отточности\")\n",
    "axes[0].legend(['неотточные', 'отточные'])\n",
    "axes[0].set_ylabel(\"Количество клиентов\")\n",
    "axes[0].set_xlabel(\"Активность\")\n",
    "\n",
    "\n",
    "colors = [\"#a5c6d9\", \"#407692\", \"#1a3f59\"]\n",
    "plt.pie(data=data_la, labels= data_la['index'], x= data_la['last_activity'], autopct='%.1f%%',colors = colors)\n",
    "axes[1].set_title(\"Все пользователи\")\n",
    "axes[1].legend(['1-активный', '0-неактивный'])\n",
    "\n",
    "plt.show()"
   ]
  },
  {
   "cell_type": "markdown",
   "metadata": {},
   "source": [
    "**По всем пользователям наблюдается почти равное распределение на активных и нет. Среди неотточных преобладают неактивные, но разница небольшая. Отточне в основном активные** "
   ]
  },
  {
   "cell_type": "code",
   "execution_count": 42,
   "metadata": {},
   "outputs": [
    {
     "data": {
      "image/png": "[encoded data removed]",
      "text/plain": [
       "<Figure size 864x432 with 2 Axes>"
      ]
     },
     "metadata": {
      "needs_background": "light"
     },
     "output_type": "display_data"
    }
   ],
   "source": [
    "data_pr= data['products'].value_counts().reset_index()\n",
    "\n",
    "fig, axes = plt.subplots(1, 2, figsize=(12, 6))\n",
    "fig.suptitle('Распределение по количеству продуктов', size = 20) \n",
    "\n",
    "\n",
    "sns.countplot(data=data, x=\"products\", hue=\"churn\", palette='crest', ax=axes[0])\n",
    "axes[0].set_title(\"В срезе отточности\")\n",
    "axes[0].legend(['неотточные', 'отточные'])\n",
    "axes[0].set_ylabel(\"Количество клиентов\")\n",
    "axes[0].set_xlabel(\"Количество продуктов\")\n",
    "\n",
    "sns.barplot(x='index', y='products', data=data_pr,palette='crest', ax=axes[1])\n",
    "axes[1].set_ylabel(\"Количество клиентов\")\n",
    "axes[1].set_xlabel(\"Количество продуктов\")\n",
    "axes[1].set_title(\"Все пользователи\")\n",
    "\n",
    "plt.show()"
   ]
  },
  {
   "cell_type": "markdown",
   "metadata": {},
   "source": [
    "**Среди всех пользователей, а также среди отточных и неотточных преобладающее количество продуктов-2** "
   ]
  },
  {
   "cell_type": "code",
   "execution_count": 43,
   "metadata": {},
   "outputs": [
    {
     "data": {
      "image/png": "[encoded data removed]",
      "text/plain": [
       "<Figure size 864x432 with 2 Axes>"
      ]
     },
     "metadata": {
      "needs_background": "light"
     },
     "output_type": "display_data"
    }
   ],
   "source": [
    "data_eq= data['equity'].value_counts().reset_index()\n",
    "fig, axes = plt.subplots(1, 2, figsize=(12, 6))\n",
    "fig.suptitle('Распределение по баллам собственности', size = 20) \n",
    "\n",
    "\n",
    "sns.countplot(data=data, x=\"equity\", hue=\"churn\", palette='crest', ax=axes[0])\n",
    "axes[0].set_title(\"В срезе отточности\")\n",
    "axes[0].legend(['неотточные', 'отточные'])\n",
    "axes[0].set_ylabel(\"Количество клиентов\")\n",
    "axes[0].set_xlabel(\"Балл\")\n",
    "\n",
    "sns.barplot(x='index', y='equity', data=data_eq,palette='crest', ax=axes[1])\n",
    "axes[1].set_ylabel(\"Количество клиентов\")\n",
    "axes[1].set_xlabel(\"Балл\")\n",
    "axes[1].set_title(\"Все пользователи\")\n",
    "\n",
    "plt.show()"
   ]
  },
  {
   "cell_type": "markdown",
   "metadata": {},
   "source": [
    "**У большинства из всех пользователей - 0 баллов собственности, как и у большинства отточных, у неотточных - 5** "
   ]
  },
  {
   "cell_type": "code",
   "execution_count": 44,
   "metadata": {},
   "outputs": [],
   "source": [
    "# создаём фреймы только с отточными и только с неотточными клиентами\n",
    "ch_0 = data.query('churn == 0')\n",
    "ch_1 = data.query('churn == 1')"
   ]
  },
  {
   "cell_type": "code",
   "execution_count": 45,
   "metadata": {},
   "outputs": [
    {
     "name": "stderr",
     "output_type": "stream",
     "text": [
      "/opt/conda/lib/python3.9/site-packages/seaborn/distributions.py:2557: FutureWarning: `distplot` is a deprecated function and will be removed in a future version. Please adapt your code to use either `displot` (a figure-level function with similar flexibility) or `histplot` (an axes-level function for histograms).\n",
      "  warnings.warn(msg, FutureWarning)\n",
      "/opt/conda/lib/python3.9/site-packages/seaborn/distributions.py:2557: FutureWarning: `distplot` is a deprecated function and will be removed in a future version. Please adapt your code to use either `displot` (a figure-level function with similar flexibility) or `histplot` (an axes-level function for histograms).\n",
      "  warnings.warn(msg, FutureWarning)\n",
      "/opt/conda/lib/python3.9/site-packages/seaborn/distributions.py:2557: FutureWarning: `distplot` is a deprecated function and will be removed in a future version. Please adapt your code to use either `displot` (a figure-level function with similar flexibility) or `histplot` (an axes-level function for histograms).\n",
      "  warnings.warn(msg, FutureWarning)\n"
     ]
    },
    {
     "data": {
      "text/plain": [
       "Text(0.5, 1.0, 'Все пользователи')"
      ]
     },
     "execution_count": 45,
     "metadata": {},
     "output_type": "execute_result"
    },
    {
     "data": {
      "image/png": "[encoded data removed]",
      "text/plain": [
       "<Figure size 864x432 with 2 Axes>"
      ]
     },
     "metadata": {
      "needs_background": "light"
     },
     "output_type": "display_data"
    }
   ],
   "source": [
    "fig, axes = plt.subplots(1, 2, figsize=(12, 6))\n",
    "fig.suptitle('Распределение по возрасту', size = 20) \n",
    "\n",
    "sns.distplot(ch_0['age'],ax=axes[0], color = '#4a9a8f')\n",
    "sns.distplot(ch_1['age'],ax=axes[0],color = '#284179')\n",
    "\n",
    "\n",
    "axes[0].set_title(\"В срезе отточности\")\n",
    "axes[0].legend(['неотточные', 'отточные'])\n",
    "axes[0].set_ylabel(\"Плотность вероятности\")\n",
    "axes[0].set_xlabel(\"Возраст\")\n",
    "\n",
    "sns.distplot(data['age'],ax=axes[1],  color = '#407692')\n",
    "axes[1].set_ylabel(\"Плотность вероятности\")\n",
    "axes[1].set_xlabel(\"Возраст\")\n",
    "axes[1].set_title(\"Все пользователи\")"
   ]
  },
  {
   "cell_type": "markdown",
   "metadata": {},
   "source": [
    "**Распределение по возрасту всех пользователей показывает, что в основном это люди от 25 до 45 лет, похожая картина у неотточных клиентов. У отточных заметно две группы: от 25 до 45 и от 50\n",
    "до 65лет**"
   ]
  },
  {
   "cell_type": "code",
   "execution_count": 46,
   "metadata": {},
   "outputs": [
    {
     "name": "stderr",
     "output_type": "stream",
     "text": [
      "/opt/conda/lib/python3.9/site-packages/seaborn/distributions.py:2557: FutureWarning: `distplot` is a deprecated function and will be removed in a future version. Please adapt your code to use either `displot` (a figure-level function with similar flexibility) or `histplot` (an axes-level function for histograms).\n",
      "  warnings.warn(msg, FutureWarning)\n",
      "/opt/conda/lib/python3.9/site-packages/seaborn/distributions.py:2557: FutureWarning: `distplot` is a deprecated function and will be removed in a future version. Please adapt your code to use either `displot` (a figure-level function with similar flexibility) or `histplot` (an axes-level function for histograms).\n",
      "  warnings.warn(msg, FutureWarning)\n",
      "/opt/conda/lib/python3.9/site-packages/seaborn/distributions.py:2557: FutureWarning: `distplot` is a deprecated function and will be removed in a future version. Please adapt your code to use either `displot` (a figure-level function with similar flexibility) or `histplot` (an axes-level function for histograms).\n",
      "  warnings.warn(msg, FutureWarning)\n"
     ]
    },
    {
     "data": {
      "text/plain": [
       "Text(0.5, 1.0, 'Все пользователи')"
      ]
     },
     "execution_count": 46,
     "metadata": {},
     "output_type": "execute_result"
    },
    {
     "data": {
      "image/png": "[encoded data removed]",
      "text/plain": [
       "<Figure size 864x432 with 2 Axes>"
      ]
     },
     "metadata": {
      "needs_background": "light"
     },
     "output_type": "display_data"
    }
   ],
   "source": [
    "fig, axes = plt.subplots(1, 2, figsize=(12, 6))\n",
    "fig.suptitle('Распределение по баллам кредитного скоринга', size = 20) \n",
    "\n",
    "sns.distplot(ch_0['score'],ax=axes[0], color = '#4a9a8f')\n",
    "sns.distplot(ch_1['score'],ax=axes[0],color = '#284179')\n",
    "\n",
    "\n",
    "axes[0].set_title(\"В срезе отточности\")\n",
    "axes[0].legend(['неотточные', 'отточные'])\n",
    "axes[0].set_ylabel(\"Плотность вероятности\")\n",
    "axes[0].set_xlabel(\"Балл\")\n",
    "\n",
    "sns.distplot(data['score'],ax=axes[1],  color = '#407692')\n",
    "axes[1].set_ylabel(\"Плотность вероятности\")\n",
    "axes[1].set_xlabel(\"Балл\")\n",
    "axes[1].set_title(\"Все пользователи\")"
   ]
  },
  {
   "cell_type": "markdown",
   "metadata": {},
   "source": [
    "**Среди всех пользователей баллы кредитного скроллинга распределены от 890 до 920, у неотточных - от 750 до 850 и от 850 до 900, у отточных от 800 до 920**"
   ]
  },
  {
   "cell_type": "code",
   "execution_count": 47,
   "metadata": {},
   "outputs": [
    {
     "name": "stderr",
     "output_type": "stream",
     "text": [
      "/opt/conda/lib/python3.9/site-packages/seaborn/distributions.py:2557: FutureWarning: `distplot` is a deprecated function and will be removed in a future version. Please adapt your code to use either `displot` (a figure-level function with similar flexibility) or `histplot` (an axes-level function for histograms).\n",
      "  warnings.warn(msg, FutureWarning)\n",
      "/opt/conda/lib/python3.9/site-packages/seaborn/distributions.py:2557: FutureWarning: `distplot` is a deprecated function and will be removed in a future version. Please adapt your code to use either `displot` (a figure-level function with similar flexibility) or `histplot` (an axes-level function for histograms).\n",
      "  warnings.warn(msg, FutureWarning)\n",
      "/opt/conda/lib/python3.9/site-packages/seaborn/distributions.py:2557: FutureWarning: `distplot` is a deprecated function and will be removed in a future version. Please adapt your code to use either `displot` (a figure-level function with similar flexibility) or `histplot` (an axes-level function for histograms).\n",
      "  warnings.warn(msg, FutureWarning)\n"
     ]
    },
    {
     "data": {
      "text/plain": [
       "Text(0.5, 1.0, 'Все пользователи')"
      ]
     },
     "execution_count": 47,
     "metadata": {},
     "output_type": "execute_result"
    },
    {
     "data": {
      "image/png": "[encoded data removed]",
      "text/plain": [
       "<Figure size 864x432 with 2 Axes>"
      ]
     },
     "metadata": {
      "needs_background": "light"
     },
     "output_type": "display_data"
    }
   ],
   "source": [
    "fig, axes = plt.subplots(1, 2, figsize=(12, 6))\n",
    "fig.suptitle('Распределение по средней заработной плате', size = 20) \n",
    "\n",
    "sns.distplot(ch_0['est_salary'],ax=axes[0], color = '#4a9a8f')\n",
    "sns.distplot(ch_1['est_salary'],ax=axes[0],color = '#284179')\n",
    "\n",
    "\n",
    "axes[0].set_title(\"В срезе отточности\")\n",
    "axes[0].legend(['неотточные', 'отточные'])\n",
    "axes[0].set_ylabel(\"Плотность вероятности\")\n",
    "axes[0].set_xlabel(\"заработная плата\")\n",
    "\n",
    "sns.distplot(data['est_salary'],ax=axes[1],  color = '#407692')\n",
    "axes[1].set_ylabel(\"Плотность вероятности\")\n",
    "axes[1].set_xlabel(\"заработная плата\")\n",
    "axes[1].set_title(\"Все пользователи\")"
   ]
  },
  {
   "cell_type": "markdown",
   "metadata": {},
   "source": [
    "**Распределение по заработной плате примерно одинаково с пиком на 170 000 рублей**"
   ]
  },
  {
   "cell_type": "markdown",
   "metadata": {},
   "source": [
    "**ВЫВОД**\n",
    "\n",
    "*Общий портрет пользователя*\n",
    "\n",
    "* Пол: Женщина или мужчина\n",
    "* Город: Ярославль\n",
    "* Кредитная карта: есть\n",
    "* Активность: активный или не активный\n",
    "* Продукты: 2 или 1\n",
    "* Баллы собственности: 0 или 5\n",
    "* Возраст: от 25 до 45 лет\n",
    "* Баллы кредитного скоринга: от 890 до 920\n",
    "\n",
    "*Портрет неотточных клиентов*\n",
    "\n",
    "* Пол: Женщина\n",
    "* Город: Ярославль\n",
    "* Кредитная карта: есть \n",
    "* Активность: не активный\n",
    "* Продукты: 2 или 1\n",
    "* Баллы собственности: 0 \n",
    "* Возраст: от 25 до 45 лет\n",
    "* Баллы кредитного скоринга:  750 до 850 и от 870 до 900\n",
    "\n",
    "*Портрет отточных клиентов*\n",
    "\n",
    "* Пол: Мужчина\n",
    "* Город: Ярославль\n",
    "* Кредитная карта: есть или нет\n",
    "* Активность: активный\n",
    "* Продукты: 2 или 4\n",
    "* Баллы собственности: 5 или 4\n",
    "* Возраст: от 25 до 45 и от  50 до 65\n",
    "* Баллы кредитного скоринга: 800 до 920\n"
   ]
  },
  {
   "cell_type": "markdown",
   "metadata": {},
   "source": [
    "## Корреляция"
   ]
  },
  {
   "cell_type": "code",
   "execution_count": 48,
   "metadata": {},
   "outputs": [
    {
     "name": "stdout",
     "output_type": "stream",
     "text": [
      "\u001b[1mКорреляция по столбцу отточности\u001b[0m\n"
     ]
    },
    {
     "data": {
      "text/plain": [
       "est_salary        -0.00\n",
       "city_Ростов        0.00\n",
       "user_id           -0.01\n",
       "city_Ярославль     0.02\n",
       "city_Рыбинск      -0.03\n",
       "age               -0.05\n",
       "score              0.10\n",
       "balance            0.12\n",
       "credit_card       -0.13\n",
       "gender_Ж          -0.14\n",
       "gender_М           0.14\n",
       "last_activity      0.17\n",
       "equity             0.27\n",
       "products           0.30\n",
       "churn              1.00\n",
       "dtype: object"
      ]
     },
     "execution_count": 48,
     "metadata": {},
     "output_type": "execute_result"
    }
   ],
   "source": [
    "print('\\033[1m' + 'Корреляция по столбцу отточности' + '\\033[0m')\n",
    "data.corrwith(data['churn']).sort_values(key=abs).apply('{:.2f}'.format)"
   ]
  },
  {
   "cell_type": "markdown",
   "metadata": {},
   "source": [
    "**ВЫВОД**\n",
    "\n",
    "Самая высокая корреляция со столбцами: количество продуктов и количество баллов собственности"
   ]
  },
  {
   "cell_type": "markdown",
   "metadata": {},
   "source": [
    "## Проверка гипотез"
   ]
  },
  {
   "cell_type": "markdown",
   "metadata": {},
   "source": [
    "**Гипотеза №1**\n",
    "о равенстве дохода между отточными и неотточными клиентами"
   ]
  },
  {
   "cell_type": "markdown",
   "metadata": {},
   "source": [
    "H0- доходы отточных клиентов и доходы неотточных одинаковы\n",
    "\n",
    "H1 - доходы отточных клиентов и доходы неотточных различаются"
   ]
  },
  {
   "cell_type": "markdown",
   "metadata": {},
   "source": [
    "t-test предполагает, что данные:\n",
    "\n",
    "* независимы\n",
    "* распределены (приблизительно) нормально\n",
    "* имеют одинаковую величину дисперсии в каждой сравниваемой группе (т. н. однородность дисперсии)"
   ]
  },
  {
   "cell_type": "code",
   "execution_count": 49,
   "metadata": {},
   "outputs": [
    {
     "data": {
      "image/png": "[encoded data removed]",
      "text/plain": [
       "<Figure size 864x432 with 2 Axes>"
      ]
     },
     "metadata": {
      "needs_background": "light"
     },
     "output_type": "display_data"
    }
   ],
   "source": [
    "#прверим нормальное ли распределение\n",
    "\n",
    "fig, axes = plt.subplots(1, 2, figsize=(12, 6))\n",
    "fig.suptitle('Распределение по средней заработной плате', size = 20) \n",
    "\n",
    "\n",
    "sns.histplot(ch_0['est_salary'],  color='#4a9a8f', ax=axes[0])\n",
    "axes[0].set_title(\"Неотточные\")\n",
    "\n",
    "axes[0].set_ylabel(\"Количество клиентов\")\n",
    "axes[0].set_xlabel(\"Заработная плата\")\n",
    "\n",
    "sns.histplot(ch_1['est_salary'], color='#284179', ax=axes[1])\n",
    "axes[1].set_ylabel(\"Количество клиентов\")\n",
    "axes[1].set_xlabel(\"Заработная плата\")\n",
    "axes[1].set_title(\"Отточные\")\n",
    "\n",
    "plt.show()"
   ]
  },
  {
   "cell_type": "code",
   "execution_count": 50,
   "metadata": {},
   "outputs": [
    {
     "name": "stdout",
     "output_type": "stream",
     "text": [
      "Дисперсии: 20439772260.76915 15095744630.509804\n"
     ]
    }
   ],
   "source": [
    "print('Дисперсии:',np.var(ch_0['est_salary']), np.var(ch_1['est_salary']))"
   ]
  },
  {
   "cell_type": "markdown",
   "metadata": {},
   "source": [
    "* даные независимы\n",
    "* распределение не является нормальным\n",
    "* дисперсия не ровна"
   ]
  },
  {
   "cell_type": "code",
   "execution_count": 51,
   "metadata": {},
   "outputs": [
    {
     "name": "stdout",
     "output_type": "stream",
     "text": [
      "p-значение: 0.0010229139700984433\n",
      "Отвергаем нулевую гипотезу\n",
      "Cредний показатель доходов у неотточных клиентов: 149118.98351236572\n",
      "Cредний показатель доходов у отточных клиентов: 148727.28350799778\n"
     ]
    }
   ],
   "source": [
    "# проведем u-test\n",
    "alpha = 0.05 \n",
    "\n",
    "results = st.mannwhitneyu(ch_0['est_salary'], ch_1['est_salary'])\n",
    "\n",
    "print('p-значение:', results.pvalue)\n",
    "\n",
    "if (results.pvalue < alpha):\n",
    "    print(\"Отвергаем нулевую гипотезу\")\n",
    "else:\n",
    "    print(\"Не получилось отвергнуть нулевую гипотезу\")\n",
    "print('Cредний показатель доходов у неотточных клиентов:',ch_0['est_salary'].mean())\n",
    "print('Cредний показатель доходов у отточных клиентов:',ch_1['est_salary'].mean())  "
   ]
  },
  {
   "cell_type": "markdown",
   "metadata": {},
   "source": [
    "**Гипотеза №2** о равенстве среднего балла кредитного скоринга"
   ]
  },
  {
   "cell_type": "markdown",
   "metadata": {},
   "source": [
    "H0- средний балл кредитного скоринга отточных клиентов и средний балл кредитного скоринга неотточных одинаковы\n",
    "\n",
    "H1 - средний балл кредитного скоринга отточных клиентов и средний балл кредитного скоринга неотточных различаются"
   ]
  },
  {
   "cell_type": "code",
   "execution_count": 52,
   "metadata": {},
   "outputs": [
    {
     "data": {
      "image/png": "[encoded data removed]",
      "text/plain": [
       "<Figure size 864x432 with 2 Axes>"
      ]
     },
     "metadata": {
      "needs_background": "light"
     },
     "output_type": "display_data"
    }
   ],
   "source": [
    "\n",
    "fig, axes = plt.subplots(1, 2, figsize=(12, 6))\n",
    "fig.suptitle('Распределение по баллам кредитного скоринга ', size = 20) \n",
    "\n",
    "\n",
    "sns.histplot(ch_0['score'],  color='#4a9a8f', ax=axes[0])\n",
    "axes[0].set_title(\"Неотточные\")\n",
    "\n",
    "axes[0].set_ylabel(\"Количество клиентов\")\n",
    "axes[0].set_xlabel(\"Балл\")\n",
    "\n",
    "sns.histplot(ch_1['score'], color='#284179', ax=axes[1])\n",
    "axes[1].set_ylabel(\"Количество клиентов\")\n",
    "axes[1].set_xlabel(\"Балл\")\n",
    "axes[1].set_title(\"Отточные\")\n",
    "\n",
    "plt.show()"
   ]
  },
  {
   "cell_type": "code",
   "execution_count": 53,
   "metadata": {},
   "outputs": [
    {
     "name": "stdout",
     "output_type": "stream",
     "text": [
      "Дисперсии: 4575.729459603399 2444.839038640158\n"
     ]
    }
   ],
   "source": [
    "print('Дисперсии:', np.var(ch_0['score']), np.var(ch_1['score']))"
   ]
  },
  {
   "cell_type": "markdown",
   "metadata": {},
   "source": [
    "* даные независимы\n",
    "* распределение не является нормальным\n",
    "* дисперсия не ровна"
   ]
  },
  {
   "cell_type": "code",
   "execution_count": 54,
   "metadata": {},
   "outputs": [
    {
     "name": "stdout",
     "output_type": "stream",
     "text": [
      "p-значение: 7.108709680264713e-21\n",
      "Отвергаем нулевую гипотезу\n",
      "Cредний показатель балла кредитного скоринга у неотточных клиентов: 149118.98351236572\n",
      "Cредний показатель балла кредитного скоринга у отточных клиентов: 148727.28350799778\n"
     ]
    }
   ],
   "source": [
    "# проведем u-test\n",
    "\n",
    "alpha = 0.05 \n",
    "\n",
    "results = st.mannwhitneyu(ch_0['score'], ch_1['score'])\n",
    "\n",
    "print('p-значение:', results.pvalue)\n",
    "\n",
    "if (results.pvalue < alpha):\n",
    "    print(\"Отвергаем нулевую гипотезу\")\n",
    "else:\n",
    "    print(\"Не получилось отвергнуть нулевую гипотезу\")\n",
    "print('Cредний показатель балла кредитного скоринга у неотточных клиентов:',ch_0['est_salary'].mean())\n",
    "print('Cредний показатель балла кредитного скоринга у отточных клиентов:',ch_1['est_salary'].mean())  "
   ]
  },
  {
   "cell_type": "markdown",
   "metadata": {},
   "source": [
    "**ВЫВОД**\n",
    "\n",
    "Нулевую гипотезу в обоих случаях можно отвергнуть. Cредний показатель доходов и средний балл кредитного скоринга у отточных и отточных клиентов клиентов неодинаков"
   ]
  },
  {
   "cell_type": "markdown",
   "metadata": {},
   "source": [
    "## Сегментация на основе показателей"
   ]
  },
  {
   "cell_type": "code",
   "execution_count": 55,
   "metadata": {},
   "outputs": [],
   "source": [
    "data_age = data.groupby('age')['user_id'].nunique().reset_index()\n",
    "data_age['percent'] = data_age['user_id']* 100 / data['user_id'].nunique()"
   ]
  },
  {
   "cell_type": "code",
   "execution_count": 56,
   "metadata": {},
   "outputs": [
    {
     "data": {
      "text/plain": [
       "Text(0, 0.5, 'Проценты')"
      ]
     },
     "execution_count": 56,
     "metadata": {},
     "output_type": "execute_result"
    },
    {
     "data": {
      "image/png": "[encoded data removed]",
      "text/plain": [
       "<Figure size 864x432 with 1 Axes>"
      ]
     },
     "metadata": {
      "needs_background": "light"
     },
     "output_type": "display_data"
    }
   ],
   "source": [
    "\n",
    "data_age.plot(figsize=(12,6), x = 'age', y = 'percent',color = \"#407692\" )\n",
    "# добавдяем средний уровень оттока\n",
    "plt.axhline(y=0.18,color='k', linestyle='--')\n",
    "plt.title('Распрделение по возрасту')\n",
    "plt.xlabel('Лет')\n",
    "plt.ylabel('Проценты')"
   ]
  },
  {
   "cell_type": "code",
   "execution_count": 57,
   "metadata": {},
   "outputs": [],
   "source": [
    "# добавляем группы по возрасту\n",
    "def age_group(age):\n",
    "    if 21 > age >= 18:\n",
    "        return '1'\n",
    "    if 74 >= age >= 22:\n",
    "        return '2' "
   ]
  },
  {
   "cell_type": "code",
   "execution_count": 58,
   "metadata": {
    "scrolled": true
   },
   "outputs": [],
   "source": [
    "data['age_group'] = data['age'].apply (age_group)"
   ]
  },
  {
   "cell_type": "markdown",
   "metadata": {},
   "source": [
    "**Cегмент №1**\n",
    "Мужчина- активный пользователь из города Ярославль"
   ]
  },
  {
   "cell_type": "code",
   "execution_count": 59,
   "metadata": {},
   "outputs": [],
   "source": [
    "segment_1 = data.query (\n",
    "    'gender_М==1 and city_Ярославль == 1 and last_activity == 1 ')  "
   ]
  },
  {
   "cell_type": "code",
   "execution_count": 60,
   "metadata": {},
   "outputs": [
    {
     "name": "stdout",
     "output_type": "stream",
     "text": [
      "Объём сегмента №1: 1471\n",
      "Количество отточных клиентов: 444\n",
      "Уровень отточности: 30 %\n"
     ]
    }
   ],
   "source": [
    "print('Объём сегмента №1:',len(segment_1))\n",
    "print('Количество отточных клиентов:',len(segment_1.query('churn == 1')))\n",
    "print('Уровень отточности:',round((len(segment_1.query('churn == 1')))/(len(segment_1))*100),'%')"
   ]
  },
  {
   "cell_type": "code",
   "execution_count": 61,
   "metadata": {},
   "outputs": [
    {
     "data": {
      "image/png": "[encoded data removed]",
      "text/plain": [
       "<Figure size 864x432 with 1 Axes>"
      ]
     },
     "metadata": {},
     "output_type": "display_data"
    }
   ],
   "source": [
    "segment_1_ch= segment_1['churn'].value_counts().reset_index()\n",
    "\n",
    "plt.subplots( figsize=(12, 6))\n",
    "\n",
    "colors = [\"#a5c6d9\", \"#407692\"]\n",
    "plt.pie(data=segment_1_ch, labels= segment_1_ch['index'], x= segment_1_ch['churn'], autopct='%.1f%%',colors = colors)\n",
    "plt.title(\"Сегмент №1\")\n",
    "plt.legend(['неотточные', 'отточные'])\n",
    "\n",
    "plt.show()"
   ]
  },
  {
   "cell_type": "markdown",
   "metadata": {},
   "source": [
    "**Сегмент №2** Клиент в возрасте от 18 до 21 года, с баллами собственности 4 или 5"
   ]
  },
  {
   "cell_type": "code",
   "execution_count": 62,
   "metadata": {},
   "outputs": [],
   "source": [
    "segment_2 = data.query (\n",
    "    'age_group ==\"1\" and equity==4 or equity==5')"
   ]
  },
  {
   "cell_type": "code",
   "execution_count": 63,
   "metadata": {},
   "outputs": [
    {
     "name": "stdout",
     "output_type": "stream",
     "text": [
      "Объём сегмента №2: 1908\n",
      "Количество отточных клиентов: 578\n",
      "Уровень отточности: 30 %\n"
     ]
    }
   ],
   "source": [
    "print('Объём сегмента №2:',len(segment_2))\n",
    "print('Количество отточных клиентов:',len(segment_2.query('churn == 1')))\n",
    "print('Уровень отточности:',round((len(segment_2.query('churn == 1')))*100/(len(segment_2))),'%')"
   ]
  },
  {
   "cell_type": "code",
   "execution_count": 64,
   "metadata": {},
   "outputs": [
    {
     "data": {
      "image/png": "[encoded data removed]",
      "text/plain": [
       "<Figure size 864x432 with 1 Axes>"
      ]
     },
     "metadata": {},
     "output_type": "display_data"
    }
   ],
   "source": [
    "segment_2_ch= segment_2['churn'].value_counts().reset_index()\n",
    "\n",
    "plt.subplots( figsize=(12, 6))\n",
    "\n",
    "colors = [\"#a5c6d9\", \"#407692\"]\n",
    "plt.pie(data=segment_2_ch, labels= segment_2_ch['index'], x= segment_2_ch['churn'], autopct='%.1f%%',colors = colors)\n",
    "plt.title(\"Сегмент №2\")\n",
    "plt.legend(['неотточные', 'отточные'])\n",
    "\n",
    "plt.show()"
   ]
  },
  {
   "cell_type": "markdown",
   "metadata": {},
   "source": [
    "**Сегмент №3** Клиент в возрасте от 22 до 74 года, с баллами кредитного скоринга от 850 до 920  и 2 или 4 продуктами"
   ]
  },
  {
   "cell_type": "code",
   "execution_count": 65,
   "metadata": {},
   "outputs": [],
   "source": [
    "segment_3 = data.query ('age_group ==\"2\" and score >=850 and score <=920 and products==2 or products==4 ') \n",
    "    "
   ]
  },
  {
   "cell_type": "code",
   "execution_count": 66,
   "metadata": {},
   "outputs": [
    {
     "name": "stdout",
     "output_type": "stream",
     "text": [
      "Объём сегмента №3: 2361\n",
      "Количество отточных клиентов: 840\n",
      "Уровень отточности: 36 %\n"
     ]
    }
   ],
   "source": [
    "print('Объём сегмента №3:',len(segment_3))\n",
    "print('Количество отточных клиентов:',len(segment_3.query('churn == 1')))\n",
    "print('Уровень отточности:',round((len(segment_3.query('churn == 1')))/(len(segment_3))*100),'%')"
   ]
  },
  {
   "cell_type": "code",
   "execution_count": 67,
   "metadata": {},
   "outputs": [
    {
     "data": {
      "image/png": "[encoded data removed]",
      "text/plain": [
       "<Figure size 864x432 with 1 Axes>"
      ]
     },
     "metadata": {},
     "output_type": "display_data"
    }
   ],
   "source": [
    "segment_3_ch= segment_3['churn'].value_counts().reset_index()\n",
    "\n",
    "plt.subplots( figsize=(12, 6))\n",
    "\n",
    "colors = [\"#a5c6d9\", \"#407692\"]\n",
    "plt.pie(data=segment_3_ch, labels= segment_3_ch['index'], x= segment_3_ch['churn'], autopct='%.1f%%',colors = colors)\n",
    "plt.title(\"Сегмент №3\")\n",
    "plt.legend(['неотточные', 'отточные'])\n",
    "\n",
    "plt.show()"
   ]
  },
  {
   "cell_type": "markdown",
   "metadata": {},
   "source": [
    "## Итговый вывод"
   ]
  },
  {
   "cell_type": "markdown",
   "metadata": {},
   "source": [
    "На основе показателей выделели следующие сегменты:\n",
    "    \n",
    "**Сегмент №1**\n",
    "\n",
    "* Пол: мужчина\n",
    "* Город: Ярославль\n",
    "* Кредитная карта: есть/нет\n",
    "* Активность: активный \n",
    "* Продукты: от 1 до 5 \n",
    "* Баллы собственности: 0 до 9\n",
    "* Возраст: от 18 до 86  лет\n",
    "* Баллы кредитного скоринга: от 650 до 1000\n",
    "\n",
    "*Рекомендации: предложить кешбэк для товаров, которые чаще покупают мужчины, продумать зарплатные программы для предприятий в Ярославле*\n",
    "\n",
    "    \n",
    "**Сегмент №2**\n",
    "\n",
    "* Пол: мужчина/женщина \n",
    "* Город: Ярославль/Рыбинск/Ростов\n",
    "* Кредитная карта: есть/нет\n",
    "* Активность: активный/не активный \n",
    "* Продукты: от 1 до 5 \n",
    "* Баллы собственности: 4/5\n",
    "* Возраст: от 18 до 21 года\n",
    "* Баллы кредитного скоринга: от 650 до 1000\n",
    "\n",
    "*Рекомендации:  предложить льготы для студентов*\n",
    "    \n",
    "**Сегмент №3**\n",
    "\n",
    "* Пол: мужчина/женщина \n",
    "* Город: Ярославль/Рыбинск/Ростов\n",
    "* Кредитная карта: есть/нет\n",
    "* Активность: активный/не активный \n",
    "* Продукты: 2/4 \n",
    "* Баллы собственности: от 0 до 9 \n",
    "* Возраст: от 22 до 74\n",
    "* Баллы кредитного скоринга: от 850 до 920\n",
    "\n",
    "*Рекомендации: предложить льготы для клиентов пенсионного возраста, предложить более выгодные условия по кредиту*\n"
   ]
  }
 ],
 "metadata": {
  "ExecuteTimeLog": [
   {
    "duration": 796,
    "start_time": "2023-11-16T02:59:55.912Z"
   },
   {
    "duration": 85,
    "start_time": "2023-11-16T03:00:38.151Z"
   },
   {
    "duration": 95,
    "start_time": "2023-11-16T03:01:45.862Z"
   },
   {
    "duration": 89,
    "start_time": "2023-11-16T03:03:01.573Z"
   },
   {
    "duration": 69,
    "start_time": "2023-11-16T03:03:07.791Z"
   },
   {
    "duration": 147,
    "start_time": "2023-11-16T03:05:25.788Z"
   },
   {
    "duration": 12,
    "start_time": "2023-11-16T03:05:42.147Z"
   },
   {
    "duration": 24,
    "start_time": "2023-11-16T03:05:49.521Z"
   },
   {
    "duration": 12,
    "start_time": "2023-11-16T03:06:37.159Z"
   },
   {
    "duration": 7,
    "start_time": "2023-11-16T03:09:37.373Z"
   },
   {
    "duration": 702,
    "start_time": "2023-11-16T03:12:44.228Z"
   },
   {
    "duration": 39,
    "start_time": "2023-11-16T03:12:44.932Z"
   },
   {
    "duration": 15,
    "start_time": "2023-11-16T03:12:44.972Z"
   },
   {
    "duration": 10,
    "start_time": "2023-11-16T03:12:44.989Z"
   },
   {
    "duration": 6,
    "start_time": "2023-11-16T03:12:45.001Z"
   },
   {
    "duration": 116,
    "start_time": "2023-11-16T03:12:45.008Z"
   },
   {
    "duration": 6,
    "start_time": "2023-11-16T03:12:45.126Z"
   },
   {
    "duration": 15,
    "start_time": "2023-11-16T03:12:45.134Z"
   },
   {
    "duration": 22,
    "start_time": "2023-11-16T03:12:45.150Z"
   },
   {
    "duration": 18,
    "start_time": "2023-11-16T03:14:23.508Z"
   },
   {
    "duration": 22,
    "start_time": "2023-11-16T03:15:13.062Z"
   },
   {
    "duration": 1558,
    "start_time": "2023-11-16T03:16:51.125Z"
   },
   {
    "duration": 13,
    "start_time": "2023-11-16T03:17:43.054Z"
   },
   {
    "duration": 15,
    "start_time": "2023-11-16T03:21:20.454Z"
   },
   {
    "duration": 30,
    "start_time": "2023-11-16T03:21:25.595Z"
   },
   {
    "duration": 9,
    "start_time": "2023-11-16T03:22:13.260Z"
   },
   {
    "duration": 1393,
    "start_time": "2023-11-16T03:22:32.859Z"
   },
   {
    "duration": 12,
    "start_time": "2023-11-16T03:24:49.545Z"
   },
   {
    "duration": 4,
    "start_time": "2023-11-16T03:26:19.049Z"
   },
   {
    "duration": 4,
    "start_time": "2023-11-16T03:27:59.932Z"
   },
   {
    "duration": 645,
    "start_time": "2023-11-16T03:28:28.687Z"
   },
   {
    "duration": 38,
    "start_time": "2023-11-16T03:28:29.334Z"
   },
   {
    "duration": 13,
    "start_time": "2023-11-16T03:28:29.374Z"
   },
   {
    "duration": 10,
    "start_time": "2023-11-16T03:28:29.389Z"
   },
   {
    "duration": 5,
    "start_time": "2023-11-16T03:28:29.400Z"
   },
   {
    "duration": 6,
    "start_time": "2023-11-16T03:28:29.407Z"
   },
   {
    "duration": 21,
    "start_time": "2023-11-16T03:28:29.414Z"
   },
   {
    "duration": 36,
    "start_time": "2023-11-16T03:28:29.436Z"
   },
   {
    "duration": 14,
    "start_time": "2023-11-16T03:28:29.474Z"
   },
   {
    "duration": 4,
    "start_time": "2023-11-16T03:28:29.490Z"
   },
   {
    "duration": 14,
    "start_time": "2023-11-16T03:28:29.495Z"
   },
   {
    "duration": 5,
    "start_time": "2023-11-16T03:28:29.510Z"
   },
   {
    "duration": 7,
    "start_time": "2023-11-16T03:28:29.516Z"
   },
   {
    "duration": 39,
    "start_time": "2023-11-16T03:28:29.524Z"
   },
   {
    "duration": 20,
    "start_time": "2023-11-16T03:28:29.565Z"
   },
   {
    "duration": 10,
    "start_time": "2023-11-16T03:29:34.519Z"
   },
   {
    "duration": 6,
    "start_time": "2023-11-16T03:31:31.936Z"
   },
   {
    "duration": 4,
    "start_time": "2023-11-16T03:31:34.619Z"
   },
   {
    "duration": 29,
    "start_time": "2023-11-16T03:31:57.162Z"
   },
   {
    "duration": 26,
    "start_time": "2023-11-16T03:32:35.493Z"
   },
   {
    "duration": 8,
    "start_time": "2023-11-16T03:33:00.503Z"
   },
   {
    "duration": 10,
    "start_time": "2023-11-16T03:34:00.866Z"
   },
   {
    "duration": 26,
    "start_time": "2023-11-16T03:34:11.285Z"
   },
   {
    "duration": 70,
    "start_time": "2023-11-16T03:34:37.612Z"
   },
   {
    "duration": 22,
    "start_time": "2023-11-16T03:34:41.941Z"
   },
   {
    "duration": 628,
    "start_time": "2023-11-16T03:37:38.411Z"
   },
   {
    "duration": 41,
    "start_time": "2023-11-16T03:37:39.041Z"
   },
   {
    "duration": 17,
    "start_time": "2023-11-16T03:37:39.084Z"
   },
   {
    "duration": 12,
    "start_time": "2023-11-16T03:37:39.103Z"
   },
   {
    "duration": 17,
    "start_time": "2023-11-16T03:37:39.116Z"
   },
   {
    "duration": 28,
    "start_time": "2023-11-16T03:37:39.134Z"
   },
   {
    "duration": 4,
    "start_time": "2023-11-16T03:37:39.164Z"
   },
   {
    "duration": 7,
    "start_time": "2023-11-16T03:37:39.170Z"
   },
   {
    "duration": 18,
    "start_time": "2023-11-16T03:37:39.178Z"
   },
   {
    "duration": 13,
    "start_time": "2023-11-16T03:37:39.198Z"
   },
   {
    "duration": 64,
    "start_time": "2023-11-16T03:37:39.212Z"
   },
   {
    "duration": 47,
    "start_time": "2023-11-16T03:37:39.278Z"
   },
   {
    "duration": 8,
    "start_time": "2023-11-16T03:37:39.326Z"
   },
   {
    "duration": 19,
    "start_time": "2023-11-16T03:37:39.335Z"
   },
   {
    "duration": 7,
    "start_time": "2023-11-16T03:37:39.355Z"
   },
   {
    "duration": 28,
    "start_time": "2023-11-16T03:37:39.363Z"
   },
   {
    "duration": 8,
    "start_time": "2023-11-16T03:37:39.392Z"
   },
   {
    "duration": 46,
    "start_time": "2023-11-16T03:37:39.401Z"
   },
   {
    "duration": 19,
    "start_time": "2023-11-16T03:37:39.449Z"
   },
   {
    "duration": 664,
    "start_time": "2023-11-16T03:41:21.215Z"
   },
   {
    "duration": 39,
    "start_time": "2023-11-16T03:41:21.880Z"
   },
   {
    "duration": 16,
    "start_time": "2023-11-16T03:41:21.920Z"
   },
   {
    "duration": 19,
    "start_time": "2023-11-16T03:41:21.937Z"
   },
   {
    "duration": 6,
    "start_time": "2023-11-16T03:41:21.957Z"
   },
   {
    "duration": 18,
    "start_time": "2023-11-16T03:41:21.964Z"
   },
   {
    "duration": 12,
    "start_time": "2023-11-16T03:41:21.983Z"
   },
   {
    "duration": 3,
    "start_time": "2023-11-16T03:41:21.996Z"
   },
   {
    "duration": 3,
    "start_time": "2023-11-16T03:41:22.000Z"
   },
   {
    "duration": 4,
    "start_time": "2023-11-16T03:41:22.005Z"
   },
   {
    "duration": 3,
    "start_time": "2023-11-16T03:41:22.011Z"
   },
   {
    "duration": 46,
    "start_time": "2023-11-16T03:41:22.015Z"
   },
   {
    "duration": 3,
    "start_time": "2023-11-16T03:41:22.063Z"
   },
   {
    "duration": 10,
    "start_time": "2023-11-16T03:41:22.068Z"
   },
   {
    "duration": 4,
    "start_time": "2023-11-16T03:41:22.079Z"
   },
   {
    "duration": 27,
    "start_time": "2023-11-16T03:41:22.084Z"
   },
   {
    "duration": 659,
    "start_time": "2023-11-16T03:42:06.490Z"
   },
   {
    "duration": 40,
    "start_time": "2023-11-16T03:42:07.152Z"
   },
   {
    "duration": 14,
    "start_time": "2023-11-16T03:42:07.194Z"
   },
   {
    "duration": 10,
    "start_time": "2023-11-16T03:42:07.210Z"
   },
   {
    "duration": 6,
    "start_time": "2023-11-16T03:42:07.221Z"
   },
   {
    "duration": 11,
    "start_time": "2023-11-16T03:42:07.228Z"
   },
   {
    "duration": 3,
    "start_time": "2023-11-16T03:42:07.240Z"
   },
   {
    "duration": 3,
    "start_time": "2023-11-16T03:42:07.252Z"
   },
   {
    "duration": 13,
    "start_time": "2023-11-16T03:42:07.256Z"
   },
   {
    "duration": 4,
    "start_time": "2023-11-16T03:42:07.271Z"
   },
   {
    "duration": 16,
    "start_time": "2023-11-16T03:42:07.276Z"
   },
   {
    "duration": 5,
    "start_time": "2023-11-16T03:42:07.294Z"
   },
   {
    "duration": 12,
    "start_time": "2023-11-16T03:42:07.300Z"
   },
   {
    "duration": 5,
    "start_time": "2023-11-16T03:42:07.314Z"
   },
   {
    "duration": 31,
    "start_time": "2023-11-16T03:42:07.351Z"
   },
   {
    "duration": 13,
    "start_time": "2023-11-16T03:43:09.292Z"
   },
   {
    "duration": 6,
    "start_time": "2023-11-16T03:44:56.366Z"
   },
   {
    "duration": 19,
    "start_time": "2023-11-16T03:45:57.198Z"
   },
   {
    "duration": 76,
    "start_time": "2023-11-16T03:50:05.060Z"
   },
   {
    "duration": 10,
    "start_time": "2023-11-16T03:50:51.698Z"
   },
   {
    "duration": 486,
    "start_time": "2023-11-16T03:50:59.400Z"
   },
   {
    "duration": 259,
    "start_time": "2023-11-16T03:51:02.604Z"
   },
   {
    "duration": 1188,
    "start_time": "2023-11-16T03:52:15.375Z"
   },
   {
    "duration": 40,
    "start_time": "2023-11-16T03:52:16.564Z"
   },
   {
    "duration": 15,
    "start_time": "2023-11-16T03:52:16.606Z"
   },
   {
    "duration": 21,
    "start_time": "2023-11-16T03:52:16.623Z"
   },
   {
    "duration": 7,
    "start_time": "2023-11-16T03:52:16.646Z"
   },
   {
    "duration": 13,
    "start_time": "2023-11-16T03:52:16.655Z"
   },
   {
    "duration": 4,
    "start_time": "2023-11-16T03:52:16.669Z"
   },
   {
    "duration": 4,
    "start_time": "2023-11-16T03:52:16.675Z"
   },
   {
    "duration": 11,
    "start_time": "2023-11-16T03:52:16.680Z"
   },
   {
    "duration": 4,
    "start_time": "2023-11-16T03:52:16.694Z"
   },
   {
    "duration": 12,
    "start_time": "2023-11-16T03:52:16.699Z"
   },
   {
    "duration": 15,
    "start_time": "2023-11-16T03:52:16.713Z"
   },
   {
    "duration": 23,
    "start_time": "2023-11-16T03:52:16.751Z"
   },
   {
    "duration": 12,
    "start_time": "2023-11-16T03:52:16.775Z"
   },
   {
    "duration": 34,
    "start_time": "2023-11-16T03:52:16.788Z"
   },
   {
    "duration": 270,
    "start_time": "2023-11-16T03:52:16.823Z"
   },
   {
    "duration": 118,
    "start_time": "2023-11-16T03:55:52.729Z"
   },
   {
    "duration": 98,
    "start_time": "2023-11-16T03:59:39.172Z"
   },
   {
    "duration": 5,
    "start_time": "2023-11-16T04:01:32.051Z"
   },
   {
    "duration": 4,
    "start_time": "2023-11-16T04:02:05.594Z"
   },
   {
    "duration": 99,
    "start_time": "2023-11-16T04:02:33.391Z"
   },
   {
    "duration": 5,
    "start_time": "2023-11-16T04:02:53.698Z"
   },
   {
    "duration": 1215,
    "start_time": "2023-11-16T04:04:04.237Z"
   },
   {
    "duration": 40,
    "start_time": "2023-11-16T04:04:05.454Z"
   },
   {
    "duration": 17,
    "start_time": "2023-11-16T04:04:05.495Z"
   },
   {
    "duration": 12,
    "start_time": "2023-11-16T04:04:05.514Z"
   },
   {
    "duration": 9,
    "start_time": "2023-11-16T04:04:05.527Z"
   },
   {
    "duration": 26,
    "start_time": "2023-11-16T04:04:05.538Z"
   },
   {
    "duration": 4,
    "start_time": "2023-11-16T04:04:05.566Z"
   },
   {
    "duration": 10,
    "start_time": "2023-11-16T04:04:05.572Z"
   },
   {
    "duration": 24,
    "start_time": "2023-11-16T04:04:05.583Z"
   },
   {
    "duration": 12,
    "start_time": "2023-11-16T04:04:05.609Z"
   },
   {
    "duration": 19,
    "start_time": "2023-11-16T04:04:05.622Z"
   },
   {
    "duration": 7,
    "start_time": "2023-11-16T04:04:05.642Z"
   },
   {
    "duration": 16,
    "start_time": "2023-11-16T04:04:05.650Z"
   },
   {
    "duration": 3,
    "start_time": "2023-11-16T04:04:05.668Z"
   },
   {
    "duration": 21,
    "start_time": "2023-11-16T04:04:05.673Z"
   },
   {
    "duration": 114,
    "start_time": "2023-11-16T04:04:05.695Z"
   },
   {
    "duration": 5,
    "start_time": "2023-11-16T04:04:05.810Z"
   },
   {
    "duration": 6,
    "start_time": "2023-11-16T04:04:05.816Z"
   },
   {
    "duration": 112,
    "start_time": "2023-11-16T04:04:05.823Z"
   },
   {
    "duration": 246,
    "start_time": "2023-11-16T04:04:05.937Z"
   },
   {
    "duration": 97,
    "start_time": "2023-11-16T04:05:45.545Z"
   },
   {
    "duration": 100,
    "start_time": "2023-11-16T04:05:55.172Z"
   },
   {
    "duration": 9,
    "start_time": "2023-11-16T04:07:51.885Z"
   },
   {
    "duration": 103,
    "start_time": "2023-11-16T04:09:17.572Z"
   },
   {
    "duration": 244,
    "start_time": "2023-11-16T04:10:35.499Z"
   },
   {
    "duration": 87,
    "start_time": "2023-11-16T04:11:41.886Z"
   },
   {
    "duration": 74,
    "start_time": "2023-11-16T04:11:52.021Z"
   },
   {
    "duration": 108,
    "start_time": "2023-11-16T04:12:07.418Z"
   },
   {
    "duration": 96,
    "start_time": "2023-11-16T04:12:38.424Z"
   },
   {
    "duration": 77,
    "start_time": "2023-11-16T04:15:50.431Z"
   },
   {
    "duration": 75,
    "start_time": "2023-11-16T04:16:04.847Z"
   },
   {
    "duration": 86,
    "start_time": "2023-11-16T04:16:09.127Z"
   },
   {
    "duration": 86,
    "start_time": "2023-11-16T04:16:18.520Z"
   },
   {
    "duration": 168,
    "start_time": "2023-11-16T04:18:22.372Z"
   },
   {
    "duration": 1116,
    "start_time": "2023-11-16T04:21:51.907Z"
   },
   {
    "duration": 40,
    "start_time": "2023-11-16T04:21:53.025Z"
   },
   {
    "duration": 13,
    "start_time": "2023-11-16T04:21:53.066Z"
   },
   {
    "duration": 10,
    "start_time": "2023-11-16T04:21:53.081Z"
   },
   {
    "duration": 6,
    "start_time": "2023-11-16T04:21:53.092Z"
   },
   {
    "duration": 18,
    "start_time": "2023-11-16T04:21:53.099Z"
   },
   {
    "duration": 8,
    "start_time": "2023-11-16T04:21:53.118Z"
   },
   {
    "duration": 10,
    "start_time": "2023-11-16T04:21:53.127Z"
   },
   {
    "duration": 5,
    "start_time": "2023-11-16T04:21:53.151Z"
   },
   {
    "duration": 3,
    "start_time": "2023-11-16T04:21:53.159Z"
   },
   {
    "duration": 11,
    "start_time": "2023-11-16T04:21:53.163Z"
   },
   {
    "duration": 4,
    "start_time": "2023-11-16T04:21:53.175Z"
   },
   {
    "duration": 10,
    "start_time": "2023-11-16T04:21:53.180Z"
   },
   {
    "duration": 4,
    "start_time": "2023-11-16T04:21:53.191Z"
   },
   {
    "duration": 56,
    "start_time": "2023-11-16T04:21:53.197Z"
   },
   {
    "duration": 122,
    "start_time": "2023-11-16T04:21:53.255Z"
   },
   {
    "duration": 4,
    "start_time": "2023-11-16T04:21:53.379Z"
   },
   {
    "duration": 4,
    "start_time": "2023-11-16T04:21:53.385Z"
   },
   {
    "duration": 123,
    "start_time": "2023-11-16T04:21:53.391Z"
   },
   {
    "duration": 269,
    "start_time": "2023-11-16T04:21:53.515Z"
   },
   {
    "duration": 246,
    "start_time": "2023-11-16T04:22:18.133Z"
   },
   {
    "duration": 18,
    "start_time": "2023-11-16T04:22:57.593Z"
   },
   {
    "duration": 1162,
    "start_time": "2023-11-16T04:23:39.211Z"
   },
   {
    "duration": 40,
    "start_time": "2023-11-16T04:23:40.375Z"
   },
   {
    "duration": 14,
    "start_time": "2023-11-16T04:23:40.417Z"
   },
   {
    "duration": 11,
    "start_time": "2023-11-16T04:23:40.432Z"
   },
   {
    "duration": 5,
    "start_time": "2023-11-16T04:23:40.445Z"
   },
   {
    "duration": 19,
    "start_time": "2023-11-16T04:23:40.451Z"
   },
   {
    "duration": 3,
    "start_time": "2023-11-16T04:23:40.472Z"
   },
   {
    "duration": 3,
    "start_time": "2023-11-16T04:23:40.476Z"
   },
   {
    "duration": 4,
    "start_time": "2023-11-16T04:23:40.481Z"
   },
   {
    "duration": 4,
    "start_time": "2023-11-16T04:23:40.486Z"
   },
   {
    "duration": 11,
    "start_time": "2023-11-16T04:23:40.492Z"
   },
   {
    "duration": 4,
    "start_time": "2023-11-16T04:23:40.504Z"
   },
   {
    "duration": 45,
    "start_time": "2023-11-16T04:23:40.509Z"
   },
   {
    "duration": 4,
    "start_time": "2023-11-16T04:23:40.556Z"
   },
   {
    "duration": 20,
    "start_time": "2023-11-16T04:23:40.561Z"
   },
   {
    "duration": 283,
    "start_time": "2023-11-16T04:23:40.583Z"
   },
   {
    "duration": 112,
    "start_time": "2023-11-16T04:23:40.868Z"
   },
   {
    "duration": 4,
    "start_time": "2023-11-16T04:23:40.982Z"
   },
   {
    "duration": 7,
    "start_time": "2023-11-16T04:23:40.987Z"
   },
   {
    "duration": 119,
    "start_time": "2023-11-16T04:23:40.996Z"
   },
   {
    "duration": 259,
    "start_time": "2023-11-16T04:24:33.947Z"
   },
   {
    "duration": 301,
    "start_time": "2023-11-16T04:24:45.780Z"
   },
   {
    "duration": 1133,
    "start_time": "2023-11-16T04:26:52.005Z"
   },
   {
    "duration": 41,
    "start_time": "2023-11-16T04:26:53.139Z"
   },
   {
    "duration": 14,
    "start_time": "2023-11-16T04:26:53.182Z"
   },
   {
    "duration": 11,
    "start_time": "2023-11-16T04:26:53.197Z"
   },
   {
    "duration": 6,
    "start_time": "2023-11-16T04:26:53.209Z"
   },
   {
    "duration": 11,
    "start_time": "2023-11-16T04:26:53.216Z"
   },
   {
    "duration": 3,
    "start_time": "2023-11-16T04:26:53.228Z"
   },
   {
    "duration": 7,
    "start_time": "2023-11-16T04:26:53.232Z"
   },
   {
    "duration": 4,
    "start_time": "2023-11-16T04:26:53.252Z"
   },
   {
    "duration": 5,
    "start_time": "2023-11-16T04:26:53.258Z"
   },
   {
    "duration": 11,
    "start_time": "2023-11-16T04:26:53.264Z"
   },
   {
    "duration": 4,
    "start_time": "2023-11-16T04:26:53.276Z"
   },
   {
    "duration": 10,
    "start_time": "2023-11-16T04:26:53.281Z"
   },
   {
    "duration": 5,
    "start_time": "2023-11-16T04:26:53.292Z"
   },
   {
    "duration": 20,
    "start_time": "2023-11-16T04:26:53.298Z"
   },
   {
    "duration": 265,
    "start_time": "2023-11-16T04:26:53.352Z"
   },
   {
    "duration": 9,
    "start_time": "2023-11-16T04:26:53.618Z"
   },
   {
    "duration": 13,
    "start_time": "2023-11-16T04:26:53.628Z"
   },
   {
    "duration": 9,
    "start_time": "2023-11-16T04:26:53.651Z"
   },
   {
    "duration": 10,
    "start_time": "2023-11-16T04:29:05.738Z"
   },
   {
    "duration": 99,
    "start_time": "2023-11-16T04:29:41.680Z"
   },
   {
    "duration": 1182,
    "start_time": "2023-11-16T04:30:00.479Z"
   },
   {
    "duration": 39,
    "start_time": "2023-11-16T04:30:01.663Z"
   },
   {
    "duration": 22,
    "start_time": "2023-11-16T04:30:01.703Z"
   },
   {
    "duration": 28,
    "start_time": "2023-11-16T04:30:01.727Z"
   },
   {
    "duration": 26,
    "start_time": "2023-11-16T04:30:01.757Z"
   },
   {
    "duration": 33,
    "start_time": "2023-11-16T04:30:01.784Z"
   },
   {
    "duration": 45,
    "start_time": "2023-11-16T04:30:01.819Z"
   },
   {
    "duration": 26,
    "start_time": "2023-11-16T04:30:01.866Z"
   },
   {
    "duration": 28,
    "start_time": "2023-11-16T04:30:01.893Z"
   },
   {
    "duration": 30,
    "start_time": "2023-11-16T04:30:01.923Z"
   },
   {
    "duration": 83,
    "start_time": "2023-11-16T04:30:01.954Z"
   },
   {
    "duration": 36,
    "start_time": "2023-11-16T04:30:02.039Z"
   },
   {
    "duration": 36,
    "start_time": "2023-11-16T04:30:02.076Z"
   },
   {
    "duration": 25,
    "start_time": "2023-11-16T04:30:02.114Z"
   },
   {
    "duration": 33,
    "start_time": "2023-11-16T04:30:02.141Z"
   },
   {
    "duration": 142,
    "start_time": "2023-11-16T04:30:02.175Z"
   },
   {
    "duration": 8,
    "start_time": "2023-11-16T04:30:02.318Z"
   },
   {
    "duration": 45,
    "start_time": "2023-11-16T04:30:02.328Z"
   },
   {
    "duration": 10,
    "start_time": "2023-11-16T04:32:38.341Z"
   },
   {
    "duration": 7,
    "start_time": "2023-11-16T04:32:50.238Z"
   },
   {
    "duration": 9,
    "start_time": "2023-11-16T04:32:57.025Z"
   },
   {
    "duration": 7,
    "start_time": "2023-11-16T04:33:32.054Z"
   },
   {
    "duration": 8,
    "start_time": "2023-11-16T04:33:41.301Z"
   },
   {
    "duration": 101,
    "start_time": "2023-11-16T04:34:11.462Z"
   },
   {
    "duration": 108,
    "start_time": "2023-11-16T04:35:14.134Z"
   },
   {
    "duration": 1170,
    "start_time": "2023-11-16T04:36:18.883Z"
   },
   {
    "duration": 41,
    "start_time": "2023-11-16T04:36:20.055Z"
   },
   {
    "duration": 16,
    "start_time": "2023-11-16T04:36:20.097Z"
   },
   {
    "duration": 11,
    "start_time": "2023-11-16T04:36:20.115Z"
   },
   {
    "duration": 7,
    "start_time": "2023-11-16T04:36:20.127Z"
   },
   {
    "duration": 18,
    "start_time": "2023-11-16T04:36:20.135Z"
   },
   {
    "duration": 3,
    "start_time": "2023-11-16T04:36:20.154Z"
   },
   {
    "duration": 8,
    "start_time": "2023-11-16T04:36:20.159Z"
   },
   {
    "duration": 4,
    "start_time": "2023-11-16T04:36:20.168Z"
   },
   {
    "duration": 9,
    "start_time": "2023-11-16T04:36:20.174Z"
   },
   {
    "duration": 4,
    "start_time": "2023-11-16T04:36:20.184Z"
   },
   {
    "duration": 18,
    "start_time": "2023-11-16T04:36:20.190Z"
   },
   {
    "duration": 5,
    "start_time": "2023-11-16T04:36:20.210Z"
   },
   {
    "duration": 42,
    "start_time": "2023-11-16T04:36:20.217Z"
   },
   {
    "duration": 4,
    "start_time": "2023-11-16T04:36:20.261Z"
   },
   {
    "duration": 25,
    "start_time": "2023-11-16T04:36:20.266Z"
   },
   {
    "duration": 142,
    "start_time": "2023-11-16T04:36:20.292Z"
   },
   {
    "duration": 19,
    "start_time": "2023-11-16T04:36:20.436Z"
   },
   {
    "duration": 5,
    "start_time": "2023-11-16T04:36:20.457Z"
   },
   {
    "duration": 8,
    "start_time": "2023-11-16T04:36:20.463Z"
   },
   {
    "duration": 137,
    "start_time": "2023-11-16T04:36:20.472Z"
   },
   {
    "duration": 1226,
    "start_time": "2023-11-16T04:41:54.334Z"
   },
   {
    "duration": 39,
    "start_time": "2023-11-16T04:41:55.562Z"
   },
   {
    "duration": 16,
    "start_time": "2023-11-16T04:41:55.602Z"
   },
   {
    "duration": 11,
    "start_time": "2023-11-16T04:41:55.620Z"
   },
   {
    "duration": 6,
    "start_time": "2023-11-16T04:41:55.632Z"
   },
   {
    "duration": 14,
    "start_time": "2023-11-16T04:41:55.640Z"
   },
   {
    "duration": 29,
    "start_time": "2023-11-16T04:41:55.655Z"
   },
   {
    "duration": 3,
    "start_time": "2023-11-16T04:41:55.685Z"
   },
   {
    "duration": 4,
    "start_time": "2023-11-16T04:41:55.689Z"
   },
   {
    "duration": 3,
    "start_time": "2023-11-16T04:41:55.695Z"
   },
   {
    "duration": 4,
    "start_time": "2023-11-16T04:41:55.700Z"
   },
   {
    "duration": 4,
    "start_time": "2023-11-16T04:41:55.706Z"
   },
   {
    "duration": 42,
    "start_time": "2023-11-16T04:41:55.712Z"
   },
   {
    "duration": 5,
    "start_time": "2023-11-16T04:41:55.756Z"
   },
   {
    "duration": 15,
    "start_time": "2023-11-16T04:41:55.763Z"
   },
   {
    "duration": 8,
    "start_time": "2023-11-16T04:41:55.780Z"
   },
   {
    "duration": 33,
    "start_time": "2023-11-16T04:41:55.790Z"
   },
   {
    "duration": 159,
    "start_time": "2023-11-16T04:41:55.825Z"
   },
   {
    "duration": 9,
    "start_time": "2023-11-16T04:41:55.985Z"
   },
   {
    "duration": 6,
    "start_time": "2023-11-16T04:41:55.996Z"
   },
   {
    "duration": 16,
    "start_time": "2023-11-16T04:41:56.004Z"
   },
   {
    "duration": 121,
    "start_time": "2023-11-16T04:41:56.021Z"
   },
   {
    "duration": 5,
    "start_time": "2023-11-16T04:42:58.272Z"
   },
   {
    "duration": 83,
    "start_time": "2023-11-16T04:43:12.317Z"
   },
   {
    "duration": 103,
    "start_time": "2023-11-16T04:43:15.192Z"
   },
   {
    "duration": 1191,
    "start_time": "2023-11-16T04:43:25.011Z"
   },
   {
    "duration": 41,
    "start_time": "2023-11-16T04:43:26.204Z"
   },
   {
    "duration": 15,
    "start_time": "2023-11-16T04:43:26.247Z"
   },
   {
    "duration": 11,
    "start_time": "2023-11-16T04:43:26.264Z"
   },
   {
    "duration": 6,
    "start_time": "2023-11-16T04:43:26.277Z"
   },
   {
    "duration": 12,
    "start_time": "2023-11-16T04:43:26.284Z"
   },
   {
    "duration": 3,
    "start_time": "2023-11-16T04:43:26.297Z"
   },
   {
    "duration": 5,
    "start_time": "2023-11-16T04:43:26.301Z"
   },
   {
    "duration": 5,
    "start_time": "2023-11-16T04:43:26.307Z"
   },
   {
    "duration": 5,
    "start_time": "2023-11-16T04:43:26.353Z"
   },
   {
    "duration": 16,
    "start_time": "2023-11-16T04:43:26.360Z"
   },
   {
    "duration": 4,
    "start_time": "2023-11-16T04:43:26.378Z"
   },
   {
    "duration": 10,
    "start_time": "2023-11-16T04:43:26.383Z"
   },
   {
    "duration": 4,
    "start_time": "2023-11-16T04:43:26.395Z"
   },
   {
    "duration": 58,
    "start_time": "2023-11-16T04:43:26.401Z"
   },
   {
    "duration": 116,
    "start_time": "2023-11-16T04:43:26.461Z"
   },
   {
    "duration": 8,
    "start_time": "2023-11-16T04:43:26.578Z"
   },
   {
    "duration": 11,
    "start_time": "2023-11-16T04:43:26.587Z"
   },
   {
    "duration": 9,
    "start_time": "2023-11-16T04:43:26.600Z"
   },
   {
    "duration": 118,
    "start_time": "2023-11-16T04:43:26.610Z"
   },
   {
    "duration": 83,
    "start_time": "2023-11-16T04:46:05.662Z"
   },
   {
    "duration": 4,
    "start_time": "2023-11-16T04:46:16.159Z"
   },
   {
    "duration": 4,
    "start_time": "2023-11-16T04:46:34.502Z"
   },
   {
    "duration": 5,
    "start_time": "2023-11-16T04:47:08.800Z"
   },
   {
    "duration": 4,
    "start_time": "2023-11-16T04:47:16.820Z"
   },
   {
    "duration": 4,
    "start_time": "2023-11-16T04:47:28.588Z"
   },
   {
    "duration": 4,
    "start_time": "2023-11-16T04:47:35.199Z"
   },
   {
    "duration": 4,
    "start_time": "2023-11-16T04:47:51.924Z"
   },
   {
    "duration": 9,
    "start_time": "2023-11-16T04:52:36.028Z"
   },
   {
    "duration": 159,
    "start_time": "2023-11-16T04:54:37.732Z"
   },
   {
    "duration": 6,
    "start_time": "2023-11-16T04:55:05.505Z"
   },
   {
    "duration": 8,
    "start_time": "2023-11-16T04:55:11.756Z"
   },
   {
    "duration": 13,
    "start_time": "2023-11-16T04:55:27.676Z"
   },
   {
    "duration": 14,
    "start_time": "2023-11-16T04:55:43.276Z"
   },
   {
    "duration": 13,
    "start_time": "2023-11-16T04:56:13.196Z"
   },
   {
    "duration": 109,
    "start_time": "2023-11-16T04:56:26.210Z"
   },
   {
    "duration": 15,
    "start_time": "2023-11-16T04:56:40.808Z"
   },
   {
    "duration": 14,
    "start_time": "2023-11-16T04:57:07.868Z"
   },
   {
    "duration": 103,
    "start_time": "2023-11-16T04:58:44.119Z"
   },
   {
    "duration": 9,
    "start_time": "2023-11-16T04:58:48.104Z"
   },
   {
    "duration": 3,
    "start_time": "2023-11-16T04:59:28.391Z"
   },
   {
    "duration": 5,
    "start_time": "2023-11-16T04:59:34.727Z"
   },
   {
    "duration": 4,
    "start_time": "2023-11-16T05:00:05.143Z"
   },
   {
    "duration": 4,
    "start_time": "2023-11-16T05:00:29.293Z"
   },
   {
    "duration": 5,
    "start_time": "2023-11-16T05:02:07.025Z"
   },
   {
    "duration": 17,
    "start_time": "2023-11-16T05:02:16.480Z"
   },
   {
    "duration": 3,
    "start_time": "2023-11-16T05:02:27.142Z"
   },
   {
    "duration": 3,
    "start_time": "2023-11-16T05:02:52.733Z"
   },
   {
    "duration": 4,
    "start_time": "2023-11-16T05:03:08.182Z"
   },
   {
    "duration": 13,
    "start_time": "2023-11-16T05:04:55.472Z"
   },
   {
    "duration": 4,
    "start_time": "2023-11-16T06:07:29.831Z"
   },
   {
    "duration": 11,
    "start_time": "2023-11-16T06:08:43.130Z"
   },
   {
    "duration": 13,
    "start_time": "2023-11-16T06:10:42.072Z"
   },
   {
    "duration": 10,
    "start_time": "2023-11-16T06:10:53.774Z"
   },
   {
    "duration": 100,
    "start_time": "2023-11-16T06:12:41.790Z"
   },
   {
    "duration": 5,
    "start_time": "2023-11-16T06:12:45.182Z"
   },
   {
    "duration": 11,
    "start_time": "2023-11-16T06:12:46.981Z"
   },
   {
    "duration": 14,
    "start_time": "2023-11-16T06:18:11.526Z"
   },
   {
    "duration": 1620,
    "start_time": "2023-11-16T06:18:20.445Z"
   },
   {
    "duration": 346,
    "start_time": "2023-11-16T06:18:28.430Z"
   },
   {
    "duration": 174,
    "start_time": "2023-11-16T06:21:03.356Z"
   },
   {
    "duration": 22,
    "start_time": "2023-11-16T06:21:13.224Z"
   },
   {
    "duration": 31,
    "start_time": "2023-11-16T06:22:03.374Z"
   },
   {
    "duration": 394,
    "start_time": "2023-11-16T06:22:23.036Z"
   },
   {
    "duration": 37,
    "start_time": "2023-11-16T06:22:38.259Z"
   },
   {
    "duration": 13,
    "start_time": "2023-11-16T06:28:00.812Z"
   },
   {
    "duration": 35,
    "start_time": "2023-11-16T06:28:09.152Z"
   },
   {
    "duration": 14,
    "start_time": "2023-11-16T06:28:57.210Z"
   },
   {
    "duration": 4,
    "start_time": "2023-11-16T06:29:05.599Z"
   },
   {
    "duration": 4,
    "start_time": "2023-11-16T06:29:19.474Z"
   },
   {
    "duration": 16,
    "start_time": "2023-11-16T06:29:24.255Z"
   },
   {
    "duration": 85,
    "start_time": "2023-11-16T06:30:29.764Z"
   },
   {
    "duration": 36,
    "start_time": "2023-11-16T06:30:34.040Z"
   },
   {
    "duration": 31,
    "start_time": "2023-11-16T06:31:00.680Z"
   },
   {
    "duration": 29,
    "start_time": "2023-11-16T06:31:12.831Z"
   },
   {
    "duration": 14,
    "start_time": "2023-11-16T06:31:57.065Z"
   },
   {
    "duration": 77,
    "start_time": "2023-11-16T06:32:14.599Z"
   },
   {
    "duration": 83,
    "start_time": "2023-11-16T06:32:23.874Z"
   },
   {
    "duration": 72,
    "start_time": "2023-11-16T06:32:52.600Z"
   },
   {
    "duration": 96,
    "start_time": "2023-11-16T06:33:00.139Z"
   },
   {
    "duration": 35,
    "start_time": "2023-11-16T06:33:15.865Z"
   },
   {
    "duration": 18,
    "start_time": "2023-11-16T06:33:36.109Z"
   },
   {
    "duration": 42,
    "start_time": "2023-11-16T06:34:59.069Z"
   },
   {
    "duration": 13,
    "start_time": "2023-11-16T06:38:04.507Z"
   },
   {
    "duration": 39,
    "start_time": "2023-11-16T06:38:17.294Z"
   },
   {
    "duration": 115,
    "start_time": "2023-11-16T06:40:24.513Z"
   },
   {
    "duration": 112,
    "start_time": "2023-11-16T06:40:38.686Z"
   },
   {
    "duration": 91,
    "start_time": "2023-11-16T06:40:49.727Z"
   },
   {
    "duration": 95,
    "start_time": "2023-11-16T06:41:24.430Z"
   },
   {
    "duration": 28,
    "start_time": "2023-11-16T06:43:52.903Z"
   },
   {
    "duration": 400,
    "start_time": "2023-11-16T06:45:43.965Z"
   },
   {
    "duration": 1475,
    "start_time": "2023-11-16T06:48:34.694Z"
   },
   {
    "duration": 1217,
    "start_time": "2023-11-16T06:51:08.768Z"
   },
   {
    "duration": 39,
    "start_time": "2023-11-16T06:51:09.987Z"
   },
   {
    "duration": 14,
    "start_time": "2023-11-16T06:51:10.027Z"
   },
   {
    "duration": 27,
    "start_time": "2023-11-16T06:51:10.043Z"
   },
   {
    "duration": 9,
    "start_time": "2023-11-16T06:51:10.072Z"
   },
   {
    "duration": 18,
    "start_time": "2023-11-16T06:51:10.083Z"
   },
   {
    "duration": 107,
    "start_time": "2023-11-16T06:51:10.102Z"
   },
   {
    "duration": 0,
    "start_time": "2023-11-16T06:51:10.211Z"
   },
   {
    "duration": 0,
    "start_time": "2023-11-16T06:51:10.212Z"
   },
   {
    "duration": 0,
    "start_time": "2023-11-16T06:51:10.214Z"
   },
   {
    "duration": 0,
    "start_time": "2023-11-16T06:51:10.215Z"
   },
   {
    "duration": 0,
    "start_time": "2023-11-16T06:51:10.216Z"
   },
   {
    "duration": 0,
    "start_time": "2023-11-16T06:51:10.217Z"
   },
   {
    "duration": 0,
    "start_time": "2023-11-16T06:51:10.218Z"
   },
   {
    "duration": 0,
    "start_time": "2023-11-16T06:51:10.219Z"
   },
   {
    "duration": 0,
    "start_time": "2023-11-16T06:51:10.220Z"
   },
   {
    "duration": 1,
    "start_time": "2023-11-16T06:51:10.221Z"
   },
   {
    "duration": 0,
    "start_time": "2023-11-16T06:51:10.223Z"
   },
   {
    "duration": 0,
    "start_time": "2023-11-16T06:51:10.224Z"
   },
   {
    "duration": 0,
    "start_time": "2023-11-16T06:51:10.224Z"
   },
   {
    "duration": 0,
    "start_time": "2023-11-16T06:51:10.252Z"
   },
   {
    "duration": 0,
    "start_time": "2023-11-16T06:51:10.253Z"
   },
   {
    "duration": 0,
    "start_time": "2023-11-16T06:51:10.254Z"
   },
   {
    "duration": 0,
    "start_time": "2023-11-16T06:51:10.255Z"
   },
   {
    "duration": 0,
    "start_time": "2023-11-16T06:51:10.256Z"
   },
   {
    "duration": 0,
    "start_time": "2023-11-16T06:51:10.258Z"
   },
   {
    "duration": 0,
    "start_time": "2023-11-16T06:51:10.259Z"
   },
   {
    "duration": 7,
    "start_time": "2023-11-16T06:52:26.418Z"
   },
   {
    "duration": 4,
    "start_time": "2023-11-16T06:52:34.082Z"
   },
   {
    "duration": 1203,
    "start_time": "2023-11-16T06:52:42.659Z"
   },
   {
    "duration": 41,
    "start_time": "2023-11-16T06:52:43.864Z"
   },
   {
    "duration": 14,
    "start_time": "2023-11-16T06:52:43.906Z"
   },
   {
    "duration": 21,
    "start_time": "2023-11-16T06:52:43.922Z"
   },
   {
    "duration": 21,
    "start_time": "2023-11-16T06:52:43.944Z"
   },
   {
    "duration": 25,
    "start_time": "2023-11-16T06:52:43.967Z"
   },
   {
    "duration": 8,
    "start_time": "2023-11-16T06:52:43.994Z"
   },
   {
    "duration": 8,
    "start_time": "2023-11-16T06:52:44.003Z"
   },
   {
    "duration": 4,
    "start_time": "2023-11-16T06:52:44.012Z"
   },
   {
    "duration": 9,
    "start_time": "2023-11-16T06:52:44.018Z"
   },
   {
    "duration": 27,
    "start_time": "2023-11-16T06:52:44.029Z"
   },
   {
    "duration": 17,
    "start_time": "2023-11-16T06:52:44.058Z"
   },
   {
    "duration": 5,
    "start_time": "2023-11-16T06:52:44.077Z"
   },
   {
    "duration": 12,
    "start_time": "2023-11-16T06:52:44.083Z"
   },
   {
    "duration": 4,
    "start_time": "2023-11-16T06:52:44.096Z"
   },
   {
    "duration": 33,
    "start_time": "2023-11-16T06:52:44.101Z"
   },
   {
    "duration": 136,
    "start_time": "2023-11-16T06:52:44.136Z"
   },
   {
    "duration": 8,
    "start_time": "2023-11-16T06:52:44.274Z"
   },
   {
    "duration": 6,
    "start_time": "2023-11-16T06:52:44.283Z"
   },
   {
    "duration": 11,
    "start_time": "2023-11-16T06:52:44.291Z"
   },
   {
    "duration": 5,
    "start_time": "2023-11-16T06:52:44.304Z"
   },
   {
    "duration": 23,
    "start_time": "2023-11-16T06:52:44.310Z"
   },
   {
    "duration": 7,
    "start_time": "2023-11-16T06:52:44.334Z"
   },
   {
    "duration": 2556,
    "start_time": "2023-11-16T06:52:44.343Z"
   },
   {
    "duration": 0,
    "start_time": "2023-11-16T06:52:46.901Z"
   },
   {
    "duration": 0,
    "start_time": "2023-11-16T06:52:46.902Z"
   },
   {
    "duration": 0,
    "start_time": "2023-11-16T06:52:46.903Z"
   },
   {
    "duration": 134,
    "start_time": "2023-11-16T06:52:58.912Z"
   },
   {
    "duration": 12,
    "start_time": "2023-11-16T06:53:55.345Z"
   },
   {
    "duration": 259,
    "start_time": "2023-11-16T07:34:29.335Z"
   },
   {
    "duration": 239,
    "start_time": "2023-11-16T07:34:46.781Z"
   },
   {
    "duration": 238,
    "start_time": "2023-11-16T07:35:14.703Z"
   },
   {
    "duration": 339,
    "start_time": "2023-11-16T07:35:49.833Z"
   },
   {
    "duration": 254,
    "start_time": "2023-11-16T07:36:03.541Z"
   },
   {
    "duration": 1881,
    "start_time": "2023-11-16T07:37:49.626Z"
   },
   {
    "duration": 425,
    "start_time": "2023-11-16T07:38:01.971Z"
   },
   {
    "duration": 418,
    "start_time": "2023-11-16T07:38:24.687Z"
   },
   {
    "duration": 267,
    "start_time": "2023-11-16T07:38:44.950Z"
   },
   {
    "duration": 228,
    "start_time": "2023-11-16T07:38:50.119Z"
   },
   {
    "duration": 256,
    "start_time": "2023-11-16T07:39:50.610Z"
   },
   {
    "duration": 311,
    "start_time": "2023-11-16T07:41:21.863Z"
   },
   {
    "duration": 8,
    "start_time": "2023-11-16T07:42:49.139Z"
   },
   {
    "duration": 469,
    "start_time": "2023-11-16T07:44:30.310Z"
   },
   {
    "duration": 1283,
    "start_time": "2023-11-16T07:44:41.332Z"
   },
   {
    "duration": 41,
    "start_time": "2023-11-16T07:44:42.617Z"
   },
   {
    "duration": 15,
    "start_time": "2023-11-16T07:44:42.659Z"
   },
   {
    "duration": 10,
    "start_time": "2023-11-16T07:44:42.675Z"
   },
   {
    "duration": 7,
    "start_time": "2023-11-16T07:44:42.687Z"
   },
   {
    "duration": 12,
    "start_time": "2023-11-16T07:44:42.695Z"
   },
   {
    "duration": 3,
    "start_time": "2023-11-16T07:44:42.708Z"
   },
   {
    "duration": 5,
    "start_time": "2023-11-16T07:44:42.712Z"
   },
   {
    "duration": 33,
    "start_time": "2023-11-16T07:44:42.719Z"
   },
   {
    "duration": 4,
    "start_time": "2023-11-16T07:44:42.755Z"
   },
   {
    "duration": 8,
    "start_time": "2023-11-16T07:44:42.760Z"
   },
   {
    "duration": 15,
    "start_time": "2023-11-16T07:44:42.769Z"
   },
   {
    "duration": 4,
    "start_time": "2023-11-16T07:44:42.786Z"
   },
   {
    "duration": 11,
    "start_time": "2023-11-16T07:44:42.791Z"
   },
   {
    "duration": 5,
    "start_time": "2023-11-16T07:44:42.803Z"
   },
   {
    "duration": 43,
    "start_time": "2023-11-16T07:44:42.809Z"
   },
   {
    "duration": 124,
    "start_time": "2023-11-16T07:44:42.853Z"
   },
   {
    "duration": 8,
    "start_time": "2023-11-16T07:44:42.979Z"
   },
   {
    "duration": 6,
    "start_time": "2023-11-16T07:44:42.988Z"
   },
   {
    "duration": 8,
    "start_time": "2023-11-16T07:44:42.995Z"
   },
   {
    "duration": 4,
    "start_time": "2023-11-16T07:44:43.004Z"
   },
   {
    "duration": 11,
    "start_time": "2023-11-16T07:44:43.009Z"
   },
   {
    "duration": 31,
    "start_time": "2023-11-16T07:44:43.022Z"
   },
   {
    "duration": 105,
    "start_time": "2023-11-16T07:44:43.054Z"
   },
   {
    "duration": 0,
    "start_time": "2023-11-16T07:44:43.161Z"
   },
   {
    "duration": 0,
    "start_time": "2023-11-16T07:44:43.162Z"
   },
   {
    "duration": 0,
    "start_time": "2023-11-16T07:44:43.163Z"
   },
   {
    "duration": 381,
    "start_time": "2023-11-16T07:44:59.110Z"
   },
   {
    "duration": 118,
    "start_time": "2023-11-16T07:45:21.515Z"
   },
   {
    "duration": 107,
    "start_time": "2023-11-16T07:45:25.034Z"
   },
   {
    "duration": 105,
    "start_time": "2023-11-16T07:46:02.672Z"
   },
   {
    "duration": 256,
    "start_time": "2023-11-16T07:46:07.548Z"
   },
   {
    "duration": 147,
    "start_time": "2023-11-16T07:46:58.190Z"
   },
   {
    "duration": 12,
    "start_time": "2023-11-16T07:56:08.952Z"
   },
   {
    "duration": 14,
    "start_time": "2023-11-16T07:56:30.985Z"
   },
   {
    "duration": 12,
    "start_time": "2023-11-16T07:57:44.656Z"
   },
   {
    "duration": 12,
    "start_time": "2023-11-16T07:58:53.861Z"
   },
   {
    "duration": 11,
    "start_time": "2023-11-16T08:01:17.667Z"
   },
   {
    "duration": 14,
    "start_time": "2023-11-16T08:01:58.834Z"
   },
   {
    "duration": 13,
    "start_time": "2023-11-16T08:04:48.834Z"
   },
   {
    "duration": 13,
    "start_time": "2023-11-16T08:05:59.996Z"
   },
   {
    "duration": 14,
    "start_time": "2023-11-16T08:06:34.497Z"
   },
   {
    "duration": 12,
    "start_time": "2023-11-16T08:06:40.929Z"
   },
   {
    "duration": 12,
    "start_time": "2023-11-16T08:06:48.580Z"
   },
   {
    "duration": 5,
    "start_time": "2023-11-16T08:10:57.048Z"
   },
   {
    "duration": 5,
    "start_time": "2023-11-16T08:11:31.261Z"
   },
   {
    "duration": 140,
    "start_time": "2023-11-16T08:11:34.732Z"
   },
   {
    "duration": 17,
    "start_time": "2023-11-16T08:16:16.066Z"
   },
   {
    "duration": 14,
    "start_time": "2023-11-16T08:16:26.351Z"
   },
   {
    "duration": 45,
    "start_time": "2023-11-16T11:49:58.031Z"
   },
   {
    "duration": 1399,
    "start_time": "2023-11-16T11:50:06.269Z"
   },
   {
    "duration": 79,
    "start_time": "2023-11-16T11:50:07.670Z"
   },
   {
    "duration": 15,
    "start_time": "2023-11-16T11:50:07.751Z"
   },
   {
    "duration": 14,
    "start_time": "2023-11-16T11:50:07.769Z"
   },
   {
    "duration": 18,
    "start_time": "2023-11-16T11:50:07.785Z"
   },
   {
    "duration": 16,
    "start_time": "2023-11-16T11:50:07.805Z"
   },
   {
    "duration": 4,
    "start_time": "2023-11-16T11:50:07.823Z"
   },
   {
    "duration": 7,
    "start_time": "2023-11-16T11:50:07.828Z"
   },
   {
    "duration": 8,
    "start_time": "2023-11-16T11:50:07.836Z"
   },
   {
    "duration": 5,
    "start_time": "2023-11-16T11:50:07.855Z"
   },
   {
    "duration": 15,
    "start_time": "2023-11-16T11:50:07.862Z"
   },
   {
    "duration": 15,
    "start_time": "2023-11-16T11:50:07.879Z"
   },
   {
    "duration": 9,
    "start_time": "2023-11-16T11:50:07.896Z"
   },
   {
    "duration": 8,
    "start_time": "2023-11-16T11:50:07.907Z"
   },
   {
    "duration": 11,
    "start_time": "2023-11-16T11:50:07.916Z"
   },
   {
    "duration": 4,
    "start_time": "2023-11-16T11:50:07.929Z"
   },
   {
    "duration": 19,
    "start_time": "2023-11-16T11:50:07.955Z"
   },
   {
    "duration": 126,
    "start_time": "2023-11-16T11:50:07.976Z"
   },
   {
    "duration": 8,
    "start_time": "2023-11-16T11:50:08.104Z"
   },
   {
    "duration": 12,
    "start_time": "2023-11-16T11:50:08.114Z"
   },
   {
    "duration": 10,
    "start_time": "2023-11-16T11:50:08.128Z"
   },
   {
    "duration": 15,
    "start_time": "2023-11-16T11:50:08.140Z"
   },
   {
    "duration": 4,
    "start_time": "2023-11-16T11:50:08.157Z"
   },
   {
    "duration": 4,
    "start_time": "2023-11-16T11:50:08.162Z"
   },
   {
    "duration": 160,
    "start_time": "2023-11-16T11:50:08.167Z"
   },
   {
    "duration": 106,
    "start_time": "2023-11-16T11:51:53.242Z"
   },
   {
    "duration": 6,
    "start_time": "2023-11-16T12:01:46.423Z"
   },
   {
    "duration": 10,
    "start_time": "2023-11-16T12:01:52.315Z"
   },
   {
    "duration": 92,
    "start_time": "2023-11-16T12:03:32.506Z"
   },
   {
    "duration": 90,
    "start_time": "2023-11-16T12:04:03.219Z"
   },
   {
    "duration": 11,
    "start_time": "2023-11-16T12:04:07.420Z"
   },
   {
    "duration": 25,
    "start_time": "2023-11-16T12:06:31.860Z"
   },
   {
    "duration": 1391,
    "start_time": "2023-11-16T12:08:05.652Z"
   },
   {
    "duration": 24,
    "start_time": "2023-11-16T12:08:14.668Z"
   },
   {
    "duration": 1184,
    "start_time": "2023-11-16T12:09:28.193Z"
   },
   {
    "duration": 24,
    "start_time": "2023-11-16T12:09:39.532Z"
   },
   {
    "duration": 1200,
    "start_time": "2023-11-16T12:12:23.046Z"
   },
   {
    "duration": 41,
    "start_time": "2023-11-16T12:12:24.247Z"
   },
   {
    "duration": 15,
    "start_time": "2023-11-16T12:12:24.289Z"
   },
   {
    "duration": 23,
    "start_time": "2023-11-16T12:12:24.305Z"
   },
   {
    "duration": 39,
    "start_time": "2023-11-16T12:12:24.330Z"
   },
   {
    "duration": 20,
    "start_time": "2023-11-16T12:12:24.370Z"
   },
   {
    "duration": 7,
    "start_time": "2023-11-16T12:12:24.391Z"
   },
   {
    "duration": 33,
    "start_time": "2023-11-16T12:12:24.399Z"
   },
   {
    "duration": 12,
    "start_time": "2023-11-16T12:12:24.433Z"
   },
   {
    "duration": 15,
    "start_time": "2023-11-16T12:12:24.447Z"
   },
   {
    "duration": 36,
    "start_time": "2023-11-16T12:12:24.464Z"
   },
   {
    "duration": 18,
    "start_time": "2023-11-16T12:12:24.501Z"
   },
   {
    "duration": 15,
    "start_time": "2023-11-16T12:12:24.520Z"
   },
   {
    "duration": 36,
    "start_time": "2023-11-16T12:12:24.536Z"
   },
   {
    "duration": 26,
    "start_time": "2023-11-16T12:12:24.573Z"
   },
   {
    "duration": 107,
    "start_time": "2023-11-16T12:12:24.600Z"
   },
   {
    "duration": 9,
    "start_time": "2023-11-16T12:12:24.709Z"
   },
   {
    "duration": 20,
    "start_time": "2023-11-16T12:12:24.719Z"
   },
   {
    "duration": 19,
    "start_time": "2023-11-16T12:12:24.740Z"
   },
   {
    "duration": 33,
    "start_time": "2023-11-16T12:12:24.761Z"
   },
   {
    "duration": 23,
    "start_time": "2023-11-16T12:12:24.796Z"
   },
   {
    "duration": 21,
    "start_time": "2023-11-16T12:12:24.821Z"
   },
   {
    "duration": 177,
    "start_time": "2023-11-16T12:12:24.843Z"
   },
   {
    "duration": 4,
    "start_time": "2023-11-16T12:14:29.373Z"
   },
   {
    "duration": 20,
    "start_time": "2023-11-16T12:17:21.006Z"
   },
   {
    "duration": 28,
    "start_time": "2023-11-16T12:19:28.146Z"
   },
   {
    "duration": 11,
    "start_time": "2023-11-16T12:22:42.880Z"
   },
   {
    "duration": 1252,
    "start_time": "2023-11-16T12:22:52.764Z"
   },
   {
    "duration": 42,
    "start_time": "2023-11-16T12:22:54.017Z"
   },
   {
    "duration": 21,
    "start_time": "2023-11-16T12:22:54.061Z"
   },
   {
    "duration": 25,
    "start_time": "2023-11-16T12:22:54.084Z"
   },
   {
    "duration": 7,
    "start_time": "2023-11-16T12:22:54.111Z"
   },
   {
    "duration": 17,
    "start_time": "2023-11-16T12:22:54.119Z"
   },
   {
    "duration": 5,
    "start_time": "2023-11-16T12:22:54.138Z"
   },
   {
    "duration": 7,
    "start_time": "2023-11-16T12:22:54.145Z"
   },
   {
    "duration": 27,
    "start_time": "2023-11-16T12:22:54.153Z"
   },
   {
    "duration": 7,
    "start_time": "2023-11-16T12:22:54.187Z"
   },
   {
    "duration": 13,
    "start_time": "2023-11-16T12:22:54.195Z"
   },
   {
    "duration": 4,
    "start_time": "2023-11-16T12:22:54.210Z"
   },
   {
    "duration": 6,
    "start_time": "2023-11-16T12:22:54.215Z"
   },
   {
    "duration": 30,
    "start_time": "2023-11-16T12:22:54.222Z"
   },
   {
    "duration": 27,
    "start_time": "2023-11-16T12:22:54.255Z"
   },
   {
    "duration": 33,
    "start_time": "2023-11-16T12:22:54.284Z"
   },
   {
    "duration": 4,
    "start_time": "2023-11-16T12:22:54.319Z"
   },
   {
    "duration": 123,
    "start_time": "2023-11-16T12:22:54.325Z"
   },
   {
    "duration": 18,
    "start_time": "2023-11-16T12:22:54.450Z"
   },
   {
    "duration": 9,
    "start_time": "2023-11-16T12:22:54.471Z"
   },
   {
    "duration": 12,
    "start_time": "2023-11-16T12:22:54.481Z"
   },
   {
    "duration": 9,
    "start_time": "2023-11-16T12:22:54.494Z"
   },
   {
    "duration": 4,
    "start_time": "2023-11-16T12:22:54.504Z"
   },
   {
    "duration": 4,
    "start_time": "2023-11-16T12:22:54.510Z"
   },
   {
    "duration": 179,
    "start_time": "2023-11-16T12:22:54.516Z"
   },
   {
    "duration": 15,
    "start_time": "2023-11-16T12:26:23.597Z"
   },
   {
    "duration": 27,
    "start_time": "2023-11-16T12:26:35.436Z"
   },
   {
    "duration": 10,
    "start_time": "2023-11-16T12:28:41.028Z"
   },
   {
    "duration": 106,
    "start_time": "2023-11-16T12:31:17.350Z"
   },
   {
    "duration": 21,
    "start_time": "2023-11-16T12:31:29.342Z"
   },
   {
    "duration": 11,
    "start_time": "2023-11-16T12:35:59.674Z"
   },
   {
    "duration": 17,
    "start_time": "2023-11-16T12:36:08.547Z"
   },
   {
    "duration": 21,
    "start_time": "2023-11-16T12:36:46.587Z"
   },
   {
    "duration": 19,
    "start_time": "2023-11-16T12:36:54.943Z"
   },
   {
    "duration": 1141,
    "start_time": "2023-11-16T12:37:18.292Z"
   },
   {
    "duration": 43,
    "start_time": "2023-11-16T12:37:19.434Z"
   },
   {
    "duration": 17,
    "start_time": "2023-11-16T12:37:19.479Z"
   },
   {
    "duration": 12,
    "start_time": "2023-11-16T12:37:19.497Z"
   },
   {
    "duration": 7,
    "start_time": "2023-11-16T12:37:19.511Z"
   },
   {
    "duration": 14,
    "start_time": "2023-11-16T12:37:19.520Z"
   },
   {
    "duration": 3,
    "start_time": "2023-11-16T12:37:19.555Z"
   },
   {
    "duration": 6,
    "start_time": "2023-11-16T12:37:19.559Z"
   },
   {
    "duration": 6,
    "start_time": "2023-11-16T12:37:19.567Z"
   },
   {
    "duration": 13,
    "start_time": "2023-11-16T12:37:19.576Z"
   },
   {
    "duration": 25,
    "start_time": "2023-11-16T12:37:19.590Z"
   },
   {
    "duration": 4,
    "start_time": "2023-11-16T12:37:19.617Z"
   },
   {
    "duration": 5,
    "start_time": "2023-11-16T12:37:19.623Z"
   },
   {
    "duration": 30,
    "start_time": "2023-11-16T12:37:19.629Z"
   },
   {
    "duration": 21,
    "start_time": "2023-11-16T12:37:19.660Z"
   },
   {
    "duration": 5,
    "start_time": "2023-11-16T12:37:19.682Z"
   },
   {
    "duration": 23,
    "start_time": "2023-11-16T12:37:19.688Z"
   },
   {
    "duration": 129,
    "start_time": "2023-11-16T12:37:19.713Z"
   },
   {
    "duration": 17,
    "start_time": "2023-11-16T12:37:19.843Z"
   },
   {
    "duration": 31,
    "start_time": "2023-11-16T12:37:19.861Z"
   },
   {
    "duration": 41,
    "start_time": "2023-11-16T12:37:19.894Z"
   },
   {
    "duration": 13,
    "start_time": "2023-11-16T12:37:19.937Z"
   },
   {
    "duration": 8,
    "start_time": "2023-11-16T12:37:19.951Z"
   },
   {
    "duration": 6,
    "start_time": "2023-11-16T12:37:19.961Z"
   },
   {
    "duration": 204,
    "start_time": "2023-11-16T12:37:19.968Z"
   },
   {
    "duration": 21,
    "start_time": "2023-11-16T12:38:18.236Z"
   },
   {
    "duration": 1147,
    "start_time": "2023-11-16T12:40:43.992Z"
   },
   {
    "duration": 41,
    "start_time": "2023-11-16T12:40:45.141Z"
   },
   {
    "duration": 16,
    "start_time": "2023-11-16T12:40:45.183Z"
   },
   {
    "duration": 11,
    "start_time": "2023-11-16T12:40:45.200Z"
   },
   {
    "duration": 9,
    "start_time": "2023-11-16T12:40:45.212Z"
   },
   {
    "duration": 11,
    "start_time": "2023-11-16T12:40:45.223Z"
   },
   {
    "duration": 5,
    "start_time": "2023-11-16T12:40:45.235Z"
   },
   {
    "duration": 8,
    "start_time": "2023-11-16T12:40:45.242Z"
   },
   {
    "duration": 21,
    "start_time": "2023-11-16T12:40:45.255Z"
   },
   {
    "duration": 8,
    "start_time": "2023-11-16T12:40:45.278Z"
   },
   {
    "duration": 15,
    "start_time": "2023-11-16T12:40:45.287Z"
   },
   {
    "duration": 4,
    "start_time": "2023-11-16T12:40:45.303Z"
   },
   {
    "duration": 8,
    "start_time": "2023-11-16T12:40:45.308Z"
   },
   {
    "duration": 14,
    "start_time": "2023-11-16T12:40:45.317Z"
   },
   {
    "duration": 24,
    "start_time": "2023-11-16T12:40:45.332Z"
   },
   {
    "duration": 5,
    "start_time": "2023-11-16T12:40:45.357Z"
   },
   {
    "duration": 7,
    "start_time": "2023-11-16T12:40:45.363Z"
   },
   {
    "duration": 122,
    "start_time": "2023-11-16T12:40:45.372Z"
   },
   {
    "duration": 8,
    "start_time": "2023-11-16T12:40:45.496Z"
   },
   {
    "duration": 11,
    "start_time": "2023-11-16T12:40:45.505Z"
   },
   {
    "duration": 8,
    "start_time": "2023-11-16T12:40:45.517Z"
   },
   {
    "duration": 6,
    "start_time": "2023-11-16T12:40:45.526Z"
   },
   {
    "duration": 23,
    "start_time": "2023-11-16T12:40:45.533Z"
   },
   {
    "duration": 5,
    "start_time": "2023-11-16T12:40:45.558Z"
   },
   {
    "duration": 152,
    "start_time": "2023-11-16T12:40:45.564Z"
   },
   {
    "duration": 4,
    "start_time": "2023-11-16T12:40:58.792Z"
   },
   {
    "duration": 101,
    "start_time": "2023-11-16T12:42:51.017Z"
   },
   {
    "duration": 7,
    "start_time": "2023-11-16T12:45:01.574Z"
   },
   {
    "duration": 8,
    "start_time": "2023-11-16T12:45:24.113Z"
   },
   {
    "duration": 13,
    "start_time": "2023-11-16T12:47:21.833Z"
   },
   {
    "duration": 12,
    "start_time": "2023-11-16T12:47:53.418Z"
   },
   {
    "duration": 112,
    "start_time": "2023-11-16T12:53:08.579Z"
   },
   {
    "duration": 1384,
    "start_time": "2023-11-17T01:27:11.339Z"
   },
   {
    "duration": 151,
    "start_time": "2023-11-17T01:27:12.725Z"
   },
   {
    "duration": 15,
    "start_time": "2023-11-17T01:27:12.877Z"
   },
   {
    "duration": 12,
    "start_time": "2023-11-17T01:27:12.894Z"
   },
   {
    "duration": 6,
    "start_time": "2023-11-17T01:27:12.907Z"
   },
   {
    "duration": 11,
    "start_time": "2023-11-17T01:27:12.915Z"
   },
   {
    "duration": 2,
    "start_time": "2023-11-17T01:27:12.927Z"
   },
   {
    "duration": 5,
    "start_time": "2023-11-17T01:27:12.930Z"
   },
   {
    "duration": 17,
    "start_time": "2023-11-17T01:27:12.936Z"
   },
   {
    "duration": 5,
    "start_time": "2023-11-17T01:27:12.956Z"
   },
   {
    "duration": 13,
    "start_time": "2023-11-17T01:27:12.962Z"
   },
   {
    "duration": 4,
    "start_time": "2023-11-17T01:27:12.977Z"
   },
   {
    "duration": 18,
    "start_time": "2023-11-17T01:27:12.982Z"
   },
   {
    "duration": 4,
    "start_time": "2023-11-17T01:27:13.002Z"
   },
   {
    "duration": 11,
    "start_time": "2023-11-17T01:27:13.007Z"
   },
   {
    "duration": 23,
    "start_time": "2023-11-17T01:27:13.053Z"
   },
   {
    "duration": 5,
    "start_time": "2023-11-17T01:27:13.077Z"
   },
   {
    "duration": 6,
    "start_time": "2023-11-17T01:27:13.083Z"
   },
   {
    "duration": 139,
    "start_time": "2023-11-17T01:27:13.090Z"
   },
   {
    "duration": 21,
    "start_time": "2023-11-17T01:27:13.231Z"
   },
   {
    "duration": 6,
    "start_time": "2023-11-17T01:27:13.253Z"
   },
   {
    "duration": 8,
    "start_time": "2023-11-17T01:27:13.260Z"
   },
   {
    "duration": 9,
    "start_time": "2023-11-17T01:27:13.269Z"
   },
   {
    "duration": 6,
    "start_time": "2023-11-17T01:27:13.279Z"
   },
   {
    "duration": 7,
    "start_time": "2023-11-17T01:27:13.286Z"
   },
   {
    "duration": 10,
    "start_time": "2023-11-17T01:27:13.295Z"
   },
   {
    "duration": 261,
    "start_time": "2023-11-17T01:27:13.306Z"
   },
   {
    "duration": 161,
    "start_time": "2023-11-17T01:27:13.569Z"
   },
   {
    "duration": 4,
    "start_time": "2023-11-17T01:27:31.393Z"
   },
   {
    "duration": 3,
    "start_time": "2023-11-17T01:27:34.280Z"
   },
   {
    "duration": 3,
    "start_time": "2023-11-17T01:27:36.896Z"
   },
   {
    "duration": 4,
    "start_time": "2023-11-17T01:27:47.003Z"
   },
   {
    "duration": 247,
    "start_time": "2023-11-17T01:28:18.592Z"
   },
   {
    "duration": 98,
    "start_time": "2023-11-17T01:30:57.535Z"
   },
   {
    "duration": 3,
    "start_time": "2023-11-17T01:31:00.918Z"
   },
   {
    "duration": 4,
    "start_time": "2023-11-17T01:31:19.182Z"
   },
   {
    "duration": 3,
    "start_time": "2023-11-17T01:31:34.374Z"
   },
   {
    "duration": 4,
    "start_time": "2023-11-17T01:31:42.773Z"
   },
   {
    "duration": 87,
    "start_time": "2023-11-17T01:33:02.904Z"
   },
   {
    "duration": 3,
    "start_time": "2023-11-17T01:33:11.533Z"
   },
   {
    "duration": 5,
    "start_time": "2023-11-17T01:55:51.762Z"
   },
   {
    "duration": 329,
    "start_time": "2023-11-17T01:56:40.867Z"
   },
   {
    "duration": 91,
    "start_time": "2023-11-17T02:02:31.149Z"
   },
   {
    "duration": 132,
    "start_time": "2023-11-17T02:02:40.805Z"
   },
   {
    "duration": 131,
    "start_time": "2023-11-17T02:03:15.342Z"
   },
   {
    "duration": 104,
    "start_time": "2023-11-17T02:03:26.269Z"
   },
   {
    "duration": 154,
    "start_time": "2023-11-17T02:10:52.432Z"
   },
   {
    "duration": 6,
    "start_time": "2023-11-17T02:12:24.572Z"
   },
   {
    "duration": 8,
    "start_time": "2023-11-17T02:12:28.890Z"
   },
   {
    "duration": 159,
    "start_time": "2023-11-17T02:13:24.581Z"
   },
   {
    "duration": 177,
    "start_time": "2023-11-17T02:14:01.937Z"
   },
   {
    "duration": 183,
    "start_time": "2023-11-17T02:15:51.151Z"
   },
   {
    "duration": 9,
    "start_time": "2023-11-17T02:16:14.764Z"
   },
   {
    "duration": 9,
    "start_time": "2023-11-17T02:16:25.815Z"
   },
   {
    "duration": 192,
    "start_time": "2023-11-17T02:17:13.206Z"
   },
   {
    "duration": 164,
    "start_time": "2023-11-17T02:17:36.983Z"
   },
   {
    "duration": 153,
    "start_time": "2023-11-17T02:17:49.834Z"
   },
   {
    "duration": 170,
    "start_time": "2023-11-17T02:17:56.589Z"
   },
   {
    "duration": 244,
    "start_time": "2023-11-17T02:18:01.031Z"
   },
   {
    "duration": 85,
    "start_time": "2023-11-17T02:18:21.209Z"
   },
   {
    "duration": 8,
    "start_time": "2023-11-17T02:18:25.477Z"
   },
   {
    "duration": 174,
    "start_time": "2023-11-17T02:23:26.124Z"
   },
   {
    "duration": 177,
    "start_time": "2023-11-17T02:23:35.789Z"
   },
   {
    "duration": 172,
    "start_time": "2023-11-17T02:24:10.748Z"
   },
   {
    "duration": 221,
    "start_time": "2023-11-17T02:25:02.602Z"
   },
   {
    "duration": 195,
    "start_time": "2023-11-17T02:25:38.586Z"
   },
   {
    "duration": 200,
    "start_time": "2023-11-17T02:26:13.354Z"
   },
   {
    "duration": 126,
    "start_time": "2023-11-17T02:27:03.137Z"
   },
   {
    "duration": 219,
    "start_time": "2023-11-17T02:27:07.417Z"
   },
   {
    "duration": 203,
    "start_time": "2023-11-17T02:27:17.066Z"
   },
   {
    "duration": 8,
    "start_time": "2023-11-17T02:27:55.668Z"
   },
   {
    "duration": 8,
    "start_time": "2023-11-17T02:29:08.984Z"
   },
   {
    "duration": 9,
    "start_time": "2023-11-17T02:29:33.938Z"
   },
   {
    "duration": 58,
    "start_time": "2023-11-17T02:29:44.625Z"
   },
   {
    "duration": 4,
    "start_time": "2023-11-17T02:30:13.491Z"
   },
   {
    "duration": 182,
    "start_time": "2023-11-17T02:30:16.923Z"
   },
   {
    "duration": 278,
    "start_time": "2023-11-17T02:31:11.696Z"
   },
   {
    "duration": 204,
    "start_time": "2023-11-17T02:31:26.607Z"
   },
   {
    "duration": 203,
    "start_time": "2023-11-17T02:31:56.080Z"
   },
   {
    "duration": 173,
    "start_time": "2023-11-17T02:32:15.639Z"
   },
   {
    "duration": 161,
    "start_time": "2023-11-17T02:32:21.864Z"
   },
   {
    "duration": 178,
    "start_time": "2023-11-17T02:32:29.207Z"
   },
   {
    "duration": 178,
    "start_time": "2023-11-17T02:33:49.517Z"
   },
   {
    "duration": 66,
    "start_time": "2023-11-17T02:35:46.574Z"
   },
   {
    "duration": 176,
    "start_time": "2023-11-17T02:36:10.304Z"
   },
   {
    "duration": 177,
    "start_time": "2023-11-17T02:36:49.949Z"
   },
   {
    "duration": 186,
    "start_time": "2023-11-17T02:49:43.390Z"
   },
   {
    "duration": 133,
    "start_time": "2023-11-17T02:50:05.028Z"
   },
   {
    "duration": 287,
    "start_time": "2023-11-17T02:50:10.462Z"
   },
   {
    "duration": 182,
    "start_time": "2023-11-17T02:50:22.158Z"
   },
   {
    "duration": 183,
    "start_time": "2023-11-17T02:53:26.938Z"
   },
   {
    "duration": 172,
    "start_time": "2023-11-17T02:54:03.464Z"
   },
   {
    "duration": 173,
    "start_time": "2023-11-17T02:54:24.286Z"
   },
   {
    "duration": 170,
    "start_time": "2023-11-17T02:54:51.171Z"
   },
   {
    "duration": 180,
    "start_time": "2023-11-17T02:55:07.868Z"
   },
   {
    "duration": 185,
    "start_time": "2023-11-17T02:55:51.361Z"
   },
   {
    "duration": 187,
    "start_time": "2023-11-17T02:56:11.655Z"
   },
   {
    "duration": 177,
    "start_time": "2023-11-17T02:59:57.684Z"
   },
   {
    "duration": 188,
    "start_time": "2023-11-17T03:00:10.449Z"
   },
   {
    "duration": 314,
    "start_time": "2023-11-17T03:00:55.408Z"
   },
   {
    "duration": 179,
    "start_time": "2023-11-17T03:01:00.400Z"
   },
   {
    "duration": 179,
    "start_time": "2023-11-17T03:01:56.806Z"
   },
   {
    "duration": 243,
    "start_time": "2023-11-17T03:02:39.564Z"
   },
   {
    "duration": 178,
    "start_time": "2023-11-17T03:02:53.112Z"
   },
   {
    "duration": 171,
    "start_time": "2023-11-17T03:05:19.869Z"
   },
   {
    "duration": 179,
    "start_time": "2023-11-17T03:06:28.220Z"
   },
   {
    "duration": 194,
    "start_time": "2023-11-17T03:09:28.078Z"
   },
   {
    "duration": 197,
    "start_time": "2023-11-17T03:09:53.330Z"
   },
   {
    "duration": 188,
    "start_time": "2023-11-17T03:10:30.013Z"
   },
   {
    "duration": 188,
    "start_time": "2023-11-17T03:10:40.707Z"
   },
   {
    "duration": 286,
    "start_time": "2023-11-17T03:11:16.323Z"
   },
   {
    "duration": 185,
    "start_time": "2023-11-17T03:12:13.755Z"
   },
   {
    "duration": 200,
    "start_time": "2023-11-17T03:12:41.002Z"
   },
   {
    "duration": 184,
    "start_time": "2023-11-17T03:13:05.961Z"
   },
   {
    "duration": 188,
    "start_time": "2023-11-17T03:13:23.496Z"
   },
   {
    "duration": 2222,
    "start_time": "2023-11-17T03:15:12.184Z"
   },
   {
    "duration": 211,
    "start_time": "2023-11-17T03:15:26.365Z"
   },
   {
    "duration": 197,
    "start_time": "2023-11-17T03:17:17.614Z"
   },
   {
    "duration": 182,
    "start_time": "2023-11-17T03:17:21.517Z"
   },
   {
    "duration": 216,
    "start_time": "2023-11-17T03:19:27.184Z"
   },
   {
    "duration": 191,
    "start_time": "2023-11-17T03:19:53.277Z"
   },
   {
    "duration": 277,
    "start_time": "2023-11-17T03:20:08.698Z"
   },
   {
    "duration": 210,
    "start_time": "2023-11-17T03:20:45.533Z"
   },
   {
    "duration": 204,
    "start_time": "2023-11-17T03:21:58.395Z"
   },
   {
    "duration": 234,
    "start_time": "2023-11-17T03:23:50.435Z"
   },
   {
    "duration": 8,
    "start_time": "2023-11-17T03:26:58.194Z"
   },
   {
    "duration": 103,
    "start_time": "2023-11-17T03:31:13.639Z"
   },
   {
    "duration": 9,
    "start_time": "2023-11-17T03:32:14.015Z"
   },
   {
    "duration": 7,
    "start_time": "2023-11-17T03:32:24.038Z"
   },
   {
    "duration": 7,
    "start_time": "2023-11-17T03:32:33.022Z"
   },
   {
    "duration": 8,
    "start_time": "2023-11-17T03:33:28.400Z"
   },
   {
    "duration": 1176,
    "start_time": "2023-11-17T03:34:10.067Z"
   },
   {
    "duration": 41,
    "start_time": "2023-11-17T03:34:11.245Z"
   },
   {
    "duration": 16,
    "start_time": "2023-11-17T03:34:11.287Z"
   },
   {
    "duration": 11,
    "start_time": "2023-11-17T03:34:11.304Z"
   },
   {
    "duration": 6,
    "start_time": "2023-11-17T03:34:11.317Z"
   },
   {
    "duration": 12,
    "start_time": "2023-11-17T03:34:11.325Z"
   },
   {
    "duration": 3,
    "start_time": "2023-11-17T03:34:11.338Z"
   },
   {
    "duration": 11,
    "start_time": "2023-11-17T03:34:11.342Z"
   },
   {
    "duration": 11,
    "start_time": "2023-11-17T03:34:11.355Z"
   },
   {
    "duration": 5,
    "start_time": "2023-11-17T03:34:11.369Z"
   },
   {
    "duration": 13,
    "start_time": "2023-11-17T03:34:11.376Z"
   },
   {
    "duration": 4,
    "start_time": "2023-11-17T03:34:11.390Z"
   },
   {
    "duration": 17,
    "start_time": "2023-11-17T03:34:11.395Z"
   },
   {
    "duration": 4,
    "start_time": "2023-11-17T03:34:11.414Z"
   },
   {
    "duration": 40,
    "start_time": "2023-11-17T03:34:11.419Z"
   },
   {
    "duration": 21,
    "start_time": "2023-11-17T03:34:11.461Z"
   },
   {
    "duration": 6,
    "start_time": "2023-11-17T03:34:11.483Z"
   },
   {
    "duration": 6,
    "start_time": "2023-11-17T03:34:11.490Z"
   },
   {
    "duration": 143,
    "start_time": "2023-11-17T03:34:11.498Z"
   },
   {
    "duration": 16,
    "start_time": "2023-11-17T03:34:11.642Z"
   },
   {
    "duration": 4,
    "start_time": "2023-11-17T03:34:11.660Z"
   },
   {
    "duration": 8,
    "start_time": "2023-11-17T03:34:11.666Z"
   },
   {
    "duration": 4,
    "start_time": "2023-11-17T03:34:11.676Z"
   },
   {
    "duration": 133,
    "start_time": "2023-11-17T03:34:11.682Z"
   },
   {
    "duration": 0,
    "start_time": "2023-11-17T03:34:11.816Z"
   },
   {
    "duration": 0,
    "start_time": "2023-11-17T03:34:11.818Z"
   },
   {
    "duration": 0,
    "start_time": "2023-11-17T03:34:11.818Z"
   },
   {
    "duration": 0,
    "start_time": "2023-11-17T03:34:11.819Z"
   },
   {
    "duration": 0,
    "start_time": "2023-11-17T03:34:11.820Z"
   },
   {
    "duration": 1236,
    "start_time": "2023-11-17T03:34:32.492Z"
   },
   {
    "duration": 49,
    "start_time": "2023-11-17T03:34:33.729Z"
   },
   {
    "duration": 14,
    "start_time": "2023-11-17T03:34:33.780Z"
   },
   {
    "duration": 10,
    "start_time": "2023-11-17T03:34:33.796Z"
   },
   {
    "duration": 6,
    "start_time": "2023-11-17T03:34:33.807Z"
   },
   {
    "duration": 11,
    "start_time": "2023-11-17T03:34:33.814Z"
   },
   {
    "duration": 26,
    "start_time": "2023-11-17T03:34:33.826Z"
   },
   {
    "duration": 5,
    "start_time": "2023-11-17T03:34:33.854Z"
   },
   {
    "duration": 8,
    "start_time": "2023-11-17T03:34:33.861Z"
   },
   {
    "duration": 4,
    "start_time": "2023-11-17T03:34:33.874Z"
   },
   {
    "duration": 14,
    "start_time": "2023-11-17T03:34:33.880Z"
   },
   {
    "duration": 4,
    "start_time": "2023-11-17T03:34:33.895Z"
   },
   {
    "duration": 7,
    "start_time": "2023-11-17T03:34:33.900Z"
   },
   {
    "duration": 4,
    "start_time": "2023-11-17T03:34:33.908Z"
   },
   {
    "duration": 18,
    "start_time": "2023-11-17T03:34:33.953Z"
   },
   {
    "duration": 20,
    "start_time": "2023-11-17T03:34:33.974Z"
   },
   {
    "duration": 5,
    "start_time": "2023-11-17T03:34:33.995Z"
   },
   {
    "duration": 6,
    "start_time": "2023-11-17T03:34:34.001Z"
   },
   {
    "duration": 154,
    "start_time": "2023-11-17T03:34:34.008Z"
   },
   {
    "duration": 14,
    "start_time": "2023-11-17T03:34:34.164Z"
   },
   {
    "duration": 7,
    "start_time": "2023-11-17T03:34:34.180Z"
   },
   {
    "duration": 8,
    "start_time": "2023-11-17T03:34:34.188Z"
   },
   {
    "duration": 3,
    "start_time": "2023-11-17T03:34:34.198Z"
   },
   {
    "duration": 5,
    "start_time": "2023-11-17T03:34:34.202Z"
   },
   {
    "duration": 253,
    "start_time": "2023-11-17T03:34:34.208Z"
   },
   {
    "duration": 237,
    "start_time": "2023-11-17T03:34:34.463Z"
   },
   {
    "duration": 5,
    "start_time": "2023-11-17T03:34:34.701Z"
   },
   {
    "duration": 229,
    "start_time": "2023-11-17T03:34:34.708Z"
   },
   {
    "duration": 9,
    "start_time": "2023-11-17T03:34:45.706Z"
   },
   {
    "duration": 104,
    "start_time": "2023-11-17T03:35:02.310Z"
   },
   {
    "duration": 9,
    "start_time": "2023-11-17T03:35:06.294Z"
   },
   {
    "duration": 1179,
    "start_time": "2023-11-17T03:36:47.956Z"
   },
   {
    "duration": 40,
    "start_time": "2023-11-17T03:36:49.137Z"
   },
   {
    "duration": 15,
    "start_time": "2023-11-17T03:36:49.178Z"
   },
   {
    "duration": 20,
    "start_time": "2023-11-17T03:36:49.194Z"
   },
   {
    "duration": 6,
    "start_time": "2023-11-17T03:36:49.215Z"
   },
   {
    "duration": 17,
    "start_time": "2023-11-17T03:36:49.222Z"
   },
   {
    "duration": 3,
    "start_time": "2023-11-17T03:36:49.240Z"
   },
   {
    "duration": 8,
    "start_time": "2023-11-17T03:36:49.244Z"
   },
   {
    "duration": 6,
    "start_time": "2023-11-17T03:36:49.253Z"
   },
   {
    "duration": 3,
    "start_time": "2023-11-17T03:36:49.261Z"
   },
   {
    "duration": 11,
    "start_time": "2023-11-17T03:36:49.265Z"
   },
   {
    "duration": 3,
    "start_time": "2023-11-17T03:36:49.278Z"
   },
   {
    "duration": 6,
    "start_time": "2023-11-17T03:36:49.283Z"
   },
   {
    "duration": 3,
    "start_time": "2023-11-17T03:36:49.291Z"
   },
   {
    "duration": 16,
    "start_time": "2023-11-17T03:36:49.296Z"
   },
   {
    "duration": 50,
    "start_time": "2023-11-17T03:36:49.313Z"
   },
   {
    "duration": 5,
    "start_time": "2023-11-17T03:36:49.365Z"
   },
   {
    "duration": 6,
    "start_time": "2023-11-17T03:36:49.371Z"
   },
   {
    "duration": 121,
    "start_time": "2023-11-17T03:36:49.378Z"
   },
   {
    "duration": 7,
    "start_time": "2023-11-17T03:36:49.501Z"
   },
   {
    "duration": 7,
    "start_time": "2023-11-17T03:36:49.509Z"
   },
   {
    "duration": 7,
    "start_time": "2023-11-17T03:36:49.517Z"
   },
   {
    "duration": 8,
    "start_time": "2023-11-17T03:36:49.525Z"
   },
   {
    "duration": 19,
    "start_time": "2023-11-17T03:36:49.534Z"
   },
   {
    "duration": 199,
    "start_time": "2023-11-17T03:36:49.555Z"
   },
   {
    "duration": 214,
    "start_time": "2023-11-17T03:36:49.756Z"
   },
   {
    "duration": 4,
    "start_time": "2023-11-17T03:36:49.971Z"
   },
   {
    "duration": 203,
    "start_time": "2023-11-17T03:36:49.978Z"
   },
   {
    "duration": 6,
    "start_time": "2023-11-17T03:37:03.229Z"
   },
   {
    "duration": 7,
    "start_time": "2023-11-17T03:37:19.121Z"
   },
   {
    "duration": 5,
    "start_time": "2023-11-17T03:37:22.122Z"
   },
   {
    "duration": 7,
    "start_time": "2023-11-17T03:37:50.657Z"
   },
   {
    "duration": 5,
    "start_time": "2023-11-17T03:37:52.897Z"
   },
   {
    "duration": 5,
    "start_time": "2023-11-17T03:38:03.882Z"
   },
   {
    "duration": 4,
    "start_time": "2023-11-17T03:38:06.001Z"
   },
   {
    "duration": 201,
    "start_time": "2023-11-17T03:38:16.362Z"
   },
   {
    "duration": 1146,
    "start_time": "2023-11-17T03:39:36.966Z"
   },
   {
    "duration": 40,
    "start_time": "2023-11-17T03:39:38.113Z"
   },
   {
    "duration": 14,
    "start_time": "2023-11-17T03:39:38.155Z"
   },
   {
    "duration": 13,
    "start_time": "2023-11-17T03:39:38.171Z"
   },
   {
    "duration": 6,
    "start_time": "2023-11-17T03:39:38.186Z"
   },
   {
    "duration": 16,
    "start_time": "2023-11-17T03:39:38.193Z"
   },
   {
    "duration": 2,
    "start_time": "2023-11-17T03:39:38.210Z"
   },
   {
    "duration": 7,
    "start_time": "2023-11-17T03:39:38.214Z"
   },
   {
    "duration": 4,
    "start_time": "2023-11-17T03:39:38.223Z"
   },
   {
    "duration": 3,
    "start_time": "2023-11-17T03:39:38.251Z"
   },
   {
    "duration": 12,
    "start_time": "2023-11-17T03:39:38.256Z"
   },
   {
    "duration": 4,
    "start_time": "2023-11-17T03:39:38.270Z"
   },
   {
    "duration": 9,
    "start_time": "2023-11-17T03:39:38.275Z"
   },
   {
    "duration": 4,
    "start_time": "2023-11-17T03:39:38.285Z"
   },
   {
    "duration": 9,
    "start_time": "2023-11-17T03:39:38.290Z"
   },
   {
    "duration": 18,
    "start_time": "2023-11-17T03:39:38.300Z"
   },
   {
    "duration": 35,
    "start_time": "2023-11-17T03:39:38.319Z"
   },
   {
    "duration": 6,
    "start_time": "2023-11-17T03:39:38.355Z"
   },
   {
    "duration": 130,
    "start_time": "2023-11-17T03:39:38.362Z"
   },
   {
    "duration": 7,
    "start_time": "2023-11-17T03:39:38.493Z"
   },
   {
    "duration": 5,
    "start_time": "2023-11-17T03:39:38.502Z"
   },
   {
    "duration": 6,
    "start_time": "2023-11-17T03:39:38.508Z"
   },
   {
    "duration": 5,
    "start_time": "2023-11-17T03:39:38.515Z"
   },
   {
    "duration": 4,
    "start_time": "2023-11-17T03:39:38.521Z"
   },
   {
    "duration": 215,
    "start_time": "2023-11-17T03:39:38.527Z"
   },
   {
    "duration": 213,
    "start_time": "2023-11-17T03:39:38.743Z"
   },
   {
    "duration": 185,
    "start_time": "2023-11-17T03:39:38.957Z"
   },
   {
    "duration": 223,
    "start_time": "2023-11-17T03:42:40.536Z"
   },
   {
    "duration": 193,
    "start_time": "2023-11-17T03:43:05.368Z"
   },
   {
    "duration": 53,
    "start_time": "2023-11-17T07:30:22.724Z"
   },
   {
    "duration": 1589,
    "start_time": "2023-11-17T07:30:33.786Z"
   },
   {
    "duration": 157,
    "start_time": "2023-11-17T07:30:35.378Z"
   },
   {
    "duration": 23,
    "start_time": "2023-11-17T07:30:35.537Z"
   },
   {
    "duration": 16,
    "start_time": "2023-11-17T07:30:35.562Z"
   },
   {
    "duration": 7,
    "start_time": "2023-11-17T07:30:35.580Z"
   },
   {
    "duration": 24,
    "start_time": "2023-11-17T07:30:35.589Z"
   },
   {
    "duration": 12,
    "start_time": "2023-11-17T07:30:35.615Z"
   },
   {
    "duration": 5,
    "start_time": "2023-11-17T07:30:35.629Z"
   },
   {
    "duration": 30,
    "start_time": "2023-11-17T07:30:35.636Z"
   },
   {
    "duration": 5,
    "start_time": "2023-11-17T07:30:35.668Z"
   },
   {
    "duration": 16,
    "start_time": "2023-11-17T07:30:35.675Z"
   },
   {
    "duration": 5,
    "start_time": "2023-11-17T07:30:35.694Z"
   },
   {
    "duration": 12,
    "start_time": "2023-11-17T07:30:35.701Z"
   },
   {
    "duration": 7,
    "start_time": "2023-11-17T07:30:35.715Z"
   },
   {
    "duration": 12,
    "start_time": "2023-11-17T07:30:35.764Z"
   },
   {
    "duration": 27,
    "start_time": "2023-11-17T07:30:35.778Z"
   },
   {
    "duration": 6,
    "start_time": "2023-11-17T07:30:35.807Z"
   },
   {
    "duration": 17,
    "start_time": "2023-11-17T07:30:35.815Z"
   },
   {
    "duration": 158,
    "start_time": "2023-11-17T07:30:35.834Z"
   },
   {
    "duration": 10,
    "start_time": "2023-11-17T07:30:35.994Z"
   },
   {
    "duration": 11,
    "start_time": "2023-11-17T07:30:36.005Z"
   },
   {
    "duration": 38,
    "start_time": "2023-11-17T07:30:36.018Z"
   },
   {
    "duration": 15,
    "start_time": "2023-11-17T07:30:36.058Z"
   },
   {
    "duration": 23,
    "start_time": "2023-11-17T07:30:36.074Z"
   },
   {
    "duration": 374,
    "start_time": "2023-11-17T07:30:36.099Z"
   },
   {
    "duration": 0,
    "start_time": "2023-11-17T07:30:36.476Z"
   },
   {
    "duration": 1,
    "start_time": "2023-11-17T07:30:36.477Z"
   },
   {
    "duration": 337,
    "start_time": "2023-11-17T07:31:18.864Z"
   },
   {
    "duration": 265,
    "start_time": "2023-11-17T07:33:13.113Z"
   },
   {
    "duration": 243,
    "start_time": "2023-11-17T07:33:24.229Z"
   },
   {
    "duration": 103,
    "start_time": "2023-11-17T07:33:42.231Z"
   },
   {
    "duration": 94,
    "start_time": "2023-11-17T07:34:14.939Z"
   },
   {
    "duration": 164,
    "start_time": "2023-11-17T07:34:18.653Z"
   },
   {
    "duration": 236,
    "start_time": "2023-11-17T07:34:30.167Z"
   },
   {
    "duration": 241,
    "start_time": "2023-11-17T07:37:27.724Z"
   },
   {
    "duration": 259,
    "start_time": "2023-11-17T07:37:42.276Z"
   },
   {
    "duration": 300,
    "start_time": "2023-11-17T07:37:59.692Z"
   },
   {
    "duration": 255,
    "start_time": "2023-11-17T07:39:30.004Z"
   },
   {
    "duration": 260,
    "start_time": "2023-11-17T07:41:13.906Z"
   },
   {
    "duration": 236,
    "start_time": "2023-11-17T07:41:21.570Z"
   },
   {
    "duration": 225,
    "start_time": "2023-11-17T07:42:40.362Z"
   },
   {
    "duration": 255,
    "start_time": "2023-11-17T07:43:04.762Z"
   },
   {
    "duration": 221,
    "start_time": "2023-11-17T07:44:22.580Z"
   },
   {
    "duration": 6,
    "start_time": "2023-11-17T07:44:37.471Z"
   },
   {
    "duration": 10,
    "start_time": "2023-11-17T07:45:04.825Z"
   },
   {
    "duration": 1731,
    "start_time": "2023-11-17T07:51:45.029Z"
   },
   {
    "duration": 296,
    "start_time": "2023-11-17T07:52:01.311Z"
   },
   {
    "duration": 285,
    "start_time": "2023-11-17T07:53:49.419Z"
   },
   {
    "duration": 329,
    "start_time": "2023-11-17T07:54:23.605Z"
   },
   {
    "duration": 415,
    "start_time": "2023-11-17T07:56:40.648Z"
   },
   {
    "duration": 304,
    "start_time": "2023-11-17T07:57:19.458Z"
   },
   {
    "duration": 309,
    "start_time": "2023-11-17T07:58:14.275Z"
   },
   {
    "duration": 299,
    "start_time": "2023-11-17T07:58:19.002Z"
   },
   {
    "duration": 232,
    "start_time": "2023-11-17T08:01:30.732Z"
   },
   {
    "duration": 233,
    "start_time": "2023-11-17T08:01:50.360Z"
   },
   {
    "duration": 230,
    "start_time": "2023-11-17T08:02:28.543Z"
   },
   {
    "duration": 296,
    "start_time": "2023-11-17T08:03:16.311Z"
   },
   {
    "duration": 85,
    "start_time": "2023-11-17T08:04:17.073Z"
   },
   {
    "duration": 387,
    "start_time": "2023-11-17T08:04:23.439Z"
   },
   {
    "duration": 306,
    "start_time": "2023-11-17T08:04:32.823Z"
   },
   {
    "duration": 9,
    "start_time": "2023-11-17T08:05:43.610Z"
   },
   {
    "duration": 10,
    "start_time": "2023-11-17T08:05:48.798Z"
   },
   {
    "duration": 9,
    "start_time": "2023-11-17T08:05:53.519Z"
   },
   {
    "duration": 117,
    "start_time": "2023-11-17T08:08:33.827Z"
   },
   {
    "duration": 235,
    "start_time": "2023-11-17T08:08:44.787Z"
   },
   {
    "duration": 294,
    "start_time": "2023-11-17T08:09:24.639Z"
   },
   {
    "duration": 328,
    "start_time": "2023-11-17T08:10:27.556Z"
   },
   {
    "duration": 300,
    "start_time": "2023-11-17T08:10:36.043Z"
   },
   {
    "duration": 319,
    "start_time": "2023-11-17T08:11:06.938Z"
   },
   {
    "duration": 299,
    "start_time": "2023-11-17T08:11:40.328Z"
   },
   {
    "duration": 396,
    "start_time": "2023-11-17T08:11:50.341Z"
   },
   {
    "duration": 296,
    "start_time": "2023-11-17T08:11:55.185Z"
   },
   {
    "duration": 289,
    "start_time": "2023-11-17T08:12:02.989Z"
   },
   {
    "duration": 7,
    "start_time": "2023-11-17T08:17:16.338Z"
   },
   {
    "duration": 308,
    "start_time": "2023-11-17T08:17:38.935Z"
   },
   {
    "duration": 297,
    "start_time": "2023-11-17T08:17:55.527Z"
   },
   {
    "duration": 321,
    "start_time": "2023-11-17T08:18:51.207Z"
   },
   {
    "duration": 403,
    "start_time": "2023-11-17T08:19:18.262Z"
   },
   {
    "duration": 1339,
    "start_time": "2023-11-17T08:20:40.607Z"
   },
   {
    "duration": 43,
    "start_time": "2023-11-17T08:20:41.949Z"
   },
   {
    "duration": 18,
    "start_time": "2023-11-17T08:20:41.994Z"
   },
   {
    "duration": 14,
    "start_time": "2023-11-17T08:20:42.014Z"
   },
   {
    "duration": 11,
    "start_time": "2023-11-17T08:20:42.030Z"
   },
   {
    "duration": 29,
    "start_time": "2023-11-17T08:20:42.043Z"
   },
   {
    "duration": 12,
    "start_time": "2023-11-17T08:20:42.073Z"
   },
   {
    "duration": 17,
    "start_time": "2023-11-17T08:20:42.086Z"
   },
   {
    "duration": 7,
    "start_time": "2023-11-17T08:20:42.105Z"
   },
   {
    "duration": 5,
    "start_time": "2023-11-17T08:20:42.116Z"
   },
   {
    "duration": 19,
    "start_time": "2023-11-17T08:20:42.122Z"
   },
   {
    "duration": 4,
    "start_time": "2023-11-17T08:20:42.142Z"
   },
   {
    "duration": 9,
    "start_time": "2023-11-17T08:20:42.164Z"
   },
   {
    "duration": 4,
    "start_time": "2023-11-17T08:20:42.175Z"
   },
   {
    "duration": 13,
    "start_time": "2023-11-17T08:20:42.180Z"
   },
   {
    "duration": 22,
    "start_time": "2023-11-17T08:20:42.194Z"
   },
   {
    "duration": 5,
    "start_time": "2023-11-17T08:20:42.218Z"
   },
   {
    "duration": 41,
    "start_time": "2023-11-17T08:20:42.224Z"
   },
   {
    "duration": 154,
    "start_time": "2023-11-17T08:20:42.267Z"
   },
   {
    "duration": 10,
    "start_time": "2023-11-17T08:20:42.423Z"
   },
   {
    "duration": 8,
    "start_time": "2023-11-17T08:20:42.435Z"
   },
   {
    "duration": 24,
    "start_time": "2023-11-17T08:20:42.445Z"
   },
   {
    "duration": 5,
    "start_time": "2023-11-17T08:20:42.471Z"
   },
   {
    "duration": 6,
    "start_time": "2023-11-17T08:20:42.478Z"
   },
   {
    "duration": 253,
    "start_time": "2023-11-17T08:20:42.486Z"
   },
   {
    "duration": 265,
    "start_time": "2023-11-17T08:20:42.740Z"
   },
   {
    "duration": 247,
    "start_time": "2023-11-17T08:20:43.006Z"
   },
   {
    "duration": 320,
    "start_time": "2023-11-17T08:20:43.264Z"
   },
   {
    "duration": 361,
    "start_time": "2023-11-17T08:23:46.708Z"
   },
   {
    "duration": 458,
    "start_time": "2023-11-17T08:24:27.867Z"
   },
   {
    "duration": 365,
    "start_time": "2023-11-17T08:25:08.004Z"
   },
   {
    "duration": 9,
    "start_time": "2023-11-17T08:25:19.672Z"
   },
   {
    "duration": 446,
    "start_time": "2023-11-17T08:25:59.275Z"
   },
   {
    "duration": 17,
    "start_time": "2023-11-17T08:26:17.291Z"
   },
   {
    "duration": 14,
    "start_time": "2023-11-17T08:26:35.179Z"
   },
   {
    "duration": 364,
    "start_time": "2023-11-17T08:26:51.571Z"
   },
   {
    "duration": 383,
    "start_time": "2023-11-17T08:26:59.499Z"
   },
   {
    "duration": 330,
    "start_time": "2023-11-17T08:27:37.459Z"
   },
   {
    "duration": 527,
    "start_time": "2023-11-17T08:28:00.747Z"
   },
   {
    "duration": 340,
    "start_time": "2023-11-17T08:28:09.834Z"
   },
   {
    "duration": 291,
    "start_time": "2023-11-17T08:28:16.113Z"
   },
   {
    "duration": 270,
    "start_time": "2023-11-17T08:28:23.869Z"
   },
   {
    "duration": 254,
    "start_time": "2023-11-17T08:28:30.291Z"
   },
   {
    "duration": 249,
    "start_time": "2023-11-17T08:29:22.865Z"
   },
   {
    "duration": 245,
    "start_time": "2023-11-17T08:29:45.417Z"
   },
   {
    "duration": 234,
    "start_time": "2023-11-17T08:29:57.612Z"
   },
   {
    "duration": 232,
    "start_time": "2023-11-17T08:30:43.916Z"
   },
   {
    "duration": 312,
    "start_time": "2023-11-17T08:30:58.537Z"
   },
   {
    "duration": 220,
    "start_time": "2023-11-17T08:31:13.922Z"
   },
   {
    "duration": 237,
    "start_time": "2023-11-17T08:32:01.925Z"
   },
   {
    "duration": 232,
    "start_time": "2023-11-17T08:32:31.819Z"
   },
   {
    "duration": 234,
    "start_time": "2023-11-17T08:34:42.279Z"
   },
   {
    "duration": 229,
    "start_time": "2023-11-17T08:37:36.520Z"
   },
   {
    "duration": 243,
    "start_time": "2023-11-17T08:37:59.358Z"
   },
   {
    "duration": 242,
    "start_time": "2023-11-17T08:38:17.261Z"
   },
   {
    "duration": 252,
    "start_time": "2023-11-17T08:39:18.860Z"
   },
   {
    "duration": 222,
    "start_time": "2023-11-17T08:40:39.277Z"
   },
   {
    "duration": 468,
    "start_time": "2023-11-17T08:41:03.142Z"
   },
   {
    "duration": 159,
    "start_time": "2023-11-17T08:42:27.337Z"
   },
   {
    "duration": 12,
    "start_time": "2023-11-17T08:42:32.809Z"
   },
   {
    "duration": 34,
    "start_time": "2023-11-17T08:42:40.330Z"
   },
   {
    "duration": 279,
    "start_time": "2023-11-17T08:42:51.741Z"
   },
   {
    "duration": 438,
    "start_time": "2023-11-17T08:45:25.546Z"
   },
   {
    "duration": 422,
    "start_time": "2023-11-17T08:46:03.795Z"
   },
   {
    "duration": 85,
    "start_time": "2023-11-17T08:47:24.729Z"
   },
   {
    "duration": 210,
    "start_time": "2023-11-17T08:47:33.672Z"
   },
   {
    "duration": 433,
    "start_time": "2023-11-17T08:47:45.265Z"
   },
   {
    "duration": 193,
    "start_time": "2023-11-17T08:48:54.015Z"
   },
   {
    "duration": 518,
    "start_time": "2023-11-17T08:49:02.974Z"
   },
   {
    "duration": 195,
    "start_time": "2023-11-17T08:51:22.455Z"
   },
   {
    "duration": 409,
    "start_time": "2023-11-17T08:51:30.093Z"
   },
   {
    "duration": 480,
    "start_time": "2023-11-17T08:53:34.508Z"
   },
   {
    "duration": 536,
    "start_time": "2023-11-17T08:54:00.624Z"
   },
   {
    "duration": 531,
    "start_time": "2023-11-17T08:54:37.229Z"
   },
   {
    "duration": 701,
    "start_time": "2023-11-17T08:56:04.370Z"
   },
   {
    "duration": 563,
    "start_time": "2023-11-17T08:56:29.242Z"
   },
   {
    "duration": 657,
    "start_time": "2023-11-17T08:56:49.072Z"
   },
   {
    "duration": 538,
    "start_time": "2023-11-17T08:57:08.200Z"
   },
   {
    "duration": 601,
    "start_time": "2023-11-17T08:57:18.152Z"
   },
   {
    "duration": 96,
    "start_time": "2023-11-17T08:57:42.297Z"
   },
   {
    "duration": 278,
    "start_time": "2023-11-17T08:57:53.057Z"
   },
   {
    "duration": 263,
    "start_time": "2023-11-17T08:58:52.531Z"
   },
   {
    "duration": 192,
    "start_time": "2023-11-17T08:59:36.808Z"
   },
   {
    "duration": 184,
    "start_time": "2023-11-17T09:00:06.048Z"
   },
   {
    "duration": 298,
    "start_time": "2023-11-17T09:01:29.990Z"
   },
   {
    "duration": 192,
    "start_time": "2023-11-17T09:01:42.520Z"
   },
   {
    "duration": 220,
    "start_time": "2023-11-17T09:03:16.590Z"
   },
   {
    "duration": 257,
    "start_time": "2023-11-17T09:03:43.573Z"
   },
   {
    "duration": 200,
    "start_time": "2023-11-17T09:03:50.475Z"
   },
   {
    "duration": 230,
    "start_time": "2023-11-17T09:04:17.833Z"
   },
   {
    "duration": 211,
    "start_time": "2023-11-17T09:04:25.131Z"
   },
   {
    "duration": 237,
    "start_time": "2023-11-17T09:05:17.232Z"
   },
   {
    "duration": 192,
    "start_time": "2023-11-17T09:05:31.406Z"
   },
   {
    "duration": 230,
    "start_time": "2023-11-17T09:06:25.180Z"
   },
   {
    "duration": 189,
    "start_time": "2023-11-17T09:06:38.379Z"
   },
   {
    "duration": 226,
    "start_time": "2023-11-17T09:06:54.276Z"
   },
   {
    "duration": 401,
    "start_time": "2023-11-17T09:08:09.306Z"
   },
   {
    "duration": 532,
    "start_time": "2023-11-17T09:08:14.922Z"
   },
   {
    "duration": 10,
    "start_time": "2023-11-17T09:08:40.287Z"
   },
   {
    "duration": 246,
    "start_time": "2023-11-17T09:08:47.884Z"
   },
   {
    "duration": 263,
    "start_time": "2023-11-17T09:09:50.212Z"
   },
   {
    "duration": 15,
    "start_time": "2023-11-17T09:10:19.865Z"
   },
   {
    "duration": 313,
    "start_time": "2023-11-17T09:10:28.494Z"
   },
   {
    "duration": 196,
    "start_time": "2023-11-17T09:10:33.017Z"
   },
   {
    "duration": 159,
    "start_time": "2023-11-17T09:11:27.785Z"
   },
   {
    "duration": 191,
    "start_time": "2023-11-17T09:11:34.235Z"
   },
   {
    "duration": 160,
    "start_time": "2023-11-17T09:11:41.704Z"
   },
   {
    "duration": 286,
    "start_time": "2023-11-17T09:16:58.528Z"
   },
   {
    "duration": 242,
    "start_time": "2023-11-17T09:17:09.774Z"
   },
   {
    "duration": 172,
    "start_time": "2023-11-17T09:17:34.894Z"
   },
   {
    "duration": 158,
    "start_time": "2023-11-17T09:17:44.599Z"
   },
   {
    "duration": 1340,
    "start_time": "2023-11-17T09:22:49.566Z"
   },
   {
    "duration": 43,
    "start_time": "2023-11-17T09:22:50.908Z"
   },
   {
    "duration": 17,
    "start_time": "2023-11-17T09:22:50.952Z"
   },
   {
    "duration": 32,
    "start_time": "2023-11-17T09:22:50.971Z"
   },
   {
    "duration": 8,
    "start_time": "2023-11-17T09:22:51.005Z"
   },
   {
    "duration": 21,
    "start_time": "2023-11-17T09:22:51.014Z"
   },
   {
    "duration": 3,
    "start_time": "2023-11-17T09:22:51.037Z"
   },
   {
    "duration": 10,
    "start_time": "2023-11-17T09:22:51.042Z"
   },
   {
    "duration": 9,
    "start_time": "2023-11-17T09:22:51.053Z"
   },
   {
    "duration": 4,
    "start_time": "2023-11-17T09:22:51.066Z"
   },
   {
    "duration": 16,
    "start_time": "2023-11-17T09:22:51.072Z"
   },
   {
    "duration": 4,
    "start_time": "2023-11-17T09:22:51.090Z"
   },
   {
    "duration": 15,
    "start_time": "2023-11-17T09:22:51.096Z"
   },
   {
    "duration": 15,
    "start_time": "2023-11-17T09:22:51.113Z"
   },
   {
    "duration": 17,
    "start_time": "2023-11-17T09:22:51.129Z"
   },
   {
    "duration": 37,
    "start_time": "2023-11-17T09:22:51.148Z"
   },
   {
    "duration": 5,
    "start_time": "2023-11-17T09:22:51.187Z"
   },
   {
    "duration": 5,
    "start_time": "2023-11-17T09:22:51.194Z"
   },
   {
    "duration": 167,
    "start_time": "2023-11-17T09:22:51.200Z"
   },
   {
    "duration": 9,
    "start_time": "2023-11-17T09:22:51.369Z"
   },
   {
    "duration": 10,
    "start_time": "2023-11-17T09:22:51.380Z"
   },
   {
    "duration": 14,
    "start_time": "2023-11-17T09:22:51.392Z"
   },
   {
    "duration": 4,
    "start_time": "2023-11-17T09:22:51.407Z"
   },
   {
    "duration": 9,
    "start_time": "2023-11-17T09:22:51.413Z"
   },
   {
    "duration": 259,
    "start_time": "2023-11-17T09:22:51.424Z"
   },
   {
    "duration": 263,
    "start_time": "2023-11-17T09:22:51.685Z"
   },
   {
    "duration": 250,
    "start_time": "2023-11-17T09:22:51.951Z"
   },
   {
    "duration": 325,
    "start_time": "2023-11-17T09:22:52.205Z"
   },
   {
    "duration": 423,
    "start_time": "2023-11-17T09:22:52.532Z"
   },
   {
    "duration": 519,
    "start_time": "2023-11-17T09:22:52.957Z"
   },
   {
    "duration": 173,
    "start_time": "2023-11-17T09:22:53.478Z"
   },
   {
    "duration": 112,
    "start_time": "2023-11-17T09:22:53.653Z"
   },
   {
    "duration": 1414,
    "start_time": "2023-11-20T07:43:09.553Z"
   },
   {
    "duration": 146,
    "start_time": "2023-11-20T07:43:10.969Z"
   },
   {
    "duration": 24,
    "start_time": "2023-11-20T07:43:11.118Z"
   },
   {
    "duration": 22,
    "start_time": "2023-11-20T07:43:11.144Z"
   },
   {
    "duration": 7,
    "start_time": "2023-11-20T07:43:11.167Z"
   },
   {
    "duration": 20,
    "start_time": "2023-11-20T07:43:11.175Z"
   },
   {
    "duration": 7,
    "start_time": "2023-11-20T07:43:11.196Z"
   },
   {
    "duration": 19,
    "start_time": "2023-11-20T07:43:11.204Z"
   },
   {
    "duration": 13,
    "start_time": "2023-11-20T07:43:11.225Z"
   },
   {
    "duration": 4,
    "start_time": "2023-11-20T07:43:11.240Z"
   },
   {
    "duration": 23,
    "start_time": "2023-11-20T07:43:11.245Z"
   },
   {
    "duration": 4,
    "start_time": "2023-11-20T07:43:11.270Z"
   },
   {
    "duration": 8,
    "start_time": "2023-11-20T07:43:11.275Z"
   },
   {
    "duration": 4,
    "start_time": "2023-11-20T07:43:11.285Z"
   },
   {
    "duration": 12,
    "start_time": "2023-11-20T07:43:11.290Z"
   },
   {
    "duration": 57,
    "start_time": "2023-11-20T07:43:11.303Z"
   },
   {
    "duration": 5,
    "start_time": "2023-11-20T07:43:11.361Z"
   },
   {
    "duration": 6,
    "start_time": "2023-11-20T07:43:11.367Z"
   },
   {
    "duration": 153,
    "start_time": "2023-11-20T07:43:11.374Z"
   },
   {
    "duration": 10,
    "start_time": "2023-11-20T07:43:11.528Z"
   },
   {
    "duration": 5,
    "start_time": "2023-11-20T07:43:11.558Z"
   },
   {
    "duration": 8,
    "start_time": "2023-11-20T07:43:11.565Z"
   },
   {
    "duration": 4,
    "start_time": "2023-11-20T07:43:11.575Z"
   },
   {
    "duration": 8,
    "start_time": "2023-11-20T07:43:11.580Z"
   },
   {
    "duration": 247,
    "start_time": "2023-11-20T07:43:11.590Z"
   },
   {
    "duration": 245,
    "start_time": "2023-11-20T07:43:11.839Z"
   },
   {
    "duration": 235,
    "start_time": "2023-11-20T07:43:12.086Z"
   },
   {
    "duration": 294,
    "start_time": "2023-11-20T07:43:12.324Z"
   },
   {
    "duration": 406,
    "start_time": "2023-11-20T07:43:12.620Z"
   },
   {
    "duration": 480,
    "start_time": "2023-11-20T07:43:13.027Z"
   },
   {
    "duration": 165,
    "start_time": "2023-11-20T07:43:13.509Z"
   },
   {
    "duration": 106,
    "start_time": "2023-11-20T07:43:13.675Z"
   },
   {
    "duration": 8,
    "start_time": "2023-11-20T07:44:55.222Z"
   },
   {
    "duration": 20,
    "start_time": "2023-11-20T07:45:00.334Z"
   },
   {
    "duration": 198,
    "start_time": "2023-11-20T07:47:05.429Z"
   },
   {
    "duration": 5,
    "start_time": "2023-11-20T07:48:11.844Z"
   },
   {
    "duration": 175,
    "start_time": "2023-11-20T07:48:13.579Z"
   },
   {
    "duration": 549,
    "start_time": "2023-11-20T07:49:05.069Z"
   },
   {
    "duration": 1384,
    "start_time": "2023-11-20T07:50:02.128Z"
   },
   {
    "duration": 43,
    "start_time": "2023-11-20T07:50:03.514Z"
   },
   {
    "duration": 28,
    "start_time": "2023-11-20T07:50:03.560Z"
   },
   {
    "duration": 12,
    "start_time": "2023-11-20T07:50:03.591Z"
   },
   {
    "duration": 7,
    "start_time": "2023-11-20T07:50:03.605Z"
   },
   {
    "duration": 16,
    "start_time": "2023-11-20T07:50:03.613Z"
   },
   {
    "duration": 28,
    "start_time": "2023-11-20T07:50:03.631Z"
   },
   {
    "duration": 17,
    "start_time": "2023-11-20T07:50:03.661Z"
   },
   {
    "duration": 38,
    "start_time": "2023-11-20T07:50:03.680Z"
   },
   {
    "duration": 17,
    "start_time": "2023-11-20T07:50:03.721Z"
   },
   {
    "duration": 35,
    "start_time": "2023-11-20T07:50:03.740Z"
   },
   {
    "duration": 18,
    "start_time": "2023-11-20T07:50:03.777Z"
   },
   {
    "duration": 11,
    "start_time": "2023-11-20T07:50:03.797Z"
   },
   {
    "duration": 5,
    "start_time": "2023-11-20T07:50:03.810Z"
   },
   {
    "duration": 22,
    "start_time": "2023-11-20T07:50:03.817Z"
   },
   {
    "duration": 49,
    "start_time": "2023-11-20T07:50:03.841Z"
   },
   {
    "duration": 5,
    "start_time": "2023-11-20T07:50:03.892Z"
   },
   {
    "duration": 9,
    "start_time": "2023-11-20T07:50:03.898Z"
   },
   {
    "duration": 138,
    "start_time": "2023-11-20T07:50:03.909Z"
   },
   {
    "duration": 16,
    "start_time": "2023-11-20T07:50:04.048Z"
   },
   {
    "duration": 14,
    "start_time": "2023-11-20T07:50:04.067Z"
   },
   {
    "duration": 18,
    "start_time": "2023-11-20T07:50:04.083Z"
   },
   {
    "duration": 5,
    "start_time": "2023-11-20T07:50:04.102Z"
   },
   {
    "duration": 21,
    "start_time": "2023-11-20T07:50:04.109Z"
   },
   {
    "duration": 291,
    "start_time": "2023-11-20T07:50:04.132Z"
   },
   {
    "duration": 257,
    "start_time": "2023-11-20T07:50:04.425Z"
   },
   {
    "duration": 251,
    "start_time": "2023-11-20T07:50:04.684Z"
   },
   {
    "duration": 337,
    "start_time": "2023-11-20T07:50:04.939Z"
   },
   {
    "duration": 430,
    "start_time": "2023-11-20T07:50:05.279Z"
   },
   {
    "duration": 428,
    "start_time": "2023-11-20T07:50:05.711Z"
   },
   {
    "duration": 0,
    "start_time": "2023-11-20T07:50:06.141Z"
   },
   {
    "duration": 0,
    "start_time": "2023-11-20T07:50:06.142Z"
   },
   {
    "duration": 1311,
    "start_time": "2023-11-20T07:50:45.662Z"
   },
   {
    "duration": 42,
    "start_time": "2023-11-20T07:50:46.975Z"
   },
   {
    "duration": 16,
    "start_time": "2023-11-20T07:50:47.019Z"
   },
   {
    "duration": 11,
    "start_time": "2023-11-20T07:50:47.037Z"
   },
   {
    "duration": 10,
    "start_time": "2023-11-20T07:50:47.049Z"
   },
   {
    "duration": 13,
    "start_time": "2023-11-20T07:50:47.061Z"
   },
   {
    "duration": 6,
    "start_time": "2023-11-20T07:50:47.075Z"
   },
   {
    "duration": 12,
    "start_time": "2023-11-20T07:50:47.082Z"
   },
   {
    "duration": 6,
    "start_time": "2023-11-20T07:50:47.095Z"
   },
   {
    "duration": 4,
    "start_time": "2023-11-20T07:50:47.104Z"
   },
   {
    "duration": 17,
    "start_time": "2023-11-20T07:50:47.109Z"
   },
   {
    "duration": 4,
    "start_time": "2023-11-20T07:50:47.159Z"
   },
   {
    "duration": 14,
    "start_time": "2023-11-20T07:50:47.165Z"
   },
   {
    "duration": 9,
    "start_time": "2023-11-20T07:50:47.181Z"
   },
   {
    "duration": 14,
    "start_time": "2023-11-20T07:50:47.192Z"
   },
   {
    "duration": 22,
    "start_time": "2023-11-20T07:50:47.208Z"
   },
   {
    "duration": 6,
    "start_time": "2023-11-20T07:50:47.232Z"
   },
   {
    "duration": 24,
    "start_time": "2023-11-20T07:50:47.239Z"
   },
   {
    "duration": 139,
    "start_time": "2023-11-20T07:50:47.265Z"
   },
   {
    "duration": 10,
    "start_time": "2023-11-20T07:50:47.406Z"
   },
   {
    "duration": 6,
    "start_time": "2023-11-20T07:50:47.418Z"
   },
   {
    "duration": 34,
    "start_time": "2023-11-20T07:50:47.425Z"
   },
   {
    "duration": 4,
    "start_time": "2023-11-20T07:50:47.461Z"
   },
   {
    "duration": 7,
    "start_time": "2023-11-20T07:50:47.467Z"
   },
   {
    "duration": 248,
    "start_time": "2023-11-20T07:50:47.475Z"
   },
   {
    "duration": 252,
    "start_time": "2023-11-20T07:50:47.725Z"
   },
   {
    "duration": 230,
    "start_time": "2023-11-20T07:50:47.979Z"
   },
   {
    "duration": 288,
    "start_time": "2023-11-20T07:50:48.214Z"
   },
   {
    "duration": 412,
    "start_time": "2023-11-20T07:50:48.503Z"
   },
   {
    "duration": 6,
    "start_time": "2023-11-20T07:50:48.916Z"
   },
   {
    "duration": 509,
    "start_time": "2023-11-20T07:50:48.923Z"
   },
   {
    "duration": 163,
    "start_time": "2023-11-20T07:50:49.434Z"
   },
   {
    "duration": 21,
    "start_time": "2023-11-20T07:50:49.599Z"
   },
   {
    "duration": 577,
    "start_time": "2023-11-20T07:53:09.355Z"
   },
   {
    "duration": 517,
    "start_time": "2023-11-20T07:53:13.283Z"
   },
   {
    "duration": 572,
    "start_time": "2023-11-20T07:53:21.841Z"
   },
   {
    "duration": 1255,
    "start_time": "2023-11-20T07:55:16.600Z"
   },
   {
    "duration": 40,
    "start_time": "2023-11-20T07:55:17.858Z"
   },
   {
    "duration": 20,
    "start_time": "2023-11-20T07:55:17.900Z"
   },
   {
    "duration": 15,
    "start_time": "2023-11-20T07:55:17.922Z"
   },
   {
    "duration": 50,
    "start_time": "2023-11-20T07:55:17.939Z"
   },
   {
    "duration": 27,
    "start_time": "2023-11-20T07:55:17.991Z"
   },
   {
    "duration": 8,
    "start_time": "2023-11-20T07:55:18.019Z"
   },
   {
    "duration": 15,
    "start_time": "2023-11-20T07:55:18.029Z"
   },
   {
    "duration": 20,
    "start_time": "2023-11-20T07:55:18.046Z"
   },
   {
    "duration": 16,
    "start_time": "2023-11-20T07:55:18.067Z"
   },
   {
    "duration": 16,
    "start_time": "2023-11-20T07:55:18.085Z"
   },
   {
    "duration": 4,
    "start_time": "2023-11-20T07:55:18.103Z"
   },
   {
    "duration": 25,
    "start_time": "2023-11-20T07:55:18.108Z"
   },
   {
    "duration": 8,
    "start_time": "2023-11-20T07:55:18.136Z"
   },
   {
    "duration": 43,
    "start_time": "2023-11-20T07:55:18.146Z"
   },
   {
    "duration": 68,
    "start_time": "2023-11-20T07:55:18.191Z"
   },
   {
    "duration": 5,
    "start_time": "2023-11-20T07:55:18.261Z"
   },
   {
    "duration": 34,
    "start_time": "2023-11-20T07:55:18.267Z"
   },
   {
    "duration": 142,
    "start_time": "2023-11-20T07:55:18.303Z"
   },
   {
    "duration": 18,
    "start_time": "2023-11-20T07:55:18.447Z"
   },
   {
    "duration": 10,
    "start_time": "2023-11-20T07:55:18.467Z"
   },
   {
    "duration": 16,
    "start_time": "2023-11-20T07:55:18.479Z"
   },
   {
    "duration": 9,
    "start_time": "2023-11-20T07:55:18.497Z"
   },
   {
    "duration": 7,
    "start_time": "2023-11-20T07:55:18.507Z"
   },
   {
    "duration": 229,
    "start_time": "2023-11-20T07:55:18.516Z"
   },
   {
    "duration": 240,
    "start_time": "2023-11-20T07:55:18.747Z"
   },
   {
    "duration": 231,
    "start_time": "2023-11-20T07:55:18.989Z"
   },
   {
    "duration": 271,
    "start_time": "2023-11-20T07:55:19.222Z"
   },
   {
    "duration": 392,
    "start_time": "2023-11-20T07:55:19.495Z"
   },
   {
    "duration": 5,
    "start_time": "2023-11-20T07:55:19.889Z"
   },
   {
    "duration": 480,
    "start_time": "2023-11-20T07:55:19.895Z"
   },
   {
    "duration": 163,
    "start_time": "2023-11-20T07:55:20.377Z"
   },
   {
    "duration": 89,
    "start_time": "2023-11-20T07:55:20.542Z"
   },
   {
    "duration": 579,
    "start_time": "2023-11-20T07:57:30.307Z"
   },
   {
    "duration": 573,
    "start_time": "2023-11-20T07:57:41.303Z"
   },
   {
    "duration": 18,
    "start_time": "2023-11-20T08:04:40.412Z"
   },
   {
    "duration": 16,
    "start_time": "2023-11-20T08:08:36.730Z"
   },
   {
    "duration": 131,
    "start_time": "2023-11-20T08:09:03.753Z"
   },
   {
    "duration": 1205,
    "start_time": "2023-11-20T08:10:19.385Z"
   },
   {
    "duration": 40,
    "start_time": "2023-11-20T08:10:20.592Z"
   },
   {
    "duration": 19,
    "start_time": "2023-11-20T08:10:20.634Z"
   },
   {
    "duration": 11,
    "start_time": "2023-11-20T08:10:20.655Z"
   },
   {
    "duration": 6,
    "start_time": "2023-11-20T08:10:20.668Z"
   },
   {
    "duration": 13,
    "start_time": "2023-11-20T08:10:20.676Z"
   },
   {
    "duration": 4,
    "start_time": "2023-11-20T08:10:20.690Z"
   },
   {
    "duration": 5,
    "start_time": "2023-11-20T08:10:20.696Z"
   },
   {
    "duration": 6,
    "start_time": "2023-11-20T08:10:20.703Z"
   },
   {
    "duration": 5,
    "start_time": "2023-11-20T08:10:20.712Z"
   },
   {
    "duration": 50,
    "start_time": "2023-11-20T08:10:20.719Z"
   },
   {
    "duration": 6,
    "start_time": "2023-11-20T08:10:20.771Z"
   },
   {
    "duration": 9,
    "start_time": "2023-11-20T08:10:20.779Z"
   },
   {
    "duration": 4,
    "start_time": "2023-11-20T08:10:20.789Z"
   },
   {
    "duration": 12,
    "start_time": "2023-11-20T08:10:20.794Z"
   },
   {
    "duration": 59,
    "start_time": "2023-11-20T08:10:20.807Z"
   },
   {
    "duration": 4,
    "start_time": "2023-11-20T08:10:20.868Z"
   },
   {
    "duration": 16,
    "start_time": "2023-11-20T08:10:20.874Z"
   },
   {
    "duration": 127,
    "start_time": "2023-11-20T08:10:20.891Z"
   },
   {
    "duration": 8,
    "start_time": "2023-11-20T08:10:21.020Z"
   },
   {
    "duration": 14,
    "start_time": "2023-11-20T08:10:21.029Z"
   },
   {
    "duration": 24,
    "start_time": "2023-11-20T08:10:21.045Z"
   },
   {
    "duration": 10,
    "start_time": "2023-11-20T08:10:21.071Z"
   },
   {
    "duration": 11,
    "start_time": "2023-11-20T08:10:21.083Z"
   },
   {
    "duration": 232,
    "start_time": "2023-11-20T08:10:21.095Z"
   },
   {
    "duration": 238,
    "start_time": "2023-11-20T08:10:21.328Z"
   },
   {
    "duration": 226,
    "start_time": "2023-11-20T08:10:21.568Z"
   },
   {
    "duration": 286,
    "start_time": "2023-11-20T08:10:21.798Z"
   },
   {
    "duration": 417,
    "start_time": "2023-11-20T08:10:22.086Z"
   },
   {
    "duration": 482,
    "start_time": "2023-11-20T08:10:22.505Z"
   },
   {
    "duration": 6,
    "start_time": "2023-11-20T08:10:22.989Z"
   },
   {
    "duration": 18,
    "start_time": "2023-11-20T08:10:22.997Z"
   },
   {
    "duration": 5,
    "start_time": "2023-11-20T08:10:23.016Z"
   },
   {
    "duration": 178,
    "start_time": "2023-11-20T08:10:23.023Z"
   },
   {
    "duration": 1863,
    "start_time": "2023-11-20T08:11:10.792Z"
   },
   {
    "duration": 146,
    "start_time": "2023-11-20T08:11:27.555Z"
   },
   {
    "duration": 134,
    "start_time": "2023-11-20T08:12:46.527Z"
   },
   {
    "duration": 607,
    "start_time": "2023-11-20T08:16:26.669Z"
   },
   {
    "duration": 1249,
    "start_time": "2023-11-20T08:16:50.424Z"
   },
   {
    "duration": 40,
    "start_time": "2023-11-20T08:16:51.675Z"
   },
   {
    "duration": 16,
    "start_time": "2023-11-20T08:16:51.717Z"
   },
   {
    "duration": 11,
    "start_time": "2023-11-20T08:16:51.734Z"
   },
   {
    "duration": 10,
    "start_time": "2023-11-20T08:16:51.753Z"
   },
   {
    "duration": 28,
    "start_time": "2023-11-20T08:16:51.764Z"
   },
   {
    "duration": 9,
    "start_time": "2023-11-20T08:16:51.793Z"
   },
   {
    "duration": 18,
    "start_time": "2023-11-20T08:16:51.803Z"
   },
   {
    "duration": 14,
    "start_time": "2023-11-20T08:16:51.823Z"
   },
   {
    "duration": 18,
    "start_time": "2023-11-20T08:16:51.838Z"
   },
   {
    "duration": 16,
    "start_time": "2023-11-20T08:16:51.857Z"
   },
   {
    "duration": 5,
    "start_time": "2023-11-20T08:16:51.874Z"
   },
   {
    "duration": 19,
    "start_time": "2023-11-20T08:16:51.880Z"
   },
   {
    "duration": 7,
    "start_time": "2023-11-20T08:16:51.901Z"
   },
   {
    "duration": 29,
    "start_time": "2023-11-20T08:16:51.910Z"
   },
   {
    "duration": 30,
    "start_time": "2023-11-20T08:16:51.940Z"
   },
   {
    "duration": 5,
    "start_time": "2023-11-20T08:16:51.971Z"
   },
   {
    "duration": 12,
    "start_time": "2023-11-20T08:16:51.977Z"
   },
   {
    "duration": 127,
    "start_time": "2023-11-20T08:16:51.990Z"
   },
   {
    "duration": 8,
    "start_time": "2023-11-20T08:16:52.119Z"
   },
   {
    "duration": 7,
    "start_time": "2023-11-20T08:16:52.128Z"
   },
   {
    "duration": 29,
    "start_time": "2023-11-20T08:16:52.137Z"
   },
   {
    "duration": 17,
    "start_time": "2023-11-20T08:16:52.168Z"
   },
   {
    "duration": 5,
    "start_time": "2023-11-20T08:16:52.187Z"
   },
   {
    "duration": 239,
    "start_time": "2023-11-20T08:16:52.193Z"
   },
   {
    "duration": 242,
    "start_time": "2023-11-20T08:16:52.434Z"
   },
   {
    "duration": 268,
    "start_time": "2023-11-20T08:16:52.678Z"
   },
   {
    "duration": 282,
    "start_time": "2023-11-20T08:16:52.947Z"
   },
   {
    "duration": 391,
    "start_time": "2023-11-20T08:16:53.231Z"
   },
   {
    "duration": 470,
    "start_time": "2023-11-20T08:16:53.624Z"
   },
   {
    "duration": 562,
    "start_time": "2023-11-20T08:20:01.956Z"
   },
   {
    "duration": 1248,
    "start_time": "2023-11-20T08:21:36.056Z"
   },
   {
    "duration": 41,
    "start_time": "2023-11-20T08:21:37.306Z"
   },
   {
    "duration": 16,
    "start_time": "2023-11-20T08:21:37.348Z"
   },
   {
    "duration": 12,
    "start_time": "2023-11-20T08:21:37.366Z"
   },
   {
    "duration": 7,
    "start_time": "2023-11-20T08:21:37.380Z"
   },
   {
    "duration": 15,
    "start_time": "2023-11-20T08:21:37.388Z"
   },
   {
    "duration": 2,
    "start_time": "2023-11-20T08:21:37.404Z"
   },
   {
    "duration": 4,
    "start_time": "2023-11-20T08:21:37.408Z"
   },
   {
    "duration": 8,
    "start_time": "2023-11-20T08:21:37.413Z"
   },
   {
    "duration": 34,
    "start_time": "2023-11-20T08:21:37.424Z"
   },
   {
    "duration": 13,
    "start_time": "2023-11-20T08:21:37.460Z"
   },
   {
    "duration": 4,
    "start_time": "2023-11-20T08:21:37.475Z"
   },
   {
    "duration": 9,
    "start_time": "2023-11-20T08:21:37.480Z"
   },
   {
    "duration": 5,
    "start_time": "2023-11-20T08:21:37.490Z"
   },
   {
    "duration": 11,
    "start_time": "2023-11-20T08:21:37.496Z"
   },
   {
    "duration": 59,
    "start_time": "2023-11-20T08:21:37.509Z"
   },
   {
    "duration": 6,
    "start_time": "2023-11-20T08:21:37.569Z"
   },
   {
    "duration": 11,
    "start_time": "2023-11-20T08:21:37.577Z"
   },
   {
    "duration": 135,
    "start_time": "2023-11-20T08:21:37.590Z"
   },
   {
    "duration": 9,
    "start_time": "2023-11-20T08:21:37.727Z"
   },
   {
    "duration": 27,
    "start_time": "2023-11-20T08:21:37.737Z"
   },
   {
    "duration": 8,
    "start_time": "2023-11-20T08:21:37.765Z"
   },
   {
    "duration": 3,
    "start_time": "2023-11-20T08:21:37.775Z"
   },
   {
    "duration": 6,
    "start_time": "2023-11-20T08:21:37.779Z"
   },
   {
    "duration": 243,
    "start_time": "2023-11-20T08:21:37.787Z"
   },
   {
    "duration": 241,
    "start_time": "2023-11-20T08:21:38.031Z"
   },
   {
    "duration": 223,
    "start_time": "2023-11-20T08:21:38.273Z"
   },
   {
    "duration": 282,
    "start_time": "2023-11-20T08:21:38.499Z"
   },
   {
    "duration": 406,
    "start_time": "2023-11-20T08:21:38.782Z"
   },
   {
    "duration": 490,
    "start_time": "2023-11-20T08:21:39.190Z"
   },
   {
    "duration": 109,
    "start_time": "2023-11-20T08:21:39.682Z"
   },
   {
    "duration": 559,
    "start_time": "2023-11-20T08:21:49.642Z"
   },
   {
    "duration": 12,
    "start_time": "2023-11-20T08:25:58.112Z"
   },
   {
    "duration": 11,
    "start_time": "2023-11-20T08:26:15.071Z"
   },
   {
    "duration": 12,
    "start_time": "2023-11-20T08:27:39.038Z"
   },
   {
    "duration": 243,
    "start_time": "2023-11-20T08:29:22.179Z"
   },
   {
    "duration": 11,
    "start_time": "2023-11-20T08:29:30.002Z"
   },
   {
    "duration": 5,
    "start_time": "2023-11-20T08:32:06.018Z"
   },
   {
    "duration": 14,
    "start_time": "2023-11-20T08:32:08.159Z"
   },
   {
    "duration": 318,
    "start_time": "2023-11-20T08:32:19.721Z"
   },
   {
    "duration": 251,
    "start_time": "2023-11-20T08:32:37.376Z"
   },
   {
    "duration": 321,
    "start_time": "2023-11-20T08:32:56.013Z"
   },
   {
    "duration": 8,
    "start_time": "2023-11-20T08:33:46.187Z"
   },
   {
    "duration": 313,
    "start_time": "2023-11-20T08:33:50.164Z"
   },
   {
    "duration": 326,
    "start_time": "2023-11-20T08:34:31.781Z"
   },
   {
    "duration": 309,
    "start_time": "2023-11-20T08:34:44.752Z"
   },
   {
    "duration": 305,
    "start_time": "2023-11-20T08:36:04.571Z"
   },
   {
    "duration": 1371,
    "start_time": "2023-11-20T08:37:27.452Z"
   },
   {
    "duration": 41,
    "start_time": "2023-11-20T08:37:28.825Z"
   },
   {
    "duration": 16,
    "start_time": "2023-11-20T08:37:28.868Z"
   },
   {
    "duration": 33,
    "start_time": "2023-11-20T08:37:28.885Z"
   },
   {
    "duration": 14,
    "start_time": "2023-11-20T08:37:28.919Z"
   },
   {
    "duration": 35,
    "start_time": "2023-11-20T08:37:28.934Z"
   },
   {
    "duration": 17,
    "start_time": "2023-11-20T08:37:28.971Z"
   },
   {
    "duration": 15,
    "start_time": "2023-11-20T08:37:28.990Z"
   },
   {
    "duration": 18,
    "start_time": "2023-11-20T08:37:29.007Z"
   },
   {
    "duration": 21,
    "start_time": "2023-11-20T08:37:29.028Z"
   },
   {
    "duration": 18,
    "start_time": "2023-11-20T08:37:29.050Z"
   },
   {
    "duration": 21,
    "start_time": "2023-11-20T08:37:29.069Z"
   },
   {
    "duration": 21,
    "start_time": "2023-11-20T08:37:29.092Z"
   },
   {
    "duration": 27,
    "start_time": "2023-11-20T08:37:29.115Z"
   },
   {
    "duration": 35,
    "start_time": "2023-11-20T08:37:29.143Z"
   },
   {
    "duration": 37,
    "start_time": "2023-11-20T08:37:29.179Z"
   },
   {
    "duration": 10,
    "start_time": "2023-11-20T08:37:29.217Z"
   },
   {
    "duration": 39,
    "start_time": "2023-11-20T08:37:29.229Z"
   },
   {
    "duration": 146,
    "start_time": "2023-11-20T08:37:29.270Z"
   },
   {
    "duration": 11,
    "start_time": "2023-11-20T08:37:29.418Z"
   },
   {
    "duration": 35,
    "start_time": "2023-11-20T08:37:29.431Z"
   },
   {
    "duration": 64,
    "start_time": "2023-11-20T08:37:29.468Z"
   },
   {
    "duration": 77,
    "start_time": "2023-11-20T08:37:29.534Z"
   },
   {
    "duration": 24,
    "start_time": "2023-11-20T08:37:29.613Z"
   },
   {
    "duration": 214,
    "start_time": "2023-11-20T08:37:29.638Z"
   },
   {
    "duration": 250,
    "start_time": "2023-11-20T08:37:29.854Z"
   },
   {
    "duration": 226,
    "start_time": "2023-11-20T08:37:30.106Z"
   },
   {
    "duration": 280,
    "start_time": "2023-11-20T08:37:30.335Z"
   },
   {
    "duration": 400,
    "start_time": "2023-11-20T08:37:30.616Z"
   },
   {
    "duration": 485,
    "start_time": "2023-11-20T08:37:31.017Z"
   },
   {
    "duration": 6,
    "start_time": "2023-11-20T08:37:31.503Z"
   },
   {
    "duration": 349,
    "start_time": "2023-11-20T08:37:31.511Z"
   },
   {
    "duration": 107,
    "start_time": "2023-11-20T08:37:31.862Z"
   },
   {
    "duration": 0,
    "start_time": "2023-11-20T08:37:31.971Z"
   },
   {
    "duration": 268,
    "start_time": "2023-11-20T08:40:25.712Z"
   },
   {
    "duration": 341,
    "start_time": "2023-11-20T08:40:39.619Z"
   },
   {
    "duration": 109,
    "start_time": "2023-11-20T08:41:28.676Z"
   },
   {
    "duration": 470,
    "start_time": "2023-11-20T08:46:15.985Z"
   },
   {
    "duration": 431,
    "start_time": "2023-11-20T08:47:12.855Z"
   },
   {
    "duration": 845,
    "start_time": "2023-11-20T08:47:29.407Z"
   },
   {
    "duration": 1071,
    "start_time": "2023-11-20T08:47:52.790Z"
   },
   {
    "duration": 485,
    "start_time": "2023-11-20T08:48:44.156Z"
   },
   {
    "duration": 15,
    "start_time": "2023-11-20T08:57:46.295Z"
   },
   {
    "duration": 23,
    "start_time": "2023-11-20T08:57:53.685Z"
   },
   {
    "duration": 1815,
    "start_time": "2023-11-20T08:58:30.115Z"
   },
   {
    "duration": 1211,
    "start_time": "2023-11-20T08:58:50.205Z"
   },
   {
    "duration": 40,
    "start_time": "2023-11-20T08:58:51.418Z"
   },
   {
    "duration": 17,
    "start_time": "2023-11-20T08:58:51.459Z"
   },
   {
    "duration": 12,
    "start_time": "2023-11-20T08:58:51.478Z"
   },
   {
    "duration": 8,
    "start_time": "2023-11-20T08:58:51.491Z"
   },
   {
    "duration": 28,
    "start_time": "2023-11-20T08:58:51.500Z"
   },
   {
    "duration": 31,
    "start_time": "2023-11-20T08:58:51.530Z"
   },
   {
    "duration": 27,
    "start_time": "2023-11-20T08:58:51.563Z"
   },
   {
    "duration": 2,
    "start_time": "2023-11-20T08:58:51.592Z"
   },
   {
    "duration": 4,
    "start_time": "2023-11-20T08:58:51.596Z"
   },
   {
    "duration": 110,
    "start_time": "2023-11-20T08:58:51.601Z"
   },
   {
    "duration": 0,
    "start_time": "2023-11-20T08:58:51.712Z"
   },
   {
    "duration": 0,
    "start_time": "2023-11-20T08:58:51.713Z"
   },
   {
    "duration": 0,
    "start_time": "2023-11-20T08:58:51.714Z"
   },
   {
    "duration": 0,
    "start_time": "2023-11-20T08:58:51.716Z"
   },
   {
    "duration": 0,
    "start_time": "2023-11-20T08:58:51.717Z"
   },
   {
    "duration": 0,
    "start_time": "2023-11-20T08:58:51.718Z"
   },
   {
    "duration": 0,
    "start_time": "2023-11-20T08:58:51.719Z"
   },
   {
    "duration": 0,
    "start_time": "2023-11-20T08:58:51.720Z"
   },
   {
    "duration": 0,
    "start_time": "2023-11-20T08:58:51.721Z"
   },
   {
    "duration": 0,
    "start_time": "2023-11-20T08:58:51.722Z"
   },
   {
    "duration": 0,
    "start_time": "2023-11-20T08:58:51.723Z"
   },
   {
    "duration": 0,
    "start_time": "2023-11-20T08:58:51.724Z"
   },
   {
    "duration": 0,
    "start_time": "2023-11-20T08:58:51.725Z"
   },
   {
    "duration": 0,
    "start_time": "2023-11-20T08:58:51.725Z"
   },
   {
    "duration": 0,
    "start_time": "2023-11-20T08:58:51.726Z"
   },
   {
    "duration": 0,
    "start_time": "2023-11-20T08:58:51.727Z"
   },
   {
    "duration": 0,
    "start_time": "2023-11-20T08:58:51.728Z"
   },
   {
    "duration": 0,
    "start_time": "2023-11-20T08:58:51.730Z"
   },
   {
    "duration": 0,
    "start_time": "2023-11-20T08:58:51.759Z"
   },
   {
    "duration": 0,
    "start_time": "2023-11-20T08:58:51.759Z"
   },
   {
    "duration": 0,
    "start_time": "2023-11-20T08:58:51.760Z"
   },
   {
    "duration": 1357,
    "start_time": "2023-11-20T09:00:07.017Z"
   },
   {
    "duration": 41,
    "start_time": "2023-11-20T09:00:08.376Z"
   },
   {
    "duration": 16,
    "start_time": "2023-11-20T09:00:08.418Z"
   },
   {
    "duration": 61,
    "start_time": "2023-11-20T09:00:08.436Z"
   },
   {
    "duration": 10,
    "start_time": "2023-11-20T09:00:08.498Z"
   },
   {
    "duration": 47,
    "start_time": "2023-11-20T09:00:08.510Z"
   },
   {
    "duration": 37,
    "start_time": "2023-11-20T09:00:08.559Z"
   },
   {
    "duration": 19,
    "start_time": "2023-11-20T09:00:08.598Z"
   },
   {
    "duration": 18,
    "start_time": "2023-11-20T09:00:08.618Z"
   },
   {
    "duration": 7,
    "start_time": "2023-11-20T09:00:08.639Z"
   },
   {
    "duration": 17,
    "start_time": "2023-11-20T09:00:08.647Z"
   },
   {
    "duration": 5,
    "start_time": "2023-11-20T09:00:08.666Z"
   },
   {
    "duration": 13,
    "start_time": "2023-11-20T09:00:08.672Z"
   },
   {
    "duration": 23,
    "start_time": "2023-11-20T09:00:08.687Z"
   },
   {
    "duration": 14,
    "start_time": "2023-11-20T09:00:08.712Z"
   },
   {
    "duration": 31,
    "start_time": "2023-11-20T09:00:08.728Z"
   },
   {
    "duration": 5,
    "start_time": "2023-11-20T09:00:08.760Z"
   },
   {
    "duration": 35,
    "start_time": "2023-11-20T09:00:08.766Z"
   },
   {
    "duration": 120,
    "start_time": "2023-11-20T09:00:08.803Z"
   },
   {
    "duration": 9,
    "start_time": "2023-11-20T09:00:08.925Z"
   },
   {
    "duration": 5,
    "start_time": "2023-11-20T09:00:08.935Z"
   },
   {
    "duration": 23,
    "start_time": "2023-11-20T09:00:08.941Z"
   },
   {
    "duration": 11,
    "start_time": "2023-11-20T09:00:08.966Z"
   },
   {
    "duration": 12,
    "start_time": "2023-11-20T09:00:08.979Z"
   },
   {
    "duration": 228,
    "start_time": "2023-11-20T09:00:08.992Z"
   },
   {
    "duration": 242,
    "start_time": "2023-11-20T09:00:09.222Z"
   },
   {
    "duration": 221,
    "start_time": "2023-11-20T09:00:09.466Z"
   },
   {
    "duration": 286,
    "start_time": "2023-11-20T09:00:09.690Z"
   },
   {
    "duration": 391,
    "start_time": "2023-11-20T09:00:09.977Z"
   },
   {
    "duration": 460,
    "start_time": "2023-11-20T09:00:10.370Z"
   },
   {
    "duration": 11,
    "start_time": "2023-11-20T09:00:10.832Z"
   },
   {
    "duration": 1586,
    "start_time": "2023-11-20T09:02:12.614Z"
   },
   {
    "duration": 1208,
    "start_time": "2023-11-20T09:02:26.283Z"
   },
   {
    "duration": 41,
    "start_time": "2023-11-20T09:02:27.493Z"
   },
   {
    "duration": 18,
    "start_time": "2023-11-20T09:02:27.536Z"
   },
   {
    "duration": 43,
    "start_time": "2023-11-20T09:02:27.556Z"
   },
   {
    "duration": 11,
    "start_time": "2023-11-20T09:02:27.601Z"
   },
   {
    "duration": 29,
    "start_time": "2023-11-20T09:02:27.613Z"
   },
   {
    "duration": 18,
    "start_time": "2023-11-20T09:02:27.643Z"
   },
   {
    "duration": 17,
    "start_time": "2023-11-20T09:02:27.662Z"
   },
   {
    "duration": 14,
    "start_time": "2023-11-20T09:02:27.680Z"
   },
   {
    "duration": 11,
    "start_time": "2023-11-20T09:02:27.696Z"
   },
   {
    "duration": 19,
    "start_time": "2023-11-20T09:02:27.709Z"
   },
   {
    "duration": 5,
    "start_time": "2023-11-20T09:02:27.729Z"
   },
   {
    "duration": 24,
    "start_time": "2023-11-20T09:02:27.735Z"
   },
   {
    "duration": 14,
    "start_time": "2023-11-20T09:02:27.760Z"
   },
   {
    "duration": 28,
    "start_time": "2023-11-20T09:02:27.775Z"
   },
   {
    "duration": 31,
    "start_time": "2023-11-20T09:02:27.804Z"
   },
   {
    "duration": 6,
    "start_time": "2023-11-20T09:02:27.836Z"
   },
   {
    "duration": 9,
    "start_time": "2023-11-20T09:02:27.845Z"
   },
   {
    "duration": 124,
    "start_time": "2023-11-20T09:02:27.856Z"
   },
   {
    "duration": 9,
    "start_time": "2023-11-20T09:02:27.982Z"
   },
   {
    "duration": 7,
    "start_time": "2023-11-20T09:02:27.992Z"
   },
   {
    "duration": 22,
    "start_time": "2023-11-20T09:02:28.001Z"
   },
   {
    "duration": 11,
    "start_time": "2023-11-20T09:02:28.025Z"
   },
   {
    "duration": 11,
    "start_time": "2023-11-20T09:02:28.037Z"
   },
   {
    "duration": 225,
    "start_time": "2023-11-20T09:02:28.049Z"
   },
   {
    "duration": 242,
    "start_time": "2023-11-20T09:02:28.276Z"
   },
   {
    "duration": 221,
    "start_time": "2023-11-20T09:02:28.520Z"
   },
   {
    "duration": 282,
    "start_time": "2023-11-20T09:02:28.744Z"
   },
   {
    "duration": 427,
    "start_time": "2023-11-20T09:02:29.028Z"
   },
   {
    "duration": 480,
    "start_time": "2023-11-20T09:02:29.457Z"
   },
   {
    "duration": 22,
    "start_time": "2023-11-20T09:02:29.939Z"
   },
   {
    "duration": 1421,
    "start_time": "2023-11-20T09:02:38.405Z"
   },
   {
    "duration": 1225,
    "start_time": "2023-11-20T09:02:46.886Z"
   },
   {
    "duration": 41,
    "start_time": "2023-11-20T09:02:48.113Z"
   },
   {
    "duration": 17,
    "start_time": "2023-11-20T09:02:48.155Z"
   },
   {
    "duration": 11,
    "start_time": "2023-11-20T09:02:48.174Z"
   },
   {
    "duration": 7,
    "start_time": "2023-11-20T09:02:48.187Z"
   },
   {
    "duration": 15,
    "start_time": "2023-11-20T09:02:48.195Z"
   },
   {
    "duration": 3,
    "start_time": "2023-11-20T09:02:48.211Z"
   },
   {
    "duration": 44,
    "start_time": "2023-11-20T09:02:48.215Z"
   },
   {
    "duration": 4,
    "start_time": "2023-11-20T09:02:48.261Z"
   },
   {
    "duration": 4,
    "start_time": "2023-11-20T09:02:48.267Z"
   },
   {
    "duration": 21,
    "start_time": "2023-11-20T09:02:48.272Z"
   },
   {
    "duration": 16,
    "start_time": "2023-11-20T09:02:48.294Z"
   },
   {
    "duration": 9,
    "start_time": "2023-11-20T09:02:48.312Z"
   },
   {
    "duration": 5,
    "start_time": "2023-11-20T09:02:48.323Z"
   },
   {
    "duration": 38,
    "start_time": "2023-11-20T09:02:48.330Z"
   },
   {
    "duration": 22,
    "start_time": "2023-11-20T09:02:48.369Z"
   },
   {
    "duration": 5,
    "start_time": "2023-11-20T09:02:48.393Z"
   },
   {
    "duration": 6,
    "start_time": "2023-11-20T09:02:48.399Z"
   },
   {
    "duration": 156,
    "start_time": "2023-11-20T09:02:48.407Z"
   },
   {
    "duration": 8,
    "start_time": "2023-11-20T09:02:48.565Z"
   },
   {
    "duration": 6,
    "start_time": "2023-11-20T09:02:48.575Z"
   },
   {
    "duration": 7,
    "start_time": "2023-11-20T09:02:48.583Z"
   },
   {
    "duration": 6,
    "start_time": "2023-11-20T09:02:48.591Z"
   },
   {
    "duration": 6,
    "start_time": "2023-11-20T09:02:48.599Z"
   },
   {
    "duration": 245,
    "start_time": "2023-11-20T09:02:48.607Z"
   },
   {
    "duration": 242,
    "start_time": "2023-11-20T09:02:48.857Z"
   },
   {
    "duration": 222,
    "start_time": "2023-11-20T09:02:49.101Z"
   },
   {
    "duration": 319,
    "start_time": "2023-11-20T09:02:49.326Z"
   },
   {
    "duration": 392,
    "start_time": "2023-11-20T09:02:49.646Z"
   },
   {
    "duration": 481,
    "start_time": "2023-11-20T09:02:50.040Z"
   },
   {
    "duration": 36,
    "start_time": "2023-11-20T09:02:50.522Z"
   },
   {
    "duration": 106,
    "start_time": "2023-11-20T09:04:09.025Z"
   },
   {
    "duration": 1624,
    "start_time": "2023-11-20T09:04:24.764Z"
   },
   {
    "duration": 1645,
    "start_time": "2023-11-20T09:05:00.492Z"
   },
   {
    "duration": 1766,
    "start_time": "2023-11-20T09:06:14.619Z"
   },
   {
    "duration": 1628,
    "start_time": "2023-11-20T09:06:47.011Z"
   },
   {
    "duration": 1321,
    "start_time": "2023-11-20T09:11:02.131Z"
   },
   {
    "duration": 42,
    "start_time": "2023-11-20T09:11:03.454Z"
   },
   {
    "duration": 19,
    "start_time": "2023-11-20T09:11:03.497Z"
   },
   {
    "duration": 26,
    "start_time": "2023-11-20T09:11:03.518Z"
   },
   {
    "duration": 12,
    "start_time": "2023-11-20T09:11:03.546Z"
   },
   {
    "duration": 13,
    "start_time": "2023-11-20T09:11:03.560Z"
   },
   {
    "duration": 16,
    "start_time": "2023-11-20T09:11:03.575Z"
   },
   {
    "duration": 9,
    "start_time": "2023-11-20T09:11:03.592Z"
   },
   {
    "duration": 15,
    "start_time": "2023-11-20T09:11:03.603Z"
   },
   {
    "duration": 5,
    "start_time": "2023-11-20T09:11:03.622Z"
   },
   {
    "duration": 29,
    "start_time": "2023-11-20T09:11:03.629Z"
   },
   {
    "duration": 9,
    "start_time": "2023-11-20T09:11:03.660Z"
   },
   {
    "duration": 31,
    "start_time": "2023-11-20T09:11:03.670Z"
   },
   {
    "duration": 14,
    "start_time": "2023-11-20T09:11:03.703Z"
   },
   {
    "duration": 23,
    "start_time": "2023-11-20T09:11:03.719Z"
   },
   {
    "duration": 23,
    "start_time": "2023-11-20T09:11:03.744Z"
   },
   {
    "duration": 5,
    "start_time": "2023-11-20T09:11:03.769Z"
   },
   {
    "duration": 10,
    "start_time": "2023-11-20T09:11:03.775Z"
   },
   {
    "duration": 145,
    "start_time": "2023-11-20T09:11:03.787Z"
   },
   {
    "duration": 9,
    "start_time": "2023-11-20T09:11:03.933Z"
   },
   {
    "duration": 7,
    "start_time": "2023-11-20T09:11:03.959Z"
   },
   {
    "duration": 16,
    "start_time": "2023-11-20T09:11:03.967Z"
   },
   {
    "duration": 16,
    "start_time": "2023-11-20T09:11:03.985Z"
   },
   {
    "duration": 16,
    "start_time": "2023-11-20T09:11:04.003Z"
   },
   {
    "duration": 268,
    "start_time": "2023-11-20T09:11:04.022Z"
   },
   {
    "duration": 272,
    "start_time": "2023-11-20T09:11:04.292Z"
   },
   {
    "duration": 240,
    "start_time": "2023-11-20T09:11:04.566Z"
   },
   {
    "duration": 298,
    "start_time": "2023-11-20T09:11:04.809Z"
   },
   {
    "duration": 456,
    "start_time": "2023-11-20T09:11:05.109Z"
   },
   {
    "duration": 491,
    "start_time": "2023-11-20T09:11:05.567Z"
   },
   {
    "duration": 26,
    "start_time": "2023-11-20T09:11:06.060Z"
   },
   {
    "duration": 1991,
    "start_time": "2023-11-20T09:11:06.088Z"
   },
   {
    "duration": 0,
    "start_time": "2023-11-20T09:11:08.081Z"
   },
   {
    "duration": 1873,
    "start_time": "2023-11-20T09:11:29.487Z"
   },
   {
    "duration": 2057,
    "start_time": "2023-11-20T09:11:42.535Z"
   },
   {
    "duration": 1901,
    "start_time": "2023-11-20T09:11:49.042Z"
   },
   {
    "duration": 151,
    "start_time": "2023-11-20T09:12:07.623Z"
   },
   {
    "duration": 1996,
    "start_time": "2023-11-20T09:12:21.458Z"
   },
   {
    "duration": 1890,
    "start_time": "2023-11-20T09:12:42.974Z"
   },
   {
    "duration": 1975,
    "start_time": "2023-11-20T09:13:16.326Z"
   },
   {
    "duration": 1324,
    "start_time": "2023-11-20T09:16:41.871Z"
   },
   {
    "duration": 41,
    "start_time": "2023-11-20T09:16:43.198Z"
   },
   {
    "duration": 15,
    "start_time": "2023-11-20T09:16:43.241Z"
   },
   {
    "duration": 11,
    "start_time": "2023-11-20T09:16:43.259Z"
   },
   {
    "duration": 6,
    "start_time": "2023-11-20T09:16:43.272Z"
   },
   {
    "duration": 28,
    "start_time": "2023-11-20T09:16:43.280Z"
   },
   {
    "duration": 10,
    "start_time": "2023-11-20T09:16:43.310Z"
   },
   {
    "duration": 5,
    "start_time": "2023-11-20T09:16:43.321Z"
   },
   {
    "duration": 5,
    "start_time": "2023-11-20T09:16:43.328Z"
   },
   {
    "duration": 34,
    "start_time": "2023-11-20T09:16:43.335Z"
   },
   {
    "duration": 13,
    "start_time": "2023-11-20T09:16:43.371Z"
   },
   {
    "duration": 11,
    "start_time": "2023-11-20T09:16:43.385Z"
   },
   {
    "duration": 11,
    "start_time": "2023-11-20T09:16:43.397Z"
   },
   {
    "duration": 4,
    "start_time": "2023-11-20T09:16:43.409Z"
   },
   {
    "duration": 20,
    "start_time": "2023-11-20T09:16:43.414Z"
   },
   {
    "duration": 29,
    "start_time": "2023-11-20T09:16:43.435Z"
   },
   {
    "duration": 5,
    "start_time": "2023-11-20T09:16:43.466Z"
   },
   {
    "duration": 18,
    "start_time": "2023-11-20T09:16:43.473Z"
   },
   {
    "duration": 135,
    "start_time": "2023-11-20T09:16:43.492Z"
   },
   {
    "duration": 10,
    "start_time": "2023-11-20T09:16:43.629Z"
   },
   {
    "duration": 25,
    "start_time": "2023-11-20T09:16:43.640Z"
   },
   {
    "duration": 22,
    "start_time": "2023-11-20T09:16:43.667Z"
   },
   {
    "duration": 18,
    "start_time": "2023-11-20T09:16:43.691Z"
   },
   {
    "duration": 12,
    "start_time": "2023-11-20T09:16:43.711Z"
   },
   {
    "duration": 220,
    "start_time": "2023-11-20T09:16:43.724Z"
   },
   {
    "duration": 243,
    "start_time": "2023-11-20T09:16:43.945Z"
   },
   {
    "duration": 232,
    "start_time": "2023-11-20T09:16:44.190Z"
   },
   {
    "duration": 288,
    "start_time": "2023-11-20T09:16:44.425Z"
   },
   {
    "duration": 417,
    "start_time": "2023-11-20T09:16:44.714Z"
   },
   {
    "duration": 499,
    "start_time": "2023-11-20T09:16:45.133Z"
   },
   {
    "duration": 40,
    "start_time": "2023-11-20T09:16:45.634Z"
   },
   {
    "duration": 1952,
    "start_time": "2023-11-20T09:16:45.676Z"
   },
   {
    "duration": 1610,
    "start_time": "2023-11-20T09:16:47.629Z"
   },
   {
    "duration": 2007,
    "start_time": "2023-11-20T09:18:26.724Z"
   },
   {
    "duration": 1928,
    "start_time": "2023-11-20T09:18:37.404Z"
   },
   {
    "duration": 1899,
    "start_time": "2023-11-20T09:19:08.028Z"
   },
   {
    "duration": 101,
    "start_time": "2023-11-20T09:21:31.194Z"
   },
   {
    "duration": 8,
    "start_time": "2023-11-20T09:21:56.216Z"
   },
   {
    "duration": 20,
    "start_time": "2023-11-20T09:22:10.728Z"
   },
   {
    "duration": 1810,
    "start_time": "2023-11-20T09:22:42.625Z"
   },
   {
    "duration": 18,
    "start_time": "2023-11-20T09:23:13.034Z"
   },
   {
    "duration": 10,
    "start_time": "2023-11-20T09:24:24.416Z"
   },
   {
    "duration": 1314,
    "start_time": "2023-11-20T09:27:51.367Z"
   },
   {
    "duration": 42,
    "start_time": "2023-11-20T09:27:52.685Z"
   },
   {
    "duration": 17,
    "start_time": "2023-11-20T09:27:52.728Z"
   },
   {
    "duration": 13,
    "start_time": "2023-11-20T09:27:52.748Z"
   },
   {
    "duration": 7,
    "start_time": "2023-11-20T09:27:52.763Z"
   },
   {
    "duration": 14,
    "start_time": "2023-11-20T09:27:52.772Z"
   },
   {
    "duration": 117,
    "start_time": "2023-11-20T09:27:52.788Z"
   },
   {
    "duration": 0,
    "start_time": "2023-11-20T09:27:52.908Z"
   },
   {
    "duration": 0,
    "start_time": "2023-11-20T09:27:52.909Z"
   },
   {
    "duration": 0,
    "start_time": "2023-11-20T09:27:52.911Z"
   },
   {
    "duration": 0,
    "start_time": "2023-11-20T09:27:52.912Z"
   },
   {
    "duration": 0,
    "start_time": "2023-11-20T09:27:52.913Z"
   },
   {
    "duration": 0,
    "start_time": "2023-11-20T09:27:52.915Z"
   },
   {
    "duration": 0,
    "start_time": "2023-11-20T09:27:52.916Z"
   },
   {
    "duration": 0,
    "start_time": "2023-11-20T09:27:52.918Z"
   },
   {
    "duration": 0,
    "start_time": "2023-11-20T09:27:52.919Z"
   },
   {
    "duration": 0,
    "start_time": "2023-11-20T09:27:52.920Z"
   },
   {
    "duration": 0,
    "start_time": "2023-11-20T09:27:52.922Z"
   },
   {
    "duration": 0,
    "start_time": "2023-11-20T09:27:52.923Z"
   },
   {
    "duration": 0,
    "start_time": "2023-11-20T09:27:52.924Z"
   },
   {
    "duration": 0,
    "start_time": "2023-11-20T09:27:52.926Z"
   },
   {
    "duration": 0,
    "start_time": "2023-11-20T09:27:52.959Z"
   },
   {
    "duration": 0,
    "start_time": "2023-11-20T09:27:52.961Z"
   },
   {
    "duration": 0,
    "start_time": "2023-11-20T09:27:52.962Z"
   },
   {
    "duration": 0,
    "start_time": "2023-11-20T09:27:52.964Z"
   },
   {
    "duration": 0,
    "start_time": "2023-11-20T09:27:52.965Z"
   },
   {
    "duration": 0,
    "start_time": "2023-11-20T09:27:52.967Z"
   },
   {
    "duration": 0,
    "start_time": "2023-11-20T09:27:52.968Z"
   },
   {
    "duration": 0,
    "start_time": "2023-11-20T09:27:52.969Z"
   },
   {
    "duration": 0,
    "start_time": "2023-11-20T09:27:52.970Z"
   },
   {
    "duration": 0,
    "start_time": "2023-11-20T09:27:52.972Z"
   },
   {
    "duration": 0,
    "start_time": "2023-11-20T09:27:52.973Z"
   },
   {
    "duration": 0,
    "start_time": "2023-11-20T09:27:52.975Z"
   },
   {
    "duration": 0,
    "start_time": "2023-11-20T09:27:52.976Z"
   },
   {
    "duration": 0,
    "start_time": "2023-11-20T09:27:52.978Z"
   },
   {
    "duration": 0,
    "start_time": "2023-11-20T09:27:52.979Z"
   },
   {
    "duration": 0,
    "start_time": "2023-11-20T09:27:52.980Z"
   },
   {
    "duration": 3198,
    "start_time": "2023-11-20T09:28:03.258Z"
   },
   {
    "duration": 35,
    "start_time": "2023-11-20T09:29:01.307Z"
   },
   {
    "duration": 1225,
    "start_time": "2023-11-20T09:29:35.296Z"
   },
   {
    "duration": 41,
    "start_time": "2023-11-20T09:29:36.524Z"
   },
   {
    "duration": 16,
    "start_time": "2023-11-20T09:29:36.567Z"
   },
   {
    "duration": 13,
    "start_time": "2023-11-20T09:29:36.584Z"
   },
   {
    "duration": 7,
    "start_time": "2023-11-20T09:29:36.599Z"
   },
   {
    "duration": 14,
    "start_time": "2023-11-20T09:29:36.608Z"
   },
   {
    "duration": 61,
    "start_time": "2023-11-20T09:29:36.624Z"
   },
   {
    "duration": 2,
    "start_time": "2023-11-20T09:29:36.687Z"
   },
   {
    "duration": 5,
    "start_time": "2023-11-20T09:29:36.691Z"
   },
   {
    "duration": 6,
    "start_time": "2023-11-20T09:29:36.697Z"
   },
   {
    "duration": 4,
    "start_time": "2023-11-20T09:29:36.705Z"
   },
   {
    "duration": 16,
    "start_time": "2023-11-20T09:29:36.710Z"
   },
   {
    "duration": 4,
    "start_time": "2023-11-20T09:29:36.758Z"
   },
   {
    "duration": 11,
    "start_time": "2023-11-20T09:29:36.765Z"
   },
   {
    "duration": 121,
    "start_time": "2023-11-20T09:29:36.778Z"
   },
   {
    "duration": 0,
    "start_time": "2023-11-20T09:29:36.901Z"
   },
   {
    "duration": 0,
    "start_time": "2023-11-20T09:29:36.903Z"
   },
   {
    "duration": 0,
    "start_time": "2023-11-20T09:29:36.904Z"
   },
   {
    "duration": 0,
    "start_time": "2023-11-20T09:29:36.905Z"
   },
   {
    "duration": 0,
    "start_time": "2023-11-20T09:29:36.906Z"
   },
   {
    "duration": 0,
    "start_time": "2023-11-20T09:29:36.908Z"
   },
   {
    "duration": 0,
    "start_time": "2023-11-20T09:29:36.910Z"
   },
   {
    "duration": 0,
    "start_time": "2023-11-20T09:29:36.911Z"
   },
   {
    "duration": 0,
    "start_time": "2023-11-20T09:29:36.912Z"
   },
   {
    "duration": 0,
    "start_time": "2023-11-20T09:29:36.915Z"
   },
   {
    "duration": 0,
    "start_time": "2023-11-20T09:29:36.916Z"
   },
   {
    "duration": 0,
    "start_time": "2023-11-20T09:29:36.918Z"
   },
   {
    "duration": 0,
    "start_time": "2023-11-20T09:29:36.919Z"
   },
   {
    "duration": 0,
    "start_time": "2023-11-20T09:29:36.921Z"
   },
   {
    "duration": 0,
    "start_time": "2023-11-20T09:29:36.922Z"
   },
   {
    "duration": 0,
    "start_time": "2023-11-20T09:29:36.959Z"
   },
   {
    "duration": 0,
    "start_time": "2023-11-20T09:29:36.960Z"
   },
   {
    "duration": 0,
    "start_time": "2023-11-20T09:29:36.962Z"
   },
   {
    "duration": 0,
    "start_time": "2023-11-20T09:29:36.963Z"
   },
   {
    "duration": 0,
    "start_time": "2023-11-20T09:29:36.964Z"
   },
   {
    "duration": 0,
    "start_time": "2023-11-20T09:29:36.966Z"
   },
   {
    "duration": 0,
    "start_time": "2023-11-20T09:29:36.967Z"
   },
   {
    "duration": 1450,
    "start_time": "2023-11-20T09:30:24.733Z"
   },
   {
    "duration": 42,
    "start_time": "2023-11-20T09:30:26.185Z"
   },
   {
    "duration": 16,
    "start_time": "2023-11-20T09:30:26.228Z"
   },
   {
    "duration": 12,
    "start_time": "2023-11-20T09:30:26.246Z"
   },
   {
    "duration": 10,
    "start_time": "2023-11-20T09:30:26.260Z"
   },
   {
    "duration": 28,
    "start_time": "2023-11-20T09:30:26.271Z"
   },
   {
    "duration": 70,
    "start_time": "2023-11-20T09:30:26.300Z"
   },
   {
    "duration": 4,
    "start_time": "2023-11-20T09:30:26.372Z"
   },
   {
    "duration": 28,
    "start_time": "2023-11-20T09:30:26.377Z"
   },
   {
    "duration": 121,
    "start_time": "2023-11-20T09:30:26.407Z"
   },
   {
    "duration": 0,
    "start_time": "2023-11-20T09:30:26.531Z"
   },
   {
    "duration": 0,
    "start_time": "2023-11-20T09:30:26.533Z"
   },
   {
    "duration": 0,
    "start_time": "2023-11-20T09:30:26.534Z"
   },
   {
    "duration": 0,
    "start_time": "2023-11-20T09:30:26.535Z"
   },
   {
    "duration": 0,
    "start_time": "2023-11-20T09:30:26.536Z"
   },
   {
    "duration": 0,
    "start_time": "2023-11-20T09:30:26.538Z"
   },
   {
    "duration": 0,
    "start_time": "2023-11-20T09:30:26.539Z"
   },
   {
    "duration": 0,
    "start_time": "2023-11-20T09:30:26.541Z"
   },
   {
    "duration": 0,
    "start_time": "2023-11-20T09:30:26.542Z"
   },
   {
    "duration": 0,
    "start_time": "2023-11-20T09:30:26.559Z"
   },
   {
    "duration": 0,
    "start_time": "2023-11-20T09:30:26.560Z"
   },
   {
    "duration": 0,
    "start_time": "2023-11-20T09:30:26.562Z"
   },
   {
    "duration": 0,
    "start_time": "2023-11-20T09:30:26.563Z"
   },
   {
    "duration": 0,
    "start_time": "2023-11-20T09:30:26.564Z"
   },
   {
    "duration": 0,
    "start_time": "2023-11-20T09:30:26.565Z"
   },
   {
    "duration": 0,
    "start_time": "2023-11-20T09:30:26.567Z"
   },
   {
    "duration": 0,
    "start_time": "2023-11-20T09:30:26.568Z"
   },
   {
    "duration": 0,
    "start_time": "2023-11-20T09:30:26.569Z"
   },
   {
    "duration": 0,
    "start_time": "2023-11-20T09:30:26.571Z"
   },
   {
    "duration": 0,
    "start_time": "2023-11-20T09:30:26.572Z"
   },
   {
    "duration": 0,
    "start_time": "2023-11-20T09:30:26.573Z"
   },
   {
    "duration": 0,
    "start_time": "2023-11-20T09:30:26.575Z"
   },
   {
    "duration": 0,
    "start_time": "2023-11-20T09:30:26.576Z"
   },
   {
    "duration": 0,
    "start_time": "2023-11-20T09:30:26.577Z"
   },
   {
    "duration": 0,
    "start_time": "2023-11-20T09:30:26.579Z"
   },
   {
    "duration": 0,
    "start_time": "2023-11-20T09:30:26.580Z"
   },
   {
    "duration": 0,
    "start_time": "2023-11-20T09:30:26.581Z"
   },
   {
    "duration": 8,
    "start_time": "2023-11-20T09:31:40.465Z"
   },
   {
    "duration": 4,
    "start_time": "2023-11-20T09:32:31.972Z"
   },
   {
    "duration": 5,
    "start_time": "2023-11-20T09:32:40.580Z"
   },
   {
    "duration": 4,
    "start_time": "2023-11-20T09:33:08.267Z"
   },
   {
    "duration": 4,
    "start_time": "2023-11-20T09:33:17.723Z"
   },
   {
    "duration": 4,
    "start_time": "2023-11-20T09:33:23.094Z"
   },
   {
    "duration": 4,
    "start_time": "2023-11-20T09:33:26.888Z"
   },
   {
    "duration": 13,
    "start_time": "2023-11-20T09:33:29.747Z"
   },
   {
    "duration": 4,
    "start_time": "2023-11-20T09:33:32.834Z"
   },
   {
    "duration": 10,
    "start_time": "2023-11-20T09:33:35.474Z"
   },
   {
    "duration": 9,
    "start_time": "2023-11-20T09:33:43.795Z"
   },
   {
    "duration": 5,
    "start_time": "2023-11-20T09:33:48.659Z"
   },
   {
    "duration": 12,
    "start_time": "2023-11-20T09:33:50.923Z"
   },
   {
    "duration": 24,
    "start_time": "2023-11-20T09:33:57.450Z"
   },
   {
    "duration": 5,
    "start_time": "2023-11-20T09:34:41.710Z"
   },
   {
    "duration": 6,
    "start_time": "2023-11-20T09:34:51.510Z"
   },
   {
    "duration": 121,
    "start_time": "2023-11-20T09:34:54.331Z"
   },
   {
    "duration": 9,
    "start_time": "2023-11-20T09:35:02.283Z"
   },
   {
    "duration": 5,
    "start_time": "2023-11-20T09:35:07.763Z"
   },
   {
    "duration": 10,
    "start_time": "2023-11-20T09:35:38.340Z"
   },
   {
    "duration": 1281,
    "start_time": "2023-11-20T09:36:25.346Z"
   },
   {
    "duration": 43,
    "start_time": "2023-11-20T09:36:26.629Z"
   },
   {
    "duration": 16,
    "start_time": "2023-11-20T09:36:26.674Z"
   },
   {
    "duration": 12,
    "start_time": "2023-11-20T09:36:26.692Z"
   },
   {
    "duration": 7,
    "start_time": "2023-11-20T09:36:26.705Z"
   },
   {
    "duration": 13,
    "start_time": "2023-11-20T09:36:26.713Z"
   },
   {
    "duration": 61,
    "start_time": "2023-11-20T09:36:26.727Z"
   },
   {
    "duration": 4,
    "start_time": "2023-11-20T09:36:26.790Z"
   },
   {
    "duration": 115,
    "start_time": "2023-11-20T09:36:26.795Z"
   },
   {
    "duration": 0,
    "start_time": "2023-11-20T09:36:26.913Z"
   },
   {
    "duration": 0,
    "start_time": "2023-11-20T09:36:26.915Z"
   },
   {
    "duration": 0,
    "start_time": "2023-11-20T09:36:26.916Z"
   },
   {
    "duration": 0,
    "start_time": "2023-11-20T09:36:26.917Z"
   },
   {
    "duration": 0,
    "start_time": "2023-11-20T09:36:26.918Z"
   },
   {
    "duration": 0,
    "start_time": "2023-11-20T09:36:26.919Z"
   },
   {
    "duration": 0,
    "start_time": "2023-11-20T09:36:26.921Z"
   },
   {
    "duration": 0,
    "start_time": "2023-11-20T09:36:26.922Z"
   },
   {
    "duration": 0,
    "start_time": "2023-11-20T09:36:26.923Z"
   },
   {
    "duration": 0,
    "start_time": "2023-11-20T09:36:26.924Z"
   },
   {
    "duration": 0,
    "start_time": "2023-11-20T09:36:26.925Z"
   },
   {
    "duration": 0,
    "start_time": "2023-11-20T09:36:26.926Z"
   },
   {
    "duration": 0,
    "start_time": "2023-11-20T09:36:26.927Z"
   },
   {
    "duration": 0,
    "start_time": "2023-11-20T09:36:26.928Z"
   },
   {
    "duration": 0,
    "start_time": "2023-11-20T09:36:26.929Z"
   },
   {
    "duration": 0,
    "start_time": "2023-11-20T09:36:26.930Z"
   },
   {
    "duration": 0,
    "start_time": "2023-11-20T09:36:26.958Z"
   },
   {
    "duration": 0,
    "start_time": "2023-11-20T09:36:26.960Z"
   },
   {
    "duration": 0,
    "start_time": "2023-11-20T09:36:26.961Z"
   },
   {
    "duration": 0,
    "start_time": "2023-11-20T09:36:26.962Z"
   },
   {
    "duration": 0,
    "start_time": "2023-11-20T09:36:26.963Z"
   },
   {
    "duration": 0,
    "start_time": "2023-11-20T09:36:26.964Z"
   },
   {
    "duration": 0,
    "start_time": "2023-11-20T09:36:26.965Z"
   },
   {
    "duration": 0,
    "start_time": "2023-11-20T09:36:26.966Z"
   },
   {
    "duration": 0,
    "start_time": "2023-11-20T09:36:26.967Z"
   },
   {
    "duration": 0,
    "start_time": "2023-11-20T09:36:26.968Z"
   },
   {
    "duration": 0,
    "start_time": "2023-11-20T09:36:26.970Z"
   },
   {
    "duration": 1309,
    "start_time": "2023-11-20T09:36:47.285Z"
   },
   {
    "duration": 42,
    "start_time": "2023-11-20T09:36:48.596Z"
   },
   {
    "duration": 23,
    "start_time": "2023-11-20T09:36:48.640Z"
   },
   {
    "duration": 15,
    "start_time": "2023-11-20T09:36:48.665Z"
   },
   {
    "duration": 6,
    "start_time": "2023-11-20T09:36:48.682Z"
   },
   {
    "duration": 13,
    "start_time": "2023-11-20T09:36:48.690Z"
   },
   {
    "duration": 62,
    "start_time": "2023-11-20T09:36:48.705Z"
   },
   {
    "duration": 4,
    "start_time": "2023-11-20T09:36:48.769Z"
   },
   {
    "duration": 5,
    "start_time": "2023-11-20T09:36:48.774Z"
   },
   {
    "duration": 5,
    "start_time": "2023-11-20T09:36:48.780Z"
   },
   {
    "duration": 4,
    "start_time": "2023-11-20T09:36:48.787Z"
   },
   {
    "duration": 16,
    "start_time": "2023-11-20T09:36:48.792Z"
   },
   {
    "duration": 5,
    "start_time": "2023-11-20T09:36:48.810Z"
   },
   {
    "duration": 43,
    "start_time": "2023-11-20T09:36:48.818Z"
   },
   {
    "duration": 19,
    "start_time": "2023-11-20T09:36:48.862Z"
   },
   {
    "duration": 24,
    "start_time": "2023-11-20T09:36:48.882Z"
   },
   {
    "duration": 6,
    "start_time": "2023-11-20T09:36:48.907Z"
   },
   {
    "duration": 6,
    "start_time": "2023-11-20T09:36:48.915Z"
   },
   {
    "duration": 167,
    "start_time": "2023-11-20T09:36:48.922Z"
   },
   {
    "duration": 10,
    "start_time": "2023-11-20T09:36:49.091Z"
   },
   {
    "duration": 7,
    "start_time": "2023-11-20T09:36:49.102Z"
   },
   {
    "duration": 9,
    "start_time": "2023-11-20T09:36:49.110Z"
   },
   {
    "duration": 128,
    "start_time": "2023-11-20T09:36:49.120Z"
   },
   {
    "duration": 0,
    "start_time": "2023-11-20T09:36:49.249Z"
   },
   {
    "duration": 0,
    "start_time": "2023-11-20T09:36:49.258Z"
   },
   {
    "duration": 0,
    "start_time": "2023-11-20T09:36:49.259Z"
   },
   {
    "duration": 0,
    "start_time": "2023-11-20T09:36:49.260Z"
   },
   {
    "duration": 0,
    "start_time": "2023-11-20T09:36:49.261Z"
   },
   {
    "duration": 0,
    "start_time": "2023-11-20T09:36:49.262Z"
   },
   {
    "duration": 0,
    "start_time": "2023-11-20T09:36:49.263Z"
   },
   {
    "duration": 0,
    "start_time": "2023-11-20T09:36:49.264Z"
   },
   {
    "duration": 0,
    "start_time": "2023-11-20T09:36:49.265Z"
   },
   {
    "duration": 0,
    "start_time": "2023-11-20T09:36:49.266Z"
   },
   {
    "duration": 0,
    "start_time": "2023-11-20T09:36:49.267Z"
   },
   {
    "duration": 0,
    "start_time": "2023-11-20T09:36:49.268Z"
   },
   {
    "duration": 0,
    "start_time": "2023-11-20T09:36:49.269Z"
   },
   {
    "duration": 9,
    "start_time": "2023-11-20T09:37:09.465Z"
   },
   {
    "duration": 4,
    "start_time": "2023-11-20T09:37:17.463Z"
   },
   {
    "duration": 6,
    "start_time": "2023-11-20T09:37:30.888Z"
   },
   {
    "duration": 2167,
    "start_time": "2023-11-20T09:37:39.344Z"
   },
   {
    "duration": 1879,
    "start_time": "2023-11-20T09:37:55.289Z"
   },
   {
    "duration": 211,
    "start_time": "2023-11-20T09:38:12.817Z"
   },
   {
    "duration": 254,
    "start_time": "2023-11-20T09:38:32.095Z"
   },
   {
    "duration": 231,
    "start_time": "2023-11-20T09:38:38.055Z"
   },
   {
    "duration": 292,
    "start_time": "2023-11-20T09:38:44.839Z"
   },
   {
    "duration": 391,
    "start_time": "2023-11-20T09:38:56.503Z"
   },
   {
    "duration": 192,
    "start_time": "2023-11-20T09:41:24.768Z"
   },
   {
    "duration": 8,
    "start_time": "2023-11-20T09:41:29.139Z"
   },
   {
    "duration": 553,
    "start_time": "2023-11-20T09:41:31.111Z"
   },
   {
    "duration": 113,
    "start_time": "2023-11-20T09:43:42.165Z"
   },
   {
    "duration": 569,
    "start_time": "2023-11-20T09:43:47.917Z"
   },
   {
    "duration": 483,
    "start_time": "2023-11-20T09:45:03.924Z"
   },
   {
    "duration": 566,
    "start_time": "2023-11-20T09:45:28.845Z"
   },
   {
    "duration": 484,
    "start_time": "2023-11-20T09:45:42.585Z"
   },
   {
    "duration": 1655,
    "start_time": "2023-11-20T09:51:25.065Z"
   },
   {
    "duration": 299,
    "start_time": "2023-11-20T10:02:53.067Z"
   },
   {
    "duration": 202,
    "start_time": "2023-11-20T10:03:58.515Z"
   },
   {
    "duration": 472,
    "start_time": "2023-11-20T10:04:07.818Z"
   },
   {
    "duration": 605,
    "start_time": "2023-11-20T10:06:01.467Z"
   },
   {
    "duration": 1466,
    "start_time": "2023-11-20T11:43:11.626Z"
   },
   {
    "duration": 160,
    "start_time": "2023-11-20T11:43:13.094Z"
   },
   {
    "duration": 17,
    "start_time": "2023-11-20T11:43:13.256Z"
   },
   {
    "duration": 50,
    "start_time": "2023-11-20T11:43:13.275Z"
   },
   {
    "duration": 20,
    "start_time": "2023-11-20T11:43:13.327Z"
   },
   {
    "duration": 29,
    "start_time": "2023-11-20T11:43:13.349Z"
   },
   {
    "duration": 43,
    "start_time": "2023-11-20T11:43:13.380Z"
   },
   {
    "duration": 5,
    "start_time": "2023-11-20T11:43:13.424Z"
   },
   {
    "duration": 12,
    "start_time": "2023-11-20T11:43:13.430Z"
   },
   {
    "duration": 11,
    "start_time": "2023-11-20T11:43:13.444Z"
   },
   {
    "duration": 5,
    "start_time": "2023-11-20T11:43:13.466Z"
   },
   {
    "duration": 18,
    "start_time": "2023-11-20T11:43:13.472Z"
   },
   {
    "duration": 5,
    "start_time": "2023-11-20T11:43:13.491Z"
   },
   {
    "duration": 13,
    "start_time": "2023-11-20T11:43:13.497Z"
   },
   {
    "duration": 28,
    "start_time": "2023-11-20T11:43:13.511Z"
   },
   {
    "duration": 32,
    "start_time": "2023-11-20T11:43:13.541Z"
   },
   {
    "duration": 5,
    "start_time": "2023-11-20T11:43:13.574Z"
   },
   {
    "duration": 8,
    "start_time": "2023-11-20T11:43:13.581Z"
   },
   {
    "duration": 142,
    "start_time": "2023-11-20T11:43:13.591Z"
   },
   {
    "duration": 9,
    "start_time": "2023-11-20T11:43:13.735Z"
   },
   {
    "duration": 21,
    "start_time": "2023-11-20T11:43:13.746Z"
   },
   {
    "duration": 9,
    "start_time": "2023-11-20T11:43:13.769Z"
   },
   {
    "duration": 4,
    "start_time": "2023-11-20T11:43:13.780Z"
   },
   {
    "duration": 249,
    "start_time": "2023-11-20T11:43:13.786Z"
   },
   {
    "duration": 262,
    "start_time": "2023-11-20T11:43:14.037Z"
   },
   {
    "duration": 234,
    "start_time": "2023-11-20T11:43:14.301Z"
   },
   {
    "duration": 301,
    "start_time": "2023-11-20T11:43:14.536Z"
   },
   {
    "duration": 415,
    "start_time": "2023-11-20T11:43:14.840Z"
   },
   {
    "duration": 12,
    "start_time": "2023-11-20T11:43:15.256Z"
   },
   {
    "duration": 626,
    "start_time": "2023-11-20T11:43:15.270Z"
   },
   {
    "duration": 522,
    "start_time": "2023-11-20T11:43:15.898Z"
   },
   {
    "duration": 1817,
    "start_time": "2023-11-20T11:43:16.422Z"
   },
   {
    "duration": 13,
    "start_time": "2023-11-20T11:43:18.241Z"
   },
   {
    "duration": 34,
    "start_time": "2023-11-20T11:43:18.256Z"
   },
   {
    "duration": 1273,
    "start_time": "2023-11-20T11:53:39.434Z"
   },
   {
    "duration": 42,
    "start_time": "2023-11-20T11:53:40.709Z"
   },
   {
    "duration": 18,
    "start_time": "2023-11-20T11:53:40.753Z"
   },
   {
    "duration": 36,
    "start_time": "2023-11-20T11:53:40.772Z"
   },
   {
    "duration": 20,
    "start_time": "2023-11-20T11:53:40.809Z"
   },
   {
    "duration": 28,
    "start_time": "2023-11-20T11:53:40.831Z"
   },
   {
    "duration": 125,
    "start_time": "2023-11-20T11:53:40.861Z"
   },
   {
    "duration": 0,
    "start_time": "2023-11-20T11:53:40.988Z"
   },
   {
    "duration": 0,
    "start_time": "2023-11-20T11:53:40.989Z"
   },
   {
    "duration": 0,
    "start_time": "2023-11-20T11:53:40.990Z"
   },
   {
    "duration": 0,
    "start_time": "2023-11-20T11:53:40.992Z"
   },
   {
    "duration": 0,
    "start_time": "2023-11-20T11:53:40.993Z"
   },
   {
    "duration": 0,
    "start_time": "2023-11-20T11:53:40.994Z"
   },
   {
    "duration": 0,
    "start_time": "2023-11-20T11:53:40.995Z"
   },
   {
    "duration": 0,
    "start_time": "2023-11-20T11:53:40.996Z"
   },
   {
    "duration": 1,
    "start_time": "2023-11-20T11:53:40.996Z"
   },
   {
    "duration": 0,
    "start_time": "2023-11-20T11:53:40.998Z"
   },
   {
    "duration": 0,
    "start_time": "2023-11-20T11:53:40.999Z"
   },
   {
    "duration": 0,
    "start_time": "2023-11-20T11:53:41.000Z"
   },
   {
    "duration": 0,
    "start_time": "2023-11-20T11:53:41.001Z"
   },
   {
    "duration": 0,
    "start_time": "2023-11-20T11:53:41.002Z"
   },
   {
    "duration": 0,
    "start_time": "2023-11-20T11:53:41.003Z"
   },
   {
    "duration": 0,
    "start_time": "2023-11-20T11:53:41.004Z"
   },
   {
    "duration": 0,
    "start_time": "2023-11-20T11:53:41.005Z"
   },
   {
    "duration": 0,
    "start_time": "2023-11-20T11:53:41.006Z"
   },
   {
    "duration": 0,
    "start_time": "2023-11-20T11:53:41.007Z"
   },
   {
    "duration": 0,
    "start_time": "2023-11-20T11:53:41.008Z"
   },
   {
    "duration": 0,
    "start_time": "2023-11-20T11:53:41.009Z"
   },
   {
    "duration": 0,
    "start_time": "2023-11-20T11:53:41.010Z"
   },
   {
    "duration": 0,
    "start_time": "2023-11-20T11:53:41.011Z"
   },
   {
    "duration": 0,
    "start_time": "2023-11-20T11:53:41.012Z"
   },
   {
    "duration": 0,
    "start_time": "2023-11-20T11:53:41.013Z"
   },
   {
    "duration": 0,
    "start_time": "2023-11-20T11:53:41.014Z"
   },
   {
    "duration": 0,
    "start_time": "2023-11-20T11:53:41.015Z"
   },
   {
    "duration": 0,
    "start_time": "2023-11-20T11:53:41.016Z"
   },
   {
    "duration": 12,
    "start_time": "2023-11-20T11:55:27.719Z"
   },
   {
    "duration": 11,
    "start_time": "2023-11-20T11:55:33.207Z"
   },
   {
    "duration": 5,
    "start_time": "2023-11-20T11:56:54.239Z"
   },
   {
    "duration": 12,
    "start_time": "2023-11-20T11:57:05.279Z"
   },
   {
    "duration": 277,
    "start_time": "2023-11-20T11:58:09.783Z"
   },
   {
    "duration": 17,
    "start_time": "2023-11-20T11:58:16.184Z"
   },
   {
    "duration": 1318,
    "start_time": "2023-11-20T11:58:51.116Z"
   },
   {
    "duration": 43,
    "start_time": "2023-11-20T11:58:52.436Z"
   },
   {
    "duration": 19,
    "start_time": "2023-11-20T11:58:52.480Z"
   },
   {
    "duration": 67,
    "start_time": "2023-11-20T11:58:52.501Z"
   },
   {
    "duration": 37,
    "start_time": "2023-11-20T11:58:52.570Z"
   },
   {
    "duration": 46,
    "start_time": "2023-11-20T11:58:52.608Z"
   },
   {
    "duration": 54,
    "start_time": "2023-11-20T11:58:52.655Z"
   },
   {
    "duration": 68,
    "start_time": "2023-11-20T11:58:52.711Z"
   },
   {
    "duration": 5,
    "start_time": "2023-11-20T11:58:52.781Z"
   },
   {
    "duration": 30,
    "start_time": "2023-11-20T11:58:52.789Z"
   },
   {
    "duration": 21,
    "start_time": "2023-11-20T11:58:52.821Z"
   },
   {
    "duration": 34,
    "start_time": "2023-11-20T11:58:52.843Z"
   },
   {
    "duration": 36,
    "start_time": "2023-11-20T11:58:52.879Z"
   },
   {
    "duration": 15,
    "start_time": "2023-11-20T11:58:52.917Z"
   },
   {
    "duration": 47,
    "start_time": "2023-11-20T11:58:52.934Z"
   },
   {
    "duration": 48,
    "start_time": "2023-11-20T11:58:52.982Z"
   },
   {
    "duration": 48,
    "start_time": "2023-11-20T11:58:53.032Z"
   },
   {
    "duration": 21,
    "start_time": "2023-11-20T11:58:53.082Z"
   },
   {
    "duration": 57,
    "start_time": "2023-11-20T11:58:53.105Z"
   },
   {
    "duration": 162,
    "start_time": "2023-11-20T11:58:53.164Z"
   },
   {
    "duration": 10,
    "start_time": "2023-11-20T11:58:53.328Z"
   },
   {
    "duration": 29,
    "start_time": "2023-11-20T11:58:53.339Z"
   },
   {
    "duration": 37,
    "start_time": "2023-11-20T11:58:53.370Z"
   },
   {
    "duration": 35,
    "start_time": "2023-11-20T11:58:53.408Z"
   },
   {
    "duration": 258,
    "start_time": "2023-11-20T11:58:53.445Z"
   },
   {
    "duration": 264,
    "start_time": "2023-11-20T11:58:53.704Z"
   },
   {
    "duration": 242,
    "start_time": "2023-11-20T11:58:53.970Z"
   },
   {
    "duration": 305,
    "start_time": "2023-11-20T11:58:54.215Z"
   },
   {
    "duration": 433,
    "start_time": "2023-11-20T11:58:54.522Z"
   },
   {
    "duration": 17,
    "start_time": "2023-11-20T11:58:54.956Z"
   },
   {
    "duration": 527,
    "start_time": "2023-11-20T11:58:54.974Z"
   },
   {
    "duration": 665,
    "start_time": "2023-11-20T11:58:55.503Z"
   },
   {
    "duration": 1765,
    "start_time": "2023-11-20T11:58:56.170Z"
   },
   {
    "duration": 12,
    "start_time": "2023-11-20T11:58:57.937Z"
   },
   {
    "duration": 44,
    "start_time": "2023-11-20T11:58:57.951Z"
   },
   {
    "duration": 714,
    "start_time": "2023-11-20T12:01:49.657Z"
   },
   {
    "duration": 631,
    "start_time": "2023-11-20T12:02:04.576Z"
   },
   {
    "duration": 633,
    "start_time": "2023-11-20T12:02:16.457Z"
   },
   {
    "duration": 524,
    "start_time": "2023-11-20T12:02:44.589Z"
   },
   {
    "duration": 742,
    "start_time": "2023-11-20T12:02:50.249Z"
   },
   {
    "duration": 151,
    "start_time": "2023-11-20T12:04:03.361Z"
   },
   {
    "duration": 599,
    "start_time": "2023-11-20T12:05:24.026Z"
   },
   {
    "duration": 617,
    "start_time": "2023-11-20T12:08:15.774Z"
   },
   {
    "duration": 158,
    "start_time": "2023-11-20T12:10:02.619Z"
   },
   {
    "duration": 11,
    "start_time": "2023-11-20T12:11:42.680Z"
   },
   {
    "duration": 14,
    "start_time": "2023-11-20T12:12:00.742Z"
   },
   {
    "duration": 17,
    "start_time": "2023-11-20T12:12:58.004Z"
   },
   {
    "duration": 19,
    "start_time": "2023-11-20T12:13:11.852Z"
   },
   {
    "duration": 18,
    "start_time": "2023-11-20T12:13:17.155Z"
   },
   {
    "duration": 110,
    "start_time": "2023-11-20T12:14:49.856Z"
   },
   {
    "duration": 823,
    "start_time": "2023-11-20T12:23:17.968Z"
   },
   {
    "duration": 953,
    "start_time": "2023-11-20T12:23:58.643Z"
   },
   {
    "duration": 10,
    "start_time": "2023-11-20T12:24:43.720Z"
   },
   {
    "duration": 19,
    "start_time": "2023-11-20T12:25:15.384Z"
   },
   {
    "duration": 814,
    "start_time": "2023-11-20T12:25:26.288Z"
   },
   {
    "duration": 17,
    "start_time": "2023-11-20T12:26:04.368Z"
   },
   {
    "duration": 17,
    "start_time": "2023-11-20T12:26:29.536Z"
   },
   {
    "duration": 18,
    "start_time": "2023-11-20T12:28:25.389Z"
   },
   {
    "duration": 75,
    "start_time": "2023-11-20T12:29:17.578Z"
   },
   {
    "duration": 17,
    "start_time": "2023-11-20T12:29:25.165Z"
   },
   {
    "duration": 19,
    "start_time": "2023-11-20T12:29:45.037Z"
   },
   {
    "duration": 111,
    "start_time": "2023-11-20T12:29:51.121Z"
   },
   {
    "duration": 18,
    "start_time": "2023-11-20T12:29:55.705Z"
   },
   {
    "duration": 18,
    "start_time": "2023-11-20T12:30:08.790Z"
   },
   {
    "duration": 807,
    "start_time": "2023-11-20T12:30:24.494Z"
   },
   {
    "duration": 18,
    "start_time": "2023-11-20T12:30:52.218Z"
   },
   {
    "duration": 20,
    "start_time": "2023-11-20T12:30:56.645Z"
   },
   {
    "duration": 8,
    "start_time": "2023-11-20T12:31:48.198Z"
   },
   {
    "duration": 6,
    "start_time": "2023-11-20T12:32:10.663Z"
   },
   {
    "duration": 19,
    "start_time": "2023-11-20T12:32:46.174Z"
   },
   {
    "duration": 18,
    "start_time": "2023-11-20T12:32:53.334Z"
   },
   {
    "duration": 19,
    "start_time": "2023-11-20T12:33:12.540Z"
   },
   {
    "duration": 4,
    "start_time": "2023-11-20T12:35:47.036Z"
   },
   {
    "duration": 16,
    "start_time": "2023-11-20T12:38:56.964Z"
   },
   {
    "duration": 883,
    "start_time": "2023-11-20T12:39:19.935Z"
   },
   {
    "duration": 814,
    "start_time": "2023-11-20T12:40:16.029Z"
   },
   {
    "duration": 916,
    "start_time": "2023-11-20T12:40:36.025Z"
   },
   {
    "duration": 781,
    "start_time": "2023-11-20T12:40:58.890Z"
   },
   {
    "duration": 10,
    "start_time": "2023-11-20T12:45:11.246Z"
   },
   {
    "duration": 1464,
    "start_time": "2023-11-20T12:47:47.679Z"
   },
   {
    "duration": 1293,
    "start_time": "2023-11-20T12:48:03.463Z"
   },
   {
    "duration": 274,
    "start_time": "2023-11-20T12:48:15.087Z"
   },
   {
    "duration": 78,
    "start_time": "2023-11-20T12:48:35.607Z"
   },
   {
    "duration": 280,
    "start_time": "2023-11-20T12:49:53.695Z"
   },
   {
    "duration": 282,
    "start_time": "2023-11-20T12:50:54.488Z"
   },
   {
    "duration": 731,
    "start_time": "2023-11-20T12:54:49.989Z"
   },
   {
    "duration": 212,
    "start_time": "2023-11-20T13:05:36.381Z"
   },
   {
    "duration": 218,
    "start_time": "2023-11-20T13:05:53.363Z"
   },
   {
    "duration": 20,
    "start_time": "2023-11-20T13:07:27.024Z"
   },
   {
    "duration": 24,
    "start_time": "2023-11-20T13:08:43.124Z"
   },
   {
    "duration": 4,
    "start_time": "2023-11-20T13:09:01.300Z"
   },
   {
    "duration": 23,
    "start_time": "2023-11-20T13:09:19.820Z"
   },
   {
    "duration": 4,
    "start_time": "2023-11-20T13:09:22.328Z"
   },
   {
    "duration": 24,
    "start_time": "2023-11-20T13:09:31.860Z"
   },
   {
    "duration": 4,
    "start_time": "2023-11-20T13:09:34.700Z"
   },
   {
    "duration": 3,
    "start_time": "2023-11-20T13:10:06.345Z"
   },
   {
    "duration": 228,
    "start_time": "2023-11-20T13:11:01.737Z"
   },
   {
    "duration": 23,
    "start_time": "2023-11-20T13:11:07.350Z"
   },
   {
    "duration": 4,
    "start_time": "2023-11-20T13:11:09.904Z"
   },
   {
    "duration": 27,
    "start_time": "2023-11-20T13:11:25.849Z"
   },
   {
    "duration": 4,
    "start_time": "2023-11-20T13:11:28.841Z"
   },
   {
    "duration": 24,
    "start_time": "2023-11-20T13:11:38.485Z"
   },
   {
    "duration": 4,
    "start_time": "2023-11-20T13:11:41.893Z"
   },
   {
    "duration": 23,
    "start_time": "2023-11-20T13:12:23.089Z"
   },
   {
    "duration": 4,
    "start_time": "2023-11-20T13:12:26.277Z"
   },
   {
    "duration": 547,
    "start_time": "2023-11-20T13:18:58.535Z"
   },
   {
    "duration": 3,
    "start_time": "2023-11-20T13:24:03.616Z"
   },
   {
    "duration": 16,
    "start_time": "2023-11-20T13:24:26.941Z"
   },
   {
    "duration": 1403,
    "start_time": "2023-11-20T13:24:39.229Z"
   },
   {
    "duration": 1270,
    "start_time": "2023-11-20T13:24:48.408Z"
   },
   {
    "duration": 41,
    "start_time": "2023-11-20T13:24:49.680Z"
   },
   {
    "duration": 16,
    "start_time": "2023-11-20T13:24:49.722Z"
   },
   {
    "duration": 11,
    "start_time": "2023-11-20T13:24:49.740Z"
   },
   {
    "duration": 11,
    "start_time": "2023-11-20T13:24:49.752Z"
   },
   {
    "duration": 12,
    "start_time": "2023-11-20T13:24:49.765Z"
   },
   {
    "duration": 35,
    "start_time": "2023-11-20T13:24:49.779Z"
   },
   {
    "duration": 5,
    "start_time": "2023-11-20T13:24:49.816Z"
   },
   {
    "duration": 9,
    "start_time": "2023-11-20T13:24:49.822Z"
   },
   {
    "duration": 4,
    "start_time": "2023-11-20T13:24:49.833Z"
   },
   {
    "duration": 29,
    "start_time": "2023-11-20T13:24:49.839Z"
   },
   {
    "duration": 6,
    "start_time": "2023-11-20T13:24:49.870Z"
   },
   {
    "duration": 13,
    "start_time": "2023-11-20T13:24:49.878Z"
   },
   {
    "duration": 4,
    "start_time": "2023-11-20T13:24:49.893Z"
   },
   {
    "duration": 11,
    "start_time": "2023-11-20T13:24:49.899Z"
   },
   {
    "duration": 13,
    "start_time": "2023-11-20T13:24:49.911Z"
   },
   {
    "duration": 55,
    "start_time": "2023-11-20T13:24:49.926Z"
   },
   {
    "duration": 5,
    "start_time": "2023-11-20T13:24:49.983Z"
   },
   {
    "duration": 5,
    "start_time": "2023-11-20T13:24:49.990Z"
   },
   {
    "duration": 134,
    "start_time": "2023-11-20T13:24:49.997Z"
   },
   {
    "duration": 10,
    "start_time": "2023-11-20T13:24:50.132Z"
   },
   {
    "duration": 11,
    "start_time": "2023-11-20T13:24:50.143Z"
   },
   {
    "duration": 9,
    "start_time": "2023-11-20T13:24:50.165Z"
   },
   {
    "duration": 13,
    "start_time": "2023-11-20T13:24:50.176Z"
   },
   {
    "duration": 241,
    "start_time": "2023-11-20T13:24:50.190Z"
   },
   {
    "duration": 265,
    "start_time": "2023-11-20T13:24:50.432Z"
   },
   {
    "duration": 220,
    "start_time": "2023-11-20T13:24:50.699Z"
   },
   {
    "duration": 229,
    "start_time": "2023-11-20T13:24:50.922Z"
   },
   {
    "duration": 277,
    "start_time": "2023-11-20T13:24:51.153Z"
   },
   {
    "duration": 388,
    "start_time": "2023-11-20T13:24:51.432Z"
   },
   {
    "duration": 7,
    "start_time": "2023-11-20T13:24:51.821Z"
   },
   {
    "duration": 471,
    "start_time": "2023-11-20T13:24:51.830Z"
   },
   {
    "duration": 601,
    "start_time": "2023-11-20T13:24:52.303Z"
   },
   {
    "duration": 1680,
    "start_time": "2023-11-20T13:24:52.906Z"
   },
   {
    "duration": 12,
    "start_time": "2023-11-20T13:24:54.588Z"
   },
   {
    "duration": 38,
    "start_time": "2023-11-20T13:24:54.601Z"
   },
   {
    "duration": 33,
    "start_time": "2023-11-20T13:24:54.640Z"
   },
   {
    "duration": 1455,
    "start_time": "2023-11-20T13:24:54.674Z"
   },
   {
    "duration": 0,
    "start_time": "2023-11-20T13:24:56.131Z"
   },
   {
    "duration": 0,
    "start_time": "2023-11-20T13:24:56.132Z"
   },
   {
    "duration": 3,
    "start_time": "2023-11-20T13:25:36.320Z"
   },
   {
    "duration": 19,
    "start_time": "2023-11-20T13:25:37.804Z"
   },
   {
    "duration": 30,
    "start_time": "2023-11-20T13:26:32.433Z"
   },
   {
    "duration": 3,
    "start_time": "2023-11-20T13:26:35.261Z"
   },
   {
    "duration": 10,
    "start_time": "2023-11-20T13:28:09.401Z"
   },
   {
    "duration": 138,
    "start_time": "2023-11-20T13:28:40.197Z"
   },
   {
    "duration": 1222,
    "start_time": "2023-11-20T13:28:44.025Z"
   },
   {
    "duration": 8,
    "start_time": "2023-11-20T13:29:53.222Z"
   },
   {
    "duration": 13,
    "start_time": "2023-11-20T13:30:51.303Z"
   },
   {
    "duration": 5,
    "start_time": "2023-11-20T13:33:13.215Z"
   },
   {
    "duration": 8,
    "start_time": "2023-11-20T13:33:48.954Z"
   },
   {
    "duration": 7,
    "start_time": "2023-11-20T13:34:12.179Z"
   },
   {
    "duration": 8,
    "start_time": "2023-11-20T13:34:26.075Z"
   },
   {
    "duration": 3,
    "start_time": "2023-11-20T13:35:39.464Z"
   },
   {
    "duration": 8,
    "start_time": "2023-11-20T13:36:49.488Z"
   },
   {
    "duration": 9,
    "start_time": "2023-11-20T13:37:10.044Z"
   },
   {
    "duration": 9,
    "start_time": "2023-11-20T13:37:17.628Z"
   },
   {
    "duration": 9,
    "start_time": "2023-11-20T13:37:43.924Z"
   },
   {
    "duration": 8,
    "start_time": "2023-11-20T13:39:53.741Z"
   },
   {
    "duration": 17,
    "start_time": "2023-11-20T13:40:16.974Z"
   },
   {
    "duration": 8,
    "start_time": "2023-11-20T13:40:36.817Z"
   },
   {
    "duration": 7,
    "start_time": "2023-11-20T13:41:06.205Z"
   },
   {
    "duration": 8,
    "start_time": "2023-11-20T13:41:09.045Z"
   },
   {
    "duration": 6,
    "start_time": "2023-11-20T13:41:41.370Z"
   },
   {
    "duration": 23,
    "start_time": "2023-11-20T13:41:43.522Z"
   },
   {
    "duration": 5,
    "start_time": "2023-11-20T13:42:37.351Z"
   },
   {
    "duration": 30,
    "start_time": "2023-11-20T13:42:39.471Z"
   },
   {
    "duration": 10,
    "start_time": "2023-11-20T13:42:45.162Z"
   },
   {
    "duration": 7,
    "start_time": "2023-11-20T13:43:53.275Z"
   },
   {
    "duration": 9,
    "start_time": "2023-11-20T13:43:55.430Z"
   },
   {
    "duration": 8,
    "start_time": "2023-11-20T13:44:18.962Z"
   },
   {
    "duration": 9,
    "start_time": "2023-11-20T13:44:21.995Z"
   },
   {
    "duration": 7,
    "start_time": "2023-11-20T13:44:39.906Z"
   },
   {
    "duration": 6,
    "start_time": "2023-11-20T13:44:48.239Z"
   },
   {
    "duration": 9,
    "start_time": "2023-11-20T13:44:50.331Z"
   },
   {
    "duration": 5,
    "start_time": "2023-11-20T13:44:57.735Z"
   },
   {
    "duration": 12,
    "start_time": "2023-11-20T13:44:59.684Z"
   },
   {
    "duration": 6,
    "start_time": "2023-11-20T13:46:18.399Z"
   },
   {
    "duration": 10,
    "start_time": "2023-11-20T13:46:21.047Z"
   },
   {
    "duration": 7,
    "start_time": "2023-11-20T13:46:28.343Z"
   },
   {
    "duration": 11,
    "start_time": "2023-11-20T13:46:30.190Z"
   },
   {
    "duration": 6,
    "start_time": "2023-11-20T13:47:16.656Z"
   },
   {
    "duration": 13,
    "start_time": "2023-11-20T13:47:19.968Z"
   },
   {
    "duration": 1291,
    "start_time": "2023-11-20T13:47:27.739Z"
   },
   {
    "duration": 43,
    "start_time": "2023-11-20T13:47:29.032Z"
   },
   {
    "duration": 19,
    "start_time": "2023-11-20T13:47:29.076Z"
   },
   {
    "duration": 12,
    "start_time": "2023-11-20T13:47:29.096Z"
   },
   {
    "duration": 7,
    "start_time": "2023-11-20T13:47:29.110Z"
   },
   {
    "duration": 16,
    "start_time": "2023-11-20T13:47:29.119Z"
   },
   {
    "duration": 63,
    "start_time": "2023-11-20T13:47:29.137Z"
   },
   {
    "duration": 13,
    "start_time": "2023-11-20T13:47:29.201Z"
   },
   {
    "duration": 10,
    "start_time": "2023-11-20T13:47:29.216Z"
   },
   {
    "duration": 5,
    "start_time": "2023-11-20T13:47:29.228Z"
   },
   {
    "duration": 11,
    "start_time": "2023-11-20T13:47:29.235Z"
   },
   {
    "duration": 18,
    "start_time": "2023-11-20T13:47:29.247Z"
   },
   {
    "duration": 25,
    "start_time": "2023-11-20T13:47:29.268Z"
   },
   {
    "duration": 4,
    "start_time": "2023-11-20T13:47:29.295Z"
   },
   {
    "duration": 7,
    "start_time": "2023-11-20T13:47:29.300Z"
   },
   {
    "duration": 13,
    "start_time": "2023-11-20T13:47:29.308Z"
   },
   {
    "duration": 47,
    "start_time": "2023-11-20T13:47:29.322Z"
   },
   {
    "duration": 6,
    "start_time": "2023-11-20T13:47:29.371Z"
   },
   {
    "duration": 9,
    "start_time": "2023-11-20T13:47:29.380Z"
   },
   {
    "duration": 138,
    "start_time": "2023-11-20T13:47:29.391Z"
   },
   {
    "duration": 10,
    "start_time": "2023-11-20T13:47:29.531Z"
   },
   {
    "duration": 17,
    "start_time": "2023-11-20T13:47:29.543Z"
   },
   {
    "duration": 12,
    "start_time": "2023-11-20T13:47:29.565Z"
   },
   {
    "duration": 6,
    "start_time": "2023-11-20T13:47:29.579Z"
   },
   {
    "duration": 265,
    "start_time": "2023-11-20T13:47:29.587Z"
   },
   {
    "duration": 256,
    "start_time": "2023-11-20T13:47:29.853Z"
   },
   {
    "duration": 243,
    "start_time": "2023-11-20T13:47:30.111Z"
   },
   {
    "duration": 243,
    "start_time": "2023-11-20T13:47:30.358Z"
   },
   {
    "duration": 317,
    "start_time": "2023-11-20T13:47:30.603Z"
   },
   {
    "duration": 417,
    "start_time": "2023-11-20T13:47:30.921Z"
   },
   {
    "duration": 9,
    "start_time": "2023-11-20T13:47:31.340Z"
   },
   {
    "duration": 505,
    "start_time": "2023-11-20T13:47:31.350Z"
   },
   {
    "duration": 602,
    "start_time": "2023-11-20T13:47:31.857Z"
   },
   {
    "duration": 1671,
    "start_time": "2023-11-20T13:47:32.461Z"
   },
   {
    "duration": 14,
    "start_time": "2023-11-20T13:47:34.136Z"
   },
   {
    "duration": 30,
    "start_time": "2023-11-20T13:47:34.151Z"
   },
   {
    "duration": 14,
    "start_time": "2023-11-20T13:47:34.183Z"
   },
   {
    "duration": 28,
    "start_time": "2023-11-20T13:47:34.199Z"
   },
   {
    "duration": 32,
    "start_time": "2023-11-20T13:47:34.229Z"
   },
   {
    "duration": 13,
    "start_time": "2023-11-20T13:47:34.263Z"
   },
   {
    "duration": 23,
    "start_time": "2023-11-20T13:47:34.278Z"
   },
   {
    "duration": 30,
    "start_time": "2023-11-20T13:47:34.302Z"
   },
   {
    "duration": 5,
    "start_time": "2023-11-20T13:47:46.840Z"
   },
   {
    "duration": 9,
    "start_time": "2023-11-20T13:47:48.840Z"
   },
   {
    "duration": 13,
    "start_time": "2023-11-20T13:48:12.955Z"
   },
   {
    "duration": 6,
    "start_time": "2023-11-20T13:48:33.892Z"
   },
   {
    "duration": 10,
    "start_time": "2023-11-20T13:48:35.900Z"
   },
   {
    "duration": 119,
    "start_time": "2023-11-20T13:49:07.947Z"
   },
   {
    "duration": 19,
    "start_time": "2023-11-20T13:49:39.396Z"
   },
   {
    "duration": 6,
    "start_time": "2023-11-20T13:51:42.973Z"
   },
   {
    "duration": 10,
    "start_time": "2023-11-20T13:51:45.413Z"
   },
   {
    "duration": 8,
    "start_time": "2023-11-20T13:52:38.693Z"
   },
   {
    "duration": 9,
    "start_time": "2023-11-20T13:52:42.345Z"
   },
   {
    "duration": 6,
    "start_time": "2023-11-20T13:52:47.253Z"
   },
   {
    "duration": 10,
    "start_time": "2023-11-20T13:52:49.885Z"
   },
   {
    "duration": 6,
    "start_time": "2023-11-20T13:53:24.301Z"
   },
   {
    "duration": 10,
    "start_time": "2023-11-20T13:53:27.021Z"
   },
   {
    "duration": 1216,
    "start_time": "2023-11-20T13:53:38.758Z"
   },
   {
    "duration": 43,
    "start_time": "2023-11-20T13:53:39.975Z"
   },
   {
    "duration": 17,
    "start_time": "2023-11-20T13:53:40.019Z"
   },
   {
    "duration": 35,
    "start_time": "2023-11-20T13:53:40.038Z"
   },
   {
    "duration": 22,
    "start_time": "2023-11-20T13:53:40.075Z"
   },
   {
    "duration": 41,
    "start_time": "2023-11-20T13:53:40.099Z"
   },
   {
    "duration": 62,
    "start_time": "2023-11-20T13:53:40.142Z"
   },
   {
    "duration": 8,
    "start_time": "2023-11-20T13:53:40.206Z"
   },
   {
    "duration": 39,
    "start_time": "2023-11-20T13:53:40.215Z"
   },
   {
    "duration": 21,
    "start_time": "2023-11-20T13:53:40.256Z"
   },
   {
    "duration": 39,
    "start_time": "2023-11-20T13:53:40.278Z"
   },
   {
    "duration": 23,
    "start_time": "2023-11-20T13:53:40.319Z"
   },
   {
    "duration": 64,
    "start_time": "2023-11-20T13:53:40.343Z"
   },
   {
    "duration": 19,
    "start_time": "2023-11-20T13:53:40.409Z"
   },
   {
    "duration": 43,
    "start_time": "2023-11-20T13:53:40.430Z"
   },
   {
    "duration": 30,
    "start_time": "2023-11-20T13:53:40.475Z"
   },
   {
    "duration": 43,
    "start_time": "2023-11-20T13:53:40.506Z"
   },
   {
    "duration": 16,
    "start_time": "2023-11-20T13:53:40.551Z"
   },
   {
    "duration": 37,
    "start_time": "2023-11-20T13:53:40.569Z"
   },
   {
    "duration": 131,
    "start_time": "2023-11-20T13:53:40.608Z"
   },
   {
    "duration": 10,
    "start_time": "2023-11-20T13:53:40.741Z"
   },
   {
    "duration": 64,
    "start_time": "2023-11-20T13:53:40.765Z"
   },
   {
    "duration": 37,
    "start_time": "2023-11-20T13:53:40.831Z"
   },
   {
    "duration": 13,
    "start_time": "2023-11-20T13:53:40.870Z"
   },
   {
    "duration": 215,
    "start_time": "2023-11-20T13:53:40.885Z"
   },
   {
    "duration": 245,
    "start_time": "2023-11-20T13:53:41.102Z"
   },
   {
    "duration": 237,
    "start_time": "2023-11-20T13:53:41.349Z"
   },
   {
    "duration": 243,
    "start_time": "2023-11-20T13:53:41.590Z"
   },
   {
    "duration": 279,
    "start_time": "2023-11-20T13:53:41.835Z"
   },
   {
    "duration": 396,
    "start_time": "2023-11-20T13:53:42.115Z"
   },
   {
    "duration": 8,
    "start_time": "2023-11-20T13:53:42.513Z"
   },
   {
    "duration": 471,
    "start_time": "2023-11-20T13:53:42.523Z"
   },
   {
    "duration": 580,
    "start_time": "2023-11-20T13:53:42.995Z"
   },
   {
    "duration": 1625,
    "start_time": "2023-11-20T13:53:43.577Z"
   },
   {
    "duration": 12,
    "start_time": "2023-11-20T13:53:45.204Z"
   },
   {
    "duration": 44,
    "start_time": "2023-11-20T13:53:45.218Z"
   },
   {
    "duration": 21,
    "start_time": "2023-11-20T13:53:45.264Z"
   },
   {
    "duration": 42,
    "start_time": "2023-11-20T13:53:45.286Z"
   },
   {
    "duration": 25,
    "start_time": "2023-11-20T13:53:45.329Z"
   },
   {
    "duration": 24,
    "start_time": "2023-11-20T13:53:45.356Z"
   },
   {
    "duration": 27,
    "start_time": "2023-11-20T13:53:45.381Z"
   },
   {
    "duration": 24,
    "start_time": "2023-11-20T13:53:45.410Z"
   },
   {
    "duration": 9,
    "start_time": "2023-11-20T13:56:50.562Z"
   },
   {
    "duration": 10,
    "start_time": "2023-11-20T13:56:52.811Z"
   },
   {
    "duration": 3,
    "start_time": "2023-11-20T14:00:23.528Z"
   },
   {
    "duration": 18,
    "start_time": "2023-11-20T14:00:25.544Z"
   },
   {
    "duration": 12,
    "start_time": "2023-11-20T14:00:38.476Z"
   },
   {
    "duration": 1293,
    "start_time": "2023-11-20T14:01:16.232Z"
   },
   {
    "duration": 45,
    "start_time": "2023-11-20T14:01:17.527Z"
   },
   {
    "duration": 21,
    "start_time": "2023-11-20T14:01:17.574Z"
   },
   {
    "duration": 29,
    "start_time": "2023-11-20T14:01:17.597Z"
   },
   {
    "duration": 7,
    "start_time": "2023-11-20T14:01:17.628Z"
   },
   {
    "duration": 27,
    "start_time": "2023-11-20T14:01:17.636Z"
   },
   {
    "duration": 62,
    "start_time": "2023-11-20T14:01:17.665Z"
   },
   {
    "duration": 5,
    "start_time": "2023-11-20T14:01:17.729Z"
   },
   {
    "duration": 16,
    "start_time": "2023-11-20T14:01:17.736Z"
   },
   {
    "duration": 17,
    "start_time": "2023-11-20T14:01:17.755Z"
   },
   {
    "duration": 33,
    "start_time": "2023-11-20T14:01:17.774Z"
   },
   {
    "duration": 23,
    "start_time": "2023-11-20T14:01:17.809Z"
   },
   {
    "duration": 30,
    "start_time": "2023-11-20T14:01:17.834Z"
   },
   {
    "duration": 18,
    "start_time": "2023-11-20T14:01:17.865Z"
   },
   {
    "duration": 22,
    "start_time": "2023-11-20T14:01:17.885Z"
   },
   {
    "duration": 25,
    "start_time": "2023-11-20T14:01:17.909Z"
   },
   {
    "duration": 35,
    "start_time": "2023-11-20T14:01:17.936Z"
   },
   {
    "duration": 7,
    "start_time": "2023-11-20T14:01:17.973Z"
   },
   {
    "duration": 13,
    "start_time": "2023-11-20T14:01:17.982Z"
   },
   {
    "duration": 132,
    "start_time": "2023-11-20T14:01:17.997Z"
   },
   {
    "duration": 9,
    "start_time": "2023-11-20T14:01:18.131Z"
   },
   {
    "duration": 18,
    "start_time": "2023-11-20T14:01:18.142Z"
   },
   {
    "duration": 21,
    "start_time": "2023-11-20T14:01:18.162Z"
   },
   {
    "duration": 17,
    "start_time": "2023-11-20T14:01:18.185Z"
   },
   {
    "duration": 250,
    "start_time": "2023-11-20T14:01:18.204Z"
   },
   {
    "duration": 281,
    "start_time": "2023-11-20T14:01:18.455Z"
   },
   {
    "duration": 263,
    "start_time": "2023-11-20T14:01:18.738Z"
   },
   {
    "duration": 254,
    "start_time": "2023-11-20T14:01:19.005Z"
   },
   {
    "duration": 330,
    "start_time": "2023-11-20T14:01:19.260Z"
   },
   {
    "duration": 414,
    "start_time": "2023-11-20T14:01:19.591Z"
   },
   {
    "duration": 8,
    "start_time": "2023-11-20T14:01:20.006Z"
   },
   {
    "duration": 484,
    "start_time": "2023-11-20T14:01:20.016Z"
   },
   {
    "duration": 685,
    "start_time": "2023-11-20T14:01:20.502Z"
   },
   {
    "duration": 1821,
    "start_time": "2023-11-20T14:01:21.189Z"
   },
   {
    "duration": 13,
    "start_time": "2023-11-20T14:01:23.011Z"
   },
   {
    "duration": 28,
    "start_time": "2023-11-20T14:01:23.025Z"
   },
   {
    "duration": 9,
    "start_time": "2023-11-20T14:01:23.054Z"
   },
   {
    "duration": 31,
    "start_time": "2023-11-20T14:01:23.065Z"
   },
   {
    "duration": 8,
    "start_time": "2023-11-20T14:01:23.097Z"
   },
   {
    "duration": 10,
    "start_time": "2023-11-20T14:01:23.106Z"
   },
   {
    "duration": 58,
    "start_time": "2023-11-20T14:01:23.117Z"
   },
   {
    "duration": 0,
    "start_time": "2023-11-20T14:01:23.178Z"
   },
   {
    "duration": 73,
    "start_time": "2023-11-20T14:02:26.403Z"
   },
   {
    "duration": 71,
    "start_time": "2023-11-20T14:02:52.472Z"
   },
   {
    "duration": 75,
    "start_time": "2023-11-20T14:03:07.236Z"
   },
   {
    "duration": 62,
    "start_time": "2023-11-20T14:06:08.625Z"
   },
   {
    "duration": 8,
    "start_time": "2023-11-20T14:06:20.713Z"
   },
   {
    "duration": 12,
    "start_time": "2023-11-20T14:06:27.769Z"
   },
   {
    "duration": 92,
    "start_time": "2023-11-20T14:06:36.001Z"
   },
   {
    "duration": 7,
    "start_time": "2023-11-20T14:06:42.621Z"
   },
   {
    "duration": 11,
    "start_time": "2023-11-20T14:06:45.685Z"
   },
   {
    "duration": 7,
    "start_time": "2023-11-20T14:06:53.585Z"
   },
   {
    "duration": 20,
    "start_time": "2023-11-20T14:06:55.873Z"
   },
   {
    "duration": 7,
    "start_time": "2023-11-20T14:07:38.718Z"
   },
   {
    "duration": 12,
    "start_time": "2023-11-20T14:07:42.382Z"
   },
   {
    "duration": 7,
    "start_time": "2023-11-20T14:07:52.389Z"
   },
   {
    "duration": 9,
    "start_time": "2023-11-20T14:07:55.146Z"
   },
   {
    "duration": 7,
    "start_time": "2023-11-20T14:08:38.410Z"
   },
   {
    "duration": 10,
    "start_time": "2023-11-20T14:08:40.694Z"
   },
   {
    "duration": 6,
    "start_time": "2023-11-20T14:09:18.930Z"
   },
   {
    "duration": 15,
    "start_time": "2023-11-20T14:09:21.170Z"
   },
   {
    "duration": 260,
    "start_time": "2023-11-20T14:11:24.959Z"
   },
   {
    "duration": 7,
    "start_time": "2023-11-20T14:11:31.466Z"
   },
   {
    "duration": 11,
    "start_time": "2023-11-20T14:11:51.591Z"
   },
   {
    "duration": 6,
    "start_time": "2023-11-20T14:12:37.603Z"
   },
   {
    "duration": 9,
    "start_time": "2023-11-20T14:12:39.855Z"
   },
   {
    "duration": 205,
    "start_time": "2023-11-20T14:14:16.567Z"
   },
   {
    "duration": 195,
    "start_time": "2023-11-20T14:14:21.755Z"
   },
   {
    "duration": 162,
    "start_time": "2023-11-20T14:14:38.343Z"
   },
   {
    "duration": 10,
    "start_time": "2023-11-20T14:15:30.880Z"
   },
   {
    "duration": 11,
    "start_time": "2023-11-20T14:15:33.627Z"
   },
   {
    "duration": 7,
    "start_time": "2023-11-20T14:17:20.040Z"
   },
   {
    "duration": 10,
    "start_time": "2023-11-20T14:17:22.340Z"
   },
   {
    "duration": 7,
    "start_time": "2023-11-20T14:17:25.628Z"
   },
   {
    "duration": 9,
    "start_time": "2023-11-20T14:17:27.924Z"
   },
   {
    "duration": 580,
    "start_time": "2023-11-20T14:21:26.877Z"
   },
   {
    "duration": 543,
    "start_time": "2023-11-20T14:22:10.362Z"
   },
   {
    "duration": 7,
    "start_time": "2023-11-20T14:26:25.723Z"
   },
   {
    "duration": 14,
    "start_time": "2023-11-20T14:26:27.876Z"
   },
   {
    "duration": 27,
    "start_time": "2023-11-20T14:27:19.380Z"
   },
   {
    "duration": 6,
    "start_time": "2023-11-20T14:27:47.547Z"
   },
   {
    "duration": 11,
    "start_time": "2023-11-20T14:27:49.923Z"
   },
   {
    "duration": 1441,
    "start_time": "2023-11-21T03:29:03.267Z"
   },
   {
    "duration": 81,
    "start_time": "2023-11-21T03:29:06.427Z"
   },
   {
    "duration": 18,
    "start_time": "2023-11-21T03:29:43.698Z"
   },
   {
    "duration": 13,
    "start_time": "2023-11-21T03:29:46.017Z"
   },
   {
    "duration": 7,
    "start_time": "2023-11-21T03:29:49.905Z"
   },
   {
    "duration": 2,
    "start_time": "2023-11-21T03:30:30.427Z"
   },
   {
    "duration": 20,
    "start_time": "2023-11-21T03:36:13.088Z"
   },
   {
    "duration": 30,
    "start_time": "2023-11-21T03:37:02.917Z"
   },
   {
    "duration": 3,
    "start_time": "2023-11-21T03:41:22.723Z"
   },
   {
    "duration": 3,
    "start_time": "2023-11-21T03:41:42.322Z"
   },
   {
    "duration": 4,
    "start_time": "2023-11-21T03:45:07.564Z"
   },
   {
    "duration": 5,
    "start_time": "2023-11-21T03:46:11.729Z"
   },
   {
    "duration": 5,
    "start_time": "2023-11-21T03:46:31.758Z"
   },
   {
    "duration": 5,
    "start_time": "2023-11-21T03:47:26.221Z"
   },
   {
    "duration": 92,
    "start_time": "2023-11-21T03:47:52.628Z"
   },
   {
    "duration": 8,
    "start_time": "2023-11-21T03:49:39.036Z"
   },
   {
    "duration": 7,
    "start_time": "2023-11-21T03:49:51.581Z"
   },
   {
    "duration": 21,
    "start_time": "2023-11-21T03:50:46.605Z"
   },
   {
    "duration": 11,
    "start_time": "2023-11-21T03:53:12.755Z"
   },
   {
    "duration": 10,
    "start_time": "2023-11-21T03:53:19.474Z"
   },
   {
    "duration": 10,
    "start_time": "2023-11-21T03:53:31.618Z"
   },
   {
    "duration": 10,
    "start_time": "2023-11-21T03:53:36.714Z"
   },
   {
    "duration": 5,
    "start_time": "2023-11-21T03:54:04.260Z"
   },
   {
    "duration": 4,
    "start_time": "2023-11-21T03:54:22.835Z"
   },
   {
    "duration": 23,
    "start_time": "2023-11-21T03:54:27.923Z"
   },
   {
    "duration": 22,
    "start_time": "2023-11-21T03:55:35.162Z"
   },
   {
    "duration": 16,
    "start_time": "2023-11-21T03:55:47.640Z"
   },
   {
    "duration": 4,
    "start_time": "2023-11-21T04:01:02.872Z"
   },
   {
    "duration": 12,
    "start_time": "2023-11-21T04:01:10.390Z"
   },
   {
    "duration": 3,
    "start_time": "2023-11-21T04:02:50.279Z"
   },
   {
    "duration": 12,
    "start_time": "2023-11-21T04:02:52.252Z"
   },
   {
    "duration": 5,
    "start_time": "2023-11-21T04:03:20.613Z"
   },
   {
    "duration": 13,
    "start_time": "2023-11-21T04:03:22.405Z"
   },
   {
    "duration": 11,
    "start_time": "2023-11-21T04:05:04.652Z"
   },
   {
    "duration": 19,
    "start_time": "2023-11-21T04:05:45.078Z"
   },
   {
    "duration": 6,
    "start_time": "2023-11-21T04:07:13.379Z"
   },
   {
    "duration": 6,
    "start_time": "2023-11-21T04:08:18.917Z"
   },
   {
    "duration": 96,
    "start_time": "2023-11-21T04:08:59.669Z"
   },
   {
    "duration": 6,
    "start_time": "2023-11-21T04:09:15.481Z"
   },
   {
    "duration": 125,
    "start_time": "2023-11-21T04:10:06.369Z"
   },
   {
    "duration": 106,
    "start_time": "2023-11-21T04:13:55.912Z"
   },
   {
    "duration": 10,
    "start_time": "2023-11-21T04:14:20.423Z"
   },
   {
    "duration": 10,
    "start_time": "2023-11-21T04:14:26.446Z"
   },
   {
    "duration": 172,
    "start_time": "2023-11-21T04:15:42.248Z"
   },
   {
    "duration": 12,
    "start_time": "2023-11-21T04:15:46.350Z"
   },
   {
    "duration": 7,
    "start_time": "2023-11-21T04:16:02.447Z"
   },
   {
    "duration": 12,
    "start_time": "2023-11-21T05:32:33.179Z"
   },
   {
    "duration": 6,
    "start_time": "2023-11-21T05:32:48.789Z"
   },
   {
    "duration": 126,
    "start_time": "2023-11-21T05:34:13.962Z"
   },
   {
    "duration": 9,
    "start_time": "2023-11-21T05:35:41.963Z"
   },
   {
    "duration": 4,
    "start_time": "2023-11-21T05:35:46.075Z"
   },
   {
    "duration": 9,
    "start_time": "2023-11-21T05:40:50.152Z"
   },
   {
    "duration": 19,
    "start_time": "2023-11-21T05:42:03.584Z"
   },
   {
    "duration": 43,
    "start_time": "2023-11-21T05:45:11.692Z"
   },
   {
    "duration": 6,
    "start_time": "2023-11-21T05:45:22.460Z"
   },
   {
    "duration": 219,
    "start_time": "2023-11-21T05:49:42.002Z"
   },
   {
    "duration": 180,
    "start_time": "2023-11-21T05:50:04.520Z"
   },
   {
    "duration": 189,
    "start_time": "2023-11-21T05:50:47.905Z"
   },
   {
    "duration": 9,
    "start_time": "2023-11-21T05:51:56.019Z"
   },
   {
    "duration": 1322,
    "start_time": "2023-11-21T05:52:04.552Z"
   },
   {
    "duration": 14,
    "start_time": "2023-11-21T05:52:19.279Z"
   },
   {
    "duration": 3,
    "start_time": "2023-11-21T05:52:45.367Z"
   },
   {
    "duration": 9,
    "start_time": "2023-11-21T05:52:50.870Z"
   },
   {
    "duration": 181,
    "start_time": "2023-11-21T05:53:05.455Z"
   },
   {
    "duration": 134,
    "start_time": "2023-11-21T05:53:16.000Z"
   },
   {
    "duration": 201,
    "start_time": "2023-11-21T05:53:20.944Z"
   },
   {
    "duration": 178,
    "start_time": "2023-11-21T05:54:47.153Z"
   },
   {
    "duration": 224,
    "start_time": "2023-11-21T05:55:24.685Z"
   },
   {
    "duration": 206,
    "start_time": "2023-11-21T05:55:31.301Z"
   },
   {
    "duration": 226,
    "start_time": "2023-11-21T05:56:17.837Z"
   },
   {
    "duration": 243,
    "start_time": "2023-11-21T05:58:09.470Z"
   },
   {
    "duration": 229,
    "start_time": "2023-11-21T05:58:31.507Z"
   },
   {
    "duration": 1253,
    "start_time": "2023-11-21T05:58:58.678Z"
   },
   {
    "duration": 43,
    "start_time": "2023-11-21T05:59:01.594Z"
   },
   {
    "duration": 16,
    "start_time": "2023-11-21T05:59:04.250Z"
   },
   {
    "duration": 14,
    "start_time": "2023-11-21T05:59:06.581Z"
   },
   {
    "duration": 9,
    "start_time": "2023-11-21T05:59:08.782Z"
   },
   {
    "duration": 4,
    "start_time": "2023-11-21T05:59:11.314Z"
   },
   {
    "duration": 1275,
    "start_time": "2023-11-21T05:59:18.818Z"
   },
   {
    "duration": 16,
    "start_time": "2023-11-21T05:59:25.930Z"
   },
   {
    "duration": 32,
    "start_time": "2023-11-21T05:59:29.401Z"
   },
   {
    "duration": 5,
    "start_time": "2023-11-21T05:59:32.492Z"
   },
   {
    "duration": 8,
    "start_time": "2023-11-21T05:59:36.346Z"
   },
   {
    "duration": 22,
    "start_time": "2023-11-21T05:59:38.505Z"
   },
   {
    "duration": 4,
    "start_time": "2023-11-21T05:59:41.795Z"
   },
   {
    "duration": 5,
    "start_time": "2023-11-21T05:59:44.362Z"
   },
   {
    "duration": 12,
    "start_time": "2023-11-21T05:59:46.602Z"
   },
   {
    "duration": 12,
    "start_time": "2023-11-21T05:59:49.961Z"
   },
   {
    "duration": 6,
    "start_time": "2023-11-21T05:59:52.274Z"
   },
   {
    "duration": 20,
    "start_time": "2023-11-21T05:59:55.441Z"
   },
   {
    "duration": 6,
    "start_time": "2023-11-21T05:59:57.994Z"
   },
   {
    "duration": 7,
    "start_time": "2023-11-21T06:00:00.537Z"
   },
   {
    "duration": 146,
    "start_time": "2023-11-21T06:00:03.849Z"
   },
   {
    "duration": 242,
    "start_time": "2023-11-21T06:00:13.098Z"
   },
   {
    "duration": 8,
    "start_time": "2023-11-21T06:00:50.693Z"
   },
   {
    "duration": 5,
    "start_time": "2023-11-21T06:00:55.357Z"
   },
   {
    "duration": 251,
    "start_time": "2023-11-21T06:01:00.402Z"
   },
   {
    "duration": 21,
    "start_time": "2023-11-21T06:01:06.837Z"
   },
   {
    "duration": 6,
    "start_time": "2023-11-21T06:01:36.732Z"
   },
   {
    "duration": 237,
    "start_time": "2023-11-21T06:02:15.272Z"
   },
   {
    "duration": 190,
    "start_time": "2023-11-21T06:02:22.905Z"
   },
   {
    "duration": 228,
    "start_time": "2023-11-21T06:02:58.704Z"
   },
   {
    "duration": 114,
    "start_time": "2023-11-21T06:03:29.833Z"
   },
   {
    "duration": 104,
    "start_time": "2023-11-21T06:05:15.289Z"
   },
   {
    "duration": 13,
    "start_time": "2023-11-21T06:05:29.237Z"
   },
   {
    "duration": 12,
    "start_time": "2023-11-21T06:06:05.935Z"
   },
   {
    "duration": 46,
    "start_time": "2023-11-21T06:09:28.645Z"
   },
   {
    "duration": 17,
    "start_time": "2023-11-21T06:09:51.599Z"
   },
   {
    "duration": 12,
    "start_time": "2023-11-21T06:10:03.302Z"
   },
   {
    "duration": 6,
    "start_time": "2023-11-21T06:12:03.579Z"
   },
   {
    "duration": 98,
    "start_time": "2023-11-21T06:12:47.867Z"
   },
   {
    "duration": 3,
    "start_time": "2023-11-21T06:13:48.714Z"
   },
   {
    "duration": 12,
    "start_time": "2023-11-21T06:14:45.372Z"
   },
   {
    "duration": 8,
    "start_time": "2023-11-21T06:15:24.735Z"
   },
   {
    "duration": 3,
    "start_time": "2023-11-21T06:15:53.936Z"
   },
   {
    "duration": 1173,
    "start_time": "2023-11-21T06:40:46.891Z"
   },
   {
    "duration": 43,
    "start_time": "2023-11-21T06:40:50.162Z"
   },
   {
    "duration": 16,
    "start_time": "2023-11-21T06:40:52.291Z"
   },
   {
    "duration": 13,
    "start_time": "2023-11-21T06:40:54.226Z"
   },
   {
    "duration": 8,
    "start_time": "2023-11-21T06:41:01.235Z"
   },
   {
    "duration": 4,
    "start_time": "2023-11-21T06:41:04.242Z"
   },
   {
    "duration": 14,
    "start_time": "2023-11-21T06:41:08.821Z"
   },
   {
    "duration": 20,
    "start_time": "2023-11-21T06:41:13.751Z"
   },
   {
    "duration": 4,
    "start_time": "2023-11-21T06:41:22.655Z"
   },
   {
    "duration": 8,
    "start_time": "2023-11-21T06:41:31.418Z"
   },
   {
    "duration": 22,
    "start_time": "2023-11-21T06:41:33.666Z"
   },
   {
    "duration": 4,
    "start_time": "2023-11-21T06:41:39.035Z"
   },
   {
    "duration": 6,
    "start_time": "2023-11-21T06:41:49.362Z"
   },
   {
    "duration": 12,
    "start_time": "2023-11-21T06:41:54.326Z"
   },
   {
    "duration": 11,
    "start_time": "2023-11-21T06:41:57.571Z"
   },
   {
    "duration": 5,
    "start_time": "2023-11-21T06:42:02.338Z"
   },
   {
    "duration": 20,
    "start_time": "2023-11-21T06:42:06.570Z"
   },
   {
    "duration": 6,
    "start_time": "2023-11-21T06:42:09.647Z"
   },
   {
    "duration": 7,
    "start_time": "2023-11-21T06:42:34.140Z"
   },
   {
    "duration": 160,
    "start_time": "2023-11-21T06:42:36.938Z"
   },
   {
    "duration": 9,
    "start_time": "2023-11-21T06:42:41.402Z"
   },
   {
    "duration": 5,
    "start_time": "2023-11-21T06:42:48.996Z"
   },
   {
    "duration": 231,
    "start_time": "2023-11-21T06:42:52.571Z"
   },
   {
    "duration": 6,
    "start_time": "2023-11-21T06:42:56.617Z"
   },
   {
    "duration": 12,
    "start_time": "2023-11-21T06:43:09.817Z"
   },
   {
    "duration": 95,
    "start_time": "2023-11-21T06:44:43.330Z"
   },
   {
    "duration": 4,
    "start_time": "2023-11-21T06:44:59.274Z"
   },
   {
    "duration": 5,
    "start_time": "2023-11-21T06:45:01.219Z"
   },
   {
    "duration": 223,
    "start_time": "2023-11-21T06:46:02.640Z"
   },
   {
    "duration": 182,
    "start_time": "2023-11-21T06:46:16.553Z"
   },
   {
    "duration": 189,
    "start_time": "2023-11-21T06:46:21.921Z"
   },
   {
    "duration": 10,
    "start_time": "2023-11-21T06:46:49.587Z"
   },
   {
    "duration": 9,
    "start_time": "2023-11-21T06:48:16.160Z"
   },
   {
    "duration": 10,
    "start_time": "2023-11-21T06:48:40.599Z"
   },
   {
    "duration": 8,
    "start_time": "2023-11-21T06:48:45.048Z"
   },
   {
    "duration": 12,
    "start_time": "2023-11-21T06:49:00.872Z"
   },
   {
    "duration": 5,
    "start_time": "2023-11-21T06:49:49.039Z"
   },
   {
    "duration": 11,
    "start_time": "2023-11-21T06:49:57.246Z"
   },
   {
    "duration": 14,
    "start_time": "2023-11-21T06:50:08.014Z"
   },
   {
    "duration": 236,
    "start_time": "2023-11-21T06:50:44.726Z"
   },
   {
    "duration": 132,
    "start_time": "2023-11-21T06:51:14.676Z"
   },
   {
    "duration": 110,
    "start_time": "2023-11-21T06:53:42.608Z"
   },
   {
    "duration": 19,
    "start_time": "2023-11-21T06:53:54.867Z"
   },
   {
    "duration": 42,
    "start_time": "2023-11-21T06:54:07.788Z"
   },
   {
    "duration": 15,
    "start_time": "2023-11-21T06:54:12.812Z"
   },
   {
    "duration": 103,
    "start_time": "2023-11-21T06:55:30.131Z"
   },
   {
    "duration": 96,
    "start_time": "2023-11-21T06:55:39.347Z"
   },
   {
    "duration": 23,
    "start_time": "2023-11-21T06:55:45.715Z"
   },
   {
    "duration": 50,
    "start_time": "2023-11-21T06:56:31.405Z"
   },
   {
    "duration": 9,
    "start_time": "2023-11-21T06:56:36.195Z"
   },
   {
    "duration": 7,
    "start_time": "2023-11-21T06:56:43.011Z"
   },
   {
    "duration": 7,
    "start_time": "2023-11-21T06:56:49.022Z"
   },
   {
    "duration": 8,
    "start_time": "2023-11-21T06:57:04.186Z"
   },
   {
    "duration": 7,
    "start_time": "2023-11-21T06:58:58.291Z"
   },
   {
    "duration": 16,
    "start_time": "2023-11-21T07:13:35.270Z"
   },
   {
    "duration": 6,
    "start_time": "2023-11-21T07:13:57.639Z"
   },
   {
    "duration": 7,
    "start_time": "2023-11-21T07:59:25.744Z"
   },
   {
    "duration": 236,
    "start_time": "2023-11-21T07:59:28.880Z"
   },
   {
    "duration": 13,
    "start_time": "2023-11-21T08:00:20.915Z"
   },
   {
    "duration": 194,
    "start_time": "2023-11-21T08:00:39.775Z"
   },
   {
    "duration": 123,
    "start_time": "2023-11-21T08:00:54.775Z"
   },
   {
    "duration": 16,
    "start_time": "2023-11-21T08:01:50.170Z"
   },
   {
    "duration": 11,
    "start_time": "2023-11-21T08:03:07.116Z"
   },
   {
    "duration": 5,
    "start_time": "2023-11-21T08:05:46.043Z"
   },
   {
    "duration": 7,
    "start_time": "2023-11-21T08:05:48.324Z"
   },
   {
    "duration": 4,
    "start_time": "2023-11-21T08:05:56.203Z"
   },
   {
    "duration": 3,
    "start_time": "2023-11-21T08:54:03.618Z"
   },
   {
    "duration": 31,
    "start_time": "2023-11-21T08:54:54.983Z"
   },
   {
    "duration": 249,
    "start_time": "2023-11-21T08:55:48.542Z"
   },
   {
    "duration": 248,
    "start_time": "2023-11-21T08:55:56.232Z"
   },
   {
    "duration": 225,
    "start_time": "2023-11-21T08:56:01.855Z"
   },
   {
    "duration": 226,
    "start_time": "2023-11-21T08:56:14.359Z"
   },
   {
    "duration": 244,
    "start_time": "2023-11-21T08:56:20.782Z"
   },
   {
    "duration": 301,
    "start_time": "2023-11-21T08:56:39.174Z"
   },
   {
    "duration": 347,
    "start_time": "2023-11-21T08:56:45.062Z"
   },
   {
    "duration": 10,
    "start_time": "2023-11-21T08:57:59.835Z"
   },
   {
    "duration": 593,
    "start_time": "2023-11-21T08:58:02.550Z"
   },
   {
    "duration": 496,
    "start_time": "2023-11-21T08:58:09.727Z"
   },
   {
    "duration": 509,
    "start_time": "2023-11-21T08:58:39.117Z"
   },
   {
    "duration": 1365,
    "start_time": "2023-11-21T11:09:31.514Z"
   },
   {
    "duration": 151,
    "start_time": "2023-11-21T11:09:34.062Z"
   },
   {
    "duration": 18,
    "start_time": "2023-11-21T11:09:36.382Z"
   },
   {
    "duration": 13,
    "start_time": "2023-11-21T11:09:38.562Z"
   },
   {
    "duration": 9,
    "start_time": "2023-11-21T11:09:41.306Z"
   },
   {
    "duration": 3,
    "start_time": "2023-11-21T11:09:43.430Z"
   },
   {
    "duration": 16,
    "start_time": "2023-11-21T11:09:46.490Z"
   },
   {
    "duration": 19,
    "start_time": "2023-11-21T11:09:52.266Z"
   },
   {
    "duration": 4,
    "start_time": "2023-11-21T11:10:00.463Z"
   },
   {
    "duration": 7,
    "start_time": "2023-11-21T11:10:02.586Z"
   },
   {
    "duration": 22,
    "start_time": "2023-11-21T11:10:05.470Z"
   },
   {
    "duration": 4,
    "start_time": "2023-11-21T11:10:08.166Z"
   },
   {
    "duration": 5,
    "start_time": "2023-11-21T11:10:10.346Z"
   },
   {
    "duration": 12,
    "start_time": "2023-11-21T11:10:13.340Z"
   },
   {
    "duration": 11,
    "start_time": "2023-11-21T11:10:15.982Z"
   },
   {
    "duration": 5,
    "start_time": "2023-11-21T11:10:17.774Z"
   },
   {
    "duration": 19,
    "start_time": "2023-11-21T11:10:20.068Z"
   },
   {
    "duration": 5,
    "start_time": "2023-11-21T11:10:22.948Z"
   },
   {
    "duration": 6,
    "start_time": "2023-11-21T11:10:25.428Z"
   },
   {
    "duration": 137,
    "start_time": "2023-11-21T11:10:28.674Z"
   },
   {
    "duration": 7,
    "start_time": "2023-11-21T11:10:33.230Z"
   },
   {
    "duration": 5,
    "start_time": "2023-11-21T11:10:34.875Z"
   },
   {
    "duration": 239,
    "start_time": "2023-11-21T11:10:37.283Z"
   },
   {
    "duration": 6,
    "start_time": "2023-11-21T11:10:42.230Z"
   },
   {
    "duration": 121,
    "start_time": "2023-11-21T11:10:45.414Z"
   },
   {
    "duration": 15,
    "start_time": "2023-11-21T11:10:50.379Z"
   },
   {
    "duration": 6,
    "start_time": "2023-11-21T11:10:54.212Z"
   },
   {
    "duration": 6,
    "start_time": "2023-11-21T11:10:56.566Z"
   },
   {
    "duration": 126,
    "start_time": "2023-11-21T11:10:58.498Z"
   },
   {
    "duration": 11,
    "start_time": "2023-11-21T11:11:01.723Z"
   },
   {
    "duration": 4,
    "start_time": "2023-11-21T11:11:03.987Z"
   },
   {
    "duration": 10,
    "start_time": "2023-11-21T11:11:05.828Z"
   },
   {
    "duration": 4,
    "start_time": "2023-11-21T11:12:06.458Z"
   },
   {
    "duration": 4,
    "start_time": "2023-11-21T11:12:09.178Z"
   },
   {
    "duration": 34,
    "start_time": "2023-11-21T11:14:16.645Z"
   },
   {
    "duration": 1423,
    "start_time": "2023-11-21T11:14:26.942Z"
   },
   {
    "duration": 1445,
    "start_time": "2023-11-21T11:14:47.736Z"
   },
   {
    "duration": 43,
    "start_time": "2023-11-21T11:14:49.183Z"
   },
   {
    "duration": 17,
    "start_time": "2023-11-21T11:14:49.227Z"
   },
   {
    "duration": 31,
    "start_time": "2023-11-21T11:14:49.246Z"
   },
   {
    "duration": 9,
    "start_time": "2023-11-21T11:14:49.279Z"
   },
   {
    "duration": 8,
    "start_time": "2023-11-21T11:14:49.289Z"
   },
   {
    "duration": 42,
    "start_time": "2023-11-21T11:14:49.299Z"
   },
   {
    "duration": 75,
    "start_time": "2023-11-21T11:14:49.342Z"
   },
   {
    "duration": 11,
    "start_time": "2023-11-21T11:14:49.418Z"
   },
   {
    "duration": 8,
    "start_time": "2023-11-21T11:14:49.432Z"
   },
   {
    "duration": 19,
    "start_time": "2023-11-21T11:14:49.442Z"
   },
   {
    "duration": 4,
    "start_time": "2023-11-21T11:14:49.463Z"
   },
   {
    "duration": 8,
    "start_time": "2023-11-21T11:14:49.469Z"
   },
   {
    "duration": 36,
    "start_time": "2023-11-21T11:14:49.479Z"
   },
   {
    "duration": 15,
    "start_time": "2023-11-21T11:14:49.517Z"
   },
   {
    "duration": 5,
    "start_time": "2023-11-21T11:14:49.533Z"
   },
   {
    "duration": 31,
    "start_time": "2023-11-21T11:14:49.540Z"
   },
   {
    "duration": 6,
    "start_time": "2023-11-21T11:14:49.573Z"
   },
   {
    "duration": 6,
    "start_time": "2023-11-21T11:14:49.581Z"
   },
   {
    "duration": 147,
    "start_time": "2023-11-21T11:14:49.588Z"
   },
   {
    "duration": 7,
    "start_time": "2023-11-21T11:14:49.737Z"
   },
   {
    "duration": 7,
    "start_time": "2023-11-21T11:14:49.746Z"
   },
   {
    "duration": 258,
    "start_time": "2023-11-21T11:14:49.754Z"
   },
   {
    "duration": 6,
    "start_time": "2023-11-21T11:14:50.014Z"
   },
   {
    "duration": 136,
    "start_time": "2023-11-21T11:14:50.022Z"
   },
   {
    "duration": 15,
    "start_time": "2023-11-21T11:14:50.160Z"
   },
   {
    "duration": 5,
    "start_time": "2023-11-21T11:14:50.177Z"
   },
   {
    "duration": 22,
    "start_time": "2023-11-21T11:14:50.186Z"
   },
   {
    "duration": 129,
    "start_time": "2023-11-21T11:14:50.210Z"
   },
   {
    "duration": 10,
    "start_time": "2023-11-21T11:14:50.341Z"
   },
   {
    "duration": 18,
    "start_time": "2023-11-21T11:14:50.353Z"
   },
   {
    "duration": 14,
    "start_time": "2023-11-21T11:14:50.373Z"
   },
   {
    "duration": 3,
    "start_time": "2023-11-21T11:14:50.389Z"
   },
   {
    "duration": 13,
    "start_time": "2023-11-21T11:14:50.394Z"
   },
   {
    "duration": 47,
    "start_time": "2023-11-21T11:14:50.409Z"
   },
   {
    "duration": 262,
    "start_time": "2023-11-21T11:14:50.457Z"
   },
   {
    "duration": 256,
    "start_time": "2023-11-21T11:14:50.721Z"
   },
   {
    "duration": 233,
    "start_time": "2023-11-21T11:14:50.978Z"
   },
   {
    "duration": 260,
    "start_time": "2023-11-21T11:14:51.212Z"
   },
   {
    "duration": 370,
    "start_time": "2023-11-21T11:14:51.474Z"
   },
   {
    "duration": 349,
    "start_time": "2023-11-21T11:14:51.846Z"
   },
   {
    "duration": 15,
    "start_time": "2023-11-21T11:14:52.197Z"
   },
   {
    "duration": 547,
    "start_time": "2023-11-21T11:14:52.214Z"
   },
   {
    "duration": 524,
    "start_time": "2023-11-21T11:14:52.763Z"
   },
   {
    "duration": 1825,
    "start_time": "2023-11-21T11:14:53.289Z"
   },
   {
    "duration": 13,
    "start_time": "2023-11-21T11:14:55.115Z"
   },
   {
    "duration": 143,
    "start_time": "2023-11-21T11:14:55.129Z"
   },
   {
    "duration": 108,
    "start_time": "2023-11-21T11:14:55.274Z"
   },
   {
    "duration": 106,
    "start_time": "2023-11-21T11:14:55.384Z"
   },
   {
    "duration": 81,
    "start_time": "2023-11-21T11:14:55.492Z"
   },
   {
    "duration": 116,
    "start_time": "2023-11-21T11:14:55.575Z"
   },
   {
    "duration": 27,
    "start_time": "2023-11-21T11:14:55.693Z"
   },
   {
    "duration": 25,
    "start_time": "2023-11-21T11:14:55.722Z"
   },
   {
    "duration": 6,
    "start_time": "2023-11-21T11:14:55.749Z"
   },
   {
    "duration": 36,
    "start_time": "2023-11-21T11:14:55.756Z"
   },
   {
    "duration": 11,
    "start_time": "2023-11-21T11:47:03.417Z"
   },
   {
    "duration": 11,
    "start_time": "2023-11-21T11:47:21.845Z"
   },
   {
    "duration": 15,
    "start_time": "2023-11-21T11:48:34.405Z"
   },
   {
    "duration": 15,
    "start_time": "2023-11-21T11:48:59.317Z"
   },
   {
    "duration": 14,
    "start_time": "2023-11-21T11:49:25.577Z"
   },
   {
    "duration": 14,
    "start_time": "2023-11-21T11:50:14.501Z"
   },
   {
    "duration": 168,
    "start_time": "2023-11-21T11:52:39.666Z"
   },
   {
    "duration": 822,
    "start_time": "2023-11-21T11:54:11.158Z"
   },
   {
    "duration": 4,
    "start_time": "2023-11-21T11:57:19.443Z"
   },
   {
    "duration": 5,
    "start_time": "2023-11-21T11:57:47.903Z"
   },
   {
    "duration": 102,
    "start_time": "2023-11-21T12:00:43.344Z"
   },
   {
    "duration": 87,
    "start_time": "2023-11-21T12:01:26.356Z"
   },
   {
    "duration": 143,
    "start_time": "2023-11-21T12:02:38.616Z"
   },
   {
    "duration": 73,
    "start_time": "2023-11-21T12:02:45.197Z"
   },
   {
    "duration": 85,
    "start_time": "2023-11-21T12:05:43.213Z"
   },
   {
    "duration": 159,
    "start_time": "2023-11-21T12:05:49.449Z"
   },
   {
    "duration": 76,
    "start_time": "2023-11-21T12:06:11.993Z"
   },
   {
    "duration": 84,
    "start_time": "2023-11-21T12:06:19.746Z"
   },
   {
    "duration": 257,
    "start_time": "2023-11-21T12:06:28.145Z"
   },
   {
    "duration": 133,
    "start_time": "2023-11-21T12:06:35.425Z"
   },
   {
    "duration": 86,
    "start_time": "2023-11-21T12:08:03.566Z"
   },
   {
    "duration": 104,
    "start_time": "2023-11-21T12:08:23.414Z"
   },
   {
    "duration": 123,
    "start_time": "2023-11-21T12:08:36.770Z"
   },
   {
    "duration": 300,
    "start_time": "2023-11-21T12:08:43.006Z"
   },
   {
    "duration": 238,
    "start_time": "2023-11-21T12:09:21.642Z"
   },
   {
    "duration": 280,
    "start_time": "2023-11-21T12:09:33.402Z"
   },
   {
    "duration": 289,
    "start_time": "2023-11-21T12:09:40.866Z"
   },
   {
    "duration": 988,
    "start_time": "2023-11-21T12:10:32.362Z"
   },
   {
    "duration": 260,
    "start_time": "2023-11-21T12:11:22.058Z"
   },
   {
    "duration": 267,
    "start_time": "2023-11-21T12:11:40.787Z"
   },
   {
    "duration": 370,
    "start_time": "2023-11-21T12:12:41.919Z"
   },
   {
    "duration": 231,
    "start_time": "2023-11-21T12:12:49.339Z"
   },
   {
    "duration": 301,
    "start_time": "2023-11-21T12:13:02.891Z"
   },
   {
    "duration": 7,
    "start_time": "2023-11-21T12:13:31.267Z"
   },
   {
    "duration": 239,
    "start_time": "2023-11-21T12:14:26.648Z"
   },
   {
    "duration": 18,
    "start_time": "2023-11-21T12:15:19.899Z"
   },
   {
    "duration": 7,
    "start_time": "2023-11-21T12:15:31.436Z"
   },
   {
    "duration": 293,
    "start_time": "2023-11-21T12:16:00.528Z"
   },
   {
    "duration": 7,
    "start_time": "2023-11-21T12:17:18.028Z"
   },
   {
    "duration": 6,
    "start_time": "2023-11-21T12:17:38.148Z"
   },
   {
    "duration": 1208,
    "start_time": "2023-11-21T12:27:05.360Z"
   },
   {
    "duration": 46,
    "start_time": "2023-11-21T12:27:06.571Z"
   },
   {
    "duration": 17,
    "start_time": "2023-11-21T12:27:06.618Z"
   },
   {
    "duration": 47,
    "start_time": "2023-11-21T12:27:06.637Z"
   },
   {
    "duration": 38,
    "start_time": "2023-11-21T12:27:06.687Z"
   },
   {
    "duration": 48,
    "start_time": "2023-11-21T12:27:06.727Z"
   },
   {
    "duration": 47,
    "start_time": "2023-11-21T12:27:06.777Z"
   },
   {
    "duration": 60,
    "start_time": "2023-11-21T12:27:06.827Z"
   },
   {
    "duration": 55,
    "start_time": "2023-11-21T12:27:06.889Z"
   },
   {
    "duration": 38,
    "start_time": "2023-11-21T12:27:06.947Z"
   },
   {
    "duration": 72,
    "start_time": "2023-11-21T12:27:06.987Z"
   },
   {
    "duration": 63,
    "start_time": "2023-11-21T12:27:07.061Z"
   },
   {
    "duration": 37,
    "start_time": "2023-11-21T12:27:07.126Z"
   },
   {
    "duration": 67,
    "start_time": "2023-11-21T12:27:07.165Z"
   },
   {
    "duration": 44,
    "start_time": "2023-11-21T12:27:07.233Z"
   },
   {
    "duration": 26,
    "start_time": "2023-11-21T12:27:07.279Z"
   },
   {
    "duration": 76,
    "start_time": "2023-11-21T12:27:07.307Z"
   },
   {
    "duration": 38,
    "start_time": "2023-11-21T12:27:07.385Z"
   },
   {
    "duration": 60,
    "start_time": "2023-11-21T12:27:07.425Z"
   },
   {
    "duration": 188,
    "start_time": "2023-11-21T12:27:07.486Z"
   },
   {
    "duration": 8,
    "start_time": "2023-11-21T12:27:07.675Z"
   },
   {
    "duration": 69,
    "start_time": "2023-11-21T12:27:07.685Z"
   },
   {
    "duration": 299,
    "start_time": "2023-11-21T12:27:07.756Z"
   },
   {
    "duration": 7,
    "start_time": "2023-11-21T12:27:08.057Z"
   },
   {
    "duration": 138,
    "start_time": "2023-11-21T12:27:08.066Z"
   },
   {
    "duration": 17,
    "start_time": "2023-11-21T12:27:08.206Z"
   },
   {
    "duration": 83,
    "start_time": "2023-11-21T12:27:08.224Z"
   },
   {
    "duration": 50,
    "start_time": "2023-11-21T12:27:08.310Z"
   },
   {
    "duration": 158,
    "start_time": "2023-11-21T12:27:08.362Z"
   },
   {
    "duration": 11,
    "start_time": "2023-11-21T12:27:08.521Z"
   },
   {
    "duration": 42,
    "start_time": "2023-11-21T12:27:08.533Z"
   },
   {
    "duration": 44,
    "start_time": "2023-11-21T12:27:08.576Z"
   },
   {
    "duration": 73,
    "start_time": "2023-11-21T12:27:08.622Z"
   },
   {
    "duration": 42,
    "start_time": "2023-11-21T12:27:08.697Z"
   },
   {
    "duration": 62,
    "start_time": "2023-11-21T12:27:08.741Z"
   },
   {
    "duration": 252,
    "start_time": "2023-11-21T12:27:08.805Z"
   },
   {
    "duration": 261,
    "start_time": "2023-11-21T12:27:09.058Z"
   },
   {
    "duration": 231,
    "start_time": "2023-11-21T12:27:09.321Z"
   },
   {
    "duration": 249,
    "start_time": "2023-11-21T12:27:09.554Z"
   },
   {
    "duration": 383,
    "start_time": "2023-11-21T12:27:09.804Z"
   },
   {
    "duration": 349,
    "start_time": "2023-11-21T12:27:10.188Z"
   },
   {
    "duration": 10,
    "start_time": "2023-11-21T12:27:10.538Z"
   },
   {
    "duration": 523,
    "start_time": "2023-11-21T12:27:10.549Z"
   },
   {
    "duration": 563,
    "start_time": "2023-11-21T12:27:11.074Z"
   },
   {
    "duration": 1819,
    "start_time": "2023-11-21T12:27:11.639Z"
   },
   {
    "duration": 12,
    "start_time": "2023-11-21T12:27:13.460Z"
   },
   {
    "duration": 26,
    "start_time": "2023-11-21T12:27:13.474Z"
   },
   {
    "duration": 36,
    "start_time": "2023-11-21T12:27:13.501Z"
   },
   {
    "duration": 335,
    "start_time": "2023-11-21T12:27:13.539Z"
   },
   {
    "duration": 3,
    "start_time": "2023-11-21T12:27:13.876Z"
   },
   {
    "duration": 51,
    "start_time": "2023-11-21T12:27:13.880Z"
   },
   {
    "duration": 39,
    "start_time": "2023-11-21T12:27:13.932Z"
   },
   {
    "duration": 27,
    "start_time": "2023-11-21T12:27:13.973Z"
   },
   {
    "duration": 22,
    "start_time": "2023-11-21T12:27:14.002Z"
   },
   {
    "duration": 34,
    "start_time": "2023-11-21T12:27:14.025Z"
   },
   {
    "duration": 31,
    "start_time": "2023-11-21T12:27:14.061Z"
   },
   {
    "duration": 0,
    "start_time": "2023-11-21T12:27:14.094Z"
   },
   {
    "duration": 0,
    "start_time": "2023-11-21T12:27:14.095Z"
   },
   {
    "duration": 85,
    "start_time": "2023-11-21T12:27:26.315Z"
   },
   {
    "duration": 9,
    "start_time": "2023-11-21T12:27:34.834Z"
   },
   {
    "duration": 10,
    "start_time": "2023-11-21T12:27:36.971Z"
   },
   {
    "duration": 6,
    "start_time": "2023-11-21T12:30:20.144Z"
   },
   {
    "duration": 10,
    "start_time": "2023-11-21T12:30:23.287Z"
   },
   {
    "duration": 6,
    "start_time": "2023-11-21T12:30:55.112Z"
   },
   {
    "duration": 10,
    "start_time": "2023-11-21T12:30:57.960Z"
   },
   {
    "duration": 8,
    "start_time": "2023-11-21T12:31:00.680Z"
   },
   {
    "duration": 11,
    "start_time": "2023-11-21T12:31:02.780Z"
   },
   {
    "duration": 1254,
    "start_time": "2023-11-21T12:31:56.316Z"
   },
   {
    "duration": 42,
    "start_time": "2023-11-21T12:31:57.572Z"
   },
   {
    "duration": 19,
    "start_time": "2023-11-21T12:31:57.616Z"
   },
   {
    "duration": 19,
    "start_time": "2023-11-21T12:31:57.637Z"
   },
   {
    "duration": 8,
    "start_time": "2023-11-21T12:31:57.658Z"
   },
   {
    "duration": 13,
    "start_time": "2023-11-21T12:31:57.668Z"
   },
   {
    "duration": 30,
    "start_time": "2023-11-21T12:31:57.682Z"
   },
   {
    "duration": 40,
    "start_time": "2023-11-21T12:31:57.714Z"
   },
   {
    "duration": 53,
    "start_time": "2023-11-21T12:31:57.756Z"
   },
   {
    "duration": 20,
    "start_time": "2023-11-21T12:31:57.812Z"
   },
   {
    "duration": 23,
    "start_time": "2023-11-21T12:31:57.834Z"
   },
   {
    "duration": 4,
    "start_time": "2023-11-21T12:31:57.859Z"
   },
   {
    "duration": 24,
    "start_time": "2023-11-21T12:31:57.865Z"
   },
   {
    "duration": 35,
    "start_time": "2023-11-21T12:31:57.891Z"
   },
   {
    "duration": 21,
    "start_time": "2023-11-21T12:31:57.927Z"
   },
   {
    "duration": 13,
    "start_time": "2023-11-21T12:31:57.949Z"
   },
   {
    "duration": 40,
    "start_time": "2023-11-21T12:31:57.963Z"
   },
   {
    "duration": 12,
    "start_time": "2023-11-21T12:31:58.005Z"
   },
   {
    "duration": 17,
    "start_time": "2023-11-21T12:31:58.019Z"
   },
   {
    "duration": 143,
    "start_time": "2023-11-21T12:31:58.037Z"
   },
   {
    "duration": 7,
    "start_time": "2023-11-21T12:31:58.182Z"
   },
   {
    "duration": 41,
    "start_time": "2023-11-21T12:31:58.190Z"
   },
   {
    "duration": 251,
    "start_time": "2023-11-21T12:31:58.233Z"
   },
   {
    "duration": 5,
    "start_time": "2023-11-21T12:31:58.486Z"
   },
   {
    "duration": 135,
    "start_time": "2023-11-21T12:31:58.493Z"
   },
   {
    "duration": 19,
    "start_time": "2023-11-21T12:31:58.629Z"
   },
   {
    "duration": 24,
    "start_time": "2023-11-21T12:31:58.650Z"
   },
   {
    "duration": 11,
    "start_time": "2023-11-21T12:31:58.678Z"
   },
   {
    "duration": 139,
    "start_time": "2023-11-21T12:31:58.690Z"
   },
   {
    "duration": 11,
    "start_time": "2023-11-21T12:31:58.830Z"
   },
   {
    "duration": 18,
    "start_time": "2023-11-21T12:31:58.842Z"
   },
   {
    "duration": 32,
    "start_time": "2023-11-21T12:31:58.862Z"
   },
   {
    "duration": 20,
    "start_time": "2023-11-21T12:31:58.895Z"
   },
   {
    "duration": 29,
    "start_time": "2023-11-21T12:31:58.917Z"
   },
   {
    "duration": 32,
    "start_time": "2023-11-21T12:31:58.948Z"
   },
   {
    "duration": 246,
    "start_time": "2023-11-21T12:31:58.981Z"
   },
   {
    "duration": 263,
    "start_time": "2023-11-21T12:31:59.228Z"
   },
   {
    "duration": 230,
    "start_time": "2023-11-21T12:31:59.493Z"
   },
   {
    "duration": 248,
    "start_time": "2023-11-21T12:31:59.725Z"
   },
   {
    "duration": 384,
    "start_time": "2023-11-21T12:31:59.975Z"
   },
   {
    "duration": 367,
    "start_time": "2023-11-21T12:32:00.361Z"
   },
   {
    "duration": 10,
    "start_time": "2023-11-21T12:32:00.729Z"
   },
   {
    "duration": 588,
    "start_time": "2023-11-21T12:32:00.741Z"
   },
   {
    "duration": 549,
    "start_time": "2023-11-21T12:32:01.331Z"
   },
   {
    "duration": 1848,
    "start_time": "2023-11-21T12:32:01.882Z"
   },
   {
    "duration": 12,
    "start_time": "2023-11-21T12:32:03.732Z"
   },
   {
    "duration": 11,
    "start_time": "2023-11-21T12:32:03.745Z"
   },
   {
    "duration": 20,
    "start_time": "2023-11-21T12:32:03.757Z"
   },
   {
    "duration": 301,
    "start_time": "2023-11-21T12:32:03.779Z"
   },
   {
    "duration": 4,
    "start_time": "2023-11-21T12:32:04.081Z"
   },
   {
    "duration": 31,
    "start_time": "2023-11-21T12:32:04.086Z"
   },
   {
    "duration": 13,
    "start_time": "2023-11-21T12:32:04.118Z"
   },
   {
    "duration": 25,
    "start_time": "2023-11-21T12:32:04.133Z"
   },
   {
    "duration": 23,
    "start_time": "2023-11-21T12:32:04.160Z"
   },
   {
    "duration": 48,
    "start_time": "2023-11-21T12:32:04.185Z"
   },
   {
    "duration": 20,
    "start_time": "2023-11-21T12:32:04.234Z"
   },
   {
    "duration": 32,
    "start_time": "2023-11-21T12:32:04.255Z"
   },
   {
    "duration": 86,
    "start_time": "2023-11-21T12:33:31.340Z"
   },
   {
    "duration": 133,
    "start_time": "2023-11-21T12:35:24.085Z"
   },
   {
    "duration": 625,
    "start_time": "2023-11-21T12:36:13.997Z"
   },
   {
    "duration": 620,
    "start_time": "2023-11-21T12:37:13.662Z"
   },
   {
    "duration": 1227,
    "start_time": "2023-11-22T10:16:57.432Z"
   },
   {
    "duration": 81,
    "start_time": "2023-11-22T10:16:58.662Z"
   },
   {
    "duration": 17,
    "start_time": "2023-11-22T10:16:58.744Z"
   },
   {
    "duration": 19,
    "start_time": "2023-11-22T10:16:58.764Z"
   },
   {
    "duration": 6,
    "start_time": "2023-11-22T10:16:58.785Z"
   },
   {
    "duration": 6,
    "start_time": "2023-11-22T10:16:58.793Z"
   },
   {
    "duration": 25,
    "start_time": "2023-11-22T10:16:58.800Z"
   },
   {
    "duration": 32,
    "start_time": "2023-11-22T10:16:58.827Z"
   },
   {
    "duration": 7,
    "start_time": "2023-11-22T10:16:58.861Z"
   },
   {
    "duration": 12,
    "start_time": "2023-11-22T10:16:58.873Z"
   },
   {
    "duration": 22,
    "start_time": "2023-11-22T10:16:58.887Z"
   },
   {
    "duration": 4,
    "start_time": "2023-11-22T10:16:58.911Z"
   },
   {
    "duration": 19,
    "start_time": "2023-11-22T10:16:58.917Z"
   },
   {
    "duration": 25,
    "start_time": "2023-11-22T10:16:58.937Z"
   },
   {
    "duration": 17,
    "start_time": "2023-11-22T10:16:58.964Z"
   },
   {
    "duration": 6,
    "start_time": "2023-11-22T10:16:58.983Z"
   },
   {
    "duration": 20,
    "start_time": "2023-11-22T10:16:58.991Z"
   },
   {
    "duration": 6,
    "start_time": "2023-11-22T10:16:59.013Z"
   },
   {
    "duration": 7,
    "start_time": "2023-11-22T10:16:59.021Z"
   },
   {
    "duration": 174,
    "start_time": "2023-11-22T10:16:59.029Z"
   },
   {
    "duration": 8,
    "start_time": "2023-11-22T10:16:59.205Z"
   },
   {
    "duration": 8,
    "start_time": "2023-11-22T10:16:59.214Z"
   },
   {
    "duration": 266,
    "start_time": "2023-11-22T10:16:59.223Z"
   },
   {
    "duration": 6,
    "start_time": "2023-11-22T10:16:59.491Z"
   },
   {
    "duration": 128,
    "start_time": "2023-11-22T10:16:59.499Z"
   },
   {
    "duration": 14,
    "start_time": "2023-11-22T10:16:59.629Z"
   },
   {
    "duration": 9,
    "start_time": "2023-11-22T10:16:59.645Z"
   },
   {
    "duration": 24,
    "start_time": "2023-11-22T10:16:59.658Z"
   },
   {
    "duration": 141,
    "start_time": "2023-11-22T10:16:59.684Z"
   },
   {
    "duration": 14,
    "start_time": "2023-11-22T10:16:59.827Z"
   },
   {
    "duration": 14,
    "start_time": "2023-11-22T10:16:59.842Z"
   },
   {
    "duration": 17,
    "start_time": "2023-11-22T10:16:59.857Z"
   },
   {
    "duration": 8,
    "start_time": "2023-11-22T10:16:59.876Z"
   },
   {
    "duration": 9,
    "start_time": "2023-11-22T10:16:59.886Z"
   },
   {
    "duration": 33,
    "start_time": "2023-11-22T10:16:59.897Z"
   },
   {
    "duration": 264,
    "start_time": "2023-11-22T10:16:59.932Z"
   },
   {
    "duration": 273,
    "start_time": "2023-11-22T10:17:00.198Z"
   },
   {
    "duration": 236,
    "start_time": "2023-11-22T10:17:00.473Z"
   },
   {
    "duration": 241,
    "start_time": "2023-11-22T10:17:00.711Z"
   },
   {
    "duration": 385,
    "start_time": "2023-11-22T10:17:00.954Z"
   },
   {
    "duration": 363,
    "start_time": "2023-11-22T10:17:01.341Z"
   },
   {
    "duration": 10,
    "start_time": "2023-11-22T10:17:01.705Z"
   },
   {
    "duration": 543,
    "start_time": "2023-11-22T10:17:01.717Z"
   },
   {
    "duration": 531,
    "start_time": "2023-11-22T10:17:02.262Z"
   },
   {
    "duration": 725,
    "start_time": "2023-11-22T10:17:02.795Z"
   },
   {
    "duration": 1786,
    "start_time": "2023-11-22T10:17:03.522Z"
   },
   {
    "duration": 12,
    "start_time": "2023-11-22T10:17:05.310Z"
   },
   {
    "duration": 199,
    "start_time": "2023-11-22T10:17:05.324Z"
   },
   {
    "duration": 90,
    "start_time": "2023-11-22T10:17:05.525Z"
   },
   {
    "duration": 324,
    "start_time": "2023-11-22T10:17:05.617Z"
   },
   {
    "duration": 3,
    "start_time": "2023-11-22T10:17:05.943Z"
   },
   {
    "duration": 187,
    "start_time": "2023-11-22T10:17:05.948Z"
   },
   {
    "duration": 19,
    "start_time": "2023-11-22T10:17:06.137Z"
   },
   {
    "duration": 27,
    "start_time": "2023-11-22T10:17:06.158Z"
   },
   {
    "duration": 37,
    "start_time": "2023-11-22T10:17:06.187Z"
   },
   {
    "duration": 31,
    "start_time": "2023-11-22T10:17:06.226Z"
   },
   {
    "duration": 58,
    "start_time": "2023-11-22T10:17:06.259Z"
   },
   {
    "duration": 42,
    "start_time": "2023-11-22T10:17:06.318Z"
   },
   {
    "duration": 5,
    "start_time": "2023-11-22T10:20:41.852Z"
   },
   {
    "duration": 4,
    "start_time": "2023-11-22T10:21:03.295Z"
   },
   {
    "duration": 1391,
    "start_time": "2023-11-23T04:14:58.839Z"
   },
   {
    "duration": 84,
    "start_time": "2023-11-23T04:15:01.415Z"
   },
   {
    "duration": 17,
    "start_time": "2023-11-23T04:15:03.775Z"
   },
   {
    "duration": 13,
    "start_time": "2023-11-23T04:15:05.687Z"
   },
   {
    "duration": 8,
    "start_time": "2023-11-23T04:15:07.715Z"
   },
   {
    "duration": 3,
    "start_time": "2023-11-23T04:15:09.707Z"
   },
   {
    "duration": 14,
    "start_time": "2023-11-23T04:15:12.551Z"
   },
   {
    "duration": 26,
    "start_time": "2023-11-23T04:15:14.668Z"
   },
   {
    "duration": 4,
    "start_time": "2023-11-23T04:15:18.599Z"
   },
   {
    "duration": 8,
    "start_time": "2023-11-23T04:15:20.619Z"
   },
   {
    "duration": 20,
    "start_time": "2023-11-23T04:15:23.959Z"
   },
   {
    "duration": 100,
    "start_time": "2023-11-23T04:15:32.628Z"
   },
   {
    "duration": 102,
    "start_time": "2023-11-23T04:15:39.187Z"
   },
   {
    "duration": 16,
    "start_time": "2023-11-23T04:16:09.907Z"
   },
   {
    "duration": 112,
    "start_time": "2023-11-23T04:18:47.975Z"
   },
   {
    "duration": 8,
    "start_time": "2023-11-23T04:18:58.808Z"
   },
   {
    "duration": 95,
    "start_time": "2023-11-23T04:22:36.013Z"
   },
   {
    "duration": 10,
    "start_time": "2023-11-23T04:22:39.705Z"
   },
   {
    "duration": 5,
    "start_time": "2023-11-23T04:30:13.915Z"
   },
   {
    "duration": 6,
    "start_time": "2023-11-23T04:30:29.103Z"
   },
   {
    "duration": 7,
    "start_time": "2023-11-23T04:31:11.191Z"
   },
   {
    "duration": 1180,
    "start_time": "2023-11-23T04:33:42.884Z"
   },
   {
    "duration": 5,
    "start_time": "2023-11-23T04:33:51.488Z"
   },
   {
    "duration": 8,
    "start_time": "2023-11-23T04:36:41.596Z"
   },
   {
    "duration": 44,
    "start_time": "2023-11-23T04:40:22.821Z"
   },
   {
    "duration": 6,
    "start_time": "2023-11-23T04:42:51.114Z"
   },
   {
    "duration": 5,
    "start_time": "2023-11-23T04:43:27.275Z"
   },
   {
    "duration": 8,
    "start_time": "2023-11-23T04:44:07.796Z"
   },
   {
    "duration": 8,
    "start_time": "2023-11-23T04:44:12.047Z"
   },
   {
    "duration": 91,
    "start_time": "2023-11-23T04:44:34.095Z"
   },
   {
    "duration": 8,
    "start_time": "2023-11-23T04:44:39.587Z"
   },
   {
    "duration": 6,
    "start_time": "2023-11-23T04:45:18.211Z"
   },
   {
    "duration": 99,
    "start_time": "2023-11-23T04:49:41.489Z"
   },
   {
    "duration": 84,
    "start_time": "2023-11-23T04:49:50.092Z"
   },
   {
    "duration": 100,
    "start_time": "2023-11-23T04:50:05.101Z"
   },
   {
    "duration": 1156,
    "start_time": "2023-11-23T04:50:12.837Z"
   },
   {
    "duration": 1185,
    "start_time": "2023-11-23T04:50:22.125Z"
   },
   {
    "duration": 15,
    "start_time": "2023-11-23T04:50:34.885Z"
   },
   {
    "duration": 14,
    "start_time": "2023-11-23T04:50:46.956Z"
   },
   {
    "duration": 10,
    "start_time": "2023-11-23T04:51:03.965Z"
   },
   {
    "duration": 9,
    "start_time": "2023-11-23T04:51:21.388Z"
   },
   {
    "duration": 14,
    "start_time": "2023-11-23T04:51:45.545Z"
   },
   {
    "duration": 12,
    "start_time": "2023-11-23T04:53:04.153Z"
   },
   {
    "duration": 10,
    "start_time": "2023-11-23T04:54:56.810Z"
   },
   {
    "duration": 1532,
    "start_time": "2023-11-23T04:57:57.139Z"
   },
   {
    "duration": 1528,
    "start_time": "2023-11-23T04:58:05.499Z"
   },
   {
    "duration": 541,
    "start_time": "2023-11-23T04:58:19.459Z"
   },
   {
    "duration": 6,
    "start_time": "2023-11-23T04:59:27.203Z"
   },
   {
    "duration": 1194,
    "start_time": "2023-11-23T05:00:02.979Z"
   },
   {
    "duration": 43,
    "start_time": "2023-11-23T05:00:04.175Z"
   },
   {
    "duration": 20,
    "start_time": "2023-11-23T05:00:04.220Z"
   },
   {
    "duration": 13,
    "start_time": "2023-11-23T05:00:04.242Z"
   },
   {
    "duration": 8,
    "start_time": "2023-11-23T05:00:04.257Z"
   },
   {
    "duration": 18,
    "start_time": "2023-11-23T05:00:04.266Z"
   },
   {
    "duration": 15,
    "start_time": "2023-11-23T05:00:04.286Z"
   },
   {
    "duration": 38,
    "start_time": "2023-11-23T05:00:04.303Z"
   },
   {
    "duration": 22,
    "start_time": "2023-11-23T05:00:04.343Z"
   },
   {
    "duration": 15,
    "start_time": "2023-11-23T05:00:04.367Z"
   },
   {
    "duration": 45,
    "start_time": "2023-11-23T05:00:04.383Z"
   },
   {
    "duration": 6,
    "start_time": "2023-11-23T05:00:04.430Z"
   },
   {
    "duration": 14,
    "start_time": "2023-11-23T05:00:04.437Z"
   },
   {
    "duration": 612,
    "start_time": "2023-11-23T05:00:04.453Z"
   },
   {
    "duration": 4,
    "start_time": "2023-11-23T05:00:05.067Z"
   },
   {
    "duration": 37,
    "start_time": "2023-11-23T05:00:05.072Z"
   },
   {
    "duration": 36,
    "start_time": "2023-11-23T05:00:05.110Z"
   },
   {
    "duration": 52,
    "start_time": "2023-11-23T05:00:05.147Z"
   },
   {
    "duration": 30,
    "start_time": "2023-11-23T05:00:05.200Z"
   },
   {
    "duration": 55,
    "start_time": "2023-11-23T05:00:05.232Z"
   },
   {
    "duration": 20,
    "start_time": "2023-11-23T05:00:05.289Z"
   },
   {
    "duration": 44,
    "start_time": "2023-11-23T05:00:05.311Z"
   },
   {
    "duration": 189,
    "start_time": "2023-11-23T05:00:05.356Z"
   },
   {
    "duration": 7,
    "start_time": "2023-11-23T05:00:05.546Z"
   },
   {
    "duration": 31,
    "start_time": "2023-11-23T05:00:05.554Z"
   },
   {
    "duration": 246,
    "start_time": "2023-11-23T05:00:05.586Z"
   },
   {
    "duration": 6,
    "start_time": "2023-11-23T05:00:05.834Z"
   },
   {
    "duration": 137,
    "start_time": "2023-11-23T05:00:05.843Z"
   },
   {
    "duration": 14,
    "start_time": "2023-11-23T05:00:05.981Z"
   },
   {
    "duration": 35,
    "start_time": "2023-11-23T05:00:05.997Z"
   },
   {
    "duration": 40,
    "start_time": "2023-11-23T05:00:06.034Z"
   },
   {
    "duration": 134,
    "start_time": "2023-11-23T05:00:06.075Z"
   },
   {
    "duration": 17,
    "start_time": "2023-11-23T05:00:06.211Z"
   },
   {
    "duration": 8,
    "start_time": "2023-11-23T05:00:06.230Z"
   },
   {
    "duration": 24,
    "start_time": "2023-11-23T05:00:06.240Z"
   },
   {
    "duration": 15,
    "start_time": "2023-11-23T05:00:06.265Z"
   },
   {
    "duration": 29,
    "start_time": "2023-11-23T05:00:06.282Z"
   },
   {
    "duration": 46,
    "start_time": "2023-11-23T05:00:06.313Z"
   },
   {
    "duration": 245,
    "start_time": "2023-11-23T05:00:06.361Z"
   },
   {
    "duration": 255,
    "start_time": "2023-11-23T05:00:06.608Z"
   },
   {
    "duration": 300,
    "start_time": "2023-11-23T05:00:06.864Z"
   },
   {
    "duration": 250,
    "start_time": "2023-11-23T05:00:07.166Z"
   },
   {
    "duration": 309,
    "start_time": "2023-11-23T05:00:07.418Z"
   },
   {
    "duration": 346,
    "start_time": "2023-11-23T05:00:07.729Z"
   },
   {
    "duration": 9,
    "start_time": "2023-11-23T05:00:08.077Z"
   },
   {
    "duration": 560,
    "start_time": "2023-11-23T05:00:08.088Z"
   },
   {
    "duration": 507,
    "start_time": "2023-11-23T05:00:08.650Z"
   },
   {
    "duration": 707,
    "start_time": "2023-11-23T05:00:09.159Z"
   },
   {
    "duration": 1664,
    "start_time": "2023-11-23T05:00:09.867Z"
   },
   {
    "duration": 13,
    "start_time": "2023-11-23T05:00:11.532Z"
   },
   {
    "duration": 20,
    "start_time": "2023-11-23T05:00:11.546Z"
   },
   {
    "duration": 11,
    "start_time": "2023-11-23T05:00:11.567Z"
   },
   {
    "duration": 286,
    "start_time": "2023-11-23T05:00:11.580Z"
   },
   {
    "duration": 3,
    "start_time": "2023-11-23T05:00:11.868Z"
   },
   {
    "duration": 21,
    "start_time": "2023-11-23T05:00:11.872Z"
   },
   {
    "duration": 12,
    "start_time": "2023-11-23T05:00:11.894Z"
   },
   {
    "duration": 22,
    "start_time": "2023-11-23T05:00:11.908Z"
   },
   {
    "duration": 6,
    "start_time": "2023-11-23T05:00:11.932Z"
   },
   {
    "duration": 14,
    "start_time": "2023-11-23T05:00:11.940Z"
   },
   {
    "duration": 7,
    "start_time": "2023-11-23T05:00:11.955Z"
   },
   {
    "duration": 10,
    "start_time": "2023-11-23T05:00:11.963Z"
   },
   {
    "duration": 20,
    "start_time": "2023-11-23T05:04:29.792Z"
   },
   {
    "duration": 14,
    "start_time": "2023-11-23T05:08:23.580Z"
   },
   {
    "duration": 114,
    "start_time": "2023-11-23T05:17:06.347Z"
   },
   {
    "duration": 100,
    "start_time": "2023-11-23T05:24:29.282Z"
   },
   {
    "duration": 97,
    "start_time": "2023-11-23T05:36:35.922Z"
   },
   {
    "duration": 89,
    "start_time": "2023-11-23T05:38:13.767Z"
   },
   {
    "duration": 302,
    "start_time": "2023-11-23T05:40:19.275Z"
   },
   {
    "duration": 287,
    "start_time": "2023-11-23T05:40:48.411Z"
   },
   {
    "duration": 108,
    "start_time": "2023-11-23T05:43:10.055Z"
   },
   {
    "duration": 119,
    "start_time": "2023-11-23T05:43:50.816Z"
   },
   {
    "duration": 352,
    "start_time": "2023-11-23T05:44:06.133Z"
   },
   {
    "duration": 93,
    "start_time": "2023-11-23T05:46:54.635Z"
   },
   {
    "duration": 304,
    "start_time": "2023-11-23T05:47:58.745Z"
   },
   {
    "duration": 104,
    "start_time": "2023-11-23T06:06:01.415Z"
   },
   {
    "duration": 1536,
    "start_time": "2023-11-23T06:09:18.987Z"
   },
   {
    "duration": 8,
    "start_time": "2023-11-23T06:09:38.251Z"
   },
   {
    "duration": 24,
    "start_time": "2023-11-23T06:09:58.167Z"
   },
   {
    "duration": 26,
    "start_time": "2023-11-23T06:13:31.340Z"
   },
   {
    "duration": 1390,
    "start_time": "2023-11-23T06:14:59.713Z"
   },
   {
    "duration": 1309,
    "start_time": "2023-11-23T06:15:09.801Z"
   },
   {
    "duration": 12,
    "start_time": "2023-11-23T06:15:16.421Z"
   },
   {
    "duration": 10,
    "start_time": "2023-11-23T06:19:17.914Z"
   },
   {
    "duration": 87,
    "start_time": "2023-11-23T06:19:29.490Z"
   },
   {
    "duration": 9,
    "start_time": "2023-11-23T06:19:32.174Z"
   },
   {
    "duration": 20,
    "start_time": "2023-11-23T06:25:37.852Z"
   },
   {
    "duration": 1840,
    "start_time": "2023-11-23T06:25:51.704Z"
   },
   {
    "duration": 23,
    "start_time": "2023-11-23T06:26:58.785Z"
   },
   {
    "duration": 81,
    "start_time": "2023-11-23T06:27:10.092Z"
   },
   {
    "duration": 21,
    "start_time": "2023-11-23T06:27:13.884Z"
   },
   {
    "duration": 25,
    "start_time": "2023-11-23T06:27:34.461Z"
   },
   {
    "duration": 26,
    "start_time": "2023-11-23T06:27:41.607Z"
   },
   {
    "duration": 38,
    "start_time": "2023-11-23T06:28:14.313Z"
   },
   {
    "duration": 22,
    "start_time": "2023-11-23T06:28:19.285Z"
   },
   {
    "duration": 20,
    "start_time": "2023-11-23T06:28:32.461Z"
   },
   {
    "duration": 15,
    "start_time": "2023-11-23T06:33:10.379Z"
   },
   {
    "duration": 108,
    "start_time": "2023-11-23T06:36:21.999Z"
   },
   {
    "duration": 358,
    "start_time": "2023-11-23T06:36:37.340Z"
   },
   {
    "duration": 793,
    "start_time": "2023-11-23T06:37:48.468Z"
   },
   {
    "duration": 618,
    "start_time": "2023-11-23T06:38:26.140Z"
   },
   {
    "duration": 623,
    "start_time": "2023-11-23T06:41:04.325Z"
   },
   {
    "duration": 758,
    "start_time": "2023-11-23T06:41:54.705Z"
   },
   {
    "duration": 13,
    "start_time": "2023-11-23T06:49:42.812Z"
   },
   {
    "duration": 21,
    "start_time": "2023-11-23T06:49:54.828Z"
   },
   {
    "duration": 23,
    "start_time": "2023-11-23T06:50:03.604Z"
   },
   {
    "duration": 466,
    "start_time": "2023-11-23T07:00:51.230Z"
   },
   {
    "duration": 615,
    "start_time": "2023-11-23T07:01:38.411Z"
   },
   {
    "duration": 43,
    "start_time": "2023-11-23T09:31:42.241Z"
   },
   {
    "duration": 1244,
    "start_time": "2023-11-23T09:31:50.601Z"
   },
   {
    "duration": 143,
    "start_time": "2023-11-23T09:31:51.847Z"
   },
   {
    "duration": 14,
    "start_time": "2023-11-23T09:31:51.991Z"
   },
   {
    "duration": 11,
    "start_time": "2023-11-23T09:31:52.007Z"
   },
   {
    "duration": 6,
    "start_time": "2023-11-23T09:31:52.019Z"
   },
   {
    "duration": 3,
    "start_time": "2023-11-23T09:31:52.026Z"
   },
   {
    "duration": 14,
    "start_time": "2023-11-23T09:31:52.030Z"
   },
   {
    "duration": 43,
    "start_time": "2023-11-23T09:31:52.046Z"
   },
   {
    "duration": 5,
    "start_time": "2023-11-23T09:31:52.091Z"
   },
   {
    "duration": 6,
    "start_time": "2023-11-23T09:31:52.098Z"
   },
   {
    "duration": 18,
    "start_time": "2023-11-23T09:31:52.105Z"
   },
   {
    "duration": 5,
    "start_time": "2023-11-23T09:31:52.124Z"
   },
   {
    "duration": 13,
    "start_time": "2023-11-23T09:31:52.130Z"
   },
   {
    "duration": 4,
    "start_time": "2023-11-23T09:31:52.144Z"
   },
   {
    "duration": 43,
    "start_time": "2023-11-23T09:31:52.149Z"
   },
   {
    "duration": 10,
    "start_time": "2023-11-23T09:31:52.194Z"
   },
   {
    "duration": 8,
    "start_time": "2023-11-23T09:31:52.206Z"
   },
   {
    "duration": 4,
    "start_time": "2023-11-23T09:31:52.215Z"
   },
   {
    "duration": 15,
    "start_time": "2023-11-23T09:31:52.220Z"
   },
   {
    "duration": 4,
    "start_time": "2023-11-23T09:31:52.236Z"
   },
   {
    "duration": 7,
    "start_time": "2023-11-23T09:31:52.242Z"
   },
   {
    "duration": 151,
    "start_time": "2023-11-23T09:31:52.250Z"
   },
   {
    "duration": 6,
    "start_time": "2023-11-23T09:31:52.402Z"
   },
   {
    "duration": 11,
    "start_time": "2023-11-23T09:31:52.410Z"
   },
   {
    "duration": 247,
    "start_time": "2023-11-23T09:31:52.422Z"
   },
   {
    "duration": 12,
    "start_time": "2023-11-23T09:31:52.670Z"
   },
   {
    "duration": 118,
    "start_time": "2023-11-23T09:31:52.683Z"
   },
   {
    "duration": 13,
    "start_time": "2023-11-23T09:31:52.804Z"
   },
   {
    "duration": 12,
    "start_time": "2023-11-23T09:31:52.818Z"
   },
   {
    "duration": 5,
    "start_time": "2023-11-23T09:31:52.831Z"
   },
   {
    "duration": 118,
    "start_time": "2023-11-23T09:31:52.837Z"
   },
   {
    "duration": 10,
    "start_time": "2023-11-23T09:31:52.956Z"
   },
   {
    "duration": 5,
    "start_time": "2023-11-23T09:31:52.967Z"
   },
   {
    "duration": 15,
    "start_time": "2023-11-23T09:31:52.973Z"
   },
   {
    "duration": 3,
    "start_time": "2023-11-23T09:31:52.990Z"
   },
   {
    "duration": 4,
    "start_time": "2023-11-23T09:31:52.994Z"
   },
   {
    "duration": 29,
    "start_time": "2023-11-23T09:31:52.999Z"
   },
   {
    "duration": 244,
    "start_time": "2023-11-23T09:31:53.029Z"
   },
   {
    "duration": 220,
    "start_time": "2023-11-23T09:31:53.274Z"
   },
   {
    "duration": 242,
    "start_time": "2023-11-23T09:31:53.495Z"
   },
   {
    "duration": 249,
    "start_time": "2023-11-23T09:31:53.738Z"
   },
   {
    "duration": 305,
    "start_time": "2023-11-23T09:31:53.988Z"
   },
   {
    "duration": 300,
    "start_time": "2023-11-23T09:31:54.295Z"
   },
   {
    "duration": 11,
    "start_time": "2023-11-23T09:31:54.597Z"
   },
   {
    "duration": 446,
    "start_time": "2023-11-23T09:31:54.609Z"
   },
   {
    "duration": 449,
    "start_time": "2023-11-23T09:31:55.056Z"
   },
   {
    "duration": 608,
    "start_time": "2023-11-23T09:31:55.506Z"
   },
   {
    "duration": 14,
    "start_time": "2023-11-23T09:31:56.115Z"
   },
   {
    "duration": 101,
    "start_time": "2023-11-23T09:31:56.130Z"
   },
   {
    "duration": 0,
    "start_time": "2023-11-23T09:31:56.232Z"
   },
   {
    "duration": 0,
    "start_time": "2023-11-23T09:31:56.233Z"
   },
   {
    "duration": 0,
    "start_time": "2023-11-23T09:31:56.234Z"
   },
   {
    "duration": 0,
    "start_time": "2023-11-23T09:31:56.236Z"
   },
   {
    "duration": 0,
    "start_time": "2023-11-23T09:31:56.237Z"
   },
   {
    "duration": 0,
    "start_time": "2023-11-23T09:31:56.238Z"
   },
   {
    "duration": 0,
    "start_time": "2023-11-23T09:31:56.239Z"
   },
   {
    "duration": 0,
    "start_time": "2023-11-23T09:31:56.240Z"
   },
   {
    "duration": 0,
    "start_time": "2023-11-23T09:31:56.241Z"
   },
   {
    "duration": 0,
    "start_time": "2023-11-23T09:31:56.242Z"
   },
   {
    "duration": 0,
    "start_time": "2023-11-23T09:31:56.243Z"
   },
   {
    "duration": 0,
    "start_time": "2023-11-23T09:31:56.244Z"
   },
   {
    "duration": 0,
    "start_time": "2023-11-23T09:31:56.245Z"
   },
   {
    "duration": 0,
    "start_time": "2023-11-23T09:31:56.246Z"
   },
   {
    "duration": 96,
    "start_time": "2023-11-23T09:32:09.474Z"
   },
   {
    "duration": 7,
    "start_time": "2023-11-23T09:32:24.555Z"
   },
   {
    "duration": 339,
    "start_time": "2023-11-23T09:32:27.090Z"
   },
   {
    "duration": 7,
    "start_time": "2023-11-23T09:43:36.994Z"
   },
   {
    "duration": 514,
    "start_time": "2023-11-23T09:49:22.665Z"
   },
   {
    "duration": 5,
    "start_time": "2023-11-23T09:49:52.223Z"
   },
   {
    "duration": 5,
    "start_time": "2023-11-23T09:50:42.613Z"
   },
   {
    "duration": 4,
    "start_time": "2023-11-23T09:52:09.123Z"
   },
   {
    "duration": 4,
    "start_time": "2023-11-23T09:52:11.101Z"
   },
   {
    "duration": 17,
    "start_time": "2023-11-23T10:07:18.083Z"
   },
   {
    "duration": 14,
    "start_time": "2023-11-23T10:12:22.089Z"
   },
   {
    "duration": 84,
    "start_time": "2023-11-23T10:17:02.177Z"
   },
   {
    "duration": 13,
    "start_time": "2023-11-23T10:17:20.530Z"
   },
   {
    "duration": 29,
    "start_time": "2023-11-23T10:17:55.874Z"
   },
   {
    "duration": 13,
    "start_time": "2023-11-23T10:18:12.330Z"
   },
   {
    "duration": 11,
    "start_time": "2023-11-23T10:18:37.889Z"
   },
   {
    "duration": 1559,
    "start_time": "2023-11-23T10:22:08.612Z"
   },
   {
    "duration": 4,
    "start_time": "2023-11-23T10:23:02.780Z"
   },
   {
    "duration": 4,
    "start_time": "2023-11-23T10:23:40.659Z"
   },
   {
    "duration": 5,
    "start_time": "2023-11-23T10:25:03.270Z"
   },
   {
    "duration": 6,
    "start_time": "2023-11-23T10:26:12.139Z"
   },
   {
    "duration": 315,
    "start_time": "2023-11-23T10:27:15.299Z"
   },
   {
    "duration": 4,
    "start_time": "2023-11-23T10:27:36.769Z"
   },
   {
    "duration": 12,
    "start_time": "2023-11-23T10:28:11.247Z"
   },
   {
    "duration": 456,
    "start_time": "2023-11-23T10:29:42.198Z"
   },
   {
    "duration": 13,
    "start_time": "2023-11-23T10:32:25.112Z"
   },
   {
    "duration": 12,
    "start_time": "2023-11-23T10:35:03.296Z"
   },
   {
    "duration": 10,
    "start_time": "2023-11-23T10:35:52.448Z"
   },
   {
    "duration": 1135,
    "start_time": "2023-11-23T10:44:12.062Z"
   },
   {
    "duration": 39,
    "start_time": "2023-11-23T10:44:13.199Z"
   },
   {
    "duration": 15,
    "start_time": "2023-11-23T10:44:13.241Z"
   },
   {
    "duration": 10,
    "start_time": "2023-11-23T10:44:13.257Z"
   },
   {
    "duration": 6,
    "start_time": "2023-11-23T10:44:13.268Z"
   },
   {
    "duration": 2,
    "start_time": "2023-11-23T10:44:13.276Z"
   },
   {
    "duration": 11,
    "start_time": "2023-11-23T10:44:13.282Z"
   },
   {
    "duration": 17,
    "start_time": "2023-11-23T10:44:13.295Z"
   },
   {
    "duration": 15,
    "start_time": "2023-11-23T10:44:13.314Z"
   },
   {
    "duration": 6,
    "start_time": "2023-11-23T10:44:13.330Z"
   },
   {
    "duration": 18,
    "start_time": "2023-11-23T10:44:13.337Z"
   },
   {
    "duration": 29,
    "start_time": "2023-11-23T10:44:13.356Z"
   },
   {
    "duration": 10,
    "start_time": "2023-11-23T10:44:13.386Z"
   },
   {
    "duration": 4,
    "start_time": "2023-11-23T10:44:13.398Z"
   },
   {
    "duration": 5,
    "start_time": "2023-11-23T10:44:13.404Z"
   },
   {
    "duration": 16,
    "start_time": "2023-11-23T10:44:13.410Z"
   },
   {
    "duration": 10,
    "start_time": "2023-11-23T10:44:13.428Z"
   },
   {
    "duration": 5,
    "start_time": "2023-11-23T10:44:13.440Z"
   },
   {
    "duration": 49,
    "start_time": "2023-11-23T10:44:13.446Z"
   },
   {
    "duration": 5,
    "start_time": "2023-11-23T10:44:13.497Z"
   },
   {
    "duration": 6,
    "start_time": "2023-11-23T10:44:13.504Z"
   },
   {
    "duration": 128,
    "start_time": "2023-11-23T10:44:13.511Z"
   },
   {
    "duration": 7,
    "start_time": "2023-11-23T10:44:13.640Z"
   },
   {
    "duration": 8,
    "start_time": "2023-11-23T10:44:13.649Z"
   },
   {
    "duration": 220,
    "start_time": "2023-11-23T10:44:13.658Z"
   },
   {
    "duration": 7,
    "start_time": "2023-11-23T10:44:13.882Z"
   },
   {
    "duration": 119,
    "start_time": "2023-11-23T10:44:13.893Z"
   },
   {
    "duration": 16,
    "start_time": "2023-11-23T10:44:14.014Z"
   },
   {
    "duration": 9,
    "start_time": "2023-11-23T10:44:14.031Z"
   },
   {
    "duration": 7,
    "start_time": "2023-11-23T10:44:14.042Z"
   },
   {
    "duration": 118,
    "start_time": "2023-11-23T10:44:14.051Z"
   },
   {
    "duration": 18,
    "start_time": "2023-11-23T10:44:14.171Z"
   },
   {
    "duration": 5,
    "start_time": "2023-11-23T10:44:14.191Z"
   },
   {
    "duration": 15,
    "start_time": "2023-11-23T10:44:14.198Z"
   },
   {
    "duration": 5,
    "start_time": "2023-11-23T10:44:14.214Z"
   },
   {
    "duration": 5,
    "start_time": "2023-11-23T10:44:14.220Z"
   },
   {
    "duration": 20,
    "start_time": "2023-11-23T10:44:14.226Z"
   },
   {
    "duration": 234,
    "start_time": "2023-11-23T10:44:14.248Z"
   },
   {
    "duration": 218,
    "start_time": "2023-11-23T10:44:14.483Z"
   },
   {
    "duration": 257,
    "start_time": "2023-11-23T10:44:14.702Z"
   },
   {
    "duration": 262,
    "start_time": "2023-11-23T10:44:14.960Z"
   },
   {
    "duration": 313,
    "start_time": "2023-11-23T10:44:15.223Z"
   },
   {
    "duration": 288,
    "start_time": "2023-11-23T10:44:15.538Z"
   },
   {
    "duration": 9,
    "start_time": "2023-11-23T10:44:15.828Z"
   },
   {
    "duration": 445,
    "start_time": "2023-11-23T10:44:15.838Z"
   },
   {
    "duration": 448,
    "start_time": "2023-11-23T10:44:16.284Z"
   },
   {
    "duration": 602,
    "start_time": "2023-11-23T10:44:16.733Z"
   },
   {
    "duration": 13,
    "start_time": "2023-11-23T10:44:17.337Z"
   },
   {
    "duration": 482,
    "start_time": "2023-11-23T10:44:17.351Z"
   },
   {
    "duration": 4,
    "start_time": "2023-11-23T10:44:17.835Z"
   },
   {
    "duration": 33,
    "start_time": "2023-11-23T10:44:17.841Z"
   },
   {
    "duration": 307,
    "start_time": "2023-11-23T10:44:17.875Z"
   },
   {
    "duration": 4,
    "start_time": "2023-11-23T10:44:18.183Z"
   },
   {
    "duration": 12,
    "start_time": "2023-11-23T10:44:18.188Z"
   },
   {
    "duration": 6,
    "start_time": "2023-11-23T10:44:18.201Z"
   },
   {
    "duration": 244,
    "start_time": "2023-11-23T10:44:18.209Z"
   },
   {
    "duration": 3,
    "start_time": "2023-11-23T10:44:18.454Z"
   },
   {
    "duration": 32,
    "start_time": "2023-11-23T10:44:18.458Z"
   },
   {
    "duration": 6,
    "start_time": "2023-11-23T10:44:18.491Z"
   },
   {
    "duration": 9,
    "start_time": "2023-11-23T10:44:18.498Z"
   },
   {
    "duration": 6,
    "start_time": "2023-11-23T10:44:18.508Z"
   },
   {
    "duration": 9,
    "start_time": "2023-11-23T10:44:18.516Z"
   },
   {
    "duration": 5,
    "start_time": "2023-11-23T10:44:18.526Z"
   },
   {
    "duration": 8,
    "start_time": "2023-11-23T10:44:18.533Z"
   },
   {
    "duration": 18,
    "start_time": "2023-11-23T11:02:18.378Z"
   },
   {
    "duration": 154,
    "start_time": "2023-11-23T11:03:53.478Z"
   },
   {
    "duration": 70,
    "start_time": "2023-11-23T11:04:29.086Z"
   },
   {
    "duration": 113,
    "start_time": "2023-11-23T11:04:35.724Z"
   },
   {
    "duration": 209,
    "start_time": "2023-11-23T11:05:09.796Z"
   },
   {
    "duration": 119,
    "start_time": "2023-11-23T11:05:27.539Z"
   },
   {
    "duration": 118,
    "start_time": "2023-11-23T11:06:23.747Z"
   },
   {
    "duration": 117,
    "start_time": "2023-11-23T11:06:34.010Z"
   },
   {
    "duration": 99,
    "start_time": "2023-11-23T11:06:41.569Z"
   },
   {
    "duration": 107,
    "start_time": "2023-11-23T11:09:48.405Z"
   },
   {
    "duration": 109,
    "start_time": "2023-11-23T11:09:53.261Z"
   },
   {
    "duration": 108,
    "start_time": "2023-11-23T11:10:53.963Z"
   },
   {
    "duration": 109,
    "start_time": "2023-11-23T11:11:40.498Z"
   },
   {
    "duration": 112,
    "start_time": "2023-11-23T11:12:42.872Z"
   },
   {
    "duration": 6,
    "start_time": "2023-11-23T11:13:10.477Z"
   },
   {
    "duration": 10,
    "start_time": "2023-11-23T11:15:00.452Z"
   },
   {
    "duration": 415,
    "start_time": "2023-11-23T11:15:15.499Z"
   },
   {
    "duration": 6,
    "start_time": "2023-11-23T11:15:20.628Z"
   },
   {
    "duration": 9,
    "start_time": "2023-11-23T11:15:51.824Z"
   },
   {
    "duration": 8,
    "start_time": "2023-11-23T11:16:11.432Z"
   },
   {
    "duration": 6,
    "start_time": "2023-11-23T11:22:54.095Z"
   },
   {
    "duration": 9,
    "start_time": "2023-11-23T11:22:57.493Z"
   },
   {
    "duration": 116,
    "start_time": "2023-11-23T11:23:03.248Z"
   },
   {
    "duration": 6,
    "start_time": "2023-11-23T11:23:51.226Z"
   },
   {
    "duration": 9,
    "start_time": "2023-11-23T11:23:54.570Z"
   },
   {
    "duration": 104,
    "start_time": "2023-11-23T11:23:57.734Z"
   },
   {
    "duration": 7,
    "start_time": "2023-11-23T11:25:24.592Z"
   },
   {
    "duration": 9,
    "start_time": "2023-11-23T11:25:27.294Z"
   },
   {
    "duration": 124,
    "start_time": "2023-11-23T11:25:30.592Z"
   },
   {
    "duration": 7,
    "start_time": "2023-11-23T11:26:23.192Z"
   },
   {
    "duration": 14,
    "start_time": "2023-11-23T11:26:25.703Z"
   },
   {
    "duration": 83,
    "start_time": "2023-11-23T11:26:49.697Z"
   },
   {
    "duration": 6,
    "start_time": "2023-11-23T11:27:03.415Z"
   },
   {
    "duration": 11,
    "start_time": "2023-11-23T11:27:06.493Z"
   },
   {
    "duration": 114,
    "start_time": "2023-11-23T11:27:11.343Z"
   },
   {
    "duration": 6,
    "start_time": "2023-11-23T11:27:50.111Z"
   },
   {
    "duration": 9,
    "start_time": "2023-11-23T11:27:53.423Z"
   },
   {
    "duration": 127,
    "start_time": "2023-11-23T11:27:57.904Z"
   },
   {
    "duration": 18,
    "start_time": "2023-11-23T11:28:19.319Z"
   },
   {
    "duration": 11,
    "start_time": "2023-11-23T11:30:08.776Z"
   },
   {
    "duration": 1085,
    "start_time": "2023-11-23T11:30:16.415Z"
   },
   {
    "duration": 38,
    "start_time": "2023-11-23T11:30:17.502Z"
   },
   {
    "duration": 14,
    "start_time": "2023-11-23T11:30:17.542Z"
   },
   {
    "duration": 10,
    "start_time": "2023-11-23T11:30:17.558Z"
   },
   {
    "duration": 5,
    "start_time": "2023-11-23T11:30:17.569Z"
   },
   {
    "duration": 11,
    "start_time": "2023-11-23T11:30:17.576Z"
   },
   {
    "duration": 16,
    "start_time": "2023-11-23T11:30:17.588Z"
   },
   {
    "duration": 18,
    "start_time": "2023-11-23T11:30:17.605Z"
   },
   {
    "duration": 5,
    "start_time": "2023-11-23T11:30:17.624Z"
   },
   {
    "duration": 6,
    "start_time": "2023-11-23T11:30:17.632Z"
   },
   {
    "duration": 52,
    "start_time": "2023-11-23T11:30:17.639Z"
   },
   {
    "duration": 6,
    "start_time": "2023-11-23T11:30:17.692Z"
   },
   {
    "duration": 27,
    "start_time": "2023-11-23T11:30:17.699Z"
   },
   {
    "duration": 4,
    "start_time": "2023-11-23T11:30:17.728Z"
   },
   {
    "duration": 4,
    "start_time": "2023-11-23T11:30:17.733Z"
   },
   {
    "duration": 12,
    "start_time": "2023-11-23T11:30:17.738Z"
   },
   {
    "duration": 8,
    "start_time": "2023-11-23T11:30:17.751Z"
   },
   {
    "duration": 4,
    "start_time": "2023-11-23T11:30:17.761Z"
   },
   {
    "duration": 33,
    "start_time": "2023-11-23T11:30:17.767Z"
   },
   {
    "duration": 5,
    "start_time": "2023-11-23T11:30:17.801Z"
   },
   {
    "duration": 5,
    "start_time": "2023-11-23T11:30:17.807Z"
   },
   {
    "duration": 127,
    "start_time": "2023-11-23T11:30:17.813Z"
   },
   {
    "duration": 6,
    "start_time": "2023-11-23T11:30:17.942Z"
   },
   {
    "duration": 5,
    "start_time": "2023-11-23T11:30:17.949Z"
   },
   {
    "duration": 223,
    "start_time": "2023-11-23T11:30:17.955Z"
   },
   {
    "duration": 17,
    "start_time": "2023-11-23T11:30:18.179Z"
   },
   {
    "duration": 108,
    "start_time": "2023-11-23T11:30:18.198Z"
   },
   {
    "duration": 12,
    "start_time": "2023-11-23T11:30:18.310Z"
   },
   {
    "duration": 6,
    "start_time": "2023-11-23T11:30:18.323Z"
   },
   {
    "duration": 4,
    "start_time": "2023-11-23T11:30:18.330Z"
   },
   {
    "duration": 122,
    "start_time": "2023-11-23T11:30:18.335Z"
   },
   {
    "duration": 9,
    "start_time": "2023-11-23T11:30:18.458Z"
   },
   {
    "duration": 19,
    "start_time": "2023-11-23T11:30:18.468Z"
   },
   {
    "duration": 12,
    "start_time": "2023-11-23T11:30:18.490Z"
   },
   {
    "duration": 8,
    "start_time": "2023-11-23T11:30:18.504Z"
   },
   {
    "duration": 7,
    "start_time": "2023-11-23T11:30:18.513Z"
   },
   {
    "duration": 26,
    "start_time": "2023-11-23T11:30:18.521Z"
   },
   {
    "duration": 209,
    "start_time": "2023-11-23T11:30:18.548Z"
   },
   {
    "duration": 218,
    "start_time": "2023-11-23T11:30:18.759Z"
   },
   {
    "duration": 260,
    "start_time": "2023-11-23T11:30:18.981Z"
   },
   {
    "duration": 264,
    "start_time": "2023-11-23T11:30:19.243Z"
   },
   {
    "duration": 318,
    "start_time": "2023-11-23T11:30:19.509Z"
   },
   {
    "duration": 315,
    "start_time": "2023-11-23T11:30:19.828Z"
   },
   {
    "duration": 8,
    "start_time": "2023-11-23T11:30:20.145Z"
   },
   {
    "duration": 466,
    "start_time": "2023-11-23T11:30:20.154Z"
   },
   {
    "duration": 469,
    "start_time": "2023-11-23T11:30:20.621Z"
   },
   {
    "duration": 628,
    "start_time": "2023-11-23T11:30:21.096Z"
   },
   {
    "duration": 14,
    "start_time": "2023-11-23T11:30:21.725Z"
   },
   {
    "duration": 515,
    "start_time": "2023-11-23T11:30:21.740Z"
   },
   {
    "duration": 4,
    "start_time": "2023-11-23T11:30:22.256Z"
   },
   {
    "duration": 33,
    "start_time": "2023-11-23T11:30:22.261Z"
   },
   {
    "duration": 336,
    "start_time": "2023-11-23T11:30:22.296Z"
   },
   {
    "duration": 4,
    "start_time": "2023-11-23T11:30:22.633Z"
   },
   {
    "duration": 21,
    "start_time": "2023-11-23T11:30:22.639Z"
   },
   {
    "duration": 7,
    "start_time": "2023-11-23T11:30:22.661Z"
   },
   {
    "duration": 277,
    "start_time": "2023-11-23T11:30:22.669Z"
   },
   {
    "duration": 2,
    "start_time": "2023-11-23T11:30:22.948Z"
   },
   {
    "duration": 7,
    "start_time": "2023-11-23T11:30:22.951Z"
   },
   {
    "duration": 23,
    "start_time": "2023-11-23T11:30:22.959Z"
   },
   {
    "duration": 10,
    "start_time": "2023-11-23T11:30:22.984Z"
   },
   {
    "duration": 133,
    "start_time": "2023-11-23T11:30:22.996Z"
   },
   {
    "duration": 6,
    "start_time": "2023-11-23T11:30:23.131Z"
   },
   {
    "duration": 29,
    "start_time": "2023-11-23T11:30:23.138Z"
   },
   {
    "duration": 129,
    "start_time": "2023-11-23T11:30:23.169Z"
   },
   {
    "duration": 5,
    "start_time": "2023-11-23T11:30:23.300Z"
   },
   {
    "duration": 10,
    "start_time": "2023-11-23T11:30:23.307Z"
   },
   {
    "duration": 17,
    "start_time": "2023-11-23T11:30:23.318Z"
   },
   {
    "duration": 143,
    "start_time": "2023-11-23T11:30:23.336Z"
   },
   {
    "duration": 187,
    "start_time": "2023-11-23T11:30:23.480Z"
   },
   {
    "duration": 7,
    "start_time": "2023-11-23T11:38:16.317Z"
   },
   {
    "duration": 9,
    "start_time": "2023-11-23T11:38:18.741Z"
   },
   {
    "duration": 208,
    "start_time": "2023-11-23T11:38:21.757Z"
   },
   {
    "duration": 51,
    "start_time": "2023-11-24T04:38:23.501Z"
   },
   {
    "duration": 1330,
    "start_time": "2023-11-24T04:38:31.461Z"
   },
   {
    "duration": 155,
    "start_time": "2023-11-24T04:38:32.793Z"
   },
   {
    "duration": 17,
    "start_time": "2023-11-24T04:38:32.950Z"
   },
   {
    "duration": 13,
    "start_time": "2023-11-24T04:38:32.969Z"
   },
   {
    "duration": 7,
    "start_time": "2023-11-24T04:38:32.983Z"
   },
   {
    "duration": 3,
    "start_time": "2023-11-24T04:38:32.992Z"
   },
   {
    "duration": 16,
    "start_time": "2023-11-24T04:38:32.997Z"
   },
   {
    "duration": 17,
    "start_time": "2023-11-24T04:38:33.015Z"
   },
   {
    "duration": 4,
    "start_time": "2023-11-24T04:38:33.033Z"
   },
   {
    "duration": 13,
    "start_time": "2023-11-24T04:38:33.039Z"
   },
   {
    "duration": 19,
    "start_time": "2023-11-24T04:38:33.053Z"
   },
   {
    "duration": 5,
    "start_time": "2023-11-24T04:38:33.074Z"
   },
   {
    "duration": 39,
    "start_time": "2023-11-24T04:38:33.081Z"
   },
   {
    "duration": 5,
    "start_time": "2023-11-24T04:38:33.122Z"
   },
   {
    "duration": 5,
    "start_time": "2023-11-24T04:38:33.128Z"
   },
   {
    "duration": 11,
    "start_time": "2023-11-24T04:38:33.134Z"
   },
   {
    "duration": 9,
    "start_time": "2023-11-24T04:38:33.146Z"
   },
   {
    "duration": 5,
    "start_time": "2023-11-24T04:38:33.156Z"
   },
   {
    "duration": 53,
    "start_time": "2023-11-24T04:38:33.163Z"
   },
   {
    "duration": 5,
    "start_time": "2023-11-24T04:38:33.218Z"
   },
   {
    "duration": 6,
    "start_time": "2023-11-24T04:38:33.224Z"
   },
   {
    "duration": 137,
    "start_time": "2023-11-24T04:38:33.232Z"
   },
   {
    "duration": 6,
    "start_time": "2023-11-24T04:38:33.370Z"
   },
   {
    "duration": 5,
    "start_time": "2023-11-24T04:38:33.378Z"
   },
   {
    "duration": 230,
    "start_time": "2023-11-24T04:38:33.384Z"
   },
   {
    "duration": 8,
    "start_time": "2023-11-24T04:38:33.620Z"
   },
   {
    "duration": 126,
    "start_time": "2023-11-24T04:38:33.630Z"
   },
   {
    "duration": 19,
    "start_time": "2023-11-24T04:38:33.760Z"
   },
   {
    "duration": 7,
    "start_time": "2023-11-24T04:38:33.781Z"
   },
   {
    "duration": 5,
    "start_time": "2023-11-24T04:38:33.812Z"
   },
   {
    "duration": 119,
    "start_time": "2023-11-24T04:38:33.818Z"
   },
   {
    "duration": 9,
    "start_time": "2023-11-24T04:38:33.938Z"
   },
   {
    "duration": 13,
    "start_time": "2023-11-24T04:38:33.948Z"
   },
   {
    "duration": 17,
    "start_time": "2023-11-24T04:38:33.963Z"
   },
   {
    "duration": 4,
    "start_time": "2023-11-24T04:38:33.982Z"
   },
   {
    "duration": 10,
    "start_time": "2023-11-24T04:38:33.987Z"
   },
   {
    "duration": 35,
    "start_time": "2023-11-24T04:38:33.998Z"
   },
   {
    "duration": 231,
    "start_time": "2023-11-24T04:38:34.035Z"
   },
   {
    "duration": 232,
    "start_time": "2023-11-24T04:38:34.268Z"
   },
   {
    "duration": 258,
    "start_time": "2023-11-24T04:38:34.501Z"
   },
   {
    "duration": 270,
    "start_time": "2023-11-24T04:38:34.761Z"
   },
   {
    "duration": 344,
    "start_time": "2023-11-24T04:38:35.032Z"
   },
   {
    "duration": 315,
    "start_time": "2023-11-24T04:38:35.378Z"
   },
   {
    "duration": 17,
    "start_time": "2023-11-24T04:38:35.694Z"
   },
   {
    "duration": 475,
    "start_time": "2023-11-24T04:38:35.712Z"
   },
   {
    "duration": 479,
    "start_time": "2023-11-24T04:38:36.189Z"
   },
   {
    "duration": 660,
    "start_time": "2023-11-24T04:38:36.669Z"
   },
   {
    "duration": 15,
    "start_time": "2023-11-24T04:38:37.330Z"
   },
   {
    "duration": 543,
    "start_time": "2023-11-24T04:38:37.346Z"
   },
   {
    "duration": 4,
    "start_time": "2023-11-24T04:38:37.890Z"
   },
   {
    "duration": 24,
    "start_time": "2023-11-24T04:38:37.896Z"
   },
   {
    "duration": 363,
    "start_time": "2023-11-24T04:38:37.921Z"
   },
   {
    "duration": 4,
    "start_time": "2023-11-24T04:38:38.286Z"
   },
   {
    "duration": 25,
    "start_time": "2023-11-24T04:38:38.291Z"
   },
   {
    "duration": 7,
    "start_time": "2023-11-24T04:38:38.317Z"
   },
   {
    "duration": 340,
    "start_time": "2023-11-24T04:38:38.326Z"
   },
   {
    "duration": 3,
    "start_time": "2023-11-24T04:38:38.668Z"
   },
   {
    "duration": 6,
    "start_time": "2023-11-24T04:38:38.672Z"
   },
   {
    "duration": 6,
    "start_time": "2023-11-24T04:38:38.680Z"
   },
   {
    "duration": 27,
    "start_time": "2023-11-24T04:38:38.688Z"
   },
   {
    "duration": 127,
    "start_time": "2023-11-24T04:38:38.717Z"
   },
   {
    "duration": 7,
    "start_time": "2023-11-24T04:38:38.846Z"
   },
   {
    "duration": 17,
    "start_time": "2023-11-24T04:38:38.855Z"
   },
   {
    "duration": 143,
    "start_time": "2023-11-24T04:38:38.873Z"
   },
   {
    "duration": 7,
    "start_time": "2023-11-24T04:38:39.018Z"
   },
   {
    "duration": 9,
    "start_time": "2023-11-24T04:38:39.026Z"
   },
   {
    "duration": 259,
    "start_time": "2023-11-24T04:38:39.037Z"
   },
   {
    "duration": 1174,
    "start_time": "2023-11-24T15:18:16.742Z"
   },
   {
    "duration": 76,
    "start_time": "2023-11-24T15:18:17.918Z"
   },
   {
    "duration": 17,
    "start_time": "2023-11-24T15:18:17.995Z"
   },
   {
    "duration": 29,
    "start_time": "2023-11-24T15:18:18.014Z"
   },
   {
    "duration": 7,
    "start_time": "2023-11-24T15:18:18.044Z"
   },
   {
    "duration": 16,
    "start_time": "2023-11-24T15:18:18.052Z"
   },
   {
    "duration": 25,
    "start_time": "2023-11-24T15:18:18.069Z"
   },
   {
    "duration": 25,
    "start_time": "2023-11-24T15:18:18.096Z"
   },
   {
    "duration": 9,
    "start_time": "2023-11-24T15:18:18.123Z"
   },
   {
    "duration": 18,
    "start_time": "2023-11-24T15:18:18.135Z"
   },
   {
    "duration": 25,
    "start_time": "2023-11-24T15:18:18.155Z"
   },
   {
    "duration": 7,
    "start_time": "2023-11-24T15:18:18.182Z"
   },
   {
    "duration": 17,
    "start_time": "2023-11-24T15:18:18.190Z"
   },
   {
    "duration": 27,
    "start_time": "2023-11-24T15:18:18.208Z"
   },
   {
    "duration": 6,
    "start_time": "2023-11-24T15:18:18.236Z"
   },
   {
    "duration": 12,
    "start_time": "2023-11-24T15:18:18.244Z"
   },
   {
    "duration": 19,
    "start_time": "2023-11-24T15:18:18.258Z"
   },
   {
    "duration": 6,
    "start_time": "2023-11-24T15:18:18.278Z"
   },
   {
    "duration": 27,
    "start_time": "2023-11-24T15:18:18.286Z"
   },
   {
    "duration": 5,
    "start_time": "2023-11-24T15:18:18.315Z"
   },
   {
    "duration": 32,
    "start_time": "2023-11-24T15:18:18.322Z"
   },
   {
    "duration": 125,
    "start_time": "2023-11-24T15:18:18.355Z"
   },
   {
    "duration": 7,
    "start_time": "2023-11-24T15:18:18.482Z"
   },
   {
    "duration": 17,
    "start_time": "2023-11-24T15:18:18.491Z"
   },
   {
    "duration": 228,
    "start_time": "2023-11-24T15:18:18.510Z"
   },
   {
    "duration": 5,
    "start_time": "2023-11-24T15:18:18.741Z"
   },
   {
    "duration": 126,
    "start_time": "2023-11-24T15:18:18.748Z"
   },
   {
    "duration": 13,
    "start_time": "2023-11-24T15:18:18.879Z"
   },
   {
    "duration": 15,
    "start_time": "2023-11-24T15:18:18.894Z"
   },
   {
    "duration": 17,
    "start_time": "2023-11-24T15:18:18.911Z"
   },
   {
    "duration": 148,
    "start_time": "2023-11-24T15:18:18.930Z"
   },
   {
    "duration": 10,
    "start_time": "2023-11-24T15:18:19.080Z"
   },
   {
    "duration": 30,
    "start_time": "2023-11-24T15:18:19.092Z"
   },
   {
    "duration": 19,
    "start_time": "2023-11-24T15:18:19.124Z"
   },
   {
    "duration": 6,
    "start_time": "2023-11-24T15:18:19.145Z"
   },
   {
    "duration": 4,
    "start_time": "2023-11-24T15:18:19.153Z"
   },
   {
    "duration": 21,
    "start_time": "2023-11-24T15:18:19.159Z"
   },
   {
    "duration": 227,
    "start_time": "2023-11-24T15:18:19.182Z"
   },
   {
    "duration": 236,
    "start_time": "2023-11-24T15:18:19.410Z"
   },
   {
    "duration": 258,
    "start_time": "2023-11-24T15:18:19.647Z"
   },
   {
    "duration": 276,
    "start_time": "2023-11-24T15:18:19.907Z"
   },
   {
    "duration": 342,
    "start_time": "2023-11-24T15:18:20.185Z"
   },
   {
    "duration": 317,
    "start_time": "2023-11-24T15:18:20.528Z"
   },
   {
    "duration": 8,
    "start_time": "2023-11-24T15:18:20.847Z"
   },
   {
    "duration": 468,
    "start_time": "2023-11-24T15:18:20.856Z"
   },
   {
    "duration": 484,
    "start_time": "2023-11-24T15:18:21.326Z"
   },
   {
    "duration": 646,
    "start_time": "2023-11-24T15:18:21.811Z"
   },
   {
    "duration": 24,
    "start_time": "2023-11-24T15:18:22.458Z"
   },
   {
    "duration": 529,
    "start_time": "2023-11-24T15:18:22.483Z"
   },
   {
    "duration": 5,
    "start_time": "2023-11-24T15:18:23.013Z"
   },
   {
    "duration": 16,
    "start_time": "2023-11-24T15:18:23.019Z"
   },
   {
    "duration": 347,
    "start_time": "2023-11-24T15:18:23.037Z"
   },
   {
    "duration": 5,
    "start_time": "2023-11-24T15:18:23.386Z"
   },
   {
    "duration": 13,
    "start_time": "2023-11-24T15:18:23.392Z"
   },
   {
    "duration": 8,
    "start_time": "2023-11-24T15:18:23.407Z"
   },
   {
    "duration": 335,
    "start_time": "2023-11-24T15:18:23.416Z"
   },
   {
    "duration": 3,
    "start_time": "2023-11-24T15:18:23.753Z"
   },
   {
    "duration": 19,
    "start_time": "2023-11-24T15:18:23.757Z"
   },
   {
    "duration": 7,
    "start_time": "2023-11-24T15:18:23.777Z"
   },
   {
    "duration": 12,
    "start_time": "2023-11-24T15:18:23.786Z"
   },
   {
    "duration": 141,
    "start_time": "2023-11-24T15:18:23.800Z"
   },
   {
    "duration": 11,
    "start_time": "2023-11-24T15:18:23.943Z"
   },
   {
    "duration": 23,
    "start_time": "2023-11-24T15:18:23.956Z"
   },
   {
    "duration": 138,
    "start_time": "2023-11-24T15:18:23.980Z"
   },
   {
    "duration": 7,
    "start_time": "2023-11-24T15:18:24.120Z"
   },
   {
    "duration": 13,
    "start_time": "2023-11-24T15:18:24.128Z"
   },
   {
    "duration": 223,
    "start_time": "2023-11-24T15:18:24.142Z"
   }
  ],
  "kernelspec": {
   "display_name": "Python 3 (ipykernel)",
   "language": "python",
   "name": "python3"
  },
  "language_info": {
   "codemirror_mode": {
    "name": "ipython",
    "version": 3
   },
   "file_extension": ".py",
   "mimetype": "text/x-python",
   "name": "python",
   "nbconvert_exporter": "python",
   "pygments_lexer": "ipython3",
   "version": "3.9.5"
  },
  "toc": {
   "base_numbering": 1,
   "nav_menu": {},
   "number_sections": true,
   "sideBar": true,
   "skip_h1_title": true,
   "title_cell": "Table of Contents",
   "title_sidebar": "Contents",
   "toc_cell": false,
   "toc_position": {},
   "toc_section_display": true,
   "toc_window_display": false
  }
 },
 "nbformat": 4,
 "nbformat_minor": 2
}
